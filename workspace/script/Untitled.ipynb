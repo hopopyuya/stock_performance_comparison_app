{
 "cells": [
  {
   "cell_type": "code",
   "execution_count": 3,
   "id": "4afee236-8627-4f32-9ba5-267cd41c6d83",
   "metadata": {},
   "outputs": [],
   "source": [
    "import pandas as pd\n",
    "STOCK_MAPPING_CSV = '../stock_code_name_mapping.csv'\n",
    "stock_names_df = pd.read_csv(STOCK_MAPPING_CSV, usecols=['code', 'name'])"
   ]
  },
  {
   "cell_type": "code",
   "execution_count": 14,
   "id": "3fb380cf-2fce-4725-84e8-85293c5db318",
   "metadata": {},
   "outputs": [
    {
     "data": {
      "text/html": [
       "<div>\n",
       "<style scoped>\n",
       "    .dataframe tbody tr th:only-of-type {\n",
       "        vertical-align: middle;\n",
       "    }\n",
       "\n",
       "    .dataframe tbody tr th {\n",
       "        vertical-align: top;\n",
       "    }\n",
       "\n",
       "    .dataframe thead th {\n",
       "        text-align: right;\n",
       "    }\n",
       "</style>\n",
       "<table border=\"1\" class=\"dataframe\">\n",
       "  <thead>\n",
       "    <tr style=\"text-align: right;\">\n",
       "      <th></th>\n",
       "      <th>code</th>\n",
       "      <th>name</th>\n",
       "    </tr>\n",
       "  </thead>\n",
       "  <tbody>\n",
       "    <tr>\n",
       "      <th>998</th>\n",
       "      <td>6804</td>\n",
       "      <td>ホシデン</td>\n",
       "    </tr>\n",
       "  </tbody>\n",
       "</table>\n",
       "</div>"
      ],
      "text/plain": [
       "     code  name\n",
       "998  6804  ホシデン"
      ]
     },
     "execution_count": 14,
     "metadata": {},
     "output_type": "execute_result"
    }
   ],
   "source": [
    "stock_names_df[stock_names_df['code']==6804]"
   ]
  },
  {
   "cell_type": "code",
   "execution_count": 10,
   "id": "4eddd260-e8c6-4212-80e9-db07ba45a6ce",
   "metadata": {},
   "outputs": [
    {
     "data": {
      "text/html": [
       "<div>\n",
       "<style scoped>\n",
       "    .dataframe tbody tr th:only-of-type {\n",
       "        vertical-align: middle;\n",
       "    }\n",
       "\n",
       "    .dataframe tbody tr th {\n",
       "        vertical-align: top;\n",
       "    }\n",
       "\n",
       "    .dataframe thead th {\n",
       "        text-align: right;\n",
       "    }\n",
       "</style>\n",
       "<table border=\"1\" class=\"dataframe\">\n",
       "  <thead>\n",
       "    <tr style=\"text-align: right;\">\n",
       "      <th></th>\n",
       "      <th>code</th>\n",
       "      <th>name</th>\n",
       "    </tr>\n",
       "  </thead>\n",
       "  <tbody>\n",
       "    <tr>\n",
       "      <th>1000</th>\n",
       "      <td>6203</td>\n",
       "      <td>豊和工</td>\n",
       "    </tr>\n",
       "    <tr>\n",
       "      <th>1001</th>\n",
       "      <td>1951</td>\n",
       "      <td>協エクシオ</td>\n",
       "    </tr>\n",
       "    <tr>\n",
       "      <th>1002</th>\n",
       "      <td>8938</td>\n",
       "      <td>J-LCHD</td>\n",
       "    </tr>\n",
       "    <tr>\n",
       "      <th>1003</th>\n",
       "      <td>2812</td>\n",
       "      <td>焼津水</td>\n",
       "    </tr>\n",
       "    <tr>\n",
       "      <th>1004</th>\n",
       "      <td>8563</td>\n",
       "      <td>大東銀</td>\n",
       "    </tr>\n",
       "    <tr>\n",
       "      <th>...</th>\n",
       "      <td>...</td>\n",
       "      <td>...</td>\n",
       "    </tr>\n",
       "    <tr>\n",
       "      <th>4057</th>\n",
       "      <td>1641</td>\n",
       "      <td>ダイワ機械</td>\n",
       "    </tr>\n",
       "    <tr>\n",
       "      <th>4058</th>\n",
       "      <td>3863</td>\n",
       "      <td>日本紙</td>\n",
       "    </tr>\n",
       "    <tr>\n",
       "      <th>4059</th>\n",
       "      <td>9603</td>\n",
       "      <td>H.I.S.</td>\n",
       "    </tr>\n",
       "    <tr>\n",
       "      <th>4060</th>\n",
       "      <td>9888</td>\n",
       "      <td>J-UEX</td>\n",
       "    </tr>\n",
       "    <tr>\n",
       "      <th>4061</th>\n",
       "      <td>3199</td>\n",
       "      <td>綿半ホールディングス</td>\n",
       "    </tr>\n",
       "  </tbody>\n",
       "</table>\n",
       "<p>3062 rows × 2 columns</p>\n",
       "</div>"
      ],
      "text/plain": [
       "      code        name\n",
       "1000  6203         豊和工\n",
       "1001  1951       協エクシオ\n",
       "1002  8938      J-LCHD\n",
       "1003  2812         焼津水\n",
       "1004  8563         大東銀\n",
       "...    ...         ...\n",
       "4057  1641       ダイワ機械\n",
       "4058  3863         日本紙\n",
       "4059  9603      H.I.S.\n",
       "4060  9888       J-UEX\n",
       "4061  3199  綿半ホールディングス\n",
       "\n",
       "[3062 rows x 2 columns]"
      ]
     },
     "execution_count": 10,
     "metadata": {},
     "output_type": "execute_result"
    }
   ],
   "source": [
    "stock_names_df.loc[(stock_names_df.index >= 1000)]"
   ]
  },
  {
   "cell_type": "code",
   "execution_count": null,
   "id": "427b2662-8706-4560-a894-93bced3c2f29",
   "metadata": {},
   "outputs": [],
   "source": []
  }
 ],
 "metadata": {
  "kernelspec": {
   "display_name": "Python 3 (ipykernel)",
   "language": "python",
   "name": "python3"
  },
  "language_info": {
   "codemirror_mode": {
    "name": "ipython",
    "version": 3
   },
   "file_extension": ".py",
   "mimetype": "text/x-python",
   "name": "python",
   "nbconvert_exporter": "python",
   "pygments_lexer": "ipython3",
   "version": "3.11.6"
  }
 },
 "nbformat": 4,
 "nbformat_minor": 5
}
