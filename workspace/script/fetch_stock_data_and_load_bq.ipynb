{
 "cells": [
  {
   "cell_type": "code",
   "execution_count": null,
   "id": "a9844b1e-33e0-4191-989f-70c46861c48d",
   "metadata": {},
   "outputs": [
    {
     "name": "stderr",
     "output_type": "stream",
     "text": [
      "[*********************100%***********************]  1 of 1 completed\n"
     ]
    },
    {
     "name": "stdout",
     "output_type": "stream",
     "text": [
      "File 6203.parquet already exists in GCS. Skipping upload.\n",
      "Loaded data into BigQuery table dbt-analytics-engineer-435907.stock_dataset.stock_data from gs://stock-data-bucket_hopop/6203.parquet.\n"
     ]
    },
    {
     "name": "stderr",
     "output_type": "stream",
     "text": [
      "[*********************100%***********************]  1 of 1 completed\n"
     ]
    },
    {
     "name": "stdout",
     "output_type": "stream",
     "text": [
      "File 1951.parquet already exists in GCS. Skipping upload.\n",
      "Loaded data into BigQuery table dbt-analytics-engineer-435907.stock_dataset.stock_data from gs://stock-data-bucket_hopop/1951.parquet.\n"
     ]
    },
    {
     "name": "stderr",
     "output_type": "stream",
     "text": [
      "[*********************100%***********************]  1 of 1 completed\n"
     ]
    },
    {
     "name": "stdout",
     "output_type": "stream",
     "text": [
      "File 8938.parquet already exists in GCS. Skipping upload.\n",
      "Loaded data into BigQuery table dbt-analytics-engineer-435907.stock_dataset.stock_data from gs://stock-data-bucket_hopop/8938.parquet.\n"
     ]
    },
    {
     "name": "stderr",
     "output_type": "stream",
     "text": [
      "[*********************100%***********************]  1 of 1 completed\n",
      "\n",
      "1 Failed download:\n",
      "['2812.T']: YFTzMissingError('$%ticker%: possibly delisted; no timezone found')\n"
     ]
    },
    {
     "name": "stdout",
     "output_type": "stream",
     "text": [
      "No data found for 2812.T. Skipping...\n"
     ]
    },
    {
     "name": "stderr",
     "output_type": "stream",
     "text": [
      "[*********************100%***********************]  1 of 1 completed\n"
     ]
    },
    {
     "name": "stdout",
     "output_type": "stream",
     "text": [
      "Uploaded ./output/8563.parquet to gs://stock-data-bucket_hopop/8563.parquet\n",
      "Loaded data into BigQuery table dbt-analytics-engineer-435907.stock_dataset.stock_data from gs://stock-data-bucket_hopop/8563.parquet.\n"
     ]
    },
    {
     "name": "stderr",
     "output_type": "stream",
     "text": [
      "[*********************100%***********************]  1 of 1 completed\n"
     ]
    },
    {
     "name": "stdout",
     "output_type": "stream",
     "text": [
      "Uploaded ./output/1592.parquet to gs://stock-data-bucket_hopop/1592.parquet\n",
      "Loaded data into BigQuery table dbt-analytics-engineer-435907.stock_dataset.stock_data from gs://stock-data-bucket_hopop/1592.parquet.\n"
     ]
    },
    {
     "name": "stderr",
     "output_type": "stream",
     "text": [
      "[*********************100%***********************]  1 of 1 completed\n"
     ]
    },
    {
     "name": "stdout",
     "output_type": "stream",
     "text": [
      "Uploaded ./output/8115.parquet to gs://stock-data-bucket_hopop/8115.parquet\n",
      "Loaded data into BigQuery table dbt-analytics-engineer-435907.stock_dataset.stock_data from gs://stock-data-bucket_hopop/8115.parquet.\n"
     ]
    },
    {
     "name": "stderr",
     "output_type": "stream",
     "text": [
      "[*********************100%***********************]  1 of 1 completed\n"
     ]
    },
    {
     "name": "stdout",
     "output_type": "stream",
     "text": [
      "Uploaded ./output/7898.parquet to gs://stock-data-bucket_hopop/7898.parquet\n",
      "Loaded data into BigQuery table dbt-analytics-engineer-435907.stock_dataset.stock_data from gs://stock-data-bucket_hopop/7898.parquet.\n"
     ]
    },
    {
     "name": "stderr",
     "output_type": "stream",
     "text": [
      "[*********************100%***********************]  1 of 1 completed\n"
     ]
    },
    {
     "name": "stdout",
     "output_type": "stream",
     "text": [
      "Uploaded ./output/7868.parquet to gs://stock-data-bucket_hopop/7868.parquet\n",
      "Loaded data into BigQuery table dbt-analytics-engineer-435907.stock_dataset.stock_data from gs://stock-data-bucket_hopop/7868.parquet.\n"
     ]
    },
    {
     "name": "stderr",
     "output_type": "stream",
     "text": [
      "[*********************100%***********************]  1 of 1 completed\n"
     ]
    },
    {
     "name": "stdout",
     "output_type": "stream",
     "text": [
      "Uploaded ./output/7609.parquet to gs://stock-data-bucket_hopop/7609.parquet\n",
      "Loaded data into BigQuery table dbt-analytics-engineer-435907.stock_dataset.stock_data from gs://stock-data-bucket_hopop/7609.parquet.\n"
     ]
    },
    {
     "name": "stderr",
     "output_type": "stream",
     "text": [
      "[*********************100%***********************]  1 of 1 completed\n"
     ]
    },
    {
     "name": "stdout",
     "output_type": "stream",
     "text": [
      "Uploaded ./output/2270.parquet to gs://stock-data-bucket_hopop/2270.parquet\n",
      "Loaded data into BigQuery table dbt-analytics-engineer-435907.stock_dataset.stock_data from gs://stock-data-bucket_hopop/2270.parquet.\n"
     ]
    },
    {
     "name": "stderr",
     "output_type": "stream",
     "text": [
      "[*********************100%***********************]  1 of 1 completed\n"
     ]
    },
    {
     "name": "stdout",
     "output_type": "stream",
     "text": [
      "Uploaded ./output/6919.parquet to gs://stock-data-bucket_hopop/6919.parquet\n",
      "Loaded data into BigQuery table dbt-analytics-engineer-435907.stock_dataset.stock_data from gs://stock-data-bucket_hopop/6919.parquet.\n"
     ]
    },
    {
     "name": "stderr",
     "output_type": "stream",
     "text": [
      "[*********************100%***********************]  1 of 1 completed\n"
     ]
    },
    {
     "name": "stdout",
     "output_type": "stream",
     "text": [
      "Uploaded ./output/6855.parquet to gs://stock-data-bucket_hopop/6855.parquet\n",
      "Loaded data into BigQuery table dbt-analytics-engineer-435907.stock_dataset.stock_data from gs://stock-data-bucket_hopop/6855.parquet.\n"
     ]
    },
    {
     "name": "stderr",
     "output_type": "stream",
     "text": [
      "[*********************100%***********************]  1 of 1 completed\n"
     ]
    },
    {
     "name": "stdout",
     "output_type": "stream",
     "text": [
      "Uploaded ./output/6844.parquet to gs://stock-data-bucket_hopop/6844.parquet\n",
      "Loaded data into BigQuery table dbt-analytics-engineer-435907.stock_dataset.stock_data from gs://stock-data-bucket_hopop/6844.parquet.\n"
     ]
    },
    {
     "name": "stderr",
     "output_type": "stream",
     "text": [
      "[*********************100%***********************]  1 of 1 completed\n",
      "\n",
      "1 Failed download:\n",
      "['3085.T']: YFTzMissingError('$%ticker%: possibly delisted; no timezone found')\n"
     ]
    },
    {
     "name": "stdout",
     "output_type": "stream",
     "text": [
      "No data found for 3085.T. Skipping...\n"
     ]
    },
    {
     "name": "stderr",
     "output_type": "stream",
     "text": [
      "[*********************100%***********************]  1 of 1 completed\n"
     ]
    },
    {
     "name": "stdout",
     "output_type": "stream",
     "text": [
      "Uploaded ./output/6675.parquet to gs://stock-data-bucket_hopop/6675.parquet\n",
      "Loaded data into BigQuery table dbt-analytics-engineer-435907.stock_dataset.stock_data from gs://stock-data-bucket_hopop/6675.parquet.\n"
     ]
    },
    {
     "name": "stderr",
     "output_type": "stream",
     "text": [
      "[*********************100%***********************]  1 of 1 completed\n"
     ]
    },
    {
     "name": "stdout",
     "output_type": "stream",
     "text": [
      "Uploaded ./output/6171.parquet to gs://stock-data-bucket_hopop/6171.parquet\n",
      "Loaded data into BigQuery table dbt-analytics-engineer-435907.stock_dataset.stock_data from gs://stock-data-bucket_hopop/6171.parquet.\n"
     ]
    },
    {
     "name": "stderr",
     "output_type": "stream",
     "text": [
      "[*********************100%***********************]  1 of 1 completed\n"
     ]
    },
    {
     "name": "stdout",
     "output_type": "stream",
     "text": [
      "Uploaded ./output/6338.parquet to gs://stock-data-bucket_hopop/6338.parquet\n",
      "Loaded data into BigQuery table dbt-analytics-engineer-435907.stock_dataset.stock_data from gs://stock-data-bucket_hopop/6338.parquet.\n"
     ]
    },
    {
     "name": "stderr",
     "output_type": "stream",
     "text": [
      "[*********************100%***********************]  1 of 1 completed\n",
      "\n",
      "1 Failed download:\n",
      "['5387.T']: YFTzMissingError('$%ticker%: possibly delisted; no timezone found')\n"
     ]
    },
    {
     "name": "stdout",
     "output_type": "stream",
     "text": [
      "No data found for 5387.T. Skipping...\n"
     ]
    },
    {
     "name": "stderr",
     "output_type": "stream",
     "text": [
      "[*********************100%***********************]  1 of 1 completed\n"
     ]
    },
    {
     "name": "stdout",
     "output_type": "stream",
     "text": [
      "Uploaded ./output/6287.parquet to gs://stock-data-bucket_hopop/6287.parquet\n",
      "Loaded data into BigQuery table dbt-analytics-engineer-435907.stock_dataset.stock_data from gs://stock-data-bucket_hopop/6287.parquet.\n"
     ]
    },
    {
     "name": "stderr",
     "output_type": "stream",
     "text": [
      "[*********************100%***********************]  1 of 1 completed\n"
     ]
    },
    {
     "name": "stdout",
     "output_type": "stream",
     "text": [
      "Uploaded ./output/6176.parquet to gs://stock-data-bucket_hopop/6176.parquet\n",
      "Loaded data into BigQuery table dbt-analytics-engineer-435907.stock_dataset.stock_data from gs://stock-data-bucket_hopop/6176.parquet.\n"
     ]
    },
    {
     "name": "stderr",
     "output_type": "stream",
     "text": [
      "[*********************100%***********************]  1 of 1 completed\n"
     ]
    },
    {
     "name": "stdout",
     "output_type": "stream",
     "text": [
      "Uploaded ./output/6029.parquet to gs://stock-data-bucket_hopop/6029.parquet\n",
      "Loaded data into BigQuery table dbt-analytics-engineer-435907.stock_dataset.stock_data from gs://stock-data-bucket_hopop/6029.parquet.\n"
     ]
    },
    {
     "name": "stderr",
     "output_type": "stream",
     "text": [
      "[*********************100%***********************]  1 of 1 completed\n"
     ]
    },
    {
     "name": "stdout",
     "output_type": "stream",
     "text": [
      "Uploaded ./output/9793.parquet to gs://stock-data-bucket_hopop/9793.parquet\n",
      "Loaded data into BigQuery table dbt-analytics-engineer-435907.stock_dataset.stock_data from gs://stock-data-bucket_hopop/9793.parquet.\n"
     ]
    },
    {
     "name": "stderr",
     "output_type": "stream",
     "text": [
      "[*********************100%***********************]  1 of 1 completed\n"
     ]
    },
    {
     "name": "stdout",
     "output_type": "stream",
     "text": [
      "Uploaded ./output/8074.parquet to gs://stock-data-bucket_hopop/8074.parquet\n",
      "Loaded data into BigQuery table dbt-analytics-engineer-435907.stock_dataset.stock_data from gs://stock-data-bucket_hopop/8074.parquet.\n"
     ]
    },
    {
     "name": "stderr",
     "output_type": "stream",
     "text": [
      "[*********************100%***********************]  1 of 1 completed\n"
     ]
    },
    {
     "name": "stdout",
     "output_type": "stream",
     "text": [
      "Uploaded ./output/9474.parquet to gs://stock-data-bucket_hopop/9474.parquet\n",
      "Loaded data into BigQuery table dbt-analytics-engineer-435907.stock_dataset.stock_data from gs://stock-data-bucket_hopop/9474.parquet.\n"
     ]
    },
    {
     "name": "stderr",
     "output_type": "stream",
     "text": [
      "[*********************100%***********************]  1 of 1 completed\n"
     ]
    },
    {
     "name": "stdout",
     "output_type": "stream",
     "text": [
      "Uploaded ./output/5660.parquet to gs://stock-data-bucket_hopop/5660.parquet\n",
      "Loaded data into BigQuery table dbt-analytics-engineer-435907.stock_dataset.stock_data from gs://stock-data-bucket_hopop/5660.parquet.\n"
     ]
    },
    {
     "name": "stderr",
     "output_type": "stream",
     "text": [
      "[*********************100%***********************]  1 of 1 completed\n"
     ]
    },
    {
     "name": "stdout",
     "output_type": "stream",
     "text": [
      "Uploaded ./output/4587.parquet to gs://stock-data-bucket_hopop/4587.parquet\n",
      "Loaded data into BigQuery table dbt-analytics-engineer-435907.stock_dataset.stock_data from gs://stock-data-bucket_hopop/4587.parquet.\n"
     ]
    },
    {
     "name": "stderr",
     "output_type": "stream",
     "text": [
      "[*********************100%***********************]  1 of 1 completed\n"
     ]
    },
    {
     "name": "stdout",
     "output_type": "stream",
     "text": [
      "Uploaded ./output/4570.parquet to gs://stock-data-bucket_hopop/4570.parquet\n",
      "Loaded data into BigQuery table dbt-analytics-engineer-435907.stock_dataset.stock_data from gs://stock-data-bucket_hopop/4570.parquet.\n"
     ]
    },
    {
     "name": "stderr",
     "output_type": "stream",
     "text": [
      "[*********************100%***********************]  1 of 1 completed\n"
     ]
    },
    {
     "name": "stdout",
     "output_type": "stream",
     "text": [
      "Uploaded ./output/4768.parquet to gs://stock-data-bucket_hopop/4768.parquet\n",
      "Loaded data into BigQuery table dbt-analytics-engineer-435907.stock_dataset.stock_data from gs://stock-data-bucket_hopop/4768.parquet.\n"
     ]
    },
    {
     "name": "stderr",
     "output_type": "stream",
     "text": [
      "[*********************100%***********************]  1 of 1 completed\n"
     ]
    },
    {
     "name": "stdout",
     "output_type": "stream",
     "text": [
      "Uploaded ./output/3111.parquet to gs://stock-data-bucket_hopop/3111.parquet\n",
      "Loaded data into BigQuery table dbt-analytics-engineer-435907.stock_dataset.stock_data from gs://stock-data-bucket_hopop/3111.parquet.\n"
     ]
    },
    {
     "name": "stderr",
     "output_type": "stream",
     "text": [
      "[*********************100%***********************]  1 of 1 completed\n",
      "\n",
      "1 Failed download:\n",
      "['8228.T']: YFTzMissingError('$%ticker%: possibly delisted; no timezone found')\n"
     ]
    },
    {
     "name": "stdout",
     "output_type": "stream",
     "text": [
      "No data found for 8228.T. Skipping...\n"
     ]
    },
    {
     "name": "stderr",
     "output_type": "stream",
     "text": [
      "[*********************100%***********************]  1 of 1 completed\n"
     ]
    },
    {
     "name": "stdout",
     "output_type": "stream",
     "text": [
      "Uploaded ./output/9042.parquet to gs://stock-data-bucket_hopop/9042.parquet\n",
      "Loaded data into BigQuery table dbt-analytics-engineer-435907.stock_dataset.stock_data from gs://stock-data-bucket_hopop/9042.parquet.\n"
     ]
    },
    {
     "name": "stderr",
     "output_type": "stream",
     "text": [
      "[*********************100%***********************]  1 of 1 completed\n"
     ]
    },
    {
     "name": "stdout",
     "output_type": "stream",
     "text": [
      "Uploaded ./output/2206.parquet to gs://stock-data-bucket_hopop/2206.parquet\n",
      "Loaded data into BigQuery table dbt-analytics-engineer-435907.stock_dataset.stock_data from gs://stock-data-bucket_hopop/2206.parquet.\n"
     ]
    },
    {
     "name": "stderr",
     "output_type": "stream",
     "text": [
      "[*********************100%***********************]  1 of 1 completed\n",
      "\n",
      "1 Failed download:\n",
      "['2773.T']: YFTzMissingError('$%ticker%: possibly delisted; no timezone found')\n"
     ]
    },
    {
     "name": "stdout",
     "output_type": "stream",
     "text": [
      "No data found for 2773.T. Skipping...\n"
     ]
    },
    {
     "name": "stderr",
     "output_type": "stream",
     "text": [
      "[*********************100%***********************]  1 of 1 completed\n"
     ]
    },
    {
     "name": "stdout",
     "output_type": "stream",
     "text": [
      "Uploaded ./output/2475.parquet to gs://stock-data-bucket_hopop/2475.parquet\n",
      "Loaded data into BigQuery table dbt-analytics-engineer-435907.stock_dataset.stock_data from gs://stock-data-bucket_hopop/2475.parquet.\n"
     ]
    },
    {
     "name": "stderr",
     "output_type": "stream",
     "text": [
      "[*********************100%***********************]  1 of 1 completed\n",
      "\n",
      "1 Failed download:\n",
      "['2458.T']: YFPricesMissingError('$%ticker%: possibly delisted; no price data found  (1d 2024-01-01 -> 2024-09-30)')\n"
     ]
    },
    {
     "name": "stdout",
     "output_type": "stream",
     "text": [
      "No data found for 2458.T. Skipping...\n"
     ]
    },
    {
     "name": "stderr",
     "output_type": "stream",
     "text": [
      "[*********************100%***********************]  1 of 1 completed\n"
     ]
    },
    {
     "name": "stdout",
     "output_type": "stream",
     "text": [
      "Uploaded ./output/8836.parquet to gs://stock-data-bucket_hopop/8836.parquet\n",
      "Loaded data into BigQuery table dbt-analytics-engineer-435907.stock_dataset.stock_data from gs://stock-data-bucket_hopop/8836.parquet.\n"
     ]
    },
    {
     "name": "stderr",
     "output_type": "stream",
     "text": [
      "[*********************100%***********************]  1 of 1 completed\n"
     ]
    },
    {
     "name": "stdout",
     "output_type": "stream",
     "text": [
      "Uploaded ./output/2435.parquet to gs://stock-data-bucket_hopop/2435.parquet\n",
      "Loaded data into BigQuery table dbt-analytics-engineer-435907.stock_dataset.stock_data from gs://stock-data-bucket_hopop/2435.parquet.\n"
     ]
    },
    {
     "name": "stderr",
     "output_type": "stream",
     "text": [
      "[*********************100%***********************]  1 of 1 completed\n"
     ]
    },
    {
     "name": "stdout",
     "output_type": "stream",
     "text": [
      "Uploaded ./output/2195.parquet to gs://stock-data-bucket_hopop/2195.parquet\n",
      "Loaded data into BigQuery table dbt-analytics-engineer-435907.stock_dataset.stock_data from gs://stock-data-bucket_hopop/2195.parquet.\n"
     ]
    },
    {
     "name": "stderr",
     "output_type": "stream",
     "text": [
      "[*********************100%***********************]  1 of 1 completed\n"
     ]
    },
    {
     "name": "stdout",
     "output_type": "stream",
     "text": [
      "Uploaded ./output/3042.parquet to gs://stock-data-bucket_hopop/3042.parquet\n",
      "Loaded data into BigQuery table dbt-analytics-engineer-435907.stock_dataset.stock_data from gs://stock-data-bucket_hopop/3042.parquet.\n"
     ]
    },
    {
     "name": "stderr",
     "output_type": "stream",
     "text": [
      "[*********************100%***********************]  1 of 1 completed\n"
     ]
    },
    {
     "name": "stdout",
     "output_type": "stream",
     "text": [
      "Uploaded ./output/7989.parquet to gs://stock-data-bucket_hopop/7989.parquet\n",
      "Loaded data into BigQuery table dbt-analytics-engineer-435907.stock_dataset.stock_data from gs://stock-data-bucket_hopop/7989.parquet.\n"
     ]
    },
    {
     "name": "stderr",
     "output_type": "stream",
     "text": [
      "[*********************100%***********************]  1 of 1 completed\n"
     ]
    },
    {
     "name": "stdout",
     "output_type": "stream",
     "text": [
      "Uploaded ./output/1981.parquet to gs://stock-data-bucket_hopop/1981.parquet\n",
      "Loaded data into BigQuery table dbt-analytics-engineer-435907.stock_dataset.stock_data from gs://stock-data-bucket_hopop/1981.parquet.\n"
     ]
    },
    {
     "name": "stderr",
     "output_type": "stream",
     "text": [
      "[*********************100%***********************]  1 of 1 completed\n"
     ]
    },
    {
     "name": "stdout",
     "output_type": "stream",
     "text": [
      "Uploaded ./output/1380.parquet to gs://stock-data-bucket_hopop/1380.parquet\n",
      "Loaded data into BigQuery table dbt-analytics-engineer-435907.stock_dataset.stock_data from gs://stock-data-bucket_hopop/1380.parquet.\n"
     ]
    },
    {
     "name": "stderr",
     "output_type": "stream",
     "text": [
      "[*********************100%***********************]  1 of 1 completed\n"
     ]
    },
    {
     "name": "stdout",
     "output_type": "stream",
     "text": [
      "Uploaded ./output/8361.parquet to gs://stock-data-bucket_hopop/8361.parquet\n",
      "Loaded data into BigQuery table dbt-analytics-engineer-435907.stock_dataset.stock_data from gs://stock-data-bucket_hopop/8361.parquet.\n"
     ]
    },
    {
     "name": "stderr",
     "output_type": "stream",
     "text": [
      "[*********************100%***********************]  1 of 1 completed\n"
     ]
    },
    {
     "name": "stdout",
     "output_type": "stream",
     "text": [
      "Uploaded ./output/7593.parquet to gs://stock-data-bucket_hopop/7593.parquet\n",
      "Loaded data into BigQuery table dbt-analytics-engineer-435907.stock_dataset.stock_data from gs://stock-data-bucket_hopop/7593.parquet.\n"
     ]
    },
    {
     "name": "stderr",
     "output_type": "stream",
     "text": [
      "[*********************100%***********************]  1 of 1 completed\n",
      "\n",
      "1 Failed download:\n",
      "['7895.T']: YFTzMissingError('$%ticker%: possibly delisted; no timezone found')\n"
     ]
    },
    {
     "name": "stdout",
     "output_type": "stream",
     "text": [
      "No data found for 7895.T. Skipping...\n"
     ]
    },
    {
     "name": "stderr",
     "output_type": "stream",
     "text": [
      "[*********************100%***********************]  1 of 1 completed\n"
     ]
    },
    {
     "name": "stdout",
     "output_type": "stream",
     "text": [
      "Uploaded ./output/8091.parquet to gs://stock-data-bucket_hopop/8091.parquet\n",
      "Loaded data into BigQuery table dbt-analytics-engineer-435907.stock_dataset.stock_data from gs://stock-data-bucket_hopop/8091.parquet.\n"
     ]
    },
    {
     "name": "stderr",
     "output_type": "stream",
     "text": [
      "[*********************100%***********************]  1 of 1 completed\n"
     ]
    },
    {
     "name": "stdout",
     "output_type": "stream",
     "text": [
      "Uploaded ./output/7185.parquet to gs://stock-data-bucket_hopop/7185.parquet\n",
      "Loaded data into BigQuery table dbt-analytics-engineer-435907.stock_dataset.stock_data from gs://stock-data-bucket_hopop/7185.parquet.\n"
     ]
    },
    {
     "name": "stderr",
     "output_type": "stream",
     "text": [
      "[*********************100%***********************]  1 of 1 completed\n"
     ]
    },
    {
     "name": "stdout",
     "output_type": "stream",
     "text": [
      "Uploaded ./output/9193.parquet to gs://stock-data-bucket_hopop/9193.parquet\n",
      "Loaded data into BigQuery table dbt-analytics-engineer-435907.stock_dataset.stock_data from gs://stock-data-bucket_hopop/9193.parquet.\n"
     ]
    },
    {
     "name": "stderr",
     "output_type": "stream",
     "text": [
      "[*********************100%***********************]  1 of 1 completed\n"
     ]
    },
    {
     "name": "stdout",
     "output_type": "stream",
     "text": [
      "Uploaded ./output/7822.parquet to gs://stock-data-bucket_hopop/7822.parquet\n",
      "Loaded data into BigQuery table dbt-analytics-engineer-435907.stock_dataset.stock_data from gs://stock-data-bucket_hopop/7822.parquet.\n"
     ]
    },
    {
     "name": "stderr",
     "output_type": "stream",
     "text": [
      "[*********************100%***********************]  1 of 1 completed\n"
     ]
    },
    {
     "name": "stdout",
     "output_type": "stream",
     "text": [
      "Uploaded ./output/7722.parquet to gs://stock-data-bucket_hopop/7722.parquet\n",
      "Loaded data into BigQuery table dbt-analytics-engineer-435907.stock_dataset.stock_data from gs://stock-data-bucket_hopop/7722.parquet.\n"
     ]
    },
    {
     "name": "stderr",
     "output_type": "stream",
     "text": [
      "[*********************100%***********************]  1 of 1 completed\n"
     ]
    },
    {
     "name": "stdout",
     "output_type": "stream",
     "text": [
      "Uploaded ./output/6957.parquet to gs://stock-data-bucket_hopop/6957.parquet\n",
      "Loaded data into BigQuery table dbt-analytics-engineer-435907.stock_dataset.stock_data from gs://stock-data-bucket_hopop/6957.parquet.\n"
     ]
    },
    {
     "name": "stderr",
     "output_type": "stream",
     "text": [
      "[*********************100%***********************]  1 of 1 completed\n"
     ]
    },
    {
     "name": "stdout",
     "output_type": "stream",
     "text": [
      "Uploaded ./output/6894.parquet to gs://stock-data-bucket_hopop/6894.parquet\n",
      "Loaded data into BigQuery table dbt-analytics-engineer-435907.stock_dataset.stock_data from gs://stock-data-bucket_hopop/6894.parquet.\n"
     ]
    },
    {
     "name": "stderr",
     "output_type": "stream",
     "text": [
      "[*********************100%***********************]  1 of 1 completed\n",
      "\n",
      "1 Failed download:\n",
      "['6889.T']: YFTzMissingError('$%ticker%: possibly delisted; no timezone found')\n"
     ]
    },
    {
     "name": "stdout",
     "output_type": "stream",
     "text": [
      "No data found for 6889.T. Skipping...\n"
     ]
    },
    {
     "name": "stderr",
     "output_type": "stream",
     "text": [
      "[*********************100%***********************]  1 of 1 completed\n"
     ]
    },
    {
     "name": "stdout",
     "output_type": "stream",
     "text": [
      "Uploaded ./output/1691.parquet to gs://stock-data-bucket_hopop/1691.parquet\n",
      "Loaded data into BigQuery table dbt-analytics-engineer-435907.stock_dataset.stock_data from gs://stock-data-bucket_hopop/1691.parquet.\n"
     ]
    },
    {
     "name": "stderr",
     "output_type": "stream",
     "text": [
      "[*********************100%***********************]  1 of 1 completed\n",
      "\n",
      "1 Failed download:\n",
      "['4963.T']: YFTzMissingError('$%ticker%: possibly delisted; no timezone found')\n"
     ]
    },
    {
     "name": "stdout",
     "output_type": "stream",
     "text": [
      "No data found for 4963.T. Skipping...\n"
     ]
    },
    {
     "name": "stderr",
     "output_type": "stream",
     "text": [
      "[*********************100%***********************]  1 of 1 completed\n"
     ]
    },
    {
     "name": "stdout",
     "output_type": "stream",
     "text": [
      "Uploaded ./output/3350.parquet to gs://stock-data-bucket_hopop/3350.parquet\n",
      "Loaded data into BigQuery table dbt-analytics-engineer-435907.stock_dataset.stock_data from gs://stock-data-bucket_hopop/3350.parquet.\n"
     ]
    },
    {
     "name": "stderr",
     "output_type": "stream",
     "text": [
      "[*********************100%***********************]  1 of 1 completed\n"
     ]
    },
    {
     "name": "stdout",
     "output_type": "stream",
     "text": [
      "Uploaded ./output/9739.parquet to gs://stock-data-bucket_hopop/9739.parquet\n",
      "Loaded data into BigQuery table dbt-analytics-engineer-435907.stock_dataset.stock_data from gs://stock-data-bucket_hopop/9739.parquet.\n"
     ]
    },
    {
     "name": "stderr",
     "output_type": "stream",
     "text": [
      "[*********************100%***********************]  1 of 1 completed\n"
     ]
    },
    {
     "name": "stdout",
     "output_type": "stream",
     "text": [
      "Uploaded ./output/9048.parquet to gs://stock-data-bucket_hopop/9048.parquet\n",
      "Loaded data into BigQuery table dbt-analytics-engineer-435907.stock_dataset.stock_data from gs://stock-data-bucket_hopop/9048.parquet.\n"
     ]
    },
    {
     "name": "stderr",
     "output_type": "stream",
     "text": [
      "[*********************100%***********************]  1 of 1 completed\n"
     ]
    },
    {
     "name": "stdout",
     "output_type": "stream",
     "text": [
      "Uploaded ./output/6776.parquet to gs://stock-data-bucket_hopop/6776.parquet\n",
      "Loaded data into BigQuery table dbt-analytics-engineer-435907.stock_dataset.stock_data from gs://stock-data-bucket_hopop/6776.parquet.\n"
     ]
    },
    {
     "name": "stderr",
     "output_type": "stream",
     "text": [
      "[*********************100%***********************]  1 of 1 completed\n"
     ]
    },
    {
     "name": "stdout",
     "output_type": "stream",
     "text": [
      "Uploaded ./output/3660.parquet to gs://stock-data-bucket_hopop/3660.parquet\n",
      "Loaded data into BigQuery table dbt-analytics-engineer-435907.stock_dataset.stock_data from gs://stock-data-bucket_hopop/3660.parquet.\n"
     ]
    },
    {
     "name": "stderr",
     "output_type": "stream",
     "text": [
      "[*********************100%***********************]  1 of 1 completed\n"
     ]
    },
    {
     "name": "stdout",
     "output_type": "stream",
     "text": [
      "Uploaded ./output/6276.parquet to gs://stock-data-bucket_hopop/6276.parquet\n",
      "Loaded data into BigQuery table dbt-analytics-engineer-435907.stock_dataset.stock_data from gs://stock-data-bucket_hopop/6276.parquet.\n"
     ]
    },
    {
     "name": "stderr",
     "output_type": "stream",
     "text": [
      "[*********************100%***********************]  1 of 1 completed\n"
     ]
    },
    {
     "name": "stdout",
     "output_type": "stream",
     "text": [
      "Uploaded ./output/6246.parquet to gs://stock-data-bucket_hopop/6246.parquet\n",
      "Loaded data into BigQuery table dbt-analytics-engineer-435907.stock_dataset.stock_data from gs://stock-data-bucket_hopop/6246.parquet.\n"
     ]
    },
    {
     "name": "stderr",
     "output_type": "stream",
     "text": [
      "[*********************100%***********************]  1 of 1 completed\n"
     ]
    },
    {
     "name": "stdout",
     "output_type": "stream",
     "text": [
      "Uploaded ./output/7972.parquet to gs://stock-data-bucket_hopop/7972.parquet\n",
      "Loaded data into BigQuery table dbt-analytics-engineer-435907.stock_dataset.stock_data from gs://stock-data-bucket_hopop/7972.parquet.\n"
     ]
    },
    {
     "name": "stderr",
     "output_type": "stream",
     "text": [
      "[*********************100%***********************]  1 of 1 completed\n"
     ]
    },
    {
     "name": "stdout",
     "output_type": "stream",
     "text": [
      "Uploaded ./output/5998.parquet to gs://stock-data-bucket_hopop/5998.parquet\n",
      "Loaded data into BigQuery table dbt-analytics-engineer-435907.stock_dataset.stock_data from gs://stock-data-bucket_hopop/5998.parquet.\n"
     ]
    },
    {
     "name": "stderr",
     "output_type": "stream",
     "text": [
      "[*********************100%***********************]  1 of 1 completed\n"
     ]
    },
    {
     "name": "stdout",
     "output_type": "stream",
     "text": [
      "Uploaded ./output/5902.parquet to gs://stock-data-bucket_hopop/5902.parquet\n",
      "Loaded data into BigQuery table dbt-analytics-engineer-435907.stock_dataset.stock_data from gs://stock-data-bucket_hopop/5902.parquet.\n"
     ]
    },
    {
     "name": "stderr",
     "output_type": "stream",
     "text": [
      "[*********************100%***********************]  1 of 1 completed\n"
     ]
    },
    {
     "name": "stdout",
     "output_type": "stream",
     "text": [
      "Uploaded ./output/2327.parquet to gs://stock-data-bucket_hopop/2327.parquet\n",
      "Loaded data into BigQuery table dbt-analytics-engineer-435907.stock_dataset.stock_data from gs://stock-data-bucket_hopop/2327.parquet.\n"
     ]
    },
    {
     "name": "stderr",
     "output_type": "stream",
     "text": [
      "[*********************100%***********************]  1 of 1 completed\n"
     ]
    },
    {
     "name": "stdout",
     "output_type": "stream",
     "text": [
      "Uploaded ./output/5122.parquet to gs://stock-data-bucket_hopop/5122.parquet\n",
      "Loaded data into BigQuery table dbt-analytics-engineer-435907.stock_dataset.stock_data from gs://stock-data-bucket_hopop/5122.parquet.\n"
     ]
    },
    {
     "name": "stderr",
     "output_type": "stream",
     "text": [
      "[*********************100%***********************]  1 of 1 completed\n",
      "\n",
      "1 Failed download:\n",
      "['5002.T']: YFTzMissingError('$%ticker%: possibly delisted; no timezone found')\n"
     ]
    },
    {
     "name": "stdout",
     "output_type": "stream",
     "text": [
      "No data found for 5002.T. Skipping...\n"
     ]
    },
    {
     "name": "stderr",
     "output_type": "stream",
     "text": [
      "[*********************100%***********************]  1 of 1 completed\n"
     ]
    },
    {
     "name": "stdout",
     "output_type": "stream",
     "text": [
      "Uploaded ./output/6416.parquet to gs://stock-data-bucket_hopop/6416.parquet\n",
      "Loaded data into BigQuery table dbt-analytics-engineer-435907.stock_dataset.stock_data from gs://stock-data-bucket_hopop/6416.parquet.\n"
     ]
    },
    {
     "name": "stderr",
     "output_type": "stream",
     "text": [
      "[*********************100%***********************]  1 of 1 completed\n",
      "\n",
      "1 Failed download:\n",
      "['4364.T']: YFTzMissingError('$%ticker%: possibly delisted; no timezone found')\n"
     ]
    },
    {
     "name": "stdout",
     "output_type": "stream",
     "text": [
      "No data found for 4364.T. Skipping...\n"
     ]
    },
    {
     "name": "stderr",
     "output_type": "stream",
     "text": [
      "[*********************100%***********************]  1 of 1 completed\n"
     ]
    },
    {
     "name": "stdout",
     "output_type": "stream",
     "text": [
      "Uploaded ./output/4323.parquet to gs://stock-data-bucket_hopop/4323.parquet\n",
      "Loaded data into BigQuery table dbt-analytics-engineer-435907.stock_dataset.stock_data from gs://stock-data-bucket_hopop/4323.parquet.\n"
     ]
    },
    {
     "name": "stderr",
     "output_type": "stream",
     "text": [
      "[*********************100%***********************]  1 of 1 completed\n"
     ]
    },
    {
     "name": "stdout",
     "output_type": "stream",
     "text": [
      "Uploaded ./output/6333.parquet to gs://stock-data-bucket_hopop/6333.parquet\n",
      "Loaded data into BigQuery table dbt-analytics-engineer-435907.stock_dataset.stock_data from gs://stock-data-bucket_hopop/6333.parquet.\n"
     ]
    },
    {
     "name": "stderr",
     "output_type": "stream",
     "text": [
      "[*********************100%***********************]  1 of 1 completed\n"
     ]
    },
    {
     "name": "stdout",
     "output_type": "stream",
     "text": [
      "Uploaded ./output/4319.parquet to gs://stock-data-bucket_hopop/4319.parquet\n",
      "Loaded data into BigQuery table dbt-analytics-engineer-435907.stock_dataset.stock_data from gs://stock-data-bucket_hopop/4319.parquet.\n"
     ]
    },
    {
     "name": "stderr",
     "output_type": "stream",
     "text": [
      "[*********************100%***********************]  1 of 1 completed\n"
     ]
    },
    {
     "name": "stdout",
     "output_type": "stream",
     "text": [
      "Uploaded ./output/4064.parquet to gs://stock-data-bucket_hopop/4064.parquet\n",
      "Loaded data into BigQuery table dbt-analytics-engineer-435907.stock_dataset.stock_data from gs://stock-data-bucket_hopop/4064.parquet.\n"
     ]
    },
    {
     "name": "stderr",
     "output_type": "stream",
     "text": [
      "[*********************100%***********************]  1 of 1 completed\n",
      "\n",
      "1 Failed download:\n",
      "['9643.T']: YFTzMissingError('$%ticker%: possibly delisted; no timezone found')\n"
     ]
    },
    {
     "name": "stdout",
     "output_type": "stream",
     "text": [
      "No data found for 9643.T. Skipping...\n"
     ]
    },
    {
     "name": "stderr",
     "output_type": "stream",
     "text": [
      "[*********************100%***********************]  1 of 1 completed\n"
     ]
    },
    {
     "name": "stdout",
     "output_type": "stream",
     "text": [
      "Uploaded ./output/4025.parquet to gs://stock-data-bucket_hopop/4025.parquet\n",
      "Loaded data into BigQuery table dbt-analytics-engineer-435907.stock_dataset.stock_data from gs://stock-data-bucket_hopop/4025.parquet.\n"
     ]
    },
    {
     "name": "stderr",
     "output_type": "stream",
     "text": [
      "[*********************100%***********************]  1 of 1 completed\n"
     ]
    },
    {
     "name": "stdout",
     "output_type": "stream",
     "text": [
      "Uploaded ./output/6835.parquet to gs://stock-data-bucket_hopop/6835.parquet\n",
      "Loaded data into BigQuery table dbt-analytics-engineer-435907.stock_dataset.stock_data from gs://stock-data-bucket_hopop/6835.parquet.\n"
     ]
    },
    {
     "name": "stderr",
     "output_type": "stream",
     "text": [
      "[*********************100%***********************]  1 of 1 completed\n"
     ]
    },
    {
     "name": "stdout",
     "output_type": "stream",
     "text": [
      "Uploaded ./output/3945.parquet to gs://stock-data-bucket_hopop/3945.parquet\n",
      "Loaded data into BigQuery table dbt-analytics-engineer-435907.stock_dataset.stock_data from gs://stock-data-bucket_hopop/3945.parquet.\n"
     ]
    },
    {
     "name": "stderr",
     "output_type": "stream",
     "text": [
      "[*********************100%***********************]  1 of 1 completed\n"
     ]
    },
    {
     "name": "stdout",
     "output_type": "stream",
     "text": [
      "Uploaded ./output/4005.parquet to gs://stock-data-bucket_hopop/4005.parquet\n",
      "Loaded data into BigQuery table dbt-analytics-engineer-435907.stock_dataset.stock_data from gs://stock-data-bucket_hopop/4005.parquet.\n"
     ]
    },
    {
     "name": "stderr",
     "output_type": "stream",
     "text": [
      "[*********************100%***********************]  1 of 1 completed\n"
     ]
    },
    {
     "name": "stdout",
     "output_type": "stream",
     "text": [
      "Uploaded ./output/3856.parquet to gs://stock-data-bucket_hopop/3856.parquet\n",
      "Loaded data into BigQuery table dbt-analytics-engineer-435907.stock_dataset.stock_data from gs://stock-data-bucket_hopop/3856.parquet.\n"
     ]
    },
    {
     "name": "stderr",
     "output_type": "stream",
     "text": [
      "[*********************100%***********************]  1 of 1 completed\n"
     ]
    },
    {
     "name": "stdout",
     "output_type": "stream",
     "text": [
      "Uploaded ./output/6098.parquet to gs://stock-data-bucket_hopop/6098.parquet\n",
      "Loaded data into BigQuery table dbt-analytics-engineer-435907.stock_dataset.stock_data from gs://stock-data-bucket_hopop/6098.parquet.\n"
     ]
    },
    {
     "name": "stderr",
     "output_type": "stream",
     "text": [
      "[*********************100%***********************]  1 of 1 completed\n"
     ]
    },
    {
     "name": "stdout",
     "output_type": "stream",
     "text": [
      "Uploaded ./output/3372.parquet to gs://stock-data-bucket_hopop/3372.parquet\n",
      "Loaded data into BigQuery table dbt-analytics-engineer-435907.stock_dataset.stock_data from gs://stock-data-bucket_hopop/3372.parquet.\n"
     ]
    },
    {
     "name": "stderr",
     "output_type": "stream",
     "text": [
      "[*********************100%***********************]  1 of 1 completed\n"
     ]
    },
    {
     "name": "stdout",
     "output_type": "stream",
     "text": [
      "Uploaded ./output/3939.parquet to gs://stock-data-bucket_hopop/3939.parquet\n",
      "Loaded data into BigQuery table dbt-analytics-engineer-435907.stock_dataset.stock_data from gs://stock-data-bucket_hopop/3939.parquet.\n"
     ]
    },
    {
     "name": "stderr",
     "output_type": "stream",
     "text": [
      "[*********************100%***********************]  1 of 1 completed\n",
      "\n",
      "1 Failed download:\n",
      "['3685.T']: YFPricesMissingError('$%ticker%: possibly delisted; no price data found  (1d 2024-01-01 -> 2024-09-30)')\n"
     ]
    },
    {
     "name": "stdout",
     "output_type": "stream",
     "text": [
      "No data found for 3685.T. Skipping...\n"
     ]
    },
    {
     "name": "stderr",
     "output_type": "stream",
     "text": [
      "[*********************100%***********************]  1 of 1 completed\n"
     ]
    },
    {
     "name": "stdout",
     "output_type": "stream",
     "text": [
      "Uploaded ./output/1870.parquet to gs://stock-data-bucket_hopop/1870.parquet\n",
      "Loaded data into BigQuery table dbt-analytics-engineer-435907.stock_dataset.stock_data from gs://stock-data-bucket_hopop/1870.parquet.\n"
     ]
    },
    {
     "name": "stderr",
     "output_type": "stream",
     "text": [
      "[*********************100%***********************]  1 of 1 completed\n"
     ]
    },
    {
     "name": "stdout",
     "output_type": "stream",
     "text": [
      "Uploaded ./output/1435.parquet to gs://stock-data-bucket_hopop/1435.parquet\n",
      "Loaded data into BigQuery table dbt-analytics-engineer-435907.stock_dataset.stock_data from gs://stock-data-bucket_hopop/1435.parquet.\n"
     ]
    },
    {
     "name": "stderr",
     "output_type": "stream",
     "text": [
      "[*********************100%***********************]  1 of 1 completed\n",
      "\n",
      "1 Failed download:\n",
      "['7597.T']: YFTzMissingError('$%ticker%: possibly delisted; no timezone found')\n"
     ]
    },
    {
     "name": "stdout",
     "output_type": "stream",
     "text": [
      "No data found for 7597.T. Skipping...\n"
     ]
    },
    {
     "name": "stderr",
     "output_type": "stream",
     "text": [
      "[*********************100%***********************]  1 of 1 completed\n"
     ]
    },
    {
     "name": "stdout",
     "output_type": "stream",
     "text": [
      "Uploaded ./output/6797.parquet to gs://stock-data-bucket_hopop/6797.parquet\n",
      "Loaded data into BigQuery table dbt-analytics-engineer-435907.stock_dataset.stock_data from gs://stock-data-bucket_hopop/6797.parquet.\n"
     ]
    },
    {
     "name": "stderr",
     "output_type": "stream",
     "text": [
      "[*********************100%***********************]  1 of 1 completed\n"
     ]
    },
    {
     "name": "stdout",
     "output_type": "stream",
     "text": [
      "Uploaded ./output/1730.parquet to gs://stock-data-bucket_hopop/1730.parquet\n",
      "Loaded data into BigQuery table dbt-analytics-engineer-435907.stock_dataset.stock_data from gs://stock-data-bucket_hopop/1730.parquet.\n"
     ]
    },
    {
     "name": "stderr",
     "output_type": "stream",
     "text": [
      "[*********************100%***********************]  1 of 1 completed\n"
     ]
    },
    {
     "name": "stdout",
     "output_type": "stream",
     "text": [
      "Uploaded ./output/6060.parquet to gs://stock-data-bucket_hopop/6060.parquet\n",
      "Loaded data into BigQuery table dbt-analytics-engineer-435907.stock_dataset.stock_data from gs://stock-data-bucket_hopop/6060.parquet.\n"
     ]
    },
    {
     "name": "stderr",
     "output_type": "stream",
     "text": [
      "[*********************100%***********************]  1 of 1 completed\n"
     ]
    },
    {
     "name": "stdout",
     "output_type": "stream",
     "text": [
      "Uploaded ./output/1925.parquet to gs://stock-data-bucket_hopop/1925.parquet\n",
      "Loaded data into BigQuery table dbt-analytics-engineer-435907.stock_dataset.stock_data from gs://stock-data-bucket_hopop/1925.parquet.\n"
     ]
    },
    {
     "name": "stderr",
     "output_type": "stream",
     "text": [
      "[*********************100%***********************]  1 of 1 completed\n"
     ]
    },
    {
     "name": "stdout",
     "output_type": "stream",
     "text": [
      "Uploaded ./output/7021.parquet to gs://stock-data-bucket_hopop/7021.parquet\n",
      "Loaded data into BigQuery table dbt-analytics-engineer-435907.stock_dataset.stock_data from gs://stock-data-bucket_hopop/7021.parquet.\n"
     ]
    },
    {
     "name": "stderr",
     "output_type": "stream",
     "text": [
      "[*********************100%***********************]  1 of 1 completed\n",
      "\n",
      "1 Failed download:\n",
      "['3754.T']: YFPricesMissingError('$%ticker%: possibly delisted; no price data found  (1d 2024-01-01 -> 2024-09-30)')\n"
     ]
    },
    {
     "name": "stdout",
     "output_type": "stream",
     "text": [
      "No data found for 3754.T. Skipping...\n"
     ]
    },
    {
     "name": "stderr",
     "output_type": "stream",
     "text": [
      "[*********************100%***********************]  1 of 1 completed\n"
     ]
    },
    {
     "name": "stdout",
     "output_type": "stream",
     "text": [
      "Uploaded ./output/9436.parquet to gs://stock-data-bucket_hopop/9436.parquet\n",
      "Loaded data into BigQuery table dbt-analytics-engineer-435907.stock_dataset.stock_data from gs://stock-data-bucket_hopop/9436.parquet.\n"
     ]
    },
    {
     "name": "stderr",
     "output_type": "stream",
     "text": [
      "[*********************100%***********************]  1 of 1 completed\n"
     ]
    },
    {
     "name": "stdout",
     "output_type": "stream",
     "text": [
      "Uploaded ./output/9849.parquet to gs://stock-data-bucket_hopop/9849.parquet\n",
      "Loaded data into BigQuery table dbt-analytics-engineer-435907.stock_dataset.stock_data from gs://stock-data-bucket_hopop/9849.parquet.\n"
     ]
    },
    {
     "name": "stderr",
     "output_type": "stream",
     "text": [
      "[*********************100%***********************]  1 of 1 completed\n"
     ]
    },
    {
     "name": "stdout",
     "output_type": "stream",
     "text": [
      "Uploaded ./output/6742.parquet to gs://stock-data-bucket_hopop/6742.parquet\n",
      "Loaded data into BigQuery table dbt-analytics-engineer-435907.stock_dataset.stock_data from gs://stock-data-bucket_hopop/6742.parquet.\n"
     ]
    },
    {
     "name": "stderr",
     "output_type": "stream",
     "text": [
      "[*********************100%***********************]  1 of 1 completed\n"
     ]
    },
    {
     "name": "stdout",
     "output_type": "stream",
     "text": [
      "Uploaded ./output/4061.parquet to gs://stock-data-bucket_hopop/4061.parquet\n"
     ]
    }
   ],
   "source": [
    "import os\n",
    "import pandas as pd\n",
    "import yfinance as yf\n",
    "from google.cloud import bigquery\n",
    "from google.cloud import storage\n",
    "from modules.gcp_class import Gcs_client, Bigquery_client\n",
    "import datetime as dt\n",
    "\n",
    "def main():\n",
    "    # 環境変数で認証情報を設定\n",
    "    os.environ[\"GOOGLE_APPLICATION_CREDENTIALS\"] = \"./dbt-analytics-engineer-435907-75a25995915e.json\"\n",
    "    \n",
    "    # BigQueryとGCSの設定\n",
    "    PROJECT_ID = 'dbt-analytics-engineer-435907'\n",
    "    DATASET_NAME = 'stock_dataset'\n",
    "    BUCKET_NAME = 'stock-data-bucket_hopop'\n",
    "    TABLE_NAME = 'stock_data'\n",
    "\n",
    "    # CSVファイルのパス\n",
    "    STOCK_MAPPING_CSV = '../stock_code_name_mapping.csv'\n",
    "\n",
    "    # データ取得期間の設定\n",
    "    START_DATE = dt.date(2024, 1, 1)\n",
    "    END_DATE = dt.date.today()\n",
    "\n",
    "    # GCSクライアントとBigQueryクライアントの初期化\n",
    "    gcs_client = Gcs_client()\n",
    "    bq_client = Bigquery_client()\n",
    "\n",
    "    # CSVファイルの読み込み\n",
    "    stock_names_df = pd.read_csv(STOCK_MAPPING_CSV, usecols=['code', 'name'])\n",
    "\n",
    "    # 既存のGCSオブジェクトのリストを取得（重複防止用）\n",
    "    existing_objects = set(gcs_client.list_all_objects(BUCKET_NAME))\n",
    "\n",
    "    # 各銘柄のデータを取得し、GCSにアップロード\n",
    "    for index, row in stock_names_df.loc[(stock_names_df.index >= 1000)].iterrows():\n",
    "        stock_code = str(row['code']).strip()\n",
    "        stock_name = row['name'].strip()\n",
    "        ticker = f\"{stock_code}.T\"  # 東証の場合、ティッカーは通常「.T」が付加されます\n",
    "        \n",
    "        # 株価データの取得\n",
    "        df = yf.download(ticker, start=START_DATE, end=END_DATE)\n",
    "\n",
    "        if df.empty:\n",
    "            print(f\"No data found for {ticker}. Skipping...\")\n",
    "        else:\n",
    "            # データフレームの前処理\n",
    "            df.reset_index(inplace=True)\n",
    "            df = df.rename(columns={\n",
    "                'Date': 'Date',\n",
    "                'Open': 'Open',\n",
    "                'High': 'High',\n",
    "                'Low': 'Low',\n",
    "                'Close': 'Close',\n",
    "                'Adj Close': 'Adj_Close',\n",
    "                'Volume': 'Volume'\n",
    "            })\n",
    "            df['Stock_Code'] = stock_code\n",
    "    \n",
    "            # 必要なカラムのみを選択\n",
    "            df = df[['Date', 'Stock_Code', 'Open', 'High', 'Low', 'Close', 'Adj_Close', 'Volume']]\n",
    "            df['Date'] = pd.to_datetime(df['Date']).dt.strftime('%Y-%m-%d')\n",
    "\n",
    "            # Parquetファイルのパス設定\n",
    "            local_file_name = f\"{stock_code}.parquet\"\n",
    "            local_file_path = f\"./output/{local_file_name}\"\n",
    "            os.makedirs(os.path.dirname(local_file_path), exist_ok=True)\n",
    "    \n",
    "            # Parquet形式で保存\n",
    "            df.to_parquet(local_file_path, engine='pyarrow', index=False)\n",
    "    \n",
    "            # GCSへのアップロード\n",
    "            if local_file_name in existing_objects:\n",
    "                print(f\"File {local_file_name} already exists in GCS. Skipping upload.\")\n",
    "            else:\n",
    "                gcs_client.upload_gcs(BUCKET_NAME, local_file_path, local_file_name)\n",
    "    \n",
    "            # BigQueryへのデータロード\n",
    "            table_id = f\"{PROJECT_ID}.{DATASET_NAME}.{TABLE_NAME}\"\n",
    "            source_uri = f\"gs://{BUCKET_NAME}/{local_file_name}\"\n",
    "            job_config = bigquery.LoadJobConfig(\n",
    "                source_format=bigquery.SourceFormat.PARQUET,\n",
    "                write_disposition=bigquery.WriteDisposition.WRITE_APPEND  # 既存データに追加\n",
    "            )\n",
    "            \n",
    "            load_job = bq_client.client.load_table_from_uri(\n",
    "                source_uri,\n",
    "                table_id,\n",
    "                job_config=job_config\n",
    "            )\n",
    "            \n",
    "            load_job.result()  # ジョブの完了を待つ\n",
    "            print(f\"Loaded data into BigQuery table {table_id} from {source_uri}.\")\n",
    "\n",
    "if __name__ == \"__main__\":\n",
    "    main()\n"
   ]
  }
 ],
 "metadata": {
  "kernelspec": {
   "display_name": "Python 3 (ipykernel)",
   "language": "python",
   "name": "python3"
  },
  "language_info": {
   "codemirror_mode": {
    "name": "ipython",
    "version": 3
   },
   "file_extension": ".py",
   "mimetype": "text/x-python",
   "name": "python",
   "nbconvert_exporter": "python",
   "pygments_lexer": "ipython3",
   "version": "3.11.6"
  }
 },
 "nbformat": 4,
 "nbformat_minor": 5
}
