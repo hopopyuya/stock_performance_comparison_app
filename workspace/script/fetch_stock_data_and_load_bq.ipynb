{
 "cells": [
  {
   "cell_type": "code",
   "execution_count": null,
   "id": "a9844b1e-33e0-4191-989f-70c46861c48d",
   "metadata": {},
   "outputs": [
    {
     "name": "stderr",
     "output_type": "stream",
     "text": [
      "[*********************100%***********************]  1 of 1 completed\n"
     ]
    },
    {
     "name": "stdout",
     "output_type": "stream",
     "text": [
      "File 6203.parquet already exists in GCS. Skipping upload.\n",
      "Loaded data into BigQuery table dbt-analytics-engineer-435907.stock_dataset.stock_data from gs://stock-data-bucket_hopop/6203.parquet.\n"
     ]
    },
    {
     "name": "stderr",
     "output_type": "stream",
     "text": [
      "[*********************100%***********************]  1 of 1 completed\n"
     ]
    },
    {
     "name": "stdout",
     "output_type": "stream",
     "text": [
      "File 1951.parquet already exists in GCS. Skipping upload.\n",
      "Loaded data into BigQuery table dbt-analytics-engineer-435907.stock_dataset.stock_data from gs://stock-data-bucket_hopop/1951.parquet.\n"
     ]
    },
    {
     "name": "stderr",
     "output_type": "stream",
     "text": [
      "[*********************100%***********************]  1 of 1 completed\n"
     ]
    },
    {
     "name": "stdout",
     "output_type": "stream",
     "text": [
      "File 8938.parquet already exists in GCS. Skipping upload.\n",
      "Loaded data into BigQuery table dbt-analytics-engineer-435907.stock_dataset.stock_data from gs://stock-data-bucket_hopop/8938.parquet.\n"
     ]
    },
    {
     "name": "stderr",
     "output_type": "stream",
     "text": [
      "[*********************100%***********************]  1 of 1 completed\n",
      "\n",
      "1 Failed download:\n",
      "['2812.T']: YFTzMissingError('$%ticker%: possibly delisted; no timezone found')\n"
     ]
    },
    {
     "name": "stdout",
     "output_type": "stream",
     "text": [
      "No data found for 2812.T. Skipping...\n"
     ]
    },
    {
     "name": "stderr",
     "output_type": "stream",
     "text": [
      "[*********************100%***********************]  1 of 1 completed\n"
     ]
    },
    {
     "name": "stdout",
     "output_type": "stream",
     "text": [
      "Uploaded ./output/8563.parquet to gs://stock-data-bucket_hopop/8563.parquet\n",
      "Loaded data into BigQuery table dbt-analytics-engineer-435907.stock_dataset.stock_data from gs://stock-data-bucket_hopop/8563.parquet.\n"
     ]
    },
    {
     "name": "stderr",
     "output_type": "stream",
     "text": [
      "[*********************100%***********************]  1 of 1 completed\n"
     ]
    },
    {
     "name": "stdout",
     "output_type": "stream",
     "text": [
      "Uploaded ./output/1592.parquet to gs://stock-data-bucket_hopop/1592.parquet\n",
      "Loaded data into BigQuery table dbt-analytics-engineer-435907.stock_dataset.stock_data from gs://stock-data-bucket_hopop/1592.parquet.\n"
     ]
    },
    {
     "name": "stderr",
     "output_type": "stream",
     "text": [
      "[*********************100%***********************]  1 of 1 completed\n"
     ]
    },
    {
     "name": "stdout",
     "output_type": "stream",
     "text": [
      "Uploaded ./output/8115.parquet to gs://stock-data-bucket_hopop/8115.parquet\n",
      "Loaded data into BigQuery table dbt-analytics-engineer-435907.stock_dataset.stock_data from gs://stock-data-bucket_hopop/8115.parquet.\n"
     ]
    },
    {
     "name": "stderr",
     "output_type": "stream",
     "text": [
      "[*********************100%***********************]  1 of 1 completed\n"
     ]
    },
    {
     "name": "stdout",
     "output_type": "stream",
     "text": [
      "Uploaded ./output/7898.parquet to gs://stock-data-bucket_hopop/7898.parquet\n",
      "Loaded data into BigQuery table dbt-analytics-engineer-435907.stock_dataset.stock_data from gs://stock-data-bucket_hopop/7898.parquet.\n"
     ]
    },
    {
     "name": "stderr",
     "output_type": "stream",
     "text": [
      "[*********************100%***********************]  1 of 1 completed\n"
     ]
    },
    {
     "name": "stdout",
     "output_type": "stream",
     "text": [
      "Uploaded ./output/7868.parquet to gs://stock-data-bucket_hopop/7868.parquet\n",
      "Loaded data into BigQuery table dbt-analytics-engineer-435907.stock_dataset.stock_data from gs://stock-data-bucket_hopop/7868.parquet.\n"
     ]
    },
    {
     "name": "stderr",
     "output_type": "stream",
     "text": [
      "[*********************100%***********************]  1 of 1 completed\n"
     ]
    },
    {
     "name": "stdout",
     "output_type": "stream",
     "text": [
      "Uploaded ./output/7609.parquet to gs://stock-data-bucket_hopop/7609.parquet\n",
      "Loaded data into BigQuery table dbt-analytics-engineer-435907.stock_dataset.stock_data from gs://stock-data-bucket_hopop/7609.parquet.\n"
     ]
    },
    {
     "name": "stderr",
     "output_type": "stream",
     "text": [
      "[*********************100%***********************]  1 of 1 completed\n"
     ]
    },
    {
     "name": "stdout",
     "output_type": "stream",
     "text": [
      "Uploaded ./output/2270.parquet to gs://stock-data-bucket_hopop/2270.parquet\n",
      "Loaded data into BigQuery table dbt-analytics-engineer-435907.stock_dataset.stock_data from gs://stock-data-bucket_hopop/2270.parquet.\n"
     ]
    },
    {
     "name": "stderr",
     "output_type": "stream",
     "text": [
      "[*********************100%***********************]  1 of 1 completed\n"
     ]
    },
    {
     "name": "stdout",
     "output_type": "stream",
     "text": [
      "Uploaded ./output/6919.parquet to gs://stock-data-bucket_hopop/6919.parquet\n",
      "Loaded data into BigQuery table dbt-analytics-engineer-435907.stock_dataset.stock_data from gs://stock-data-bucket_hopop/6919.parquet.\n"
     ]
    },
    {
     "name": "stderr",
     "output_type": "stream",
     "text": [
      "[*********************100%***********************]  1 of 1 completed\n"
     ]
    },
    {
     "name": "stdout",
     "output_type": "stream",
     "text": [
      "Uploaded ./output/6855.parquet to gs://stock-data-bucket_hopop/6855.parquet\n",
      "Loaded data into BigQuery table dbt-analytics-engineer-435907.stock_dataset.stock_data from gs://stock-data-bucket_hopop/6855.parquet.\n"
     ]
    },
    {
     "name": "stderr",
     "output_type": "stream",
     "text": [
      "[*********************100%***********************]  1 of 1 completed\n"
     ]
    },
    {
     "name": "stdout",
     "output_type": "stream",
     "text": [
      "Uploaded ./output/6844.parquet to gs://stock-data-bucket_hopop/6844.parquet\n",
      "Loaded data into BigQuery table dbt-analytics-engineer-435907.stock_dataset.stock_data from gs://stock-data-bucket_hopop/6844.parquet.\n"
     ]
    },
    {
     "name": "stderr",
     "output_type": "stream",
     "text": [
      "[*********************100%***********************]  1 of 1 completed\n",
      "\n",
      "1 Failed download:\n",
      "['3085.T']: YFTzMissingError('$%ticker%: possibly delisted; no timezone found')\n"
     ]
    },
    {
     "name": "stdout",
     "output_type": "stream",
     "text": [
      "No data found for 3085.T. Skipping...\n"
     ]
    },
    {
     "name": "stderr",
     "output_type": "stream",
     "text": [
      "[*********************100%***********************]  1 of 1 completed\n"
     ]
    },
    {
     "name": "stdout",
     "output_type": "stream",
     "text": [
      "Uploaded ./output/6675.parquet to gs://stock-data-bucket_hopop/6675.parquet\n",
      "Loaded data into BigQuery table dbt-analytics-engineer-435907.stock_dataset.stock_data from gs://stock-data-bucket_hopop/6675.parquet.\n"
     ]
    },
    {
     "name": "stderr",
     "output_type": "stream",
     "text": [
      "[*********************100%***********************]  1 of 1 completed\n"
     ]
    },
    {
     "name": "stdout",
     "output_type": "stream",
     "text": [
      "Uploaded ./output/6171.parquet to gs://stock-data-bucket_hopop/6171.parquet\n",
      "Loaded data into BigQuery table dbt-analytics-engineer-435907.stock_dataset.stock_data from gs://stock-data-bucket_hopop/6171.parquet.\n"
     ]
    },
    {
     "name": "stderr",
     "output_type": "stream",
     "text": [
      "[*********************100%***********************]  1 of 1 completed\n"
     ]
    },
    {
     "name": "stdout",
     "output_type": "stream",
     "text": [
      "Uploaded ./output/6338.parquet to gs://stock-data-bucket_hopop/6338.parquet\n",
      "Loaded data into BigQuery table dbt-analytics-engineer-435907.stock_dataset.stock_data from gs://stock-data-bucket_hopop/6338.parquet.\n"
     ]
    },
    {
     "name": "stderr",
     "output_type": "stream",
     "text": [
      "[*********************100%***********************]  1 of 1 completed\n",
      "\n",
      "1 Failed download:\n",
      "['5387.T']: YFTzMissingError('$%ticker%: possibly delisted; no timezone found')\n"
     ]
    },
    {
     "name": "stdout",
     "output_type": "stream",
     "text": [
      "No data found for 5387.T. Skipping...\n"
     ]
    },
    {
     "name": "stderr",
     "output_type": "stream",
     "text": [
      "[*********************100%***********************]  1 of 1 completed\n"
     ]
    },
    {
     "name": "stdout",
     "output_type": "stream",
     "text": [
      "Uploaded ./output/6287.parquet to gs://stock-data-bucket_hopop/6287.parquet\n",
      "Loaded data into BigQuery table dbt-analytics-engineer-435907.stock_dataset.stock_data from gs://stock-data-bucket_hopop/6287.parquet.\n"
     ]
    },
    {
     "name": "stderr",
     "output_type": "stream",
     "text": [
      "[*********************100%***********************]  1 of 1 completed\n"
     ]
    },
    {
     "name": "stdout",
     "output_type": "stream",
     "text": [
      "Uploaded ./output/6176.parquet to gs://stock-data-bucket_hopop/6176.parquet\n",
      "Loaded data into BigQuery table dbt-analytics-engineer-435907.stock_dataset.stock_data from gs://stock-data-bucket_hopop/6176.parquet.\n"
     ]
    },
    {
     "name": "stderr",
     "output_type": "stream",
     "text": [
      "[*********************100%***********************]  1 of 1 completed\n"
     ]
    },
    {
     "name": "stdout",
     "output_type": "stream",
     "text": [
      "Uploaded ./output/6029.parquet to gs://stock-data-bucket_hopop/6029.parquet\n",
      "Loaded data into BigQuery table dbt-analytics-engineer-435907.stock_dataset.stock_data from gs://stock-data-bucket_hopop/6029.parquet.\n"
     ]
    },
    {
     "name": "stderr",
     "output_type": "stream",
     "text": [
      "[*********************100%***********************]  1 of 1 completed\n"
     ]
    },
    {
     "name": "stdout",
     "output_type": "stream",
     "text": [
      "Uploaded ./output/9793.parquet to gs://stock-data-bucket_hopop/9793.parquet\n",
      "Loaded data into BigQuery table dbt-analytics-engineer-435907.stock_dataset.stock_data from gs://stock-data-bucket_hopop/9793.parquet.\n"
     ]
    },
    {
     "name": "stderr",
     "output_type": "stream",
     "text": [
      "[*********************100%***********************]  1 of 1 completed\n"
     ]
    },
    {
     "name": "stdout",
     "output_type": "stream",
     "text": [
      "Uploaded ./output/8074.parquet to gs://stock-data-bucket_hopop/8074.parquet\n",
      "Loaded data into BigQuery table dbt-analytics-engineer-435907.stock_dataset.stock_data from gs://stock-data-bucket_hopop/8074.parquet.\n"
     ]
    },
    {
     "name": "stderr",
     "output_type": "stream",
     "text": [
      "[*********************100%***********************]  1 of 1 completed\n"
     ]
    },
    {
     "name": "stdout",
     "output_type": "stream",
     "text": [
      "Uploaded ./output/9474.parquet to gs://stock-data-bucket_hopop/9474.parquet\n",
      "Loaded data into BigQuery table dbt-analytics-engineer-435907.stock_dataset.stock_data from gs://stock-data-bucket_hopop/9474.parquet.\n"
     ]
    },
    {
     "name": "stderr",
     "output_type": "stream",
     "text": [
      "[*********************100%***********************]  1 of 1 completed\n"
     ]
    },
    {
     "name": "stdout",
     "output_type": "stream",
     "text": [
      "Uploaded ./output/5660.parquet to gs://stock-data-bucket_hopop/5660.parquet\n",
      "Loaded data into BigQuery table dbt-analytics-engineer-435907.stock_dataset.stock_data from gs://stock-data-bucket_hopop/5660.parquet.\n"
     ]
    },
    {
     "name": "stderr",
     "output_type": "stream",
     "text": [
      "[*********************100%***********************]  1 of 1 completed\n"
     ]
    },
    {
     "name": "stdout",
     "output_type": "stream",
     "text": [
      "Uploaded ./output/4587.parquet to gs://stock-data-bucket_hopop/4587.parquet\n",
      "Loaded data into BigQuery table dbt-analytics-engineer-435907.stock_dataset.stock_data from gs://stock-data-bucket_hopop/4587.parquet.\n"
     ]
    },
    {
     "name": "stderr",
     "output_type": "stream",
     "text": [
      "[*********************100%***********************]  1 of 1 completed\n"
     ]
    },
    {
     "name": "stdout",
     "output_type": "stream",
     "text": [
      "Uploaded ./output/4570.parquet to gs://stock-data-bucket_hopop/4570.parquet\n",
      "Loaded data into BigQuery table dbt-analytics-engineer-435907.stock_dataset.stock_data from gs://stock-data-bucket_hopop/4570.parquet.\n"
     ]
    },
    {
     "name": "stderr",
     "output_type": "stream",
     "text": [
      "[*********************100%***********************]  1 of 1 completed\n"
     ]
    },
    {
     "name": "stdout",
     "output_type": "stream",
     "text": [
      "Uploaded ./output/4768.parquet to gs://stock-data-bucket_hopop/4768.parquet\n",
      "Loaded data into BigQuery table dbt-analytics-engineer-435907.stock_dataset.stock_data from gs://stock-data-bucket_hopop/4768.parquet.\n"
     ]
    },
    {
     "name": "stderr",
     "output_type": "stream",
     "text": [
      "[*********************100%***********************]  1 of 1 completed\n"
     ]
    },
    {
     "name": "stdout",
     "output_type": "stream",
     "text": [
      "Uploaded ./output/3111.parquet to gs://stock-data-bucket_hopop/3111.parquet\n",
      "Loaded data into BigQuery table dbt-analytics-engineer-435907.stock_dataset.stock_data from gs://stock-data-bucket_hopop/3111.parquet.\n"
     ]
    },
    {
     "name": "stderr",
     "output_type": "stream",
     "text": [
      "[*********************100%***********************]  1 of 1 completed\n",
      "\n",
      "1 Failed download:\n",
      "['8228.T']: YFTzMissingError('$%ticker%: possibly delisted; no timezone found')\n"
     ]
    },
    {
     "name": "stdout",
     "output_type": "stream",
     "text": [
      "No data found for 8228.T. Skipping...\n"
     ]
    },
    {
     "name": "stderr",
     "output_type": "stream",
     "text": [
      "[*********************100%***********************]  1 of 1 completed\n"
     ]
    },
    {
     "name": "stdout",
     "output_type": "stream",
     "text": [
      "Uploaded ./output/9042.parquet to gs://stock-data-bucket_hopop/9042.parquet\n",
      "Loaded data into BigQuery table dbt-analytics-engineer-435907.stock_dataset.stock_data from gs://stock-data-bucket_hopop/9042.parquet.\n"
     ]
    },
    {
     "name": "stderr",
     "output_type": "stream",
     "text": [
      "[*********************100%***********************]  1 of 1 completed\n"
     ]
    },
    {
     "name": "stdout",
     "output_type": "stream",
     "text": [
      "Uploaded ./output/2206.parquet to gs://stock-data-bucket_hopop/2206.parquet\n",
      "Loaded data into BigQuery table dbt-analytics-engineer-435907.stock_dataset.stock_data from gs://stock-data-bucket_hopop/2206.parquet.\n"
     ]
    },
    {
     "name": "stderr",
     "output_type": "stream",
     "text": [
      "[*********************100%***********************]  1 of 1 completed\n",
      "\n",
      "1 Failed download:\n",
      "['2773.T']: YFTzMissingError('$%ticker%: possibly delisted; no timezone found')\n"
     ]
    },
    {
     "name": "stdout",
     "output_type": "stream",
     "text": [
      "No data found for 2773.T. Skipping...\n"
     ]
    },
    {
     "name": "stderr",
     "output_type": "stream",
     "text": [
      "[*********************100%***********************]  1 of 1 completed\n"
     ]
    },
    {
     "name": "stdout",
     "output_type": "stream",
     "text": [
      "Uploaded ./output/2475.parquet to gs://stock-data-bucket_hopop/2475.parquet\n",
      "Loaded data into BigQuery table dbt-analytics-engineer-435907.stock_dataset.stock_data from gs://stock-data-bucket_hopop/2475.parquet.\n"
     ]
    },
    {
     "name": "stderr",
     "output_type": "stream",
     "text": [
      "[*********************100%***********************]  1 of 1 completed\n",
      "\n",
      "1 Failed download:\n",
      "['2458.T']: YFPricesMissingError('$%ticker%: possibly delisted; no price data found  (1d 2024-01-01 -> 2024-09-30)')\n"
     ]
    },
    {
     "name": "stdout",
     "output_type": "stream",
     "text": [
      "No data found for 2458.T. Skipping...\n"
     ]
    },
    {
     "name": "stderr",
     "output_type": "stream",
     "text": [
      "[*********************100%***********************]  1 of 1 completed\n"
     ]
    },
    {
     "name": "stdout",
     "output_type": "stream",
     "text": [
      "Uploaded ./output/8836.parquet to gs://stock-data-bucket_hopop/8836.parquet\n",
      "Loaded data into BigQuery table dbt-analytics-engineer-435907.stock_dataset.stock_data from gs://stock-data-bucket_hopop/8836.parquet.\n"
     ]
    },
    {
     "name": "stderr",
     "output_type": "stream",
     "text": [
      "[*********************100%***********************]  1 of 1 completed\n"
     ]
    },
    {
     "name": "stdout",
     "output_type": "stream",
     "text": [
      "Uploaded ./output/2435.parquet to gs://stock-data-bucket_hopop/2435.parquet\n",
      "Loaded data into BigQuery table dbt-analytics-engineer-435907.stock_dataset.stock_data from gs://stock-data-bucket_hopop/2435.parquet.\n"
     ]
    },
    {
     "name": "stderr",
     "output_type": "stream",
     "text": [
      "[*********************100%***********************]  1 of 1 completed\n"
     ]
    },
    {
     "name": "stdout",
     "output_type": "stream",
     "text": [
      "Uploaded ./output/2195.parquet to gs://stock-data-bucket_hopop/2195.parquet\n",
      "Loaded data into BigQuery table dbt-analytics-engineer-435907.stock_dataset.stock_data from gs://stock-data-bucket_hopop/2195.parquet.\n"
     ]
    },
    {
     "name": "stderr",
     "output_type": "stream",
     "text": [
      "[*********************100%***********************]  1 of 1 completed\n"
     ]
    },
    {
     "name": "stdout",
     "output_type": "stream",
     "text": [
      "Uploaded ./output/3042.parquet to gs://stock-data-bucket_hopop/3042.parquet\n",
      "Loaded data into BigQuery table dbt-analytics-engineer-435907.stock_dataset.stock_data from gs://stock-data-bucket_hopop/3042.parquet.\n"
     ]
    },
    {
     "name": "stderr",
     "output_type": "stream",
     "text": [
      "[*********************100%***********************]  1 of 1 completed\n"
     ]
    },
    {
     "name": "stdout",
     "output_type": "stream",
     "text": [
      "Uploaded ./output/7989.parquet to gs://stock-data-bucket_hopop/7989.parquet\n",
      "Loaded data into BigQuery table dbt-analytics-engineer-435907.stock_dataset.stock_data from gs://stock-data-bucket_hopop/7989.parquet.\n"
     ]
    },
    {
     "name": "stderr",
     "output_type": "stream",
     "text": [
      "[*********************100%***********************]  1 of 1 completed\n"
     ]
    },
    {
     "name": "stdout",
     "output_type": "stream",
     "text": [
      "Uploaded ./output/1981.parquet to gs://stock-data-bucket_hopop/1981.parquet\n",
      "Loaded data into BigQuery table dbt-analytics-engineer-435907.stock_dataset.stock_data from gs://stock-data-bucket_hopop/1981.parquet.\n"
     ]
    },
    {
     "name": "stderr",
     "output_type": "stream",
     "text": [
      "[*********************100%***********************]  1 of 1 completed\n"
     ]
    },
    {
     "name": "stdout",
     "output_type": "stream",
     "text": [
      "Uploaded ./output/1380.parquet to gs://stock-data-bucket_hopop/1380.parquet\n",
      "Loaded data into BigQuery table dbt-analytics-engineer-435907.stock_dataset.stock_data from gs://stock-data-bucket_hopop/1380.parquet.\n"
     ]
    },
    {
     "name": "stderr",
     "output_type": "stream",
     "text": [
      "[*********************100%***********************]  1 of 1 completed\n"
     ]
    },
    {
     "name": "stdout",
     "output_type": "stream",
     "text": [
      "Uploaded ./output/8361.parquet to gs://stock-data-bucket_hopop/8361.parquet\n",
      "Loaded data into BigQuery table dbt-analytics-engineer-435907.stock_dataset.stock_data from gs://stock-data-bucket_hopop/8361.parquet.\n"
     ]
    },
    {
     "name": "stderr",
     "output_type": "stream",
     "text": [
      "[*********************100%***********************]  1 of 1 completed\n"
     ]
    },
    {
     "name": "stdout",
     "output_type": "stream",
     "text": [
      "Uploaded ./output/7593.parquet to gs://stock-data-bucket_hopop/7593.parquet\n",
      "Loaded data into BigQuery table dbt-analytics-engineer-435907.stock_dataset.stock_data from gs://stock-data-bucket_hopop/7593.parquet.\n"
     ]
    },
    {
     "name": "stderr",
     "output_type": "stream",
     "text": [
      "[*********************100%***********************]  1 of 1 completed\n",
      "\n",
      "1 Failed download:\n",
      "['7895.T']: YFTzMissingError('$%ticker%: possibly delisted; no timezone found')\n"
     ]
    },
    {
     "name": "stdout",
     "output_type": "stream",
     "text": [
      "No data found for 7895.T. Skipping...\n"
     ]
    },
    {
     "name": "stderr",
     "output_type": "stream",
     "text": [
      "[*********************100%***********************]  1 of 1 completed\n"
     ]
    },
    {
     "name": "stdout",
     "output_type": "stream",
     "text": [
      "Uploaded ./output/8091.parquet to gs://stock-data-bucket_hopop/8091.parquet\n",
      "Loaded data into BigQuery table dbt-analytics-engineer-435907.stock_dataset.stock_data from gs://stock-data-bucket_hopop/8091.parquet.\n"
     ]
    },
    {
     "name": "stderr",
     "output_type": "stream",
     "text": [
      "[*********************100%***********************]  1 of 1 completed\n"
     ]
    },
    {
     "name": "stdout",
     "output_type": "stream",
     "text": [
      "Uploaded ./output/7185.parquet to gs://stock-data-bucket_hopop/7185.parquet\n",
      "Loaded data into BigQuery table dbt-analytics-engineer-435907.stock_dataset.stock_data from gs://stock-data-bucket_hopop/7185.parquet.\n"
     ]
    },
    {
     "name": "stderr",
     "output_type": "stream",
     "text": [
      "[*********************100%***********************]  1 of 1 completed\n"
     ]
    },
    {
     "name": "stdout",
     "output_type": "stream",
     "text": [
      "Uploaded ./output/9193.parquet to gs://stock-data-bucket_hopop/9193.parquet\n",
      "Loaded data into BigQuery table dbt-analytics-engineer-435907.stock_dataset.stock_data from gs://stock-data-bucket_hopop/9193.parquet.\n"
     ]
    },
    {
     "name": "stderr",
     "output_type": "stream",
     "text": [
      "[*********************100%***********************]  1 of 1 completed\n"
     ]
    },
    {
     "name": "stdout",
     "output_type": "stream",
     "text": [
      "Uploaded ./output/7822.parquet to gs://stock-data-bucket_hopop/7822.parquet\n",
      "Loaded data into BigQuery table dbt-analytics-engineer-435907.stock_dataset.stock_data from gs://stock-data-bucket_hopop/7822.parquet.\n"
     ]
    },
    {
     "name": "stderr",
     "output_type": "stream",
     "text": [
      "[*********************100%***********************]  1 of 1 completed\n"
     ]
    },
    {
     "name": "stdout",
     "output_type": "stream",
     "text": [
      "Uploaded ./output/7722.parquet to gs://stock-data-bucket_hopop/7722.parquet\n",
      "Loaded data into BigQuery table dbt-analytics-engineer-435907.stock_dataset.stock_data from gs://stock-data-bucket_hopop/7722.parquet.\n"
     ]
    },
    {
     "name": "stderr",
     "output_type": "stream",
     "text": [
      "[*********************100%***********************]  1 of 1 completed\n"
     ]
    },
    {
     "name": "stdout",
     "output_type": "stream",
     "text": [
      "Uploaded ./output/6957.parquet to gs://stock-data-bucket_hopop/6957.parquet\n",
      "Loaded data into BigQuery table dbt-analytics-engineer-435907.stock_dataset.stock_data from gs://stock-data-bucket_hopop/6957.parquet.\n"
     ]
    },
    {
     "name": "stderr",
     "output_type": "stream",
     "text": [
      "[*********************100%***********************]  1 of 1 completed\n"
     ]
    },
    {
     "name": "stdout",
     "output_type": "stream",
     "text": [
      "Uploaded ./output/6894.parquet to gs://stock-data-bucket_hopop/6894.parquet\n",
      "Loaded data into BigQuery table dbt-analytics-engineer-435907.stock_dataset.stock_data from gs://stock-data-bucket_hopop/6894.parquet.\n"
     ]
    },
    {
     "name": "stderr",
     "output_type": "stream",
     "text": [
      "[*********************100%***********************]  1 of 1 completed\n",
      "\n",
      "1 Failed download:\n",
      "['6889.T']: YFTzMissingError('$%ticker%: possibly delisted; no timezone found')\n"
     ]
    },
    {
     "name": "stdout",
     "output_type": "stream",
     "text": [
      "No data found for 6889.T. Skipping...\n"
     ]
    },
    {
     "name": "stderr",
     "output_type": "stream",
     "text": [
      "[*********************100%***********************]  1 of 1 completed\n"
     ]
    },
    {
     "name": "stdout",
     "output_type": "stream",
     "text": [
      "Uploaded ./output/1691.parquet to gs://stock-data-bucket_hopop/1691.parquet\n",
      "Loaded data into BigQuery table dbt-analytics-engineer-435907.stock_dataset.stock_data from gs://stock-data-bucket_hopop/1691.parquet.\n"
     ]
    },
    {
     "name": "stderr",
     "output_type": "stream",
     "text": [
      "[*********************100%***********************]  1 of 1 completed\n",
      "\n",
      "1 Failed download:\n",
      "['4963.T']: YFTzMissingError('$%ticker%: possibly delisted; no timezone found')\n"
     ]
    },
    {
     "name": "stdout",
     "output_type": "stream",
     "text": [
      "No data found for 4963.T. Skipping...\n"
     ]
    },
    {
     "name": "stderr",
     "output_type": "stream",
     "text": [
      "[*********************100%***********************]  1 of 1 completed\n"
     ]
    },
    {
     "name": "stdout",
     "output_type": "stream",
     "text": [
      "Uploaded ./output/3350.parquet to gs://stock-data-bucket_hopop/3350.parquet\n",
      "Loaded data into BigQuery table dbt-analytics-engineer-435907.stock_dataset.stock_data from gs://stock-data-bucket_hopop/3350.parquet.\n"
     ]
    },
    {
     "name": "stderr",
     "output_type": "stream",
     "text": [
      "[*********************100%***********************]  1 of 1 completed\n"
     ]
    },
    {
     "name": "stdout",
     "output_type": "stream",
     "text": [
      "Uploaded ./output/9739.parquet to gs://stock-data-bucket_hopop/9739.parquet\n",
      "Loaded data into BigQuery table dbt-analytics-engineer-435907.stock_dataset.stock_data from gs://stock-data-bucket_hopop/9739.parquet.\n"
     ]
    },
    {
     "name": "stderr",
     "output_type": "stream",
     "text": [
      "[*********************100%***********************]  1 of 1 completed\n"
     ]
    },
    {
     "name": "stdout",
     "output_type": "stream",
     "text": [
      "Uploaded ./output/9048.parquet to gs://stock-data-bucket_hopop/9048.parquet\n",
      "Loaded data into BigQuery table dbt-analytics-engineer-435907.stock_dataset.stock_data from gs://stock-data-bucket_hopop/9048.parquet.\n"
     ]
    },
    {
     "name": "stderr",
     "output_type": "stream",
     "text": [
      "[*********************100%***********************]  1 of 1 completed\n"
     ]
    },
    {
     "name": "stdout",
     "output_type": "stream",
     "text": [
      "Uploaded ./output/6776.parquet to gs://stock-data-bucket_hopop/6776.parquet\n",
      "Loaded data into BigQuery table dbt-analytics-engineer-435907.stock_dataset.stock_data from gs://stock-data-bucket_hopop/6776.parquet.\n"
     ]
    },
    {
     "name": "stderr",
     "output_type": "stream",
     "text": [
      "[*********************100%***********************]  1 of 1 completed\n"
     ]
    },
    {
     "name": "stdout",
     "output_type": "stream",
     "text": [
      "Uploaded ./output/3660.parquet to gs://stock-data-bucket_hopop/3660.parquet\n",
      "Loaded data into BigQuery table dbt-analytics-engineer-435907.stock_dataset.stock_data from gs://stock-data-bucket_hopop/3660.parquet.\n"
     ]
    },
    {
     "name": "stderr",
     "output_type": "stream",
     "text": [
      "[*********************100%***********************]  1 of 1 completed\n"
     ]
    },
    {
     "name": "stdout",
     "output_type": "stream",
     "text": [
      "Uploaded ./output/6276.parquet to gs://stock-data-bucket_hopop/6276.parquet\n",
      "Loaded data into BigQuery table dbt-analytics-engineer-435907.stock_dataset.stock_data from gs://stock-data-bucket_hopop/6276.parquet.\n"
     ]
    },
    {
     "name": "stderr",
     "output_type": "stream",
     "text": [
      "[*********************100%***********************]  1 of 1 completed\n"
     ]
    },
    {
     "name": "stdout",
     "output_type": "stream",
     "text": [
      "Uploaded ./output/6246.parquet to gs://stock-data-bucket_hopop/6246.parquet\n",
      "Loaded data into BigQuery table dbt-analytics-engineer-435907.stock_dataset.stock_data from gs://stock-data-bucket_hopop/6246.parquet.\n"
     ]
    },
    {
     "name": "stderr",
     "output_type": "stream",
     "text": [
      "[*********************100%***********************]  1 of 1 completed\n"
     ]
    },
    {
     "name": "stdout",
     "output_type": "stream",
     "text": [
      "Uploaded ./output/7972.parquet to gs://stock-data-bucket_hopop/7972.parquet\n",
      "Loaded data into BigQuery table dbt-analytics-engineer-435907.stock_dataset.stock_data from gs://stock-data-bucket_hopop/7972.parquet.\n"
     ]
    },
    {
     "name": "stderr",
     "output_type": "stream",
     "text": [
      "[*********************100%***********************]  1 of 1 completed\n"
     ]
    },
    {
     "name": "stdout",
     "output_type": "stream",
     "text": [
      "Uploaded ./output/5998.parquet to gs://stock-data-bucket_hopop/5998.parquet\n",
      "Loaded data into BigQuery table dbt-analytics-engineer-435907.stock_dataset.stock_data from gs://stock-data-bucket_hopop/5998.parquet.\n"
     ]
    },
    {
     "name": "stderr",
     "output_type": "stream",
     "text": [
      "[*********************100%***********************]  1 of 1 completed\n"
     ]
    },
    {
     "name": "stdout",
     "output_type": "stream",
     "text": [
      "Uploaded ./output/5902.parquet to gs://stock-data-bucket_hopop/5902.parquet\n",
      "Loaded data into BigQuery table dbt-analytics-engineer-435907.stock_dataset.stock_data from gs://stock-data-bucket_hopop/5902.parquet.\n"
     ]
    },
    {
     "name": "stderr",
     "output_type": "stream",
     "text": [
      "[*********************100%***********************]  1 of 1 completed\n"
     ]
    },
    {
     "name": "stdout",
     "output_type": "stream",
     "text": [
      "Uploaded ./output/2327.parquet to gs://stock-data-bucket_hopop/2327.parquet\n",
      "Loaded data into BigQuery table dbt-analytics-engineer-435907.stock_dataset.stock_data from gs://stock-data-bucket_hopop/2327.parquet.\n"
     ]
    },
    {
     "name": "stderr",
     "output_type": "stream",
     "text": [
      "[*********************100%***********************]  1 of 1 completed\n"
     ]
    },
    {
     "name": "stdout",
     "output_type": "stream",
     "text": [
      "Uploaded ./output/5122.parquet to gs://stock-data-bucket_hopop/5122.parquet\n",
      "Loaded data into BigQuery table dbt-analytics-engineer-435907.stock_dataset.stock_data from gs://stock-data-bucket_hopop/5122.parquet.\n"
     ]
    },
    {
     "name": "stderr",
     "output_type": "stream",
     "text": [
      "[*********************100%***********************]  1 of 1 completed\n",
      "\n",
      "1 Failed download:\n",
      "['5002.T']: YFTzMissingError('$%ticker%: possibly delisted; no timezone found')\n"
     ]
    },
    {
     "name": "stdout",
     "output_type": "stream",
     "text": [
      "No data found for 5002.T. Skipping...\n"
     ]
    },
    {
     "name": "stderr",
     "output_type": "stream",
     "text": [
      "[*********************100%***********************]  1 of 1 completed\n"
     ]
    },
    {
     "name": "stdout",
     "output_type": "stream",
     "text": [
      "Uploaded ./output/6416.parquet to gs://stock-data-bucket_hopop/6416.parquet\n",
      "Loaded data into BigQuery table dbt-analytics-engineer-435907.stock_dataset.stock_data from gs://stock-data-bucket_hopop/6416.parquet.\n"
     ]
    },
    {
     "name": "stderr",
     "output_type": "stream",
     "text": [
      "[*********************100%***********************]  1 of 1 completed\n",
      "\n",
      "1 Failed download:\n",
      "['4364.T']: YFTzMissingError('$%ticker%: possibly delisted; no timezone found')\n"
     ]
    },
    {
     "name": "stdout",
     "output_type": "stream",
     "text": [
      "No data found for 4364.T. Skipping...\n"
     ]
    },
    {
     "name": "stderr",
     "output_type": "stream",
     "text": [
      "[*********************100%***********************]  1 of 1 completed\n"
     ]
    },
    {
     "name": "stdout",
     "output_type": "stream",
     "text": [
      "Uploaded ./output/4323.parquet to gs://stock-data-bucket_hopop/4323.parquet\n",
      "Loaded data into BigQuery table dbt-analytics-engineer-435907.stock_dataset.stock_data from gs://stock-data-bucket_hopop/4323.parquet.\n"
     ]
    },
    {
     "name": "stderr",
     "output_type": "stream",
     "text": [
      "[*********************100%***********************]  1 of 1 completed\n"
     ]
    },
    {
     "name": "stdout",
     "output_type": "stream",
     "text": [
      "Uploaded ./output/6333.parquet to gs://stock-data-bucket_hopop/6333.parquet\n",
      "Loaded data into BigQuery table dbt-analytics-engineer-435907.stock_dataset.stock_data from gs://stock-data-bucket_hopop/6333.parquet.\n"
     ]
    },
    {
     "name": "stderr",
     "output_type": "stream",
     "text": [
      "[*********************100%***********************]  1 of 1 completed\n"
     ]
    },
    {
     "name": "stdout",
     "output_type": "stream",
     "text": [
      "Uploaded ./output/4319.parquet to gs://stock-data-bucket_hopop/4319.parquet\n",
      "Loaded data into BigQuery table dbt-analytics-engineer-435907.stock_dataset.stock_data from gs://stock-data-bucket_hopop/4319.parquet.\n"
     ]
    },
    {
     "name": "stderr",
     "output_type": "stream",
     "text": [
      "[*********************100%***********************]  1 of 1 completed\n"
     ]
    },
    {
     "name": "stdout",
     "output_type": "stream",
     "text": [
      "Uploaded ./output/4064.parquet to gs://stock-data-bucket_hopop/4064.parquet\n",
      "Loaded data into BigQuery table dbt-analytics-engineer-435907.stock_dataset.stock_data from gs://stock-data-bucket_hopop/4064.parquet.\n"
     ]
    },
    {
     "name": "stderr",
     "output_type": "stream",
     "text": [
      "[*********************100%***********************]  1 of 1 completed\n",
      "\n",
      "1 Failed download:\n",
      "['9643.T']: YFTzMissingError('$%ticker%: possibly delisted; no timezone found')\n"
     ]
    },
    {
     "name": "stdout",
     "output_type": "stream",
     "text": [
      "No data found for 9643.T. Skipping...\n"
     ]
    },
    {
     "name": "stderr",
     "output_type": "stream",
     "text": [
      "[*********************100%***********************]  1 of 1 completed\n"
     ]
    },
    {
     "name": "stdout",
     "output_type": "stream",
     "text": [
      "Uploaded ./output/4025.parquet to gs://stock-data-bucket_hopop/4025.parquet\n",
      "Loaded data into BigQuery table dbt-analytics-engineer-435907.stock_dataset.stock_data from gs://stock-data-bucket_hopop/4025.parquet.\n"
     ]
    },
    {
     "name": "stderr",
     "output_type": "stream",
     "text": [
      "[*********************100%***********************]  1 of 1 completed\n"
     ]
    },
    {
     "name": "stdout",
     "output_type": "stream",
     "text": [
      "Uploaded ./output/6835.parquet to gs://stock-data-bucket_hopop/6835.parquet\n",
      "Loaded data into BigQuery table dbt-analytics-engineer-435907.stock_dataset.stock_data from gs://stock-data-bucket_hopop/6835.parquet.\n"
     ]
    },
    {
     "name": "stderr",
     "output_type": "stream",
     "text": [
      "[*********************100%***********************]  1 of 1 completed\n"
     ]
    },
    {
     "name": "stdout",
     "output_type": "stream",
     "text": [
      "Uploaded ./output/3945.parquet to gs://stock-data-bucket_hopop/3945.parquet\n",
      "Loaded data into BigQuery table dbt-analytics-engineer-435907.stock_dataset.stock_data from gs://stock-data-bucket_hopop/3945.parquet.\n"
     ]
    },
    {
     "name": "stderr",
     "output_type": "stream",
     "text": [
      "[*********************100%***********************]  1 of 1 completed\n"
     ]
    },
    {
     "name": "stdout",
     "output_type": "stream",
     "text": [
      "Uploaded ./output/4005.parquet to gs://stock-data-bucket_hopop/4005.parquet\n",
      "Loaded data into BigQuery table dbt-analytics-engineer-435907.stock_dataset.stock_data from gs://stock-data-bucket_hopop/4005.parquet.\n"
     ]
    },
    {
     "name": "stderr",
     "output_type": "stream",
     "text": [
      "[*********************100%***********************]  1 of 1 completed\n"
     ]
    },
    {
     "name": "stdout",
     "output_type": "stream",
     "text": [
      "Uploaded ./output/3856.parquet to gs://stock-data-bucket_hopop/3856.parquet\n",
      "Loaded data into BigQuery table dbt-analytics-engineer-435907.stock_dataset.stock_data from gs://stock-data-bucket_hopop/3856.parquet.\n"
     ]
    },
    {
     "name": "stderr",
     "output_type": "stream",
     "text": [
      "[*********************100%***********************]  1 of 1 completed\n"
     ]
    },
    {
     "name": "stdout",
     "output_type": "stream",
     "text": [
      "Uploaded ./output/6098.parquet to gs://stock-data-bucket_hopop/6098.parquet\n",
      "Loaded data into BigQuery table dbt-analytics-engineer-435907.stock_dataset.stock_data from gs://stock-data-bucket_hopop/6098.parquet.\n"
     ]
    },
    {
     "name": "stderr",
     "output_type": "stream",
     "text": [
      "[*********************100%***********************]  1 of 1 completed\n"
     ]
    },
    {
     "name": "stdout",
     "output_type": "stream",
     "text": [
      "Uploaded ./output/3372.parquet to gs://stock-data-bucket_hopop/3372.parquet\n",
      "Loaded data into BigQuery table dbt-analytics-engineer-435907.stock_dataset.stock_data from gs://stock-data-bucket_hopop/3372.parquet.\n"
     ]
    },
    {
     "name": "stderr",
     "output_type": "stream",
     "text": [
      "[*********************100%***********************]  1 of 1 completed\n"
     ]
    },
    {
     "name": "stdout",
     "output_type": "stream",
     "text": [
      "Uploaded ./output/3939.parquet to gs://stock-data-bucket_hopop/3939.parquet\n",
      "Loaded data into BigQuery table dbt-analytics-engineer-435907.stock_dataset.stock_data from gs://stock-data-bucket_hopop/3939.parquet.\n"
     ]
    },
    {
     "name": "stderr",
     "output_type": "stream",
     "text": [
      "[*********************100%***********************]  1 of 1 completed\n",
      "\n",
      "1 Failed download:\n",
      "['3685.T']: YFPricesMissingError('$%ticker%: possibly delisted; no price data found  (1d 2024-01-01 -> 2024-09-30)')\n"
     ]
    },
    {
     "name": "stdout",
     "output_type": "stream",
     "text": [
      "No data found for 3685.T. Skipping...\n"
     ]
    },
    {
     "name": "stderr",
     "output_type": "stream",
     "text": [
      "[*********************100%***********************]  1 of 1 completed\n"
     ]
    },
    {
     "name": "stdout",
     "output_type": "stream",
     "text": [
      "Uploaded ./output/1870.parquet to gs://stock-data-bucket_hopop/1870.parquet\n",
      "Loaded data into BigQuery table dbt-analytics-engineer-435907.stock_dataset.stock_data from gs://stock-data-bucket_hopop/1870.parquet.\n"
     ]
    },
    {
     "name": "stderr",
     "output_type": "stream",
     "text": [
      "[*********************100%***********************]  1 of 1 completed\n"
     ]
    },
    {
     "name": "stdout",
     "output_type": "stream",
     "text": [
      "Uploaded ./output/1435.parquet to gs://stock-data-bucket_hopop/1435.parquet\n",
      "Loaded data into BigQuery table dbt-analytics-engineer-435907.stock_dataset.stock_data from gs://stock-data-bucket_hopop/1435.parquet.\n"
     ]
    },
    {
     "name": "stderr",
     "output_type": "stream",
     "text": [
      "[*********************100%***********************]  1 of 1 completed\n",
      "\n",
      "1 Failed download:\n",
      "['7597.T']: YFTzMissingError('$%ticker%: possibly delisted; no timezone found')\n"
     ]
    },
    {
     "name": "stdout",
     "output_type": "stream",
     "text": [
      "No data found for 7597.T. Skipping...\n"
     ]
    },
    {
     "name": "stderr",
     "output_type": "stream",
     "text": [
      "[*********************100%***********************]  1 of 1 completed\n"
     ]
    },
    {
     "name": "stdout",
     "output_type": "stream",
     "text": [
      "Uploaded ./output/6797.parquet to gs://stock-data-bucket_hopop/6797.parquet\n",
      "Loaded data into BigQuery table dbt-analytics-engineer-435907.stock_dataset.stock_data from gs://stock-data-bucket_hopop/6797.parquet.\n"
     ]
    },
    {
     "name": "stderr",
     "output_type": "stream",
     "text": [
      "[*********************100%***********************]  1 of 1 completed\n"
     ]
    },
    {
     "name": "stdout",
     "output_type": "stream",
     "text": [
      "Uploaded ./output/1730.parquet to gs://stock-data-bucket_hopop/1730.parquet\n",
      "Loaded data into BigQuery table dbt-analytics-engineer-435907.stock_dataset.stock_data from gs://stock-data-bucket_hopop/1730.parquet.\n"
     ]
    },
    {
     "name": "stderr",
     "output_type": "stream",
     "text": [
      "[*********************100%***********************]  1 of 1 completed\n"
     ]
    },
    {
     "name": "stdout",
     "output_type": "stream",
     "text": [
      "Uploaded ./output/6060.parquet to gs://stock-data-bucket_hopop/6060.parquet\n",
      "Loaded data into BigQuery table dbt-analytics-engineer-435907.stock_dataset.stock_data from gs://stock-data-bucket_hopop/6060.parquet.\n"
     ]
    },
    {
     "name": "stderr",
     "output_type": "stream",
     "text": [
      "[*********************100%***********************]  1 of 1 completed\n"
     ]
    },
    {
     "name": "stdout",
     "output_type": "stream",
     "text": [
      "Uploaded ./output/1925.parquet to gs://stock-data-bucket_hopop/1925.parquet\n",
      "Loaded data into BigQuery table dbt-analytics-engineer-435907.stock_dataset.stock_data from gs://stock-data-bucket_hopop/1925.parquet.\n"
     ]
    },
    {
     "name": "stderr",
     "output_type": "stream",
     "text": [
      "[*********************100%***********************]  1 of 1 completed\n"
     ]
    },
    {
     "name": "stdout",
     "output_type": "stream",
     "text": [
      "Uploaded ./output/7021.parquet to gs://stock-data-bucket_hopop/7021.parquet\n",
      "Loaded data into BigQuery table dbt-analytics-engineer-435907.stock_dataset.stock_data from gs://stock-data-bucket_hopop/7021.parquet.\n"
     ]
    },
    {
     "name": "stderr",
     "output_type": "stream",
     "text": [
      "[*********************100%***********************]  1 of 1 completed\n",
      "\n",
      "1 Failed download:\n",
      "['3754.T']: YFPricesMissingError('$%ticker%: possibly delisted; no price data found  (1d 2024-01-01 -> 2024-09-30)')\n"
     ]
    },
    {
     "name": "stdout",
     "output_type": "stream",
     "text": [
      "No data found for 3754.T. Skipping...\n"
     ]
    },
    {
     "name": "stderr",
     "output_type": "stream",
     "text": [
      "[*********************100%***********************]  1 of 1 completed\n"
     ]
    },
    {
     "name": "stdout",
     "output_type": "stream",
     "text": [
      "Uploaded ./output/9436.parquet to gs://stock-data-bucket_hopop/9436.parquet\n",
      "Loaded data into BigQuery table dbt-analytics-engineer-435907.stock_dataset.stock_data from gs://stock-data-bucket_hopop/9436.parquet.\n"
     ]
    },
    {
     "name": "stderr",
     "output_type": "stream",
     "text": [
      "[*********************100%***********************]  1 of 1 completed\n"
     ]
    },
    {
     "name": "stdout",
     "output_type": "stream",
     "text": [
      "Uploaded ./output/9849.parquet to gs://stock-data-bucket_hopop/9849.parquet\n",
      "Loaded data into BigQuery table dbt-analytics-engineer-435907.stock_dataset.stock_data from gs://stock-data-bucket_hopop/9849.parquet.\n"
     ]
    },
    {
     "name": "stderr",
     "output_type": "stream",
     "text": [
      "[*********************100%***********************]  1 of 1 completed\n"
     ]
    },
    {
     "name": "stdout",
     "output_type": "stream",
     "text": [
      "Uploaded ./output/6742.parquet to gs://stock-data-bucket_hopop/6742.parquet\n",
      "Loaded data into BigQuery table dbt-analytics-engineer-435907.stock_dataset.stock_data from gs://stock-data-bucket_hopop/6742.parquet.\n"
     ]
    },
    {
     "name": "stderr",
     "output_type": "stream",
     "text": [
      "[*********************100%***********************]  1 of 1 completed\n"
     ]
    },
    {
     "name": "stdout",
     "output_type": "stream",
     "text": [
      "Uploaded ./output/4061.parquet to gs://stock-data-bucket_hopop/4061.parquet\n",
      "Loaded data into BigQuery table dbt-analytics-engineer-435907.stock_dataset.stock_data from gs://stock-data-bucket_hopop/4061.parquet.\n"
     ]
    },
    {
     "name": "stderr",
     "output_type": "stream",
     "text": [
      "[*********************100%***********************]  1 of 1 completed\n"
     ]
    },
    {
     "name": "stdout",
     "output_type": "stream",
     "text": [
      "Uploaded ./output/5288.parquet to gs://stock-data-bucket_hopop/5288.parquet\n",
      "Loaded data into BigQuery table dbt-analytics-engineer-435907.stock_dataset.stock_data from gs://stock-data-bucket_hopop/5288.parquet.\n"
     ]
    },
    {
     "name": "stderr",
     "output_type": "stream",
     "text": [
      "[*********************100%***********************]  1 of 1 completed\n"
     ]
    },
    {
     "name": "stdout",
     "output_type": "stream",
     "text": [
      "Uploaded ./output/3836.parquet to gs://stock-data-bucket_hopop/3836.parquet\n",
      "Loaded data into BigQuery table dbt-analytics-engineer-435907.stock_dataset.stock_data from gs://stock-data-bucket_hopop/3836.parquet.\n"
     ]
    },
    {
     "name": "stderr",
     "output_type": "stream",
     "text": [
      "[*********************100%***********************]  1 of 1 completed\n"
     ]
    },
    {
     "name": "stdout",
     "output_type": "stream",
     "text": [
      "Uploaded ./output/6467.parquet to gs://stock-data-bucket_hopop/6467.parquet\n",
      "Loaded data into BigQuery table dbt-analytics-engineer-435907.stock_dataset.stock_data from gs://stock-data-bucket_hopop/6467.parquet.\n"
     ]
    },
    {
     "name": "stderr",
     "output_type": "stream",
     "text": [
      "[*********************100%***********************]  1 of 1 completed\n"
     ]
    },
    {
     "name": "stdout",
     "output_type": "stream",
     "text": [
      "Uploaded ./output/3895.parquet to gs://stock-data-bucket_hopop/3895.parquet\n",
      "Loaded data into BigQuery table dbt-analytics-engineer-435907.stock_dataset.stock_data from gs://stock-data-bucket_hopop/3895.parquet.\n"
     ]
    },
    {
     "name": "stderr",
     "output_type": "stream",
     "text": [
      "[*********************100%***********************]  1 of 1 completed\n"
     ]
    },
    {
     "name": "stdout",
     "output_type": "stream",
     "text": [
      "Uploaded ./output/6630.parquet to gs://stock-data-bucket_hopop/6630.parquet\n",
      "Loaded data into BigQuery table dbt-analytics-engineer-435907.stock_dataset.stock_data from gs://stock-data-bucket_hopop/6630.parquet.\n"
     ]
    },
    {
     "name": "stderr",
     "output_type": "stream",
     "text": [
      "[*********************100%***********************]  1 of 1 completed\n"
     ]
    },
    {
     "name": "stdout",
     "output_type": "stream",
     "text": [
      "Uploaded ./output/7476.parquet to gs://stock-data-bucket_hopop/7476.parquet\n",
      "Loaded data into BigQuery table dbt-analytics-engineer-435907.stock_dataset.stock_data from gs://stock-data-bucket_hopop/7476.parquet.\n"
     ]
    },
    {
     "name": "stderr",
     "output_type": "stream",
     "text": [
      "[*********************100%***********************]  1 of 1 completed\n"
     ]
    },
    {
     "name": "stdout",
     "output_type": "stream",
     "text": [
      "Uploaded ./output/9699.parquet to gs://stock-data-bucket_hopop/9699.parquet\n",
      "Loaded data into BigQuery table dbt-analytics-engineer-435907.stock_dataset.stock_data from gs://stock-data-bucket_hopop/9699.parquet.\n"
     ]
    },
    {
     "name": "stderr",
     "output_type": "stream",
     "text": [
      "[*********************100%***********************]  1 of 1 completed\n"
     ]
    },
    {
     "name": "stdout",
     "output_type": "stream",
     "text": [
      "Uploaded ./output/9006.parquet to gs://stock-data-bucket_hopop/9006.parquet\n",
      "Loaded data into BigQuery table dbt-analytics-engineer-435907.stock_dataset.stock_data from gs://stock-data-bucket_hopop/9006.parquet.\n"
     ]
    },
    {
     "name": "stderr",
     "output_type": "stream",
     "text": [
      "[*********************100%***********************]  1 of 1 completed\n"
     ]
    },
    {
     "name": "stdout",
     "output_type": "stream",
     "text": [
      "Uploaded ./output/9790.parquet to gs://stock-data-bucket_hopop/9790.parquet\n",
      "Loaded data into BigQuery table dbt-analytics-engineer-435907.stock_dataset.stock_data from gs://stock-data-bucket_hopop/9790.parquet.\n"
     ]
    },
    {
     "name": "stderr",
     "output_type": "stream",
     "text": [
      "[*********************100%***********************]  1 of 1 completed\n"
     ]
    },
    {
     "name": "stdout",
     "output_type": "stream",
     "text": [
      "Uploaded ./output/6670.parquet to gs://stock-data-bucket_hopop/6670.parquet\n",
      "Loaded data into BigQuery table dbt-analytics-engineer-435907.stock_dataset.stock_data from gs://stock-data-bucket_hopop/6670.parquet.\n"
     ]
    },
    {
     "name": "stderr",
     "output_type": "stream",
     "text": [
      "[*********************100%***********************]  1 of 1 completed\n"
     ]
    },
    {
     "name": "stdout",
     "output_type": "stream",
     "text": [
      "Uploaded ./output/3768.parquet to gs://stock-data-bucket_hopop/3768.parquet\n",
      "Loaded data into BigQuery table dbt-analytics-engineer-435907.stock_dataset.stock_data from gs://stock-data-bucket_hopop/3768.parquet.\n"
     ]
    },
    {
     "name": "stderr",
     "output_type": "stream",
     "text": [
      "[*********************100%***********************]  1 of 1 completed\n"
     ]
    },
    {
     "name": "stdout",
     "output_type": "stream",
     "text": [
      "Uploaded ./output/3107.parquet to gs://stock-data-bucket_hopop/3107.parquet\n",
      "Loaded data into BigQuery table dbt-analytics-engineer-435907.stock_dataset.stock_data from gs://stock-data-bucket_hopop/3107.parquet.\n"
     ]
    },
    {
     "name": "stderr",
     "output_type": "stream",
     "text": [
      "[*********************100%***********************]  1 of 1 completed\n"
     ]
    },
    {
     "name": "stdout",
     "output_type": "stream",
     "text": [
      "Uploaded ./output/1793.parquet to gs://stock-data-bucket_hopop/1793.parquet\n",
      "Loaded data into BigQuery table dbt-analytics-engineer-435907.stock_dataset.stock_data from gs://stock-data-bucket_hopop/1793.parquet.\n"
     ]
    },
    {
     "name": "stderr",
     "output_type": "stream",
     "text": [
      "[*********************100%***********************]  1 of 1 completed\n"
     ]
    },
    {
     "name": "stdout",
     "output_type": "stream",
     "text": [
      "Uploaded ./output/6180.parquet to gs://stock-data-bucket_hopop/6180.parquet\n",
      "Loaded data into BigQuery table dbt-analytics-engineer-435907.stock_dataset.stock_data from gs://stock-data-bucket_hopop/6180.parquet.\n"
     ]
    },
    {
     "name": "stderr",
     "output_type": "stream",
     "text": [
      "[*********************100%***********************]  1 of 1 completed\n"
     ]
    },
    {
     "name": "stdout",
     "output_type": "stream",
     "text": [
      "Uploaded ./output/4062.parquet to gs://stock-data-bucket_hopop/4062.parquet\n",
      "Loaded data into BigQuery table dbt-analytics-engineer-435907.stock_dataset.stock_data from gs://stock-data-bucket_hopop/4062.parquet.\n"
     ]
    },
    {
     "name": "stderr",
     "output_type": "stream",
     "text": [
      "[*********************100%***********************]  1 of 1 completed\n"
     ]
    },
    {
     "name": "stdout",
     "output_type": "stream",
     "text": [
      "Uploaded ./output/1898.parquet to gs://stock-data-bucket_hopop/1898.parquet\n",
      "Loaded data into BigQuery table dbt-analytics-engineer-435907.stock_dataset.stock_data from gs://stock-data-bucket_hopop/1898.parquet.\n"
     ]
    },
    {
     "name": "stderr",
     "output_type": "stream",
     "text": [
      "[*********************100%***********************]  1 of 1 completed\n",
      "\n",
      "1 Failed download:\n",
      "['8854.T']: YFTzMissingError('$%ticker%: possibly delisted; no timezone found')\n"
     ]
    },
    {
     "name": "stdout",
     "output_type": "stream",
     "text": [
      "No data found for 8854.T. Skipping...\n"
     ]
    },
    {
     "name": "stderr",
     "output_type": "stream",
     "text": [
      "[*********************100%***********************]  1 of 1 completed\n",
      "\n",
      "1 Failed download:\n",
      "['6716.T']: YFPricesMissingError('$%ticker%: possibly delisted; no price data found  (1d 2024-01-01 -> 2024-09-30)')\n"
     ]
    },
    {
     "name": "stdout",
     "output_type": "stream",
     "text": [
      "No data found for 6716.T. Skipping...\n"
     ]
    },
    {
     "name": "stderr",
     "output_type": "stream",
     "text": [
      "[*********************100%***********************]  1 of 1 completed\n",
      "\n",
      "1 Failed download:\n",
      "['3147.T']: YFTzMissingError('$%ticker%: possibly delisted; no timezone found')\n"
     ]
    },
    {
     "name": "stdout",
     "output_type": "stream",
     "text": [
      "No data found for 3147.T. Skipping...\n"
     ]
    },
    {
     "name": "stderr",
     "output_type": "stream",
     "text": [
      "[*********************100%***********************]  1 of 1 completed\n"
     ]
    },
    {
     "name": "stdout",
     "output_type": "stream",
     "text": [
      "Uploaded ./output/6322.parquet to gs://stock-data-bucket_hopop/6322.parquet\n",
      "Loaded data into BigQuery table dbt-analytics-engineer-435907.stock_dataset.stock_data from gs://stock-data-bucket_hopop/6322.parquet.\n"
     ]
    },
    {
     "name": "stderr",
     "output_type": "stream",
     "text": [
      "[*********************100%***********************]  1 of 1 completed\n"
     ]
    },
    {
     "name": "stdout",
     "output_type": "stream",
     "text": [
      "Uploaded ./output/4559.parquet to gs://stock-data-bucket_hopop/4559.parquet\n",
      "Loaded data into BigQuery table dbt-analytics-engineer-435907.stock_dataset.stock_data from gs://stock-data-bucket_hopop/4559.parquet.\n"
     ]
    },
    {
     "name": "stderr",
     "output_type": "stream",
     "text": [
      "[*********************100%***********************]  1 of 1 completed\n"
     ]
    },
    {
     "name": "stdout",
     "output_type": "stream",
     "text": [
      "Uploaded ./output/5994.parquet to gs://stock-data-bucket_hopop/5994.parquet\n",
      "Loaded data into BigQuery table dbt-analytics-engineer-435907.stock_dataset.stock_data from gs://stock-data-bucket_hopop/5994.parquet.\n"
     ]
    },
    {
     "name": "stderr",
     "output_type": "stream",
     "text": [
      "[*********************100%***********************]  1 of 1 completed\n",
      "\n",
      "1 Failed download:\n",
      "['4541.T']: YFTzMissingError('$%ticker%: possibly delisted; no timezone found')\n"
     ]
    },
    {
     "name": "stdout",
     "output_type": "stream",
     "text": [
      "No data found for 4541.T. Skipping...\n"
     ]
    },
    {
     "name": "stderr",
     "output_type": "stream",
     "text": [
      "[*********************100%***********************]  1 of 1 completed\n"
     ]
    },
    {
     "name": "stdout",
     "output_type": "stream",
     "text": [
      "Uploaded ./output/5208.parquet to gs://stock-data-bucket_hopop/5208.parquet\n",
      "Loaded data into BigQuery table dbt-analytics-engineer-435907.stock_dataset.stock_data from gs://stock-data-bucket_hopop/5208.parquet.\n"
     ]
    },
    {
     "name": "stderr",
     "output_type": "stream",
     "text": [
      "[*********************100%***********************]  1 of 1 completed\n"
     ]
    },
    {
     "name": "stdout",
     "output_type": "stream",
     "text": [
      "Uploaded ./output/6856.parquet to gs://stock-data-bucket_hopop/6856.parquet\n",
      "Loaded data into BigQuery table dbt-analytics-engineer-435907.stock_dataset.stock_data from gs://stock-data-bucket_hopop/6856.parquet.\n"
     ]
    },
    {
     "name": "stderr",
     "output_type": "stream",
     "text": [
      "[*********************100%***********************]  1 of 1 completed\n"
     ]
    },
    {
     "name": "stdout",
     "output_type": "stream",
     "text": [
      "Uploaded ./output/9704.parquet to gs://stock-data-bucket_hopop/9704.parquet\n",
      "Loaded data into BigQuery table dbt-analytics-engineer-435907.stock_dataset.stock_data from gs://stock-data-bucket_hopop/9704.parquet.\n"
     ]
    },
    {
     "name": "stderr",
     "output_type": "stream",
     "text": [
      "[*********************100%***********************]  1 of 1 completed\n"
     ]
    },
    {
     "name": "stdout",
     "output_type": "stream",
     "text": [
      "Uploaded ./output/5988.parquet to gs://stock-data-bucket_hopop/5988.parquet\n",
      "Loaded data into BigQuery table dbt-analytics-engineer-435907.stock_dataset.stock_data from gs://stock-data-bucket_hopop/5988.parquet.\n"
     ]
    },
    {
     "name": "stderr",
     "output_type": "stream",
     "text": [
      "[*********************100%***********************]  1 of 1 completed\n"
     ]
    },
    {
     "name": "stdout",
     "output_type": "stream",
     "text": [
      "Uploaded ./output/7917.parquet to gs://stock-data-bucket_hopop/7917.parquet\n",
      "Loaded data into BigQuery table dbt-analytics-engineer-435907.stock_dataset.stock_data from gs://stock-data-bucket_hopop/7917.parquet.\n"
     ]
    },
    {
     "name": "stderr",
     "output_type": "stream",
     "text": [
      "[*********************100%***********************]  1 of 1 completed\n"
     ]
    },
    {
     "name": "stdout",
     "output_type": "stream",
     "text": [
      "Uploaded ./output/5009.parquet to gs://stock-data-bucket_hopop/5009.parquet\n",
      "Loaded data into BigQuery table dbt-analytics-engineer-435907.stock_dataset.stock_data from gs://stock-data-bucket_hopop/5009.parquet.\n"
     ]
    },
    {
     "name": "stderr",
     "output_type": "stream",
     "text": [
      "[*********************100%***********************]  1 of 1 completed\n"
     ]
    },
    {
     "name": "stdout",
     "output_type": "stream",
     "text": [
      "Uploaded ./output/4809.parquet to gs://stock-data-bucket_hopop/4809.parquet\n",
      "Loaded data into BigQuery table dbt-analytics-engineer-435907.stock_dataset.stock_data from gs://stock-data-bucket_hopop/4809.parquet.\n"
     ]
    },
    {
     "name": "stderr",
     "output_type": "stream",
     "text": [
      "[*********************100%***********************]  1 of 1 completed\n"
     ]
    },
    {
     "name": "stdout",
     "output_type": "stream",
     "text": [
      "Uploaded ./output/6390.parquet to gs://stock-data-bucket_hopop/6390.parquet\n",
      "Loaded data into BigQuery table dbt-analytics-engineer-435907.stock_dataset.stock_data from gs://stock-data-bucket_hopop/6390.parquet.\n"
     ]
    },
    {
     "name": "stderr",
     "output_type": "stream",
     "text": [
      "[*********************100%***********************]  1 of 1 completed\n"
     ]
    },
    {
     "name": "stdout",
     "output_type": "stream",
     "text": [
      "Uploaded ./output/8584.parquet to gs://stock-data-bucket_hopop/8584.parquet\n",
      "Loaded data into BigQuery table dbt-analytics-engineer-435907.stock_dataset.stock_data from gs://stock-data-bucket_hopop/8584.parquet.\n"
     ]
    },
    {
     "name": "stderr",
     "output_type": "stream",
     "text": [
      "[*********************100%***********************]  1 of 1 completed\n"
     ]
    },
    {
     "name": "stdout",
     "output_type": "stream",
     "text": [
      "Uploaded ./output/6026.parquet to gs://stock-data-bucket_hopop/6026.parquet\n",
      "Loaded data into BigQuery table dbt-analytics-engineer-435907.stock_dataset.stock_data from gs://stock-data-bucket_hopop/6026.parquet.\n"
     ]
    },
    {
     "name": "stderr",
     "output_type": "stream",
     "text": [
      "[*********************100%***********************]  1 of 1 completed\n"
     ]
    },
    {
     "name": "stdout",
     "output_type": "stream",
     "text": [
      "Uploaded ./output/9984.parquet to gs://stock-data-bucket_hopop/9984.parquet\n",
      "Loaded data into BigQuery table dbt-analytics-engineer-435907.stock_dataset.stock_data from gs://stock-data-bucket_hopop/9984.parquet.\n"
     ]
    },
    {
     "name": "stderr",
     "output_type": "stream",
     "text": [
      "[*********************100%***********************]  1 of 1 completed\n"
     ]
    },
    {
     "name": "stdout",
     "output_type": "stream",
     "text": [
      "Uploaded ./output/1364.parquet to gs://stock-data-bucket_hopop/1364.parquet\n",
      "Loaded data into BigQuery table dbt-analytics-engineer-435907.stock_dataset.stock_data from gs://stock-data-bucket_hopop/1364.parquet.\n"
     ]
    },
    {
     "name": "stderr",
     "output_type": "stream",
     "text": [
      "[*********************100%***********************]  1 of 1 completed\n"
     ]
    },
    {
     "name": "stdout",
     "output_type": "stream",
     "text": [
      "Uploaded ./output/9880.parquet to gs://stock-data-bucket_hopop/9880.parquet\n",
      "Loaded data into BigQuery table dbt-analytics-engineer-435907.stock_dataset.stock_data from gs://stock-data-bucket_hopop/9880.parquet.\n"
     ]
    },
    {
     "name": "stderr",
     "output_type": "stream",
     "text": [
      "[*********************100%***********************]  1 of 1 completed\n"
     ]
    },
    {
     "name": "stdout",
     "output_type": "stream",
     "text": [
      "Uploaded ./output/3392.parquet to gs://stock-data-bucket_hopop/3392.parquet\n",
      "Loaded data into BigQuery table dbt-analytics-engineer-435907.stock_dataset.stock_data from gs://stock-data-bucket_hopop/3392.parquet.\n"
     ]
    },
    {
     "name": "stderr",
     "output_type": "stream",
     "text": [
      "[*********************100%***********************]  1 of 1 completed\n"
     ]
    },
    {
     "name": "stdout",
     "output_type": "stream",
     "text": [
      "Uploaded ./output/3386.parquet to gs://stock-data-bucket_hopop/3386.parquet\n",
      "Loaded data into BigQuery table dbt-analytics-engineer-435907.stock_dataset.stock_data from gs://stock-data-bucket_hopop/3386.parquet.\n"
     ]
    },
    {
     "name": "stderr",
     "output_type": "stream",
     "text": [
      "[*********************100%***********************]  1 of 1 completed\n"
     ]
    },
    {
     "name": "stdout",
     "output_type": "stream",
     "text": [
      "Uploaded ./output/4187.parquet to gs://stock-data-bucket_hopop/4187.parquet\n",
      "Loaded data into BigQuery table dbt-analytics-engineer-435907.stock_dataset.stock_data from gs://stock-data-bucket_hopop/4187.parquet.\n"
     ]
    },
    {
     "name": "stderr",
     "output_type": "stream",
     "text": [
      "[*********************100%***********************]  1 of 1 completed\n"
     ]
    },
    {
     "name": "stdout",
     "output_type": "stream",
     "text": [
      "Uploaded ./output/9057.parquet to gs://stock-data-bucket_hopop/9057.parquet\n",
      "Loaded data into BigQuery table dbt-analytics-engineer-435907.stock_dataset.stock_data from gs://stock-data-bucket_hopop/9057.parquet.\n"
     ]
    },
    {
     "name": "stderr",
     "output_type": "stream",
     "text": [
      "[*********************100%***********************]  1 of 1 completed\n"
     ]
    },
    {
     "name": "stdout",
     "output_type": "stream",
     "text": [
      "Uploaded ./output/7270.parquet to gs://stock-data-bucket_hopop/7270.parquet\n",
      "Loaded data into BigQuery table dbt-analytics-engineer-435907.stock_dataset.stock_data from gs://stock-data-bucket_hopop/7270.parquet.\n"
     ]
    },
    {
     "name": "stderr",
     "output_type": "stream",
     "text": [
      "[*********************100%***********************]  1 of 1 completed\n"
     ]
    },
    {
     "name": "stdout",
     "output_type": "stream",
     "text": [
      "Uploaded ./output/3023.parquet to gs://stock-data-bucket_hopop/3023.parquet\n",
      "Loaded data into BigQuery table dbt-analytics-engineer-435907.stock_dataset.stock_data from gs://stock-data-bucket_hopop/3023.parquet.\n"
     ]
    },
    {
     "name": "stderr",
     "output_type": "stream",
     "text": [
      "[*********************100%***********************]  1 of 1 completed\n"
     ]
    },
    {
     "name": "stdout",
     "output_type": "stream",
     "text": [
      "Uploaded ./output/4188.parquet to gs://stock-data-bucket_hopop/4188.parquet\n",
      "Loaded data into BigQuery table dbt-analytics-engineer-435907.stock_dataset.stock_data from gs://stock-data-bucket_hopop/4188.parquet.\n"
     ]
    },
    {
     "name": "stderr",
     "output_type": "stream",
     "text": [
      "[*********************100%***********************]  1 of 1 completed\n",
      "\n",
      "1 Failed download:\n",
      "['5343.T']: YFTzMissingError('$%ticker%: possibly delisted; no timezone found')\n"
     ]
    },
    {
     "name": "stdout",
     "output_type": "stream",
     "text": [
      "No data found for 5343.T. Skipping...\n"
     ]
    },
    {
     "name": "stderr",
     "output_type": "stream",
     "text": [
      "[*********************100%***********************]  1 of 1 completed\n",
      "\n",
      "1 Failed download:\n",
      "['8703.T']: YFTzMissingError('$%ticker%: possibly delisted; no timezone found')\n"
     ]
    },
    {
     "name": "stdout",
     "output_type": "stream",
     "text": [
      "No data found for 8703.T. Skipping...\n"
     ]
    },
    {
     "name": "stderr",
     "output_type": "stream",
     "text": [
      "[*********************100%***********************]  1 of 1 completed\n"
     ]
    },
    {
     "name": "stdout",
     "output_type": "stream",
     "text": [
      "Uploaded ./output/3861.parquet to gs://stock-data-bucket_hopop/3861.parquet\n",
      "Loaded data into BigQuery table dbt-analytics-engineer-435907.stock_dataset.stock_data from gs://stock-data-bucket_hopop/3861.parquet.\n"
     ]
    },
    {
     "name": "stderr",
     "output_type": "stream",
     "text": [
      "[*********************100%***********************]  1 of 1 completed\n"
     ]
    },
    {
     "name": "stdout",
     "output_type": "stream",
     "text": [
      "Uploaded ./output/7105.parquet to gs://stock-data-bucket_hopop/7105.parquet\n",
      "Loaded data into BigQuery table dbt-analytics-engineer-435907.stock_dataset.stock_data from gs://stock-data-bucket_hopop/7105.parquet.\n"
     ]
    },
    {
     "name": "stderr",
     "output_type": "stream",
     "text": [
      "[*********************100%***********************]  1 of 1 completed\n"
     ]
    },
    {
     "name": "stdout",
     "output_type": "stream",
     "text": [
      "Uploaded ./output/7011.parquet to gs://stock-data-bucket_hopop/7011.parquet\n",
      "Loaded data into BigQuery table dbt-analytics-engineer-435907.stock_dataset.stock_data from gs://stock-data-bucket_hopop/7011.parquet.\n"
     ]
    },
    {
     "name": "stderr",
     "output_type": "stream",
     "text": [
      "[*********************100%***********************]  1 of 1 completed\n",
      "\n",
      "1 Failed download:\n",
      "['4281.T']: YFTzMissingError('$%ticker%: possibly delisted; no timezone found')\n"
     ]
    },
    {
     "name": "stdout",
     "output_type": "stream",
     "text": [
      "No data found for 4281.T. Skipping...\n"
     ]
    },
    {
     "name": "stderr",
     "output_type": "stream",
     "text": [
      "[*********************100%***********************]  1 of 1 completed\n"
     ]
    },
    {
     "name": "stdout",
     "output_type": "stream",
     "text": [
      "Uploaded ./output/1306.parquet to gs://stock-data-bucket_hopop/1306.parquet\n",
      "Loaded data into BigQuery table dbt-analytics-engineer-435907.stock_dataset.stock_data from gs://stock-data-bucket_hopop/1306.parquet.\n"
     ]
    },
    {
     "name": "stderr",
     "output_type": "stream",
     "text": [
      "[*********************100%***********************]  1 of 1 completed\n",
      "\n",
      "1 Failed download:\n",
      "['4312.T']: YFTzMissingError('$%ticker%: possibly delisted; no timezone found')\n"
     ]
    },
    {
     "name": "stdout",
     "output_type": "stream",
     "text": [
      "No data found for 4312.T. Skipping...\n"
     ]
    },
    {
     "name": "stderr",
     "output_type": "stream",
     "text": [
      "[*********************100%***********************]  1 of 1 completed\n"
     ]
    },
    {
     "name": "stdout",
     "output_type": "stream",
     "text": [
      "Uploaded ./output/3254.parquet to gs://stock-data-bucket_hopop/3254.parquet\n",
      "Loaded data into BigQuery table dbt-analytics-engineer-435907.stock_dataset.stock_data from gs://stock-data-bucket_hopop/3254.parquet.\n"
     ]
    },
    {
     "name": "stderr",
     "output_type": "stream",
     "text": [
      "[*********************100%***********************]  1 of 1 completed\n"
     ]
    },
    {
     "name": "stdout",
     "output_type": "stream",
     "text": [
      "Uploaded ./output/1952.parquet to gs://stock-data-bucket_hopop/1952.parquet\n",
      "Loaded data into BigQuery table dbt-analytics-engineer-435907.stock_dataset.stock_data from gs://stock-data-bucket_hopop/1952.parquet.\n"
     ]
    },
    {
     "name": "stderr",
     "output_type": "stream",
     "text": [
      "[*********************100%***********************]  1 of 1 completed\n"
     ]
    },
    {
     "name": "stdout",
     "output_type": "stream",
     "text": [
      "Uploaded ./output/4220.parquet to gs://stock-data-bucket_hopop/4220.parquet\n",
      "Loaded data into BigQuery table dbt-analytics-engineer-435907.stock_dataset.stock_data from gs://stock-data-bucket_hopop/4220.parquet.\n"
     ]
    },
    {
     "name": "stderr",
     "output_type": "stream",
     "text": [
      "[*********************100%***********************]  1 of 1 completed\n",
      "\n",
      "1 Failed download:\n",
      "['9728.T']: YFTzMissingError('$%ticker%: possibly delisted; no timezone found')\n"
     ]
    },
    {
     "name": "stdout",
     "output_type": "stream",
     "text": [
      "No data found for 9728.T. Skipping...\n"
     ]
    },
    {
     "name": "stderr",
     "output_type": "stream",
     "text": [
      "[*********************100%***********************]  1 of 1 completed\n",
      "\n",
      "1 Failed download:\n",
      "['8728.T']: YFTzMissingError('$%ticker%: possibly delisted; no timezone found')\n"
     ]
    },
    {
     "name": "stdout",
     "output_type": "stream",
     "text": [
      "No data found for 8728.T. Skipping...\n"
     ]
    },
    {
     "name": "stderr",
     "output_type": "stream",
     "text": [
      "[*********************100%***********************]  1 of 1 completed\n"
     ]
    },
    {
     "name": "stdout",
     "output_type": "stream",
     "text": [
      "Uploaded ./output/9476.parquet to gs://stock-data-bucket_hopop/9476.parquet\n",
      "Loaded data into BigQuery table dbt-analytics-engineer-435907.stock_dataset.stock_data from gs://stock-data-bucket_hopop/9476.parquet.\n"
     ]
    },
    {
     "name": "stderr",
     "output_type": "stream",
     "text": [
      "[*********************100%***********************]  1 of 1 completed\n"
     ]
    },
    {
     "name": "stdout",
     "output_type": "stream",
     "text": [
      "Uploaded ./output/8593.parquet to gs://stock-data-bucket_hopop/8593.parquet\n",
      "Loaded data into BigQuery table dbt-analytics-engineer-435907.stock_dataset.stock_data from gs://stock-data-bucket_hopop/8593.parquet.\n"
     ]
    },
    {
     "name": "stderr",
     "output_type": "stream",
     "text": [
      "[*********************100%***********************]  1 of 1 completed\n"
     ]
    },
    {
     "name": "stdout",
     "output_type": "stream",
     "text": [
      "Uploaded ./output/3571.parquet to gs://stock-data-bucket_hopop/3571.parquet\n",
      "Loaded data into BigQuery table dbt-analytics-engineer-435907.stock_dataset.stock_data from gs://stock-data-bucket_hopop/3571.parquet.\n"
     ]
    },
    {
     "name": "stderr",
     "output_type": "stream",
     "text": [
      "[*********************100%***********************]  1 of 1 completed\n"
     ]
    },
    {
     "name": "stdout",
     "output_type": "stream",
     "text": [
      "Uploaded ./output/7906.parquet to gs://stock-data-bucket_hopop/7906.parquet\n",
      "Loaded data into BigQuery table dbt-analytics-engineer-435907.stock_dataset.stock_data from gs://stock-data-bucket_hopop/7906.parquet.\n"
     ]
    },
    {
     "name": "stderr",
     "output_type": "stream",
     "text": [
      "[*********************100%***********************]  1 of 1 completed\n"
     ]
    },
    {
     "name": "stdout",
     "output_type": "stream",
     "text": [
      "Uploaded ./output/7947.parquet to gs://stock-data-bucket_hopop/7947.parquet\n",
      "Loaded data into BigQuery table dbt-analytics-engineer-435907.stock_dataset.stock_data from gs://stock-data-bucket_hopop/7947.parquet.\n"
     ]
    },
    {
     "name": "stderr",
     "output_type": "stream",
     "text": [
      "[*********************100%***********************]  1 of 1 completed\n"
     ]
    },
    {
     "name": "stdout",
     "output_type": "stream",
     "text": [
      "Uploaded ./output/2653.parquet to gs://stock-data-bucket_hopop/2653.parquet\n",
      "Loaded data into BigQuery table dbt-analytics-engineer-435907.stock_dataset.stock_data from gs://stock-data-bucket_hopop/2653.parquet.\n"
     ]
    },
    {
     "name": "stderr",
     "output_type": "stream",
     "text": [
      "[*********************100%***********************]  1 of 1 completed\n",
      "\n",
      "1 Failed download:\n",
      "['8333.T']: YFPricesMissingError('$%ticker%: possibly delisted; no price data found  (1d 2024-01-01 -> 2024-09-30)')\n"
     ]
    },
    {
     "name": "stdout",
     "output_type": "stream",
     "text": [
      "No data found for 8333.T. Skipping...\n"
     ]
    },
    {
     "name": "stderr",
     "output_type": "stream",
     "text": [
      "[*********************100%***********************]  1 of 1 completed\n"
     ]
    },
    {
     "name": "stdout",
     "output_type": "stream",
     "text": [
      "Uploaded ./output/6937.parquet to gs://stock-data-bucket_hopop/6937.parquet\n",
      "Loaded data into BigQuery table dbt-analytics-engineer-435907.stock_dataset.stock_data from gs://stock-data-bucket_hopop/6937.parquet.\n"
     ]
    },
    {
     "name": "stderr",
     "output_type": "stream",
     "text": [
      "[*********************100%***********************]  1 of 1 completed\n"
     ]
    },
    {
     "name": "stdout",
     "output_type": "stream",
     "text": [
      "Uploaded ./output/6647.parquet to gs://stock-data-bucket_hopop/6647.parquet\n",
      "Loaded data into BigQuery table dbt-analytics-engineer-435907.stock_dataset.stock_data from gs://stock-data-bucket_hopop/6647.parquet.\n"
     ]
    },
    {
     "name": "stderr",
     "output_type": "stream",
     "text": [
      "[*********************100%***********************]  1 of 1 completed\n"
     ]
    },
    {
     "name": "stdout",
     "output_type": "stream",
     "text": [
      "Uploaded ./output/6927.parquet to gs://stock-data-bucket_hopop/6927.parquet\n",
      "Loaded data into BigQuery table dbt-analytics-engineer-435907.stock_dataset.stock_data from gs://stock-data-bucket_hopop/6927.parquet.\n"
     ]
    },
    {
     "name": "stderr",
     "output_type": "stream",
     "text": [
      "[*********************100%***********************]  1 of 1 completed\n"
     ]
    },
    {
     "name": "stdout",
     "output_type": "stream",
     "text": [
      "Uploaded ./output/5940.parquet to gs://stock-data-bucket_hopop/5940.parquet\n",
      "Loaded data into BigQuery table dbt-analytics-engineer-435907.stock_dataset.stock_data from gs://stock-data-bucket_hopop/5940.parquet.\n"
     ]
    },
    {
     "name": "stderr",
     "output_type": "stream",
     "text": [
      "[*********************100%***********************]  1 of 1 completed\n"
     ]
    },
    {
     "name": "stdout",
     "output_type": "stream",
     "text": [
      "Uploaded ./output/9306.parquet to gs://stock-data-bucket_hopop/9306.parquet\n",
      "Loaded data into BigQuery table dbt-analytics-engineer-435907.stock_dataset.stock_data from gs://stock-data-bucket_hopop/9306.parquet.\n"
     ]
    },
    {
     "name": "stderr",
     "output_type": "stream",
     "text": [
      "[*********************100%***********************]  1 of 1 completed\n",
      "\n",
      "1 Failed download:\n",
      "['6076.T']: YFTzMissingError('$%ticker%: possibly delisted; no timezone found')\n"
     ]
    },
    {
     "name": "stdout",
     "output_type": "stream",
     "text": [
      "No data found for 6076.T. Skipping...\n"
     ]
    },
    {
     "name": "stderr",
     "output_type": "stream",
     "text": [
      "[*********************100%***********************]  1 of 1 completed\n"
     ]
    },
    {
     "name": "stdout",
     "output_type": "stream",
     "text": [
      "Uploaded ./output/3841.parquet to gs://stock-data-bucket_hopop/3841.parquet\n",
      "Loaded data into BigQuery table dbt-analytics-engineer-435907.stock_dataset.stock_data from gs://stock-data-bucket_hopop/3841.parquet.\n"
     ]
    },
    {
     "name": "stderr",
     "output_type": "stream",
     "text": [
      "[*********************100%***********************]  1 of 1 completed\n"
     ]
    },
    {
     "name": "stdout",
     "output_type": "stream",
     "text": [
      "Uploaded ./output/5930.parquet to gs://stock-data-bucket_hopop/5930.parquet\n",
      "Loaded data into BigQuery table dbt-analytics-engineer-435907.stock_dataset.stock_data from gs://stock-data-bucket_hopop/5930.parquet.\n"
     ]
    },
    {
     "name": "stderr",
     "output_type": "stream",
     "text": [
      "[*********************100%***********************]  1 of 1 completed\n",
      "\n",
      "1 Failed download:\n",
      "['5289.T']: YFPricesMissingError('$%ticker%: possibly delisted; no price data found  (1d 2024-01-01 -> 2024-09-30)')\n"
     ]
    },
    {
     "name": "stdout",
     "output_type": "stream",
     "text": [
      "No data found for 5289.T. Skipping...\n"
     ]
    },
    {
     "name": "stderr",
     "output_type": "stream",
     "text": [
      "[*********************100%***********************]  1 of 1 completed\n"
     ]
    },
    {
     "name": "stdout",
     "output_type": "stream",
     "text": [
      "Uploaded ./output/2813.parquet to gs://stock-data-bucket_hopop/2813.parquet\n",
      "Loaded data into BigQuery table dbt-analytics-engineer-435907.stock_dataset.stock_data from gs://stock-data-bucket_hopop/2813.parquet.\n"
     ]
    },
    {
     "name": "stderr",
     "output_type": "stream",
     "text": [
      "[*********************100%***********************]  1 of 1 completed\n"
     ]
    },
    {
     "name": "stdout",
     "output_type": "stream",
     "text": [
      "Uploaded ./output/3031.parquet to gs://stock-data-bucket_hopop/3031.parquet\n",
      "Loaded data into BigQuery table dbt-analytics-engineer-435907.stock_dataset.stock_data from gs://stock-data-bucket_hopop/3031.parquet.\n"
     ]
    },
    {
     "name": "stderr",
     "output_type": "stream",
     "text": [
      "[*********************100%***********************]  1 of 1 completed\n",
      "\n",
      "1 Failed download:\n",
      "['9967.T']: YFTzMissingError('$%ticker%: possibly delisted; no timezone found')\n"
     ]
    },
    {
     "name": "stdout",
     "output_type": "stream",
     "text": [
      "No data found for 9967.T. Skipping...\n"
     ]
    },
    {
     "name": "stderr",
     "output_type": "stream",
     "text": [
      "[*********************100%***********************]  1 of 1 completed\n"
     ]
    },
    {
     "name": "stdout",
     "output_type": "stream",
     "text": [
      "Uploaded ./output/7003.parquet to gs://stock-data-bucket_hopop/7003.parquet\n",
      "Loaded data into BigQuery table dbt-analytics-engineer-435907.stock_dataset.stock_data from gs://stock-data-bucket_hopop/7003.parquet.\n"
     ]
    },
    {
     "name": "stderr",
     "output_type": "stream",
     "text": [
      "[*********************100%***********************]  1 of 1 completed\n"
     ]
    },
    {
     "name": "stdout",
     "output_type": "stream",
     "text": [
      "Uploaded ./output/5446.parquet to gs://stock-data-bucket_hopop/5446.parquet\n",
      "Loaded data into BigQuery table dbt-analytics-engineer-435907.stock_dataset.stock_data from gs://stock-data-bucket_hopop/5446.parquet.\n"
     ]
    },
    {
     "name": "stderr",
     "output_type": "stream",
     "text": [
      "[*********************100%***********************]  1 of 1 completed\n"
     ]
    },
    {
     "name": "stdout",
     "output_type": "stream",
     "text": [
      "Uploaded ./output/1788.parquet to gs://stock-data-bucket_hopop/1788.parquet\n",
      "Loaded data into BigQuery table dbt-analytics-engineer-435907.stock_dataset.stock_data from gs://stock-data-bucket_hopop/1788.parquet.\n"
     ]
    },
    {
     "name": "stderr",
     "output_type": "stream",
     "text": [
      "[*********************100%***********************]  1 of 1 completed\n"
     ]
    },
    {
     "name": "stdout",
     "output_type": "stream",
     "text": [
      "Uploaded ./output/9514.parquet to gs://stock-data-bucket_hopop/9514.parquet\n",
      "Loaded data into BigQuery table dbt-analytics-engineer-435907.stock_dataset.stock_data from gs://stock-data-bucket_hopop/9514.parquet.\n"
     ]
    },
    {
     "name": "stderr",
     "output_type": "stream",
     "text": [
      "[*********************100%***********************]  1 of 1 completed\n"
     ]
    },
    {
     "name": "stdout",
     "output_type": "stream",
     "text": [
      "Uploaded ./output/9405.parquet to gs://stock-data-bucket_hopop/9405.parquet\n",
      "Loaded data into BigQuery table dbt-analytics-engineer-435907.stock_dataset.stock_data from gs://stock-data-bucket_hopop/9405.parquet.\n"
     ]
    },
    {
     "name": "stderr",
     "output_type": "stream",
     "text": [
      "[*********************100%***********************]  1 of 1 completed\n"
     ]
    },
    {
     "name": "stdout",
     "output_type": "stream",
     "text": [
      "Uploaded ./output/9432.parquet to gs://stock-data-bucket_hopop/9432.parquet\n",
      "Loaded data into BigQuery table dbt-analytics-engineer-435907.stock_dataset.stock_data from gs://stock-data-bucket_hopop/9432.parquet.\n"
     ]
    },
    {
     "name": "stderr",
     "output_type": "stream",
     "text": [
      "[*********************100%***********************]  1 of 1 completed\n"
     ]
    },
    {
     "name": "stdout",
     "output_type": "stream",
     "text": [
      "Uploaded ./output/9401.parquet to gs://stock-data-bucket_hopop/9401.parquet\n",
      "Loaded data into BigQuery table dbt-analytics-engineer-435907.stock_dataset.stock_data from gs://stock-data-bucket_hopop/9401.parquet.\n"
     ]
    },
    {
     "name": "stderr",
     "output_type": "stream",
     "text": [
      "[*********************100%***********************]  1 of 1 completed\n"
     ]
    },
    {
     "name": "stdout",
     "output_type": "stream",
     "text": [
      "Uploaded ./output/9031.parquet to gs://stock-data-bucket_hopop/9031.parquet\n",
      "Loaded data into BigQuery table dbt-analytics-engineer-435907.stock_dataset.stock_data from gs://stock-data-bucket_hopop/9031.parquet.\n"
     ]
    },
    {
     "name": "stderr",
     "output_type": "stream",
     "text": [
      "[*********************100%***********************]  1 of 1 completed\n"
     ]
    },
    {
     "name": "stdout",
     "output_type": "stream",
     "text": [
      "Uploaded ./output/7775.parquet to gs://stock-data-bucket_hopop/7775.parquet\n",
      "Loaded data into BigQuery table dbt-analytics-engineer-435907.stock_dataset.stock_data from gs://stock-data-bucket_hopop/7775.parquet.\n"
     ]
    },
    {
     "name": "stderr",
     "output_type": "stream",
     "text": [
      "[*********************100%***********************]  1 of 1 completed\n"
     ]
    },
    {
     "name": "stdout",
     "output_type": "stream",
     "text": [
      "Uploaded ./output/8425.parquet to gs://stock-data-bucket_hopop/8425.parquet\n",
      "Loaded data into BigQuery table dbt-analytics-engineer-435907.stock_dataset.stock_data from gs://stock-data-bucket_hopop/8425.parquet.\n"
     ]
    },
    {
     "name": "stderr",
     "output_type": "stream",
     "text": [
      "[*********************100%***********************]  1 of 1 completed\n"
     ]
    },
    {
     "name": "stdout",
     "output_type": "stream",
     "text": [
      "Uploaded ./output/2217.parquet to gs://stock-data-bucket_hopop/2217.parquet\n",
      "Loaded data into BigQuery table dbt-analytics-engineer-435907.stock_dataset.stock_data from gs://stock-data-bucket_hopop/2217.parquet.\n"
     ]
    },
    {
     "name": "stderr",
     "output_type": "stream",
     "text": [
      "[*********************100%***********************]  1 of 1 completed\n"
     ]
    },
    {
     "name": "stdout",
     "output_type": "stream",
     "text": [
      "Uploaded ./output/4241.parquet to gs://stock-data-bucket_hopop/4241.parquet\n",
      "Loaded data into BigQuery table dbt-analytics-engineer-435907.stock_dataset.stock_data from gs://stock-data-bucket_hopop/4241.parquet.\n"
     ]
    },
    {
     "name": "stderr",
     "output_type": "stream",
     "text": [
      "[*********************100%***********************]  1 of 1 completed\n"
     ]
    },
    {
     "name": "stdout",
     "output_type": "stream",
     "text": [
      "Uploaded ./output/1904.parquet to gs://stock-data-bucket_hopop/1904.parquet\n",
      "Loaded data into BigQuery table dbt-analytics-engineer-435907.stock_dataset.stock_data from gs://stock-data-bucket_hopop/1904.parquet.\n"
     ]
    },
    {
     "name": "stderr",
     "output_type": "stream",
     "text": [
      "[*********************100%***********************]  1 of 1 completed\n",
      "\n",
      "1 Failed download:\n",
      "['5286.T']: YFTzMissingError('$%ticker%: possibly delisted; no timezone found')\n"
     ]
    },
    {
     "name": "stdout",
     "output_type": "stream",
     "text": [
      "No data found for 5286.T. Skipping...\n"
     ]
    },
    {
     "name": "stderr",
     "output_type": "stream",
     "text": [
      "[*********************100%***********************]  1 of 1 completed\n",
      "\n",
      "1 Failed download:\n",
      "['9819.T']: YFTzMissingError('$%ticker%: possibly delisted; no timezone found')\n"
     ]
    },
    {
     "name": "stdout",
     "output_type": "stream",
     "text": [
      "No data found for 9819.T. Skipping...\n"
     ]
    },
    {
     "name": "stderr",
     "output_type": "stream",
     "text": [
      "[*********************100%***********************]  1 of 1 completed\n"
     ]
    },
    {
     "name": "stdout",
     "output_type": "stream",
     "text": [
      "Uploaded ./output/7938.parquet to gs://stock-data-bucket_hopop/7938.parquet\n",
      "Loaded data into BigQuery table dbt-analytics-engineer-435907.stock_dataset.stock_data from gs://stock-data-bucket_hopop/7938.parquet.\n"
     ]
    },
    {
     "name": "stderr",
     "output_type": "stream",
     "text": [
      "[*********************100%***********************]  1 of 1 completed\n",
      "\n",
      "1 Failed download:\n",
      "['4649.T']: YFTzMissingError('$%ticker%: possibly delisted; no timezone found')\n"
     ]
    },
    {
     "name": "stdout",
     "output_type": "stream",
     "text": [
      "No data found for 4649.T. Skipping...\n"
     ]
    },
    {
     "name": "stderr",
     "output_type": "stream",
     "text": [
      "[*********************100%***********************]  1 of 1 completed\n"
     ]
    },
    {
     "name": "stdout",
     "output_type": "stream",
     "text": [
      "Uploaded ./output/7628.parquet to gs://stock-data-bucket_hopop/7628.parquet\n",
      "Loaded data into BigQuery table dbt-analytics-engineer-435907.stock_dataset.stock_data from gs://stock-data-bucket_hopop/7628.parquet.\n"
     ]
    },
    {
     "name": "stderr",
     "output_type": "stream",
     "text": [
      "[*********************100%***********************]  1 of 1 completed\n"
     ]
    },
    {
     "name": "stdout",
     "output_type": "stream",
     "text": [
      "Uploaded ./output/7518.parquet to gs://stock-data-bucket_hopop/7518.parquet\n",
      "Loaded data into BigQuery table dbt-analytics-engineer-435907.stock_dataset.stock_data from gs://stock-data-bucket_hopop/7518.parquet.\n"
     ]
    },
    {
     "name": "stderr",
     "output_type": "stream",
     "text": [
      "[*********************100%***********************]  1 of 1 completed\n",
      "\n",
      "1 Failed download:\n",
      "['4952.T']: YFTzMissingError('$%ticker%: possibly delisted; no timezone found')\n"
     ]
    },
    {
     "name": "stdout",
     "output_type": "stream",
     "text": [
      "No data found for 4952.T. Skipping...\n"
     ]
    },
    {
     "name": "stderr",
     "output_type": "stream",
     "text": [
      "[*********************100%***********************]  1 of 1 completed\n",
      "\n",
      "1 Failed download:\n",
      "['7251.T']: YFTzMissingError('$%ticker%: possibly delisted; no timezone found')\n"
     ]
    },
    {
     "name": "stdout",
     "output_type": "stream",
     "text": [
      "No data found for 7251.T. Skipping...\n"
     ]
    },
    {
     "name": "stderr",
     "output_type": "stream",
     "text": [
      "[*********************100%***********************]  1 of 1 completed\n"
     ]
    },
    {
     "name": "stdout",
     "output_type": "stream",
     "text": [
      "Uploaded ./output/6871.parquet to gs://stock-data-bucket_hopop/6871.parquet\n",
      "Loaded data into BigQuery table dbt-analytics-engineer-435907.stock_dataset.stock_data from gs://stock-data-bucket_hopop/6871.parquet.\n"
     ]
    },
    {
     "name": "stderr",
     "output_type": "stream",
     "text": [
      "[*********************100%***********************]  1 of 1 completed\n",
      "\n",
      "1 Failed download:\n",
      "['6767.T']: YFPricesMissingError('$%ticker%: possibly delisted; no price data found  (1d 2024-01-01 -> 2024-09-30)')\n"
     ]
    },
    {
     "name": "stdout",
     "output_type": "stream",
     "text": [
      "No data found for 6767.T. Skipping...\n"
     ]
    },
    {
     "name": "stderr",
     "output_type": "stream",
     "text": [
      "[*********************100%***********************]  1 of 1 completed\n"
     ]
    },
    {
     "name": "stdout",
     "output_type": "stream",
     "text": [
      "Uploaded ./output/6291.parquet to gs://stock-data-bucket_hopop/6291.parquet\n",
      "Loaded data into BigQuery table dbt-analytics-engineer-435907.stock_dataset.stock_data from gs://stock-data-bucket_hopop/6291.parquet.\n"
     ]
    },
    {
     "name": "stderr",
     "output_type": "stream",
     "text": [
      "[*********************100%***********************]  1 of 1 completed\n"
     ]
    },
    {
     "name": "stdout",
     "output_type": "stream",
     "text": [
      "Uploaded ./output/9769.parquet to gs://stock-data-bucket_hopop/9769.parquet\n",
      "Loaded data into BigQuery table dbt-analytics-engineer-435907.stock_dataset.stock_data from gs://stock-data-bucket_hopop/9769.parquet.\n"
     ]
    },
    {
     "name": "stderr",
     "output_type": "stream",
     "text": [
      "[*********************100%***********************]  1 of 1 completed\n"
     ]
    },
    {
     "name": "stdout",
     "output_type": "stream",
     "text": [
      "Uploaded ./output/6028.parquet to gs://stock-data-bucket_hopop/6028.parquet\n",
      "Loaded data into BigQuery table dbt-analytics-engineer-435907.stock_dataset.stock_data from gs://stock-data-bucket_hopop/6028.parquet.\n"
     ]
    },
    {
     "name": "stderr",
     "output_type": "stream",
     "text": [
      "[*********************100%***********************]  1 of 1 completed\n"
     ]
    },
    {
     "name": "stdout",
     "output_type": "stream",
     "text": [
      "Uploaded ./output/7957.parquet to gs://stock-data-bucket_hopop/7957.parquet\n",
      "Loaded data into BigQuery table dbt-analytics-engineer-435907.stock_dataset.stock_data from gs://stock-data-bucket_hopop/7957.parquet.\n"
     ]
    },
    {
     "name": "stderr",
     "output_type": "stream",
     "text": [
      "[*********************100%***********************]  1 of 1 completed\n"
     ]
    },
    {
     "name": "stdout",
     "output_type": "stream",
     "text": [
      "Uploaded ./output/5801.parquet to gs://stock-data-bucket_hopop/5801.parquet\n",
      "Loaded data into BigQuery table dbt-analytics-engineer-435907.stock_dataset.stock_data from gs://stock-data-bucket_hopop/5801.parquet.\n"
     ]
    },
    {
     "name": "stderr",
     "output_type": "stream",
     "text": [
      "[*********************100%***********************]  1 of 1 completed\n"
     ]
    },
    {
     "name": "stdout",
     "output_type": "stream",
     "text": [
      "Uploaded ./output/5741.parquet to gs://stock-data-bucket_hopop/5741.parquet\n",
      "Loaded data into BigQuery table dbt-analytics-engineer-435907.stock_dataset.stock_data from gs://stock-data-bucket_hopop/5741.parquet.\n"
     ]
    },
    {
     "name": "stderr",
     "output_type": "stream",
     "text": [
      "[*********************100%***********************]  1 of 1 completed\n"
     ]
    },
    {
     "name": "stdout",
     "output_type": "stream",
     "text": [
      "Uploaded ./output/5351.parquet to gs://stock-data-bucket_hopop/5351.parquet\n",
      "Loaded data into BigQuery table dbt-analytics-engineer-435907.stock_dataset.stock_data from gs://stock-data-bucket_hopop/5351.parquet.\n"
     ]
    },
    {
     "name": "stderr",
     "output_type": "stream",
     "text": [
      "[*********************100%***********************]  1 of 1 completed\n",
      "\n",
      "1 Failed download:\n",
      "['9681.T']: YFTzMissingError('$%ticker%: possibly delisted; no timezone found')\n"
     ]
    },
    {
     "name": "stdout",
     "output_type": "stream",
     "text": [
      "No data found for 9681.T. Skipping...\n"
     ]
    },
    {
     "name": "stderr",
     "output_type": "stream",
     "text": [
      "[*********************100%***********************]  1 of 1 completed\n"
     ]
    },
    {
     "name": "stdout",
     "output_type": "stream",
     "text": [
      "Uploaded ./output/4634.parquet to gs://stock-data-bucket_hopop/4634.parquet\n",
      "Loaded data into BigQuery table dbt-analytics-engineer-435907.stock_dataset.stock_data from gs://stock-data-bucket_hopop/4634.parquet.\n"
     ]
    },
    {
     "name": "stderr",
     "output_type": "stream",
     "text": [
      "[*********************100%***********************]  1 of 1 completed\n"
     ]
    },
    {
     "name": "stdout",
     "output_type": "stream",
     "text": [
      "Uploaded ./output/5013.parquet to gs://stock-data-bucket_hopop/5013.parquet\n",
      "Loaded data into BigQuery table dbt-analytics-engineer-435907.stock_dataset.stock_data from gs://stock-data-bucket_hopop/5013.parquet.\n"
     ]
    },
    {
     "name": "stderr",
     "output_type": "stream",
     "text": [
      "[*********************100%***********************]  1 of 1 completed\n"
     ]
    },
    {
     "name": "stdout",
     "output_type": "stream",
     "text": [
      "Uploaded ./output/4337.parquet to gs://stock-data-bucket_hopop/4337.parquet\n",
      "Loaded data into BigQuery table dbt-analytics-engineer-435907.stock_dataset.stock_data from gs://stock-data-bucket_hopop/4337.parquet.\n"
     ]
    },
    {
     "name": "stderr",
     "output_type": "stream",
     "text": [
      "[*********************100%***********************]  1 of 1 completed\n",
      "\n",
      "1 Failed download:\n",
      "['6618.T']: YFTzMissingError('$%ticker%: possibly delisted; no timezone found')\n"
     ]
    },
    {
     "name": "stdout",
     "output_type": "stream",
     "text": [
      "No data found for 6618.T. Skipping...\n"
     ]
    },
    {
     "name": "stderr",
     "output_type": "stream",
     "text": [
      "[*********************100%***********************]  1 of 1 completed\n"
     ]
    },
    {
     "name": "stdout",
     "output_type": "stream",
     "text": [
      "Uploaded ./output/6367.parquet to gs://stock-data-bucket_hopop/6367.parquet\n",
      "Loaded data into BigQuery table dbt-analytics-engineer-435907.stock_dataset.stock_data from gs://stock-data-bucket_hopop/6367.parquet.\n"
     ]
    },
    {
     "name": "stderr",
     "output_type": "stream",
     "text": [
      "[*********************100%***********************]  1 of 1 completed\n"
     ]
    },
    {
     "name": "stdout",
     "output_type": "stream",
     "text": [
      "Uploaded ./output/4008.parquet to gs://stock-data-bucket_hopop/4008.parquet\n",
      "Loaded data into BigQuery table dbt-analytics-engineer-435907.stock_dataset.stock_data from gs://stock-data-bucket_hopop/4008.parquet.\n"
     ]
    },
    {
     "name": "stderr",
     "output_type": "stream",
     "text": [
      "[*********************100%***********************]  1 of 1 completed\n"
     ]
    },
    {
     "name": "stdout",
     "output_type": "stream",
     "text": [
      "Uploaded ./output/3183.parquet to gs://stock-data-bucket_hopop/3183.parquet\n",
      "Loaded data into BigQuery table dbt-analytics-engineer-435907.stock_dataset.stock_data from gs://stock-data-bucket_hopop/3183.parquet.\n"
     ]
    },
    {
     "name": "stderr",
     "output_type": "stream",
     "text": [
      "[*********************100%***********************]  1 of 1 completed\n"
     ]
    },
    {
     "name": "stdout",
     "output_type": "stream",
     "text": [
      "Uploaded ./output/2602.parquet to gs://stock-data-bucket_hopop/2602.parquet\n",
      "Loaded data into BigQuery table dbt-analytics-engineer-435907.stock_dataset.stock_data from gs://stock-data-bucket_hopop/2602.parquet.\n"
     ]
    },
    {
     "name": "stderr",
     "output_type": "stream",
     "text": [
      "[*********************100%***********************]  1 of 1 completed\n"
     ]
    },
    {
     "name": "stdout",
     "output_type": "stream",
     "text": [
      "Uploaded ./output/9435.parquet to gs://stock-data-bucket_hopop/9435.parquet\n",
      "Loaded data into BigQuery table dbt-analytics-engineer-435907.stock_dataset.stock_data from gs://stock-data-bucket_hopop/9435.parquet.\n"
     ]
    },
    {
     "name": "stderr",
     "output_type": "stream",
     "text": [
      "[*********************100%***********************]  1 of 1 completed\n"
     ]
    },
    {
     "name": "stdout",
     "output_type": "stream",
     "text": [
      "Uploaded ./output/2173.parquet to gs://stock-data-bucket_hopop/2173.parquet\n",
      "Loaded data into BigQuery table dbt-analytics-engineer-435907.stock_dataset.stock_data from gs://stock-data-bucket_hopop/2173.parquet.\n"
     ]
    },
    {
     "name": "stderr",
     "output_type": "stream",
     "text": [
      "[*********************100%***********************]  1 of 1 completed\n"
     ]
    },
    {
     "name": "stdout",
     "output_type": "stream",
     "text": [
      "Uploaded ./output/4839.parquet to gs://stock-data-bucket_hopop/4839.parquet\n",
      "Loaded data into BigQuery table dbt-analytics-engineer-435907.stock_dataset.stock_data from gs://stock-data-bucket_hopop/4839.parquet.\n"
     ]
    },
    {
     "name": "stderr",
     "output_type": "stream",
     "text": [
      "[*********************100%***********************]  1 of 1 completed\n"
     ]
    },
    {
     "name": "stdout",
     "output_type": "stream",
     "text": [
      "Uploaded ./output/1811.parquet to gs://stock-data-bucket_hopop/1811.parquet\n",
      "Loaded data into BigQuery table dbt-analytics-engineer-435907.stock_dataset.stock_data from gs://stock-data-bucket_hopop/1811.parquet.\n"
     ]
    },
    {
     "name": "stderr",
     "output_type": "stream",
     "text": [
      "[*********************100%***********************]  1 of 1 completed\n"
     ]
    },
    {
     "name": "stdout",
     "output_type": "stream",
     "text": [
      "Uploaded ./output/2440.parquet to gs://stock-data-bucket_hopop/2440.parquet\n",
      "Loaded data into BigQuery table dbt-analytics-engineer-435907.stock_dataset.stock_data from gs://stock-data-bucket_hopop/2440.parquet.\n"
     ]
    },
    {
     "name": "stderr",
     "output_type": "stream",
     "text": [
      "[*********************100%***********************]  1 of 1 completed\n",
      "\n",
      "1 Failed download:\n",
      "['3209.T']: YFTzMissingError('$%ticker%: possibly delisted; no timezone found')\n"
     ]
    },
    {
     "name": "stdout",
     "output_type": "stream",
     "text": [
      "No data found for 3209.T. Skipping...\n"
     ]
    },
    {
     "name": "stderr",
     "output_type": "stream",
     "text": [
      "[*********************100%***********************]  1 of 1 completed\n"
     ]
    },
    {
     "name": "stdout",
     "output_type": "stream",
     "text": [
      "Uploaded ./output/6622.parquet to gs://stock-data-bucket_hopop/6622.parquet\n",
      "Loaded data into BigQuery table dbt-analytics-engineer-435907.stock_dataset.stock_data from gs://stock-data-bucket_hopop/6622.parquet.\n"
     ]
    },
    {
     "name": "stderr",
     "output_type": "stream",
     "text": [
      "[*********************100%***********************]  1 of 1 completed\n"
     ]
    },
    {
     "name": "stdout",
     "output_type": "stream",
     "text": [
      "Uploaded ./output/3452.parquet to gs://stock-data-bucket_hopop/3452.parquet\n",
      "Loaded data into BigQuery table dbt-analytics-engineer-435907.stock_dataset.stock_data from gs://stock-data-bucket_hopop/3452.parquet.\n"
     ]
    },
    {
     "name": "stderr",
     "output_type": "stream",
     "text": [
      "[*********************100%***********************]  1 of 1 completed\n"
     ]
    },
    {
     "name": "stdout",
     "output_type": "stream",
     "text": [
      "Uploaded ./output/8354.parquet to gs://stock-data-bucket_hopop/8354.parquet\n",
      "Loaded data into BigQuery table dbt-analytics-engineer-435907.stock_dataset.stock_data from gs://stock-data-bucket_hopop/8354.parquet.\n"
     ]
    },
    {
     "name": "stderr",
     "output_type": "stream",
     "text": [
      "[*********************100%***********************]  1 of 1 completed\n"
     ]
    },
    {
     "name": "stdout",
     "output_type": "stream",
     "text": [
      "Uploaded ./output/3635.parquet to gs://stock-data-bucket_hopop/3635.parquet\n",
      "Loaded data into BigQuery table dbt-analytics-engineer-435907.stock_dataset.stock_data from gs://stock-data-bucket_hopop/3635.parquet.\n"
     ]
    },
    {
     "name": "stderr",
     "output_type": "stream",
     "text": [
      "[*********************100%***********************]  1 of 1 completed\n"
     ]
    },
    {
     "name": "stdout",
     "output_type": "stream",
     "text": [
      "Uploaded ./output/7250.parquet to gs://stock-data-bucket_hopop/7250.parquet\n",
      "Loaded data into BigQuery table dbt-analytics-engineer-435907.stock_dataset.stock_data from gs://stock-data-bucket_hopop/7250.parquet.\n"
     ]
    },
    {
     "name": "stderr",
     "output_type": "stream",
     "text": [
      "[*********************100%***********************]  1 of 1 completed\n"
     ]
    },
    {
     "name": "stdout",
     "output_type": "stream",
     "text": [
      "Uploaded ./output/6822.parquet to gs://stock-data-bucket_hopop/6822.parquet\n",
      "Loaded data into BigQuery table dbt-analytics-engineer-435907.stock_dataset.stock_data from gs://stock-data-bucket_hopop/6822.parquet.\n"
     ]
    },
    {
     "name": "stderr",
     "output_type": "stream",
     "text": [
      "[*********************100%***********************]  1 of 1 completed\n"
     ]
    },
    {
     "name": "stdout",
     "output_type": "stream",
     "text": [
      "Uploaded ./output/4202.parquet to gs://stock-data-bucket_hopop/4202.parquet\n",
      "Loaded data into BigQuery table dbt-analytics-engineer-435907.stock_dataset.stock_data from gs://stock-data-bucket_hopop/4202.parquet.\n"
     ]
    },
    {
     "name": "stderr",
     "output_type": "stream",
     "text": [
      "[*********************100%***********************]  1 of 1 completed\n",
      "\n",
      "1 Failed download:\n",
      "['2022.T']: YFTzMissingError('$%ticker%: possibly delisted; no timezone found')\n"
     ]
    },
    {
     "name": "stdout",
     "output_type": "stream",
     "text": [
      "No data found for 2022.T. Skipping...\n"
     ]
    },
    {
     "name": "stderr",
     "output_type": "stream",
     "text": [
      "[*********************100%***********************]  1 of 1 completed\n"
     ]
    },
    {
     "name": "stdout",
     "output_type": "stream",
     "text": [
      "Uploaded ./output/2497.parquet to gs://stock-data-bucket_hopop/2497.parquet\n",
      "Loaded data into BigQuery table dbt-analytics-engineer-435907.stock_dataset.stock_data from gs://stock-data-bucket_hopop/2497.parquet.\n"
     ]
    },
    {
     "name": "stderr",
     "output_type": "stream",
     "text": [
      "[*********************100%***********************]  1 of 1 completed\n",
      "\n",
      "1 Failed download:\n",
      "['4734.T']: YFTzMissingError('$%ticker%: possibly delisted; no timezone found')\n"
     ]
    },
    {
     "name": "stdout",
     "output_type": "stream",
     "text": [
      "No data found for 4734.T. Skipping...\n"
     ]
    },
    {
     "name": "stderr",
     "output_type": "stream",
     "text": [
      "[*********************100%***********************]  1 of 1 completed\n"
     ]
    },
    {
     "name": "stdout",
     "output_type": "stream",
     "text": [
      "Uploaded ./output/9827.parquet to gs://stock-data-bucket_hopop/9827.parquet\n",
      "Loaded data into BigQuery table dbt-analytics-engineer-435907.stock_dataset.stock_data from gs://stock-data-bucket_hopop/9827.parquet.\n"
     ]
    },
    {
     "name": "stderr",
     "output_type": "stream",
     "text": [
      "[*********************100%***********************]  1 of 1 completed\n",
      "\n",
      "1 Failed download:\n",
      "['4508.T']: YFTzMissingError('$%ticker%: possibly delisted; no timezone found')\n"
     ]
    },
    {
     "name": "stdout",
     "output_type": "stream",
     "text": [
      "No data found for 4508.T. Skipping...\n"
     ]
    },
    {
     "name": "stderr",
     "output_type": "stream",
     "text": [
      "[*********************100%***********************]  1 of 1 completed\n",
      "\n",
      "1 Failed download:\n",
      "['1865.T']: YFTzMissingError('$%ticker%: possibly delisted; no timezone found')\n"
     ]
    },
    {
     "name": "stdout",
     "output_type": "stream",
     "text": [
      "No data found for 1865.T. Skipping...\n"
     ]
    },
    {
     "name": "stderr",
     "output_type": "stream",
     "text": [
      "[*********************100%***********************]  1 of 1 completed\n"
     ]
    },
    {
     "name": "stdout",
     "output_type": "stream",
     "text": [
      "Uploaded ./output/5697.parquet to gs://stock-data-bucket_hopop/5697.parquet\n",
      "Loaded data into BigQuery table dbt-analytics-engineer-435907.stock_dataset.stock_data from gs://stock-data-bucket_hopop/5697.parquet.\n"
     ]
    },
    {
     "name": "stderr",
     "output_type": "stream",
     "text": [
      "[*********************100%***********************]  1 of 1 completed\n"
     ]
    },
    {
     "name": "stdout",
     "output_type": "stream",
     "text": [
      "Uploaded ./output/8416.parquet to gs://stock-data-bucket_hopop/8416.parquet\n",
      "Loaded data into BigQuery table dbt-analytics-engineer-435907.stock_dataset.stock_data from gs://stock-data-bucket_hopop/8416.parquet.\n"
     ]
    },
    {
     "name": "stderr",
     "output_type": "stream",
     "text": [
      "[*********************100%***********************]  1 of 1 completed\n"
     ]
    },
    {
     "name": "stdout",
     "output_type": "stream",
     "text": [
      "Uploaded ./output/9010.parquet to gs://stock-data-bucket_hopop/9010.parquet\n",
      "Loaded data into BigQuery table dbt-analytics-engineer-435907.stock_dataset.stock_data from gs://stock-data-bucket_hopop/9010.parquet.\n"
     ]
    },
    {
     "name": "stderr",
     "output_type": "stream",
     "text": [
      "[*********************100%***********************]  1 of 1 completed\n",
      "\n",
      "1 Failed download:\n",
      "['1606.T']: YFPricesMissingError('$%ticker%: possibly delisted; no price data found  (1d 2024-01-01 -> 2024-09-30)')\n"
     ]
    },
    {
     "name": "stdout",
     "output_type": "stream",
     "text": [
      "No data found for 1606.T. Skipping...\n"
     ]
    },
    {
     "name": "stderr",
     "output_type": "stream",
     "text": [
      "[*********************100%***********************]  1 of 1 completed\n"
     ]
    },
    {
     "name": "stdout",
     "output_type": "stream",
     "text": [
      "Uploaded ./output/3224.parquet to gs://stock-data-bucket_hopop/3224.parquet\n",
      "Loaded data into BigQuery table dbt-analytics-engineer-435907.stock_dataset.stock_data from gs://stock-data-bucket_hopop/3224.parquet.\n"
     ]
    },
    {
     "name": "stderr",
     "output_type": "stream",
     "text": [
      "[*********************100%***********************]  1 of 1 completed\n"
     ]
    },
    {
     "name": "stdout",
     "output_type": "stream",
     "text": [
      "Uploaded ./output/8032.parquet to gs://stock-data-bucket_hopop/8032.parquet\n",
      "Loaded data into BigQuery table dbt-analytics-engineer-435907.stock_dataset.stock_data from gs://stock-data-bucket_hopop/8032.parquet.\n"
     ]
    },
    {
     "name": "stderr",
     "output_type": "stream",
     "text": [
      "[*********************100%***********************]  1 of 1 completed\n"
     ]
    },
    {
     "name": "stdout",
     "output_type": "stream",
     "text": [
      "Uploaded ./output/6902.parquet to gs://stock-data-bucket_hopop/6902.parquet\n",
      "Loaded data into BigQuery table dbt-analytics-engineer-435907.stock_dataset.stock_data from gs://stock-data-bucket_hopop/6902.parquet.\n"
     ]
    },
    {
     "name": "stderr",
     "output_type": "stream",
     "text": [
      "[*********************100%***********************]  1 of 1 completed\n"
     ]
    },
    {
     "name": "stdout",
     "output_type": "stream",
     "text": [
      "Uploaded ./output/3401.parquet to gs://stock-data-bucket_hopop/3401.parquet\n",
      "Loaded data into BigQuery table dbt-analytics-engineer-435907.stock_dataset.stock_data from gs://stock-data-bucket_hopop/3401.parquet.\n"
     ]
    },
    {
     "name": "stderr",
     "output_type": "stream",
     "text": [
      "[*********************100%***********************]  1 of 1 completed\n",
      "\n",
      "1 Failed download:\n",
      "['4517.T']: YFTzMissingError('$%ticker%: possibly delisted; no timezone found')\n"
     ]
    },
    {
     "name": "stdout",
     "output_type": "stream",
     "text": [
      "No data found for 4517.T. Skipping...\n"
     ]
    },
    {
     "name": "stderr",
     "output_type": "stream",
     "text": [
      "[*********************100%***********************]  1 of 1 completed\n"
     ]
    },
    {
     "name": "stdout",
     "output_type": "stream",
     "text": [
      "Uploaded ./output/5380.parquet to gs://stock-data-bucket_hopop/5380.parquet\n",
      "Loaded data into BigQuery table dbt-analytics-engineer-435907.stock_dataset.stock_data from gs://stock-data-bucket_hopop/5380.parquet.\n"
     ]
    },
    {
     "name": "stderr",
     "output_type": "stream",
     "text": [
      "[*********************100%***********************]  1 of 1 completed\n"
     ]
    },
    {
     "name": "stdout",
     "output_type": "stream",
     "text": [
      "Uploaded ./output/6201.parquet to gs://stock-data-bucket_hopop/6201.parquet\n",
      "Loaded data into BigQuery table dbt-analytics-engineer-435907.stock_dataset.stock_data from gs://stock-data-bucket_hopop/6201.parquet.\n"
     ]
    },
    {
     "name": "stderr",
     "output_type": "stream",
     "text": [
      "[*********************100%***********************]  1 of 1 completed\n"
     ]
    },
    {
     "name": "stdout",
     "output_type": "stream",
     "text": [
      "Uploaded ./output/4021.parquet to gs://stock-data-bucket_hopop/4021.parquet\n",
      "Loaded data into BigQuery table dbt-analytics-engineer-435907.stock_dataset.stock_data from gs://stock-data-bucket_hopop/4021.parquet.\n"
     ]
    },
    {
     "name": "stderr",
     "output_type": "stream",
     "text": [
      "[*********************100%***********************]  1 of 1 completed\n"
     ]
    },
    {
     "name": "stdout",
     "output_type": "stream",
     "text": [
      "Uploaded ./output/7486.parquet to gs://stock-data-bucket_hopop/7486.parquet\n",
      "Loaded data into BigQuery table dbt-analytics-engineer-435907.stock_dataset.stock_data from gs://stock-data-bucket_hopop/7486.parquet.\n"
     ]
    },
    {
     "name": "stderr",
     "output_type": "stream",
     "text": [
      "[*********************100%***********************]  1 of 1 completed\n",
      "\n",
      "1 Failed download:\n",
      "['2145.T']: YFTzMissingError('$%ticker%: possibly delisted; no timezone found')\n"
     ]
    },
    {
     "name": "stdout",
     "output_type": "stream",
     "text": [
      "No data found for 2145.T. Skipping...\n"
     ]
    },
    {
     "name": "stderr",
     "output_type": "stream",
     "text": [
      "[*********************100%***********************]  1 of 1 completed\n"
     ]
    },
    {
     "name": "stdout",
     "output_type": "stream",
     "text": [
      "Uploaded ./output/7444.parquet to gs://stock-data-bucket_hopop/7444.parquet\n",
      "Loaded data into BigQuery table dbt-analytics-engineer-435907.stock_dataset.stock_data from gs://stock-data-bucket_hopop/7444.parquet.\n"
     ]
    },
    {
     "name": "stderr",
     "output_type": "stream",
     "text": [
      "[*********************100%***********************]  1 of 1 completed\n",
      "\n",
      "1 Failed download:\n",
      "['8994.T']: YFTzMissingError('$%ticker%: possibly delisted; no timezone found')\n"
     ]
    },
    {
     "name": "stdout",
     "output_type": "stream",
     "text": [
      "No data found for 8994.T. Skipping...\n"
     ]
    },
    {
     "name": "stderr",
     "output_type": "stream",
     "text": [
      "[*********************100%***********************]  1 of 1 completed\n"
     ]
    },
    {
     "name": "stdout",
     "output_type": "stream",
     "text": [
      "Uploaded ./output/8015.parquet to gs://stock-data-bucket_hopop/8015.parquet\n",
      "Loaded data into BigQuery table dbt-analytics-engineer-435907.stock_dataset.stock_data from gs://stock-data-bucket_hopop/8015.parquet.\n"
     ]
    },
    {
     "name": "stderr",
     "output_type": "stream",
     "text": [
      "[*********************100%***********************]  1 of 1 completed\n"
     ]
    },
    {
     "name": "stdout",
     "output_type": "stream",
     "text": [
      "Uploaded ./output/6071.parquet to gs://stock-data-bucket_hopop/6071.parquet\n",
      "Loaded data into BigQuery table dbt-analytics-engineer-435907.stock_dataset.stock_data from gs://stock-data-bucket_hopop/6071.parquet.\n"
     ]
    },
    {
     "name": "stderr",
     "output_type": "stream",
     "text": [
      "[*********************100%***********************]  1 of 1 completed\n"
     ]
    },
    {
     "name": "stdout",
     "output_type": "stream",
     "text": [
      "Uploaded ./output/7923.parquet to gs://stock-data-bucket_hopop/7923.parquet\n",
      "Loaded data into BigQuery table dbt-analytics-engineer-435907.stock_dataset.stock_data from gs://stock-data-bucket_hopop/7923.parquet.\n"
     ]
    },
    {
     "name": "stderr",
     "output_type": "stream",
     "text": [
      "[*********************100%***********************]  1 of 1 completed\n"
     ]
    },
    {
     "name": "stdout",
     "output_type": "stream",
     "text": [
      "Uploaded ./output/3753.parquet to gs://stock-data-bucket_hopop/3753.parquet\n",
      "Loaded data into BigQuery table dbt-analytics-engineer-435907.stock_dataset.stock_data from gs://stock-data-bucket_hopop/3753.parquet.\n"
     ]
    },
    {
     "name": "stderr",
     "output_type": "stream",
     "text": [
      "[*********************100%***********************]  1 of 1 completed\n"
     ]
    },
    {
     "name": "stdout",
     "output_type": "stream",
     "text": [
      "Uploaded ./output/6368.parquet to gs://stock-data-bucket_hopop/6368.parquet\n",
      "Loaded data into BigQuery table dbt-analytics-engineer-435907.stock_dataset.stock_data from gs://stock-data-bucket_hopop/6368.parquet.\n"
     ]
    },
    {
     "name": "stderr",
     "output_type": "stream",
     "text": [
      "[*********************100%***********************]  1 of 1 completed\n"
     ]
    },
    {
     "name": "stdout",
     "output_type": "stream",
     "text": [
      "Uploaded ./output/9355.parquet to gs://stock-data-bucket_hopop/9355.parquet\n",
      "Loaded data into BigQuery table dbt-analytics-engineer-435907.stock_dataset.stock_data from gs://stock-data-bucket_hopop/9355.parquet.\n"
     ]
    },
    {
     "name": "stderr",
     "output_type": "stream",
     "text": [
      "[*********************100%***********************]  1 of 1 completed\n"
     ]
    },
    {
     "name": "stdout",
     "output_type": "stream",
     "text": [
      "Uploaded ./output/9428.parquet to gs://stock-data-bucket_hopop/9428.parquet\n",
      "Loaded data into BigQuery table dbt-analytics-engineer-435907.stock_dataset.stock_data from gs://stock-data-bucket_hopop/9428.parquet.\n"
     ]
    },
    {
     "name": "stderr",
     "output_type": "stream",
     "text": [
      "[*********************100%***********************]  1 of 1 completed\n"
     ]
    },
    {
     "name": "stdout",
     "output_type": "stream",
     "text": [
      "Uploaded ./output/4403.parquet to gs://stock-data-bucket_hopop/4403.parquet\n",
      "Loaded data into BigQuery table dbt-analytics-engineer-435907.stock_dataset.stock_data from gs://stock-data-bucket_hopop/4403.parquet.\n"
     ]
    },
    {
     "name": "stderr",
     "output_type": "stream",
     "text": [
      "[*********************100%***********************]  1 of 1 completed\n",
      "\n",
      "1 Failed download:\n",
      "['7838.T']: YFTzMissingError('$%ticker%: possibly delisted; no timezone found')\n"
     ]
    },
    {
     "name": "stdout",
     "output_type": "stream",
     "text": [
      "No data found for 7838.T. Skipping...\n"
     ]
    },
    {
     "name": "stderr",
     "output_type": "stream",
     "text": [
      "[*********************100%***********************]  1 of 1 completed\n"
     ]
    },
    {
     "name": "stdout",
     "output_type": "stream",
     "text": [
      "Uploaded ./output/2121.parquet to gs://stock-data-bucket_hopop/2121.parquet\n",
      "Loaded data into BigQuery table dbt-analytics-engineer-435907.stock_dataset.stock_data from gs://stock-data-bucket_hopop/2121.parquet.\n"
     ]
    },
    {
     "name": "stderr",
     "output_type": "stream",
     "text": [
      "[*********************100%***********************]  1 of 1 completed\n"
     ]
    },
    {
     "name": "stdout",
     "output_type": "stream",
     "text": [
      "Uploaded ./output/6731.parquet to gs://stock-data-bucket_hopop/6731.parquet\n",
      "Loaded data into BigQuery table dbt-analytics-engineer-435907.stock_dataset.stock_data from gs://stock-data-bucket_hopop/6731.parquet.\n"
     ]
    },
    {
     "name": "stderr",
     "output_type": "stream",
     "text": [
      "[*********************100%***********************]  1 of 1 completed\n"
     ]
    },
    {
     "name": "stdout",
     "output_type": "stream",
     "text": [
      "Uploaded ./output/7282.parquet to gs://stock-data-bucket_hopop/7282.parquet\n",
      "Loaded data into BigQuery table dbt-analytics-engineer-435907.stock_dataset.stock_data from gs://stock-data-bucket_hopop/7282.parquet.\n"
     ]
    },
    {
     "name": "stderr",
     "output_type": "stream",
     "text": [
      "[*********************100%***********************]  1 of 1 completed\n"
     ]
    },
    {
     "name": "stdout",
     "output_type": "stream",
     "text": [
      "Uploaded ./output/7705.parquet to gs://stock-data-bucket_hopop/7705.parquet\n",
      "Loaded data into BigQuery table dbt-analytics-engineer-435907.stock_dataset.stock_data from gs://stock-data-bucket_hopop/7705.parquet.\n"
     ]
    },
    {
     "name": "stderr",
     "output_type": "stream",
     "text": [
      "[*********************100%***********************]  1 of 1 completed\n"
     ]
    },
    {
     "name": "stdout",
     "output_type": "stream",
     "text": [
      "Uploaded ./output/9857.parquet to gs://stock-data-bucket_hopop/9857.parquet\n",
      "Loaded data into BigQuery table dbt-analytics-engineer-435907.stock_dataset.stock_data from gs://stock-data-bucket_hopop/9857.parquet.\n"
     ]
    },
    {
     "name": "stderr",
     "output_type": "stream",
     "text": [
      "[*********************100%***********************]  1 of 1 completed\n"
     ]
    },
    {
     "name": "stdout",
     "output_type": "stream",
     "text": [
      "Uploaded ./output/4927.parquet to gs://stock-data-bucket_hopop/4927.parquet\n",
      "Loaded data into BigQuery table dbt-analytics-engineer-435907.stock_dataset.stock_data from gs://stock-data-bucket_hopop/4927.parquet.\n"
     ]
    },
    {
     "name": "stderr",
     "output_type": "stream",
     "text": [
      "[*********************100%***********************]  1 of 1 completed\n"
     ]
    },
    {
     "name": "stdout",
     "output_type": "stream",
     "text": [
      "Uploaded ./output/2667.parquet to gs://stock-data-bucket_hopop/2667.parquet\n",
      "Loaded data into BigQuery table dbt-analytics-engineer-435907.stock_dataset.stock_data from gs://stock-data-bucket_hopop/2667.parquet.\n"
     ]
    },
    {
     "name": "stderr",
     "output_type": "stream",
     "text": [
      "[*********************100%***********************]  1 of 1 completed\n"
     ]
    },
    {
     "name": "stdout",
     "output_type": "stream",
     "text": [
      "Uploaded ./output/8365.parquet to gs://stock-data-bucket_hopop/8365.parquet\n",
      "Loaded data into BigQuery table dbt-analytics-engineer-435907.stock_dataset.stock_data from gs://stock-data-bucket_hopop/8365.parquet.\n"
     ]
    },
    {
     "name": "stderr",
     "output_type": "stream",
     "text": [
      "[*********************100%***********************]  1 of 1 completed\n"
     ]
    },
    {
     "name": "stdout",
     "output_type": "stream",
     "text": [
      "Uploaded ./output/1821.parquet to gs://stock-data-bucket_hopop/1821.parquet\n",
      "Loaded data into BigQuery table dbt-analytics-engineer-435907.stock_dataset.stock_data from gs://stock-data-bucket_hopop/1821.parquet.\n"
     ]
    },
    {
     "name": "stderr",
     "output_type": "stream",
     "text": [
      "[*********************100%***********************]  1 of 1 completed\n",
      "\n",
      "1 Failed download:\n",
      "['9671.T']: YFTzMissingError('$%ticker%: possibly delisted; no timezone found')\n"
     ]
    },
    {
     "name": "stdout",
     "output_type": "stream",
     "text": [
      "No data found for 9671.T. Skipping...\n"
     ]
    },
    {
     "name": "stderr",
     "output_type": "stream",
     "text": [
      "[*********************100%***********************]  1 of 1 completed\n"
     ]
    },
    {
     "name": "stdout",
     "output_type": "stream",
     "text": [
      "Uploaded ./output/9067.parquet to gs://stock-data-bucket_hopop/9067.parquet\n",
      "Loaded data into BigQuery table dbt-analytics-engineer-435907.stock_dataset.stock_data from gs://stock-data-bucket_hopop/9067.parquet.\n"
     ]
    },
    {
     "name": "stderr",
     "output_type": "stream",
     "text": [
      "[*********************100%***********************]  1 of 1 completed\n"
     ]
    },
    {
     "name": "stdout",
     "output_type": "stream",
     "text": [
      "Uploaded ./output/8111.parquet to gs://stock-data-bucket_hopop/8111.parquet\n",
      "Loaded data into BigQuery table dbt-analytics-engineer-435907.stock_dataset.stock_data from gs://stock-data-bucket_hopop/8111.parquet.\n"
     ]
    },
    {
     "name": "stderr",
     "output_type": "stream",
     "text": [
      "[*********************100%***********************]  1 of 1 completed\n"
     ]
    },
    {
     "name": "stdout",
     "output_type": "stream",
     "text": [
      "Uploaded ./output/7991.parquet to gs://stock-data-bucket_hopop/7991.parquet\n",
      "Loaded data into BigQuery table dbt-analytics-engineer-435907.stock_dataset.stock_data from gs://stock-data-bucket_hopop/7991.parquet.\n"
     ]
    },
    {
     "name": "stderr",
     "output_type": "stream",
     "text": [
      "[*********************100%***********************]  1 of 1 completed\n",
      "\n",
      "1 Failed download:\n",
      "['7913.T']: YFTzMissingError('$%ticker%: possibly delisted; no timezone found')\n"
     ]
    },
    {
     "name": "stdout",
     "output_type": "stream",
     "text": [
      "No data found for 7913.T. Skipping...\n"
     ]
    },
    {
     "name": "stderr",
     "output_type": "stream",
     "text": [
      "[*********************100%***********************]  1 of 1 completed\n"
     ]
    },
    {
     "name": "stdout",
     "output_type": "stream",
     "text": [
      "Uploaded ./output/8713.parquet to gs://stock-data-bucket_hopop/8713.parquet\n",
      "Loaded data into BigQuery table dbt-analytics-engineer-435907.stock_dataset.stock_data from gs://stock-data-bucket_hopop/8713.parquet.\n"
     ]
    },
    {
     "name": "stderr",
     "output_type": "stream",
     "text": [
      "[*********************100%***********************]  1 of 1 completed\n",
      "\n",
      "1 Failed download:\n",
      "['7703.T']: YFTzMissingError('$%ticker%: possibly delisted; no timezone found')\n"
     ]
    },
    {
     "name": "stdout",
     "output_type": "stream",
     "text": [
      "No data found for 7703.T. Skipping...\n"
     ]
    },
    {
     "name": "stderr",
     "output_type": "stream",
     "text": [
      "[*********************100%***********************]  1 of 1 completed\n"
     ]
    },
    {
     "name": "stdout",
     "output_type": "stream",
     "text": [
      "Uploaded ./output/7817.parquet to gs://stock-data-bucket_hopop/7817.parquet\n",
      "Loaded data into BigQuery table dbt-analytics-engineer-435907.stock_dataset.stock_data from gs://stock-data-bucket_hopop/7817.parquet.\n"
     ]
    },
    {
     "name": "stderr",
     "output_type": "stream",
     "text": [
      "[*********************100%***********************]  1 of 1 completed\n"
     ]
    },
    {
     "name": "stdout",
     "output_type": "stream",
     "text": [
      "Uploaded ./output/3420.parquet to gs://stock-data-bucket_hopop/3420.parquet\n",
      "Loaded data into BigQuery table dbt-analytics-engineer-435907.stock_dataset.stock_data from gs://stock-data-bucket_hopop/3420.parquet.\n"
     ]
    },
    {
     "name": "stderr",
     "output_type": "stream",
     "text": [
      "[*********************100%***********************]  1 of 1 completed\n"
     ]
    },
    {
     "name": "stdout",
     "output_type": "stream",
     "text": [
      "Uploaded ./output/7280.parquet to gs://stock-data-bucket_hopop/7280.parquet\n",
      "Loaded data into BigQuery table dbt-analytics-engineer-435907.stock_dataset.stock_data from gs://stock-data-bucket_hopop/7280.parquet.\n"
     ]
    },
    {
     "name": "stderr",
     "output_type": "stream",
     "text": [
      "[*********************100%***********************]  1 of 1 completed\n"
     ]
    },
    {
     "name": "stdout",
     "output_type": "stream",
     "text": [
      "Uploaded ./output/6869.parquet to gs://stock-data-bucket_hopop/6869.parquet\n",
      "Loaded data into BigQuery table dbt-analytics-engineer-435907.stock_dataset.stock_data from gs://stock-data-bucket_hopop/6869.parquet.\n"
     ]
    },
    {
     "name": "stderr",
     "output_type": "stream",
     "text": [
      "[*********************100%***********************]  1 of 1 completed\n"
     ]
    },
    {
     "name": "stdout",
     "output_type": "stream",
     "text": [
      "Uploaded ./output/6445.parquet to gs://stock-data-bucket_hopop/6445.parquet\n",
      "Loaded data into BigQuery table dbt-analytics-engineer-435907.stock_dataset.stock_data from gs://stock-data-bucket_hopop/6445.parquet.\n"
     ]
    },
    {
     "name": "stderr",
     "output_type": "stream",
     "text": [
      "[*********************100%***********************]  1 of 1 completed\n",
      "\n",
      "1 Failed download:\n",
      "['7834.T']: YFTzMissingError('$%ticker%: possibly delisted; no timezone found')\n"
     ]
    },
    {
     "name": "stdout",
     "output_type": "stream",
     "text": [
      "No data found for 7834.T. Skipping...\n"
     ]
    },
    {
     "name": "stderr",
     "output_type": "stream",
     "text": [
      "[*********************100%***********************]  1 of 1 completed\n"
     ]
    },
    {
     "name": "stdout",
     "output_type": "stream",
     "text": [
      "Uploaded ./output/6436.parquet to gs://stock-data-bucket_hopop/6436.parquet\n",
      "Loaded data into BigQuery table dbt-analytics-engineer-435907.stock_dataset.stock_data from gs://stock-data-bucket_hopop/6436.parquet.\n"
     ]
    },
    {
     "name": "stderr",
     "output_type": "stream",
     "text": [
      "[*********************100%***********************]  1 of 1 completed\n",
      "\n",
      "1 Failed download:\n",
      "['3055.T']: YFTzMissingError('$%ticker%: possibly delisted; no timezone found')\n"
     ]
    },
    {
     "name": "stdout",
     "output_type": "stream",
     "text": [
      "No data found for 3055.T. Skipping...\n"
     ]
    },
    {
     "name": "stderr",
     "output_type": "stream",
     "text": [
      "[*********************100%***********************]  1 of 1 completed\n"
     ]
    },
    {
     "name": "stdout",
     "output_type": "stream",
     "text": [
      "Uploaded ./output/6417.parquet to gs://stock-data-bucket_hopop/6417.parquet\n",
      "Loaded data into BigQuery table dbt-analytics-engineer-435907.stock_dataset.stock_data from gs://stock-data-bucket_hopop/6417.parquet.\n"
     ]
    },
    {
     "name": "stderr",
     "output_type": "stream",
     "text": [
      "[*********************100%***********************]  1 of 1 completed\n",
      "\n",
      "1 Failed download:\n",
      "['5358.T']: YFTzMissingError('$%ticker%: possibly delisted; no timezone found')\n"
     ]
    },
    {
     "name": "stdout",
     "output_type": "stream",
     "text": [
      "No data found for 5358.T. Skipping...\n"
     ]
    },
    {
     "name": "stderr",
     "output_type": "stream",
     "text": [
      "[*********************100%***********************]  1 of 1 completed\n"
     ]
    },
    {
     "name": "stdout",
     "output_type": "stream",
     "text": [
      "Uploaded ./output/5923.parquet to gs://stock-data-bucket_hopop/5923.parquet\n",
      "Loaded data into BigQuery table dbt-analytics-engineer-435907.stock_dataset.stock_data from gs://stock-data-bucket_hopop/5923.parquet.\n"
     ]
    },
    {
     "name": "stderr",
     "output_type": "stream",
     "text": [
      "[*********************100%***********************]  1 of 1 completed\n",
      "\n",
      "1 Failed download:\n",
      "['2402.T']: YFTzMissingError('$%ticker%: possibly delisted; no timezone found')\n"
     ]
    },
    {
     "name": "stdout",
     "output_type": "stream",
     "text": [
      "No data found for 2402.T. Skipping...\n"
     ]
    },
    {
     "name": "stderr",
     "output_type": "stream",
     "text": [
      "[*********************100%***********************]  1 of 1 completed\n"
     ]
    },
    {
     "name": "stdout",
     "output_type": "stream",
     "text": [
      "Uploaded ./output/9076.parquet to gs://stock-data-bucket_hopop/9076.parquet\n",
      "Loaded data into BigQuery table dbt-analytics-engineer-435907.stock_dataset.stock_data from gs://stock-data-bucket_hopop/9076.parquet.\n"
     ]
    },
    {
     "name": "stderr",
     "output_type": "stream",
     "text": [
      "[*********************100%***********************]  1 of 1 completed\n"
     ]
    },
    {
     "name": "stdout",
     "output_type": "stream",
     "text": [
      "Uploaded ./output/4512.parquet to gs://stock-data-bucket_hopop/4512.parquet\n",
      "Loaded data into BigQuery table dbt-analytics-engineer-435907.stock_dataset.stock_data from gs://stock-data-bucket_hopop/4512.parquet.\n"
     ]
    },
    {
     "name": "stderr",
     "output_type": "stream",
     "text": [
      "[*********************100%***********************]  1 of 1 completed\n",
      "\n",
      "1 Failed download:\n",
      "['8536.T']: YFPricesMissingError('$%ticker%: possibly delisted; no price data found  (1d 2024-01-01 -> 2024-09-30)')\n"
     ]
    },
    {
     "name": "stdout",
     "output_type": "stream",
     "text": [
      "No data found for 8536.T. Skipping...\n"
     ]
    },
    {
     "name": "stderr",
     "output_type": "stream",
     "text": [
      "[*********************100%***********************]  1 of 1 completed\n",
      "\n",
      "1 Failed download:\n",
      "['4201.T']: YFPricesMissingError('$%ticker%: possibly delisted; no price data found  (1d 2024-01-01 -> 2024-09-30)')\n"
     ]
    },
    {
     "name": "stdout",
     "output_type": "stream",
     "text": [
      "No data found for 4201.T. Skipping...\n"
     ]
    },
    {
     "name": "stderr",
     "output_type": "stream",
     "text": [
      "[*********************100%***********************]  1 of 1 completed\n"
     ]
    },
    {
     "name": "stdout",
     "output_type": "stream",
     "text": [
      "Uploaded ./output/9005.parquet to gs://stock-data-bucket_hopop/9005.parquet\n",
      "Loaded data into BigQuery table dbt-analytics-engineer-435907.stock_dataset.stock_data from gs://stock-data-bucket_hopop/9005.parquet.\n"
     ]
    },
    {
     "name": "stderr",
     "output_type": "stream",
     "text": [
      "[*********************100%***********************]  1 of 1 completed\n"
     ]
    },
    {
     "name": "stdout",
     "output_type": "stream",
     "text": [
      "Uploaded ./output/4186.parquet to gs://stock-data-bucket_hopop/4186.parquet\n",
      "Loaded data into BigQuery table dbt-analytics-engineer-435907.stock_dataset.stock_data from gs://stock-data-bucket_hopop/4186.parquet.\n"
     ]
    },
    {
     "name": "stderr",
     "output_type": "stream",
     "text": [
      "[*********************100%***********************]  1 of 1 completed\n"
     ]
    },
    {
     "name": "stdout",
     "output_type": "stream",
     "text": [
      "Uploaded ./output/3857.parquet to gs://stock-data-bucket_hopop/3857.parquet\n",
      "Loaded data into BigQuery table dbt-analytics-engineer-435907.stock_dataset.stock_data from gs://stock-data-bucket_hopop/3857.parquet.\n"
     ]
    },
    {
     "name": "stderr",
     "output_type": "stream",
     "text": [
      "[*********************100%***********************]  1 of 1 completed\n"
     ]
    },
    {
     "name": "stdout",
     "output_type": "stream",
     "text": [
      "Uploaded ./output/4107.parquet to gs://stock-data-bucket_hopop/4107.parquet\n",
      "Loaded data into BigQuery table dbt-analytics-engineer-435907.stock_dataset.stock_data from gs://stock-data-bucket_hopop/4107.parquet.\n"
     ]
    },
    {
     "name": "stderr",
     "output_type": "stream",
     "text": [
      "[*********************100%***********************]  1 of 1 completed\n"
     ]
    },
    {
     "name": "stdout",
     "output_type": "stream",
     "text": [
      "Uploaded ./output/3947.parquet to gs://stock-data-bucket_hopop/3947.parquet\n",
      "Loaded data into BigQuery table dbt-analytics-engineer-435907.stock_dataset.stock_data from gs://stock-data-bucket_hopop/3947.parquet.\n"
     ]
    },
    {
     "name": "stderr",
     "output_type": "stream",
     "text": [
      "[*********************100%***********************]  1 of 1 completed\n"
     ]
    },
    {
     "name": "stdout",
     "output_type": "stream",
     "text": [
      "Uploaded ./output/3079.parquet to gs://stock-data-bucket_hopop/3079.parquet\n",
      "Loaded data into BigQuery table dbt-analytics-engineer-435907.stock_dataset.stock_data from gs://stock-data-bucket_hopop/3079.parquet.\n"
     ]
    },
    {
     "name": "stderr",
     "output_type": "stream",
     "text": [
      "[*********************100%***********************]  1 of 1 completed\n"
     ]
    },
    {
     "name": "stdout",
     "output_type": "stream",
     "text": [
      "Uploaded ./output/4591.parquet to gs://stock-data-bucket_hopop/4591.parquet\n",
      "Loaded data into BigQuery table dbt-analytics-engineer-435907.stock_dataset.stock_data from gs://stock-data-bucket_hopop/4591.parquet.\n"
     ]
    },
    {
     "name": "stderr",
     "output_type": "stream",
     "text": [
      "[*********************100%***********************]  1 of 1 completed\n",
      "\n",
      "1 Failed download:\n",
      "['2611.T']: YFTzMissingError('$%ticker%: possibly delisted; no timezone found')\n"
     ]
    },
    {
     "name": "stdout",
     "output_type": "stream",
     "text": [
      "No data found for 2611.T. Skipping...\n"
     ]
    },
    {
     "name": "stderr",
     "output_type": "stream",
     "text": [
      "[*********************100%***********************]  1 of 1 completed\n"
     ]
    },
    {
     "name": "stdout",
     "output_type": "stream",
     "text": [
      "Uploaded ./output/3633.parquet to gs://stock-data-bucket_hopop/3633.parquet\n",
      "Loaded data into BigQuery table dbt-analytics-engineer-435907.stock_dataset.stock_data from gs://stock-data-bucket_hopop/3633.parquet.\n"
     ]
    },
    {
     "name": "stderr",
     "output_type": "stream",
     "text": [
      "[*********************100%***********************]  1 of 1 completed\n"
     ]
    },
    {
     "name": "stdout",
     "output_type": "stream",
     "text": [
      "Uploaded ./output/7525.parquet to gs://stock-data-bucket_hopop/7525.parquet\n",
      "Loaded data into BigQuery table dbt-analytics-engineer-435907.stock_dataset.stock_data from gs://stock-data-bucket_hopop/7525.parquet.\n"
     ]
    },
    {
     "name": "stderr",
     "output_type": "stream",
     "text": [
      "[*********************100%***********************]  1 of 1 completed\n"
     ]
    },
    {
     "name": "stdout",
     "output_type": "stream",
     "text": [
      "Uploaded ./output/2385.parquet to gs://stock-data-bucket_hopop/2385.parquet\n",
      "Loaded data into BigQuery table dbt-analytics-engineer-435907.stock_dataset.stock_data from gs://stock-data-bucket_hopop/2385.parquet.\n"
     ]
    },
    {
     "name": "stderr",
     "output_type": "stream",
     "text": [
      "[*********************100%***********************]  1 of 1 completed\n",
      "\n",
      "1 Failed download:\n",
      "['1733.T']: YFTzMissingError('$%ticker%: possibly delisted; no timezone found')\n"
     ]
    },
    {
     "name": "stdout",
     "output_type": "stream",
     "text": [
      "No data found for 1733.T. Skipping...\n"
     ]
    },
    {
     "name": "stderr",
     "output_type": "stream",
     "text": [
      "[*********************100%***********************]  1 of 1 completed\n"
     ]
    },
    {
     "name": "stdout",
     "output_type": "stream",
     "text": [
      "Uploaded ./output/1799.parquet to gs://stock-data-bucket_hopop/1799.parquet\n",
      "Loaded data into BigQuery table dbt-analytics-engineer-435907.stock_dataset.stock_data from gs://stock-data-bucket_hopop/1799.parquet.\n"
     ]
    },
    {
     "name": "stderr",
     "output_type": "stream",
     "text": [
      "[*********************100%***********************]  1 of 1 completed\n"
     ]
    },
    {
     "name": "stdout",
     "output_type": "stream",
     "text": [
      "Uploaded ./output/7875.parquet to gs://stock-data-bucket_hopop/7875.parquet\n",
      "Loaded data into BigQuery table dbt-analytics-engineer-435907.stock_dataset.stock_data from gs://stock-data-bucket_hopop/7875.parquet.\n"
     ]
    },
    {
     "name": "stderr",
     "output_type": "stream",
     "text": [
      "[*********************100%***********************]  1 of 1 completed\n"
     ]
    },
    {
     "name": "stdout",
     "output_type": "stream",
     "text": [
      "Uploaded ./output/5384.parquet to gs://stock-data-bucket_hopop/5384.parquet\n",
      "Loaded data into BigQuery table dbt-analytics-engineer-435907.stock_dataset.stock_data from gs://stock-data-bucket_hopop/5384.parquet.\n"
     ]
    },
    {
     "name": "stderr",
     "output_type": "stream",
     "text": [
      "[*********************100%***********************]  1 of 1 completed\n",
      "\n",
      "1 Failed download:\n",
      "['7243.T']: YFPricesMissingError('$%ticker%: possibly delisted; no price data found  (1d 2024-01-01 -> 2024-09-30)')\n"
     ]
    },
    {
     "name": "stdout",
     "output_type": "stream",
     "text": [
      "No data found for 7243.T. Skipping...\n"
     ]
    },
    {
     "name": "stderr",
     "output_type": "stream",
     "text": [
      "[*********************100%***********************]  1 of 1 completed\n"
     ]
    },
    {
     "name": "stdout",
     "output_type": "stream",
     "text": [
      "Uploaded ./output/8012.parquet to gs://stock-data-bucket_hopop/8012.parquet\n",
      "Loaded data into BigQuery table dbt-analytics-engineer-435907.stock_dataset.stock_data from gs://stock-data-bucket_hopop/8012.parquet.\n"
     ]
    },
    {
     "name": "stderr",
     "output_type": "stream",
     "text": [
      "[*********************100%***********************]  1 of 1 completed\n"
     ]
    },
    {
     "name": "stdout",
     "output_type": "stream",
     "text": [
      "Uploaded ./output/8977.parquet to gs://stock-data-bucket_hopop/8977.parquet\n",
      "Loaded data into BigQuery table dbt-analytics-engineer-435907.stock_dataset.stock_data from gs://stock-data-bucket_hopop/8977.parquet.\n"
     ]
    },
    {
     "name": "stderr",
     "output_type": "stream",
     "text": [
      "[*********************100%***********************]  1 of 1 completed\n"
     ]
    },
    {
     "name": "stdout",
     "output_type": "stream",
     "text": [
      "Uploaded ./output/3465.parquet to gs://stock-data-bucket_hopop/3465.parquet\n",
      "Loaded data into BigQuery table dbt-analytics-engineer-435907.stock_dataset.stock_data from gs://stock-data-bucket_hopop/3465.parquet.\n"
     ]
    },
    {
     "name": "stderr",
     "output_type": "stream",
     "text": [
      "[*********************100%***********************]  1 of 1 completed\n"
     ]
    },
    {
     "name": "stdout",
     "output_type": "stream",
     "text": [
      "Uploaded ./output/8125.parquet to gs://stock-data-bucket_hopop/8125.parquet\n",
      "Loaded data into BigQuery table dbt-analytics-engineer-435907.stock_dataset.stock_data from gs://stock-data-bucket_hopop/8125.parquet.\n"
     ]
    },
    {
     "name": "stderr",
     "output_type": "stream",
     "text": [
      "[*********************100%***********************]  1 of 1 completed\n"
     ]
    },
    {
     "name": "stdout",
     "output_type": "stream",
     "text": [
      "Uploaded ./output/9479.parquet to gs://stock-data-bucket_hopop/9479.parquet\n",
      "Loaded data into BigQuery table dbt-analytics-engineer-435907.stock_dataset.stock_data from gs://stock-data-bucket_hopop/9479.parquet.\n"
     ]
    },
    {
     "name": "stderr",
     "output_type": "stream",
     "text": [
      "[*********************100%***********************]  1 of 1 completed\n"
     ]
    },
    {
     "name": "stdout",
     "output_type": "stream",
     "text": [
      "Uploaded ./output/6651.parquet to gs://stock-data-bucket_hopop/6651.parquet\n",
      "Loaded data into BigQuery table dbt-analytics-engineer-435907.stock_dataset.stock_data from gs://stock-data-bucket_hopop/6651.parquet.\n"
     ]
    },
    {
     "name": "stderr",
     "output_type": "stream",
     "text": [
      "[*********************100%***********************]  1 of 1 completed\n"
     ]
    },
    {
     "name": "stdout",
     "output_type": "stream",
     "text": [
      "Uploaded ./output/3920.parquet to gs://stock-data-bucket_hopop/3920.parquet\n",
      "Loaded data into BigQuery table dbt-analytics-engineer-435907.stock_dataset.stock_data from gs://stock-data-bucket_hopop/3920.parquet.\n"
     ]
    },
    {
     "name": "stderr",
     "output_type": "stream",
     "text": [
      "[*********************100%***********************]  1 of 1 completed\n",
      "\n",
      "1 Failed download:\n",
      "['2049.T']: YFTzMissingError('$%ticker%: possibly delisted; no timezone found')\n"
     ]
    },
    {
     "name": "stdout",
     "output_type": "stream",
     "text": [
      "No data found for 2049.T. Skipping...\n"
     ]
    },
    {
     "name": "stderr",
     "output_type": "stream",
     "text": [
      "[*********************100%***********************]  1 of 1 completed\n"
     ]
    },
    {
     "name": "stdout",
     "output_type": "stream",
     "text": [
      "Uploaded ./output/8377.parquet to gs://stock-data-bucket_hopop/8377.parquet\n",
      "Loaded data into BigQuery table dbt-analytics-engineer-435907.stock_dataset.stock_data from gs://stock-data-bucket_hopop/8377.parquet.\n"
     ]
    },
    {
     "name": "stderr",
     "output_type": "stream",
     "text": [
      "[*********************100%***********************]  1 of 1 completed\n"
     ]
    },
    {
     "name": "stdout",
     "output_type": "stream",
     "text": [
      "Uploaded ./output/7447.parquet to gs://stock-data-bucket_hopop/7447.parquet\n",
      "Loaded data into BigQuery table dbt-analytics-engineer-435907.stock_dataset.stock_data from gs://stock-data-bucket_hopop/7447.parquet.\n"
     ]
    },
    {
     "name": "stderr",
     "output_type": "stream",
     "text": [
      "[*********************100%***********************]  1 of 1 completed\n",
      "\n",
      "1 Failed download:\n",
      "['2046.T']: YFPricesMissingError('$%ticker%: possibly delisted; no price data found  (1d 2024-01-01 -> 2024-09-30)')\n"
     ]
    },
    {
     "name": "stdout",
     "output_type": "stream",
     "text": [
      "No data found for 2046.T. Skipping...\n"
     ]
    },
    {
     "name": "stderr",
     "output_type": "stream",
     "text": [
      "[*********************100%***********************]  1 of 1 completed\n",
      "\n",
      "1 Failed download:\n",
      "['8423.T']: YFPricesMissingError('$%ticker%: possibly delisted; no price data found  (1d 2024-01-01 -> 2024-09-30)')\n"
     ]
    },
    {
     "name": "stdout",
     "output_type": "stream",
     "text": [
      "No data found for 8423.T. Skipping...\n"
     ]
    },
    {
     "name": "stderr",
     "output_type": "stream",
     "text": [
      "[*********************100%***********************]  1 of 1 completed\n",
      "\n",
      "1 Failed download:\n",
      "['2042.T']: YFPricesMissingError('$%ticker%: possibly delisted; no price data found  (1d 2024-01-01 -> 2024-09-30)')\n"
     ]
    },
    {
     "name": "stdout",
     "output_type": "stream",
     "text": [
      "No data found for 2042.T. Skipping...\n"
     ]
    },
    {
     "name": "stderr",
     "output_type": "stream",
     "text": [
      "[*********************100%***********************]  1 of 1 completed\n"
     ]
    },
    {
     "name": "stdout",
     "output_type": "stream",
     "text": [
      "Uploaded ./output/8364.parquet to gs://stock-data-bucket_hopop/8364.parquet\n",
      "Loaded data into BigQuery table dbt-analytics-engineer-435907.stock_dataset.stock_data from gs://stock-data-bucket_hopop/8364.parquet.\n"
     ]
    },
    {
     "name": "stderr",
     "output_type": "stream",
     "text": [
      "[*********************100%***********************]  1 of 1 completed\n",
      "\n",
      "1 Failed download:\n",
      "['2041.T']: YFPricesMissingError('$%ticker%: possibly delisted; no price data found  (1d 2024-01-01 -> 2024-09-30)')\n"
     ]
    },
    {
     "name": "stdout",
     "output_type": "stream",
     "text": [
      "No data found for 2041.T. Skipping...\n"
     ]
    },
    {
     "name": "stderr",
     "output_type": "stream",
     "text": [
      "[*********************100%***********************]  1 of 1 completed\n",
      "\n",
      "1 Failed download:\n",
      "['2040.T']: YFPricesMissingError('$%ticker%: possibly delisted; no price data found  (1d 2024-01-01 -> 2024-09-30)')\n"
     ]
    },
    {
     "name": "stdout",
     "output_type": "stream",
     "text": [
      "No data found for 2040.T. Skipping...\n"
     ]
    },
    {
     "name": "stderr",
     "output_type": "stream",
     "text": [
      "[*********************100%***********************]  1 of 1 completed\n"
     ]
    },
    {
     "name": "stdout",
     "output_type": "stream",
     "text": [
      "Uploaded ./output/2039.parquet to gs://stock-data-bucket_hopop/2039.parquet\n",
      "Loaded data into BigQuery table dbt-analytics-engineer-435907.stock_dataset.stock_data from gs://stock-data-bucket_hopop/2039.parquet.\n"
     ]
    },
    {
     "name": "stderr",
     "output_type": "stream",
     "text": [
      "[*********************100%***********************]  1 of 1 completed\n",
      "\n",
      "1 Failed download:\n",
      "['2036.T']: YFPricesMissingError('$%ticker%: possibly delisted; no price data found  (1d 2024-01-01 -> 2024-09-30)')\n"
     ]
    },
    {
     "name": "stdout",
     "output_type": "stream",
     "text": [
      "No data found for 2036.T. Skipping...\n"
     ]
    },
    {
     "name": "stderr",
     "output_type": "stream",
     "text": [
      "[*********************100%***********************]  1 of 1 completed\n"
     ]
    },
    {
     "name": "stdout",
     "output_type": "stream",
     "text": [
      "Uploaded ./output/3174.parquet to gs://stock-data-bucket_hopop/3174.parquet\n",
      "Loaded data into BigQuery table dbt-analytics-engineer-435907.stock_dataset.stock_data from gs://stock-data-bucket_hopop/3174.parquet.\n"
     ]
    },
    {
     "name": "stderr",
     "output_type": "stream",
     "text": [
      "[*********************100%***********************]  1 of 1 completed\n",
      "\n",
      "1 Failed download:\n",
      "['2034.T']: YFPricesMissingError('$%ticker%: possibly delisted; no price data found  (1d 2024-01-01 -> 2024-09-30)')\n"
     ]
    },
    {
     "name": "stdout",
     "output_type": "stream",
     "text": [
      "No data found for 2034.T. Skipping...\n"
     ]
    },
    {
     "name": "stderr",
     "output_type": "stream",
     "text": [
      "[*********************100%***********************]  1 of 1 completed\n",
      "\n",
      "1 Failed download:\n",
      "['6032.T']: YFTzMissingError('$%ticker%: possibly delisted; no timezone found')\n"
     ]
    },
    {
     "name": "stdout",
     "output_type": "stream",
     "text": [
      "No data found for 6032.T. Skipping...\n"
     ]
    },
    {
     "name": "stderr",
     "output_type": "stream",
     "text": [
      "[*********************100%***********************]  1 of 1 completed\n",
      "\n",
      "1 Failed download:\n",
      "['3852.T']: YFTzMissingError('$%ticker%: possibly delisted; no timezone found')\n"
     ]
    },
    {
     "name": "stdout",
     "output_type": "stream",
     "text": [
      "No data found for 3852.T. Skipping...\n"
     ]
    },
    {
     "name": "stderr",
     "output_type": "stream",
     "text": [
      "[*********************100%***********************]  1 of 1 completed\n",
      "\n",
      "1 Failed download:\n",
      "['2032.T']: YFPricesMissingError('$%ticker%: possibly delisted; no price data found  (1d 2024-01-01 -> 2024-09-30)')\n"
     ]
    },
    {
     "name": "stdout",
     "output_type": "stream",
     "text": [
      "No data found for 2032.T. Skipping...\n"
     ]
    },
    {
     "name": "stderr",
     "output_type": "stream",
     "text": [
      "[*********************100%***********************]  1 of 1 completed\n"
     ]
    },
    {
     "name": "stdout",
     "output_type": "stream",
     "text": [
      "Uploaded ./output/1897.parquet to gs://stock-data-bucket_hopop/1897.parquet\n",
      "Loaded data into BigQuery table dbt-analytics-engineer-435907.stock_dataset.stock_data from gs://stock-data-bucket_hopop/1897.parquet.\n"
     ]
    },
    {
     "name": "stderr",
     "output_type": "stream",
     "text": [
      "[*********************100%***********************]  1 of 1 completed\n",
      "\n",
      "1 Failed download:\n",
      "['6709.T']: YFTzMissingError('$%ticker%: possibly delisted; no timezone found')\n"
     ]
    },
    {
     "name": "stdout",
     "output_type": "stream",
     "text": [
      "No data found for 6709.T. Skipping...\n"
     ]
    },
    {
     "name": "stderr",
     "output_type": "stream",
     "text": [
      "[*********************100%***********************]  1 of 1 completed\n"
     ]
    },
    {
     "name": "stdout",
     "output_type": "stream",
     "text": [
      "Uploaded ./output/4183.parquet to gs://stock-data-bucket_hopop/4183.parquet\n",
      "Loaded data into BigQuery table dbt-analytics-engineer-435907.stock_dataset.stock_data from gs://stock-data-bucket_hopop/4183.parquet.\n"
     ]
    },
    {
     "name": "stderr",
     "output_type": "stream",
     "text": [
      "[*********************100%***********************]  1 of 1 completed\n"
     ]
    },
    {
     "name": "stdout",
     "output_type": "stream",
     "text": [
      "Uploaded ./output/9878.parquet to gs://stock-data-bucket_hopop/9878.parquet\n",
      "Loaded data into BigQuery table dbt-analytics-engineer-435907.stock_dataset.stock_data from gs://stock-data-bucket_hopop/9878.parquet.\n"
     ]
    },
    {
     "name": "stderr",
     "output_type": "stream",
     "text": [
      "[*********************100%***********************]  1 of 1 completed\n"
     ]
    },
    {
     "name": "stdout",
     "output_type": "stream",
     "text": [
      "Uploaded ./output/4295.parquet to gs://stock-data-bucket_hopop/4295.parquet\n",
      "Loaded data into BigQuery table dbt-analytics-engineer-435907.stock_dataset.stock_data from gs://stock-data-bucket_hopop/4295.parquet.\n"
     ]
    },
    {
     "name": "stderr",
     "output_type": "stream",
     "text": [
      "[*********************100%***********************]  1 of 1 completed\n",
      "\n",
      "1 Failed download:\n",
      "['2905.T']: YFTzMissingError('$%ticker%: possibly delisted; no timezone found')\n"
     ]
    },
    {
     "name": "stdout",
     "output_type": "stream",
     "text": [
      "No data found for 2905.T. Skipping...\n"
     ]
    },
    {
     "name": "stderr",
     "output_type": "stream",
     "text": [
      "[*********************100%***********************]  1 of 1 completed\n"
     ]
    },
    {
     "name": "stdout",
     "output_type": "stream",
     "text": [
      "Uploaded ./output/2117.parquet to gs://stock-data-bucket_hopop/2117.parquet\n",
      "Loaded data into BigQuery table dbt-analytics-engineer-435907.stock_dataset.stock_data from gs://stock-data-bucket_hopop/2117.parquet.\n"
     ]
    },
    {
     "name": "stderr",
     "output_type": "stream",
     "text": [
      "[*********************100%***********************]  1 of 1 completed\n"
     ]
    },
    {
     "name": "stdout",
     "output_type": "stream",
     "text": [
      "Uploaded ./output/9351.parquet to gs://stock-data-bucket_hopop/9351.parquet\n",
      "Loaded data into BigQuery table dbt-analytics-engineer-435907.stock_dataset.stock_data from gs://stock-data-bucket_hopop/9351.parquet.\n"
     ]
    },
    {
     "name": "stderr",
     "output_type": "stream",
     "text": [
      "[*********************100%***********************]  1 of 1 completed\n"
     ]
    },
    {
     "name": "stdout",
     "output_type": "stream",
     "text": [
      "Uploaded ./output/3683.parquet to gs://stock-data-bucket_hopop/3683.parquet\n",
      "Loaded data into BigQuery table dbt-analytics-engineer-435907.stock_dataset.stock_data from gs://stock-data-bucket_hopop/3683.parquet.\n"
     ]
    },
    {
     "name": "stderr",
     "output_type": "stream",
     "text": [
      "[*********************100%***********************]  1 of 1 completed\n"
     ]
    },
    {
     "name": "stdout",
     "output_type": "stream",
     "text": [
      "Uploaded ./output/6644.parquet to gs://stock-data-bucket_hopop/6644.parquet\n",
      "Loaded data into BigQuery table dbt-analytics-engineer-435907.stock_dataset.stock_data from gs://stock-data-bucket_hopop/6644.parquet.\n"
     ]
    },
    {
     "name": "stderr",
     "output_type": "stream",
     "text": [
      "[*********************100%***********************]  1 of 1 completed\n",
      "\n",
      "1 Failed download:\n",
      "['2037.T']: YFPricesMissingError('$%ticker%: possibly delisted; no price data found  (1d 2024-01-01 -> 2024-09-30)')\n"
     ]
    },
    {
     "name": "stdout",
     "output_type": "stream",
     "text": [
      "No data found for 2037.T. Skipping...\n"
     ]
    },
    {
     "name": "stderr",
     "output_type": "stream",
     "text": [
      "[*********************100%***********************]  1 of 1 completed\n"
     ]
    },
    {
     "name": "stdout",
     "output_type": "stream",
     "text": [
      "Uploaded ./output/4584.parquet to gs://stock-data-bucket_hopop/4584.parquet\n",
      "Loaded data into BigQuery table dbt-analytics-engineer-435907.stock_dataset.stock_data from gs://stock-data-bucket_hopop/4584.parquet.\n"
     ]
    },
    {
     "name": "stderr",
     "output_type": "stream",
     "text": [
      "[*********************100%***********************]  1 of 1 completed\n"
     ]
    },
    {
     "name": "stdout",
     "output_type": "stream",
     "text": [
      "Uploaded ./output/6470.parquet to gs://stock-data-bucket_hopop/6470.parquet\n",
      "Loaded data into BigQuery table dbt-analytics-engineer-435907.stock_dataset.stock_data from gs://stock-data-bucket_hopop/6470.parquet.\n"
     ]
    },
    {
     "name": "stderr",
     "output_type": "stream",
     "text": [
      "[*********************100%***********************]  1 of 1 completed\n",
      "\n",
      "1 Failed download:\n",
      "['3336.T']: YFTzMissingError('$%ticker%: possibly delisted; no timezone found')\n"
     ]
    },
    {
     "name": "stdout",
     "output_type": "stream",
     "text": [
      "No data found for 3336.T. Skipping...\n"
     ]
    },
    {
     "name": "stderr",
     "output_type": "stream",
     "text": [
      "[*********************100%***********************]  1 of 1 completed\n",
      "\n",
      "1 Failed download:\n",
      "['6121.T']: YFTzMissingError('$%ticker%: possibly delisted; no timezone found')\n"
     ]
    },
    {
     "name": "stdout",
     "output_type": "stream",
     "text": [
      "No data found for 6121.T. Skipping...\n"
     ]
    },
    {
     "name": "stderr",
     "output_type": "stream",
     "text": [
      "[*********************100%***********************]  1 of 1 completed\n"
     ]
    },
    {
     "name": "stdout",
     "output_type": "stream",
     "text": [
      "Uploaded ./output/5966.parquet to gs://stock-data-bucket_hopop/5966.parquet\n",
      "Loaded data into BigQuery table dbt-analytics-engineer-435907.stock_dataset.stock_data from gs://stock-data-bucket_hopop/5966.parquet.\n"
     ]
    },
    {
     "name": "stderr",
     "output_type": "stream",
     "text": [
      "[*********************100%***********************]  1 of 1 completed\n"
     ]
    },
    {
     "name": "stdout",
     "output_type": "stream",
     "text": [
      "Uploaded ./output/1813.parquet to gs://stock-data-bucket_hopop/1813.parquet\n",
      "Loaded data into BigQuery table dbt-analytics-engineer-435907.stock_dataset.stock_data from gs://stock-data-bucket_hopop/1813.parquet.\n"
     ]
    },
    {
     "name": "stderr",
     "output_type": "stream",
     "text": [
      "[*********************100%***********************]  1 of 1 completed\n"
     ]
    },
    {
     "name": "stdout",
     "output_type": "stream",
     "text": [
      "Uploaded ./output/5992.parquet to gs://stock-data-bucket_hopop/5992.parquet\n",
      "Loaded data into BigQuery table dbt-analytics-engineer-435907.stock_dataset.stock_data from gs://stock-data-bucket_hopop/5992.parquet.\n"
     ]
    },
    {
     "name": "stderr",
     "output_type": "stream",
     "text": [
      "[*********************100%***********************]  1 of 1 completed\n"
     ]
    },
    {
     "name": "stdout",
     "output_type": "stream",
     "text": [
      "Uploaded ./output/5820.parquet to gs://stock-data-bucket_hopop/5820.parquet\n",
      "Loaded data into BigQuery table dbt-analytics-engineer-435907.stock_dataset.stock_data from gs://stock-data-bucket_hopop/5820.parquet.\n"
     ]
    },
    {
     "name": "stderr",
     "output_type": "stream",
     "text": [
      "[*********************100%***********************]  1 of 1 completed\n"
     ]
    },
    {
     "name": "stdout",
     "output_type": "stream",
     "text": [
      "Uploaded ./output/9008.parquet to gs://stock-data-bucket_hopop/9008.parquet\n",
      "Loaded data into BigQuery table dbt-analytics-engineer-435907.stock_dataset.stock_data from gs://stock-data-bucket_hopop/9008.parquet.\n"
     ]
    },
    {
     "name": "stderr",
     "output_type": "stream",
     "text": [
      "[*********************100%***********************]  1 of 1 completed\n"
     ]
    },
    {
     "name": "stdout",
     "output_type": "stream",
     "text": [
      "Uploaded ./output/6995.parquet to gs://stock-data-bucket_hopop/6995.parquet\n",
      "Loaded data into BigQuery table dbt-analytics-engineer-435907.stock_dataset.stock_data from gs://stock-data-bucket_hopop/6995.parquet.\n"
     ]
    },
    {
     "name": "stderr",
     "output_type": "stream",
     "text": [
      "[*********************100%***********************]  1 of 1 completed\n"
     ]
    },
    {
     "name": "stdout",
     "output_type": "stream",
     "text": [
      "Uploaded ./output/6022.parquet to gs://stock-data-bucket_hopop/6022.parquet\n",
      "Loaded data into BigQuery table dbt-analytics-engineer-435907.stock_dataset.stock_data from gs://stock-data-bucket_hopop/6022.parquet.\n"
     ]
    },
    {
     "name": "stderr",
     "output_type": "stream",
     "text": [
      "[*********************100%***********************]  1 of 1 completed\n"
     ]
    },
    {
     "name": "stdout",
     "output_type": "stream",
     "text": [
      "Uploaded ./output/9619.parquet to gs://stock-data-bucket_hopop/9619.parquet\n",
      "Loaded data into BigQuery table dbt-analytics-engineer-435907.stock_dataset.stock_data from gs://stock-data-bucket_hopop/9619.parquet.\n"
     ]
    },
    {
     "name": "stderr",
     "output_type": "stream",
     "text": [
      "[*********************100%***********************]  1 of 1 completed\n"
     ]
    },
    {
     "name": "stdout",
     "output_type": "stream",
     "text": [
      "Uploaded ./output/2134.parquet to gs://stock-data-bucket_hopop/2134.parquet\n",
      "Loaded data into BigQuery table dbt-analytics-engineer-435907.stock_dataset.stock_data from gs://stock-data-bucket_hopop/2134.parquet.\n"
     ]
    },
    {
     "name": "stderr",
     "output_type": "stream",
     "text": [
      "[*********************100%***********************]  1 of 1 completed\n",
      "\n",
      "1 Failed download:\n",
      "['8530.T']: YFTzMissingError('$%ticker%: possibly delisted; no timezone found')\n"
     ]
    },
    {
     "name": "stdout",
     "output_type": "stream",
     "text": [
      "No data found for 8530.T. Skipping...\n"
     ]
    },
    {
     "name": "stderr",
     "output_type": "stream",
     "text": [
      "[*********************100%***********************]  1 of 1 completed\n"
     ]
    },
    {
     "name": "stdout",
     "output_type": "stream",
     "text": [
      "Uploaded ./output/1397.parquet to gs://stock-data-bucket_hopop/1397.parquet\n",
      "Loaded data into BigQuery table dbt-analytics-engineer-435907.stock_dataset.stock_data from gs://stock-data-bucket_hopop/1397.parquet.\n"
     ]
    },
    {
     "name": "stderr",
     "output_type": "stream",
     "text": [
      "[*********************100%***********************]  1 of 1 completed\n",
      "\n",
      "1 Failed download:\n",
      "['8256.T']: YFTzMissingError('$%ticker%: possibly delisted; no timezone found')\n"
     ]
    },
    {
     "name": "stdout",
     "output_type": "stream",
     "text": [
      "No data found for 8256.T. Skipping...\n"
     ]
    },
    {
     "name": "stderr",
     "output_type": "stream",
     "text": [
      "[*********************100%***********************]  1 of 1 completed\n"
     ]
    },
    {
     "name": "stdout",
     "output_type": "stream",
     "text": [
      "Uploaded ./output/8255.parquet to gs://stock-data-bucket_hopop/8255.parquet\n",
      "Loaded data into BigQuery table dbt-analytics-engineer-435907.stock_dataset.stock_data from gs://stock-data-bucket_hopop/8255.parquet.\n"
     ]
    },
    {
     "name": "stderr",
     "output_type": "stream",
     "text": [
      "[*********************100%***********************]  1 of 1 completed\n"
     ]
    },
    {
     "name": "stdout",
     "output_type": "stream",
     "text": [
      "Uploaded ./output/4726.parquet to gs://stock-data-bucket_hopop/4726.parquet\n",
      "Loaded data into BigQuery table dbt-analytics-engineer-435907.stock_dataset.stock_data from gs://stock-data-bucket_hopop/4726.parquet.\n"
     ]
    },
    {
     "name": "stderr",
     "output_type": "stream",
     "text": [
      "[*********************100%***********************]  1 of 1 completed\n"
     ]
    },
    {
     "name": "stdout",
     "output_type": "stream",
     "text": [
      "Uploaded ./output/8101.parquet to gs://stock-data-bucket_hopop/8101.parquet\n",
      "Loaded data into BigQuery table dbt-analytics-engineer-435907.stock_dataset.stock_data from gs://stock-data-bucket_hopop/8101.parquet.\n"
     ]
    },
    {
     "name": "stderr",
     "output_type": "stream",
     "text": [
      "[*********************100%***********************]  1 of 1 completed\n"
     ]
    },
    {
     "name": "stdout",
     "output_type": "stream",
     "text": [
      "Uploaded ./output/7985.parquet to gs://stock-data-bucket_hopop/7985.parquet\n",
      "Loaded data into BigQuery table dbt-analytics-engineer-435907.stock_dataset.stock_data from gs://stock-data-bucket_hopop/7985.parquet.\n"
     ]
    },
    {
     "name": "stderr",
     "output_type": "stream",
     "text": [
      "[*********************100%***********************]  1 of 1 completed\n",
      "\n",
      "1 Failed download:\n",
      "['1643.T']: YFPricesMissingError('$%ticker%: possibly delisted; no price data found  (1d 2024-01-01 -> 2024-09-30)')\n"
     ]
    },
    {
     "name": "stdout",
     "output_type": "stream",
     "text": [
      "No data found for 1643.T. Skipping...\n"
     ]
    },
    {
     "name": "stderr",
     "output_type": "stream",
     "text": [
      "[*********************100%***********************]  1 of 1 completed\n"
     ]
    },
    {
     "name": "stdout",
     "output_type": "stream",
     "text": [
      "Uploaded ./output/7419.parquet to gs://stock-data-bucket_hopop/7419.parquet\n",
      "Loaded data into BigQuery table dbt-analytics-engineer-435907.stock_dataset.stock_data from gs://stock-data-bucket_hopop/7419.parquet.\n"
     ]
    },
    {
     "name": "stderr",
     "output_type": "stream",
     "text": [
      "[*********************100%***********************]  1 of 1 completed\n"
     ]
    },
    {
     "name": "stdout",
     "output_type": "stream",
     "text": [
      "Uploaded ./output/6218.parquet to gs://stock-data-bucket_hopop/6218.parquet\n",
      "Loaded data into BigQuery table dbt-analytics-engineer-435907.stock_dataset.stock_data from gs://stock-data-bucket_hopop/6218.parquet.\n"
     ]
    },
    {
     "name": "stderr",
     "output_type": "stream",
     "text": [
      "[*********************100%***********************]  1 of 1 completed\n",
      "\n",
      "1 Failed download:\n",
      "['7274.T']: YFTzMissingError('$%ticker%: possibly delisted; no timezone found')\n"
     ]
    },
    {
     "name": "stdout",
     "output_type": "stream",
     "text": [
      "No data found for 7274.T. Skipping...\n"
     ]
    },
    {
     "name": "stderr",
     "output_type": "stream",
     "text": [
      "[*********************100%***********************]  1 of 1 completed\n"
     ]
    },
    {
     "name": "stdout",
     "output_type": "stream",
     "text": [
      "Uploaded ./output/7238.parquet to gs://stock-data-bucket_hopop/7238.parquet\n",
      "Loaded data into BigQuery table dbt-analytics-engineer-435907.stock_dataset.stock_data from gs://stock-data-bucket_hopop/7238.parquet.\n"
     ]
    },
    {
     "name": "stderr",
     "output_type": "stream",
     "text": [
      "[*********************100%***********************]  1 of 1 completed\n"
     ]
    },
    {
     "name": "stdout",
     "output_type": "stream",
     "text": [
      "Uploaded ./output/9706.parquet to gs://stock-data-bucket_hopop/9706.parquet\n",
      "Loaded data into BigQuery table dbt-analytics-engineer-435907.stock_dataset.stock_data from gs://stock-data-bucket_hopop/9706.parquet.\n"
     ]
    },
    {
     "name": "stderr",
     "output_type": "stream",
     "text": [
      "[*********************100%***********************]  1 of 1 completed\n",
      "\n",
      "1 Failed download:\n",
      "['6796.T']: YFTzMissingError('$%ticker%: possibly delisted; no timezone found')\n"
     ]
    },
    {
     "name": "stdout",
     "output_type": "stream",
     "text": [
      "No data found for 6796.T. Skipping...\n"
     ]
    },
    {
     "name": "stderr",
     "output_type": "stream",
     "text": [
      "[*********************100%***********************]  1 of 1 completed\n"
     ]
    },
    {
     "name": "stdout",
     "output_type": "stream",
     "text": [
      "Uploaded ./output/9832.parquet to gs://stock-data-bucket_hopop/9832.parquet\n",
      "Loaded data into BigQuery table dbt-analytics-engineer-435907.stock_dataset.stock_data from gs://stock-data-bucket_hopop/9832.parquet.\n"
     ]
    },
    {
     "name": "stderr",
     "output_type": "stream",
     "text": [
      "[*********************100%***********************]  1 of 1 completed\n",
      "\n",
      "1 Failed download:\n",
      "['6409.T']: YFTzMissingError('$%ticker%: possibly delisted; no timezone found')\n"
     ]
    },
    {
     "name": "stdout",
     "output_type": "stream",
     "text": [
      "No data found for 6409.T. Skipping...\n"
     ]
    },
    {
     "name": "stderr",
     "output_type": "stream",
     "text": [
      "[*********************100%***********************]  1 of 1 completed\n"
     ]
    },
    {
     "name": "stdout",
     "output_type": "stream",
     "text": [
      "Uploaded ./output/4120.parquet to gs://stock-data-bucket_hopop/4120.parquet\n",
      "Loaded data into BigQuery table dbt-analytics-engineer-435907.stock_dataset.stock_data from gs://stock-data-bucket_hopop/4120.parquet.\n"
     ]
    },
    {
     "name": "stderr",
     "output_type": "stream",
     "text": [
      "[*********************100%***********************]  1 of 1 completed\n"
     ]
    },
    {
     "name": "stdout",
     "output_type": "stream",
     "text": [
      "Uploaded ./output/4966.parquet to gs://stock-data-bucket_hopop/4966.parquet\n",
      "Loaded data into BigQuery table dbt-analytics-engineer-435907.stock_dataset.stock_data from gs://stock-data-bucket_hopop/4966.parquet.\n"
     ]
    },
    {
     "name": "stderr",
     "output_type": "stream",
     "text": [
      "[*********************100%***********************]  1 of 1 completed\n",
      "\n",
      "1 Failed download:\n",
      "['6205.T']: YFTzMissingError('$%ticker%: possibly delisted; no timezone found')\n"
     ]
    },
    {
     "name": "stdout",
     "output_type": "stream",
     "text": [
      "No data found for 6205.T. Skipping...\n"
     ]
    },
    {
     "name": "stderr",
     "output_type": "stream",
     "text": [
      "[*********************100%***********************]  1 of 1 completed\n"
     ]
    },
    {
     "name": "stdout",
     "output_type": "stream",
     "text": [
      "Uploaded ./output/3626.parquet to gs://stock-data-bucket_hopop/3626.parquet\n",
      "Loaded data into BigQuery table dbt-analytics-engineer-435907.stock_dataset.stock_data from gs://stock-data-bucket_hopop/3626.parquet.\n"
     ]
    },
    {
     "name": "stderr",
     "output_type": "stream",
     "text": [
      "[*********************100%***********************]  1 of 1 completed\n"
     ]
    },
    {
     "name": "stdout",
     "output_type": "stream",
     "text": [
      "Uploaded ./output/8966.parquet to gs://stock-data-bucket_hopop/8966.parquet\n",
      "Loaded data into BigQuery table dbt-analytics-engineer-435907.stock_dataset.stock_data from gs://stock-data-bucket_hopop/8966.parquet.\n"
     ]
    },
    {
     "name": "stderr",
     "output_type": "stream",
     "text": [
      "[*********************100%***********************]  1 of 1 completed\n"
     ]
    },
    {
     "name": "stdout",
     "output_type": "stream",
     "text": [
      "Uploaded ./output/6038.parquet to gs://stock-data-bucket_hopop/6038.parquet\n",
      "Loaded data into BigQuery table dbt-analytics-engineer-435907.stock_dataset.stock_data from gs://stock-data-bucket_hopop/6038.parquet.\n"
     ]
    },
    {
     "name": "stderr",
     "output_type": "stream",
     "text": [
      "[*********************100%***********************]  1 of 1 completed\n"
     ]
    },
    {
     "name": "stdout",
     "output_type": "stream",
     "text": [
      "Uploaded ./output/5933.parquet to gs://stock-data-bucket_hopop/5933.parquet\n",
      "Loaded data into BigQuery table dbt-analytics-engineer-435907.stock_dataset.stock_data from gs://stock-data-bucket_hopop/5933.parquet.\n"
     ]
    },
    {
     "name": "stderr",
     "output_type": "stream",
     "text": [
      "[*********************100%***********************]  1 of 1 completed\n"
     ]
    },
    {
     "name": "stdout",
     "output_type": "stream",
     "text": [
      "Uploaded ./output/5563.parquet to gs://stock-data-bucket_hopop/5563.parquet\n",
      "Loaded data into BigQuery table dbt-analytics-engineer-435907.stock_dataset.stock_data from gs://stock-data-bucket_hopop/5563.parquet.\n"
     ]
    },
    {
     "name": "stderr",
     "output_type": "stream",
     "text": [
      "[*********************100%***********************]  1 of 1 completed\n"
     ]
    },
    {
     "name": "stdout",
     "output_type": "stream",
     "text": [
      "Uploaded ./output/5406.parquet to gs://stock-data-bucket_hopop/5406.parquet\n",
      "Loaded data into BigQuery table dbt-analytics-engineer-435907.stock_dataset.stock_data from gs://stock-data-bucket_hopop/5406.parquet.\n"
     ]
    },
    {
     "name": "stderr",
     "output_type": "stream",
     "text": [
      "[*********************100%***********************]  1 of 1 completed\n"
     ]
    },
    {
     "name": "stdout",
     "output_type": "stream",
     "text": [
      "Uploaded ./output/1888.parquet to gs://stock-data-bucket_hopop/1888.parquet\n",
      "Loaded data into BigQuery table dbt-analytics-engineer-435907.stock_dataset.stock_data from gs://stock-data-bucket_hopop/1888.parquet.\n"
     ]
    },
    {
     "name": "stderr",
     "output_type": "stream",
     "text": [
      "[*********************100%***********************]  1 of 1 completed\n"
     ]
    },
    {
     "name": "stdout",
     "output_type": "stream",
     "text": [
      "Uploaded ./output/5019.parquet to gs://stock-data-bucket_hopop/5019.parquet\n",
      "Loaded data into BigQuery table dbt-analytics-engineer-435907.stock_dataset.stock_data from gs://stock-data-bucket_hopop/5019.parquet.\n"
     ]
    },
    {
     "name": "stderr",
     "output_type": "stream",
     "text": [
      "[*********************100%***********************]  1 of 1 completed\n",
      "\n",
      "1 Failed download:\n",
      "['6259.T']: YFPricesMissingError('$%ticker%: possibly delisted; no price data found  (1d 2024-01-01 -> 2024-09-30)')\n"
     ]
    },
    {
     "name": "stdout",
     "output_type": "stream",
     "text": [
      "No data found for 6259.T. Skipping...\n"
     ]
    },
    {
     "name": "stderr",
     "output_type": "stream",
     "text": [
      "[*********************100%***********************]  1 of 1 completed\n"
     ]
    },
    {
     "name": "stdout",
     "output_type": "stream",
     "text": [
      "Uploaded ./output/4968.parquet to gs://stock-data-bucket_hopop/4968.parquet\n",
      "Loaded data into BigQuery table dbt-analytics-engineer-435907.stock_dataset.stock_data from gs://stock-data-bucket_hopop/4968.parquet.\n"
     ]
    },
    {
     "name": "stderr",
     "output_type": "stream",
     "text": [
      "[*********************100%***********************]  1 of 1 completed\n"
     ]
    },
    {
     "name": "stdout",
     "output_type": "stream",
     "text": [
      "Uploaded ./output/1543.parquet to gs://stock-data-bucket_hopop/1543.parquet\n",
      "Loaded data into BigQuery table dbt-analytics-engineer-435907.stock_dataset.stock_data from gs://stock-data-bucket_hopop/1543.parquet.\n"
     ]
    },
    {
     "name": "stderr",
     "output_type": "stream",
     "text": [
      "[*********************100%***********************]  1 of 1 completed\n"
     ]
    },
    {
     "name": "stdout",
     "output_type": "stream",
     "text": [
      "Uploaded ./output/5856.parquet to gs://stock-data-bucket_hopop/5856.parquet\n",
      "Loaded data into BigQuery table dbt-analytics-engineer-435907.stock_dataset.stock_data from gs://stock-data-bucket_hopop/5856.parquet.\n"
     ]
    },
    {
     "name": "stderr",
     "output_type": "stream",
     "text": [
      "[*********************100%***********************]  1 of 1 completed\n"
     ]
    },
    {
     "name": "stdout",
     "output_type": "stream",
     "text": [
      "Uploaded ./output/4521.parquet to gs://stock-data-bucket_hopop/4521.parquet\n",
      "Loaded data into BigQuery table dbt-analytics-engineer-435907.stock_dataset.stock_data from gs://stock-data-bucket_hopop/4521.parquet.\n"
     ]
    },
    {
     "name": "stderr",
     "output_type": "stream",
     "text": [
      "[*********************100%***********************]  1 of 1 completed\n"
     ]
    },
    {
     "name": "stdout",
     "output_type": "stream",
     "text": [
      "Uploaded ./output/6772.parquet to gs://stock-data-bucket_hopop/6772.parquet\n",
      "Loaded data into BigQuery table dbt-analytics-engineer-435907.stock_dataset.stock_data from gs://stock-data-bucket_hopop/6772.parquet.\n"
     ]
    },
    {
     "name": "stderr",
     "output_type": "stream",
     "text": [
      "[*********************100%***********************]  1 of 1 completed\n"
     ]
    },
    {
     "name": "stdout",
     "output_type": "stream",
     "text": [
      "Uploaded ./output/6703.parquet to gs://stock-data-bucket_hopop/6703.parquet\n",
      "Loaded data into BigQuery table dbt-analytics-engineer-435907.stock_dataset.stock_data from gs://stock-data-bucket_hopop/6703.parquet.\n"
     ]
    },
    {
     "name": "stderr",
     "output_type": "stream",
     "text": [
      "[*********************100%***********************]  1 of 1 completed\n"
     ]
    },
    {
     "name": "stdout",
     "output_type": "stream",
     "text": [
      "Uploaded ./output/7283.parquet to gs://stock-data-bucket_hopop/7283.parquet\n",
      "Loaded data into BigQuery table dbt-analytics-engineer-435907.stock_dataset.stock_data from gs://stock-data-bucket_hopop/7283.parquet.\n"
     ]
    },
    {
     "name": "stderr",
     "output_type": "stream",
     "text": [
      "[*********************100%***********************]  1 of 1 completed\n",
      "\n",
      "1 Failed download:\n",
      "['6591.T']: YFTzMissingError('$%ticker%: possibly delisted; no timezone found')\n"
     ]
    },
    {
     "name": "stdout",
     "output_type": "stream",
     "text": [
      "No data found for 6591.T. Skipping...\n"
     ]
    },
    {
     "name": "stderr",
     "output_type": "stream",
     "text": [
      "[*********************100%***********************]  1 of 1 completed\n"
     ]
    },
    {
     "name": "stdout",
     "output_type": "stream",
     "text": [
      "Uploaded ./output/8395.parquet to gs://stock-data-bucket_hopop/8395.parquet\n",
      "Loaded data into BigQuery table dbt-analytics-engineer-435907.stock_dataset.stock_data from gs://stock-data-bucket_hopop/8395.parquet.\n"
     ]
    },
    {
     "name": "stderr",
     "output_type": "stream",
     "text": [
      "[*********************100%***********************]  1 of 1 completed\n",
      "\n",
      "1 Failed download:\n",
      "['8382.T']: YFTzMissingError('$%ticker%: possibly delisted; no timezone found')\n"
     ]
    },
    {
     "name": "stdout",
     "output_type": "stream",
     "text": [
      "No data found for 8382.T. Skipping...\n"
     ]
    },
    {
     "name": "stderr",
     "output_type": "stream",
     "text": [
      "[*********************100%***********************]  1 of 1 completed\n"
     ]
    },
    {
     "name": "stdout",
     "output_type": "stream",
     "text": [
      "Uploaded ./output/8334.parquet to gs://stock-data-bucket_hopop/8334.parquet\n",
      "Loaded data into BigQuery table dbt-analytics-engineer-435907.stock_dataset.stock_data from gs://stock-data-bucket_hopop/8334.parquet.\n"
     ]
    },
    {
     "name": "stderr",
     "output_type": "stream",
     "text": [
      "[*********************100%***********************]  1 of 1 completed\n"
     ]
    },
    {
     "name": "stdout",
     "output_type": "stream",
     "text": [
      "Uploaded ./output/7213.parquet to gs://stock-data-bucket_hopop/7213.parquet\n",
      "Loaded data into BigQuery table dbt-analytics-engineer-435907.stock_dataset.stock_data from gs://stock-data-bucket_hopop/7213.parquet.\n"
     ]
    },
    {
     "name": "stderr",
     "output_type": "stream",
     "text": [
      "[*********************100%***********************]  1 of 1 completed\n"
     ]
    },
    {
     "name": "stdout",
     "output_type": "stream",
     "text": [
      "Uploaded ./output/9853.parquet to gs://stock-data-bucket_hopop/9853.parquet\n",
      "Loaded data into BigQuery table dbt-analytics-engineer-435907.stock_dataset.stock_data from gs://stock-data-bucket_hopop/9853.parquet.\n"
     ]
    },
    {
     "name": "stderr",
     "output_type": "stream",
     "text": [
      "[*********************100%***********************]  1 of 1 completed\n"
     ]
    },
    {
     "name": "stdout",
     "output_type": "stream",
     "text": [
      "Uploaded ./output/9929.parquet to gs://stock-data-bucket_hopop/9929.parquet\n",
      "Loaded data into BigQuery table dbt-analytics-engineer-435907.stock_dataset.stock_data from gs://stock-data-bucket_hopop/9929.parquet.\n"
     ]
    },
    {
     "name": "stderr",
     "output_type": "stream",
     "text": [
      "[*********************100%***********************]  1 of 1 completed\n"
     ]
    },
    {
     "name": "stdout",
     "output_type": "stream",
     "text": [
      "Uploaded ./output/9962.parquet to gs://stock-data-bucket_hopop/9962.parquet\n",
      "Loaded data into BigQuery table dbt-analytics-engineer-435907.stock_dataset.stock_data from gs://stock-data-bucket_hopop/9962.parquet.\n"
     ]
    },
    {
     "name": "stderr",
     "output_type": "stream",
     "text": [
      "[*********************100%***********************]  1 of 1 completed\n"
     ]
    },
    {
     "name": "stdout",
     "output_type": "stream",
     "text": [
      "Uploaded ./output/8522.parquet to gs://stock-data-bucket_hopop/8522.parquet\n",
      "Loaded data into BigQuery table dbt-analytics-engineer-435907.stock_dataset.stock_data from gs://stock-data-bucket_hopop/8522.parquet.\n"
     ]
    },
    {
     "name": "stderr",
     "output_type": "stream",
     "text": [
      "[*********************100%***********************]  1 of 1 completed\n"
     ]
    },
    {
     "name": "stdout",
     "output_type": "stream",
     "text": [
      "Uploaded ./output/8139.parquet to gs://stock-data-bucket_hopop/8139.parquet\n",
      "Loaded data into BigQuery table dbt-analytics-engineer-435907.stock_dataset.stock_data from gs://stock-data-bucket_hopop/8139.parquet.\n"
     ]
    },
    {
     "name": "stderr",
     "output_type": "stream",
     "text": [
      "[*********************100%***********************]  1 of 1 completed\n",
      "\n",
      "1 Failed download:\n",
      "['9758.T']: YFTzMissingError('$%ticker%: possibly delisted; no timezone found')\n"
     ]
    },
    {
     "name": "stdout",
     "output_type": "stream",
     "text": [
      "No data found for 9758.T. Skipping...\n"
     ]
    },
    {
     "name": "stderr",
     "output_type": "stream",
     "text": [
      "[*********************100%***********************]  1 of 1 completed\n"
     ]
    },
    {
     "name": "stdout",
     "output_type": "stream",
     "text": [
      "Uploaded ./output/1828.parquet to gs://stock-data-bucket_hopop/1828.parquet\n",
      "Loaded data into BigQuery table dbt-analytics-engineer-435907.stock_dataset.stock_data from gs://stock-data-bucket_hopop/1828.parquet.\n"
     ]
    },
    {
     "name": "stderr",
     "output_type": "stream",
     "text": [
      "[*********************100%***********************]  1 of 1 completed\n"
     ]
    },
    {
     "name": "stdout",
     "output_type": "stream",
     "text": [
      "Uploaded ./output/8935.parquet to gs://stock-data-bucket_hopop/8935.parquet\n",
      "Loaded data into BigQuery table dbt-analytics-engineer-435907.stock_dataset.stock_data from gs://stock-data-bucket_hopop/8935.parquet.\n"
     ]
    },
    {
     "name": "stderr",
     "output_type": "stream",
     "text": [
      "[*********************100%***********************]  1 of 1 completed\n"
     ]
    },
    {
     "name": "stdout",
     "output_type": "stream",
     "text": [
      "Uploaded ./output/7242.parquet to gs://stock-data-bucket_hopop/7242.parquet\n",
      "Loaded data into BigQuery table dbt-analytics-engineer-435907.stock_dataset.stock_data from gs://stock-data-bucket_hopop/7242.parquet.\n"
     ]
    },
    {
     "name": "stderr",
     "output_type": "stream",
     "text": [
      "[*********************100%***********************]  1 of 1 completed\n",
      "\n",
      "1 Failed download:\n",
      "['8205.T']: YFTzMissingError('$%ticker%: possibly delisted; no timezone found')\n"
     ]
    },
    {
     "name": "stdout",
     "output_type": "stream",
     "text": [
      "No data found for 8205.T. Skipping...\n"
     ]
    },
    {
     "name": "stderr",
     "output_type": "stream",
     "text": [
      "[*********************100%***********************]  1 of 1 completed\n"
     ]
    },
    {
     "name": "stdout",
     "output_type": "stream",
     "text": [
      "Uploaded ./output/6706.parquet to gs://stock-data-bucket_hopop/6706.parquet\n",
      "Loaded data into BigQuery table dbt-analytics-engineer-435907.stock_dataset.stock_data from gs://stock-data-bucket_hopop/6706.parquet.\n"
     ]
    },
    {
     "name": "stderr",
     "output_type": "stream",
     "text": [
      "[*********************100%***********************]  1 of 1 completed\n"
     ]
    },
    {
     "name": "stdout",
     "output_type": "stream",
     "text": [
      "Uploaded ./output/4204.parquet to gs://stock-data-bucket_hopop/4204.parquet\n",
      "Loaded data into BigQuery table dbt-analytics-engineer-435907.stock_dataset.stock_data from gs://stock-data-bucket_hopop/4204.parquet.\n"
     ]
    },
    {
     "name": "stderr",
     "output_type": "stream",
     "text": [
      "[*********************100%***********************]  1 of 1 completed\n"
     ]
    },
    {
     "name": "stdout",
     "output_type": "stream",
     "text": [
      "Uploaded ./output/7550.parquet to gs://stock-data-bucket_hopop/7550.parquet\n",
      "Loaded data into BigQuery table dbt-analytics-engineer-435907.stock_dataset.stock_data from gs://stock-data-bucket_hopop/7550.parquet.\n"
     ]
    },
    {
     "name": "stderr",
     "output_type": "stream",
     "text": [
      "[*********************100%***********************]  1 of 1 completed\n"
     ]
    },
    {
     "name": "stdout",
     "output_type": "stream",
     "text": [
      "Uploaded ./output/4976.parquet to gs://stock-data-bucket_hopop/4976.parquet\n",
      "Loaded data into BigQuery table dbt-analytics-engineer-435907.stock_dataset.stock_data from gs://stock-data-bucket_hopop/4976.parquet.\n"
     ]
    },
    {
     "name": "stderr",
     "output_type": "stream",
     "text": [
      "[*********************100%***********************]  1 of 1 completed\n"
     ]
    },
    {
     "name": "stdout",
     "output_type": "stream",
     "text": [
      "Uploaded ./output/8370.parquet to gs://stock-data-bucket_hopop/8370.parquet\n",
      "Loaded data into BigQuery table dbt-analytics-engineer-435907.stock_dataset.stock_data from gs://stock-data-bucket_hopop/8370.parquet.\n"
     ]
    },
    {
     "name": "stderr",
     "output_type": "stream",
     "text": [
      "[*********************100%***********************]  1 of 1 completed\n"
     ]
    },
    {
     "name": "stdout",
     "output_type": "stream",
     "text": [
      "Uploaded ./output/1474.parquet to gs://stock-data-bucket_hopop/1474.parquet\n",
      "Loaded data into BigQuery table dbt-analytics-engineer-435907.stock_dataset.stock_data from gs://stock-data-bucket_hopop/1474.parquet.\n"
     ]
    },
    {
     "name": "stderr",
     "output_type": "stream",
     "text": [
      "[*********************100%***********************]  1 of 1 completed\n"
     ]
    },
    {
     "name": "stdout",
     "output_type": "stream",
     "text": [
      "Uploaded ./output/3891.parquet to gs://stock-data-bucket_hopop/3891.parquet\n",
      "Loaded data into BigQuery table dbt-analytics-engineer-435907.stock_dataset.stock_data from gs://stock-data-bucket_hopop/3891.parquet.\n"
     ]
    },
    {
     "name": "stderr",
     "output_type": "stream",
     "text": [
      "[*********************100%***********************]  1 of 1 completed\n"
     ]
    },
    {
     "name": "stdout",
     "output_type": "stream",
     "text": [
      "Uploaded ./output/5857.parquet to gs://stock-data-bucket_hopop/5857.parquet\n",
      "Loaded data into BigQuery table dbt-analytics-engineer-435907.stock_dataset.stock_data from gs://stock-data-bucket_hopop/5857.parquet.\n"
     ]
    },
    {
     "name": "stderr",
     "output_type": "stream",
     "text": [
      "[*********************100%***********************]  1 of 1 completed\n"
     ]
    },
    {
     "name": "stdout",
     "output_type": "stream",
     "text": [
      "Uploaded ./output/4686.parquet to gs://stock-data-bucket_hopop/4686.parquet\n",
      "Loaded data into BigQuery table dbt-analytics-engineer-435907.stock_dataset.stock_data from gs://stock-data-bucket_hopop/4686.parquet.\n"
     ]
    },
    {
     "name": "stderr",
     "output_type": "stream",
     "text": [
      "[*********************100%***********************]  1 of 1 completed\n"
     ]
    },
    {
     "name": "stdout",
     "output_type": "stream",
     "text": [
      "Uploaded ./output/7953.parquet to gs://stock-data-bucket_hopop/7953.parquet\n",
      "Loaded data into BigQuery table dbt-analytics-engineer-435907.stock_dataset.stock_data from gs://stock-data-bucket_hopop/7953.parquet.\n"
     ]
    },
    {
     "name": "stderr",
     "output_type": "stream",
     "text": [
      "[*********************100%***********************]  1 of 1 completed\n"
     ]
    },
    {
     "name": "stdout",
     "output_type": "stream",
     "text": [
      "Uploaded ./output/7004.parquet to gs://stock-data-bucket_hopop/7004.parquet\n",
      "Loaded data into BigQuery table dbt-analytics-engineer-435907.stock_dataset.stock_data from gs://stock-data-bucket_hopop/7004.parquet.\n"
     ]
    },
    {
     "name": "stderr",
     "output_type": "stream",
     "text": [
      "[*********************100%***********************]  1 of 1 completed\n"
     ]
    },
    {
     "name": "stdout",
     "output_type": "stream",
     "text": [
      "Uploaded ./output/3397.parquet to gs://stock-data-bucket_hopop/3397.parquet\n",
      "Loaded data into BigQuery table dbt-analytics-engineer-435907.stock_dataset.stock_data from gs://stock-data-bucket_hopop/3397.parquet.\n"
     ]
    },
    {
     "name": "stderr",
     "output_type": "stream",
     "text": [
      "[*********************100%***********************]  1 of 1 completed\n"
     ]
    },
    {
     "name": "stdout",
     "output_type": "stream",
     "text": [
      "Uploaded ./output/7461.parquet to gs://stock-data-bucket_hopop/7461.parquet\n",
      "Loaded data into BigQuery table dbt-analytics-engineer-435907.stock_dataset.stock_data from gs://stock-data-bucket_hopop/7461.parquet.\n"
     ]
    },
    {
     "name": "stderr",
     "output_type": "stream",
     "text": [
      "[*********************100%***********************]  1 of 1 completed\n"
     ]
    },
    {
     "name": "stdout",
     "output_type": "stream",
     "text": [
      "Uploaded ./output/8960.parquet to gs://stock-data-bucket_hopop/8960.parquet\n",
      "Loaded data into BigQuery table dbt-analytics-engineer-435907.stock_dataset.stock_data from gs://stock-data-bucket_hopop/8960.parquet.\n"
     ]
    },
    {
     "name": "stderr",
     "output_type": "stream",
     "text": [
      "[*********************100%***********************]  1 of 1 completed\n"
     ]
    },
    {
     "name": "stdout",
     "output_type": "stream",
     "text": [
      "Uploaded ./output/2332.parquet to gs://stock-data-bucket_hopop/2332.parquet\n",
      "Loaded data into BigQuery table dbt-analytics-engineer-435907.stock_dataset.stock_data from gs://stock-data-bucket_hopop/2332.parquet.\n"
     ]
    },
    {
     "name": "stderr",
     "output_type": "stream",
     "text": [
      "[*********************100%***********************]  1 of 1 completed\n"
     ]
    },
    {
     "name": "stdout",
     "output_type": "stream",
     "text": [
      "Uploaded ./output/7186.parquet to gs://stock-data-bucket_hopop/7186.parquet\n",
      "Loaded data into BigQuery table dbt-analytics-engineer-435907.stock_dataset.stock_data from gs://stock-data-bucket_hopop/7186.parquet.\n"
     ]
    },
    {
     "name": "stderr",
     "output_type": "stream",
     "text": [
      "[*********************100%***********************]  1 of 1 completed\n",
      "\n",
      "1 Failed download:\n",
      "['8087.T']: YFTzMissingError('$%ticker%: possibly delisted; no timezone found')\n"
     ]
    },
    {
     "name": "stdout",
     "output_type": "stream",
     "text": [
      "No data found for 8087.T. Skipping...\n"
     ]
    },
    {
     "name": "stderr",
     "output_type": "stream",
     "text": [
      "[*********************100%***********************]  1 of 1 completed\n"
     ]
    },
    {
     "name": "stdout",
     "output_type": "stream",
     "text": [
      "Uploaded ./output/7723.parquet to gs://stock-data-bucket_hopop/7723.parquet\n",
      "Loaded data into BigQuery table dbt-analytics-engineer-435907.stock_dataset.stock_data from gs://stock-data-bucket_hopop/7723.parquet.\n"
     ]
    },
    {
     "name": "stderr",
     "output_type": "stream",
     "text": [
      "[*********************100%***********************]  1 of 1 completed\n"
     ]
    },
    {
     "name": "stdout",
     "output_type": "stream",
     "text": [
      "Uploaded ./output/7715.parquet to gs://stock-data-bucket_hopop/7715.parquet\n",
      "Loaded data into BigQuery table dbt-analytics-engineer-435907.stock_dataset.stock_data from gs://stock-data-bucket_hopop/7715.parquet.\n"
     ]
    },
    {
     "name": "stderr",
     "output_type": "stream",
     "text": [
      "[*********************100%***********************]  1 of 1 completed\n"
     ]
    },
    {
     "name": "stdout",
     "output_type": "stream",
     "text": [
      "Uploaded ./output/7733.parquet to gs://stock-data-bucket_hopop/7733.parquet\n",
      "Loaded data into BigQuery table dbt-analytics-engineer-435907.stock_dataset.stock_data from gs://stock-data-bucket_hopop/7733.parquet.\n"
     ]
    },
    {
     "name": "stderr",
     "output_type": "stream",
     "text": [
      "[*********************100%***********************]  1 of 1 completed\n"
     ]
    },
    {
     "name": "stdout",
     "output_type": "stream",
     "text": [
      "Uploaded ./output/2281.parquet to gs://stock-data-bucket_hopop/2281.parquet\n",
      "Loaded data into BigQuery table dbt-analytics-engineer-435907.stock_dataset.stock_data from gs://stock-data-bucket_hopop/2281.parquet.\n"
     ]
    },
    {
     "name": "stderr",
     "output_type": "stream",
     "text": [
      "[*********************100%***********************]  1 of 1 completed\n"
     ]
    },
    {
     "name": "stdout",
     "output_type": "stream",
     "text": [
      "Uploaded ./output/5542.parquet to gs://stock-data-bucket_hopop/5542.parquet\n",
      "Loaded data into BigQuery table dbt-analytics-engineer-435907.stock_dataset.stock_data from gs://stock-data-bucket_hopop/5542.parquet.\n"
     ]
    },
    {
     "name": "stderr",
     "output_type": "stream",
     "text": [
      "[*********************100%***********************]  1 of 1 completed\n"
     ]
    },
    {
     "name": "stdout",
     "output_type": "stream",
     "text": [
      "Uploaded ./output/3245.parquet to gs://stock-data-bucket_hopop/3245.parquet\n",
      "Loaded data into BigQuery table dbt-analytics-engineer-435907.stock_dataset.stock_data from gs://stock-data-bucket_hopop/3245.parquet.\n"
     ]
    },
    {
     "name": "stderr",
     "output_type": "stream",
     "text": [
      "[*********************100%***********************]  1 of 1 completed\n",
      "\n",
      "1 Failed download:\n",
      "['1722.T']: YFTzMissingError('$%ticker%: possibly delisted; no timezone found')\n"
     ]
    },
    {
     "name": "stdout",
     "output_type": "stream",
     "text": [
      "No data found for 1722.T. Skipping...\n"
     ]
    },
    {
     "name": "stderr",
     "output_type": "stream",
     "text": [
      "[*********************100%***********************]  1 of 1 completed\n",
      "\n",
      "1 Failed download:\n",
      "['9899.T']: YFTzMissingError('$%ticker%: possibly delisted; no timezone found')\n"
     ]
    },
    {
     "name": "stdout",
     "output_type": "stream",
     "text": [
      "No data found for 9899.T. Skipping...\n"
     ]
    },
    {
     "name": "stderr",
     "output_type": "stream",
     "text": [
      "[*********************100%***********************]  1 of 1 completed\n"
     ]
    },
    {
     "name": "stdout",
     "output_type": "stream",
     "text": [
      "Uploaded ./output/8138.parquet to gs://stock-data-bucket_hopop/8138.parquet\n",
      "Loaded data into BigQuery table dbt-analytics-engineer-435907.stock_dataset.stock_data from gs://stock-data-bucket_hopop/8138.parquet.\n"
     ]
    },
    {
     "name": "stderr",
     "output_type": "stream",
     "text": [
      "[*********************100%***********************]  1 of 1 completed\n"
     ]
    },
    {
     "name": "stdout",
     "output_type": "stream",
     "text": [
      "Uploaded ./output/9059.parquet to gs://stock-data-bucket_hopop/9059.parquet\n",
      "Loaded data into BigQuery table dbt-analytics-engineer-435907.stock_dataset.stock_data from gs://stock-data-bucket_hopop/9059.parquet.\n"
     ]
    },
    {
     "name": "stderr",
     "output_type": "stream",
     "text": [
      "[*********************100%***********************]  1 of 1 completed\n"
     ]
    },
    {
     "name": "stdout",
     "output_type": "stream",
     "text": [
      "Uploaded ./output/2721.parquet to gs://stock-data-bucket_hopop/2721.parquet\n",
      "Loaded data into BigQuery table dbt-analytics-engineer-435907.stock_dataset.stock_data from gs://stock-data-bucket_hopop/2721.parquet.\n"
     ]
    },
    {
     "name": "stderr",
     "output_type": "stream",
     "text": [
      "[*********************100%***********************]  1 of 1 completed\n"
     ]
    },
    {
     "name": "stdout",
     "output_type": "stream",
     "text": [
      "Uploaded ./output/7446.parquet to gs://stock-data-bucket_hopop/7446.parquet\n",
      "Loaded data into BigQuery table dbt-analytics-engineer-435907.stock_dataset.stock_data from gs://stock-data-bucket_hopop/7446.parquet.\n"
     ]
    },
    {
     "name": "stderr",
     "output_type": "stream",
     "text": [
      "[*********************100%***********************]  1 of 1 completed\n"
     ]
    },
    {
     "name": "stdout",
     "output_type": "stream",
     "text": [
      "Uploaded ./output/3844.parquet to gs://stock-data-bucket_hopop/3844.parquet\n",
      "Loaded data into BigQuery table dbt-analytics-engineer-435907.stock_dataset.stock_data from gs://stock-data-bucket_hopop/3844.parquet.\n"
     ]
    },
    {
     "name": "stderr",
     "output_type": "stream",
     "text": [
      "[*********************100%***********************]  1 of 1 completed\n"
     ]
    },
    {
     "name": "stdout",
     "output_type": "stream",
     "text": [
      "Uploaded ./output/6151.parquet to gs://stock-data-bucket_hopop/6151.parquet\n",
      "Loaded data into BigQuery table dbt-analytics-engineer-435907.stock_dataset.stock_data from gs://stock-data-bucket_hopop/6151.parquet.\n"
     ]
    },
    {
     "name": "stderr",
     "output_type": "stream",
     "text": [
      "[*********************100%***********************]  1 of 1 completed\n"
     ]
    },
    {
     "name": "stdout",
     "output_type": "stream",
     "text": [
      "Uploaded ./output/6471.parquet to gs://stock-data-bucket_hopop/6471.parquet\n",
      "Loaded data into BigQuery table dbt-analytics-engineer-435907.stock_dataset.stock_data from gs://stock-data-bucket_hopop/6471.parquet.\n"
     ]
    },
    {
     "name": "stderr",
     "output_type": "stream",
     "text": [
      "[*********************100%***********************]  1 of 1 completed\n"
     ]
    },
    {
     "name": "stdout",
     "output_type": "stream",
     "text": [
      "Uploaded ./output/8558.parquet to gs://stock-data-bucket_hopop/8558.parquet\n",
      "Loaded data into BigQuery table dbt-analytics-engineer-435907.stock_dataset.stock_data from gs://stock-data-bucket_hopop/8558.parquet.\n"
     ]
    },
    {
     "name": "stderr",
     "output_type": "stream",
     "text": [
      "[*********************100%***********************]  1 of 1 completed\n"
     ]
    },
    {
     "name": "stdout",
     "output_type": "stream",
     "text": [
      "Uploaded ./output/6419.parquet to gs://stock-data-bucket_hopop/6419.parquet\n",
      "Loaded data into BigQuery table dbt-analytics-engineer-435907.stock_dataset.stock_data from gs://stock-data-bucket_hopop/6419.parquet.\n"
     ]
    },
    {
     "name": "stderr",
     "output_type": "stream",
     "text": [
      "[*********************100%***********************]  1 of 1 completed\n"
     ]
    },
    {
     "name": "stdout",
     "output_type": "stream",
     "text": [
      "Uploaded ./output/6161.parquet to gs://stock-data-bucket_hopop/6161.parquet\n",
      "Loaded data into BigQuery table dbt-analytics-engineer-435907.stock_dataset.stock_data from gs://stock-data-bucket_hopop/6161.parquet.\n"
     ]
    },
    {
     "name": "stderr",
     "output_type": "stream",
     "text": [
      "[*********************100%***********************]  1 of 1 completed\n",
      "\n",
      "1 Failed download:\n",
      "['6801.T']: YFPricesMissingError('$%ticker%: possibly delisted; no price data found  (1d 2024-01-01 -> 2024-09-30)')\n"
     ]
    },
    {
     "name": "stdout",
     "output_type": "stream",
     "text": [
      "No data found for 6801.T. Skipping...\n"
     ]
    },
    {
     "name": "stderr",
     "output_type": "stream",
     "text": [
      "[*********************100%***********************]  1 of 1 completed\n"
     ]
    },
    {
     "name": "stdout",
     "output_type": "stream",
     "text": [
      "Uploaded ./output/5903.parquet to gs://stock-data-bucket_hopop/5903.parquet\n",
      "Loaded data into BigQuery table dbt-analytics-engineer-435907.stock_dataset.stock_data from gs://stock-data-bucket_hopop/5903.parquet.\n"
     ]
    },
    {
     "name": "stderr",
     "output_type": "stream",
     "text": [
      "[*********************100%***********************]  1 of 1 completed\n"
     ]
    },
    {
     "name": "stdout",
     "output_type": "stream",
     "text": [
      "Uploaded ./output/5803.parquet to gs://stock-data-bucket_hopop/5803.parquet\n",
      "Loaded data into BigQuery table dbt-analytics-engineer-435907.stock_dataset.stock_data from gs://stock-data-bucket_hopop/5803.parquet.\n"
     ]
    },
    {
     "name": "stderr",
     "output_type": "stream",
     "text": [
      "[*********************100%***********************]  1 of 1 completed\n"
     ]
    },
    {
     "name": "stdout",
     "output_type": "stream",
     "text": [
      "Uploaded ./output/5367.parquet to gs://stock-data-bucket_hopop/5367.parquet\n",
      "Loaded data into BigQuery table dbt-analytics-engineer-435907.stock_dataset.stock_data from gs://stock-data-bucket_hopop/5367.parquet.\n"
     ]
    },
    {
     "name": "stderr",
     "output_type": "stream",
     "text": [
      "[*********************100%***********************]  1 of 1 completed\n"
     ]
    },
    {
     "name": "stdout",
     "output_type": "stream",
     "text": [
      "Uploaded ./output/4583.parquet to gs://stock-data-bucket_hopop/4583.parquet\n",
      "Loaded data into BigQuery table dbt-analytics-engineer-435907.stock_dataset.stock_data from gs://stock-data-bucket_hopop/4583.parquet.\n"
     ]
    },
    {
     "name": "stderr",
     "output_type": "stream",
     "text": [
      "[*********************100%***********************]  1 of 1 completed\n"
     ]
    },
    {
     "name": "stdout",
     "output_type": "stream",
     "text": [
      "Uploaded ./output/4547.parquet to gs://stock-data-bucket_hopop/4547.parquet\n",
      "Loaded data into BigQuery table dbt-analytics-engineer-435907.stock_dataset.stock_data from gs://stock-data-bucket_hopop/4547.parquet.\n"
     ]
    },
    {
     "name": "stderr",
     "output_type": "stream",
     "text": [
      "[*********************100%***********************]  1 of 1 completed\n"
     ]
    },
    {
     "name": "stdout",
     "output_type": "stream",
     "text": [
      "Uploaded ./output/4341.parquet to gs://stock-data-bucket_hopop/4341.parquet\n",
      "Loaded data into BigQuery table dbt-analytics-engineer-435907.stock_dataset.stock_data from gs://stock-data-bucket_hopop/4341.parquet.\n"
     ]
    },
    {
     "name": "stderr",
     "output_type": "stream",
     "text": [
      "[*********************100%***********************]  1 of 1 completed\n"
     ]
    },
    {
     "name": "stdout",
     "output_type": "stream",
     "text": [
      "Uploaded ./output/3433.parquet to gs://stock-data-bucket_hopop/3433.parquet\n",
      "Loaded data into BigQuery table dbt-analytics-engineer-435907.stock_dataset.stock_data from gs://stock-data-bucket_hopop/3433.parquet.\n"
     ]
    },
    {
     "name": "stderr",
     "output_type": "stream",
     "text": [
      "[*********************100%***********************]  1 of 1 completed\n"
     ]
    },
    {
     "name": "stdout",
     "output_type": "stream",
     "text": [
      "Uploaded ./output/2371.parquet to gs://stock-data-bucket_hopop/2371.parquet\n",
      "Loaded data into BigQuery table dbt-analytics-engineer-435907.stock_dataset.stock_data from gs://stock-data-bucket_hopop/2371.parquet.\n"
     ]
    },
    {
     "name": "stderr",
     "output_type": "stream",
     "text": [
      "[*********************100%***********************]  1 of 1 completed\n"
     ]
    },
    {
     "name": "stdout",
     "output_type": "stream",
     "text": [
      "Uploaded ./output/2816.parquet to gs://stock-data-bucket_hopop/2816.parquet\n",
      "Loaded data into BigQuery table dbt-analytics-engineer-435907.stock_dataset.stock_data from gs://stock-data-bucket_hopop/2816.parquet.\n"
     ]
    },
    {
     "name": "stderr",
     "output_type": "stream",
     "text": [
      "[*********************100%***********************]  1 of 1 completed\n"
     ]
    },
    {
     "name": "stdout",
     "output_type": "stream",
     "text": [
      "Uploaded ./output/9682.parquet to gs://stock-data-bucket_hopop/9682.parquet\n",
      "Loaded data into BigQuery table dbt-analytics-engineer-435907.stock_dataset.stock_data from gs://stock-data-bucket_hopop/9682.parquet.\n"
     ]
    },
    {
     "name": "stderr",
     "output_type": "stream",
     "text": [
      "[*********************100%***********************]  1 of 1 completed\n"
     ]
    },
    {
     "name": "stdout",
     "output_type": "stream",
     "text": [
      "Uploaded ./output/4626.parquet to gs://stock-data-bucket_hopop/4626.parquet\n",
      "Loaded data into BigQuery table dbt-analytics-engineer-435907.stock_dataset.stock_data from gs://stock-data-bucket_hopop/4626.parquet.\n"
     ]
    },
    {
     "name": "stderr",
     "output_type": "stream",
     "text": [
      "[*********************100%***********************]  1 of 1 completed\n",
      "\n",
      "1 Failed download:\n",
      "['6163.T']: YFTzMissingError('$%ticker%: possibly delisted; no timezone found')\n"
     ]
    },
    {
     "name": "stdout",
     "output_type": "stream",
     "text": [
      "No data found for 6163.T. Skipping...\n"
     ]
    },
    {
     "name": "stderr",
     "output_type": "stream",
     "text": [
      "[*********************100%***********************]  1 of 1 completed\n"
     ]
    },
    {
     "name": "stdout",
     "output_type": "stream",
     "text": [
      "Uploaded ./output/9768.parquet to gs://stock-data-bucket_hopop/9768.parquet\n",
      "Loaded data into BigQuery table dbt-analytics-engineer-435907.stock_dataset.stock_data from gs://stock-data-bucket_hopop/9768.parquet.\n"
     ]
    },
    {
     "name": "stderr",
     "output_type": "stream",
     "text": [
      "[*********************100%***********************]  1 of 1 completed\n"
     ]
    },
    {
     "name": "stdout",
     "output_type": "stream",
     "text": [
      "Uploaded ./output/5936.parquet to gs://stock-data-bucket_hopop/5936.parquet\n",
      "Loaded data into BigQuery table dbt-analytics-engineer-435907.stock_dataset.stock_data from gs://stock-data-bucket_hopop/5936.parquet.\n"
     ]
    },
    {
     "name": "stderr",
     "output_type": "stream",
     "text": [
      "[*********************100%***********************]  1 of 1 completed\n",
      "\n",
      "1 Failed download:\n",
      "['3545.T']: YFTzMissingError('$%ticker%: possibly delisted; no timezone found')\n"
     ]
    },
    {
     "name": "stdout",
     "output_type": "stream",
     "text": [
      "No data found for 3545.T. Skipping...\n"
     ]
    },
    {
     "name": "stderr",
     "output_type": "stream",
     "text": [
      "[*********************100%***********************]  1 of 1 completed\n"
     ]
    },
    {
     "name": "stdout",
     "output_type": "stream",
     "text": [
      "Uploaded ./output/7615.parquet to gs://stock-data-bucket_hopop/7615.parquet\n",
      "Loaded data into BigQuery table dbt-analytics-engineer-435907.stock_dataset.stock_data from gs://stock-data-bucket_hopop/7615.parquet.\n"
     ]
    },
    {
     "name": "stderr",
     "output_type": "stream",
     "text": [
      "[*********************100%***********************]  1 of 1 completed\n"
     ]
    },
    {
     "name": "stdout",
     "output_type": "stream",
     "text": [
      "Uploaded ./output/5491.parquet to gs://stock-data-bucket_hopop/5491.parquet\n",
      "Loaded data into BigQuery table dbt-analytics-engineer-435907.stock_dataset.stock_data from gs://stock-data-bucket_hopop/5491.parquet.\n"
     ]
    },
    {
     "name": "stderr",
     "output_type": "stream",
     "text": [
      "[*********************100%***********************]  1 of 1 completed\n"
     ]
    },
    {
     "name": "stdout",
     "output_type": "stream",
     "text": [
      "Uploaded ./output/7012.parquet to gs://stock-data-bucket_hopop/7012.parquet\n",
      "Loaded data into BigQuery table dbt-analytics-engineer-435907.stock_dataset.stock_data from gs://stock-data-bucket_hopop/7012.parquet.\n"
     ]
    },
    {
     "name": "stderr",
     "output_type": "stream",
     "text": [
      "[*********************100%***********************]  1 of 1 completed\n"
     ]
    },
    {
     "name": "stdout",
     "output_type": "stream",
     "text": [
      "Uploaded ./output/4351.parquet to gs://stock-data-bucket_hopop/4351.parquet\n",
      "Loaded data into BigQuery table dbt-analytics-engineer-435907.stock_dataset.stock_data from gs://stock-data-bucket_hopop/4351.parquet.\n"
     ]
    },
    {
     "name": "stderr",
     "output_type": "stream",
     "text": [
      "[*********************100%***********************]  1 of 1 completed\n"
     ]
    },
    {
     "name": "stdout",
     "output_type": "stream",
     "text": [
      "Uploaded ./output/1867.parquet to gs://stock-data-bucket_hopop/1867.parquet\n",
      "Loaded data into BigQuery table dbt-analytics-engineer-435907.stock_dataset.stock_data from gs://stock-data-bucket_hopop/1867.parquet.\n"
     ]
    },
    {
     "name": "stderr",
     "output_type": "stream",
     "text": [
      "[*********************100%***********************]  1 of 1 completed\n"
     ]
    },
    {
     "name": "stdout",
     "output_type": "stream",
     "text": [
      "Uploaded ./output/6715.parquet to gs://stock-data-bucket_hopop/6715.parquet\n",
      "Loaded data into BigQuery table dbt-analytics-engineer-435907.stock_dataset.stock_data from gs://stock-data-bucket_hopop/6715.parquet.\n"
     ]
    },
    {
     "name": "stderr",
     "output_type": "stream",
     "text": [
      "[*********************100%***********************]  1 of 1 completed\n"
     ]
    },
    {
     "name": "stdout",
     "output_type": "stream",
     "text": [
      "Uploaded ./output/3003.parquet to gs://stock-data-bucket_hopop/3003.parquet\n",
      "Loaded data into BigQuery table dbt-analytics-engineer-435907.stock_dataset.stock_data from gs://stock-data-bucket_hopop/3003.parquet.\n"
     ]
    },
    {
     "name": "stderr",
     "output_type": "stream",
     "text": [
      "[*********************100%***********************]  1 of 1 completed\n",
      "\n",
      "1 Failed download:\n",
      "['4924.T']: YFTzMissingError('$%ticker%: possibly delisted; no timezone found')\n"
     ]
    },
    {
     "name": "stdout",
     "output_type": "stream",
     "text": [
      "No data found for 4924.T. Skipping...\n"
     ]
    },
    {
     "name": "stderr",
     "output_type": "stream",
     "text": [
      "[*********************100%***********************]  1 of 1 completed\n"
     ]
    },
    {
     "name": "stdout",
     "output_type": "stream",
     "text": [
      "Uploaded ./output/9107.parquet to gs://stock-data-bucket_hopop/9107.parquet\n",
      "Loaded data into BigQuery table dbt-analytics-engineer-435907.stock_dataset.stock_data from gs://stock-data-bucket_hopop/9107.parquet.\n"
     ]
    },
    {
     "name": "stderr",
     "output_type": "stream",
     "text": [
      "[*********************100%***********************]  1 of 1 completed\n"
     ]
    },
    {
     "name": "stdout",
     "output_type": "stream",
     "text": [
      "Uploaded ./output/7747.parquet to gs://stock-data-bucket_hopop/7747.parquet\n",
      "Loaded data into BigQuery table dbt-analytics-engineer-435907.stock_dataset.stock_data from gs://stock-data-bucket_hopop/7747.parquet.\n"
     ]
    },
    {
     "name": "stderr",
     "output_type": "stream",
     "text": [
      "[*********************100%***********************]  1 of 1 completed\n"
     ]
    },
    {
     "name": "stdout",
     "output_type": "stream",
     "text": [
      "Uploaded ./output/9104.parquet to gs://stock-data-bucket_hopop/9104.parquet\n",
      "Loaded data into BigQuery table dbt-analytics-engineer-435907.stock_dataset.stock_data from gs://stock-data-bucket_hopop/9104.parquet.\n"
     ]
    },
    {
     "name": "stderr",
     "output_type": "stream",
     "text": [
      "[*********************100%***********************]  1 of 1 completed\n",
      "\n",
      "1 Failed download:\n",
      "['7862.T']: YFTzMissingError('$%ticker%: possibly delisted; no timezone found')\n"
     ]
    },
    {
     "name": "stdout",
     "output_type": "stream",
     "text": [
      "No data found for 7862.T. Skipping...\n"
     ]
    },
    {
     "name": "stderr",
     "output_type": "stream",
     "text": [
      "[*********************100%***********************]  1 of 1 completed\n"
     ]
    },
    {
     "name": "stdout",
     "output_type": "stream",
     "text": [
      "Uploaded ./output/5929.parquet to gs://stock-data-bucket_hopop/5929.parquet\n",
      "Loaded data into BigQuery table dbt-analytics-engineer-435907.stock_dataset.stock_data from gs://stock-data-bucket_hopop/5929.parquet.\n"
     ]
    },
    {
     "name": "stderr",
     "output_type": "stream",
     "text": [
      "[*********************100%***********************]  1 of 1 completed\n",
      "\n",
      "1 Failed download:\n",
      "['1971.T']: YFTzMissingError('$%ticker%: possibly delisted; no timezone found')\n"
     ]
    },
    {
     "name": "stdout",
     "output_type": "stream",
     "text": [
      "No data found for 1971.T. Skipping...\n"
     ]
    },
    {
     "name": "stderr",
     "output_type": "stream",
     "text": [
      "[*********************100%***********************]  1 of 1 completed\n"
     ]
    },
    {
     "name": "stdout",
     "output_type": "stream",
     "text": [
      "Uploaded ./output/4616.parquet to gs://stock-data-bucket_hopop/4616.parquet\n",
      "Loaded data into BigQuery table dbt-analytics-engineer-435907.stock_dataset.stock_data from gs://stock-data-bucket_hopop/4616.parquet.\n"
     ]
    },
    {
     "name": "stderr",
     "output_type": "stream",
     "text": [
      "[*********************100%***********************]  1 of 1 completed\n"
     ]
    },
    {
     "name": "stdout",
     "output_type": "stream",
     "text": [
      "Uploaded ./output/2796.parquet to gs://stock-data-bucket_hopop/2796.parquet\n",
      "Loaded data into BigQuery table dbt-analytics-engineer-435907.stock_dataset.stock_data from gs://stock-data-bucket_hopop/2796.parquet.\n"
     ]
    },
    {
     "name": "stderr",
     "output_type": "stream",
     "text": [
      "[*********************100%***********************]  1 of 1 completed\n"
     ]
    },
    {
     "name": "stdout",
     "output_type": "stream",
     "text": [
      "Uploaded ./output/5202.parquet to gs://stock-data-bucket_hopop/5202.parquet\n",
      "Loaded data into BigQuery table dbt-analytics-engineer-435907.stock_dataset.stock_data from gs://stock-data-bucket_hopop/5202.parquet.\n"
     ]
    },
    {
     "name": "stderr",
     "output_type": "stream",
     "text": [
      "[*********************100%***********************]  1 of 1 completed\n"
     ]
    },
    {
     "name": "stdout",
     "output_type": "stream",
     "text": [
      "Uploaded ./output/8059.parquet to gs://stock-data-bucket_hopop/8059.parquet\n",
      "Loaded data into BigQuery table dbt-analytics-engineer-435907.stock_dataset.stock_data from gs://stock-data-bucket_hopop/8059.parquet.\n"
     ]
    },
    {
     "name": "stderr",
     "output_type": "stream",
     "text": [
      "[*********************100%***********************]  1 of 1 completed\n"
     ]
    },
    {
     "name": "stdout",
     "output_type": "stream",
     "text": [
      "Uploaded ./output/3104.parquet to gs://stock-data-bucket_hopop/3104.parquet\n",
      "Loaded data into BigQuery table dbt-analytics-engineer-435907.stock_dataset.stock_data from gs://stock-data-bucket_hopop/3104.parquet.\n"
     ]
    },
    {
     "name": "stderr",
     "output_type": "stream",
     "text": [
      "[*********************100%***********************]  1 of 1 completed\n",
      "\n",
      "1 Failed download:\n",
      "['9370.T']: YFPricesMissingError('$%ticker%: possibly delisted; no price data found  (1d 2024-01-01 -> 2024-09-30)')\n"
     ]
    },
    {
     "name": "stdout",
     "output_type": "stream",
     "text": [
      "No data found for 9370.T. Skipping...\n"
     ]
    },
    {
     "name": "stderr",
     "output_type": "stream",
     "text": [
      "[*********************100%***********************]  1 of 1 completed\n"
     ]
    },
    {
     "name": "stdout",
     "output_type": "stream",
     "text": [
      "Uploaded ./output/9991.parquet to gs://stock-data-bucket_hopop/9991.parquet\n",
      "Loaded data into BigQuery table dbt-analytics-engineer-435907.stock_dataset.stock_data from gs://stock-data-bucket_hopop/9991.parquet.\n"
     ]
    },
    {
     "name": "stderr",
     "output_type": "stream",
     "text": [
      "[*********************100%***********************]  1 of 1 completed\n"
     ]
    },
    {
     "name": "stdout",
     "output_type": "stream",
     "text": [
      "Uploaded ./output/8877.parquet to gs://stock-data-bucket_hopop/8877.parquet\n",
      "Loaded data into BigQuery table dbt-analytics-engineer-435907.stock_dataset.stock_data from gs://stock-data-bucket_hopop/8877.parquet.\n"
     ]
    },
    {
     "name": "stderr",
     "output_type": "stream",
     "text": [
      "[*********************100%***********************]  1 of 1 completed\n"
     ]
    },
    {
     "name": "stdout",
     "output_type": "stream",
     "text": [
      "Uploaded ./output/8281.parquet to gs://stock-data-bucket_hopop/8281.parquet\n",
      "Loaded data into BigQuery table dbt-analytics-engineer-435907.stock_dataset.stock_data from gs://stock-data-bucket_hopop/8281.parquet.\n"
     ]
    },
    {
     "name": "stderr",
     "output_type": "stream",
     "text": [
      "[*********************100%***********************]  1 of 1 completed\n",
      "\n",
      "1 Failed download:\n",
      "['8274.T']: YFPricesMissingError('$%ticker%: possibly delisted; no price data found  (1d 2024-01-01 -> 2024-09-30)')\n"
     ]
    },
    {
     "name": "stdout",
     "output_type": "stream",
     "text": [
      "No data found for 8274.T. Skipping...\n"
     ]
    },
    {
     "name": "stderr",
     "output_type": "stream",
     "text": [
      "[*********************100%***********************]  1 of 1 completed\n"
     ]
    },
    {
     "name": "stdout",
     "output_type": "stream",
     "text": [
      "Uploaded ./output/4687.parquet to gs://stock-data-bucket_hopop/4687.parquet\n",
      "Loaded data into BigQuery table dbt-analytics-engineer-435907.stock_dataset.stock_data from gs://stock-data-bucket_hopop/4687.parquet.\n"
     ]
    },
    {
     "name": "stderr",
     "output_type": "stream",
     "text": [
      "[*********************100%***********************]  1 of 1 completed\n"
     ]
    },
    {
     "name": "stdout",
     "output_type": "stream",
     "text": [
      "Uploaded ./output/9324.parquet to gs://stock-data-bucket_hopop/9324.parquet\n",
      "Loaded data into BigQuery table dbt-analytics-engineer-435907.stock_dataset.stock_data from gs://stock-data-bucket_hopop/9324.parquet.\n"
     ]
    },
    {
     "name": "stderr",
     "output_type": "stream",
     "text": [
      "[*********************100%***********************]  1 of 1 completed\n"
     ]
    },
    {
     "name": "stdout",
     "output_type": "stream",
     "text": [
      "Uploaded ./output/5194.parquet to gs://stock-data-bucket_hopop/5194.parquet\n",
      "Loaded data into BigQuery table dbt-analytics-engineer-435907.stock_dataset.stock_data from gs://stock-data-bucket_hopop/5194.parquet.\n"
     ]
    },
    {
     "name": "stderr",
     "output_type": "stream",
     "text": [
      "[*********************100%***********************]  1 of 1 completed\n"
     ]
    },
    {
     "name": "stdout",
     "output_type": "stream",
     "text": [
      "Uploaded ./output/6994.parquet to gs://stock-data-bucket_hopop/6994.parquet\n",
      "Loaded data into BigQuery table dbt-analytics-engineer-435907.stock_dataset.stock_data from gs://stock-data-bucket_hopop/6994.parquet.\n"
     ]
    },
    {
     "name": "stderr",
     "output_type": "stream",
     "text": [
      "[*********************100%***********************]  1 of 1 completed\n"
     ]
    },
    {
     "name": "stdout",
     "output_type": "stream",
     "text": [
      "Uploaded ./output/5851.parquet to gs://stock-data-bucket_hopop/5851.parquet\n",
      "Loaded data into BigQuery table dbt-analytics-engineer-435907.stock_dataset.stock_data from gs://stock-data-bucket_hopop/5851.parquet.\n"
     ]
    },
    {
     "name": "stderr",
     "output_type": "stream",
     "text": [
      "[*********************100%***********************]  1 of 1 completed\n"
     ]
    },
    {
     "name": "stdout",
     "output_type": "stream",
     "text": [
      "Uploaded ./output/9843.parquet to gs://stock-data-bucket_hopop/9843.parquet\n",
      "Loaded data into BigQuery table dbt-analytics-engineer-435907.stock_dataset.stock_data from gs://stock-data-bucket_hopop/9843.parquet.\n"
     ]
    },
    {
     "name": "stderr",
     "output_type": "stream",
     "text": [
      "[*********************100%***********************]  1 of 1 completed\n"
     ]
    },
    {
     "name": "stdout",
     "output_type": "stream",
     "text": [
      "Uploaded ./output/5464.parquet to gs://stock-data-bucket_hopop/5464.parquet\n",
      "Loaded data into BigQuery table dbt-analytics-engineer-435907.stock_dataset.stock_data from gs://stock-data-bucket_hopop/5464.parquet.\n"
     ]
    },
    {
     "name": "stderr",
     "output_type": "stream",
     "text": [
      "[*********************100%***********************]  1 of 1 completed\n"
     ]
    },
    {
     "name": "stdout",
     "output_type": "stream",
     "text": [
      "Uploaded ./output/6996.parquet to gs://stock-data-bucket_hopop/6996.parquet\n",
      "Loaded data into BigQuery table dbt-analytics-engineer-435907.stock_dataset.stock_data from gs://stock-data-bucket_hopop/6996.parquet.\n"
     ]
    },
    {
     "name": "stderr",
     "output_type": "stream",
     "text": [
      "[*********************100%***********************]  1 of 1 completed\n"
     ]
    },
    {
     "name": "stdout",
     "output_type": "stream",
     "text": [
      "Uploaded ./output/5440.parquet to gs://stock-data-bucket_hopop/5440.parquet\n",
      "Loaded data into BigQuery table dbt-analytics-engineer-435907.stock_dataset.stock_data from gs://stock-data-bucket_hopop/5440.parquet.\n"
     ]
    },
    {
     "name": "stderr",
     "output_type": "stream",
     "text": [
      "[*********************100%***********************]  1 of 1 completed\n"
     ]
    },
    {
     "name": "stdout",
     "output_type": "stream",
     "text": [
      "Uploaded ./output/4568.parquet to gs://stock-data-bucket_hopop/4568.parquet\n",
      "Loaded data into BigQuery table dbt-analytics-engineer-435907.stock_dataset.stock_data from gs://stock-data-bucket_hopop/4568.parquet.\n"
     ]
    },
    {
     "name": "stderr",
     "output_type": "stream",
     "text": [
      "[*********************100%***********************]  1 of 1 completed\n"
     ]
    },
    {
     "name": "stdout",
     "output_type": "stream",
     "text": [
      "Uploaded ./output/4617.parquet to gs://stock-data-bucket_hopop/4617.parquet\n",
      "Loaded data into BigQuery table dbt-analytics-engineer-435907.stock_dataset.stock_data from gs://stock-data-bucket_hopop/4617.parquet.\n"
     ]
    },
    {
     "name": "stderr",
     "output_type": "stream",
     "text": [
      "[*********************100%***********************]  1 of 1 completed\n"
     ]
    },
    {
     "name": "stdout",
     "output_type": "stream",
     "text": [
      "Uploaded ./output/2330.parquet to gs://stock-data-bucket_hopop/2330.parquet\n",
      "Loaded data into BigQuery table dbt-analytics-engineer-435907.stock_dataset.stock_data from gs://stock-data-bucket_hopop/2330.parquet.\n"
     ]
    },
    {
     "name": "stderr",
     "output_type": "stream",
     "text": [
      "[*********************100%***********************]  1 of 1 completed\n"
     ]
    },
    {
     "name": "stdout",
     "output_type": "stream",
     "text": [
      "Uploaded ./output/3041.parquet to gs://stock-data-bucket_hopop/3041.parquet\n",
      "Loaded data into BigQuery table dbt-analytics-engineer-435907.stock_dataset.stock_data from gs://stock-data-bucket_hopop/3041.parquet.\n"
     ]
    },
    {
     "name": "stderr",
     "output_type": "stream",
     "text": [
      "[*********************100%***********************]  1 of 1 completed\n",
      "\n",
      "1 Failed download:\n",
      "['9133.T']: YFPricesMissingError('$%ticker%: possibly delisted; no price data found  (1d 2024-01-01 -> 2024-09-30)')\n"
     ]
    },
    {
     "name": "stdout",
     "output_type": "stream",
     "text": [
      "No data found for 9133.T. Skipping...\n"
     ]
    },
    {
     "name": "stderr",
     "output_type": "stream",
     "text": [
      "[*********************100%***********************]  1 of 1 completed\n"
     ]
    },
    {
     "name": "stdout",
     "output_type": "stream",
     "text": [
      "Uploaded ./output/6912.parquet to gs://stock-data-bucket_hopop/6912.parquet\n",
      "Loaded data into BigQuery table dbt-analytics-engineer-435907.stock_dataset.stock_data from gs://stock-data-bucket_hopop/6912.parquet.\n"
     ]
    },
    {
     "name": "stderr",
     "output_type": "stream",
     "text": [
      "[*********************100%***********************]  1 of 1 completed\n"
     ]
    },
    {
     "name": "stdout",
     "output_type": "stream",
     "text": [
      "Uploaded ./output/9887.parquet to gs://stock-data-bucket_hopop/9887.parquet\n",
      "Loaded data into BigQuery table dbt-analytics-engineer-435907.stock_dataset.stock_data from gs://stock-data-bucket_hopop/9887.parquet.\n"
     ]
    },
    {
     "name": "stderr",
     "output_type": "stream",
     "text": [
      "[*********************100%***********************]  1 of 1 completed\n"
     ]
    },
    {
     "name": "stdout",
     "output_type": "stream",
     "text": [
      "Uploaded ./output/9720.parquet to gs://stock-data-bucket_hopop/9720.parquet\n",
      "Loaded data into BigQuery table dbt-analytics-engineer-435907.stock_dataset.stock_data from gs://stock-data-bucket_hopop/9720.parquet.\n"
     ]
    },
    {
     "name": "stderr",
     "output_type": "stream",
     "text": [
      "[*********************100%***********************]  1 of 1 completed\n"
     ]
    },
    {
     "name": "stdout",
     "output_type": "stream",
     "text": [
      "Uploaded ./output/9311.parquet to gs://stock-data-bucket_hopop/9311.parquet\n",
      "Loaded data into BigQuery table dbt-analytics-engineer-435907.stock_dataset.stock_data from gs://stock-data-bucket_hopop/9311.parquet.\n"
     ]
    },
    {
     "name": "stderr",
     "output_type": "stream",
     "text": [
      "[*********************100%***********************]  1 of 1 completed\n"
     ]
    },
    {
     "name": "stdout",
     "output_type": "stream",
     "text": [
      "Uploaded ./output/4189.parquet to gs://stock-data-bucket_hopop/4189.parquet\n",
      "Loaded data into BigQuery table dbt-analytics-engineer-435907.stock_dataset.stock_data from gs://stock-data-bucket_hopop/4189.parquet.\n"
     ]
    },
    {
     "name": "stderr",
     "output_type": "stream",
     "text": [
      "[*********************100%***********************]  1 of 1 completed\n"
     ]
    },
    {
     "name": "stdout",
     "output_type": "stream",
     "text": [
      "Uploaded ./output/6184.parquet to gs://stock-data-bucket_hopop/6184.parquet\n",
      "Loaded data into BigQuery table dbt-analytics-engineer-435907.stock_dataset.stock_data from gs://stock-data-bucket_hopop/6184.parquet.\n"
     ]
    },
    {
     "name": "stderr",
     "output_type": "stream",
     "text": [
      "[*********************100%***********************]  1 of 1 completed\n"
     ]
    },
    {
     "name": "stdout",
     "output_type": "stream",
     "text": [
      "Uploaded ./output/9119.parquet to gs://stock-data-bucket_hopop/9119.parquet\n",
      "Loaded data into BigQuery table dbt-analytics-engineer-435907.stock_dataset.stock_data from gs://stock-data-bucket_hopop/9119.parquet.\n"
     ]
    },
    {
     "name": "stderr",
     "output_type": "stream",
     "text": [
      "[*********************100%***********************]  1 of 1 completed\n"
     ]
    },
    {
     "name": "stdout",
     "output_type": "stream",
     "text": [
      "Uploaded ./output/8388.parquet to gs://stock-data-bucket_hopop/8388.parquet\n",
      "Loaded data into BigQuery table dbt-analytics-engineer-435907.stock_dataset.stock_data from gs://stock-data-bucket_hopop/8388.parquet.\n"
     ]
    },
    {
     "name": "stderr",
     "output_type": "stream",
     "text": [
      "[*********************100%***********************]  1 of 1 completed\n"
     ]
    },
    {
     "name": "stdout",
     "output_type": "stream",
     "text": [
      "Uploaded ./output/1599.parquet to gs://stock-data-bucket_hopop/1599.parquet\n",
      "Loaded data into BigQuery table dbt-analytics-engineer-435907.stock_dataset.stock_data from gs://stock-data-bucket_hopop/1599.parquet.\n"
     ]
    },
    {
     "name": "stderr",
     "output_type": "stream",
     "text": [
      "[*********************100%***********************]  1 of 1 completed\n"
     ]
    },
    {
     "name": "stdout",
     "output_type": "stream",
     "text": [
      "Uploaded ./output/8343.parquet to gs://stock-data-bucket_hopop/8343.parquet\n",
      "Loaded data into BigQuery table dbt-analytics-engineer-435907.stock_dataset.stock_data from gs://stock-data-bucket_hopop/8343.parquet.\n"
     ]
    },
    {
     "name": "stderr",
     "output_type": "stream",
     "text": [
      "[*********************100%***********************]  1 of 1 completed\n",
      "\n",
      "1 Failed download:\n",
      "['7517.T']: YFPricesMissingError('$%ticker%: possibly delisted; no price data found  (1d 2024-01-01 -> 2024-09-30)')\n"
     ]
    },
    {
     "name": "stdout",
     "output_type": "stream",
     "text": [
      "No data found for 7517.T. Skipping...\n"
     ]
    },
    {
     "name": "stderr",
     "output_type": "stream",
     "text": [
      "[*********************100%***********************]  1 of 1 completed\n"
     ]
    },
    {
     "name": "stdout",
     "output_type": "stream",
     "text": [
      "Uploaded ./output/6144.parquet to gs://stock-data-bucket_hopop/6144.parquet\n",
      "Loaded data into BigQuery table dbt-analytics-engineer-435907.stock_dataset.stock_data from gs://stock-data-bucket_hopop/6144.parquet.\n"
     ]
    },
    {
     "name": "stderr",
     "output_type": "stream",
     "text": [
      "[*********************100%***********************]  1 of 1 completed\n"
     ]
    },
    {
     "name": "stdout",
     "output_type": "stream",
     "text": [
      "Uploaded ./output/5703.parquet to gs://stock-data-bucket_hopop/5703.parquet\n",
      "Loaded data into BigQuery table dbt-analytics-engineer-435907.stock_dataset.stock_data from gs://stock-data-bucket_hopop/5703.parquet.\n"
     ]
    },
    {
     "name": "stderr",
     "output_type": "stream",
     "text": [
      "[*********************100%***********************]  1 of 1 completed\n"
     ]
    },
    {
     "name": "stdout",
     "output_type": "stream",
     "text": [
      "Uploaded ./output/1853.parquet to gs://stock-data-bucket_hopop/1853.parquet\n",
      "Loaded data into BigQuery table dbt-analytics-engineer-435907.stock_dataset.stock_data from gs://stock-data-bucket_hopop/1853.parquet.\n"
     ]
    },
    {
     "name": "stderr",
     "output_type": "stream",
     "text": [
      "[*********************100%***********************]  1 of 1 completed\n"
     ]
    },
    {
     "name": "stdout",
     "output_type": "stream",
     "text": [
      "Uploaded ./output/4762.parquet to gs://stock-data-bucket_hopop/4762.parquet\n",
      "Loaded data into BigQuery table dbt-analytics-engineer-435907.stock_dataset.stock_data from gs://stock-data-bucket_hopop/4762.parquet.\n"
     ]
    },
    {
     "name": "stderr",
     "output_type": "stream",
     "text": [
      "[*********************100%***********************]  1 of 1 completed\n"
     ]
    },
    {
     "name": "stdout",
     "output_type": "stream",
     "text": [
      "Uploaded ./output/4471.parquet to gs://stock-data-bucket_hopop/4471.parquet\n",
      "Loaded data into BigQuery table dbt-analytics-engineer-435907.stock_dataset.stock_data from gs://stock-data-bucket_hopop/4471.parquet.\n"
     ]
    },
    {
     "name": "stderr",
     "output_type": "stream",
     "text": [
      "[*********************100%***********************]  1 of 1 completed\n"
     ]
    },
    {
     "name": "stdout",
     "output_type": "stream",
     "text": [
      "Uploaded ./output/3512.parquet to gs://stock-data-bucket_hopop/3512.parquet\n",
      "Loaded data into BigQuery table dbt-analytics-engineer-435907.stock_dataset.stock_data from gs://stock-data-bucket_hopop/3512.parquet.\n"
     ]
    },
    {
     "name": "stderr",
     "output_type": "stream",
     "text": [
      "[*********************100%***********************]  1 of 1 completed\n"
     ]
    },
    {
     "name": "stdout",
     "output_type": "stream",
     "text": [
      "Uploaded ./output/2002.parquet to gs://stock-data-bucket_hopop/2002.parquet\n",
      "Loaded data into BigQuery table dbt-analytics-engineer-435907.stock_dataset.stock_data from gs://stock-data-bucket_hopop/2002.parquet.\n"
     ]
    },
    {
     "name": "stderr",
     "output_type": "stream",
     "text": [
      "[*********************100%***********************]  1 of 1 completed\n"
     ]
    },
    {
     "name": "stdout",
     "output_type": "stream",
     "text": [
      "Uploaded ./output/2267.parquet to gs://stock-data-bucket_hopop/2267.parquet\n",
      "Loaded data into BigQuery table dbt-analytics-engineer-435907.stock_dataset.stock_data from gs://stock-data-bucket_hopop/2267.parquet.\n"
     ]
    },
    {
     "name": "stderr",
     "output_type": "stream",
     "text": [
      "[*********************100%***********************]  1 of 1 completed\n"
     ]
    },
    {
     "name": "stdout",
     "output_type": "stream",
     "text": [
      "Uploaded ./output/2053.parquet to gs://stock-data-bucket_hopop/2053.parquet\n",
      "Loaded data into BigQuery table dbt-analytics-engineer-435907.stock_dataset.stock_data from gs://stock-data-bucket_hopop/2053.parquet.\n"
     ]
    },
    {
     "name": "stderr",
     "output_type": "stream",
     "text": [
      "[*********************100%***********************]  1 of 1 completed\n",
      "\n",
      "1 Failed download:\n",
      "['9748.T']: YFPricesMissingError('$%ticker%: possibly delisted; no price data found  (1d 2024-01-01 -> 2024-09-30)')\n"
     ]
    },
    {
     "name": "stdout",
     "output_type": "stream",
     "text": [
      "No data found for 9748.T. Skipping...\n"
     ]
    },
    {
     "name": "stderr",
     "output_type": "stream",
     "text": [
      "[*********************100%***********************]  1 of 1 completed\n",
      "\n",
      "1 Failed download:\n",
      "['1310.T']: YFPricesMissingError('$%ticker%: possibly delisted; no price data found  (1d 2024-01-01 -> 2024-09-30)')\n"
     ]
    },
    {
     "name": "stdout",
     "output_type": "stream",
     "text": [
      "No data found for 1310.T. Skipping...\n"
     ]
    },
    {
     "name": "stderr",
     "output_type": "stream",
     "text": [
      "[*********************100%***********************]  1 of 1 completed\n"
     ]
    },
    {
     "name": "stdout",
     "output_type": "stream",
     "text": [
      "Uploaded ./output/6249.parquet to gs://stock-data-bucket_hopop/6249.parquet\n",
      "Loaded data into BigQuery table dbt-analytics-engineer-435907.stock_dataset.stock_data from gs://stock-data-bucket_hopop/6249.parquet.\n"
     ]
    },
    {
     "name": "stderr",
     "output_type": "stream",
     "text": [
      "[*********************100%***********************]  1 of 1 completed\n",
      "\n",
      "1 Failed download:\n",
      "['8369.T']: YFTzMissingError('$%ticker%: possibly delisted; no timezone found')\n"
     ]
    },
    {
     "name": "stdout",
     "output_type": "stream",
     "text": [
      "No data found for 8369.T. Skipping...\n"
     ]
    },
    {
     "name": "stderr",
     "output_type": "stream",
     "text": [
      "[*********************100%***********************]  1 of 1 completed\n",
      "\n",
      "1 Failed download:\n",
      "['8096.T']: YFTzMissingError('$%ticker%: possibly delisted; no timezone found')\n"
     ]
    },
    {
     "name": "stdout",
     "output_type": "stream",
     "text": [
      "No data found for 8096.T. Skipping...\n"
     ]
    },
    {
     "name": "stderr",
     "output_type": "stream",
     "text": [
      "[*********************100%***********************]  1 of 1 completed\n"
     ]
    },
    {
     "name": "stdout",
     "output_type": "stream",
     "text": [
      "Uploaded ./output/7475.parquet to gs://stock-data-bucket_hopop/7475.parquet\n",
      "Loaded data into BigQuery table dbt-analytics-engineer-435907.stock_dataset.stock_data from gs://stock-data-bucket_hopop/7475.parquet.\n"
     ]
    },
    {
     "name": "stderr",
     "output_type": "stream",
     "text": [
      "[*********************100%***********************]  1 of 1 completed\n"
     ]
    },
    {
     "name": "stdout",
     "output_type": "stream",
     "text": [
      "Uploaded ./output/3936.parquet to gs://stock-data-bucket_hopop/3936.parquet\n",
      "Loaded data into BigQuery table dbt-analytics-engineer-435907.stock_dataset.stock_data from gs://stock-data-bucket_hopop/3936.parquet.\n"
     ]
    },
    {
     "name": "stderr",
     "output_type": "stream",
     "text": [
      "[*********************100%***********************]  1 of 1 completed\n"
     ]
    },
    {
     "name": "stdout",
     "output_type": "stream",
     "text": [
      "Uploaded ./output/8803.parquet to gs://stock-data-bucket_hopop/8803.parquet\n",
      "Loaded data into BigQuery table dbt-analytics-engineer-435907.stock_dataset.stock_data from gs://stock-data-bucket_hopop/8803.parquet.\n"
     ]
    },
    {
     "name": "stderr",
     "output_type": "stream",
     "text": [
      "[*********************100%***********************]  1 of 1 completed\n",
      "\n",
      "1 Failed download:\n",
      "['2047.T']: YFPricesMissingError('$%ticker%: possibly delisted; no price data found  (1d 2024-01-01 -> 2024-09-30)')\n"
     ]
    },
    {
     "name": "stdout",
     "output_type": "stream",
     "text": [
      "No data found for 2047.T. Skipping...\n"
     ]
    },
    {
     "name": "stderr",
     "output_type": "stream",
     "text": [
      "[*********************100%***********************]  1 of 1 completed\n"
     ]
    },
    {
     "name": "stdout",
     "output_type": "stream",
     "text": [
      "Uploaded ./output/6408.parquet to gs://stock-data-bucket_hopop/6408.parquet\n",
      "Loaded data into BigQuery table dbt-analytics-engineer-435907.stock_dataset.stock_data from gs://stock-data-bucket_hopop/6408.parquet.\n"
     ]
    },
    {
     "name": "stderr",
     "output_type": "stream",
     "text": [
      "[*********************100%***********************]  1 of 1 completed\n"
     ]
    },
    {
     "name": "stdout",
     "output_type": "stream",
     "text": [
      "Uploaded ./output/3434.parquet to gs://stock-data-bucket_hopop/3434.parquet\n",
      "Loaded data into BigQuery table dbt-analytics-engineer-435907.stock_dataset.stock_data from gs://stock-data-bucket_hopop/3434.parquet.\n"
     ]
    },
    {
     "name": "stderr",
     "output_type": "stream",
     "text": [
      "[*********************100%***********************]  1 of 1 completed\n"
     ]
    },
    {
     "name": "stdout",
     "output_type": "stream",
     "text": [
      "Uploaded ./output/6325.parquet to gs://stock-data-bucket_hopop/6325.parquet\n",
      "Loaded data into BigQuery table dbt-analytics-engineer-435907.stock_dataset.stock_data from gs://stock-data-bucket_hopop/6325.parquet.\n"
     ]
    },
    {
     "name": "stderr",
     "output_type": "stream",
     "text": [
      "[*********************100%***********************]  1 of 1 completed\n"
     ]
    },
    {
     "name": "stdout",
     "output_type": "stream",
     "text": [
      "Uploaded ./output/7426.parquet to gs://stock-data-bucket_hopop/7426.parquet\n",
      "Loaded data into BigQuery table dbt-analytics-engineer-435907.stock_dataset.stock_data from gs://stock-data-bucket_hopop/7426.parquet.\n"
     ]
    },
    {
     "name": "stderr",
     "output_type": "stream",
     "text": [
      "[*********************100%***********************]  1 of 1 completed\n"
     ]
    },
    {
     "name": "stdout",
     "output_type": "stream",
     "text": [
      "Uploaded ./output/6268.parquet to gs://stock-data-bucket_hopop/6268.parquet\n",
      "Loaded data into BigQuery table dbt-analytics-engineer-435907.stock_dataset.stock_data from gs://stock-data-bucket_hopop/6268.parquet.\n"
     ]
    },
    {
     "name": "stderr",
     "output_type": "stream",
     "text": [
      "[*********************100%***********************]  1 of 1 completed\n"
     ]
    },
    {
     "name": "stdout",
     "output_type": "stream",
     "text": [
      "Uploaded ./output/3666.parquet to gs://stock-data-bucket_hopop/3666.parquet\n",
      "Loaded data into BigQuery table dbt-analytics-engineer-435907.stock_dataset.stock_data from gs://stock-data-bucket_hopop/3666.parquet.\n"
     ]
    },
    {
     "name": "stderr",
     "output_type": "stream",
     "text": [
      "[*********************100%***********************]  1 of 1 completed\n"
     ]
    },
    {
     "name": "stdout",
     "output_type": "stream",
     "text": [
      "Uploaded ./output/2109.parquet to gs://stock-data-bucket_hopop/2109.parquet\n",
      "Loaded data into BigQuery table dbt-analytics-engineer-435907.stock_dataset.stock_data from gs://stock-data-bucket_hopop/2109.parquet.\n"
     ]
    },
    {
     "name": "stderr",
     "output_type": "stream",
     "text": [
      "[*********************100%***********************]  1 of 1 completed\n"
     ]
    },
    {
     "name": "stdout",
     "output_type": "stream",
     "text": [
      "Uploaded ./output/1835.parquet to gs://stock-data-bucket_hopop/1835.parquet\n",
      "Loaded data into BigQuery table dbt-analytics-engineer-435907.stock_dataset.stock_data from gs://stock-data-bucket_hopop/1835.parquet.\n"
     ]
    },
    {
     "name": "stderr",
     "output_type": "stream",
     "text": [
      "[*********************100%***********************]  1 of 1 completed\n"
     ]
    },
    {
     "name": "stdout",
     "output_type": "stream",
     "text": [
      "Uploaded ./output/9760.parquet to gs://stock-data-bucket_hopop/9760.parquet\n",
      "Loaded data into BigQuery table dbt-analytics-engineer-435907.stock_dataset.stock_data from gs://stock-data-bucket_hopop/9760.parquet.\n"
     ]
    },
    {
     "name": "stderr",
     "output_type": "stream",
     "text": [
      "[*********************100%***********************]  1 of 1 completed\n"
     ]
    },
    {
     "name": "stdout",
     "output_type": "stream",
     "text": [
      "Uploaded ./output/4970.parquet to gs://stock-data-bucket_hopop/4970.parquet\n",
      "Loaded data into BigQuery table dbt-analytics-engineer-435907.stock_dataset.stock_data from gs://stock-data-bucket_hopop/4970.parquet.\n"
     ]
    },
    {
     "name": "stderr",
     "output_type": "stream",
     "text": [
      "[*********************100%***********************]  1 of 1 completed\n"
     ]
    },
    {
     "name": "stdout",
     "output_type": "stream",
     "text": [
      "Uploaded ./output/6166.parquet to gs://stock-data-bucket_hopop/6166.parquet\n",
      "Loaded data into BigQuery table dbt-analytics-engineer-435907.stock_dataset.stock_data from gs://stock-data-bucket_hopop/6166.parquet.\n"
     ]
    },
    {
     "name": "stderr",
     "output_type": "stream",
     "text": [
      "[*********************100%***********************]  1 of 1 completed\n"
     ]
    },
    {
     "name": "stdout",
     "output_type": "stream",
     "text": [
      "Uploaded ./output/4615.parquet to gs://stock-data-bucket_hopop/4615.parquet\n",
      "Loaded data into BigQuery table dbt-analytics-engineer-435907.stock_dataset.stock_data from gs://stock-data-bucket_hopop/4615.parquet.\n"
     ]
    },
    {
     "name": "stderr",
     "output_type": "stream",
     "text": [
      "[*********************100%***********************]  1 of 1 completed\n"
     ]
    },
    {
     "name": "stdout",
     "output_type": "stream",
     "text": [
      "Uploaded ./output/5959.parquet to gs://stock-data-bucket_hopop/5959.parquet\n",
      "Loaded data into BigQuery table dbt-analytics-engineer-435907.stock_dataset.stock_data from gs://stock-data-bucket_hopop/5959.parquet.\n"
     ]
    },
    {
     "name": "stderr",
     "output_type": "stream",
     "text": [
      "[*********************100%***********************]  1 of 1 completed\n",
      "\n",
      "1 Failed download:\n",
      "['6924.T']: YFTzMissingError('$%ticker%: possibly delisted; no timezone found')\n"
     ]
    },
    {
     "name": "stdout",
     "output_type": "stream",
     "text": [
      "No data found for 6924.T. Skipping...\n"
     ]
    },
    {
     "name": "stderr",
     "output_type": "stream",
     "text": [
      "[*********************100%***********************]  1 of 1 completed\n"
     ]
    },
    {
     "name": "stdout",
     "output_type": "stream",
     "text": [
      "Uploaded ./output/6059.parquet to gs://stock-data-bucket_hopop/6059.parquet\n",
      "Loaded data into BigQuery table dbt-analytics-engineer-435907.stock_dataset.stock_data from gs://stock-data-bucket_hopop/6059.parquet.\n"
     ]
    },
    {
     "name": "stderr",
     "output_type": "stream",
     "text": [
      "[*********************100%***********************]  1 of 1 completed\n"
     ]
    },
    {
     "name": "stdout",
     "output_type": "stream",
     "text": [
      "Uploaded ./output/7943.parquet to gs://stock-data-bucket_hopop/7943.parquet\n",
      "Loaded data into BigQuery table dbt-analytics-engineer-435907.stock_dataset.stock_data from gs://stock-data-bucket_hopop/7943.parquet.\n"
     ]
    },
    {
     "name": "stderr",
     "output_type": "stream",
     "text": [
      "[*********************100%***********************]  1 of 1 completed\n"
     ]
    },
    {
     "name": "stdout",
     "output_type": "stream",
     "text": [
      "Uploaded ./output/2301.parquet to gs://stock-data-bucket_hopop/2301.parquet\n",
      "Loaded data into BigQuery table dbt-analytics-engineer-435907.stock_dataset.stock_data from gs://stock-data-bucket_hopop/2301.parquet.\n"
     ]
    },
    {
     "name": "stderr",
     "output_type": "stream",
     "text": [
      "[*********************100%***********************]  1 of 1 completed\n"
     ]
    },
    {
     "name": "stdout",
     "output_type": "stream",
     "text": [
      "Uploaded ./output/6736.parquet to gs://stock-data-bucket_hopop/6736.parquet\n",
      "Loaded data into BigQuery table dbt-analytics-engineer-435907.stock_dataset.stock_data from gs://stock-data-bucket_hopop/6736.parquet.\n"
     ]
    },
    {
     "name": "stderr",
     "output_type": "stream",
     "text": [
      "[*********************100%***********************]  1 of 1 completed\n"
     ]
    },
    {
     "name": "stdout",
     "output_type": "stream",
     "text": [
      "Uploaded ./output/7150.parquet to gs://stock-data-bucket_hopop/7150.parquet\n",
      "Loaded data into BigQuery table dbt-analytics-engineer-435907.stock_dataset.stock_data from gs://stock-data-bucket_hopop/7150.parquet.\n"
     ]
    },
    {
     "name": "stderr",
     "output_type": "stream",
     "text": [
      "[*********************100%***********************]  1 of 1 completed\n"
     ]
    },
    {
     "name": "stdout",
     "output_type": "stream",
     "text": [
      "Uploaded ./output/2433.parquet to gs://stock-data-bucket_hopop/2433.parquet\n",
      "Loaded data into BigQuery table dbt-analytics-engineer-435907.stock_dataset.stock_data from gs://stock-data-bucket_hopop/2433.parquet.\n"
     ]
    },
    {
     "name": "stderr",
     "output_type": "stream",
     "text": [
      "[*********************100%***********************]  1 of 1 completed\n",
      "\n",
      "1 Failed download:\n",
      "['9919.T']: YFTzMissingError('$%ticker%: possibly delisted; no timezone found')\n"
     ]
    },
    {
     "name": "stdout",
     "output_type": "stream",
     "text": [
      "No data found for 9919.T. Skipping...\n"
     ]
    },
    {
     "name": "stderr",
     "output_type": "stream",
     "text": [
      "[*********************100%***********************]  1 of 1 completed\n"
     ]
    },
    {
     "name": "stdout",
     "output_type": "stream",
     "text": [
      "Uploaded ./output/4553.parquet to gs://stock-data-bucket_hopop/4553.parquet\n",
      "Loaded data into BigQuery table dbt-analytics-engineer-435907.stock_dataset.stock_data from gs://stock-data-bucket_hopop/4553.parquet.\n"
     ]
    },
    {
     "name": "stderr",
     "output_type": "stream",
     "text": [
      "[*********************100%***********************]  1 of 1 completed\n",
      "\n",
      "1 Failed download:\n",
      "['3952.T']: YFTzMissingError('$%ticker%: possibly delisted; no timezone found')\n"
     ]
    },
    {
     "name": "stdout",
     "output_type": "stream",
     "text": [
      "No data found for 3952.T. Skipping...\n"
     ]
    },
    {
     "name": "stderr",
     "output_type": "stream",
     "text": [
      "[*********************100%***********************]  1 of 1 completed\n"
     ]
    },
    {
     "name": "stdout",
     "output_type": "stream",
     "text": [
      "Uploaded ./output/9882.parquet to gs://stock-data-bucket_hopop/9882.parquet\n",
      "Loaded data into BigQuery table dbt-analytics-engineer-435907.stock_dataset.stock_data from gs://stock-data-bucket_hopop/9882.parquet.\n"
     ]
    },
    {
     "name": "stderr",
     "output_type": "stream",
     "text": [
      "[*********************100%***********************]  1 of 1 completed\n"
     ]
    },
    {
     "name": "stdout",
     "output_type": "stream",
     "text": [
      "Uploaded ./output/5332.parquet to gs://stock-data-bucket_hopop/5332.parquet\n",
      "Loaded data into BigQuery table dbt-analytics-engineer-435907.stock_dataset.stock_data from gs://stock-data-bucket_hopop/5332.parquet.\n"
     ]
    },
    {
     "name": "stderr",
     "output_type": "stream",
     "text": [
      "[*********************100%***********************]  1 of 1 completed\n",
      "\n",
      "1 Failed download:\n",
      "['9866.T']: YFTzMissingError('$%ticker%: possibly delisted; no timezone found')\n"
     ]
    },
    {
     "name": "stdout",
     "output_type": "stream",
     "text": [
      "No data found for 9866.T. Skipping...\n"
     ]
    },
    {
     "name": "stderr",
     "output_type": "stream",
     "text": [
      "[*********************100%***********************]  1 of 1 completed\n"
     ]
    },
    {
     "name": "stdout",
     "output_type": "stream",
     "text": [
      "Uploaded ./output/9795.parquet to gs://stock-data-bucket_hopop/9795.parquet\n",
      "Loaded data into BigQuery table dbt-analytics-engineer-435907.stock_dataset.stock_data from gs://stock-data-bucket_hopop/9795.parquet.\n"
     ]
    },
    {
     "name": "stderr",
     "output_type": "stream",
     "text": [
      "[*********************100%***********************]  1 of 1 completed\n"
     ]
    },
    {
     "name": "stdout",
     "output_type": "stream",
     "text": [
      "Uploaded ./output/3641.parquet to gs://stock-data-bucket_hopop/3641.parquet\n",
      "Loaded data into BigQuery table dbt-analytics-engineer-435907.stock_dataset.stock_data from gs://stock-data-bucket_hopop/3641.parquet.\n"
     ]
    },
    {
     "name": "stderr",
     "output_type": "stream",
     "text": [
      "[*********************100%***********************]  1 of 1 completed\n"
     ]
    },
    {
     "name": "stdout",
     "output_type": "stream",
     "text": [
      "Uploaded ./output/3182.parquet to gs://stock-data-bucket_hopop/3182.parquet\n",
      "Loaded data into BigQuery table dbt-analytics-engineer-435907.stock_dataset.stock_data from gs://stock-data-bucket_hopop/3182.parquet.\n"
     ]
    },
    {
     "name": "stderr",
     "output_type": "stream",
     "text": [
      "[*********************100%***********************]  1 of 1 completed\n"
     ]
    },
    {
     "name": "stdout",
     "output_type": "stream",
     "text": [
      "Uploaded ./output/9761.parquet to gs://stock-data-bucket_hopop/9761.parquet\n",
      "Loaded data into BigQuery table dbt-analytics-engineer-435907.stock_dataset.stock_data from gs://stock-data-bucket_hopop/9761.parquet.\n"
     ]
    },
    {
     "name": "stderr",
     "output_type": "stream",
     "text": [
      "[*********************100%***********************]  1 of 1 completed\n"
     ]
    },
    {
     "name": "stdout",
     "output_type": "stream",
     "text": [
      "Uploaded ./output/9715.parquet to gs://stock-data-bucket_hopop/9715.parquet\n",
      "Loaded data into BigQuery table dbt-analytics-engineer-435907.stock_dataset.stock_data from gs://stock-data-bucket_hopop/9715.parquet.\n"
     ]
    },
    {
     "name": "stderr",
     "output_type": "stream",
     "text": [
      "[*********************100%***********************]  1 of 1 completed\n",
      "\n",
      "1 Failed download:\n",
      "['4006.T']: YFTzMissingError('$%ticker%: possibly delisted; no timezone found')\n"
     ]
    },
    {
     "name": "stdout",
     "output_type": "stream",
     "text": [
      "No data found for 4006.T. Skipping...\n"
     ]
    },
    {
     "name": "stderr",
     "output_type": "stream",
     "text": [
      "[*********************100%***********************]  1 of 1 completed\n",
      "\n",
      "1 Failed download:\n",
      "['9608.T']: YFTzMissingError('$%ticker%: possibly delisted; no timezone found')\n"
     ]
    },
    {
     "name": "stdout",
     "output_type": "stream",
     "text": [
      "No data found for 9608.T. Skipping...\n"
     ]
    },
    {
     "name": "stderr",
     "output_type": "stream",
     "text": [
      "[*********************100%***********************]  1 of 1 completed\n"
     ]
    },
    {
     "name": "stdout",
     "output_type": "stream",
     "text": [
      "Uploaded ./output/9511.parquet to gs://stock-data-bucket_hopop/9511.parquet\n",
      "Loaded data into BigQuery table dbt-analytics-engineer-435907.stock_dataset.stock_data from gs://stock-data-bucket_hopop/9511.parquet.\n"
     ]
    },
    {
     "name": "stderr",
     "output_type": "stream",
     "text": [
      "[*********************100%***********************]  1 of 1 completed\n"
     ]
    },
    {
     "name": "stdout",
     "output_type": "stream",
     "text": [
      "Uploaded ./output/9001.parquet to gs://stock-data-bucket_hopop/9001.parquet\n",
      "Loaded data into BigQuery table dbt-analytics-engineer-435907.stock_dataset.stock_data from gs://stock-data-bucket_hopop/9001.parquet.\n"
     ]
    },
    {
     "name": "stderr",
     "output_type": "stream",
     "text": [
      "[*********************100%***********************]  1 of 1 completed\n"
     ]
    },
    {
     "name": "stdout",
     "output_type": "stream",
     "text": [
      "Uploaded ./output/9509.parquet to gs://stock-data-bucket_hopop/9509.parquet\n",
      "Loaded data into BigQuery table dbt-analytics-engineer-435907.stock_dataset.stock_data from gs://stock-data-bucket_hopop/9509.parquet.\n"
     ]
    },
    {
     "name": "stderr",
     "output_type": "stream",
     "text": [
      "[*********************100%***********************]  1 of 1 completed\n"
     ]
    },
    {
     "name": "stdout",
     "output_type": "stream",
     "text": [
      "Uploaded ./output/6113.parquet to gs://stock-data-bucket_hopop/6113.parquet\n",
      "Loaded data into BigQuery table dbt-analytics-engineer-435907.stock_dataset.stock_data from gs://stock-data-bucket_hopop/6113.parquet.\n"
     ]
    },
    {
     "name": "stderr",
     "output_type": "stream",
     "text": [
      "[*********************100%***********************]  1 of 1 completed\n",
      "\n",
      "1 Failed download:\n",
      "['9422.T']: YFTzMissingError('$%ticker%: possibly delisted; no timezone found')\n"
     ]
    },
    {
     "name": "stdout",
     "output_type": "stream",
     "text": [
      "No data found for 9422.T. Skipping...\n"
     ]
    },
    {
     "name": "stderr",
     "output_type": "stream",
     "text": [
      "[*********************100%***********************]  1 of 1 completed\n"
     ]
    },
    {
     "name": "stdout",
     "output_type": "stream",
     "text": [
      "Uploaded ./output/9201.parquet to gs://stock-data-bucket_hopop/9201.parquet\n",
      "Loaded data into BigQuery table dbt-analytics-engineer-435907.stock_dataset.stock_data from gs://stock-data-bucket_hopop/9201.parquet.\n"
     ]
    },
    {
     "name": "stderr",
     "output_type": "stream",
     "text": [
      "[*********************100%***********************]  1 of 1 completed\n"
     ]
    },
    {
     "name": "stdout",
     "output_type": "stream",
     "text": [
      "Uploaded ./output/9021.parquet to gs://stock-data-bucket_hopop/9021.parquet\n",
      "Loaded data into BigQuery table dbt-analytics-engineer-435907.stock_dataset.stock_data from gs://stock-data-bucket_hopop/9021.parquet.\n"
     ]
    },
    {
     "name": "stderr",
     "output_type": "stream",
     "text": [
      "[*********************100%***********************]  1 of 1 completed\n"
     ]
    },
    {
     "name": "stdout",
     "output_type": "stream",
     "text": [
      "Uploaded ./output/1393.parquet to gs://stock-data-bucket_hopop/1393.parquet\n",
      "Loaded data into BigQuery table dbt-analytics-engineer-435907.stock_dataset.stock_data from gs://stock-data-bucket_hopop/1393.parquet.\n"
     ]
    },
    {
     "name": "stderr",
     "output_type": "stream",
     "text": [
      "[*********************100%***********************]  1 of 1 completed\n",
      "\n",
      "1 Failed download:\n",
      "['8554.T']: YFTzMissingError('$%ticker%: possibly delisted; no timezone found')\n"
     ]
    },
    {
     "name": "stdout",
     "output_type": "stream",
     "text": [
      "No data found for 8554.T. Skipping...\n"
     ]
    },
    {
     "name": "stderr",
     "output_type": "stream",
     "text": [
      "[*********************100%***********************]  1 of 1 completed\n"
     ]
    },
    {
     "name": "stdout",
     "output_type": "stream",
     "text": [
      "Uploaded ./output/9009.parquet to gs://stock-data-bucket_hopop/9009.parquet\n",
      "Loaded data into BigQuery table dbt-analytics-engineer-435907.stock_dataset.stock_data from gs://stock-data-bucket_hopop/9009.parquet.\n"
     ]
    },
    {
     "name": "stderr",
     "output_type": "stream",
     "text": [
      "[*********************100%***********************]  1 of 1 completed\n",
      "\n",
      "1 Failed download:\n",
      "['8729.T']: YFTzMissingError('$%ticker%: possibly delisted; no timezone found')\n"
     ]
    },
    {
     "name": "stdout",
     "output_type": "stream",
     "text": [
      "No data found for 8729.T. Skipping...\n"
     ]
    },
    {
     "name": "stderr",
     "output_type": "stream",
     "text": [
      "[*********************100%***********************]  1 of 1 completed\n",
      "\n",
      "1 Failed download:\n",
      "['8325.T']: YFPricesMissingError('$%ticker%: possibly delisted; no price data found  (1d 2024-01-01 -> 2024-09-30)')\n"
     ]
    },
    {
     "name": "stdout",
     "output_type": "stream",
     "text": [
      "No data found for 8325.T. Skipping...\n"
     ]
    },
    {
     "name": "stderr",
     "output_type": "stream",
     "text": [
      "[*********************100%***********************]  1 of 1 completed\n"
     ]
    },
    {
     "name": "stdout",
     "output_type": "stream",
     "text": [
      "Uploaded ./output/8283.parquet to gs://stock-data-bucket_hopop/8283.parquet\n",
      "Loaded data into BigQuery table dbt-analytics-engineer-435907.stock_dataset.stock_data from gs://stock-data-bucket_hopop/8283.parquet.\n"
     ]
    },
    {
     "name": "stderr",
     "output_type": "stream",
     "text": [
      "[*********************100%***********************]  1 of 1 completed\n"
     ]
    },
    {
     "name": "stdout",
     "output_type": "stream",
     "text": [
      "Uploaded ./output/8132.parquet to gs://stock-data-bucket_hopop/8132.parquet\n",
      "Loaded data into BigQuery table dbt-analytics-engineer-435907.stock_dataset.stock_data from gs://stock-data-bucket_hopop/8132.parquet.\n"
     ]
    },
    {
     "name": "stderr",
     "output_type": "stream",
     "text": [
      "[*********************100%***********************]  1 of 1 completed\n"
     ]
    },
    {
     "name": "stdout",
     "output_type": "stream",
     "text": [
      "Uploaded ./output/7516.parquet to gs://stock-data-bucket_hopop/7516.parquet\n",
      "Loaded data into BigQuery table dbt-analytics-engineer-435907.stock_dataset.stock_data from gs://stock-data-bucket_hopop/7516.parquet.\n"
     ]
    },
    {
     "name": "stderr",
     "output_type": "stream",
     "text": [
      "[*********************100%***********************]  1 of 1 completed\n"
     ]
    },
    {
     "name": "stdout",
     "output_type": "stream",
     "text": [
      "Uploaded ./output/3695.parquet to gs://stock-data-bucket_hopop/3695.parquet\n",
      "Loaded data into BigQuery table dbt-analytics-engineer-435907.stock_dataset.stock_data from gs://stock-data-bucket_hopop/3695.parquet.\n"
     ]
    },
    {
     "name": "stderr",
     "output_type": "stream",
     "text": [
      "[*********************100%***********************]  1 of 1 completed\n"
     ]
    },
    {
     "name": "stdout",
     "output_type": "stream",
     "text": [
      "Uploaded ./output/8084.parquet to gs://stock-data-bucket_hopop/8084.parquet\n",
      "Loaded data into BigQuery table dbt-analytics-engineer-435907.stock_dataset.stock_data from gs://stock-data-bucket_hopop/8084.parquet.\n"
     ]
    },
    {
     "name": "stderr",
     "output_type": "stream",
     "text": [
      "[*********************100%***********************]  1 of 1 completed\n"
     ]
    },
    {
     "name": "stdout",
     "output_type": "stream",
     "text": [
      "Uploaded ./output/8247.parquet to gs://stock-data-bucket_hopop/8247.parquet\n",
      "Loaded data into BigQuery table dbt-analytics-engineer-435907.stock_dataset.stock_data from gs://stock-data-bucket_hopop/8247.parquet.\n"
     ]
    },
    {
     "name": "stderr",
     "output_type": "stream",
     "text": [
      "[*********************100%***********************]  1 of 1 completed\n"
     ]
    },
    {
     "name": "stdout",
     "output_type": "stream",
     "text": [
      "Uploaded ./output/8005.parquet to gs://stock-data-bucket_hopop/8005.parquet\n",
      "Loaded data into BigQuery table dbt-analytics-engineer-435907.stock_dataset.stock_data from gs://stock-data-bucket_hopop/8005.parquet.\n"
     ]
    },
    {
     "name": "stderr",
     "output_type": "stream",
     "text": [
      "[*********************100%***********************]  1 of 1 completed\n"
     ]
    },
    {
     "name": "stdout",
     "output_type": "stream",
     "text": [
      "Uploaded ./output/7942.parquet to gs://stock-data-bucket_hopop/7942.parquet\n",
      "Loaded data into BigQuery table dbt-analytics-engineer-435907.stock_dataset.stock_data from gs://stock-data-bucket_hopop/7942.parquet.\n"
     ]
    },
    {
     "name": "stderr",
     "output_type": "stream",
     "text": [
      "[*********************100%***********************]  1 of 1 completed\n"
     ]
    },
    {
     "name": "stdout",
     "output_type": "stream",
     "text": [
      "Uploaded ./output/7939.parquet to gs://stock-data-bucket_hopop/7939.parquet\n",
      "Loaded data into BigQuery table dbt-analytics-engineer-435907.stock_dataset.stock_data from gs://stock-data-bucket_hopop/7939.parquet.\n"
     ]
    },
    {
     "name": "stderr",
     "output_type": "stream",
     "text": [
      "[*********************100%***********************]  1 of 1 completed\n",
      "\n",
      "1 Failed download:\n",
      "['7920.T']: YFPricesMissingError('$%ticker%: possibly delisted; no price data found  (1d 2024-01-01 -> 2024-09-30)')\n"
     ]
    },
    {
     "name": "stdout",
     "output_type": "stream",
     "text": [
      "No data found for 7920.T. Skipping...\n"
     ]
    },
    {
     "name": "stderr",
     "output_type": "stream",
     "text": [
      "[*********************100%***********************]  1 of 1 completed\n"
     ]
    },
    {
     "name": "stdout",
     "output_type": "stream",
     "text": [
      "Uploaded ./output/3935.parquet to gs://stock-data-bucket_hopop/3935.parquet\n",
      "Loaded data into BigQuery table dbt-analytics-engineer-435907.stock_dataset.stock_data from gs://stock-data-bucket_hopop/3935.parquet.\n"
     ]
    },
    {
     "name": "stderr",
     "output_type": "stream",
     "text": [
      "[*********************100%***********************]  1 of 1 completed\n"
     ]
    },
    {
     "name": "stdout",
     "output_type": "stream",
     "text": [
      "Uploaded ./output/7646.parquet to gs://stock-data-bucket_hopop/7646.parquet\n",
      "Loaded data into BigQuery table dbt-analytics-engineer-435907.stock_dataset.stock_data from gs://stock-data-bucket_hopop/7646.parquet.\n"
     ]
    },
    {
     "name": "stderr",
     "output_type": "stream",
     "text": [
      "[*********************100%***********************]  1 of 1 completed\n"
     ]
    },
    {
     "name": "stdout",
     "output_type": "stream",
     "text": [
      "Uploaded ./output/7600.parquet to gs://stock-data-bucket_hopop/7600.parquet\n",
      "Loaded data into BigQuery table dbt-analytics-engineer-435907.stock_dataset.stock_data from gs://stock-data-bucket_hopop/7600.parquet.\n"
     ]
    },
    {
     "name": "stderr",
     "output_type": "stream",
     "text": [
      "[*********************100%***********************]  1 of 1 completed\n"
     ]
    },
    {
     "name": "stdout",
     "output_type": "stream",
     "text": [
      "Uploaded ./output/4629.parquet to gs://stock-data-bucket_hopop/4629.parquet\n",
      "Loaded data into BigQuery table dbt-analytics-engineer-435907.stock_dataset.stock_data from gs://stock-data-bucket_hopop/4629.parquet.\n"
     ]
    },
    {
     "name": "stderr",
     "output_type": "stream",
     "text": [
      "[*********************100%***********************]  1 of 1 completed\n"
     ]
    },
    {
     "name": "stdout",
     "output_type": "stream",
     "text": [
      "Uploaded ./output/3461.parquet to gs://stock-data-bucket_hopop/3461.parquet\n",
      "Loaded data into BigQuery table dbt-analytics-engineer-435907.stock_dataset.stock_data from gs://stock-data-bucket_hopop/3461.parquet.\n"
     ]
    },
    {
     "name": "stderr",
     "output_type": "stream",
     "text": [
      "[*********************100%***********************]  1 of 1 completed\n"
     ]
    },
    {
     "name": "stdout",
     "output_type": "stream",
     "text": [
      "Uploaded ./output/7596.parquet to gs://stock-data-bucket_hopop/7596.parquet\n",
      "Loaded data into BigQuery table dbt-analytics-engineer-435907.stock_dataset.stock_data from gs://stock-data-bucket_hopop/7596.parquet.\n"
     ]
    },
    {
     "name": "stderr",
     "output_type": "stream",
     "text": [
      "[*********************100%***********************]  1 of 1 completed\n"
     ]
    },
    {
     "name": "stdout",
     "output_type": "stream",
     "text": [
      "Uploaded ./output/6195.parquet to gs://stock-data-bucket_hopop/6195.parquet\n",
      "Loaded data into BigQuery table dbt-analytics-engineer-435907.stock_dataset.stock_data from gs://stock-data-bucket_hopop/6195.parquet.\n"
     ]
    },
    {
     "name": "stderr",
     "output_type": "stream",
     "text": [
      "[*********************100%***********************]  1 of 1 completed\n"
     ]
    },
    {
     "name": "stdout",
     "output_type": "stream",
     "text": [
      "Uploaded ./output/7559.parquet to gs://stock-data-bucket_hopop/7559.parquet\n",
      "Loaded data into BigQuery table dbt-analytics-engineer-435907.stock_dataset.stock_data from gs://stock-data-bucket_hopop/7559.parquet.\n"
     ]
    },
    {
     "name": "stderr",
     "output_type": "stream",
     "text": [
      "[*********************100%***********************]  1 of 1 completed\n"
     ]
    },
    {
     "name": "stdout",
     "output_type": "stream",
     "text": [
      "Uploaded ./output/4287.parquet to gs://stock-data-bucket_hopop/4287.parquet\n",
      "Loaded data into BigQuery table dbt-analytics-engineer-435907.stock_dataset.stock_data from gs://stock-data-bucket_hopop/4287.parquet.\n"
     ]
    },
    {
     "name": "stderr",
     "output_type": "stream",
     "text": [
      "[*********************100%***********************]  1 of 1 completed\n"
     ]
    },
    {
     "name": "stdout",
     "output_type": "stream",
     "text": [
      "Uploaded ./output/2169.parquet to gs://stock-data-bucket_hopop/2169.parquet\n",
      "Loaded data into BigQuery table dbt-analytics-engineer-435907.stock_dataset.stock_data from gs://stock-data-bucket_hopop/2169.parquet.\n"
     ]
    },
    {
     "name": "stderr",
     "output_type": "stream",
     "text": [
      "[*********************100%***********************]  1 of 1 completed\n",
      "\n",
      "1 Failed download:\n",
      "['1645.T']: YFPricesMissingError('$%ticker%: possibly delisted; no price data found  (1d 2024-01-01 -> 2024-09-30)')\n"
     ]
    },
    {
     "name": "stdout",
     "output_type": "stream",
     "text": [
      "No data found for 1645.T. Skipping...\n"
     ]
    },
    {
     "name": "stderr",
     "output_type": "stream",
     "text": [
      "[*********************100%***********************]  1 of 1 completed\n"
     ]
    },
    {
     "name": "stdout",
     "output_type": "stream",
     "text": [
      "Uploaded ./output/6265.parquet to gs://stock-data-bucket_hopop/6265.parquet\n",
      "Loaded data into BigQuery table dbt-analytics-engineer-435907.stock_dataset.stock_data from gs://stock-data-bucket_hopop/6265.parquet.\n"
     ]
    },
    {
     "name": "stderr",
     "output_type": "stream",
     "text": [
      "[*********************100%***********************]  1 of 1 completed\n"
     ]
    },
    {
     "name": "stdout",
     "output_type": "stream",
     "text": [
      "Uploaded ./output/7313.parquet to gs://stock-data-bucket_hopop/7313.parquet\n",
      "Loaded data into BigQuery table dbt-analytics-engineer-435907.stock_dataset.stock_data from gs://stock-data-bucket_hopop/7313.parquet.\n"
     ]
    },
    {
     "name": "stderr",
     "output_type": "stream",
     "text": [
      "[*********************100%***********************]  1 of 1 completed\n"
     ]
    },
    {
     "name": "stdout",
     "output_type": "stream",
     "text": [
      "Uploaded ./output/7296.parquet to gs://stock-data-bucket_hopop/7296.parquet\n",
      "Loaded data into BigQuery table dbt-analytics-engineer-435907.stock_dataset.stock_data from gs://stock-data-bucket_hopop/7296.parquet.\n"
     ]
    },
    {
     "name": "stderr",
     "output_type": "stream",
     "text": [
      "[*********************100%***********************]  1 of 1 completed\n"
     ]
    },
    {
     "name": "stdout",
     "output_type": "stream",
     "text": [
      "Uploaded ./output/7267.parquet to gs://stock-data-bucket_hopop/7267.parquet\n",
      "Loaded data into BigQuery table dbt-analytics-engineer-435907.stock_dataset.stock_data from gs://stock-data-bucket_hopop/7267.parquet.\n"
     ]
    },
    {
     "name": "stderr",
     "output_type": "stream",
     "text": [
      "[*********************100%***********************]  1 of 1 completed\n"
     ]
    },
    {
     "name": "stdout",
     "output_type": "stream",
     "text": [
      "Uploaded ./output/7218.parquet to gs://stock-data-bucket_hopop/7218.parquet\n",
      "Loaded data into BigQuery table dbt-analytics-engineer-435907.stock_dataset.stock_data from gs://stock-data-bucket_hopop/7218.parquet.\n"
     ]
    },
    {
     "name": "stderr",
     "output_type": "stream",
     "text": [
      "[*********************100%***********************]  1 of 1 completed\n"
     ]
    },
    {
     "name": "stdout",
     "output_type": "stream",
     "text": [
      "Uploaded ./output/2307.parquet to gs://stock-data-bucket_hopop/2307.parquet\n",
      "Loaded data into BigQuery table dbt-analytics-engineer-435907.stock_dataset.stock_data from gs://stock-data-bucket_hopop/2307.parquet.\n"
     ]
    },
    {
     "name": "stderr",
     "output_type": "stream",
     "text": [
      "[*********************100%***********************]  1 of 1 completed\n",
      "\n",
      "1 Failed download:\n",
      "['4739.T']: YFTzMissingError('$%ticker%: possibly delisted; no timezone found')\n"
     ]
    },
    {
     "name": "stdout",
     "output_type": "stream",
     "text": [
      "No data found for 4739.T. Skipping...\n"
     ]
    },
    {
     "name": "stderr",
     "output_type": "stream",
     "text": [
      "[*********************100%***********************]  1 of 1 completed\n"
     ]
    },
    {
     "name": "stdout",
     "output_type": "stream",
     "text": [
      "Uploaded ./output/7173.parquet to gs://stock-data-bucket_hopop/7173.parquet\n",
      "Loaded data into BigQuery table dbt-analytics-engineer-435907.stock_dataset.stock_data from gs://stock-data-bucket_hopop/7173.parquet.\n"
     ]
    },
    {
     "name": "stderr",
     "output_type": "stream",
     "text": [
      "[*********************100%***********************]  1 of 1 completed\n"
     ]
    },
    {
     "name": "stdout",
     "output_type": "stream",
     "text": [
      "Uploaded ./output/3417.parquet to gs://stock-data-bucket_hopop/3417.parquet\n",
      "Loaded data into BigQuery table dbt-analytics-engineer-435907.stock_dataset.stock_data from gs://stock-data-bucket_hopop/3417.parquet.\n"
     ]
    },
    {
     "name": "stderr",
     "output_type": "stream",
     "text": [
      "[*********************100%***********************]  1 of 1 completed\n"
     ]
    },
    {
     "name": "stdout",
     "output_type": "stream",
     "text": [
      "Uploaded ./output/2353.parquet to gs://stock-data-bucket_hopop/2353.parquet\n",
      "Loaded data into BigQuery table dbt-analytics-engineer-435907.stock_dataset.stock_data from gs://stock-data-bucket_hopop/2353.parquet.\n"
     ]
    },
    {
     "name": "stderr",
     "output_type": "stream",
     "text": [
      "[*********************100%***********************]  1 of 1 completed\n"
     ]
    },
    {
     "name": "stdout",
     "output_type": "stream",
     "text": [
      "Uploaded ./output/7205.parquet to gs://stock-data-bucket_hopop/7205.parquet\n",
      "Loaded data into BigQuery table dbt-analytics-engineer-435907.stock_dataset.stock_data from gs://stock-data-bucket_hopop/7205.parquet.\n"
     ]
    },
    {
     "name": "stderr",
     "output_type": "stream",
     "text": [
      "[*********************100%***********************]  1 of 1 completed\n"
     ]
    },
    {
     "name": "stdout",
     "output_type": "stream",
     "text": [
      "Uploaded ./output/7616.parquet to gs://stock-data-bucket_hopop/7616.parquet\n",
      "Loaded data into BigQuery table dbt-analytics-engineer-435907.stock_dataset.stock_data from gs://stock-data-bucket_hopop/7616.parquet.\n"
     ]
    },
    {
     "name": "stderr",
     "output_type": "stream",
     "text": [
      "[*********************100%***********************]  1 of 1 completed\n"
     ]
    },
    {
     "name": "stdout",
     "output_type": "stream",
     "text": [
      "Uploaded ./output/6981.parquet to gs://stock-data-bucket_hopop/6981.parquet\n",
      "Loaded data into BigQuery table dbt-analytics-engineer-435907.stock_dataset.stock_data from gs://stock-data-bucket_hopop/6981.parquet.\n"
     ]
    },
    {
     "name": "stderr",
     "output_type": "stream",
     "text": [
      "[*********************100%***********************]  1 of 1 completed\n"
     ]
    },
    {
     "name": "stdout",
     "output_type": "stream",
     "text": [
      "Uploaded ./output/6971.parquet to gs://stock-data-bucket_hopop/6971.parquet\n",
      "Loaded data into BigQuery table dbt-analytics-engineer-435907.stock_dataset.stock_data from gs://stock-data-bucket_hopop/6971.parquet.\n"
     ]
    },
    {
     "name": "stderr",
     "output_type": "stream",
     "text": [
      "[*********************100%***********************]  1 of 1 completed\n"
     ]
    },
    {
     "name": "stdout",
     "output_type": "stream",
     "text": [
      "Uploaded ./output/8081.parquet to gs://stock-data-bucket_hopop/8081.parquet\n",
      "Loaded data into BigQuery table dbt-analytics-engineer-435907.stock_dataset.stock_data from gs://stock-data-bucket_hopop/8081.parquet.\n"
     ]
    },
    {
     "name": "stderr",
     "output_type": "stream",
     "text": [
      "[*********************100%***********************]  1 of 1 completed\n"
     ]
    },
    {
     "name": "stdout",
     "output_type": "stream",
     "text": [
      "Uploaded ./output/6960.parquet to gs://stock-data-bucket_hopop/6960.parquet\n",
      "Loaded data into BigQuery table dbt-analytics-engineer-435907.stock_dataset.stock_data from gs://stock-data-bucket_hopop/6960.parquet.\n"
     ]
    },
    {
     "name": "stderr",
     "output_type": "stream",
     "text": [
      "[*********************100%***********************]  1 of 1 completed\n"
     ]
    },
    {
     "name": "stdout",
     "output_type": "stream",
     "text": [
      "Uploaded ./output/3733.parquet to gs://stock-data-bucket_hopop/3733.parquet\n",
      "Loaded data into BigQuery table dbt-analytics-engineer-435907.stock_dataset.stock_data from gs://stock-data-bucket_hopop/3733.parquet.\n"
     ]
    },
    {
     "name": "stderr",
     "output_type": "stream",
     "text": [
      "[*********************100%***********************]  1 of 1 completed\n"
     ]
    },
    {
     "name": "stdout",
     "output_type": "stream",
     "text": [
      "Uploaded ./output/6923.parquet to gs://stock-data-bucket_hopop/6923.parquet\n",
      "Loaded data into BigQuery table dbt-analytics-engineer-435907.stock_dataset.stock_data from gs://stock-data-bucket_hopop/6923.parquet.\n"
     ]
    },
    {
     "name": "stderr",
     "output_type": "stream",
     "text": [
      "[*********************100%***********************]  1 of 1 completed\n",
      "\n",
      "1 Failed download:\n",
      "['6826.T']: YFTzMissingError('$%ticker%: possibly delisted; no timezone found')\n"
     ]
    },
    {
     "name": "stdout",
     "output_type": "stream",
     "text": [
      "No data found for 6826.T. Skipping...\n"
     ]
    },
    {
     "name": "stderr",
     "output_type": "stream",
     "text": [
      "[*********************100%***********************]  1 of 1 completed\n"
     ]
    },
    {
     "name": "stdout",
     "output_type": "stream",
     "text": [
      "Uploaded ./output/4316.parquet to gs://stock-data-bucket_hopop/4316.parquet\n",
      "Loaded data into BigQuery table dbt-analytics-engineer-435907.stock_dataset.stock_data from gs://stock-data-bucket_hopop/4316.parquet.\n"
     ]
    },
    {
     "name": "stderr",
     "output_type": "stream",
     "text": [
      "[*********************100%***********************]  1 of 1 completed\n"
     ]
    },
    {
     "name": "stdout",
     "output_type": "stream",
     "text": [
      "Uploaded ./output/6724.parquet to gs://stock-data-bucket_hopop/6724.parquet\n",
      "Loaded data into BigQuery table dbt-analytics-engineer-435907.stock_dataset.stock_data from gs://stock-data-bucket_hopop/6724.parquet.\n"
     ]
    },
    {
     "name": "stderr",
     "output_type": "stream",
     "text": [
      "[*********************100%***********************]  1 of 1 completed\n"
     ]
    },
    {
     "name": "stdout",
     "output_type": "stream",
     "text": [
      "Uploaded ./output/6702.parquet to gs://stock-data-bucket_hopop/6702.parquet\n",
      "Loaded data into BigQuery table dbt-analytics-engineer-435907.stock_dataset.stock_data from gs://stock-data-bucket_hopop/6702.parquet.\n"
     ]
    },
    {
     "name": "stderr",
     "output_type": "stream",
     "text": [
      "[*********************100%***********************]  1 of 1 completed\n",
      "\n",
      "1 Failed download:\n",
      "['6624.T']: YFTzMissingError('$%ticker%: possibly delisted; no timezone found')\n"
     ]
    },
    {
     "name": "stdout",
     "output_type": "stream",
     "text": [
      "No data found for 6624.T. Skipping...\n"
     ]
    },
    {
     "name": "stderr",
     "output_type": "stream",
     "text": [
      "[*********************100%***********************]  1 of 1 completed\n"
     ]
    },
    {
     "name": "stdout",
     "output_type": "stream",
     "text": [
      "Uploaded ./output/1928.parquet to gs://stock-data-bucket_hopop/1928.parquet\n",
      "Loaded data into BigQuery table dbt-analytics-engineer-435907.stock_dataset.stock_data from gs://stock-data-bucket_hopop/1928.parquet.\n"
     ]
    },
    {
     "name": "stderr",
     "output_type": "stream",
     "text": [
      "[*********************100%***********************]  1 of 1 completed\n"
     ]
    },
    {
     "name": "stdout",
     "output_type": "stream",
     "text": [
      "Uploaded ./output/6484.parquet to gs://stock-data-bucket_hopop/6484.parquet\n",
      "Loaded data into BigQuery table dbt-analytics-engineer-435907.stock_dataset.stock_data from gs://stock-data-bucket_hopop/6484.parquet.\n"
     ]
    },
    {
     "name": "stderr",
     "output_type": "stream",
     "text": [
      "[*********************100%***********************]  1 of 1 completed\n"
     ]
    },
    {
     "name": "stdout",
     "output_type": "stream",
     "text": [
      "Uploaded ./output/8200.parquet to gs://stock-data-bucket_hopop/8200.parquet\n",
      "Loaded data into BigQuery table dbt-analytics-engineer-435907.stock_dataset.stock_data from gs://stock-data-bucket_hopop/8200.parquet.\n"
     ]
    },
    {
     "name": "stderr",
     "output_type": "stream",
     "text": [
      "[*********************100%***********************]  1 of 1 completed\n"
     ]
    },
    {
     "name": "stdout",
     "output_type": "stream",
     "text": [
      "Uploaded ./output/6302.parquet to gs://stock-data-bucket_hopop/6302.parquet\n",
      "Loaded data into BigQuery table dbt-analytics-engineer-435907.stock_dataset.stock_data from gs://stock-data-bucket_hopop/6302.parquet.\n"
     ]
    },
    {
     "name": "stderr",
     "output_type": "stream",
     "text": [
      "[*********************100%***********************]  1 of 1 completed\n",
      "\n",
      "1 Failed download:\n",
      "['2417.T']: YFTzMissingError('$%ticker%: possibly delisted; no timezone found')\n"
     ]
    },
    {
     "name": "stdout",
     "output_type": "stream",
     "text": [
      "No data found for 2417.T. Skipping...\n"
     ]
    },
    {
     "name": "stderr",
     "output_type": "stream",
     "text": [
      "[*********************100%***********************]  1 of 1 completed\n"
     ]
    },
    {
     "name": "stdout",
     "output_type": "stream",
     "text": [
      "Uploaded ./output/6301.parquet to gs://stock-data-bucket_hopop/6301.parquet\n",
      "Loaded data into BigQuery table dbt-analytics-engineer-435907.stock_dataset.stock_data from gs://stock-data-bucket_hopop/6301.parquet.\n"
     ]
    },
    {
     "name": "stderr",
     "output_type": "stream",
     "text": [
      "[*********************100%***********************]  1 of 1 completed\n"
     ]
    },
    {
     "name": "stdout",
     "output_type": "stream",
     "text": [
      "Uploaded ./output/6659.parquet to gs://stock-data-bucket_hopop/6659.parquet\n",
      "Loaded data into BigQuery table dbt-analytics-engineer-435907.stock_dataset.stock_data from gs://stock-data-bucket_hopop/6659.parquet.\n"
     ]
    },
    {
     "name": "stderr",
     "output_type": "stream",
     "text": [
      "[*********************100%***********************]  1 of 1 completed\n"
     ]
    },
    {
     "name": "stdout",
     "output_type": "stream",
     "text": [
      "Uploaded ./output/6257.parquet to gs://stock-data-bucket_hopop/6257.parquet\n",
      "Loaded data into BigQuery table dbt-analytics-engineer-435907.stock_dataset.stock_data from gs://stock-data-bucket_hopop/6257.parquet.\n"
     ]
    },
    {
     "name": "stderr",
     "output_type": "stream",
     "text": [
      "[*********************100%***********************]  1 of 1 completed\n"
     ]
    },
    {
     "name": "stdout",
     "output_type": "stream",
     "text": [
      "Uploaded ./output/7482.parquet to gs://stock-data-bucket_hopop/7482.parquet\n",
      "Loaded data into BigQuery table dbt-analytics-engineer-435907.stock_dataset.stock_data from gs://stock-data-bucket_hopop/7482.parquet.\n"
     ]
    },
    {
     "name": "stderr",
     "output_type": "stream",
     "text": [
      "[*********************100%***********************]  1 of 1 completed\n"
     ]
    },
    {
     "name": "stdout",
     "output_type": "stream",
     "text": [
      "Uploaded ./output/6104.parquet to gs://stock-data-bucket_hopop/6104.parquet\n",
      "Loaded data into BigQuery table dbt-analytics-engineer-435907.stock_dataset.stock_data from gs://stock-data-bucket_hopop/6104.parquet.\n"
     ]
    },
    {
     "name": "stderr",
     "output_type": "stream",
     "text": [
      "[*********************100%***********************]  1 of 1 completed\n"
     ]
    },
    {
     "name": "stdout",
     "output_type": "stream",
     "text": [
      "Uploaded ./output/9842.parquet to gs://stock-data-bucket_hopop/9842.parquet\n",
      "Loaded data into BigQuery table dbt-analytics-engineer-435907.stock_dataset.stock_data from gs://stock-data-bucket_hopop/9842.parquet.\n"
     ]
    },
    {
     "name": "stderr",
     "output_type": "stream",
     "text": [
      "[*********************100%***********************]  1 of 1 completed\n"
     ]
    },
    {
     "name": "stdout",
     "output_type": "stream",
     "text": [
      "Uploaded ./output/6088.parquet to gs://stock-data-bucket_hopop/6088.parquet\n",
      "Loaded data into BigQuery table dbt-analytics-engineer-435907.stock_dataset.stock_data from gs://stock-data-bucket_hopop/6088.parquet.\n"
     ]
    },
    {
     "name": "stderr",
     "output_type": "stream",
     "text": [
      "[*********************100%***********************]  1 of 1 completed\n"
     ]
    },
    {
     "name": "stdout",
     "output_type": "stream",
     "text": [
      "Uploaded ./output/6080.parquet to gs://stock-data-bucket_hopop/6080.parquet\n",
      "Loaded data into BigQuery table dbt-analytics-engineer-435907.stock_dataset.stock_data from gs://stock-data-bucket_hopop/6080.parquet.\n"
     ]
    },
    {
     "name": "stderr",
     "output_type": "stream",
     "text": [
      "[*********************100%***********************]  1 of 1 completed\n"
     ]
    },
    {
     "name": "stdout",
     "output_type": "stream",
     "text": [
      "Uploaded ./output/7780.parquet to gs://stock-data-bucket_hopop/7780.parquet\n",
      "Loaded data into BigQuery table dbt-analytics-engineer-435907.stock_dataset.stock_data from gs://stock-data-bucket_hopop/7780.parquet.\n"
     ]
    },
    {
     "name": "stderr",
     "output_type": "stream",
     "text": [
      "[*********************100%***********************]  1 of 1 completed\n",
      "\n",
      "1 Failed download:\n",
      "['2902.T']: YFTzMissingError('$%ticker%: possibly delisted; no timezone found')\n"
     ]
    },
    {
     "name": "stdout",
     "output_type": "stream",
     "text": [
      "No data found for 2902.T. Skipping...\n"
     ]
    },
    {
     "name": "stderr",
     "output_type": "stream",
     "text": [
      "[*********************100%***********************]  1 of 1 completed\n"
     ]
    },
    {
     "name": "stdout",
     "output_type": "stream",
     "text": [
      "Uploaded ./output/5906.parquet to gs://stock-data-bucket_hopop/5906.parquet\n",
      "Loaded data into BigQuery table dbt-analytics-engineer-435907.stock_dataset.stock_data from gs://stock-data-bucket_hopop/5906.parquet.\n"
     ]
    },
    {
     "name": "stderr",
     "output_type": "stream",
     "text": [
      "[*********************100%***********************]  1 of 1 completed\n"
     ]
    },
    {
     "name": "stdout",
     "output_type": "stream",
     "text": [
      "Uploaded ./output/3569.parquet to gs://stock-data-bucket_hopop/3569.parquet\n",
      "Loaded data into BigQuery table dbt-analytics-engineer-435907.stock_dataset.stock_data from gs://stock-data-bucket_hopop/3569.parquet.\n"
     ]
    },
    {
     "name": "stderr",
     "output_type": "stream",
     "text": [
      "[*********************100%***********************]  1 of 1 completed\n"
     ]
    },
    {
     "name": "stdout",
     "output_type": "stream",
     "text": [
      "Uploaded ./output/5816.parquet to gs://stock-data-bucket_hopop/5816.parquet\n",
      "Loaded data into BigQuery table dbt-analytics-engineer-435907.stock_dataset.stock_data from gs://stock-data-bucket_hopop/5816.parquet.\n"
     ]
    },
    {
     "name": "stderr",
     "output_type": "stream",
     "text": [
      "[*********************100%***********************]  1 of 1 completed\n",
      "\n",
      "1 Failed download:\n",
      "['2412.T']: YFTzMissingError('$%ticker%: possibly delisted; no timezone found')\n"
     ]
    },
    {
     "name": "stdout",
     "output_type": "stream",
     "text": [
      "No data found for 2412.T. Skipping...\n"
     ]
    },
    {
     "name": "stderr",
     "output_type": "stream",
     "text": [
      "[*********************100%***********************]  1 of 1 completed\n"
     ]
    },
    {
     "name": "stdout",
     "output_type": "stream",
     "text": [
      "Uploaded ./output/5727.parquet to gs://stock-data-bucket_hopop/5727.parquet\n",
      "Loaded data into BigQuery table dbt-analytics-engineer-435907.stock_dataset.stock_data from gs://stock-data-bucket_hopop/5727.parquet.\n"
     ]
    },
    {
     "name": "stderr",
     "output_type": "stream",
     "text": [
      "[*********************100%***********************]  1 of 1 completed\n"
     ]
    },
    {
     "name": "stdout",
     "output_type": "stream",
     "text": [
      "Uploaded ./output/5724.parquet to gs://stock-data-bucket_hopop/5724.parquet\n",
      "Loaded data into BigQuery table dbt-analytics-engineer-435907.stock_dataset.stock_data from gs://stock-data-bucket_hopop/5724.parquet.\n"
     ]
    },
    {
     "name": "stderr",
     "output_type": "stream",
     "text": [
      "[*********************100%***********************]  1 of 1 completed\n"
     ]
    },
    {
     "name": "stdout",
     "output_type": "stream",
     "text": [
      "Uploaded ./output/2345.parquet to gs://stock-data-bucket_hopop/2345.parquet\n",
      "Loaded data into BigQuery table dbt-analytics-engineer-435907.stock_dataset.stock_data from gs://stock-data-bucket_hopop/2345.parquet.\n"
     ]
    },
    {
     "name": "stderr",
     "output_type": "stream",
     "text": [
      "[*********************100%***********************]  1 of 1 completed\n"
     ]
    },
    {
     "name": "stdout",
     "output_type": "stream",
     "text": [
      "Uploaded ./output/5658.parquet to gs://stock-data-bucket_hopop/5658.parquet\n",
      "Loaded data into BigQuery table dbt-analytics-engineer-435907.stock_dataset.stock_data from gs://stock-data-bucket_hopop/5658.parquet.\n"
     ]
    },
    {
     "name": "stderr",
     "output_type": "stream",
     "text": [
      "[*********************100%***********************]  1 of 1 completed\n"
     ]
    },
    {
     "name": "stdout",
     "output_type": "stream",
     "text": [
      "Uploaded ./output/3091.parquet to gs://stock-data-bucket_hopop/3091.parquet\n",
      "Loaded data into BigQuery table dbt-analytics-engineer-435907.stock_dataset.stock_data from gs://stock-data-bucket_hopop/3091.parquet.\n"
     ]
    },
    {
     "name": "stderr",
     "output_type": "stream",
     "text": [
      "[*********************100%***********************]  1 of 1 completed\n"
     ]
    },
    {
     "name": "stdout",
     "output_type": "stream",
     "text": [
      "Uploaded ./output/8058.parquet to gs://stock-data-bucket_hopop/8058.parquet\n",
      "Loaded data into BigQuery table dbt-analytics-engineer-435907.stock_dataset.stock_data from gs://stock-data-bucket_hopop/8058.parquet.\n"
     ]
    },
    {
     "name": "stderr",
     "output_type": "stream",
     "text": [
      "[*********************100%***********************]  1 of 1 completed\n"
     ]
    },
    {
     "name": "stdout",
     "output_type": "stream",
     "text": [
      "Uploaded ./output/5285.parquet to gs://stock-data-bucket_hopop/5285.parquet\n",
      "Loaded data into BigQuery table dbt-analytics-engineer-435907.stock_dataset.stock_data from gs://stock-data-bucket_hopop/5285.parquet.\n"
     ]
    },
    {
     "name": "stderr",
     "output_type": "stream",
     "text": [
      "[*********************100%***********************]  1 of 1 completed\n"
     ]
    },
    {
     "name": "stdout",
     "output_type": "stream",
     "text": [
      "Uploaded ./output/8801.parquet to gs://stock-data-bucket_hopop/8801.parquet\n",
      "Loaded data into BigQuery table dbt-analytics-engineer-435907.stock_dataset.stock_data from gs://stock-data-bucket_hopop/8801.parquet.\n"
     ]
    },
    {
     "name": "stderr",
     "output_type": "stream",
     "text": [
      "[*********************100%***********************]  1 of 1 completed\n"
     ]
    },
    {
     "name": "stdout",
     "output_type": "stream",
     "text": [
      "Uploaded ./output/7256.parquet to gs://stock-data-bucket_hopop/7256.parquet\n",
      "Loaded data into BigQuery table dbt-analytics-engineer-435907.stock_dataset.stock_data from gs://stock-data-bucket_hopop/7256.parquet.\n"
     ]
    },
    {
     "name": "stderr",
     "output_type": "stream",
     "text": [
      "[*********************100%***********************]  1 of 1 completed\n"
     ]
    },
    {
     "name": "stdout",
     "output_type": "stream",
     "text": [
      "Uploaded ./output/2875.parquet to gs://stock-data-bucket_hopop/2875.parquet\n",
      "Loaded data into BigQuery table dbt-analytics-engineer-435907.stock_dataset.stock_data from gs://stock-data-bucket_hopop/2875.parquet.\n"
     ]
    },
    {
     "name": "stderr",
     "output_type": "stream",
     "text": [
      "[*********************100%***********************]  1 of 1 completed\n"
     ]
    },
    {
     "name": "stdout",
     "output_type": "stream",
     "text": [
      "Uploaded ./output/5261.parquet to gs://stock-data-bucket_hopop/5261.parquet\n",
      "Loaded data into BigQuery table dbt-analytics-engineer-435907.stock_dataset.stock_data from gs://stock-data-bucket_hopop/5261.parquet.\n"
     ]
    },
    {
     "name": "stderr",
     "output_type": "stream",
     "text": [
      "[*********************100%***********************]  1 of 1 completed\n"
     ]
    },
    {
     "name": "stdout",
     "output_type": "stream",
     "text": [
      "Uploaded ./output/9755.parquet to gs://stock-data-bucket_hopop/9755.parquet\n",
      "Loaded data into BigQuery table dbt-analytics-engineer-435907.stock_dataset.stock_data from gs://stock-data-bucket_hopop/9755.parquet.\n"
     ]
    },
    {
     "name": "stderr",
     "output_type": "stream",
     "text": [
      "[*********************100%***********************]  1 of 1 completed\n",
      "\n",
      "1 Failed download:\n",
      "['5012.T']: YFPricesMissingError('$%ticker%: possibly delisted; no price data found  (1d 2024-01-01 -> 2024-09-30)')\n"
     ]
    },
    {
     "name": "stdout",
     "output_type": "stream",
     "text": [
      "No data found for 5012.T. Skipping...\n"
     ]
    },
    {
     "name": "stderr",
     "output_type": "stream",
     "text": [
      "[*********************100%***********************]  1 of 1 completed\n"
     ]
    },
    {
     "name": "stdout",
     "output_type": "stream",
     "text": [
      "Uploaded ./output/9416.parquet to gs://stock-data-bucket_hopop/9416.parquet\n",
      "Loaded data into BigQuery table dbt-analytics-engineer-435907.stock_dataset.stock_data from gs://stock-data-bucket_hopop/9416.parquet.\n"
     ]
    },
    {
     "name": "stderr",
     "output_type": "stream",
     "text": [
      "[*********************100%***********************]  1 of 1 completed\n"
     ]
    },
    {
     "name": "stdout",
     "output_type": "stream",
     "text": [
      "Uploaded ./output/4769.parquet to gs://stock-data-bucket_hopop/4769.parquet\n",
      "Loaded data into BigQuery table dbt-analytics-engineer-435907.stock_dataset.stock_data from gs://stock-data-bucket_hopop/4769.parquet.\n"
     ]
    },
    {
     "name": "stderr",
     "output_type": "stream",
     "text": [
      "[*********************100%***********************]  1 of 1 completed\n"
     ]
    },
    {
     "name": "stdout",
     "output_type": "stream",
     "text": [
      "Uploaded ./output/6364.parquet to gs://stock-data-bucket_hopop/6364.parquet\n",
      "Loaded data into BigQuery table dbt-analytics-engineer-435907.stock_dataset.stock_data from gs://stock-data-bucket_hopop/6364.parquet.\n"
     ]
    },
    {
     "name": "stderr",
     "output_type": "stream",
     "text": [
      "[*********************100%***********************]  1 of 1 completed\n"
     ]
    },
    {
     "name": "stdout",
     "output_type": "stream",
     "text": [
      "Uploaded ./output/4718.parquet to gs://stock-data-bucket_hopop/4718.parquet\n",
      "Loaded data into BigQuery table dbt-analytics-engineer-435907.stock_dataset.stock_data from gs://stock-data-bucket_hopop/4718.parquet.\n"
     ]
    },
    {
     "name": "stderr",
     "output_type": "stream",
     "text": [
      "[*********************100%***********************]  1 of 1 completed\n"
     ]
    },
    {
     "name": "stdout",
     "output_type": "stream",
     "text": [
      "Uploaded ./output/7782.parquet to gs://stock-data-bucket_hopop/7782.parquet\n",
      "Loaded data into BigQuery table dbt-analytics-engineer-435907.stock_dataset.stock_data from gs://stock-data-bucket_hopop/7782.parquet.\n"
     ]
    },
    {
     "name": "stderr",
     "output_type": "stream",
     "text": [
      "[*********************100%***********************]  1 of 1 completed\n"
     ]
    },
    {
     "name": "stdout",
     "output_type": "stream",
     "text": [
      "Uploaded ./output/6284.parquet to gs://stock-data-bucket_hopop/6284.parquet\n",
      "Loaded data into BigQuery table dbt-analytics-engineer-435907.stock_dataset.stock_data from gs://stock-data-bucket_hopop/6284.parquet.\n"
     ]
    },
    {
     "name": "stderr",
     "output_type": "stream",
     "text": [
      "[*********************100%***********************]  1 of 1 completed\n"
     ]
    },
    {
     "name": "stdout",
     "output_type": "stream",
     "text": [
      "Uploaded ./output/7277.parquet to gs://stock-data-bucket_hopop/7277.parquet\n",
      "Loaded data into BigQuery table dbt-analytics-engineer-435907.stock_dataset.stock_data from gs://stock-data-bucket_hopop/7277.parquet.\n"
     ]
    },
    {
     "name": "stderr",
     "output_type": "stream",
     "text": [
      "[*********************100%***********************]  1 of 1 completed\n"
     ]
    },
    {
     "name": "stdout",
     "output_type": "stream",
     "text": [
      "Uploaded ./output/3845.parquet to gs://stock-data-bucket_hopop/3845.parquet\n",
      "Loaded data into BigQuery table dbt-analytics-engineer-435907.stock_dataset.stock_data from gs://stock-data-bucket_hopop/3845.parquet.\n"
     ]
    },
    {
     "name": "stderr",
     "output_type": "stream",
     "text": [
      "[*********************100%***********************]  1 of 1 completed\n",
      "\n",
      "1 Failed download:\n",
      "['4695.T']: YFTzMissingError('$%ticker%: possibly delisted; no timezone found')\n"
     ]
    },
    {
     "name": "stdout",
     "output_type": "stream",
     "text": [
      "No data found for 4695.T. Skipping...\n"
     ]
    },
    {
     "name": "stderr",
     "output_type": "stream",
     "text": [
      "[*********************100%***********************]  1 of 1 completed\n"
     ]
    },
    {
     "name": "stdout",
     "output_type": "stream",
     "text": [
      "Uploaded ./output/8253.parquet to gs://stock-data-bucket_hopop/8253.parquet\n",
      "Loaded data into BigQuery table dbt-analytics-engineer-435907.stock_dataset.stock_data from gs://stock-data-bucket_hopop/8253.parquet.\n"
     ]
    },
    {
     "name": "stderr",
     "output_type": "stream",
     "text": [
      "[*********************100%***********************]  1 of 1 completed\n"
     ]
    },
    {
     "name": "stdout",
     "output_type": "stream",
     "text": [
      "Uploaded ./output/9508.parquet to gs://stock-data-bucket_hopop/9508.parquet\n",
      "Loaded data into BigQuery table dbt-analytics-engineer-435907.stock_dataset.stock_data from gs://stock-data-bucket_hopop/9508.parquet.\n"
     ]
    },
    {
     "name": "stderr",
     "output_type": "stream",
     "text": [
      "[*********************100%***********************]  1 of 1 completed\n"
     ]
    },
    {
     "name": "stdout",
     "output_type": "stream",
     "text": [
      "Uploaded ./output/4539.parquet to gs://stock-data-bucket_hopop/4539.parquet\n",
      "Loaded data into BigQuery table dbt-analytics-engineer-435907.stock_dataset.stock_data from gs://stock-data-bucket_hopop/4539.parquet.\n"
     ]
    },
    {
     "name": "stderr",
     "output_type": "stream",
     "text": [
      "[*********************100%***********************]  1 of 1 completed\n"
     ]
    },
    {
     "name": "stdout",
     "output_type": "stream",
     "text": [
      "Uploaded ./output/4410.parquet to gs://stock-data-bucket_hopop/4410.parquet\n",
      "Loaded data into BigQuery table dbt-analytics-engineer-435907.stock_dataset.stock_data from gs://stock-data-bucket_hopop/4410.parquet.\n"
     ]
    },
    {
     "name": "stderr",
     "output_type": "stream",
     "text": [
      "[*********************100%***********************]  1 of 1 completed\n"
     ]
    },
    {
     "name": "stdout",
     "output_type": "stream",
     "text": [
      "Uploaded ./output/4318.parquet to gs://stock-data-bucket_hopop/4318.parquet\n",
      "Loaded data into BigQuery table dbt-analytics-engineer-435907.stock_dataset.stock_data from gs://stock-data-bucket_hopop/4318.parquet.\n"
     ]
    },
    {
     "name": "stderr",
     "output_type": "stream",
     "text": [
      "[*********************100%***********************]  1 of 1 completed\n"
     ]
    },
    {
     "name": "stdout",
     "output_type": "stream",
     "text": [
      "Uploaded ./output/3106.parquet to gs://stock-data-bucket_hopop/3106.parquet\n",
      "Loaded data into BigQuery table dbt-analytics-engineer-435907.stock_dataset.stock_data from gs://stock-data-bucket_hopop/3106.parquet.\n"
     ]
    },
    {
     "name": "stderr",
     "output_type": "stream",
     "text": [
      "[*********************100%***********************]  1 of 1 completed\n"
     ]
    },
    {
     "name": "stdout",
     "output_type": "stream",
     "text": [
      "Uploaded ./output/8769.parquet to gs://stock-data-bucket_hopop/8769.parquet\n",
      "Loaded data into BigQuery table dbt-analytics-engineer-435907.stock_dataset.stock_data from gs://stock-data-bucket_hopop/8769.parquet.\n"
     ]
    },
    {
     "name": "stderr",
     "output_type": "stream",
     "text": [
      "[*********************100%***********************]  1 of 1 completed\n"
     ]
    },
    {
     "name": "stdout",
     "output_type": "stream",
     "text": [
      "Uploaded ./output/8410.parquet to gs://stock-data-bucket_hopop/8410.parquet\n",
      "Loaded data into BigQuery table dbt-analytics-engineer-435907.stock_dataset.stock_data from gs://stock-data-bucket_hopop/8410.parquet.\n"
     ]
    },
    {
     "name": "stderr",
     "output_type": "stream",
     "text": [
      "[*********************100%***********************]  1 of 1 completed\n"
     ]
    },
    {
     "name": "stdout",
     "output_type": "stream",
     "text": [
      "Uploaded ./output/4091.parquet to gs://stock-data-bucket_hopop/4091.parquet\n",
      "Loaded data into BigQuery table dbt-analytics-engineer-435907.stock_dataset.stock_data from gs://stock-data-bucket_hopop/4091.parquet.\n"
     ]
    },
    {
     "name": "stderr",
     "output_type": "stream",
     "text": [
      "[*********************100%***********************]  1 of 1 completed\n"
     ]
    },
    {
     "name": "stdout",
     "output_type": "stream",
     "text": [
      "Uploaded ./output/4237.parquet to gs://stock-data-bucket_hopop/4237.parquet\n",
      "Loaded data into BigQuery table dbt-analytics-engineer-435907.stock_dataset.stock_data from gs://stock-data-bucket_hopop/4237.parquet.\n"
     ]
    },
    {
     "name": "stderr",
     "output_type": "stream",
     "text": [
      "[*********************100%***********************]  1 of 1 completed\n",
      "\n",
      "1 Failed download:\n",
      "['3849.T']: YFTzMissingError('$%ticker%: possibly delisted; no timezone found')\n"
     ]
    },
    {
     "name": "stdout",
     "output_type": "stream",
     "text": [
      "No data found for 3849.T. Skipping...\n"
     ]
    },
    {
     "name": "stderr",
     "output_type": "stream",
     "text": [
      "[*********************100%***********************]  1 of 1 completed\n"
     ]
    },
    {
     "name": "stdout",
     "output_type": "stream",
     "text": [
      "Uploaded ./output/9749.parquet to gs://stock-data-bucket_hopop/9749.parquet\n",
      "Loaded data into BigQuery table dbt-analytics-engineer-435907.stock_dataset.stock_data from gs://stock-data-bucket_hopop/9749.parquet.\n"
     ]
    },
    {
     "name": "stderr",
     "output_type": "stream",
     "text": [
      "[*********************100%***********************]  1 of 1 completed\n"
     ]
    },
    {
     "name": "stdout",
     "output_type": "stream",
     "text": [
      "Uploaded ./output/3779.parquet to gs://stock-data-bucket_hopop/3779.parquet\n",
      "Loaded data into BigQuery table dbt-analytics-engineer-435907.stock_dataset.stock_data from gs://stock-data-bucket_hopop/3779.parquet.\n"
     ]
    },
    {
     "name": "stderr",
     "output_type": "stream",
     "text": [
      "[*********************100%***********************]  1 of 1 completed\n"
     ]
    },
    {
     "name": "stdout",
     "output_type": "stream",
     "text": [
      "Uploaded ./output/6174.parquet to gs://stock-data-bucket_hopop/6174.parquet\n",
      "Loaded data into BigQuery table dbt-analytics-engineer-435907.stock_dataset.stock_data from gs://stock-data-bucket_hopop/6174.parquet.\n"
     ]
    },
    {
     "name": "stderr",
     "output_type": "stream",
     "text": [
      "[*********************100%***********************]  1 of 1 completed\n"
     ]
    },
    {
     "name": "stdout",
     "output_type": "stream",
     "text": [
      "Uploaded ./output/4664.parquet to gs://stock-data-bucket_hopop/4664.parquet\n",
      "Loaded data into BigQuery table dbt-analytics-engineer-435907.stock_dataset.stock_data from gs://stock-data-bucket_hopop/4664.parquet.\n"
     ]
    },
    {
     "name": "stderr",
     "output_type": "stream",
     "text": [
      "[*********************100%***********************]  1 of 1 completed\n"
     ]
    },
    {
     "name": "stdout",
     "output_type": "stream",
     "text": [
      "Uploaded ./output/8541.parquet to gs://stock-data-bucket_hopop/8541.parquet\n",
      "Loaded data into BigQuery table dbt-analytics-engineer-435907.stock_dataset.stock_data from gs://stock-data-bucket_hopop/8541.parquet.\n"
     ]
    },
    {
     "name": "stderr",
     "output_type": "stream",
     "text": [
      "[*********************100%***********************]  1 of 1 completed\n"
     ]
    },
    {
     "name": "stdout",
     "output_type": "stream",
     "text": [
      "Uploaded ./output/3744.parquet to gs://stock-data-bucket_hopop/3744.parquet\n",
      "Loaded data into BigQuery table dbt-analytics-engineer-435907.stock_dataset.stock_data from gs://stock-data-bucket_hopop/3744.parquet.\n"
     ]
    },
    {
     "name": "stderr",
     "output_type": "stream",
     "text": [
      "[*********************100%***********************]  1 of 1 completed\n"
     ]
    },
    {
     "name": "stdout",
     "output_type": "stream",
     "text": [
      "Uploaded ./output/1802.parquet to gs://stock-data-bucket_hopop/1802.parquet\n",
      "Loaded data into BigQuery table dbt-analytics-engineer-435907.stock_dataset.stock_data from gs://stock-data-bucket_hopop/1802.parquet.\n"
     ]
    },
    {
     "name": "stderr",
     "output_type": "stream",
     "text": [
      "[*********************100%***********************]  1 of 1 completed\n"
     ]
    },
    {
     "name": "stdout",
     "output_type": "stream",
     "text": [
      "Uploaded ./output/3686.parquet to gs://stock-data-bucket_hopop/3686.parquet\n",
      "Loaded data into BigQuery table dbt-analytics-engineer-435907.stock_dataset.stock_data from gs://stock-data-bucket_hopop/3686.parquet.\n"
     ]
    },
    {
     "name": "stderr",
     "output_type": "stream",
     "text": [
      "[*********************100%***********************]  1 of 1 completed\n",
      "\n",
      "1 Failed download:\n",
      "['3460.T']: YFPricesMissingError('$%ticker%: possibly delisted; no price data found  (1d 2024-01-01 -> 2024-09-30)')\n"
     ]
    },
    {
     "name": "stdout",
     "output_type": "stream",
     "text": [
      "No data found for 3460.T. Skipping...\n"
     ]
    },
    {
     "name": "stderr",
     "output_type": "stream",
     "text": [
      "[*********************100%***********************]  1 of 1 completed\n"
     ]
    },
    {
     "name": "stdout",
     "output_type": "stream",
     "text": [
      "Uploaded ./output/3513.parquet to gs://stock-data-bucket_hopop/3513.parquet\n",
      "Loaded data into BigQuery table dbt-analytics-engineer-435907.stock_dataset.stock_data from gs://stock-data-bucket_hopop/3513.parquet.\n"
     ]
    },
    {
     "name": "stderr",
     "output_type": "stream",
     "text": [
      "[*********************100%***********************]  1 of 1 completed\n"
     ]
    },
    {
     "name": "stdout",
     "output_type": "stream",
     "text": [
      "Uploaded ./output/3388.parquet to gs://stock-data-bucket_hopop/3388.parquet\n",
      "Loaded data into BigQuery table dbt-analytics-engineer-435907.stock_dataset.stock_data from gs://stock-data-bucket_hopop/3388.parquet.\n"
     ]
    },
    {
     "name": "stderr",
     "output_type": "stream",
     "text": [
      "[*********************100%***********************]  1 of 1 completed\n"
     ]
    },
    {
     "name": "stdout",
     "output_type": "stream",
     "text": [
      "Uploaded ./output/3166.parquet to gs://stock-data-bucket_hopop/3166.parquet\n",
      "Loaded data into BigQuery table dbt-analytics-engineer-435907.stock_dataset.stock_data from gs://stock-data-bucket_hopop/3166.parquet.\n"
     ]
    },
    {
     "name": "stderr",
     "output_type": "stream",
     "text": [
      "[*********************100%***********************]  1 of 1 completed\n"
     ]
    },
    {
     "name": "stdout",
     "output_type": "stream",
     "text": [
      "Uploaded ./output/7864.parquet to gs://stock-data-bucket_hopop/7864.parquet\n",
      "Loaded data into BigQuery table dbt-analytics-engineer-435907.stock_dataset.stock_data from gs://stock-data-bucket_hopop/7864.parquet.\n"
     ]
    },
    {
     "name": "stderr",
     "output_type": "stream",
     "text": [
      "[*********************100%***********************]  1 of 1 completed\n"
     ]
    },
    {
     "name": "stdout",
     "output_type": "stream",
     "text": [
      "Uploaded ./output/7774.parquet to gs://stock-data-bucket_hopop/7774.parquet\n",
      "Loaded data into BigQuery table dbt-analytics-engineer-435907.stock_dataset.stock_data from gs://stock-data-bucket_hopop/7774.parquet.\n"
     ]
    },
    {
     "name": "stderr",
     "output_type": "stream",
     "text": [
      "[*********************100%***********************]  1 of 1 completed\n"
     ]
    },
    {
     "name": "stdout",
     "output_type": "stream",
     "text": [
      "Uploaded ./output/6382.parquet to gs://stock-data-bucket_hopop/6382.parquet\n",
      "Loaded data into BigQuery table dbt-analytics-engineer-435907.stock_dataset.stock_data from gs://stock-data-bucket_hopop/6382.parquet.\n"
     ]
    },
    {
     "name": "stderr",
     "output_type": "stream",
     "text": [
      "[*********************100%***********************]  1 of 1 completed\n"
     ]
    },
    {
     "name": "stdout",
     "output_type": "stream",
     "text": [
      "Uploaded ./output/3375.parquet to gs://stock-data-bucket_hopop/3375.parquet\n",
      "Loaded data into BigQuery table dbt-analytics-engineer-435907.stock_dataset.stock_data from gs://stock-data-bucket_hopop/3375.parquet.\n"
     ]
    },
    {
     "name": "stderr",
     "output_type": "stream",
     "text": [
      "[*********************100%***********************]  1 of 1 completed\n"
     ]
    },
    {
     "name": "stdout",
     "output_type": "stream",
     "text": [
      "Uploaded ./output/6473.parquet to gs://stock-data-bucket_hopop/6473.parquet\n",
      "Loaded data into BigQuery table dbt-analytics-engineer-435907.stock_dataset.stock_data from gs://stock-data-bucket_hopop/6473.parquet.\n"
     ]
    },
    {
     "name": "stderr",
     "output_type": "stream",
     "text": [
      "[*********************100%***********************]  1 of 1 completed\n"
     ]
    },
    {
     "name": "stdout",
     "output_type": "stream",
     "text": [
      "Uploaded ./output/8927.parquet to gs://stock-data-bucket_hopop/8927.parquet\n",
      "Loaded data into BigQuery table dbt-analytics-engineer-435907.stock_dataset.stock_data from gs://stock-data-bucket_hopop/8927.parquet.\n"
     ]
    },
    {
     "name": "stderr",
     "output_type": "stream",
     "text": [
      "[*********************100%***********************]  1 of 1 completed\n",
      "\n",
      "1 Failed download:\n",
      "['4640.T']: YFTzMissingError('$%ticker%: possibly delisted; no timezone found')\n"
     ]
    },
    {
     "name": "stdout",
     "output_type": "stream",
     "text": [
      "No data found for 4640.T. Skipping...\n"
     ]
    },
    {
     "name": "stderr",
     "output_type": "stream",
     "text": [
      "[*********************100%***********************]  1 of 1 completed\n"
     ]
    },
    {
     "name": "stdout",
     "output_type": "stream",
     "text": [
      "Uploaded ./output/8923.parquet to gs://stock-data-bucket_hopop/8923.parquet\n",
      "Loaded data into BigQuery table dbt-analytics-engineer-435907.stock_dataset.stock_data from gs://stock-data-bucket_hopop/8923.parquet.\n"
     ]
    },
    {
     "name": "stderr",
     "output_type": "stream",
     "text": [
      "[*********************100%***********************]  1 of 1 completed\n"
     ]
    },
    {
     "name": "stdout",
     "output_type": "stream",
     "text": [
      "Uploaded ./output/3231.parquet to gs://stock-data-bucket_hopop/3231.parquet\n",
      "Loaded data into BigQuery table dbt-analytics-engineer-435907.stock_dataset.stock_data from gs://stock-data-bucket_hopop/3231.parquet.\n"
     ]
    },
    {
     "name": "stderr",
     "output_type": "stream",
     "text": [
      "[*********************100%***********************]  1 of 1 completed\n"
     ]
    },
    {
     "name": "stdout",
     "output_type": "stream",
     "text": [
      "Uploaded ./output/2908.parquet to gs://stock-data-bucket_hopop/2908.parquet\n",
      "Loaded data into BigQuery table dbt-analytics-engineer-435907.stock_dataset.stock_data from gs://stock-data-bucket_hopop/2908.parquet.\n"
     ]
    },
    {
     "name": "stderr",
     "output_type": "stream",
     "text": [
      "[*********************100%***********************]  1 of 1 completed\n"
     ]
    },
    {
     "name": "stdout",
     "output_type": "stream",
     "text": [
      "Uploaded ./output/6138.parquet to gs://stock-data-bucket_hopop/6138.parquet\n",
      "Loaded data into BigQuery table dbt-analytics-engineer-435907.stock_dataset.stock_data from gs://stock-data-bucket_hopop/6138.parquet.\n"
     ]
    },
    {
     "name": "stderr",
     "output_type": "stream",
     "text": [
      "[*********************100%***********************]  1 of 1 completed\n"
     ]
    },
    {
     "name": "stdout",
     "output_type": "stream",
     "text": [
      "Uploaded ./output/4722.parquet to gs://stock-data-bucket_hopop/4722.parquet\n",
      "Loaded data into BigQuery table dbt-analytics-engineer-435907.stock_dataset.stock_data from gs://stock-data-bucket_hopop/4722.parquet.\n"
     ]
    },
    {
     "name": "stderr",
     "output_type": "stream",
     "text": [
      "[*********************100%***********************]  1 of 1 completed\n",
      "\n",
      "1 Failed download:\n",
      "['8073.T']: YFTzMissingError('$%ticker%: possibly delisted; no timezone found')\n"
     ]
    },
    {
     "name": "stdout",
     "output_type": "stream",
     "text": [
      "No data found for 8073.T. Skipping...\n"
     ]
    },
    {
     "name": "stderr",
     "output_type": "stream",
     "text": [
      "[*********************100%***********************]  1 of 1 completed\n"
     ]
    },
    {
     "name": "stdout",
     "output_type": "stream",
     "text": [
      "Uploaded ./output/6381.parquet to gs://stock-data-bucket_hopop/6381.parquet\n",
      "Loaded data into BigQuery table dbt-analytics-engineer-435907.stock_dataset.stock_data from gs://stock-data-bucket_hopop/6381.parquet.\n"
     ]
    },
    {
     "name": "stderr",
     "output_type": "stream",
     "text": [
      "[*********************100%***********************]  1 of 1 completed\n",
      "\n",
      "1 Failed download:\n",
      "['4342.T']: YFTzMissingError('$%ticker%: possibly delisted; no timezone found')\n"
     ]
    },
    {
     "name": "stdout",
     "output_type": "stream",
     "text": [
      "No data found for 4342.T. Skipping...\n"
     ]
    },
    {
     "name": "stderr",
     "output_type": "stream",
     "text": [
      "[*********************100%***********************]  1 of 1 completed\n"
     ]
    },
    {
     "name": "stdout",
     "output_type": "stream",
     "text": [
      "Uploaded ./output/2804.parquet to gs://stock-data-bucket_hopop/2804.parquet\n",
      "Loaded data into BigQuery table dbt-analytics-engineer-435907.stock_dataset.stock_data from gs://stock-data-bucket_hopop/2804.parquet.\n"
     ]
    },
    {
     "name": "stderr",
     "output_type": "stream",
     "text": [
      "[*********************100%***********************]  1 of 1 completed\n"
     ]
    },
    {
     "name": "stdout",
     "output_type": "stream",
     "text": [
      "Uploaded ./output/2533.parquet to gs://stock-data-bucket_hopop/2533.parquet\n",
      "Loaded data into BigQuery table dbt-analytics-engineer-435907.stock_dataset.stock_data from gs://stock-data-bucket_hopop/2533.parquet.\n"
     ]
    },
    {
     "name": "stderr",
     "output_type": "stream",
     "text": [
      "[*********************100%***********************]  1 of 1 completed\n"
     ]
    },
    {
     "name": "stdout",
     "output_type": "stream",
     "text": [
      "Uploaded ./output/9022.parquet to gs://stock-data-bucket_hopop/9022.parquet\n",
      "Loaded data into BigQuery table dbt-analytics-engineer-435907.stock_dataset.stock_data from gs://stock-data-bucket_hopop/9022.parquet.\n"
     ]
    },
    {
     "name": "stderr",
     "output_type": "stream",
     "text": [
      "[*********************100%***********************]  1 of 1 completed\n"
     ]
    },
    {
     "name": "stdout",
     "output_type": "stream",
     "text": [
      "Uploaded ./output/2373.parquet to gs://stock-data-bucket_hopop/2373.parquet\n",
      "Loaded data into BigQuery table dbt-analytics-engineer-435907.stock_dataset.stock_data from gs://stock-data-bucket_hopop/2373.parquet.\n"
     ]
    },
    {
     "name": "stderr",
     "output_type": "stream",
     "text": [
      "[*********************100%***********************]  1 of 1 completed\n"
     ]
    },
    {
     "name": "stdout",
     "output_type": "stream",
     "text": [
      "Uploaded ./output/2340.parquet to gs://stock-data-bucket_hopop/2340.parquet\n",
      "Loaded data into BigQuery table dbt-analytics-engineer-435907.stock_dataset.stock_data from gs://stock-data-bucket_hopop/2340.parquet.\n"
     ]
    },
    {
     "name": "stderr",
     "output_type": "stream",
     "text": [
      "[*********************100%***********************]  1 of 1 completed\n"
     ]
    },
    {
     "name": "stdout",
     "output_type": "stream",
     "text": [
      "Uploaded ./output/3277.parquet to gs://stock-data-bucket_hopop/3277.parquet\n",
      "Loaded data into BigQuery table dbt-analytics-engineer-435907.stock_dataset.stock_data from gs://stock-data-bucket_hopop/3277.parquet.\n"
     ]
    },
    {
     "name": "stderr",
     "output_type": "stream",
     "text": [
      "[*********************100%***********************]  1 of 1 completed\n"
     ]
    },
    {
     "name": "stdout",
     "output_type": "stream",
     "text": [
      "Uploaded ./output/3396.parquet to gs://stock-data-bucket_hopop/3396.parquet\n",
      "Loaded data into BigQuery table dbt-analytics-engineer-435907.stock_dataset.stock_data from gs://stock-data-bucket_hopop/3396.parquet.\n"
     ]
    },
    {
     "name": "stderr",
     "output_type": "stream",
     "text": [
      "[*********************100%***********************]  1 of 1 completed\n",
      "\n",
      "1 Failed download:\n",
      "['3230.T']: YFTzMissingError('$%ticker%: possibly delisted; no timezone found')\n"
     ]
    },
    {
     "name": "stdout",
     "output_type": "stream",
     "text": [
      "No data found for 3230.T. Skipping...\n"
     ]
    },
    {
     "name": "stderr",
     "output_type": "stream",
     "text": [
      "[*********************100%***********************]  1 of 1 completed\n"
     ]
    },
    {
     "name": "stdout",
     "output_type": "stream",
     "text": [
      "Uploaded ./output/2148.parquet to gs://stock-data-bucket_hopop/2148.parquet\n",
      "Loaded data into BigQuery table dbt-analytics-engineer-435907.stock_dataset.stock_data from gs://stock-data-bucket_hopop/2148.parquet.\n"
     ]
    },
    {
     "name": "stderr",
     "output_type": "stream",
     "text": [
      "[*********************100%***********************]  1 of 1 completed\n",
      "\n",
      "1 Failed download:\n",
      "['8355.T']: YFTzMissingError('$%ticker%: possibly delisted; no timezone found')\n"
     ]
    },
    {
     "name": "stdout",
     "output_type": "stream",
     "text": [
      "No data found for 8355.T. Skipping...\n"
     ]
    },
    {
     "name": "stderr",
     "output_type": "stream",
     "text": [
      "[*********************100%***********************]  1 of 1 completed\n"
     ]
    },
    {
     "name": "stdout",
     "output_type": "stream",
     "text": [
      "Uploaded ./output/2127.parquet to gs://stock-data-bucket_hopop/2127.parquet\n",
      "Loaded data into BigQuery table dbt-analytics-engineer-435907.stock_dataset.stock_data from gs://stock-data-bucket_hopop/2127.parquet.\n"
     ]
    },
    {
     "name": "stderr",
     "output_type": "stream",
     "text": [
      "[*********************100%***********************]  1 of 1 completed\n"
     ]
    },
    {
     "name": "stdout",
     "output_type": "stream",
     "text": [
      "Uploaded ./output/1941.parquet to gs://stock-data-bucket_hopop/1941.parquet\n",
      "Loaded data into BigQuery table dbt-analytics-engineer-435907.stock_dataset.stock_data from gs://stock-data-bucket_hopop/1941.parquet.\n"
     ]
    },
    {
     "name": "stderr",
     "output_type": "stream",
     "text": [
      "[*********************100%***********************]  1 of 1 completed\n",
      "\n",
      "1 Failed download:\n",
      "['1906.T']: YFTzMissingError('$%ticker%: possibly delisted; no timezone found')\n"
     ]
    },
    {
     "name": "stdout",
     "output_type": "stream",
     "text": [
      "No data found for 1906.T. Skipping...\n"
     ]
    },
    {
     "name": "stderr",
     "output_type": "stream",
     "text": [
      "[*********************100%***********************]  1 of 1 completed\n"
     ]
    },
    {
     "name": "stdout",
     "output_type": "stream",
     "text": [
      "Uploaded ./output/6490.parquet to gs://stock-data-bucket_hopop/6490.parquet\n",
      "Loaded data into BigQuery table dbt-analytics-engineer-435907.stock_dataset.stock_data from gs://stock-data-bucket_hopop/6490.parquet.\n"
     ]
    },
    {
     "name": "stderr",
     "output_type": "stream",
     "text": [
      "[*********************100%***********************]  1 of 1 completed\n"
     ]
    },
    {
     "name": "stdout",
     "output_type": "stream",
     "text": [
      "Uploaded ./output/1514.parquet to gs://stock-data-bucket_hopop/1514.parquet\n",
      "Loaded data into BigQuery table dbt-analytics-engineer-435907.stock_dataset.stock_data from gs://stock-data-bucket_hopop/1514.parquet.\n"
     ]
    },
    {
     "name": "stderr",
     "output_type": "stream",
     "text": [
      "[*********************100%***********************]  1 of 1 completed\n",
      "\n",
      "1 Failed download:\n",
      "['3098.T']: YFTzMissingError('$%ticker%: possibly delisted; no timezone found')\n"
     ]
    },
    {
     "name": "stdout",
     "output_type": "stream",
     "text": [
      "No data found for 3098.T. Skipping...\n"
     ]
    },
    {
     "name": "stderr",
     "output_type": "stream",
     "text": [
      "[*********************100%***********************]  1 of 1 completed\n"
     ]
    },
    {
     "name": "stdout",
     "output_type": "stream",
     "text": [
      "Uploaded ./output/6454.parquet to gs://stock-data-bucket_hopop/6454.parquet\n",
      "Loaded data into BigQuery table dbt-analytics-engineer-435907.stock_dataset.stock_data from gs://stock-data-bucket_hopop/6454.parquet.\n"
     ]
    },
    {
     "name": "stderr",
     "output_type": "stream",
     "text": [
      "[*********************100%***********************]  1 of 1 completed\n"
     ]
    },
    {
     "name": "stdout",
     "output_type": "stream",
     "text": [
      "Uploaded ./output/4044.parquet to gs://stock-data-bucket_hopop/4044.parquet\n",
      "Loaded data into BigQuery table dbt-analytics-engineer-435907.stock_dataset.stock_data from gs://stock-data-bucket_hopop/4044.parquet.\n"
     ]
    },
    {
     "name": "stderr",
     "output_type": "stream",
     "text": [
      "[*********************100%***********************]  1 of 1 completed\n"
     ]
    },
    {
     "name": "stdout",
     "output_type": "stream",
     "text": [
      "Uploaded ./output/7268.parquet to gs://stock-data-bucket_hopop/7268.parquet\n",
      "Loaded data into BigQuery table dbt-analytics-engineer-435907.stock_dataset.stock_data from gs://stock-data-bucket_hopop/7268.parquet.\n"
     ]
    },
    {
     "name": "stderr",
     "output_type": "stream",
     "text": [
      "[*********************100%***********************]  1 of 1 completed\n"
     ]
    },
    {
     "name": "stdout",
     "output_type": "stream",
     "text": [
      "Uploaded ./output/9502.parquet to gs://stock-data-bucket_hopop/9502.parquet\n",
      "Loaded data into BigQuery table dbt-analytics-engineer-435907.stock_dataset.stock_data from gs://stock-data-bucket_hopop/9502.parquet.\n"
     ]
    },
    {
     "name": "stderr",
     "output_type": "stream",
     "text": [
      "[*********************100%***********************]  1 of 1 completed\n"
     ]
    },
    {
     "name": "stdout",
     "output_type": "stream",
     "text": [
      "Uploaded ./output/6222.parquet to gs://stock-data-bucket_hopop/6222.parquet\n",
      "Loaded data into BigQuery table dbt-analytics-engineer-435907.stock_dataset.stock_data from gs://stock-data-bucket_hopop/6222.parquet.\n"
     ]
    },
    {
     "name": "stderr",
     "output_type": "stream",
     "text": [
      "[*********************100%***********************]  1 of 1 completed\n"
     ]
    },
    {
     "name": "stdout",
     "output_type": "stream",
     "text": [
      "Uploaded ./output/3771.parquet to gs://stock-data-bucket_hopop/3771.parquet\n",
      "Loaded data into BigQuery table dbt-analytics-engineer-435907.stock_dataset.stock_data from gs://stock-data-bucket_hopop/3771.parquet.\n"
     ]
    },
    {
     "name": "stderr",
     "output_type": "stream",
     "text": [
      "[*********************100%***********************]  1 of 1 completed\n"
     ]
    },
    {
     "name": "stdout",
     "output_type": "stream",
     "text": [
      "Uploaded ./output/2376.parquet to gs://stock-data-bucket_hopop/2376.parquet\n",
      "Loaded data into BigQuery table dbt-analytics-engineer-435907.stock_dataset.stock_data from gs://stock-data-bucket_hopop/2376.parquet.\n"
     ]
    },
    {
     "name": "stderr",
     "output_type": "stream",
     "text": [
      "[*********************100%***********************]  1 of 1 completed\n"
     ]
    },
    {
     "name": "stdout",
     "output_type": "stream",
     "text": [
      "Uploaded ./output/7220.parquet to gs://stock-data-bucket_hopop/7220.parquet\n",
      "Loaded data into BigQuery table dbt-analytics-engineer-435907.stock_dataset.stock_data from gs://stock-data-bucket_hopop/7220.parquet.\n"
     ]
    },
    {
     "name": "stderr",
     "output_type": "stream",
     "text": [
      "[*********************100%***********************]  1 of 1 completed\n"
     ]
    },
    {
     "name": "stdout",
     "output_type": "stream",
     "text": [
      "Uploaded ./output/5282.parquet to gs://stock-data-bucket_hopop/5282.parquet\n",
      "Loaded data into BigQuery table dbt-analytics-engineer-435907.stock_dataset.stock_data from gs://stock-data-bucket_hopop/5282.parquet.\n"
     ]
    },
    {
     "name": "stderr",
     "output_type": "stream",
     "text": [
      "[*********************100%***********************]  1 of 1 completed\n"
     ]
    },
    {
     "name": "stdout",
     "output_type": "stream",
     "text": [
      "Uploaded ./output/3640.parquet to gs://stock-data-bucket_hopop/3640.parquet\n",
      "Loaded data into BigQuery table dbt-analytics-engineer-435907.stock_dataset.stock_data from gs://stock-data-bucket_hopop/3640.parquet.\n"
     ]
    },
    {
     "name": "stderr",
     "output_type": "stream",
     "text": [
      "[*********************100%***********************]  1 of 1 completed\n"
     ]
    },
    {
     "name": "stdout",
     "output_type": "stream",
     "text": [
      "Uploaded ./output/6412.parquet to gs://stock-data-bucket_hopop/6412.parquet\n",
      "Loaded data into BigQuery table dbt-analytics-engineer-435907.stock_dataset.stock_data from gs://stock-data-bucket_hopop/6412.parquet.\n"
     ]
    },
    {
     "name": "stderr",
     "output_type": "stream",
     "text": [
      "[*********************100%***********************]  1 of 1 completed\n"
     ]
    },
    {
     "name": "stdout",
     "output_type": "stream",
     "text": [
      "Uploaded ./output/2130.parquet to gs://stock-data-bucket_hopop/2130.parquet\n",
      "Loaded data into BigQuery table dbt-analytics-engineer-435907.stock_dataset.stock_data from gs://stock-data-bucket_hopop/2130.parquet.\n"
     ]
    },
    {
     "name": "stderr",
     "output_type": "stream",
     "text": [
      "[*********************100%***********************]  1 of 1 completed\n"
     ]
    },
    {
     "name": "stdout",
     "output_type": "stream",
     "text": [
      "Uploaded ./output/9534.parquet to gs://stock-data-bucket_hopop/9534.parquet\n",
      "Loaded data into BigQuery table dbt-analytics-engineer-435907.stock_dataset.stock_data from gs://stock-data-bucket_hopop/9534.parquet.\n"
     ]
    },
    {
     "name": "stderr",
     "output_type": "stream",
     "text": [
      "[*********************100%***********************]  1 of 1 completed\n",
      "\n",
      "1 Failed download:\n",
      "['7816.T']: YFTzMissingError('$%ticker%: possibly delisted; no timezone found')\n"
     ]
    },
    {
     "name": "stdout",
     "output_type": "stream",
     "text": [
      "No data found for 7816.T. Skipping...\n"
     ]
    },
    {
     "name": "stderr",
     "output_type": "stream",
     "text": [
      "[*********************100%***********************]  1 of 1 completed\n"
     ]
    },
    {
     "name": "stdout",
     "output_type": "stream",
     "text": [
      "Uploaded ./output/3817.parquet to gs://stock-data-bucket_hopop/3817.parquet\n",
      "Loaded data into BigQuery table dbt-analytics-engineer-435907.stock_dataset.stock_data from gs://stock-data-bucket_hopop/3817.parquet.\n"
     ]
    },
    {
     "name": "stderr",
     "output_type": "stream",
     "text": [
      "[*********************100%***********************]  1 of 1 completed\n"
     ]
    },
    {
     "name": "stdout",
     "output_type": "stream",
     "text": [
      "Uploaded ./output/9478.parquet to gs://stock-data-bucket_hopop/9478.parquet\n",
      "Loaded data into BigQuery table dbt-analytics-engineer-435907.stock_dataset.stock_data from gs://stock-data-bucket_hopop/9478.parquet.\n"
     ]
    },
    {
     "name": "stderr",
     "output_type": "stream",
     "text": [
      "[*********************100%***********************]  1 of 1 completed\n"
     ]
    },
    {
     "name": "stdout",
     "output_type": "stream",
     "text": [
      "Uploaded ./output/9353.parquet to gs://stock-data-bucket_hopop/9353.parquet\n",
      "Loaded data into BigQuery table dbt-analytics-engineer-435907.stock_dataset.stock_data from gs://stock-data-bucket_hopop/9353.parquet.\n"
     ]
    },
    {
     "name": "stderr",
     "output_type": "stream",
     "text": [
      "[*********************100%***********************]  1 of 1 completed\n"
     ]
    },
    {
     "name": "stdout",
     "output_type": "stream",
     "text": [
      "Uploaded ./output/8572.parquet to gs://stock-data-bucket_hopop/8572.parquet\n",
      "Loaded data into BigQuery table dbt-analytics-engineer-435907.stock_dataset.stock_data from gs://stock-data-bucket_hopop/8572.parquet.\n"
     ]
    },
    {
     "name": "stderr",
     "output_type": "stream",
     "text": [
      "[*********************100%***********************]  1 of 1 completed\n"
     ]
    },
    {
     "name": "stdout",
     "output_type": "stream",
     "text": [
      "Uploaded ./output/8341.parquet to gs://stock-data-bucket_hopop/8341.parquet\n",
      "Loaded data into BigQuery table dbt-analytics-engineer-435907.stock_dataset.stock_data from gs://stock-data-bucket_hopop/8341.parquet.\n"
     ]
    },
    {
     "name": "stderr",
     "output_type": "stream",
     "text": [
      "[*********************100%***********************]  1 of 1 completed\n"
     ]
    },
    {
     "name": "stdout",
     "output_type": "stream",
     "text": [
      "Uploaded ./output/3810.parquet to gs://stock-data-bucket_hopop/3810.parquet\n",
      "Loaded data into BigQuery table dbt-analytics-engineer-435907.stock_dataset.stock_data from gs://stock-data-bucket_hopop/3810.parquet.\n"
     ]
    },
    {
     "name": "stderr",
     "output_type": "stream",
     "text": [
      "[*********************100%***********************]  1 of 1 completed\n",
      "\n",
      "1 Failed download:\n",
      "['8543.T']: YFPricesMissingError('$%ticker%: possibly delisted; no price data found  (1d 2024-01-01 -> 2024-09-30)')\n"
     ]
    },
    {
     "name": "stdout",
     "output_type": "stream",
     "text": [
      "No data found for 8543.T. Skipping...\n"
     ]
    },
    {
     "name": "stderr",
     "output_type": "stream",
     "text": [
      "[*********************100%***********************]  1 of 1 completed\n"
     ]
    },
    {
     "name": "stdout",
     "output_type": "stream",
     "text": [
      "Uploaded ./output/8035.parquet to gs://stock-data-bucket_hopop/8035.parquet\n",
      "Loaded data into BigQuery table dbt-analytics-engineer-435907.stock_dataset.stock_data from gs://stock-data-bucket_hopop/8035.parquet.\n"
     ]
    },
    {
     "name": "stderr",
     "output_type": "stream",
     "text": [
      "[*********************100%***********************]  1 of 1 completed\n",
      "\n",
      "1 Failed download:\n",
      "['3125.T']: YFTzMissingError('$%ticker%: possibly delisted; no timezone found')\n"
     ]
    },
    {
     "name": "stdout",
     "output_type": "stream",
     "text": [
      "No data found for 3125.T. Skipping...\n"
     ]
    },
    {
     "name": "stderr",
     "output_type": "stream",
     "text": [
      "[*********************100%***********************]  1 of 1 completed\n",
      "\n",
      "1 Failed download:\n",
      "['7961.T']: YFTzMissingError('$%ticker%: possibly delisted; no timezone found')\n"
     ]
    },
    {
     "name": "stdout",
     "output_type": "stream",
     "text": [
      "No data found for 7961.T. Skipping...\n"
     ]
    },
    {
     "name": "stderr",
     "output_type": "stream",
     "text": [
      "[*********************100%***********************]  1 of 1 completed\n"
     ]
    },
    {
     "name": "stdout",
     "output_type": "stream",
     "text": [
      "Uploaded ./output/1332.parquet to gs://stock-data-bucket_hopop/1332.parquet\n",
      "Loaded data into BigQuery table dbt-analytics-engineer-435907.stock_dataset.stock_data from gs://stock-data-bucket_hopop/1332.parquet.\n"
     ]
    },
    {
     "name": "stderr",
     "output_type": "stream",
     "text": [
      "[*********************100%***********************]  1 of 1 completed\n"
     ]
    },
    {
     "name": "stdout",
     "output_type": "stream",
     "text": [
      "Uploaded ./output/2485.parquet to gs://stock-data-bucket_hopop/2485.parquet\n",
      "Loaded data into BigQuery table dbt-analytics-engineer-435907.stock_dataset.stock_data from gs://stock-data-bucket_hopop/2485.parquet.\n"
     ]
    },
    {
     "name": "stderr",
     "output_type": "stream",
     "text": [
      "[*********************100%***********************]  1 of 1 completed\n"
     ]
    },
    {
     "name": "stdout",
     "output_type": "stream",
     "text": [
      "Uploaded ./output/7896.parquet to gs://stock-data-bucket_hopop/7896.parquet\n",
      "Loaded data into BigQuery table dbt-analytics-engineer-435907.stock_dataset.stock_data from gs://stock-data-bucket_hopop/7896.parquet.\n"
     ]
    },
    {
     "name": "stderr",
     "output_type": "stream",
     "text": [
      "[*********************100%***********************]  1 of 1 completed\n",
      "\n",
      "1 Failed download:\n",
      "['6502.T']: YFTzMissingError('$%ticker%: possibly delisted; no timezone found')\n"
     ]
    },
    {
     "name": "stdout",
     "output_type": "stream",
     "text": [
      "No data found for 6502.T. Skipping...\n"
     ]
    },
    {
     "name": "stderr",
     "output_type": "stream",
     "text": [
      "[*********************100%***********************]  1 of 1 completed\n"
     ]
    },
    {
     "name": "stdout",
     "output_type": "stream",
     "text": [
      "Uploaded ./output/7709.parquet to gs://stock-data-bucket_hopop/7709.parquet\n",
      "Loaded data into BigQuery table dbt-analytics-engineer-435907.stock_dataset.stock_data from gs://stock-data-bucket_hopop/7709.parquet.\n"
     ]
    },
    {
     "name": "stderr",
     "output_type": "stream",
     "text": [
      "[*********************100%***********************]  1 of 1 completed\n"
     ]
    },
    {
     "name": "stdout",
     "output_type": "stream",
     "text": [
      "Uploaded ./output/8275.parquet to gs://stock-data-bucket_hopop/8275.parquet\n",
      "Loaded data into BigQuery table dbt-analytics-engineer-435907.stock_dataset.stock_data from gs://stock-data-bucket_hopop/8275.parquet.\n"
     ]
    },
    {
     "name": "stderr",
     "output_type": "stream",
     "text": [
      "[*********************100%***********************]  1 of 1 completed\n"
     ]
    },
    {
     "name": "stdout",
     "output_type": "stream",
     "text": [
      "Uploaded ./output/7297.parquet to gs://stock-data-bucket_hopop/7297.parquet\n",
      "Loaded data into BigQuery table dbt-analytics-engineer-435907.stock_dataset.stock_data from gs://stock-data-bucket_hopop/7297.parquet.\n"
     ]
    },
    {
     "name": "stderr",
     "output_type": "stream",
     "text": [
      "[*********************100%***********************]  1 of 1 completed\n"
     ]
    },
    {
     "name": "stdout",
     "output_type": "stream",
     "text": [
      "Uploaded ./output/4838.parquet to gs://stock-data-bucket_hopop/4838.parquet\n",
      "Loaded data into BigQuery table dbt-analytics-engineer-435907.stock_dataset.stock_data from gs://stock-data-bucket_hopop/4838.parquet.\n"
     ]
    },
    {
     "name": "stderr",
     "output_type": "stream",
     "text": [
      "[*********************100%***********************]  1 of 1 completed\n"
     ]
    },
    {
     "name": "stdout",
     "output_type": "stream",
     "text": [
      "Uploaded ./output/3634.parquet to gs://stock-data-bucket_hopop/3634.parquet\n",
      "Loaded data into BigQuery table dbt-analytics-engineer-435907.stock_dataset.stock_data from gs://stock-data-bucket_hopop/3634.parquet.\n"
     ]
    },
    {
     "name": "stderr",
     "output_type": "stream",
     "text": [
      "[*********************100%***********************]  1 of 1 completed\n"
     ]
    },
    {
     "name": "stdout",
     "output_type": "stream",
     "text": [
      "Uploaded ./output/4926.parquet to gs://stock-data-bucket_hopop/4926.parquet\n",
      "Loaded data into BigQuery table dbt-analytics-engineer-435907.stock_dataset.stock_data from gs://stock-data-bucket_hopop/4926.parquet.\n"
     ]
    },
    {
     "name": "stderr",
     "output_type": "stream",
     "text": [
      "[*********************100%***********************]  1 of 1 completed\n"
     ]
    },
    {
     "name": "stdout",
     "output_type": "stream",
     "text": [
      "Uploaded ./output/6915.parquet to gs://stock-data-bucket_hopop/6915.parquet\n",
      "Loaded data into BigQuery table dbt-analytics-engineer-435907.stock_dataset.stock_data from gs://stock-data-bucket_hopop/6915.parquet.\n"
     ]
    },
    {
     "name": "stderr",
     "output_type": "stream",
     "text": [
      "[*********************100%***********************]  1 of 1 completed\n"
     ]
    },
    {
     "name": "stdout",
     "output_type": "stream",
     "text": [
      "Uploaded ./output/4990.parquet to gs://stock-data-bucket_hopop/4990.parquet\n",
      "Loaded data into BigQuery table dbt-analytics-engineer-435907.stock_dataset.stock_data from gs://stock-data-bucket_hopop/4990.parquet.\n"
     ]
    },
    {
     "name": "stderr",
     "output_type": "stream",
     "text": [
      "[*********************100%***********************]  1 of 1 completed\n"
     ]
    },
    {
     "name": "stdout",
     "output_type": "stream",
     "text": [
      "Uploaded ./output/7527.parquet to gs://stock-data-bucket_hopop/7527.parquet\n",
      "Loaded data into BigQuery table dbt-analytics-engineer-435907.stock_dataset.stock_data from gs://stock-data-bucket_hopop/7527.parquet.\n"
     ]
    },
    {
     "name": "stderr",
     "output_type": "stream",
     "text": [
      "[*********************100%***********************]  1 of 1 completed\n"
     ]
    },
    {
     "name": "stdout",
     "output_type": "stream",
     "text": [
      "Uploaded ./output/7022.parquet to gs://stock-data-bucket_hopop/7022.parquet\n",
      "Loaded data into BigQuery table dbt-analytics-engineer-435907.stock_dataset.stock_data from gs://stock-data-bucket_hopop/7022.parquet.\n"
     ]
    },
    {
     "name": "stderr",
     "output_type": "stream",
     "text": [
      "[*********************100%***********************]  1 of 1 completed\n"
     ]
    },
    {
     "name": "stdout",
     "output_type": "stream",
     "text": [
      "Uploaded ./output/6914.parquet to gs://stock-data-bucket_hopop/6914.parquet\n"
     ]
    }
   ],
   "source": [
    "import os\n",
    "import pandas as pd\n",
    "import yfinance as yf\n",
    "from google.cloud import bigquery\n",
    "from google.cloud import storage\n",
    "from modules.gcp_class import Gcs_client, Bigquery_client\n",
    "import datetime as dt\n",
    "\n",
    "def main():\n",
    "    # 環境変数で認証情報を設定\n",
    "    os.environ[\"GOOGLE_APPLICATION_CREDENTIALS\"] = \"./dbt-analytics-engineer-435907-75a25995915e.json\"\n",
    "    \n",
    "    # BigQueryとGCSの設定\n",
    "    PROJECT_ID = 'dbt-analytics-engineer-435907'\n",
    "    DATASET_NAME = 'stock_dataset'\n",
    "    BUCKET_NAME = 'stock-data-bucket_hopop'\n",
    "    TABLE_NAME = 'stock_data'\n",
    "\n",
    "    # CSVファイルのパス\n",
    "    STOCK_MAPPING_CSV = '../stock_code_name_mapping.csv'\n",
    "\n",
    "    # データ取得期間の設定\n",
    "    START_DATE = dt.date(2024, 1, 1)\n",
    "    END_DATE = dt.date.today()\n",
    "\n",
    "    # GCSクライアントとBigQueryクライアントの初期化\n",
    "    gcs_client = Gcs_client()\n",
    "    bq_client = Bigquery_client()\n",
    "\n",
    "    # CSVファイルの読み込み\n",
    "    stock_names_df = pd.read_csv(STOCK_MAPPING_CSV, usecols=['code', 'name'])\n",
    "\n",
    "    # 既存のGCSオブジェクトのリストを取得（重複防止用）\n",
    "    existing_objects = set(gcs_client.list_all_objects(BUCKET_NAME))\n",
    "\n",
    "    # 各銘柄のデータを取得し、GCSにアップロード\n",
    "    for index, row in stock_names_df.loc[(stock_names_df.index >= 1000)].iterrows():\n",
    "        stock_code = str(row['code']).strip()\n",
    "        stock_name = row['name'].strip()\n",
    "        ticker = f\"{stock_code}.T\"  # 東証の場合、ティッカーは通常「.T」が付加されます\n",
    "        \n",
    "        # 株価データの取得\n",
    "        df = yf.download(ticker, start=START_DATE, end=END_DATE)\n",
    "\n",
    "        if df.empty:\n",
    "            print(f\"No data found for {ticker}. Skipping...\")\n",
    "        else:\n",
    "            # データフレームの前処理\n",
    "            df.reset_index(inplace=True)\n",
    "            df = df.rename(columns={\n",
    "                'Date': 'Date',\n",
    "                'Open': 'Open',\n",
    "                'High': 'High',\n",
    "                'Low': 'Low',\n",
    "                'Close': 'Close',\n",
    "                'Adj Close': 'Adj_Close',\n",
    "                'Volume': 'Volume'\n",
    "            })\n",
    "            df['Stock_Code'] = stock_code\n",
    "    \n",
    "            # 必要なカラムのみを選択\n",
    "            df = df[['Date', 'Stock_Code', 'Open', 'High', 'Low', 'Close', 'Adj_Close', 'Volume']]\n",
    "            df['Date'] = pd.to_datetime(df['Date']).dt.strftime('%Y-%m-%d')\n",
    "\n",
    "            # Parquetファイルのパス設定\n",
    "            local_file_name = f\"{stock_code}.parquet\"\n",
    "            local_file_path = f\"./output/{local_file_name}\"\n",
    "            os.makedirs(os.path.dirname(local_file_path), exist_ok=True)\n",
    "    \n",
    "            # Parquet形式で保存\n",
    "            df.to_parquet(local_file_path, engine='pyarrow', index=False)\n",
    "    \n",
    "            # GCSへのアップロード\n",
    "            if local_file_name in existing_objects:\n",
    "                print(f\"File {local_file_name} already exists in GCS. Skipping upload.\")\n",
    "            else:\n",
    "                gcs_client.upload_gcs(BUCKET_NAME, local_file_path, local_file_name)\n",
    "    \n",
    "            # BigQueryへのデータロード\n",
    "            table_id = f\"{PROJECT_ID}.{DATASET_NAME}.{TABLE_NAME}\"\n",
    "            source_uri = f\"gs://{BUCKET_NAME}/{local_file_name}\"\n",
    "            job_config = bigquery.LoadJobConfig(\n",
    "                source_format=bigquery.SourceFormat.PARQUET,\n",
    "                write_disposition=bigquery.WriteDisposition.WRITE_APPEND  # 既存データに追加\n",
    "            )\n",
    "            \n",
    "            load_job = bq_client.client.load_table_from_uri(\n",
    "                source_uri,\n",
    "                table_id,\n",
    "                job_config=job_config\n",
    "            )\n",
    "            \n",
    "            load_job.result()  # ジョブの完了を待つ\n",
    "            print(f\"Loaded data into BigQuery table {table_id} from {source_uri}.\")\n",
    "\n",
    "if __name__ == \"__main__\":\n",
    "    main()\n"
   ]
  },
  {
   "cell_type": "code",
   "execution_count": null,
   "id": "e3138af4-a5d7-4693-9cfa-960654bc0bc0",
   "metadata": {},
   "outputs": [],
   "source": [
    "import pandas as pd\n",
    "STOCK_MAPPING_CSV = '../stock_code_name_mapping.csv'\n",
    "stock_names_df = pd.read_csv(STOCK_MAPPING_CSV, usecols=['code', 'name'])\n",
    "\n",
    "stock_names_df[stock_names_df['code']==4044]\n",
    "stock_names_df.loc[(stock_names_df.index >= 1000)]"
   ]
  }
 ],
 "metadata": {
  "kernelspec": {
   "display_name": "Python 3 (ipykernel)",
   "language": "python",
   "name": "python3"
  },
  "language_info": {
   "codemirror_mode": {
    "name": "ipython",
    "version": 3
   },
   "file_extension": ".py",
   "mimetype": "text/x-python",
   "name": "python",
   "nbconvert_exporter": "python",
   "pygments_lexer": "ipython3",
   "version": "3.11.6"
  }
 },
 "nbformat": 4,
 "nbformat_minor": 5
}
