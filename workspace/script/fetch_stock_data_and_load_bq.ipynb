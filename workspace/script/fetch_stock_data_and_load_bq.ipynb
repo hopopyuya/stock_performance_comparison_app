{
 "cells": [
  {
   "cell_type": "code",
   "execution_count": null,
   "id": "d8b0cd4e-02f8-4e54-9a2c-6d63b7f93d27",
   "metadata": {},
   "outputs": [
    {
     "name": "stderr",
     "output_type": "stream",
     "text": [
      "[*********************100%***********************]  1 of 1 completed       | 0/4062 [00:00<?, ?it/s]\n",
      "[*********************100%***********************]  1 of 1 completed/4062 [00:01<1:34:02,  1.39s/it]\n",
      "\n",
      "1 Failed download:\n",
      "['3478.T']: YFTzMissingError('$%ticker%: possibly delisted; no timezone found')\n",
      "  0%|                                                            | 1/4062 [00:03<1:34:02,  1.39s/it]"
     ]
    },
    {
     "name": "stdout",
     "output_type": "stream",
     "text": [
      "No data found for 3478.T. Skipping...\n"
     ]
    },
    {
     "name": "stderr",
     "output_type": "stream",
     "text": [
      "[*********************100%***********************]  1 of 1 completed/4062 [00:04<2:43:32,  2.42s/it]\n",
      "[*********************100%***********************]  1 of 1 completed/4062 [00:05<2:07:12,  1.88s/it]\n",
      "\n",
      "1 Failed download:\n",
      "['3975.T']: YFTzMissingError('$%ticker%: possibly delisted; no timezone found')\n",
      "  0%|                                                            | 3/4062 [00:06<2:07:12,  1.88s/it]"
     ]
    },
    {
     "name": "stdout",
     "output_type": "stream",
     "text": [
      "No data found for 3975.T. Skipping...\n"
     ]
    },
    {
     "name": "stderr",
     "output_type": "stream",
     "text": [
      "[*********************100%***********************]  1 of 1 completed/4062 [00:07<2:16:01,  2.01s/it]\n",
      "[*********************100%***********************]  1 of 1 completed/4062 [00:09<1:55:21,  1.71s/it]\n",
      "[*********************100%***********************]  1 of 1 completed/4062 [00:10<1:42:57,  1.52s/it]\n",
      "\n",
      "1 Failed download:\n",
      "['6541.T']: YFTzMissingError('$%ticker%: possibly delisted; no timezone found')\n",
      "  0%|                                                            | 6/4062 [00:12<1:42:57,  1.52s/it]"
     ]
    },
    {
     "name": "stdout",
     "output_type": "stream",
     "text": [
      "No data found for 6541.T. Skipping...\n"
     ]
    },
    {
     "name": "stderr",
     "output_type": "stream",
     "text": [
      "[*********************100%***********************]  1 of 1 completed/4062 [00:13<2:19:18,  2.06s/it]\n",
      "[*********************100%***********************]  1 of 1 completed/4062 [00:14<1:59:54,  1.77s/it]\n",
      "[*********************100%***********************]  1 of 1 completed/4062 [00:15<1:47:11,  1.59s/it]\n",
      "[*********************100%***********************]  1 of 1 completed/4062 [00:17<1:39:39,  1.48s/it]\n",
      "[*********************100%***********************]  1 of 1 completed/4062 [00:18<1:33:19,  1.38s/it]\n",
      "[*********************100%***********************]  1 of 1 completed/4062 [00:19<1:29:09,  1.32s/it]\n",
      "[*********************100%***********************]  1 of 1 completed/4062 [00:20<1:25:48,  1.27s/it]\n",
      "[*********************100%***********************]  1 of 1 completed/4062 [00:21<1:25:02,  1.26s/it]\n",
      "[*********************100%***********************]  1 of 1 completed/4062 [00:22<1:22:53,  1.23s/it]\n",
      "[*********************100%***********************]  1 of 1 completed/4062 [00:24<1:21:11,  1.20s/it]\n",
      "[*********************100%***********************]  1 of 1 completed/4062 [00:25<1:20:08,  1.19s/it]\n",
      "\n",
      "1 Failed download:\n",
      "['7190.T']: YFTzMissingError('$%ticker%: possibly delisted; no timezone found')\n",
      "  0%|▏                                                          | 17/4062 [00:27<1:20:08,  1.19s/it]"
     ]
    },
    {
     "name": "stdout",
     "output_type": "stream",
     "text": [
      "No data found for 7190.T. Skipping...\n"
     ]
    },
    {
     "name": "stderr",
     "output_type": "stream",
     "text": [
      "[*********************100%***********************]  1 of 1 completed/4062 [00:28<1:58:52,  1.76s/it]\n",
      "[*********************100%***********************]  1 of 1 completed/4062 [00:29<1:46:40,  1.58s/it]\n",
      "[*********************100%***********************]  1 of 1 completed/4062 [00:30<1:37:48,  1.45s/it]\n",
      "\n",
      "1 Failed download:\n",
      "['6534.T']: YFPricesMissingError('$%ticker%: possibly delisted; no price data found  (1d 2024-10-13 -> 2024-10-20)')\n",
      "  0%|▎                                                          | 20/4062 [00:30<1:37:48,  1.45s/it]"
     ]
    },
    {
     "name": "stdout",
     "output_type": "stream",
     "text": [
      "No data found for 6534.T. Skipping...\n"
     ]
    },
    {
     "name": "stderr",
     "output_type": "stream",
     "text": [
      "[*********************100%***********************]  1 of 1 completed/4062 [00:31<1:32:11,  1.37s/it]\n",
      "[*********************100%***********************]  1 of 1 completed/4062 [00:32<1:27:41,  1.30s/it]\n",
      "[*********************100%***********************]  1 of 1 completed/4062 [00:34<1:24:29,  1.26s/it]\n",
      "[*********************100%***********************]  1 of 1 completed/4062 [00:35<1:22:29,  1.23s/it]\n",
      "[*********************100%***********************]  1 of 1 completed/4062 [00:36<1:21:16,  1.21s/it]\n",
      "\n",
      "1 Failed download:\n",
      "['3473.T']: YFTzMissingError('$%ticker%: possibly delisted; no timezone found')\n",
      "  1%|▎                                                          | 25/4062 [00:38<1:21:16,  1.21s/it]"
     ]
    },
    {
     "name": "stdout",
     "output_type": "stream",
     "text": [
      "No data found for 3473.T. Skipping...\n"
     ]
    },
    {
     "name": "stderr",
     "output_type": "stream",
     "text": [
      "[*********************100%***********************]  1 of 1 completed/4062 [00:39<1:52:23,  1.67s/it]\n",
      "[*********************100%***********************]  1 of 1 completed/4062 [00:40<1:45:09,  1.56s/it]\n",
      "[*********************100%***********************]  1 of 1 completed/4062 [00:41<1:40:00,  1.49s/it]\n",
      "[*********************100%***********************]  1 of 1 completed/4062 [00:43<1:37:45,  1.45s/it]\n",
      "[*********************100%***********************]  1 of 1 completed/4062 [00:44<1:34:48,  1.41s/it]\n",
      "[*********************100%***********************]  1 of 1 completed/4062 [00:45<1:32:40,  1.38s/it]\n",
      "[*********************100%***********************]  1 of 1 completed/4062 [00:47<1:31:23,  1.36s/it]\n",
      "[*********************100%***********************]  1 of 1 completed/4062 [00:48<1:30:04,  1.34s/it]\n",
      "\n",
      "1 Failed download:\n",
      "['2066.T']: YFPricesMissingError('$%ticker%: possibly delisted; no price data found  (1d 2024-10-13 -> 2024-10-20)')\n",
      "  1%|▍                                                          | 33/4062 [00:48<1:30:04,  1.34s/it]"
     ]
    },
    {
     "name": "stdout",
     "output_type": "stream",
     "text": [
      "No data found for 2066.T. Skipping...\n"
     ]
    },
    {
     "name": "stderr",
     "output_type": "stream",
     "text": [
      "[*********************100%***********************]  1 of 1 completed/4062 [00:49<1:28:43,  1.32s/it]\n",
      "[*********************100%***********************]  1 of 1 completed/4062 [00:51<1:47:43,  1.61s/it]\n",
      "[*********************100%***********************]  1 of 1 completed/4062 [00:53<1:42:47,  1.53s/it]\n",
      "[*********************100%***********************]  1 of 1 completed/4062 [00:54<1:38:56,  1.47s/it]\n",
      "[*********************100%***********************]  1 of 1 completed/4062 [00:56<1:41:49,  1.52s/it]\n",
      "[*********************100%***********************]  1 of 1 completed/4062 [00:58<1:50:57,  1.65s/it]\n",
      "[*********************100%***********************]  1 of 1 completed/4062 [00:59<1:45:12,  1.57s/it]\n",
      "[*********************100%***********************]  1 of 1 completed/4062 [01:00<1:39:16,  1.48s/it]\n",
      "[*********************100%***********************]  1 of 1 completed/4062 [01:02<1:39:49,  1.49s/it]\n",
      "[*********************100%***********************]  1 of 1 completed/4062 [01:03<1:37:58,  1.46s/it]\n",
      "[*********************100%***********************]  1 of 1 completed/4062 [01:05<1:34:11,  1.41s/it]\n",
      "[*********************100%***********************]  1 of 1 completed/4062 [01:06<1:33:50,  1.40s/it]\n",
      "[*********************100%***********************]  1 of 1 completed/4062 [01:07<1:31:51,  1.37s/it]\n",
      "[*********************100%***********************]  1 of 1 completed/4062 [01:09<1:32:26,  1.38s/it]\n",
      "\n",
      "1 Failed download:\n",
      "['7778.T']: YFPricesMissingError('$%ticker%: possibly delisted; no price data found  (1d 2024-10-13 -> 2024-10-20)')\n",
      "  1%|▋                                                          | 47/4062 [01:09<1:32:26,  1.38s/it]"
     ]
    },
    {
     "name": "stdout",
     "output_type": "stream",
     "text": [
      "No data found for 7778.T. Skipping...\n"
     ]
    },
    {
     "name": "stderr",
     "output_type": "stream",
     "text": [
      "[*********************100%***********************]  1 of 1 completed/4062 [01:10<1:30:05,  1.35s/it]\n",
      "[*********************100%***********************]  1 of 1 completed/4062 [01:11<1:33:35,  1.40s/it]\n",
      "[*********************100%***********************]  1 of 1 completed/4062 [01:13<1:33:47,  1.40s/it]\n",
      "\n",
      "1 Failed download:\n",
      "['1403.T']: YFTzMissingError('$%ticker%: possibly delisted; no timezone found')\n",
      "  1%|▋                                                          | 50/4062 [01:14<1:33:47,  1.40s/it]"
     ]
    },
    {
     "name": "stdout",
     "output_type": "stream",
     "text": [
      "No data found for 1403.T. Skipping...\n"
     ]
    },
    {
     "name": "stderr",
     "output_type": "stream",
     "text": [
      "[*********************100%***********************]  1 of 1 completed/4062 [01:15<1:55:38,  1.73s/it]\n",
      "[*********************100%***********************]  1 of 1 completed/4062 [01:17<1:47:00,  1.60s/it]\n",
      "[*********************100%***********************]  1 of 1 completed/4062 [01:18<1:43:49,  1.55s/it]\n",
      "[*********************100%***********************]  1 of 1 completed/4062 [01:20<1:45:05,  1.57s/it]\n",
      "[*********************100%***********************]  1 of 1 completed/4062 [01:21<1:41:48,  1.52s/it]\n",
      "[*********************100%***********************]  1 of 1 completed/4062 [01:22<1:37:04,  1.45s/it]\n",
      "[*********************100%***********************]  1 of 1 completed/4062 [01:24<1:37:03,  1.45s/it]\n",
      "[*********************100%***********************]  1 of 1 completed/4062 [01:25<1:36:48,  1.45s/it]\n",
      "[*********************100%***********************]  1 of 1 completed/4062 [01:27<1:33:37,  1.40s/it]\n",
      "[*********************100%***********************]  1 of 1 completed/4062 [01:28<1:35:43,  1.44s/it]\n",
      "[*********************100%***********************]  1 of 1 completed/4062 [01:30<1:35:02,  1.43s/it]\n",
      "[*********************100%***********************]  1 of 1 completed/4062 [01:31<1:32:13,  1.38s/it]\n",
      "[*********************100%***********************]  1 of 1 completed/4062 [01:32<1:31:12,  1.37s/it]\n",
      "[*********************100%***********************]  1 of 1 completed/4062 [01:33<1:29:39,  1.35s/it]\n",
      "[*********************100%***********************]  1 of 1 completed/4062 [01:35<1:31:17,  1.37s/it]\n",
      "[*********************100%***********************]  1 of 1 completed/4062 [01:36<1:30:45,  1.36s/it]\n",
      "[*********************100%***********************]  1 of 1 completed/4062 [01:38<1:29:38,  1.35s/it]\n",
      "[*********************100%***********************]  1 of 1 completed/4062 [01:39<1:31:27,  1.37s/it]\n",
      "\n",
      "1 Failed download:\n",
      "['3504.T']: YFTzMissingError('$%ticker%: possibly delisted; no timezone found')\n",
      "  2%|▉                                                          | 68/4062 [01:40<1:31:27,  1.37s/it]"
     ]
    },
    {
     "name": "stdout",
     "output_type": "stream",
     "text": [
      "No data found for 3504.T. Skipping...\n"
     ]
    },
    {
     "name": "stderr",
     "output_type": "stream",
     "text": [
      "[*********************100%***********************]  1 of 1 completed/4062 [01:41<1:54:07,  1.71s/it]\n",
      "\n",
      "1 Failed download:\n",
      "['6192.T']: YFTzMissingError('$%ticker%: possibly delisted; no timezone found')\n",
      "  2%|█                                                          | 69/4062 [01:43<1:54:07,  1.71s/it]"
     ]
    },
    {
     "name": "stdout",
     "output_type": "stream",
     "text": [
      "No data found for 6192.T. Skipping...\n"
     ]
    },
    {
     "name": "stderr",
     "output_type": "stream",
     "text": [
      "[*********************100%***********************]  1 of 1 completed/4062 [01:44<2:14:19,  2.02s/it]\n",
      "\n",
      "1 Failed download:\n",
      "['1598.T']: YFPricesMissingError('$%ticker%: possibly delisted; no price data found  (1d 2024-10-13 -> 2024-10-20)')\n",
      "  2%|█                                                          | 70/4062 [01:44<2:14:19,  2.02s/it]"
     ]
    },
    {
     "name": "stdout",
     "output_type": "stream",
     "text": [
      "No data found for 1598.T. Skipping...\n"
     ]
    },
    {
     "name": "stderr",
     "output_type": "stream",
     "text": [
      "[*********************100%***********************]  1 of 1 completed/4062 [01:45<1:59:25,  1.80s/it]\n",
      "[*********************100%***********************]  1 of 1 completed/4062 [01:47<1:53:05,  1.70s/it]\n",
      "\n",
      "1 Failed download:\n",
      "['1471.T']: YFPricesMissingError('$%ticker%: possibly delisted; no price data found  (1d 2024-10-13 -> 2024-10-20)')\n",
      "  2%|█                                                          | 72/4062 [01:47<1:53:05,  1.70s/it]"
     ]
    },
    {
     "name": "stdout",
     "output_type": "stream",
     "text": [
      "No data found for 1471.T. Skipping...\n"
     ]
    },
    {
     "name": "stderr",
     "output_type": "stream",
     "text": [
      "[*********************100%***********************]  1 of 1 completed/4062 [01:48<1:44:26,  1.57s/it]\n",
      "\n",
      "1 Failed download:\n",
      "['1470.T']: YFPricesMissingError('$%ticker%: possibly delisted; no price data found  (1d 2024-10-13 -> 2024-10-20)')\n",
      "  2%|█                                                          | 73/4062 [01:49<1:44:26,  1.57s/it]"
     ]
    },
    {
     "name": "stdout",
     "output_type": "stream",
     "text": [
      "No data found for 1470.T. Skipping...\n"
     ]
    },
    {
     "name": "stderr",
     "output_type": "stream",
     "text": [
      "[*********************100%***********************]  1 of 1 completed/4062 [01:50<1:39:47,  1.50s/it]\n",
      "[*********************100%***********************]  1 of 1 completed/4062 [01:51<1:38:57,  1.49s/it]\n",
      "[*********************100%***********************]  1 of 1 completed/4062 [01:52<1:35:21,  1.44s/it]\n",
      "[*********************100%***********************]  1 of 1 completed/4062 [01:54<1:35:25,  1.44s/it]\n",
      "[*********************100%***********************]  1 of 1 completed/4062 [01:55<1:35:32,  1.44s/it]\n",
      "[*********************100%***********************]  1 of 1 completed/4062 [01:57<1:32:51,  1.40s/it]\n",
      "\n",
      "1 Failed download:\n",
      "['1468.T']: YFPricesMissingError('$%ticker%: possibly delisted; no price data found  (1d 2024-10-13 -> 2024-10-20)')\n",
      "  2%|█▏                                                         | 79/4062 [01:57<1:32:51,  1.40s/it]"
     ]
    },
    {
     "name": "stdout",
     "output_type": "stream",
     "text": [
      "No data found for 1468.T. Skipping...\n"
     ]
    },
    {
     "name": "stderr",
     "output_type": "stream",
     "text": [
      "[*********************100%***********************]  1 of 1 completed/4062 [01:58<1:33:01,  1.40s/it]\n",
      "[*********************100%***********************]  1 of 1 completed/4062 [01:59<1:34:00,  1.42s/it]\n",
      "[*********************100%***********************]  1 of 1 completed/4062 [02:01<1:31:44,  1.38s/it]\n",
      "[*********************100%***********************]  1 of 1 completed/4062 [02:02<1:29:47,  1.35s/it]\n",
      "[*********************100%***********************]  1 of 1 completed/4062 [02:03<1:28:45,  1.34s/it]\n",
      "[*********************100%***********************]  1 of 1 completed/4062 [02:05<1:27:27,  1.32s/it]\n",
      "[*********************100%***********************]  1 of 1 completed/4062 [02:06<1:27:20,  1.32s/it]\n",
      "[*********************100%***********************]  1 of 1 completed/4062 [02:07<1:27:04,  1.31s/it]\n",
      "[*********************100%***********************]  1 of 1 completed/4062 [02:08<1:26:41,  1.31s/it]\n",
      "[*********************100%***********************]  1 of 1 completed/4062 [02:10<1:26:27,  1.31s/it]\n",
      "[*********************100%***********************]  1 of 1 completed/4062 [02:11<1:27:19,  1.32s/it]\n",
      "[*********************100%***********************]  1 of 1 completed/4062 [02:12<1:27:14,  1.32s/it]\n",
      "[*********************100%***********************]  1 of 1 completed/4062 [02:14<1:26:25,  1.31s/it]\n",
      "[*********************100%***********************]  1 of 1 completed/4062 [02:15<1:25:56,  1.30s/it]\n",
      "[*********************100%***********************]  1 of 1 completed/4062 [02:16<1:25:57,  1.30s/it]\n",
      "[*********************100%***********************]  1 of 1 completed/4062 [02:18<1:26:26,  1.31s/it]\n",
      "[*********************100%***********************]  1 of 1 completed/4062 [02:19<1:26:20,  1.31s/it]\n",
      "[*********************100%***********************]  1 of 1 completed/4062 [02:20<1:26:16,  1.31s/it]\n",
      "\n",
      "1 Failed download:\n",
      "['6188.T']: YFTzMissingError('$%ticker%: possibly delisted; no timezone found')\n",
      "  2%|█▍                                                         | 97/4062 [02:22<1:26:16,  1.31s/it]"
     ]
    },
    {
     "name": "stdout",
     "output_type": "stream",
     "text": [
      "No data found for 6188.T. Skipping...\n"
     ]
    },
    {
     "name": "stderr",
     "output_type": "stream",
     "text": [
      "[*********************100%***********************]  1 of 1 completed/4062 [02:23<1:52:32,  1.70s/it]\n",
      "[*********************100%***********************]  1 of 1 completed/4062 [02:24<1:45:24,  1.60s/it]\n",
      "[*********************100%***********************]  1 of 1 completed/4062 [02:26<1:40:36,  1.52s/it]\n",
      "[*********************100%***********************]  1 of 1 completed/4062 [02:27<1:36:18,  1.46s/it]\n",
      "\n",
      "1 Failed download:\n",
      "['6187.T']: YFTzMissingError('$%ticker%: possibly delisted; no timezone found')\n",
      "  2%|█▍                                                        | 101/4062 [02:29<1:36:18,  1.46s/it]"
     ]
    },
    {
     "name": "stdout",
     "output_type": "stream",
     "text": [
      "No data found for 6187.T. Skipping...\n"
     ]
    },
    {
     "name": "stderr",
     "output_type": "stream",
     "text": [
      "[*********************100%***********************]  1 of 1 completed/4062 [02:30<2:02:18,  1.85s/it]\n",
      "[*********************100%***********************]  1 of 1 completed/4062 [02:31<1:51:54,  1.70s/it]\n",
      "[*********************100%***********************]  1 of 1 completed/4062 [02:32<1:44:37,  1.59s/it]\n",
      "[*********************100%***********************]  1 of 1 completed/4062 [02:34<1:38:33,  1.49s/it]\n",
      "[*********************100%***********************]  1 of 1 completed/4062 [02:35<1:35:25,  1.45s/it]\n",
      "[*********************100%***********************]  1 of 1 completed/4062 [02:36<1:32:30,  1.40s/it]\n",
      "[*********************100%***********************]  1 of 1 completed/4062 [02:38<1:30:40,  1.38s/it]\n",
      "[*********************100%***********************]  1 of 1 completed/4062 [02:39<1:29:13,  1.35s/it]\n",
      "[*********************100%***********************]  1 of 1 completed/4062 [02:40<1:28:38,  1.35s/it]\n",
      "\n",
      "1 Failed download:\n",
      "['2159.T']: YFTzMissingError('$%ticker%: possibly delisted; no timezone found')\n",
      "  3%|█▌                                                        | 110/4062 [02:42<1:28:38,  1.35s/it]"
     ]
    },
    {
     "name": "stdout",
     "output_type": "stream",
     "text": [
      "No data found for 2159.T. Skipping...\n"
     ]
    },
    {
     "name": "stderr",
     "output_type": "stream",
     "text": [
      "[*********************100%***********************]  1 of 1 completed/4062 [02:43<1:53:24,  1.72s/it]\n",
      "[*********************100%***********************]  1 of 1 completed/4062 [02:44<1:45:52,  1.61s/it]\n",
      "[*********************100%***********************]  1 of 1 completed/4062 [02:45<1:40:38,  1.53s/it]\n",
      "[*********************100%***********************]  1 of 1 completed/4062 [02:47<1:36:43,  1.47s/it]\n",
      "[*********************100%***********************]  1 of 1 completed/4062 [02:48<1:34:08,  1.43s/it]\n",
      "[*********************100%***********************]  1 of 1 completed/4062 [02:49<1:32:01,  1.40s/it]\n",
      "\n",
      "1 Failed download:\n",
      "['7533.T']: YFTzMissingError('$%ticker%: possibly delisted; no timezone found')\n",
      "  3%|█▋                                                        | 116/4062 [02:51<1:32:01,  1.40s/it]"
     ]
    },
    {
     "name": "stdout",
     "output_type": "stream",
     "text": [
      "No data found for 7533.T. Skipping...\n"
     ]
    },
    {
     "name": "stderr",
     "output_type": "stream",
     "text": [
      "[*********************100%***********************]  1 of 1 completed/4062 [02:52<1:45:46,  1.61s/it]\n",
      "\n",
      "1 Failed download:\n",
      "['2679.T']: YFTzMissingError('$%ticker%: possibly delisted; no timezone found')\n",
      "  3%|█▋                                                        | 117/4062 [02:54<1:45:46,  1.61s/it]"
     ]
    },
    {
     "name": "stdout",
     "output_type": "stream",
     "text": [
      "No data found for 2679.T. Skipping...\n"
     ]
    },
    {
     "name": "stderr",
     "output_type": "stream",
     "text": [
      "[*********************100%***********************]  1 of 1 completed/4062 [02:55<2:13:41,  2.03s/it]\n",
      "[*********************100%***********************]  1 of 1 completed/4062 [02:56<1:59:44,  1.82s/it]\n",
      "\n",
      "1 Failed download:\n",
      "['8842.T']: YFTzMissingError('$%ticker%: possibly delisted; no timezone found')\n",
      "  3%|█▋                                                        | 119/4062 [02:57<1:59:44,  1.82s/it]"
     ]
    },
    {
     "name": "stdout",
     "output_type": "stream",
     "text": [
      "No data found for 8842.T. Skipping...\n"
     ]
    },
    {
     "name": "stderr",
     "output_type": "stream",
     "text": [
      "[*********************100%***********************]  1 of 1 completed/4062 [02:58<2:13:28,  2.03s/it]\n",
      "[*********************100%***********************]  1 of 1 completed/4062 [03:00<1:59:38,  1.82s/it]\n",
      "[*********************100%***********************]  1 of 1 completed/4062 [03:01<1:51:16,  1.69s/it]\n",
      "[*********************100%***********************]  1 of 1 completed/4062 [03:02<1:43:56,  1.58s/it]\n",
      "[*********************100%***********************]  1 of 1 completed/4062 [03:04<1:39:10,  1.51s/it]\n",
      "[*********************100%***********************]  1 of 1 completed/4062 [03:05<1:35:50,  1.46s/it]\n",
      "[*********************100%***********************]  1 of 1 completed/4062 [03:06<1:32:36,  1.41s/it]\n",
      "[*********************100%***********************]  1 of 1 completed/4062 [03:08<1:31:19,  1.39s/it]\n",
      "[*********************100%***********************]  1 of 1 completed/4062 [03:09<1:30:27,  1.38s/it]\n",
      "[*********************100%***********************]  1 of 1 completed/4062 [03:10<1:28:56,  1.36s/it]\n",
      "[*********************100%***********************]  1 of 1 completed/4062 [03:12<1:29:05,  1.36s/it]\n",
      "[*********************100%***********************]  1 of 1 completed/4062 [03:13<1:28:12,  1.35s/it]\n",
      "[*********************100%***********************]  1 of 1 completed/4062 [03:14<1:27:53,  1.34s/it]\n",
      "[*********************100%***********************]  1 of 1 completed/4062 [03:16<1:26:51,  1.33s/it]\n",
      "[*********************100%***********************]  1 of 1 completed/4062 [03:17<1:26:25,  1.32s/it]\n",
      "\n",
      "1 Failed download:\n",
      "['6593.T']: YFTzMissingError('$%ticker%: possibly delisted; no timezone found')\n",
      "  3%|█▉                                                        | 134/4062 [03:19<1:26:25,  1.32s/it]"
     ]
    },
    {
     "name": "stdout",
     "output_type": "stream",
     "text": [
      "No data found for 6593.T. Skipping...\n"
     ]
    },
    {
     "name": "stderr",
     "output_type": "stream",
     "text": [
      "[*********************100%***********************]  1 of 1 completed/4062 [03:20<1:49:40,  1.68s/it]\n",
      "[*********************100%***********************]  1 of 1 completed/4062 [03:21<1:42:40,  1.57s/it]\n",
      "[*********************100%***********************]  1 of 1 completed/4062 [03:22<1:37:17,  1.49s/it]\n",
      "[*********************100%***********************]  1 of 1 completed/4062 [03:23<1:33:36,  1.43s/it]\n",
      "[*********************100%***********************]  1 of 1 completed/4062 [03:25<1:31:17,  1.40s/it]\n",
      "[*********************100%***********************]  1 of 1 completed/4062 [03:26<1:35:02,  1.45s/it]\n",
      "\n",
      "1 Failed download:\n",
      "['3211.T']: YFTzMissingError('$%ticker%: possibly delisted; no timezone found')\n",
      "  3%|█▉                                                        | 140/4062 [03:28<1:35:02,  1.45s/it]"
     ]
    },
    {
     "name": "stdout",
     "output_type": "stream",
     "text": [
      "No data found for 3211.T. Skipping...\n"
     ]
    },
    {
     "name": "stderr",
     "output_type": "stream",
     "text": [
      "[*********************100%***********************]  1 of 1 completed/4062 [03:29<2:05:05,  1.91s/it]\n",
      "[*********************100%***********************]  1 of 1 completed/4062 [03:31<1:53:00,  1.73s/it]\n",
      "\n",
      "1 Failed download:\n",
      "['7052.T']: YFTzMissingError('$%ticker%: possibly delisted; no timezone found')\n",
      "  3%|██                                                        | 142/4062 [03:32<1:53:00,  1.73s/it]"
     ]
    },
    {
     "name": "stdout",
     "output_type": "stream",
     "text": [
      "No data found for 7052.T. Skipping...\n"
     ]
    },
    {
     "name": "stderr",
     "output_type": "stream",
     "text": [
      "[*********************100%***********************]  1 of 1 completed/4062 [03:33<2:12:24,  2.03s/it]\n",
      "[*********************100%***********************]  1 of 1 completed/4062 [03:35<2:02:23,  1.87s/it]\n",
      "[*********************100%***********************]  1 of 1 completed/4062 [03:36<1:56:10,  1.78s/it]\n",
      "\n",
      "1 Failed download:\n",
      "['9637.T']: YFTzMissingError('$%ticker%: possibly delisted; no timezone found')\n",
      "  4%|██                                                        | 145/4062 [03:38<1:56:10,  1.78s/it]"
     ]
    },
    {
     "name": "stdout",
     "output_type": "stream",
     "text": [
      "No data found for 9637.T. Skipping...\n"
     ]
    },
    {
     "name": "stderr",
     "output_type": "stream",
     "text": [
      "[*********************100%***********************]  1 of 1 completed/4062 [03:39<2:20:11,  2.15s/it]\n",
      "\n",
      "1 Failed download:\n",
      "['4358.T']: YFTzMissingError('$%ticker%: possibly delisted; no timezone found')\n",
      "  4%|██                                                        | 146/4062 [03:41<2:20:11,  2.15s/it]"
     ]
    },
    {
     "name": "stdout",
     "output_type": "stream",
     "text": [
      "No data found for 4358.T. Skipping...\n"
     ]
    },
    {
     "name": "stderr",
     "output_type": "stream",
     "text": [
      "[*********************100%***********************]  1 of 1 completed/4062 [03:42<2:28:17,  2.27s/it]\n",
      "[*********************100%***********************]  1 of 1 completed/4062 [03:43<2:09:16,  1.98s/it]\n",
      "[*********************100%***********************]  1 of 1 completed/4062 [03:45<1:55:44,  1.77s/it]\n",
      "\n",
      "1 Failed download:\n",
      "['4219.T']: YFPricesMissingError('$%ticker%: possibly delisted; no price data found  (1d 2024-10-13 -> 2024-10-20)')\n",
      "  4%|██▏                                                       | 149/4062 [03:45<1:55:44,  1.77s/it]"
     ]
    },
    {
     "name": "stdout",
     "output_type": "stream",
     "text": [
      "No data found for 4219.T. Skipping...\n"
     ]
    },
    {
     "name": "stderr",
     "output_type": "stream",
     "text": [
      "[*********************100%***********************]  1 of 1 completed/4062 [03:46<1:46:08,  1.63s/it]\n",
      "[*********************100%***********************]  1 of 1 completed/4062 [03:47<1:39:44,  1.53s/it]\n",
      "\n",
      "1 Failed download:\n",
      "['6179.T']: YFPricesMissingError('$%ticker%: possibly delisted; no price data found  (1d 2024-10-13 -> 2024-10-20)')\n",
      "  4%|██▏                                                       | 151/4062 [03:48<1:39:44,  1.53s/it]"
     ]
    },
    {
     "name": "stdout",
     "output_type": "stream",
     "text": [
      "No data found for 6179.T. Skipping...\n"
     ]
    },
    {
     "name": "stderr",
     "output_type": "stream",
     "text": [
      "[*********************100%***********************]  1 of 1 completed/4062 [03:49<1:34:45,  1.45s/it]\n",
      "[*********************100%***********************]  1 of 1 completed/4062 [03:50<1:33:25,  1.43s/it]\n",
      "[*********************100%***********************]  1 of 1 completed/4062 [03:51<1:31:13,  1.40s/it]\n",
      "[*********************100%***********************]  1 of 1 completed/4062 [03:53<1:29:39,  1.38s/it]\n",
      "[*********************100%***********************]  1 of 1 completed/4062 [03:54<1:28:12,  1.35s/it]\n",
      "[*********************100%***********************]  1 of 1 completed/4062 [03:55<1:27:08,  1.34s/it]\n",
      "[*********************100%***********************]  1 of 1 completed/4062 [03:56<1:26:27,  1.33s/it]\n",
      "[*********************100%***********************]  1 of 1 completed/4062 [03:58<1:25:54,  1.32s/it]\n",
      "[*********************100%***********************]  1 of 1 completed/4062 [03:59<1:25:27,  1.31s/it]\n",
      "[*********************100%***********************]  1 of 1 completed/4062 [04:00<1:26:27,  1.33s/it]\n",
      "[*********************100%***********************]  1 of 1 completed/4062 [04:02<1:25:52,  1.32s/it]\n",
      "[*********************100%***********************]  1 of 1 completed/4062 [04:03<1:25:03,  1.31s/it]\n",
      "[*********************100%***********************]  1 of 1 completed/4062 [04:04<1:24:50,  1.31s/it]\n",
      "[*********************100%***********************]  1 of 1 completed/4062 [04:06<1:25:04,  1.31s/it]\n",
      "[*********************100%***********************]  1 of 1 completed/4062 [04:07<1:24:59,  1.31s/it]\n",
      "[*********************100%***********************]  1 of 1 completed/4062 [04:08<1:25:01,  1.31s/it]\n",
      "[*********************100%***********************]  1 of 1 completed/4062 [04:10<1:24:54,  1.31s/it]\n",
      "\n",
      "1 Failed download:\n",
      "['1312.T']: YFPricesMissingError('$%ticker%: possibly delisted; no price data found  (1d 2024-10-13 -> 2024-10-20)')\n",
      "  4%|██▍                                                       | 168/4062 [04:10<1:24:54,  1.31s/it]"
     ]
    },
    {
     "name": "stdout",
     "output_type": "stream",
     "text": [
      "No data found for 1312.T. Skipping...\n"
     ]
    },
    {
     "name": "stderr",
     "output_type": "stream",
     "text": [
      "[*********************100%***********************]  1 of 1 completed/4062 [04:11<1:24:19,  1.30s/it]\n",
      "[*********************100%***********************]  1 of 1 completed/4062 [04:12<1:24:13,  1.30s/it]\n",
      "[*********************100%***********************]  1 of 1 completed/4062 [04:13<1:24:48,  1.31s/it]\n",
      "[*********************100%***********************]  1 of 1 completed/4062 [04:15<1:24:51,  1.31s/it]\n",
      "\n",
      "1 Failed download:\n",
      "['7488.T']: YFTzMissingError('$%ticker%: possibly delisted; no timezone found')\n",
      "  4%|██▍                                                       | 172/4062 [04:17<1:24:51,  1.31s/it]"
     ]
    },
    {
     "name": "stdout",
     "output_type": "stream",
     "text": [
      "No data found for 7488.T. Skipping...\n"
     ]
    },
    {
     "name": "stderr",
     "output_type": "stream",
     "text": [
      "[*********************100%***********************]  1 of 1 completed/4062 [04:18<1:53:58,  1.76s/it]\n",
      "[*********************100%***********************]  1 of 1 completed/4062 [04:19<1:45:32,  1.63s/it]\n",
      "[*********************100%***********************]  1 of 1 completed/4062 [04:20<1:39:55,  1.54s/it]\n",
      "[*********************100%***********************]  1 of 1 completed/4062 [04:22<1:35:29,  1.47s/it]\n",
      "\n",
      "1 Failed download:\n",
      "['1612.T']: YFPricesMissingError('$%ticker%: possibly delisted; no price data found  (1d 2024-10-13 -> 2024-10-20)')\n",
      "  4%|██▌                                                       | 176/4062 [04:22<1:35:29,  1.47s/it]"
     ]
    },
    {
     "name": "stdout",
     "output_type": "stream",
     "text": [
      "No data found for 1612.T. Skipping...\n"
     ]
    },
    {
     "name": "stderr",
     "output_type": "stream",
     "text": [
      "[*********************100%***********************]  1 of 1 completed/4062 [04:23<1:31:46,  1.42s/it]\n",
      "[*********************100%***********************]  1 of 1 completed/4062 [04:24<1:29:27,  1.38s/it]\n",
      "[*********************100%***********************]  1 of 1 completed/4062 [04:25<1:27:48,  1.36s/it]\n",
      "[*********************100%***********************]  1 of 1 completed/4062 [04:27<1:27:38,  1.35s/it]\n",
      "[*********************100%***********************]  1 of 1 completed/4062 [04:28<1:27:18,  1.35s/it]\n",
      "[*********************100%***********************]  1 of 1 completed/4062 [04:29<1:26:46,  1.34s/it]\n",
      "\n",
      "1 Failed download:\n",
      "['3456.T']: YFTzMissingError('$%ticker%: possibly delisted; no timezone found')\n",
      "  4%|██▌                                                       | 182/4062 [04:31<1:26:46,  1.34s/it]"
     ]
    },
    {
     "name": "stdout",
     "output_type": "stream",
     "text": [
      "No data found for 3456.T. Skipping...\n"
     ]
    },
    {
     "name": "stderr",
     "output_type": "stream",
     "text": [
      "[*********************100%***********************]  1 of 1 completed/4062 [04:32<1:42:42,  1.59s/it]\n",
      "\n",
      "1 Failed download:\n",
      "['2030.T']: YFTzMissingError('$%ticker%: possibly delisted; no timezone found')\n",
      "  5%|██▌                                                       | 183/4062 [04:33<1:42:42,  1.59s/it]"
     ]
    },
    {
     "name": "stdout",
     "output_type": "stream",
     "text": [
      "No data found for 2030.T. Skipping...\n"
     ]
    },
    {
     "name": "stderr",
     "output_type": "stream",
     "text": [
      "[*********************100%***********************]  1 of 1 completed/4062 [04:34<2:00:27,  1.86s/it]\n",
      "\n",
      "1 Failed download:\n",
      "['2029.T']: YFTzMissingError('$%ticker%: possibly delisted; no timezone found')\n",
      "  5%|██▋                                                       | 184/4062 [04:35<2:00:27,  1.86s/it]"
     ]
    },
    {
     "name": "stdout",
     "output_type": "stream",
     "text": [
      "No data found for 2029.T. Skipping...\n"
     ]
    },
    {
     "name": "stderr",
     "output_type": "stream",
     "text": [
      "[*********************100%***********************]  1 of 1 completed/4062 [04:36<2:06:50,  1.96s/it]\n",
      "\n",
      "1 Failed download:\n",
      "['2028.T']: YFTzMissingError('$%ticker%: possibly delisted; no timezone found')\n",
      "  5%|██▋                                                       | 185/4062 [04:38<2:06:50,  1.96s/it]"
     ]
    },
    {
     "name": "stdout",
     "output_type": "stream",
     "text": [
      "No data found for 2028.T. Skipping...\n"
     ]
    },
    {
     "name": "stderr",
     "output_type": "stream",
     "text": [
      "[*********************100%***********************]  1 of 1 completed/4062 [04:39<2:12:21,  2.05s/it]\n",
      "\n",
      "1 Failed download:\n",
      "['2027.T']: YFTzMissingError('$%ticker%: possibly delisted; no timezone found')\n",
      "  5%|██▋                                                       | 186/4062 [04:40<2:12:21,  2.05s/it]"
     ]
    },
    {
     "name": "stdout",
     "output_type": "stream",
     "text": [
      "No data found for 2027.T. Skipping...\n"
     ]
    },
    {
     "name": "stderr",
     "output_type": "stream",
     "text": [
      "[*********************100%***********************]  1 of 1 completed/4062 [04:41<2:21:40,  2.19s/it]\n",
      "\n",
      "1 Failed download:\n",
      "['2026.T']: YFTzMissingError('$%ticker%: possibly delisted; no timezone found')\n",
      "  5%|██▋                                                       | 187/4062 [04:42<2:21:40,  2.19s/it]"
     ]
    },
    {
     "name": "stdout",
     "output_type": "stream",
     "text": [
      "No data found for 2026.T. Skipping...\n"
     ]
    },
    {
     "name": "stderr",
     "output_type": "stream",
     "text": [
      "[*********************100%***********************]  1 of 1 completed/4062 [04:43<2:21:50,  2.20s/it]\n",
      "\n",
      "1 Failed download:\n",
      "['2025.T']: YFTzMissingError('$%ticker%: possibly delisted; no timezone found')\n",
      "  5%|██▋                                                       | 188/4062 [04:45<2:21:50,  2.20s/it]"
     ]
    },
    {
     "name": "stdout",
     "output_type": "stream",
     "text": [
      "No data found for 2025.T. Skipping...\n"
     ]
    },
    {
     "name": "stderr",
     "output_type": "stream",
     "text": [
      "[*********************100%***********************]  1 of 1 completed/4062 [04:46<2:30:58,  2.34s/it]\n",
      "\n",
      "1 Failed download:\n",
      "['2024.T']: YFTzMissingError('$%ticker%: possibly delisted; no timezone found')\n",
      "  5%|██▋                                                       | 189/4062 [04:47<2:30:58,  2.34s/it]"
     ]
    },
    {
     "name": "stdout",
     "output_type": "stream",
     "text": [
      "No data found for 2024.T. Skipping...\n"
     ]
    },
    {
     "name": "stderr",
     "output_type": "stream",
     "text": [
      "[*********************100%***********************]  1 of 1 completed/4062 [04:48<2:26:26,  2.27s/it]\n",
      "[*********************100%***********************]  1 of 1 completed/4062 [04:49<2:07:23,  1.97s/it]\n",
      "[*********************100%***********************]  1 of 1 completed/4062 [04:51<1:54:18,  1.77s/it]\n",
      "[*********************100%***********************]  1 of 1 completed/4062 [04:52<1:46:23,  1.65s/it]\n",
      "\n",
      "1 Failed download:\n",
      "['4699.T']: YFTzMissingError('$%ticker%: possibly delisted; no timezone found')\n",
      "  5%|██▊                                                       | 193/4062 [04:53<1:46:23,  1.65s/it]"
     ]
    },
    {
     "name": "stdout",
     "output_type": "stream",
     "text": [
      "No data found for 4699.T. Skipping...\n"
     ]
    },
    {
     "name": "stderr",
     "output_type": "stream",
     "text": [
      "[*********************100%***********************]  1 of 1 completed/4062 [04:54<1:54:04,  1.77s/it]\n",
      "\n",
      "1 Failed download:\n",
      "['4669.T']: YFTzMissingError('$%ticker%: possibly delisted; no timezone found')\n",
      "  5%|██▊                                                       | 194/4062 [04:56<1:54:04,  1.77s/it]"
     ]
    },
    {
     "name": "stdout",
     "output_type": "stream",
     "text": [
      "No data found for 4669.T. Skipping...\n"
     ]
    },
    {
     "name": "stderr",
     "output_type": "stream",
     "text": [
      "[*********************100%***********************]  1 of 1 completed/4062 [04:57<2:13:34,  2.07s/it]\n",
      "[*********************100%***********************]  1 of 1 completed/4062 [04:58<1:59:04,  1.85s/it]\n",
      "[*********************100%***********************]  1 of 1 completed/4062 [05:00<1:49:25,  1.70s/it]\n",
      "\n",
      "1 Failed download:\n",
      "['3298.T']: YFTzMissingError('$%ticker%: possibly delisted; no timezone found')\n",
      "  5%|██▊                                                       | 197/4062 [05:01<1:49:25,  1.70s/it]"
     ]
    },
    {
     "name": "stdout",
     "output_type": "stream",
     "text": [
      "No data found for 3298.T. Skipping...\n"
     ]
    },
    {
     "name": "stderr",
     "output_type": "stream",
     "text": [
      "[*********************100%***********************]  1 of 1 completed/4062 [05:02<2:06:21,  1.96s/it]\n",
      "[*********************100%***********************]  1 of 1 completed/4062 [05:03<1:53:32,  1.76s/it]\n",
      "[*********************100%***********************]  1 of 1 completed/4062 [05:05<1:45:00,  1.63s/it]\n",
      "[*********************100%***********************]  1 of 1 completed/4062 [05:06<1:39:04,  1.54s/it]\n",
      "[*********************100%***********************]  1 of 1 completed/4062 [05:07<1:34:53,  1.48s/it]\n",
      "[*********************100%***********************]  1 of 1 completed/4062 [05:09<1:32:17,  1.44s/it]\n",
      "[*********************100%***********************]  1 of 1 completed/4062 [05:10<1:29:48,  1.40s/it]\n",
      "\n",
      "1 Failed download:\n",
      "['6669.T']: YFPricesMissingError('$%ticker%: possibly delisted; no price data found  (1d 2024-10-13 -> 2024-10-20)')\n",
      "  5%|██▉                                                       | 204/4062 [05:10<1:29:48,  1.40s/it]"
     ]
    },
    {
     "name": "stdout",
     "output_type": "stream",
     "text": [
      "No data found for 6669.T. Skipping...\n"
     ]
    },
    {
     "name": "stderr",
     "output_type": "stream",
     "text": [
      "[*********************100%***********************]  1 of 1 completed/4062 [05:11<1:27:54,  1.37s/it]\n",
      "[*********************100%***********************]  1 of 1 completed/4062 [05:13<1:26:23,  1.34s/it]\n",
      "[*********************100%***********************]  1 of 1 completed/4062 [05:14<1:25:35,  1.33s/it]\n",
      "[*********************100%***********************]  1 of 1 completed/4062 [05:15<1:25:09,  1.33s/it]\n",
      "\n",
      "1 Failed download:\n",
      "['3919.T']: YFTzMissingError('$%ticker%: possibly delisted; no timezone found')\n",
      "  5%|██▉                                                       | 208/4062 [05:17<1:25:09,  1.33s/it]"
     ]
    },
    {
     "name": "stdout",
     "output_type": "stream",
     "text": [
      "No data found for 3919.T. Skipping...\n"
     ]
    },
    {
     "name": "stderr",
     "output_type": "stream",
     "text": [
      "[*********************100%***********************]  1 of 1 completed/4062 [05:18<1:50:44,  1.72s/it]\n",
      "[*********************100%***********************]  1 of 1 completed/4062 [05:19<1:42:58,  1.60s/it]\n",
      "[*********************100%***********************]  1 of 1 completed/4062 [05:21<1:37:01,  1.51s/it]\n",
      "[*********************100%***********************]  1 of 1 completed/4062 [05:22<1:32:44,  1.45s/it]\n",
      "\n",
      "1 Failed download:\n",
      "['2144.T']: YFTzMissingError('$%ticker%: possibly delisted; no timezone found')\n",
      "  5%|███                                                       | 212/4062 [05:24<1:32:44,  1.45s/it]"
     ]
    },
    {
     "name": "stdout",
     "output_type": "stream",
     "text": [
      "No data found for 2144.T. Skipping...\n"
     ]
    },
    {
     "name": "stderr",
     "output_type": "stream",
     "text": [
      "[*********************100%***********************]  1 of 1 completed/4062 [05:25<2:01:16,  1.89s/it]\n",
      "\n",
      "1 Failed download:\n",
      "['9664.T']: YFTzMissingError('$%ticker%: possibly delisted; no timezone found')\n",
      "  5%|███                                                       | 213/4062 [05:26<2:01:16,  1.89s/it]"
     ]
    },
    {
     "name": "stdout",
     "output_type": "stream",
     "text": [
      "No data found for 9664.T. Skipping...\n"
     ]
    },
    {
     "name": "stderr",
     "output_type": "stream",
     "text": [
      "[*********************100%***********************]  1 of 1 completed/4062 [05:27<2:12:24,  2.06s/it]\n",
      "[*********************100%***********************]  1 of 1 completed/4062 [05:28<1:57:28,  1.83s/it]\n",
      "\n",
      "1 Failed download:\n",
      "['2703.T']: YFTzMissingError('$%ticker%: possibly delisted; no timezone found')\n",
      "  5%|███                                                       | 215/4062 [05:30<1:57:28,  1.83s/it]"
     ]
    },
    {
     "name": "stdout",
     "output_type": "stream",
     "text": [
      "No data found for 2703.T. Skipping...\n"
     ]
    },
    {
     "name": "stderr",
     "output_type": "stream",
     "text": [
      "[*********************100%***********************]  1 of 1 completed/4062 [05:31<2:15:12,  2.11s/it]\n",
      "[*********************100%***********************]  1 of 1 completed/4062 [05:33<2:00:26,  1.88s/it]\n",
      "[*********************100%***********************]  1 of 1 completed/4062 [05:34<1:50:13,  1.72s/it]\n",
      "[*********************100%***********************]  1 of 1 completed/4062 [05:35<1:42:35,  1.60s/it]\n",
      "[*********************100%***********************]  1 of 1 completed/4062 [05:37<1:37:59,  1.53s/it]\n",
      "\n",
      "1 Failed download:\n",
      "['2777.T']: YFTzMissingError('$%ticker%: possibly delisted; no timezone found')\n",
      "  5%|███▏                                                      | 220/4062 [05:38<1:37:59,  1.53s/it]"
     ]
    },
    {
     "name": "stdout",
     "output_type": "stream",
     "text": [
      "No data found for 2777.T. Skipping...\n"
     ]
    },
    {
     "name": "stderr",
     "output_type": "stream",
     "text": [
      "[*********************100%***********************]  1 of 1 completed/4062 [05:39<2:00:52,  1.89s/it]\n",
      "[*********************100%***********************]  1 of 1 completed/4062 [05:41<1:50:18,  1.72s/it]\n",
      "[*********************100%***********************]  1 of 1 completed/4062 [05:42<1:41:52,  1.59s/it]\n",
      "[*********************100%***********************]  1 of 1 completed/4062 [05:43<1:36:58,  1.52s/it]\n",
      "[*********************100%***********************]  1 of 1 completed/4062 [05:45<1:34:00,  1.47s/it]\n",
      "[*********************100%***********************]  1 of 1 completed/4062 [05:46<1:31:38,  1.43s/it]\n",
      "[*********************100%***********************]  1 of 1 completed/4062 [05:47<1:31:28,  1.43s/it]\n",
      "[*********************100%***********************]  1 of 1 completed/4062 [05:49<1:29:07,  1.39s/it]\n",
      "[*********************100%***********************]  1 of 1 completed/4062 [05:50<1:27:54,  1.38s/it]\n",
      "[*********************100%***********************]  1 of 1 completed/4062 [05:51<1:27:20,  1.37s/it]\n",
      "[*********************100%***********************]  1 of 1 completed/4062 [05:53<1:26:22,  1.35s/it]\n",
      "[*********************100%***********************]  1 of 1 completed/4062 [05:54<1:26:37,  1.36s/it]\n",
      "[*********************100%***********************]  1 of 1 completed/4062 [05:55<1:26:26,  1.35s/it]\n",
      "[*********************100%***********************]  1 of 1 completed/4062 [05:57<1:25:38,  1.34s/it]\n",
      "[*********************100%***********************]  1 of 1 completed/4062 [05:58<1:25:39,  1.34s/it]\n",
      "[*********************100%***********************]  1 of 1 completed/4062 [05:59<1:26:03,  1.35s/it]\n",
      "[*********************100%***********************]  1 of 1 completed/4062 [06:01<1:24:46,  1.33s/it]\n",
      "[*********************100%***********************]  1 of 1 completed/4062 [06:02<1:25:21,  1.34s/it]\n",
      "[*********************100%***********************]  1 of 1 completed/4062 [06:03<1:25:14,  1.34s/it]\n",
      "[*********************100%***********************]  1 of 1 completed/4062 [06:05<1:25:18,  1.34s/it]\n",
      "[*********************100%***********************]  1 of 1 completed/4062 [06:06<1:25:26,  1.34s/it]\n",
      "[*********************100%***********************]  1 of 1 completed/4062 [06:08<1:25:22,  1.34s/it]\n",
      "\n",
      "1 Failed download:\n",
      "['9797.T']: YFTzMissingError('$%ticker%: possibly delisted; no timezone found')\n",
      "  6%|███▍                                                      | 242/4062 [06:09<1:25:22,  1.34s/it]"
     ]
    },
    {
     "name": "stdout",
     "output_type": "stream",
     "text": [
      "No data found for 9797.T. Skipping...\n"
     ]
    },
    {
     "name": "stderr",
     "output_type": "stream",
     "text": [
      "[*********************100%***********************]  1 of 1 completed/4062 [06:10<1:43:16,  1.62s/it]\n",
      "[*********************100%***********************]  1 of 1 completed/4062 [06:11<1:37:30,  1.53s/it]\n",
      "[*********************100%***********************]  1 of 1 completed/4062 [06:12<1:34:51,  1.49s/it]\n",
      "[*********************100%***********************]  1 of 1 completed/4062 [06:14<1:32:00,  1.45s/it]\n",
      "[*********************100%***********************]  1 of 1 completed/4062 [06:15<1:30:06,  1.42s/it]\n",
      "[*********************100%***********************]  1 of 1 completed/4062 [06:17<1:29:06,  1.40s/it]\n",
      "[*********************100%***********************]  1 of 1 completed/4062 [06:18<1:27:37,  1.38s/it]\n",
      "[*********************100%***********************]  1 of 1 completed/4062 [06:19<1:27:56,  1.38s/it]\n",
      "\n",
      "1 Failed download:\n",
      "['8885.T']: YFTzMissingError('$%ticker%: possibly delisted; no timezone found')\n",
      "  6%|███▌                                                      | 250/4062 [06:21<1:27:56,  1.38s/it]"
     ]
    },
    {
     "name": "stdout",
     "output_type": "stream",
     "text": [
      "No data found for 8885.T. Skipping...\n"
     ]
    },
    {
     "name": "stderr",
     "output_type": "stream",
     "text": [
      "[*********************100%***********************]  1 of 1 completed/4062 [06:22<1:52:34,  1.77s/it]\n",
      "[*********************100%***********************]  1 of 1 completed/4062 [06:23<1:44:02,  1.64s/it]\n",
      "[*********************100%***********************]  1 of 1 completed/4062 [06:25<1:51:19,  1.75s/it]\n",
      "[*********************100%***********************]  1 of 1 completed/4062 [06:27<1:43:22,  1.63s/it]\n",
      "[*********************100%***********************]  1 of 1 completed/4062 [06:28<1:38:13,  1.55s/it]\n",
      "[*********************100%***********************]  1 of 1 completed/4062 [06:29<1:33:06,  1.47s/it]\n",
      "[*********************100%***********************]  1 of 1 completed/4062 [06:31<1:31:10,  1.44s/it]\n",
      "[*********************100%***********************]  1 of 1 completed/4062 [06:32<1:29:24,  1.41s/it]\n",
      "\n",
      "1 Failed download:\n",
      "['7825.T']: YFPricesMissingError('$%ticker%: possibly delisted; no price data found  (1d 2024-10-13 -> 2024-10-20)')\n",
      "  6%|███▋                                                      | 258/4062 [06:32<1:29:24,  1.41s/it]"
     ]
    },
    {
     "name": "stdout",
     "output_type": "stream",
     "text": [
      "No data found for 7825.T. Skipping...\n"
     ]
    },
    {
     "name": "stderr",
     "output_type": "stream",
     "text": [
      "[*********************100%***********************]  1 of 1 completed/4062 [06:33<1:26:44,  1.37s/it]\n",
      "[*********************100%***********************]  1 of 1 completed/4062 [06:35<1:25:33,  1.35s/it]\n",
      "[*********************100%***********************]  1 of 1 completed/4062 [06:36<1:25:28,  1.35s/it]\n",
      "[*********************100%***********************]  1 of 1 completed/4062 [06:37<1:25:50,  1.36s/it]\n",
      "[*********************100%***********************]  1 of 1 completed/4062 [06:39<1:25:55,  1.36s/it]\n",
      "[*********************100%***********************]  1 of 1 completed/4062 [06:40<1:24:43,  1.34s/it]\n",
      "[*********************100%***********************]  1 of 1 completed/4062 [06:41<1:24:47,  1.34s/it]\n",
      "[*********************100%***********************]  1 of 1 completed/4062 [06:43<1:25:22,  1.35s/it]\n",
      "\n",
      "1 Failed download:\n",
      "['6789.T']: YFPricesMissingError('$%ticker%: possibly delisted; no price data found  (1d 2024-10-13 -> 2024-10-20)')\n",
      "  7%|███▊                                                      | 266/4062 [06:43<1:25:22,  1.35s/it]"
     ]
    },
    {
     "name": "stdout",
     "output_type": "stream",
     "text": [
      "No data found for 6789.T. Skipping...\n"
     ]
    },
    {
     "name": "stderr",
     "output_type": "stream",
     "text": [
      "[*********************100%***********************]  1 of 1 completed/4062 [06:44<1:24:42,  1.34s/it]\n",
      "[*********************100%***********************]  1 of 1 completed/4062 [06:45<1:26:40,  1.37s/it]\n",
      "[*********************100%***********************]  1 of 1 completed/4062 [06:47<1:25:11,  1.35s/it]\n",
      "[*********************100%***********************]  1 of 1 completed/4062 [06:48<1:24:46,  1.34s/it]\n",
      "[*********************100%***********************]  1 of 1 completed/4062 [06:49<1:25:30,  1.35s/it]\n",
      "[*********************100%***********************]  1 of 1 completed/4062 [06:51<1:24:57,  1.35s/it]\n",
      "[*********************100%***********************]  1 of 1 completed/4062 [06:52<1:29:33,  1.42s/it]\n",
      "\n",
      "1 Failed download:\n",
      "['6314.T']: YFPricesMissingError('$%ticker%: possibly delisted; no price data found  (1d 2024-10-13 -> 2024-10-20)')\n",
      "  7%|███▉                                                      | 273/4062 [06:53<1:29:33,  1.42s/it]"
     ]
    },
    {
     "name": "stdout",
     "output_type": "stream",
     "text": [
      "No data found for 6314.T. Skipping...\n"
     ]
    },
    {
     "name": "stderr",
     "output_type": "stream",
     "text": [
      "[*********************100%***********************]  1 of 1 completed/4062 [06:54<1:27:57,  1.39s/it]\n",
      "[*********************100%***********************]  1 of 1 completed/4062 [06:55<1:26:31,  1.37s/it]\n",
      "[*********************100%***********************]  1 of 1 completed/4062 [06:56<1:26:23,  1.37s/it]\n",
      "[*********************100%***********************]  1 of 1 completed/4062 [06:58<1:24:48,  1.34s/it]\n",
      "[*********************100%***********************]  1 of 1 completed/4062 [06:59<1:25:01,  1.35s/it]\n",
      "[*********************100%***********************]  1 of 1 completed/4062 [07:00<1:25:20,  1.35s/it]\n",
      "\n",
      "1 Failed download:\n",
      "['4748.T']: YFTzMissingError('$%ticker%: possibly delisted; no timezone found')\n",
      "  7%|███▉                                                      | 279/4062 [07:02<1:25:20,  1.35s/it]"
     ]
    },
    {
     "name": "stdout",
     "output_type": "stream",
     "text": [
      "No data found for 4748.T. Skipping...\n"
     ]
    },
    {
     "name": "stderr",
     "output_type": "stream",
     "text": [
      "[*********************100%***********************]  1 of 1 completed/4062 [07:03<1:45:53,  1.68s/it]\n",
      "[*********************100%***********************]  1 of 1 completed/4062 [07:04<1:39:15,  1.57s/it]\n",
      "[*********************100%***********************]  1 of 1 completed/4062 [07:05<1:34:49,  1.51s/it]\n",
      "[*********************100%***********************]  1 of 1 completed/4062 [07:07<1:33:13,  1.48s/it]\n",
      "[*********************100%***********************]  1 of 1 completed/4062 [07:08<1:29:23,  1.42s/it]\n",
      "\n",
      "1 Failed download:\n",
      "['4585.T']: YFTzMissingError('$%ticker%: possibly delisted; no timezone found')\n",
      "  7%|████                                                      | 284/4062 [07:09<1:29:23,  1.42s/it]"
     ]
    },
    {
     "name": "stdout",
     "output_type": "stream",
     "text": [
      "No data found for 4585.T. Skipping...\n"
     ]
    },
    {
     "name": "stderr",
     "output_type": "stream",
     "text": [
      "[*********************100%***********************]  1 of 1 completed/4062 [07:10<1:44:56,  1.67s/it]\n",
      "[*********************100%***********************]  1 of 1 completed/4062 [07:12<1:38:04,  1.56s/it]\n",
      "[*********************100%***********************]  1 of 1 completed/4062 [07:13<1:33:57,  1.49s/it]\n",
      "[*********************100%***********************]  1 of 1 completed/4062 [07:14<1:30:33,  1.44s/it]\n",
      "[*********************100%***********************]  1 of 1 completed/4062 [07:16<1:27:35,  1.39s/it]\n",
      "[*********************100%***********************]  1 of 1 completed/4062 [07:17<1:26:36,  1.38s/it]\n",
      "[*********************100%***********************]  1 of 1 completed/4062 [07:18<1:27:04,  1.39s/it]\n",
      "[*********************100%***********************]  1 of 1 completed/4062 [07:20<1:26:34,  1.38s/it]\n",
      "[*********************100%***********************]  1 of 1 completed/4062 [07:21<1:24:52,  1.35s/it]\n",
      "\n",
      "1 Failed download:\n",
      "['3734.T']: YFPricesMissingError('$%ticker%: possibly delisted; no price data found  (1d 2024-10-13 -> 2024-10-20)')\n",
      "  7%|████▏                                                     | 293/4062 [07:21<1:24:52,  1.35s/it]"
     ]
    },
    {
     "name": "stdout",
     "output_type": "stream",
     "text": [
      "No data found for 3734.T. Skipping...\n"
     ]
    },
    {
     "name": "stderr",
     "output_type": "stream",
     "text": [
      "[*********************100%***********************]  1 of 1 completed/4062 [07:22<1:23:24,  1.33s/it]\n",
      "[*********************100%***********************]  1 of 1 completed/4062 [07:24<1:22:50,  1.32s/it]\n",
      "[*********************100%***********************]  1 of 1 completed/4062 [07:25<1:24:16,  1.34s/it]\n",
      "[*********************100%***********************]  1 of 1 completed/4062 [07:26<1:23:51,  1.34s/it]\n",
      "[*********************100%***********************]  1 of 1 completed/4062 [07:28<1:24:28,  1.35s/it]\n",
      "[*********************100%***********************]  1 of 1 completed/4062 [07:29<1:24:00,  1.34s/it]\n",
      "[*********************100%***********************]  1 of 1 completed/4062 [07:30<1:23:19,  1.33s/it]\n",
      "[*********************100%***********************]  1 of 1 completed/4062 [07:32<1:23:00,  1.32s/it]\n",
      "[*********************100%***********************]  1 of 1 completed/4062 [07:33<1:23:27,  1.33s/it]\n",
      "[*********************100%***********************]  1 of 1 completed/4062 [07:34<1:23:04,  1.33s/it]\n",
      "[*********************100%***********************]  1 of 1 completed/4062 [07:36<1:22:39,  1.32s/it]\n",
      "[*********************100%***********************]  1 of 1 completed/4062 [07:37<1:22:26,  1.32s/it]\n",
      "[*********************100%***********************]  1 of 1 completed/4062 [07:38<1:22:13,  1.31s/it]\n",
      "[*********************100%***********************]  1 of 1 completed/4062 [07:40<1:22:15,  1.31s/it]\n",
      "[*********************100%***********************]  1 of 1 completed/4062 [07:41<1:21:43,  1.31s/it]\n",
      "[*********************100%***********************]  1 of 1 completed/4062 [07:42<1:22:38,  1.32s/it]\n",
      "[*********************100%***********************]  1 of 1 completed/4062 [07:44<1:22:20,  1.32s/it]\n",
      "[*********************100%***********************]  1 of 1 completed/4062 [07:45<1:23:04,  1.33s/it]\n",
      "[*********************100%***********************]  1 of 1 completed/4062 [07:46<1:24:10,  1.35s/it]\n",
      "[*********************100%***********************]  1 of 1 completed/4062 [07:48<1:24:05,  1.35s/it]\n",
      "[*********************100%***********************]  1 of 1 completed/4062 [07:49<1:24:03,  1.35s/it]\n",
      "[*********************100%***********************]  1 of 1 completed/4062 [07:50<1:24:03,  1.35s/it]\n",
      "[*********************100%***********************]  1 of 1 completed/4062 [07:52<1:24:19,  1.35s/it]\n",
      "[*********************100%***********************]  1 of 1 completed/4062 [07:53<1:23:44,  1.34s/it]\n",
      "[*********************100%***********************]  1 of 1 completed/4062 [07:54<1:23:52,  1.34s/it]\n",
      "[*********************100%***********************]  1 of 1 completed/4062 [07:56<1:23:04,  1.33s/it]\n",
      "[*********************100%***********************]  1 of 1 completed/4062 [07:57<1:23:17,  1.34s/it]\n",
      "[*********************100%***********************]  1 of 1 completed/4062 [07:58<1:22:46,  1.33s/it]\n",
      "\n",
      "1 Failed download:\n",
      "['1954.T']: YFTzMissingError('$%ticker%: possibly delisted; no timezone found')\n",
      "  8%|████▌                                                     | 321/4062 [08:00<1:22:46,  1.33s/it]"
     ]
    },
    {
     "name": "stdout",
     "output_type": "stream",
     "text": [
      "No data found for 1954.T. Skipping...\n"
     ]
    },
    {
     "name": "stderr",
     "output_type": "stream",
     "text": [
      "[*********************100%***********************]  1 of 1 completed/4062 [08:01<1:46:18,  1.71s/it]\n",
      "[*********************100%***********************]  1 of 1 completed/4062 [08:02<1:39:17,  1.59s/it]\n",
      "[*********************100%***********************]  1 of 1 completed/4062 [08:03<1:33:12,  1.50s/it]\n",
      "[*********************100%***********************]  1 of 1 completed/4062 [08:05<1:30:25,  1.45s/it]\n",
      "\n",
      "1 Failed download:\n",
      "['9707.T']: YFTzMissingError('$%ticker%: possibly delisted; no timezone found')\n",
      "  8%|████▋                                                     | 325/4062 [08:07<1:30:25,  1.45s/it]"
     ]
    },
    {
     "name": "stdout",
     "output_type": "stream",
     "text": [
      "No data found for 9707.T. Skipping...\n"
     ]
    },
    {
     "name": "stderr",
     "output_type": "stream",
     "text": [
      "[*********************100%***********************]  1 of 1 completed/4062 [08:08<1:55:27,  1.85s/it]\n",
      "[*********************100%***********************]  1 of 1 completed/4062 [08:09<1:45:31,  1.70s/it]\n",
      "[*********************100%***********************]  1 of 1 completed/4062 [08:10<1:39:05,  1.59s/it]\n",
      "[*********************100%***********************]  1 of 1 completed/4062 [08:12<1:34:01,  1.51s/it]\n",
      "\n",
      "1 Failed download:\n",
      "['8594.T']: YFTzMissingError('$%ticker%: possibly delisted; no timezone found')\n",
      "  8%|████▋                                                     | 329/4062 [08:13<1:34:01,  1.51s/it]"
     ]
    },
    {
     "name": "stdout",
     "output_type": "stream",
     "text": [
      "No data found for 8594.T. Skipping...\n"
     ]
    },
    {
     "name": "stderr",
     "output_type": "stream",
     "text": [
      "[*********************100%***********************]  1 of 1 completed/4062 [08:14<1:45:40,  1.70s/it]\n",
      "\n",
      "1 Failed download:\n",
      "['8191.T']: YFPricesMissingError('$%ticker%: possibly delisted; no price data found  (1d 2024-10-13 -> 2024-10-20)')\n",
      "  8%|████▋                                                     | 330/4062 [08:14<1:45:40,  1.70s/it]"
     ]
    },
    {
     "name": "stdout",
     "output_type": "stream",
     "text": [
      "No data found for 8191.T. Skipping...\n"
     ]
    },
    {
     "name": "stderr",
     "output_type": "stream",
     "text": [
      "[*********************100%***********************]  1 of 1 completed/4062 [08:15<1:38:27,  1.58s/it]\n",
      "[*********************100%***********************]  1 of 1 completed/4062 [08:16<1:34:03,  1.51s/it]\n",
      "[*********************100%***********************]  1 of 1 completed/4062 [08:18<1:30:41,  1.46s/it]\n",
      "[*********************100%***********************]  1 of 1 completed/4062 [08:19<1:28:17,  1.42s/it]\n",
      "\n",
      "1 Failed download:\n",
      "['6661.T']: YFTzMissingError('$%ticker%: possibly delisted; no timezone found')\n",
      "  8%|████▊                                                     | 334/4062 [08:20<1:28:17,  1.42s/it]"
     ]
    },
    {
     "name": "stdout",
     "output_type": "stream",
     "text": [
      "No data found for 6661.T. Skipping...\n"
     ]
    },
    {
     "name": "stderr",
     "output_type": "stream",
     "text": [
      "[*********************100%***********************]  1 of 1 completed/4062 [08:21<1:46:49,  1.72s/it]\n",
      "[*********************100%***********************]  1 of 1 completed/4062 [08:23<1:39:34,  1.60s/it]\n",
      "[*********************100%***********************]  1 of 1 completed/4062 [08:24<1:34:06,  1.52s/it]\n",
      "[*********************100%***********************]  1 of 1 completed/4062 [08:25<1:29:51,  1.45s/it]\n",
      "[*********************100%***********************]  1 of 1 completed/4062 [08:27<1:27:45,  1.41s/it]\n",
      "[*********************100%***********************]  1 of 1 completed/4062 [08:28<1:28:43,  1.43s/it]\n",
      "[*********************100%***********************]  1 of 1 completed/4062 [08:30<1:27:38,  1.41s/it]\n",
      "[*********************100%***********************]  1 of 1 completed/4062 [08:31<1:26:20,  1.39s/it]\n",
      "[*********************100%***********************]  1 of 1 completed/4062 [08:32<1:24:35,  1.36s/it]\n",
      "[*********************100%***********************]  1 of 1 completed/4062 [08:34<1:24:13,  1.36s/it]\n",
      "[*********************100%***********************]  1 of 1 completed/4062 [08:35<1:23:12,  1.34s/it]\n",
      "[*********************100%***********************]  1 of 1 completed/4062 [08:36<1:22:54,  1.34s/it]\n",
      "[*********************100%***********************]  1 of 1 completed/4062 [08:38<1:22:35,  1.33s/it]\n",
      "[*********************100%***********************]  1 of 1 completed/4062 [08:39<1:24:00,  1.36s/it]\n",
      "[*********************100%***********************]  1 of 1 completed/4062 [08:40<1:22:27,  1.33s/it]\n",
      "\n",
      "1 Failed download:\n",
      "['2580.T']: YFPricesMissingError('$%ticker%: possibly delisted; no price data found  (1d 2024-10-13 -> 2024-10-20)')\n",
      "  9%|████▉                                                     | 349/4062 [08:41<1:22:27,  1.33s/it]"
     ]
    },
    {
     "name": "stdout",
     "output_type": "stream",
     "text": [
      "No data found for 2580.T. Skipping...\n"
     ]
    },
    {
     "name": "stderr",
     "output_type": "stream",
     "text": [
      "[*********************100%***********************]  1 of 1 completed/4062 [08:42<1:21:31,  1.32s/it]\n",
      "[*********************100%***********************]  1 of 1 completed/4062 [08:43<1:21:44,  1.32s/it]\n",
      "\n",
      "1 Failed download:\n",
      "['1999.T']: YFTzMissingError('$%ticker%: possibly delisted; no timezone found')\n",
      "  9%|█████                                                     | 351/4062 [08:45<1:21:44,  1.32s/it]"
     ]
    },
    {
     "name": "stdout",
     "output_type": "stream",
     "text": [
      "No data found for 1999.T. Skipping...\n"
     ]
    },
    {
     "name": "stderr",
     "output_type": "stream",
     "text": [
      "[*********************100%***********************]  1 of 1 completed/4062 [08:46<1:50:08,  1.78s/it]\n",
      "[*********************100%***********************]  1 of 1 completed/4062 [08:47<1:41:20,  1.64s/it]\n",
      "[*********************100%***********************]  1 of 1 completed/4062 [08:48<1:34:34,  1.53s/it]\n",
      "[*********************100%***********************]  1 of 1 completed/4062 [08:50<1:31:09,  1.48s/it]\n",
      "\n",
      "1 Failed download:\n",
      "['9373.T']: YFPricesMissingError('$%ticker%: possibly delisted; no price data found  (1d 2024-10-13 -> 2024-10-20)')\n",
      "  9%|█████                                                     | 355/4062 [08:50<1:31:09,  1.48s/it]"
     ]
    },
    {
     "name": "stdout",
     "output_type": "stream",
     "text": [
      "No data found for 9373.T. Skipping...\n"
     ]
    },
    {
     "name": "stderr",
     "output_type": "stream",
     "text": [
      "[*********************100%***********************]  1 of 1 completed/4062 [08:51<1:27:45,  1.42s/it]\n",
      "[*********************100%***********************]  1 of 1 completed/4062 [08:52<1:26:08,  1.39s/it]\n",
      "[*********************100%***********************]  1 of 1 completed/4062 [08:54<1:24:41,  1.37s/it]\n",
      "[*********************100%***********************]  1 of 1 completed/4062 [08:55<1:24:07,  1.36s/it]\n",
      "[*********************100%***********************]  1 of 1 completed/4062 [08:56<1:23:31,  1.35s/it]\n",
      "[*********************100%***********************]  1 of 1 completed/4062 [08:58<1:26:48,  1.41s/it]\n",
      "[*********************100%***********************]  1 of 1 completed/4062 [08:59<1:24:32,  1.37s/it]\n",
      "[*********************100%***********************]  1 of 1 completed/4062 [09:00<1:23:39,  1.36s/it]\n",
      "[*********************100%***********************]  1 of 1 completed/4062 [09:02<1:23:12,  1.35s/it]\n",
      "[*********************100%***********************]  1 of 1 completed/4062 [09:03<1:22:46,  1.34s/it]\n",
      "[*********************100%***********************]  1 of 1 completed/4062 [09:05<1:24:34,  1.37s/it]\n",
      "[*********************100%***********************]  1 of 1 completed/4062 [09:06<1:23:45,  1.36s/it]\n",
      "\n",
      "1 Failed download:\n",
      "['4764.T']: YFTzMissingError('$%ticker%: possibly delisted; no timezone found')\n",
      "  9%|█████▏                                                    | 367/4062 [09:07<1:23:45,  1.36s/it]"
     ]
    },
    {
     "name": "stdout",
     "output_type": "stream",
     "text": [
      "No data found for 4764.T. Skipping...\n"
     ]
    },
    {
     "name": "stderr",
     "output_type": "stream",
     "text": [
      "[*********************100%***********************]  1 of 1 completed/4062 [09:08<1:44:27,  1.70s/it]\n",
      "[*********************100%***********************]  1 of 1 completed/4062 [09:10<1:37:15,  1.58s/it]\n",
      "[*********************100%***********************]  1 of 1 completed/4062 [09:11<1:32:58,  1.51s/it]\n",
      "[*********************100%***********************]  1 of 1 completed/4062 [09:12<1:29:01,  1.45s/it]\n",
      "\n",
      "1 Failed download:\n",
      "['3394.T']: YFTzMissingError('$%ticker%: possibly delisted; no timezone found')\n",
      "  9%|█████▎                                                    | 371/4062 [09:14<1:29:01,  1.45s/it]"
     ]
    },
    {
     "name": "stdout",
     "output_type": "stream",
     "text": [
      "No data found for 3394.T. Skipping...\n"
     ]
    },
    {
     "name": "stderr",
     "output_type": "stream",
     "text": [
      "[*********************100%***********************]  1 of 1 completed/4062 [09:15<1:48:06,  1.76s/it]\n",
      "[*********************100%***********************]  1 of 1 completed/4062 [09:16<1:44:29,  1.70s/it]\n",
      "\n",
      "1 Failed download:\n",
      "['2608.T']: YFTzMissingError('$%ticker%: possibly delisted; no timezone found')\n",
      "  9%|█████▎                                                    | 373/4062 [09:17<1:44:29,  1.70s/it]"
     ]
    },
    {
     "name": "stdout",
     "output_type": "stream",
     "text": [
      "No data found for 2608.T. Skipping...\n"
     ]
    },
    {
     "name": "stderr",
     "output_type": "stream",
     "text": [
      "[*********************100%***********************]  1 of 1 completed/4062 [09:18<1:51:14,  1.81s/it]\n",
      "[*********************100%***********************]  1 of 1 completed/4062 [09:20<1:41:49,  1.66s/it]\n",
      "\n",
      "1 Failed download:\n",
      "['9964.T']: YFTzMissingError('$%ticker%: possibly delisted; no timezone found')\n",
      "  9%|█████▎                                                    | 375/4062 [09:22<1:41:49,  1.66s/it]"
     ]
    },
    {
     "name": "stdout",
     "output_type": "stream",
     "text": [
      "No data found for 9964.T. Skipping...\n"
     ]
    },
    {
     "name": "stderr",
     "output_type": "stream",
     "text": [
      "[*********************100%***********************]  1 of 1 completed/4062 [09:23<2:08:12,  2.09s/it]\n",
      "[*********************100%***********************]  1 of 1 completed/4062 [09:24<1:53:36,  1.85s/it]\n",
      "[*********************100%***********************]  1 of 1 completed/4062 [09:25<1:45:15,  1.71s/it]\n",
      "[*********************100%***********************]  1 of 1 completed/4062 [09:27<1:37:33,  1.59s/it]\n",
      "\n",
      "1 Failed download:\n",
      "['2427.T']: YFTzMissingError('$%ticker%: possibly delisted; no timezone found')\n",
      "  9%|█████▍                                                    | 379/4062 [09:29<1:37:33,  1.59s/it]"
     ]
    },
    {
     "name": "stdout",
     "output_type": "stream",
     "text": [
      "No data found for 2427.T. Skipping...\n"
     ]
    },
    {
     "name": "stderr",
     "output_type": "stream",
     "text": [
      "[*********************100%***********************]  1 of 1 completed/4062 [09:30<2:06:18,  2.06s/it]\n",
      "\n",
      "1 Failed download:\n",
      "['6531.T']: YFTzMissingError('$%ticker%: possibly delisted; no timezone found')\n",
      "  9%|█████▍                                                    | 380/4062 [09:32<2:06:18,  2.06s/it]"
     ]
    },
    {
     "name": "stdout",
     "output_type": "stream",
     "text": [
      "No data found for 6531.T. Skipping...\n"
     ]
    },
    {
     "name": "stderr",
     "output_type": "stream",
     "text": [
      "[*********************100%***********************]  1 of 1 completed/4062 [09:33<2:20:17,  2.29s/it]\n",
      "[*********************100%***********************]  1 of 1 completed/4062 [09:34<2:01:37,  1.98s/it]\n",
      "[*********************100%***********************]  1 of 1 completed/4062 [09:35<1:49:59,  1.79s/it]\n",
      "\n",
      "1 Failed download:\n",
      "['3346.T']: YFTzMissingError('$%ticker%: possibly delisted; no timezone found')\n",
      "  9%|█████▍                                                    | 383/4062 [09:37<1:49:59,  1.79s/it]"
     ]
    },
    {
     "name": "stdout",
     "output_type": "stream",
     "text": [
      "No data found for 3346.T. Skipping...\n"
     ]
    },
    {
     "name": "stderr",
     "output_type": "stream",
     "text": [
      "[*********************100%***********************]  1 of 1 completed/4062 [09:38<2:05:46,  2.05s/it]\n",
      "\n",
      "1 Failed download:\n",
      "['3047.T']: YFTzMissingError('$%ticker%: possibly delisted; no timezone found')\n",
      "  9%|█████▍                                                    | 384/4062 [09:39<2:05:46,  2.05s/it]"
     ]
    },
    {
     "name": "stdout",
     "output_type": "stream",
     "text": [
      "No data found for 3047.T. Skipping...\n"
     ]
    },
    {
     "name": "stderr",
     "output_type": "stream",
     "text": [
      "[*********************100%***********************]  1 of 1 completed/4062 [09:40<2:08:12,  2.09s/it]\n",
      "[*********************100%***********************]  1 of 1 completed/4062 [09:42<1:54:16,  1.87s/it]\n",
      "[*********************100%***********************]  1 of 1 completed/4062 [09:43<1:44:20,  1.70s/it]\n",
      "[*********************100%***********************]  1 of 1 completed/4062 [09:44<1:37:26,  1.59s/it]\n",
      "[*********************100%***********************]  1 of 1 completed/4062 [09:46<1:32:05,  1.50s/it]\n",
      "[*********************100%***********************]  1 of 1 completed/4062 [09:47<1:28:10,  1.44s/it]\n",
      "[*********************100%***********************]  1 of 1 completed/4062 [09:48<1:24:57,  1.39s/it]\n",
      "\n",
      "1 Failed download:\n",
      "['1408.T']: YFPricesMissingError('$%ticker%: possibly delisted; no price data found  (1d 2024-10-13 -> 2024-10-20)')\n",
      " 10%|█████▌                                                    | 391/4062 [09:48<1:24:57,  1.39s/it]"
     ]
    },
    {
     "name": "stdout",
     "output_type": "stream",
     "text": [
      "No data found for 1408.T. Skipping...\n"
     ]
    },
    {
     "name": "stderr",
     "output_type": "stream",
     "text": [
      "[*********************100%***********************]  1 of 1 completed/4062 [09:49<1:25:39,  1.40s/it]\n",
      "[*********************100%***********************]  1 of 1 completed/4062 [09:51<1:24:39,  1.38s/it]\n",
      "[*********************100%***********************]  1 of 1 completed/4062 [09:52<1:23:31,  1.37s/it]\n",
      "[*********************100%***********************]  1 of 1 completed/4062 [09:53<1:22:50,  1.36s/it]\n",
      "[*********************100%***********************]  1 of 1 completed/4062 [09:55<1:21:29,  1.33s/it]\n",
      "[*********************100%***********************]  1 of 1 completed/4062 [09:56<1:20:26,  1.32s/it]\n",
      "[*********************100%***********************]  1 of 1 completed/4062 [09:57<1:20:19,  1.32s/it]\n",
      "[*********************100%***********************]  1 of 1 completed/4062 [09:59<1:21:20,  1.33s/it]\n",
      "\n",
      "1 Failed download:\n",
      "['1824.T']: YFTzMissingError('$%ticker%: possibly delisted; no timezone found')\n",
      " 10%|█████▋                                                    | 399/4062 [10:01<1:21:20,  1.33s/it]"
     ]
    },
    {
     "name": "stdout",
     "output_type": "stream",
     "text": [
      "No data found for 1824.T. Skipping...\n"
     ]
    },
    {
     "name": "stderr",
     "output_type": "stream",
     "text": [
      "[*********************100%***********************]  1 of 1 completed/4062 [10:02<1:47:56,  1.77s/it]\n",
      "[*********************100%***********************]  1 of 1 completed/4062 [10:03<1:40:06,  1.64s/it]\n",
      "[*********************100%***********************]  1 of 1 completed/4062 [10:04<1:34:24,  1.55s/it]\n",
      "[*********************100%***********************]  1 of 1 completed/4062 [10:06<1:30:35,  1.49s/it]\n",
      "[*********************100%***********************]  1 of 1 completed/4062 [10:07<1:29:38,  1.47s/it]\n",
      "[*********************100%***********************]  1 of 1 completed/4062 [10:08<1:27:36,  1.44s/it]\n",
      "\n",
      "1 Failed download:\n",
      "['9942.T']: YFTzMissingError('$%ticker%: possibly delisted; no timezone found')\n",
      " 10%|█████▊                                                    | 405/4062 [10:10<1:27:36,  1.44s/it]"
     ]
    },
    {
     "name": "stdout",
     "output_type": "stream",
     "text": [
      "No data found for 9942.T. Skipping...\n"
     ]
    },
    {
     "name": "stderr",
     "output_type": "stream",
     "text": [
      "[*********************100%***********************]  1 of 1 completed/4062 [10:11<1:46:32,  1.75s/it]\n",
      "[*********************100%***********************]  1 of 1 completed/4062 [10:12<1:38:17,  1.61s/it]\n",
      "[*********************100%***********************]  1 of 1 completed/4062 [10:13<1:32:40,  1.52s/it]\n",
      "[*********************100%***********************]  1 of 1 completed/4062 [10:15<1:29:16,  1.47s/it]\n",
      "[*********************100%***********************]  1 of 1 completed/4062 [10:16<1:31:25,  1.50s/it]\n",
      "[*********************100%***********************]  1 of 1 completed/4062 [10:18<1:28:29,  1.45s/it]\n",
      "[*********************100%***********************]  1 of 1 completed/4062 [10:19<1:26:43,  1.43s/it]\n",
      "[*********************100%***********************]  1 of 1 completed/4062 [10:20<1:25:04,  1.40s/it]\n",
      "[*********************100%***********************]  1 of 1 completed/4062 [10:22<1:24:14,  1.39s/it]\n",
      "[*********************100%***********************]  1 of 1 completed/4062 [10:23<1:23:05,  1.37s/it]\n",
      "[*********************100%***********************]  1 of 1 completed/4062 [10:24<1:22:38,  1.36s/it]\n",
      "[*********************100%***********************]  1 of 1 completed/4062 [10:26<1:22:36,  1.36s/it]\n",
      "[*********************100%***********************]  1 of 1 completed/4062 [10:27<1:22:39,  1.36s/it]\n",
      "[*********************100%***********************]  1 of 1 completed/4062 [10:28<1:21:50,  1.35s/it]\n",
      "[*********************100%***********************]  1 of 1 completed/4062 [10:30<1:21:48,  1.35s/it]\n",
      "[*********************100%***********************]  1 of 1 completed/4062 [10:31<1:21:39,  1.35s/it]\n",
      "[*********************100%***********************]  1 of 1 completed/4062 [10:32<1:21:35,  1.34s/it]\n",
      "[*********************100%***********************]  1 of 1 completed/4062 [10:34<1:21:25,  1.34s/it]\n",
      "[*********************100%***********************]  1 of 1 completed/4062 [10:35<1:21:33,  1.35s/it]\n",
      "\n",
      "1 Failed download:\n",
      "['6846.T']: YFTzMissingError('$%ticker%: possibly delisted; no timezone found')\n",
      " 10%|██████                                                    | 424/4062 [10:37<1:21:33,  1.35s/it]"
     ]
    },
    {
     "name": "stdout",
     "output_type": "stream",
     "text": [
      "No data found for 6846.T. Skipping...\n"
     ]
    },
    {
     "name": "stderr",
     "output_type": "stream",
     "text": [
      "[*********************100%***********************]  1 of 1 completed/4062 [10:38<1:39:49,  1.65s/it]\n",
      "[*********************100%***********************]  1 of 1 completed/4062 [10:39<1:34:10,  1.55s/it]\n",
      "[*********************100%***********************]  1 of 1 completed/4062 [10:40<1:30:18,  1.49s/it]\n",
      "[*********************100%***********************]  1 of 1 completed/4062 [10:42<1:28:34,  1.46s/it]\n",
      "[*********************100%***********************]  1 of 1 completed/4062 [10:43<1:26:41,  1.43s/it]\n",
      "[*********************100%***********************]  1 of 1 completed/4062 [10:44<1:25:09,  1.41s/it]\n",
      "[*********************100%***********************]  1 of 1 completed/4062 [10:46<1:24:19,  1.39s/it]\n",
      "\n",
      "1 Failed download:\n",
      "['8145.T']: YFTzMissingError('$%ticker%: possibly delisted; no timezone found')\n",
      " 11%|██████▏                                                   | 431/4062 [10:47<1:24:19,  1.39s/it]"
     ]
    },
    {
     "name": "stdout",
     "output_type": "stream",
     "text": [
      "No data found for 8145.T. Skipping...\n"
     ]
    },
    {
     "name": "stderr",
     "output_type": "stream",
     "text": [
      "[*********************100%***********************]  1 of 1 completed/4062 [10:48<1:49:15,  1.81s/it]\n",
      " 11%|██████▏                                                   | 433/4062 [10:50<1:40:26,  1.66s/it]Failed to get ticker '9674.T' reason: Response ended prematurely\n",
      "[*********************100%***********************]  1 of 1 completed\n",
      "\n",
      "1 Failed download:\n",
      "['9674.T']: YFTzMissingError('$%ticker%: possibly delisted; no timezone found')\n",
      " 11%|██████▏                                                   | 433/4062 [10:52<1:40:26,  1.66s/it]"
     ]
    },
    {
     "name": "stdout",
     "output_type": "stream",
     "text": [
      "No data found for 9674.T. Skipping...\n"
     ]
    },
    {
     "name": "stderr",
     "output_type": "stream",
     "text": [
      "[*********************100%***********************]  1 of 1 completed/4062 [10:53<2:17:38,  2.28s/it]\n",
      "[*********************100%***********************]  1 of 1 completed/4062 [10:56<2:26:41,  2.43s/it]\n",
      "[*********************100%***********************]  1 of 1 completed/4062 [10:58<2:05:54,  2.08s/it]\n",
      "\n",
      "1 Failed download:\n",
      "['9407.T']: YFTzMissingError('$%ticker%: possibly delisted; no timezone found')\n",
      " 11%|██████▏                                                   | 436/4062 [11:00<2:05:54,  2.08s/it]"
     ]
    },
    {
     "name": "stdout",
     "output_type": "stream",
     "text": [
      "No data found for 9407.T. Skipping...\n"
     ]
    },
    {
     "name": "stderr",
     "output_type": "stream",
     "text": [
      "[*********************100%***********************]  1 of 1 completed/4062 [11:01<2:23:27,  2.37s/it]\n",
      "[*********************100%***********************]  1 of 1 completed/4062 [11:02<2:04:40,  2.06s/it]\n",
      "[*********************100%***********************]  1 of 1 completed/4062 [11:03<1:51:50,  1.85s/it]\n",
      "[*********************100%***********************]  1 of 1 completed/4062 [11:05<1:42:42,  1.70s/it]\n",
      "[*********************100%***********************]  1 of 1 completed/4062 [11:06<1:35:49,  1.59s/it]\n",
      "[*********************100%***********************]  1 of 1 completed/4062 [11:07<1:30:29,  1.50s/it]\n",
      "[*********************100%***********************]  1 of 1 completed/4062 [11:09<1:28:05,  1.46s/it]\n",
      "[*********************100%***********************]  1 of 1 completed/4062 [11:10<1:25:44,  1.42s/it]\n",
      "[*********************100%***********************]  1 of 1 completed/4062 [11:11<1:24:17,  1.40s/it]\n",
      "[*********************100%***********************]  1 of 1 completed/4062 [11:13<1:27:38,  1.45s/it]\n",
      "[*********************100%***********************]  1 of 1 completed/4062 [11:14<1:25:34,  1.42s/it]\n",
      "[*********************100%***********************]  1 of 1 completed/4062 [11:16<1:23:28,  1.39s/it]\n",
      "[*********************100%***********************]  1 of 1 completed/4062 [11:17<1:22:53,  1.38s/it]\n",
      "[*********************100%***********************]  1 of 1 completed/4062 [11:18<1:22:14,  1.37s/it]\n",
      "[*********************100%***********************]  1 of 1 completed/4062 [11:20<1:21:34,  1.36s/it]\n",
      "[*********************100%***********************]  1 of 1 completed/4062 [11:21<1:21:10,  1.35s/it]\n",
      "[*********************100%***********************]  1 of 1 completed/4062 [11:22<1:22:12,  1.37s/it]\n",
      "\n",
      "1 Failed download:\n",
      "['7169.T']: YFTzMissingError('$%ticker%: possibly delisted; no timezone found')\n",
      " 11%|██████▍                                                   | 453/4062 [11:24<1:22:12,  1.37s/it]"
     ]
    },
    {
     "name": "stdout",
     "output_type": "stream",
     "text": [
      "No data found for 7169.T. Skipping...\n"
     ]
    },
    {
     "name": "stderr",
     "output_type": "stream",
     "text": [
      "[*********************100%***********************]  1 of 1 completed/4062 [11:25<1:43:00,  1.71s/it]\n",
      "[*********************100%***********************]  1 of 1 completed/4062 [11:26<1:39:45,  1.66s/it]\n",
      "[*********************100%***********************]  1 of 1 completed/4062 [11:28<1:34:11,  1.57s/it]\n",
      "\n",
      "1 Failed download:\n",
      "['6815.T']: YFTzMissingError('$%ticker%: possibly delisted; no timezone found')\n",
      " 11%|██████▌                                                   | 456/4062 [11:29<1:34:11,  1.57s/it]"
     ]
    },
    {
     "name": "stdout",
     "output_type": "stream",
     "text": [
      "No data found for 6815.T. Skipping...\n"
     ]
    },
    {
     "name": "stderr",
     "output_type": "stream",
     "text": [
      "[*********************100%***********************]  1 of 1 completed/4062 [11:30<1:54:45,  1.91s/it]\n",
      "[*********************100%***********************]  1 of 1 completed/4062 [11:32<1:43:54,  1.73s/it]\n",
      "\n",
      "1 Failed download:\n",
      "['6704.T']: YFPricesMissingError('$%ticker%: possibly delisted; no price data found  (1d 2024-10-13 -> 2024-10-20)')\n",
      " 11%|██████▌                                                   | 458/4062 [11:32<1:43:54,  1.73s/it]"
     ]
    },
    {
     "name": "stdout",
     "output_type": "stream",
     "text": [
      "No data found for 6704.T. Skipping...\n"
     ]
    },
    {
     "name": "stderr",
     "output_type": "stream",
     "text": [
      "[*********************100%***********************]  1 of 1 completed/4062 [11:33<1:36:44,  1.61s/it]\n",
      "[*********************100%***********************]  1 of 1 completed/4062 [11:34<1:33:07,  1.55s/it]\n",
      "[*********************100%***********************]  1 of 1 completed/4062 [11:36<1:28:24,  1.47s/it]\n",
      "[*********************100%***********************]  1 of 1 completed/4062 [11:37<1:25:19,  1.42s/it]\n",
      "[*********************100%***********************]  1 of 1 completed/4062 [11:38<1:24:23,  1.41s/it]\n",
      "[*********************100%***********************]  1 of 1 completed/4062 [11:40<1:23:25,  1.39s/it]\n",
      "[*********************100%***********************]  1 of 1 completed/4062 [11:41<1:21:20,  1.36s/it]\n",
      "[*********************100%***********************]  1 of 1 completed/4062 [11:42<1:21:27,  1.36s/it]\n",
      "[*********************100%***********************]  1 of 1 completed/4062 [11:44<1:20:59,  1.35s/it]\n",
      "[*********************100%***********************]  1 of 1 completed/4062 [11:45<1:20:56,  1.35s/it]\n",
      "[*********************100%***********************]  1 of 1 completed/4062 [11:46<1:21:06,  1.35s/it]\n",
      "[*********************100%***********************]  1 of 1 completed/4062 [11:48<1:21:00,  1.35s/it]\n",
      "[*********************100%***********************]  1 of 1 completed/4062 [11:49<1:20:57,  1.35s/it]\n",
      "[*********************100%***********************]  1 of 1 completed/4062 [11:50<1:19:55,  1.34s/it]\n",
      "\n",
      "1 Failed download:\n",
      "['6065.T']: YFTzMissingError('$%ticker%: possibly delisted; no timezone found')\n",
      " 12%|██████▋                                                   | 472/4062 [11:52<1:19:55,  1.34s/it]"
     ]
    },
    {
     "name": "stdout",
     "output_type": "stream",
     "text": [
      "No data found for 6065.T. Skipping...\n"
     ]
    },
    {
     "name": "stderr",
     "output_type": "stream",
     "text": [
      "[*********************100%***********************]  1 of 1 completed/4062 [11:53<1:40:24,  1.68s/it]\n",
      "[*********************100%***********************]  1 of 1 completed/4062 [11:54<1:34:20,  1.58s/it]\n",
      "[*********************100%***********************]  1 of 1 completed/4062 [11:56<1:30:19,  1.51s/it]\n",
      "[*********************100%***********************]  1 of 1 completed/4062 [11:57<1:26:27,  1.45s/it]\n",
      "[*********************100%***********************]  1 of 1 completed/4062 [11:58<1:24:46,  1.42s/it]\n",
      "[*********************100%***********************]  1 of 1 completed/4062 [12:00<1:24:46,  1.42s/it]\n",
      "[*********************100%***********************]  1 of 1 completed/4062 [12:01<1:23:02,  1.39s/it]\n",
      "[*********************100%***********************]  1 of 1 completed/4062 [12:02<1:21:14,  1.36s/it]\n",
      "[*********************100%***********************]  1 of 1 completed/4062 [12:04<1:27:19,  1.46s/it]\n",
      "[*********************100%***********************]  1 of 1 completed/4062 [12:05<1:24:04,  1.41s/it]\n",
      "[*********************100%***********************]  1 of 1 completed/4062 [12:07<1:23:11,  1.39s/it]\n",
      "[*********************100%***********************]  1 of 1 completed/4062 [12:08<1:22:09,  1.38s/it]\n",
      "[*********************100%***********************]  1 of 1 completed/4062 [12:09<1:21:04,  1.36s/it]\n",
      "[*********************100%***********************]  1 of 1 completed/4062 [12:11<1:20:04,  1.34s/it]\n",
      "[*********************100%***********************]  1 of 1 completed/4062 [12:12<1:19:20,  1.33s/it]\n",
      "[*********************100%***********************]  1 of 1 completed/4062 [12:13<1:18:39,  1.32s/it]\n",
      "\n",
      "1 Failed download:\n",
      "['3578.T']: YFTzMissingError('$%ticker%: possibly delisted; no timezone found')\n",
      " 12%|██████▉                                                   | 488/4062 [12:15<1:18:39,  1.32s/it]"
     ]
    },
    {
     "name": "stdout",
     "output_type": "stream",
     "text": [
      "No data found for 3578.T. Skipping...\n"
     ]
    },
    {
     "name": "stderr",
     "output_type": "stream",
     "text": [
      "[*********************100%***********************]  1 of 1 completed/4062 [12:16<1:39:43,  1.67s/it]\n",
      "\n",
      "1 Failed download:\n",
      "['3515.T']: YFTzMissingError('$%ticker%: possibly delisted; no timezone found')\n",
      " 12%|██████▉                                                   | 489/4062 [12:18<1:39:43,  1.67s/it]"
     ]
    },
    {
     "name": "stdout",
     "output_type": "stream",
     "text": [
      "No data found for 3515.T. Skipping...\n"
     ]
    },
    {
     "name": "stderr",
     "output_type": "stream",
     "text": [
      "[*********************100%***********************]  1 of 1 completed/4062 [12:19<2:01:12,  2.04s/it]\n",
      "[*********************100%***********************]  1 of 1 completed/4062 [12:20<1:48:33,  1.82s/it]\n",
      "[*********************100%***********************]  1 of 1 completed/4062 [12:21<1:39:54,  1.68s/it]\n",
      "[*********************100%***********************]  1 of 1 completed/4062 [12:23<1:33:25,  1.57s/it]\n",
      "[*********************100%***********************]  1 of 1 completed/4062 [12:24<1:30:23,  1.52s/it]\n",
      "[*********************100%***********************]  1 of 1 completed/4062 [12:25<1:27:13,  1.47s/it]\n",
      "[*********************100%***********************]  1 of 1 completed/4062 [12:27<1:24:33,  1.42s/it]\n",
      "[*********************100%***********************]  1 of 1 completed/4062 [12:28<1:23:14,  1.40s/it]\n",
      "[*********************100%***********************]  1 of 1 completed/4062 [12:29<1:22:24,  1.39s/it]\n",
      "[*********************100%***********************]  1 of 1 completed/4062 [12:31<1:21:09,  1.37s/it]\n",
      "[*********************100%***********************]  1 of 1 completed/4062 [12:32<1:21:00,  1.36s/it]\n",
      "[*********************100%***********************]  1 of 1 completed/4062 [12:33<1:20:32,  1.36s/it]\n",
      "[*********************100%***********************]  1 of 1 completed/4062 [12:35<1:20:17,  1.35s/it]\n",
      "\n",
      "1 Failed download:\n",
      "['1782.T']: YFTzMissingError('$%ticker%: possibly delisted; no timezone found')\n",
      " 12%|███████▏                                                  | 502/4062 [12:36<1:20:17,  1.35s/it]"
     ]
    },
    {
     "name": "stdout",
     "output_type": "stream",
     "text": [
      "No data found for 1782.T. Skipping...\n"
     ]
    },
    {
     "name": "stderr",
     "output_type": "stream",
     "text": [
      "[*********************100%***********************]  1 of 1 completed/4062 [12:37<1:33:16,  1.57s/it]\n",
      "[*********************100%***********************]  1 of 1 completed/4062 [12:38<1:28:11,  1.49s/it]\n",
      "[*********************100%***********************]  1 of 1 completed/4062 [12:39<1:25:13,  1.44s/it]\n",
      "[*********************100%***********************]  1 of 1 completed/4062 [12:41<1:23:18,  1.41s/it]\n",
      "[*********************100%***********************]  1 of 1 completed/4062 [12:42<1:22:03,  1.39s/it]\n",
      "[*********************100%***********************]  1 of 1 completed/4062 [12:44<1:22:38,  1.40s/it]\n",
      "[*********************100%***********************]  1 of 1 completed/4062 [12:45<1:21:17,  1.37s/it]\n",
      "[*********************100%***********************]  1 of 1 completed/4062 [12:46<1:20:34,  1.36s/it]\n",
      "\n",
      "1 Failed download:\n",
      "['9631.T']: YFTzMissingError('$%ticker%: possibly delisted; no timezone found')\n",
      " 13%|███████▎                                                  | 510/4062 [12:48<1:20:34,  1.36s/it]"
     ]
    },
    {
     "name": "stdout",
     "output_type": "stream",
     "text": [
      "No data found for 9631.T. Skipping...\n"
     ]
    },
    {
     "name": "stderr",
     "output_type": "stream",
     "text": [
      "[*********************100%***********************]  1 of 1 completed/4062 [12:49<1:39:17,  1.68s/it]\n",
      "[*********************100%***********************]  1 of 1 completed/4062 [12:50<1:33:47,  1.59s/it]\n",
      "[*********************100%***********************]  1 of 1 completed/4062 [12:51<1:30:41,  1.53s/it]\n",
      "\n",
      "1 Failed download:\n",
      "['9695.T']: YFTzMissingError('$%ticker%: possibly delisted; no timezone found')\n",
      " 13%|███████▎                                                  | 513/4062 [12:53<1:30:41,  1.53s/it]"
     ]
    },
    {
     "name": "stdout",
     "output_type": "stream",
     "text": [
      "No data found for 9695.T. Skipping...\n"
     ]
    },
    {
     "name": "stderr",
     "output_type": "stream",
     "text": [
      "[*********************100%***********************]  1 of 1 completed/4062 [12:54<1:51:59,  1.89s/it]\n",
      "\n",
      "1 Failed download:\n",
      "['9540.T']: YFTzMissingError('$%ticker%: possibly delisted; no timezone found')\n",
      " 13%|███████▎                                                  | 514/4062 [12:55<1:51:59,  1.89s/it]"
     ]
    },
    {
     "name": "stdout",
     "output_type": "stream",
     "text": [
      "No data found for 9540.T. Skipping...\n"
     ]
    },
    {
     "name": "stderr",
     "output_type": "stream",
     "text": [
      "[*********************100%***********************]  1 of 1 completed/4062 [12:56<1:57:14,  1.98s/it]\n",
      "[*********************100%***********************]  1 of 1 completed/4062 [12:58<1:45:12,  1.78s/it]\n",
      "\n",
      "1 Failed download:\n",
      "['8148.T']: YFPricesMissingError('$%ticker%: possibly delisted; no price data found  (1d 2024-10-13 -> 2024-10-20)')\n",
      " 13%|███████▎                                                  | 516/4062 [12:58<1:45:12,  1.78s/it]"
     ]
    },
    {
     "name": "stdout",
     "output_type": "stream",
     "text": [
      "No data found for 8148.T. Skipping...\n"
     ]
    },
    {
     "name": "stderr",
     "output_type": "stream",
     "text": [
      "[*********************100%***********************]  1 of 1 completed/4062 [12:59<1:37:11,  1.65s/it]\n",
      "[*********************100%***********************]  1 of 1 completed/4062 [13:00<1:30:54,  1.54s/it]\n",
      "[*********************100%***********************]  1 of 1 completed/4062 [13:02<1:27:22,  1.48s/it]\n",
      "[*********************100%***********************]  1 of 1 completed/4062 [13:03<1:24:31,  1.43s/it]\n",
      "\n",
      "1 Failed download:\n",
      "['6414.T']: YFTzMissingError('$%ticker%: possibly delisted; no timezone found')\n",
      " 13%|███████▍                                                  | 520/4062 [13:05<1:24:31,  1.43s/it]"
     ]
    },
    {
     "name": "stdout",
     "output_type": "stream",
     "text": [
      "No data found for 6414.T. Skipping...\n"
     ]
    },
    {
     "name": "stderr",
     "output_type": "stream",
     "text": [
      "[*********************100%***********************]  1 of 1 completed/4062 [13:06<1:50:18,  1.87s/it]\n",
      "[*********************100%***********************]  1 of 1 completed/4062 [13:07<1:41:25,  1.72s/it]\n",
      "[*********************100%***********************]  1 of 1 completed/4062 [13:08<1:34:55,  1.61s/it]\n",
      "[*********************100%***********************]  1 of 1 completed/4062 [13:10<1:29:23,  1.52s/it]\n",
      "[*********************100%***********************]  1 of 1 completed/4062 [13:11<1:25:55,  1.46s/it]\n",
      "[*********************100%***********************]  1 of 1 completed/4062 [13:12<1:23:31,  1.42s/it]\n",
      "[*********************100%***********************]  1 of 1 completed/4062 [13:14<1:21:47,  1.39s/it]\n",
      "[*********************100%***********************]  1 of 1 completed/4062 [13:15<1:20:14,  1.36s/it]\n",
      "[*********************100%***********************]  1 of 1 completed/4062 [13:16<1:18:49,  1.34s/it]\n",
      "\n",
      "1 Failed download:\n",
      "['3794.T']: YFTzMissingError('$%ticker%: possibly delisted; no timezone found')\n",
      " 13%|███████▌                                                  | 529/4062 [13:17<1:18:49,  1.34s/it]"
     ]
    },
    {
     "name": "stdout",
     "output_type": "stream",
     "text": [
      "No data found for 3794.T. Skipping...\n"
     ]
    },
    {
     "name": "stderr",
     "output_type": "stream",
     "text": [
      "[*********************100%***********************]  1 of 1 completed/4062 [13:18<1:32:52,  1.58s/it]\n",
      "[*********************100%***********************]  1 of 1 completed/4062 [13:20<1:28:25,  1.50s/it]\n",
      "[*********************100%***********************]  1 of 1 completed/4062 [13:21<1:24:45,  1.44s/it]\n",
      "[*********************100%***********************]  1 of 1 completed/4062 [13:22<1:22:15,  1.40s/it]\n",
      "[*********************100%***********************]  1 of 1 completed/4062 [13:24<1:21:42,  1.39s/it]\n",
      "[*********************100%***********************]  1 of 1 completed/4062 [13:25<1:20:32,  1.37s/it]\n",
      "[*********************100%***********************]  1 of 1 completed/4062 [13:26<1:20:08,  1.36s/it]\n",
      "[*********************100%***********************]  1 of 1 completed/4062 [13:28<1:19:17,  1.35s/it]\n",
      "[*********************100%***********************]  1 of 1 completed/4062 [13:29<1:18:15,  1.33s/it]\n",
      "[*********************100%***********************]  1 of 1 completed/4062 [13:30<1:17:57,  1.33s/it]\n",
      "[*********************100%***********************]  1 of 1 completed/4062 [13:32<1:18:07,  1.33s/it]\n",
      "[*********************100%***********************]  1 of 1 completed/4062 [13:33<1:18:20,  1.34s/it]\n",
      "[*********************100%***********************]  1 of 1 completed/4062 [13:34<1:18:00,  1.33s/it]\n",
      "[*********************100%***********************]  1 of 1 completed/4062 [13:36<1:17:56,  1.33s/it]\n",
      "[*********************100%***********************]  1 of 1 completed/4062 [13:37<1:17:11,  1.32s/it]\n",
      "\n",
      "1 Failed download:\n",
      "['6791.T']: YFPricesMissingError('$%ticker%: possibly delisted; no price data found  (1d 2024-10-13 -> 2024-10-20)')\n",
      " 13%|███████▊                                                  | 544/4062 [13:37<1:17:11,  1.32s/it]"
     ]
    },
    {
     "name": "stdout",
     "output_type": "stream",
     "text": [
      "No data found for 6791.T. Skipping...\n"
     ]
    },
    {
     "name": "stderr",
     "output_type": "stream",
     "text": [
      "[*********************100%***********************]  1 of 1 completed/4062 [13:38<1:16:18,  1.30s/it]\n",
      "\n",
      "1 Failed download:\n",
      "['6462.T']: YFTzMissingError('$%ticker%: possibly delisted; no timezone found')\n",
      " 13%|███████▊                                                  | 545/4062 [13:40<1:16:18,  1.30s/it]"
     ]
    },
    {
     "name": "stdout",
     "output_type": "stream",
     "text": [
      "No data found for 6462.T. Skipping...\n"
     ]
    },
    {
     "name": "stderr",
     "output_type": "stream",
     "text": [
      "[*********************100%***********************]  1 of 1 completed/4062 [13:41<1:47:15,  1.83s/it]\n",
      "[*********************100%***********************]  1 of 1 completed/4062 [13:43<1:38:41,  1.68s/it]\n",
      "[*********************100%***********************]  1 of 1 completed/4062 [13:44<1:32:30,  1.58s/it]\n",
      "\n",
      "1 Failed download:\n",
      "['6397.T']: YFTzMissingError('$%ticker%: possibly delisted; no timezone found')\n",
      " 13%|███████▊                                                  | 548/4062 [13:46<1:32:30,  1.58s/it]"
     ]
    },
    {
     "name": "stdout",
     "output_type": "stream",
     "text": [
      "No data found for 6397.T. Skipping...\n"
     ]
    },
    {
     "name": "stderr",
     "output_type": "stream",
     "text": [
      "[*********************100%***********************]  1 of 1 completed/4062 [13:47<1:51:10,  1.90s/it]\n",
      "\n",
      "1 Failed download:\n",
      "['5964.T']: YFTzMissingError('$%ticker%: possibly delisted; no timezone found')\n",
      " 14%|███████▊                                                  | 549/4062 [13:49<1:51:10,  1.90s/it]"
     ]
    },
    {
     "name": "stdout",
     "output_type": "stream",
     "text": [
      "No data found for 5964.T. Skipping...\n"
     ]
    },
    {
     "name": "stderr",
     "output_type": "stream",
     "text": [
      "[*********************100%***********************]  1 of 1 completed/4062 [13:50<2:08:39,  2.20s/it]\n",
      "[*********************100%***********************]  1 of 1 completed/4062 [13:51<1:53:45,  1.94s/it]\n",
      "[*********************100%***********************]  1 of 1 completed/4062 [13:52<1:42:43,  1.76s/it]\n",
      "[*********************100%***********************]  1 of 1 completed/4062 [13:54<1:35:22,  1.63s/it]\n",
      "[*********************100%***********************]  1 of 1 completed/4062 [13:55<1:30:44,  1.55s/it]\n",
      "[*********************100%***********************]  1 of 1 completed/4062 [13:56<1:26:45,  1.48s/it]\n",
      "[*********************100%***********************]  1 of 1 completed/4062 [13:58<1:23:22,  1.43s/it]\n",
      "[*********************100%***********************]  1 of 1 completed/4062 [13:59<1:21:47,  1.40s/it]\n",
      "[*********************100%***********************]  1 of 1 completed/4062 [14:00<1:21:15,  1.39s/it]\n",
      "[*********************100%***********************]  1 of 1 completed/4062 [14:02<1:20:23,  1.38s/it]\n",
      "[*********************100%***********************]  1 of 1 completed/4062 [14:03<1:19:03,  1.35s/it]\n",
      "[*********************100%***********************]  1 of 1 completed/4062 [14:04<1:18:06,  1.34s/it]\n",
      "[*********************100%***********************]  1 of 1 completed/4062 [14:05<1:17:43,  1.33s/it]\n",
      "[*********************100%***********************]  1 of 1 completed/4062 [14:07<1:17:52,  1.34s/it]\n",
      "[*********************100%***********************]  1 of 1 completed/4062 [14:08<1:17:02,  1.32s/it]\n",
      "[*********************100%***********************]  1 of 1 completed/4062 [14:09<1:17:19,  1.33s/it]\n",
      "[*********************100%***********************]  1 of 1 completed/4062 [14:11<1:17:42,  1.33s/it]\n",
      "[*********************100%***********************]  1 of 1 completed/4062 [14:12<1:17:53,  1.34s/it]\n",
      "\n",
      "1 Failed download:\n",
      "['7248.T']: YFPricesMissingError('$%ticker%: possibly delisted; no price data found  (1d 2024-10-13 -> 2024-10-20)')\n",
      " 14%|████████                                                  | 567/4062 [14:12<1:17:53,  1.34s/it]"
     ]
    },
    {
     "name": "stdout",
     "output_type": "stream",
     "text": [
      "No data found for 7248.T. Skipping...\n"
     ]
    },
    {
     "name": "stderr",
     "output_type": "stream",
     "text": [
      "[*********************100%***********************]  1 of 1 completed/4062 [14:13<1:16:53,  1.32s/it]\n",
      "[*********************100%***********************]  1 of 1 completed/4062 [14:15<1:18:42,  1.35s/it]\n",
      "[*********************100%***********************]  1 of 1 completed/4062 [14:16<1:20:39,  1.39s/it]\n",
      "[*********************100%***********************]  1 of 1 completed/4062 [14:18<1:21:50,  1.41s/it]\n",
      "[*********************100%***********************]  1 of 1 completed/4062 [14:19<1:20:34,  1.39s/it]\n",
      "[*********************100%***********************]  1 of 1 completed/4062 [14:20<1:20:03,  1.38s/it]\n",
      "[*********************100%***********************]  1 of 1 completed/4062 [14:22<1:19:03,  1.36s/it]\n",
      "[*********************100%***********************]  1 of 1 completed/4062 [14:23<1:18:47,  1.36s/it]\n",
      "\n",
      "1 Failed download:\n",
      "['9062.T']: YFTzMissingError('$%ticker%: possibly delisted; no timezone found')\n",
      " 14%|████████▏                                                 | 575/4062 [14:25<1:18:47,  1.36s/it]"
     ]
    },
    {
     "name": "stdout",
     "output_type": "stream",
     "text": [
      "No data found for 9062.T. Skipping...\n"
     ]
    },
    {
     "name": "stderr",
     "output_type": "stream",
     "text": [
      "[*********************100%***********************]  1 of 1 completed/4062 [14:26<1:40:26,  1.73s/it]\n",
      "[*********************100%***********************]  1 of 1 completed/4062 [14:27<1:33:34,  1.61s/it]\n",
      "[*********************100%***********************]  1 of 1 completed/4062 [14:28<1:28:50,  1.53s/it]\n",
      "[*********************100%***********************]  1 of 1 completed/4062 [14:30<1:25:02,  1.47s/it]\n",
      "[*********************100%***********************]  1 of 1 completed/4062 [14:31<1:22:57,  1.43s/it]\n",
      "[*********************100%***********************]  1 of 1 completed/4062 [14:32<1:21:42,  1.41s/it]\n",
      "[*********************100%***********************]  1 of 1 completed/4062 [14:34<1:19:41,  1.37s/it]\n",
      "\n",
      "1 Failed download:\n",
      "['1400.T']: YFTzMissingError('$%ticker%: possibly delisted; no timezone found')\n",
      " 14%|████████▎                                                 | 582/4062 [14:36<1:19:41,  1.37s/it]"
     ]
    },
    {
     "name": "stdout",
     "output_type": "stream",
     "text": [
      "No data found for 1400.T. Skipping...\n"
     ]
    },
    {
     "name": "stderr",
     "output_type": "stream",
     "text": [
      "[*********************100%***********************]  1 of 1 completed/4062 [14:37<1:50:20,  1.90s/it]\n",
      "\n",
      "1 Failed download:\n",
      "['8245.T']: YFPricesMissingError('$%ticker%: possibly delisted; no price data found  (1d 2024-10-13 -> 2024-10-20)')\n",
      " 14%|████████▎                                                 | 583/4062 [14:37<1:50:20,  1.90s/it]"
     ]
    },
    {
     "name": "stdout",
     "output_type": "stream",
     "text": [
      "No data found for 8245.T. Skipping...\n"
     ]
    },
    {
     "name": "stderr",
     "output_type": "stream",
     "text": [
      "[*********************100%***********************]  1 of 1 completed/4062 [14:38<1:43:39,  1.79s/it]\n",
      "[*********************100%***********************]  1 of 1 completed/4062 [14:40<1:40:10,  1.73s/it]\n",
      "[*********************100%***********************]  1 of 1 completed/4062 [14:41<1:33:12,  1.61s/it]\n",
      "[*********************100%***********************]  1 of 1 completed/4062 [14:43<1:27:32,  1.51s/it]\n",
      "[*********************100%***********************]  1 of 1 completed/4062 [14:44<1:24:32,  1.46s/it]\n",
      "[*********************100%***********************]  1 of 1 completed/4062 [14:45<1:23:08,  1.44s/it]\n",
      "[*********************100%***********************]  1 of 1 completed/4062 [14:47<1:21:24,  1.41s/it]\n",
      "[*********************100%***********************]  1 of 1 completed/4062 [14:48<1:20:28,  1.39s/it]\n",
      "\n",
      "1 Failed download:\n",
      "['1670.T']: YFPricesMissingError('$%ticker%: possibly delisted; no price data found  (1d 2024-10-13 -> 2024-10-20)')\n",
      " 15%|████████▍                                                 | 591/4062 [14:48<1:20:28,  1.39s/it]"
     ]
    },
    {
     "name": "stdout",
     "output_type": "stream",
     "text": [
      "No data found for 1670.T. Skipping...\n"
     ]
    },
    {
     "name": "stderr",
     "output_type": "stream",
     "text": [
      "[*********************100%***********************]  1 of 1 completed/4062 [14:49<1:18:27,  1.36s/it]\n",
      "[*********************100%***********************]  1 of 1 completed/4062 [14:51<1:18:11,  1.35s/it]\n",
      "[*********************100%***********************]  1 of 1 completed/4062 [14:52<1:16:51,  1.33s/it]\n",
      "[*********************100%***********************]  1 of 1 completed/4062 [14:53<1:16:58,  1.33s/it]\n",
      "[*********************100%***********************]  1 of 1 completed/4062 [14:55<1:16:45,  1.33s/it]\n",
      "\n",
      "1 Failed download:\n",
      "['9359.T']: YFTzMissingError('$%ticker%: possibly delisted; no timezone found')\n",
      " 15%|████████▌                                                 | 596/4062 [14:56<1:16:45,  1.33s/it]"
     ]
    },
    {
     "name": "stdout",
     "output_type": "stream",
     "text": [
      "No data found for 9359.T. Skipping...\n"
     ]
    },
    {
     "name": "stderr",
     "output_type": "stream",
     "text": [
      "[*********************100%***********************]  1 of 1 completed/4062 [14:57<1:31:28,  1.58s/it]\n",
      "[*********************100%***********************]  1 of 1 completed/4062 [14:58<1:26:55,  1.51s/it]\n",
      "[*********************100%***********************]  1 of 1 completed/4062 [14:59<1:24:04,  1.46s/it]\n",
      "[*********************100%***********************]  1 of 1 completed/4062 [15:01<1:20:52,  1.40s/it]\n",
      "[*********************100%***********************]  1 of 1 completed/4062 [15:02<1:19:05,  1.37s/it]\n",
      "[*********************100%***********************]  1 of 1 completed/4062 [15:03<1:18:30,  1.36s/it]\n",
      "[*********************100%***********************]  1 of 1 completed/4062 [15:05<1:18:14,  1.36s/it]\n",
      "[*********************100%***********************]  1 of 1 completed/4062 [15:06<1:17:46,  1.35s/it]\n",
      "\n",
      "1 Failed download:\n",
      "['6461.T']: YFTzMissingError('$%ticker%: possibly delisted; no timezone found')\n",
      " 15%|████████▌                                                 | 604/4062 [15:08<1:17:46,  1.35s/it]"
     ]
    },
    {
     "name": "stdout",
     "output_type": "stream",
     "text": [
      "No data found for 6461.T. Skipping...\n"
     ]
    },
    {
     "name": "stderr",
     "output_type": "stream",
     "text": [
      "[*********************100%***********************]  1 of 1 completed/4062 [15:09<1:44:50,  1.82s/it]\n",
      "[*********************100%***********************]  1 of 1 completed/4062 [15:10<1:36:33,  1.68s/it]\n",
      "[*********************100%***********************]  1 of 1 completed/4062 [15:12<1:31:15,  1.58s/it]\n",
      "\n",
      "1 Failed download:\n",
      "['9855.T']: YFPricesMissingError('$%ticker%: possibly delisted; no price data found  (1d 2024-10-13 -> 2024-10-20)')\n",
      " 15%|████████▋                                                 | 607/4062 [15:12<1:31:15,  1.58s/it]"
     ]
    },
    {
     "name": "stdout",
     "output_type": "stream",
     "text": [
      "No data found for 9855.T. Skipping...\n"
     ]
    },
    {
     "name": "stderr",
     "output_type": "stream",
     "text": [
      "[*********************100%***********************]  1 of 1 completed/4062 [15:13<1:26:09,  1.50s/it]\n",
      "[*********************100%***********************]  1 of 1 completed/4062 [15:14<1:23:04,  1.44s/it]\n",
      "[*********************100%***********************]  1 of 1 completed/4062 [15:16<1:20:28,  1.40s/it]\n",
      "[*********************100%***********************]  1 of 1 completed/4062 [15:17<1:18:40,  1.37s/it]\n",
      "[*********************100%***********************]  1 of 1 completed/4062 [15:18<1:18:22,  1.36s/it]\n",
      "[*********************100%***********************]  1 of 1 completed/4062 [15:20<1:18:07,  1.36s/it]\n",
      "[*********************100%***********************]  1 of 1 completed/4062 [15:21<1:16:45,  1.34s/it]\n",
      "[*********************100%***********************]  1 of 1 completed/4062 [15:22<1:16:26,  1.33s/it]\n",
      "[*********************100%***********************]  1 of 1 completed/4062 [15:23<1:16:19,  1.33s/it]\n",
      "\n",
      "1 Failed download:\n",
      "['8090.T']: YFTzMissingError('$%ticker%: possibly delisted; no timezone found')\n",
      " 15%|████████▊                                                 | 616/4062 [15:25<1:16:19,  1.33s/it]"
     ]
    },
    {
     "name": "stdout",
     "output_type": "stream",
     "text": [
      "No data found for 8090.T. Skipping...\n"
     ]
    },
    {
     "name": "stderr",
     "output_type": "stream",
     "text": [
      "[*********************100%***********************]  1 of 1 completed/4062 [15:26<1:29:41,  1.56s/it]\n",
      "[*********************100%***********************]  1 of 1 completed/4062 [15:27<1:25:48,  1.49s/it]\n",
      "[*********************100%***********************]  1 of 1 completed/4062 [15:28<1:23:23,  1.45s/it]\n",
      "[*********************100%***********************]  1 of 1 completed/4062 [15:30<1:21:23,  1.42s/it]\n",
      "[*********************100%***********************]  1 of 1 completed/4062 [15:31<1:20:09,  1.40s/it]\n",
      "[*********************100%***********************]  1 of 1 completed/4062 [15:32<1:18:31,  1.37s/it]\n",
      "[*********************100%***********************]  1 of 1 completed/4062 [15:34<1:17:22,  1.35s/it]\n",
      "[*********************100%***********************]  1 of 1 completed/4062 [15:35<1:17:31,  1.35s/it]\n",
      "[*********************100%***********************]  1 of 1 completed/4062 [15:36<1:16:55,  1.34s/it]\n",
      "[*********************100%***********************]  1 of 1 completed/4062 [15:38<1:17:22,  1.35s/it]\n",
      "\n",
      "1 Failed download:\n",
      "['3424.T']: YFTzMissingError('$%ticker%: possibly delisted; no timezone found')\n",
      " 15%|████████▉                                                 | 626/4062 [15:39<1:17:22,  1.35s/it]"
     ]
    },
    {
     "name": "stdout",
     "output_type": "stream",
     "text": [
      "No data found for 3424.T. Skipping...\n"
     ]
    },
    {
     "name": "stderr",
     "output_type": "stream",
     "text": [
      "[*********************100%***********************]  1 of 1 completed/4062 [15:40<1:38:56,  1.73s/it]\n",
      "\n",
      "1 Failed download:\n",
      "['6722.T']: YFTzMissingError('$%ticker%: possibly delisted; no timezone found')\n",
      " 15%|████████▉                                                 | 627/4062 [15:42<1:38:56,  1.73s/it]"
     ]
    },
    {
     "name": "stdout",
     "output_type": "stream",
     "text": [
      "No data found for 6722.T. Skipping...\n"
     ]
    },
    {
     "name": "stderr",
     "output_type": "stream",
     "text": [
      "[*********************100%***********************]  1 of 1 completed/4062 [15:43<1:55:12,  2.01s/it]\n",
      "[*********************100%***********************]  1 of 1 completed/4062 [15:44<1:43:06,  1.80s/it]\n",
      "[*********************100%***********************]  1 of 1 completed/4062 [15:46<1:35:33,  1.67s/it]\n",
      "[*********************100%***********************]  1 of 1 completed/4062 [15:47<1:30:15,  1.58s/it]\n",
      "[*********************100%***********************]  1 of 1 completed/4062 [15:48<1:25:16,  1.49s/it]\n",
      "[*********************100%***********************]  1 of 1 completed/4062 [15:50<1:23:01,  1.45s/it]\n",
      "[*********************100%***********************]  1 of 1 completed/4062 [15:51<1:20:54,  1.42s/it]\n",
      "[*********************100%***********************]  1 of 1 completed/4062 [15:52<1:19:48,  1.40s/it]\n",
      "[*********************100%***********************]  1 of 1 completed/4062 [15:54<1:19:31,  1.39s/it]\n",
      "[*********************100%***********************]  1 of 1 completed/4062 [15:55<1:18:01,  1.37s/it]\n",
      "[*********************100%***********************]  1 of 1 completed/4062 [15:56<1:17:35,  1.36s/it]\n",
      "[*********************100%***********************]  1 of 1 completed/4062 [15:58<1:16:55,  1.35s/it]\n",
      "[*********************100%***********************]  1 of 1 completed/4062 [15:59<1:16:36,  1.34s/it]\n",
      "[*********************100%***********************]  1 of 1 completed/4062 [16:00<1:17:18,  1.36s/it]\n",
      "[*********************100%***********************]  1 of 1 completed/4062 [16:02<1:16:41,  1.35s/it]\n",
      "[*********************100%***********************]  1 of 1 completed/4062 [16:03<1:16:02,  1.33s/it]\n",
      "[*********************100%***********************]  1 of 1 completed/4062 [16:04<1:15:52,  1.33s/it]\n",
      "\n",
      "1 Failed download:\n",
      "['3784.T']: YFTzMissingError('$%ticker%: possibly delisted; no timezone found')\n",
      " 16%|█████████▏                                                | 644/4062 [16:06<1:15:52,  1.33s/it]"
     ]
    },
    {
     "name": "stdout",
     "output_type": "stream",
     "text": [
      "No data found for 3784.T. Skipping...\n"
     ]
    },
    {
     "name": "stderr",
     "output_type": "stream",
     "text": [
      "[*********************100%***********************]  1 of 1 completed/4062 [16:07<1:31:04,  1.60s/it]\n",
      "[*********************100%***********************]  1 of 1 completed/4062 [16:08<1:25:59,  1.51s/it]\n",
      "[*********************100%***********************]  1 of 1 completed/4062 [16:09<1:23:26,  1.47s/it]\n",
      "[*********************100%***********************]  1 of 1 completed/4062 [16:10<1:20:51,  1.42s/it]\n",
      "[*********************100%***********************]  1 of 1 completed/4062 [16:12<1:19:40,  1.40s/it]\n",
      "[*********************100%***********************]  1 of 1 completed/4062 [16:13<1:19:40,  1.40s/it]\n",
      "[*********************100%***********************]  1 of 1 completed/4062 [16:15<1:18:41,  1.38s/it]\n",
      "\n",
      "1 Failed download:\n",
      "['3385.T']: YFTzMissingError('$%ticker%: possibly delisted; no timezone found')\n",
      " 16%|█████████▎                                                | 651/4062 [16:16<1:18:41,  1.38s/it]"
     ]
    },
    {
     "name": "stdout",
     "output_type": "stream",
     "text": [
      "No data found for 3385.T. Skipping...\n"
     ]
    },
    {
     "name": "stderr",
     "output_type": "stream",
     "text": [
      "[*********************100%***********************]  1 of 1 completed/4062 [16:17<1:30:44,  1.60s/it]\n",
      "[*********************100%***********************]  1 of 1 completed/4062 [16:18<1:27:02,  1.53s/it]\n",
      "[*********************100%***********************]  1 of 1 completed/4062 [16:19<1:22:57,  1.46s/it]\n",
      "[*********************100%***********************]  1 of 1 completed/4062 [16:21<1:20:39,  1.42s/it]\n",
      "[*********************100%***********************]  1 of 1 completed/4062 [16:22<1:19:24,  1.40s/it]\n",
      "[*********************100%***********************]  1 of 1 completed/4062 [16:23<1:18:17,  1.38s/it]\n",
      "[*********************100%***********************]  1 of 1 completed/4062 [16:25<1:17:02,  1.36s/it]\n",
      "[*********************100%***********************]  1 of 1 completed/4062 [16:26<1:19:28,  1.40s/it]\n",
      "[*********************100%***********************]  1 of 1 completed/4062 [16:28<1:18:14,  1.38s/it]\n",
      "\n",
      "1 Failed download:\n",
      "['8513.T']: YFTzMissingError('$%ticker%: possibly delisted; no timezone found')\n",
      " 16%|█████████▍                                                | 660/4062 [16:29<1:18:14,  1.38s/it]"
     ]
    },
    {
     "name": "stdout",
     "output_type": "stream",
     "text": [
      "No data found for 8513.T. Skipping...\n"
     ]
    },
    {
     "name": "stderr",
     "output_type": "stream",
     "text": [
      "[*********************100%***********************]  1 of 1 completed/4062 [16:30<1:37:20,  1.72s/it]\n",
      "[*********************100%***********************]  1 of 1 completed/4062 [16:31<1:31:04,  1.61s/it]\n",
      "[*********************100%***********************]  1 of 1 completed/4062 [16:33<1:26:32,  1.53s/it]\n",
      "[*********************100%***********************]  1 of 1 completed/4062 [16:34<1:22:38,  1.46s/it]\n",
      "[*********************100%***********************]  1 of 1 completed/4062 [16:35<1:20:31,  1.42s/it]\n",
      "[*********************100%***********************]  1 of 1 completed/4062 [16:37<1:18:58,  1.40s/it]\n",
      "[*********************100%***********************]  1 of 1 completed/4062 [16:38<1:18:01,  1.38s/it]\n",
      "[*********************100%***********************]  1 of 1 completed/4062 [16:39<1:16:19,  1.35s/it]\n",
      "[*********************100%***********************]  1 of 1 completed/4062 [16:41<1:15:40,  1.34s/it]\n",
      "\n",
      "1 Failed download:\n",
      "['5212.T']: YFTzMissingError('$%ticker%: possibly delisted; no timezone found')\n",
      " 16%|█████████▌                                                | 669/4062 [16:42<1:15:40,  1.34s/it]"
     ]
    },
    {
     "name": "stdout",
     "output_type": "stream",
     "text": [
      "No data found for 5212.T. Skipping...\n"
     ]
    },
    {
     "name": "stderr",
     "output_type": "stream",
     "text": [
      "[*********************100%***********************]  1 of 1 completed/4062 [16:43<1:33:20,  1.65s/it]\n",
      "[*********************100%***********************]  1 of 1 completed/4062 [16:44<1:28:07,  1.56s/it]\n",
      "[*********************100%***********************]  1 of 1 completed/4062 [16:46<1:24:24,  1.49s/it]\n",
      "[*********************100%***********************]  1 of 1 completed/4062 [16:47<1:21:45,  1.45s/it]\n",
      "[*********************100%***********************]  1 of 1 completed/4062 [16:48<1:20:00,  1.42s/it]\n",
      "[*********************100%***********************]  1 of 1 completed/4062 [16:50<1:18:59,  1.40s/it]\n",
      "\n",
      "1 Failed download:\n",
      "['2284.T']: YFPricesMissingError('$%ticker%: possibly delisted; no price data found  (1d 2024-10-13 -> 2024-10-20)')\n",
      " 17%|█████████▋                                                | 675/4062 [16:50<1:18:59,  1.40s/it]"
     ]
    },
    {
     "name": "stdout",
     "output_type": "stream",
     "text": [
      "No data found for 2284.T. Skipping...\n"
     ]
    },
    {
     "name": "stderr",
     "output_type": "stream",
     "text": [
      "[*********************100%***********************]  1 of 1 completed/4062 [16:51<1:17:56,  1.38s/it]\n",
      "[*********************100%***********************]  1 of 1 completed/4062 [16:52<1:17:14,  1.37s/it]\n",
      "\n",
      "1 Failed download:\n",
      "['8721.T']: YFPricesMissingError('$%ticker%: possibly delisted; no price data found  (1d 2024-10-13 -> 2024-10-20)')\n",
      " 17%|█████████▋                                                | 677/4062 [16:53<1:17:14,  1.37s/it]"
     ]
    },
    {
     "name": "stdout",
     "output_type": "stream",
     "text": [
      "No data found for 8721.T. Skipping...\n"
     ]
    },
    {
     "name": "stderr",
     "output_type": "stream",
     "text": [
      "[*********************100%***********************]  1 of 1 completed/4062 [16:54<1:15:30,  1.34s/it]\n",
      "[*********************100%***********************]  1 of 1 completed/4062 [16:55<1:15:37,  1.34s/it]\n",
      "[*********************100%***********************]  1 of 1 completed/4062 [16:57<1:21:42,  1.45s/it]\n",
      "[*********************100%***********************]  1 of 1 completed/4062 [16:58<1:24:10,  1.49s/it]\n",
      "[*********************100%***********************]  1 of 1 completed/4062 [17:00<1:21:29,  1.45s/it]\n",
      "[*********************100%***********************]  1 of 1 completed/4062 [17:01<1:19:30,  1.41s/it]\n",
      "[*********************100%***********************]  1 of 1 completed/4062 [17:02<1:19:38,  1.41s/it]\n",
      "[*********************100%***********************]  1 of 1 completed/4062 [17:04<1:18:34,  1.40s/it]\n",
      "[*********************100%***********************]  1 of 1 completed/4062 [17:05<1:17:32,  1.38s/it]\n",
      "\n",
      "1 Failed download:\n",
      "['4115.T']: YFTzMissingError('$%ticker%: possibly delisted; no timezone found')\n",
      " 17%|█████████▊                                                | 686/4062 [17:06<1:17:32,  1.38s/it]"
     ]
    },
    {
     "name": "stdout",
     "output_type": "stream",
     "text": [
      "No data found for 4115.T. Skipping...\n"
     ]
    },
    {
     "name": "stderr",
     "output_type": "stream",
     "text": [
      "[*********************100%***********************]  1 of 1 completed/4062 [17:07<1:28:56,  1.58s/it]\n",
      "[*********************100%***********************]  1 of 1 completed/4062 [17:08<1:23:51,  1.49s/it]\n",
      "[*********************100%***********************]  1 of 1 completed/4062 [17:10<1:21:02,  1.44s/it]\n",
      "[*********************100%***********************]  1 of 1 completed/4062 [17:11<1:19:11,  1.41s/it]\n",
      "[*********************100%***********************]  1 of 1 completed/4062 [17:12<1:17:49,  1.39s/it]\n",
      "\n",
      "1 Failed download:\n",
      "['7907.T']: YFTzMissingError('$%ticker%: possibly delisted; no timezone found')\n",
      " 17%|█████████▊                                                | 691/4062 [17:14<1:17:49,  1.39s/it]"
     ]
    },
    {
     "name": "stdout",
     "output_type": "stream",
     "text": [
      "No data found for 7907.T. Skipping...\n"
     ]
    },
    {
     "name": "stderr",
     "output_type": "stream",
     "text": [
      "[*********************100%***********************]  1 of 1 completed/4062 [17:15<1:43:17,  1.84s/it]\n",
      "[*********************100%***********************]  1 of 1 completed/4062 [17:17<1:34:38,  1.69s/it]\n",
      "[*********************100%***********************]  1 of 1 completed/4062 [17:18<1:32:00,  1.64s/it]\n",
      "[*********************100%***********************]  1 of 1 completed/4062 [17:20<1:27:01,  1.55s/it]\n",
      "[*********************100%***********************]  1 of 1 completed/4062 [17:21<1:23:27,  1.49s/it]\n",
      "[*********************100%***********************]  1 of 1 completed/4062 [17:22<1:20:21,  1.43s/it]\n",
      "[*********************100%***********************]  1 of 1 completed/4062 [17:24<1:18:51,  1.41s/it]\n",
      "[*********************100%***********************]  1 of 1 completed/4062 [17:25<1:18:02,  1.39s/it]\n",
      "[*********************100%***********************]  1 of 1 completed/4062 [17:26<1:17:05,  1.38s/it]\n",
      "[*********************100%***********************]  1 of 1 completed/4062 [17:28<1:16:25,  1.36s/it]\n",
      "[*********************100%***********************]  1 of 1 completed/4062 [17:29<1:15:51,  1.35s/it]\n",
      "[*********************100%***********************]  1 of 1 completed/4062 [17:30<1:16:14,  1.36s/it]\n",
      "[*********************100%***********************]  1 of 1 completed/4062 [17:32<1:16:04,  1.36s/it]\n",
      "\n",
      "1 Failed download:\n",
      "['7587.T']: YFTzMissingError('$%ticker%: possibly delisted; no timezone found')\n",
      " 17%|██████████                                                | 704/4062 [17:34<1:16:04,  1.36s/it]"
     ]
    },
    {
     "name": "stdout",
     "output_type": "stream",
     "text": [
      "No data found for 7587.T. Skipping...\n"
     ]
    },
    {
     "name": "stderr",
     "output_type": "stream",
     "text": [
      "[*********************100%***********************]  1 of 1 completed/4062 [17:35<1:43:08,  1.84s/it]\n",
      "[*********************100%***********************]  1 of 1 completed/4062 [17:36<1:33:43,  1.68s/it]\n",
      "[*********************100%***********************]  1 of 1 completed/4062 [17:37<1:27:19,  1.56s/it]\n",
      "[*********************100%***********************]  1 of 1 completed/4062 [17:39<1:23:47,  1.50s/it]\n",
      "\n",
      "1 Failed download:\n",
      "['2191.T']: YFTzMissingError('$%ticker%: possibly delisted; no timezone found')\n",
      " 17%|██████████                                                | 708/4062 [17:40<1:23:47,  1.50s/it]"
     ]
    },
    {
     "name": "stdout",
     "output_type": "stream",
     "text": [
      "No data found for 2191.T. Skipping...\n"
     ]
    },
    {
     "name": "stderr",
     "output_type": "stream",
     "text": [
      "[*********************100%***********************]  1 of 1 completed/4062 [17:41<1:39:11,  1.78s/it]\n",
      "[*********************100%***********************]  1 of 1 completed/4062 [17:42<1:31:30,  1.64s/it]\n",
      "\n",
      "1 Failed download:\n",
      "['6895.T']: YFPricesMissingError('$%ticker%: possibly delisted; no price data found  (1d 2024-10-13 -> 2024-10-20)')\n",
      " 17%|██████████▏                                               | 710/4062 [17:43<1:31:30,  1.64s/it]"
     ]
    },
    {
     "name": "stdout",
     "output_type": "stream",
     "text": [
      "No data found for 6895.T. Skipping...\n"
     ]
    },
    {
     "name": "stderr",
     "output_type": "stream",
     "text": [
      "[*********************100%***********************]  1 of 1 completed/4062 [17:44<1:26:33,  1.55s/it]\n",
      "\n",
      "1 Failed download:\n",
      "['3331.T']: YFTzMissingError('$%ticker%: possibly delisted; no timezone found')\n",
      " 18%|██████████▏                                               | 711/4062 [17:45<1:26:33,  1.55s/it]"
     ]
    },
    {
     "name": "stdout",
     "output_type": "stream",
     "text": [
      "No data found for 3331.T. Skipping...\n"
     ]
    },
    {
     "name": "stderr",
     "output_type": "stream",
     "text": [
      "[*********************100%***********************]  1 of 1 completed/4062 [17:46<1:42:52,  1.84s/it]\n",
      "[*********************100%***********************]  1 of 1 completed/4062 [17:47<1:34:26,  1.69s/it]\n",
      "[*********************100%***********************]  1 of 1 completed/4062 [17:49<1:28:35,  1.59s/it]\n",
      "[*********************100%***********************]  1 of 1 completed/4062 [17:50<1:24:22,  1.51s/it]\n",
      "[*********************100%***********************]  1 of 1 completed/4062 [17:51<1:21:42,  1.47s/it]\n",
      "[*********************100%***********************]  1 of 1 completed/4062 [17:53<1:19:30,  1.43s/it]\n",
      "[*********************100%***********************]  1 of 1 completed/4062 [17:54<1:17:51,  1.40s/it]\n",
      "[*********************100%***********************]  1 of 1 completed/4062 [17:56<1:17:04,  1.38s/it]\n",
      "[*********************100%***********************]  1 of 1 completed/4062 [17:57<1:16:31,  1.37s/it]\n",
      "\n",
      "1 Failed download:\n",
      "['8379.T']: YFTzMissingError('$%ticker%: possibly delisted; no timezone found')\n",
      " 18%|██████████▎                                               | 720/4062 [17:58<1:16:31,  1.37s/it]"
     ]
    },
    {
     "name": "stdout",
     "output_type": "stream",
     "text": [
      "No data found for 8379.T. Skipping...\n"
     ]
    },
    {
     "name": "stderr",
     "output_type": "stream",
     "text": [
      "[*********************100%***********************]  1 of 1 completed/4062 [17:59<1:32:45,  1.67s/it]\n",
      "[*********************100%***********************]  1 of 1 completed/4062 [18:01<1:27:07,  1.57s/it]\n",
      "[*********************100%***********************]  1 of 1 completed/4062 [18:02<1:22:54,  1.49s/it]\n",
      "\n",
      "1 Failed download:\n",
      "['4837.T']: YFTzMissingError('$%ticker%: possibly delisted; no timezone found')\n",
      " 18%|██████████▎                                               | 723/4062 [18:03<1:22:54,  1.49s/it]"
     ]
    },
    {
     "name": "stdout",
     "output_type": "stream",
     "text": [
      "No data found for 4837.T. Skipping...\n"
     ]
    },
    {
     "name": "stderr",
     "output_type": "stream",
     "text": [
      "[*********************100%***********************]  1 of 1 completed/4062 [18:04<1:41:07,  1.82s/it]\n",
      "[*********************100%***********************]  1 of 1 completed/4062 [18:06<1:32:56,  1.67s/it]\n",
      "[*********************100%***********************]  1 of 1 completed/4062 [18:07<1:27:23,  1.57s/it]\n",
      "[*********************100%***********************]  1 of 1 completed/4062 [18:08<1:23:01,  1.49s/it]\n",
      "[*********************100%***********************]  1 of 1 completed/4062 [18:10<1:20:02,  1.44s/it]\n",
      "[*********************100%***********************]  1 of 1 completed/4062 [18:11<1:19:31,  1.43s/it]\n",
      "[*********************100%***********************]  1 of 1 completed/4062 [18:13<1:18:51,  1.42s/it]\n",
      "[*********************100%***********************]  1 of 1 completed/4062 [18:14<1:17:09,  1.39s/it]\n",
      "[*********************100%***********************]  1 of 1 completed/4062 [18:15<1:15:19,  1.36s/it]\n",
      "[*********************100%***********************]  1 of 1 completed/4062 [18:16<1:14:05,  1.34s/it]\n",
      "[*********************100%***********************]  1 of 1 completed/4062 [18:18<1:14:14,  1.34s/it]\n",
      "[*********************100%***********************]  1 of 1 completed/4062 [18:19<1:16:29,  1.38s/it]\n",
      "[*********************100%***********************]  1 of 1 completed/4062 [18:21<1:15:22,  1.36s/it]\n",
      "[*********************100%***********************]  1 of 1 completed/4062 [18:22<1:14:52,  1.35s/it]\n",
      "[*********************100%***********************]  1 of 1 completed/4062 [18:23<1:14:15,  1.34s/it]\n",
      "\n",
      "1 Failed download:\n",
      "['6636.T']: YFPricesMissingError('$%ticker%: possibly delisted; no price data found  (1d 2024-10-13 -> 2024-10-20)')\n",
      " 18%|██████████▌                                               | 738/4062 [18:23<1:14:15,  1.34s/it]"
     ]
    },
    {
     "name": "stdout",
     "output_type": "stream",
     "text": [
      "No data found for 6636.T. Skipping...\n"
     ]
    },
    {
     "name": "stderr",
     "output_type": "stream",
     "text": [
      " 18%|██████████▌                                               | 739/4062 [18:24<1:13:18,  1.32s/it]Could not get exchangeTimezoneName for ticker '6420.T' reason: 'chart'\n",
      "[*********************100%***********************]  1 of 1 completed\n",
      "\n",
      "1 Failed download:\n",
      "['6420.T']: YFTzMissingError('$%ticker%: possibly delisted; no timezone found')\n",
      " 18%|██████████▌                                               | 739/4062 [18:26<1:13:18,  1.32s/it]"
     ]
    },
    {
     "name": "stdout",
     "output_type": "stream",
     "text": [
      "No data found for 6420.T. Skipping...\n"
     ]
    },
    {
     "name": "stderr",
     "output_type": "stream",
     "text": [
      "[*********************100%***********************]  1 of 1 completed/4062 [18:27<1:32:49,  1.68s/it]\n",
      "[*********************100%***********************]  1 of 1 completed/4062 [18:28<1:27:04,  1.57s/it]\n",
      "[*********************100%***********************]  1 of 1 completed/4062 [18:30<1:23:03,  1.50s/it]\n",
      "[*********************100%***********************]  1 of 1 completed/4062 [18:31<1:20:05,  1.45s/it]\n",
      "[*********************100%***********************]  1 of 1 completed/4062 [18:32<1:18:26,  1.42s/it]\n",
      "[*********************100%***********************]  1 of 1 completed/4062 [18:34<1:17:16,  1.40s/it]\n",
      "[*********************100%***********************]  1 of 1 completed/4062 [18:35<1:15:54,  1.37s/it]\n",
      "[*********************100%***********************]  1 of 1 completed/4062 [18:36<1:15:23,  1.36s/it]\n",
      "\n",
      "1 Failed download:\n",
      "['8108.T']: YFTzMissingError('$%ticker%: possibly delisted; no timezone found')\n",
      " 18%|██████████▋                                               | 747/4062 [18:38<1:15:23,  1.36s/it]"
     ]
    },
    {
     "name": "stdout",
     "output_type": "stream",
     "text": [
      "No data found for 8108.T. Skipping...\n"
     ]
    },
    {
     "name": "stderr",
     "output_type": "stream",
     "text": [
      "[*********************100%***********************]  1 of 1 completed/4062 [18:39<1:39:21,  1.80s/it]\n",
      "[*********************100%***********************]  1 of 1 completed/4062 [18:40<1:31:15,  1.65s/it]\n",
      "[*********************100%***********************]  1 of 1 completed/4062 [18:42<1:26:00,  1.56s/it]\n",
      "\n",
      "1 Failed download:\n",
      "['6839.T']: YFTzMissingError('$%ticker%: possibly delisted; no timezone found')\n",
      " 18%|██████████▋                                               | 750/4062 [18:44<1:26:00,  1.56s/it]"
     ]
    },
    {
     "name": "stdout",
     "output_type": "stream",
     "text": [
      "No data found for 6839.T. Skipping...\n"
     ]
    },
    {
     "name": "stderr",
     "output_type": "stream",
     "text": [
      "[*********************100%***********************]  1 of 1 completed/4062 [18:45<1:52:25,  2.04s/it]\n",
      "[*********************100%***********************]  1 of 1 completed/4062 [18:46<1:43:12,  1.87s/it]\n",
      "\n",
      "1 Failed download:\n",
      "['4775.T']: YFPricesMissingError('$%ticker%: possibly delisted; no price data found  (1d 2024-10-13 -> 2024-10-20)')\n",
      " 19%|██████████▋                                               | 752/4062 [18:47<1:43:12,  1.87s/it]"
     ]
    },
    {
     "name": "stdout",
     "output_type": "stream",
     "text": [
      "No data found for 4775.T. Skipping...\n"
     ]
    },
    {
     "name": "stderr",
     "output_type": "stream",
     "text": [
      "[*********************100%***********************]  1 of 1 completed/4062 [18:48<1:34:14,  1.71s/it]\n",
      "[*********************100%***********************]  1 of 1 completed/4062 [18:49<1:31:39,  1.66s/it]\n",
      "[*********************100%***********************]  1 of 1 completed/4062 [18:51<1:25:49,  1.56s/it]\n",
      "[*********************100%***********************]  1 of 1 completed/4062 [18:52<1:21:55,  1.49s/it]\n",
      "\n",
      "1 Failed download:\n",
      "['7441.T']: YFTzMissingError('$%ticker%: possibly delisted; no timezone found')\n",
      " 19%|██████████▊                                               | 756/4062 [18:53<1:21:55,  1.49s/it]"
     ]
    },
    {
     "name": "stdout",
     "output_type": "stream",
     "text": [
      "No data found for 7441.T. Skipping...\n"
     ]
    },
    {
     "name": "stderr",
     "output_type": "stream",
     "text": [
      "[*********************100%***********************]  1 of 1 completed/4062 [18:54<1:30:54,  1.65s/it]\n",
      "[*********************100%***********************]  1 of 1 completed/4062 [18:55<1:25:27,  1.55s/it]\n",
      "\n",
      "1 Failed download:\n",
      "['5979.T']: YFTzMissingError('$%ticker%: possibly delisted; no timezone found')\n",
      " 19%|██████████▊                                               | 758/4062 [18:57<1:25:27,  1.55s/it]"
     ]
    },
    {
     "name": "stdout",
     "output_type": "stream",
     "text": [
      "No data found for 5979.T. Skipping...\n"
     ]
    },
    {
     "name": "stderr",
     "output_type": "stream",
     "text": [
      "[*********************100%***********************]  1 of 1 completed/4062 [18:58<1:36:24,  1.75s/it]\n",
      "[*********************100%***********************]  1 of 1 completed/4062 [18:59<1:30:32,  1.65s/it]\n",
      "[*********************100%***********************]  1 of 1 completed/4062 [19:00<1:25:34,  1.56s/it]\n",
      "\n",
      "1 Failed download:\n",
      "['4656.T']: YFPricesMissingError('$%ticker%: possibly delisted; no price data found  (1d 2024-10-13 -> 2024-10-20)')\n",
      " 19%|██████████▊                                               | 761/4062 [19:01<1:25:34,  1.56s/it]"
     ]
    },
    {
     "name": "stdout",
     "output_type": "stream",
     "text": [
      "No data found for 4656.T. Skipping...\n"
     ]
    },
    {
     "name": "stderr",
     "output_type": "stream",
     "text": [
      "[*********************100%***********************]  1 of 1 completed/4062 [19:02<1:21:48,  1.49s/it]\n",
      "[*********************100%***********************]  1 of 1 completed/4062 [19:03<1:18:43,  1.43s/it]\n",
      "[*********************100%***********************]  1 of 1 completed/4062 [19:04<1:16:25,  1.39s/it]\n",
      "[*********************100%***********************]  1 of 1 completed/4062 [19:06<1:19:33,  1.45s/it]\n",
      "[*********************100%***********************]  1 of 1 completed/4062 [19:07<1:19:05,  1.44s/it]\n",
      "[*********************100%***********************]  1 of 1 completed/4062 [19:09<1:17:15,  1.41s/it]\n",
      "\n",
      "1 Failed download:\n",
      "['1738.T']: YFTzMissingError('$%ticker%: possibly delisted; no timezone found')\n",
      " 19%|██████████▉                                               | 767/4062 [19:10<1:17:15,  1.41s/it]"
     ]
    },
    {
     "name": "stdout",
     "output_type": "stream",
     "text": [
      "No data found for 1738.T. Skipping...\n"
     ]
    },
    {
     "name": "stderr",
     "output_type": "stream",
     "text": [
      "[*********************100%***********************]  1 of 1 completed/4062 [19:11<1:33:52,  1.71s/it]\n",
      "[*********************100%***********************]  1 of 1 completed/4062 [19:12<1:27:43,  1.60s/it]\n",
      "[*********************100%***********************]  1 of 1 completed/4062 [19:14<1:22:30,  1.50s/it]\n",
      "\n",
      "1 Failed download:\n",
      "['7308.T']: YFTzMissingError('$%ticker%: possibly delisted; no timezone found')\n",
      " 19%|██████████▉                                               | 770/4062 [19:15<1:22:30,  1.50s/it]"
     ]
    },
    {
     "name": "stdout",
     "output_type": "stream",
     "text": [
      "No data found for 7308.T. Skipping...\n"
     ]
    },
    {
     "name": "stderr",
     "output_type": "stream",
     "text": [
      "[*********************100%***********************]  1 of 1 completed/4062 [19:16<1:35:21,  1.74s/it]\n",
      "[*********************100%***********************]  1 of 1 completed/4062 [19:17<1:29:26,  1.63s/it]\n",
      "[*********************100%***********************]  1 of 1 completed/4062 [19:19<1:24:33,  1.54s/it]\n",
      "[*********************100%***********************]  1 of 1 completed/4062 [19:20<1:20:24,  1.47s/it]\n",
      "[*********************100%***********************]  1 of 1 completed/4062 [19:21<1:18:22,  1.43s/it]\n",
      "\n",
      "1 Failed download:\n",
      "['8303.T']: YFTzMissingError('$%ticker%: possibly delisted; no timezone found')\n",
      " 19%|███████████                                               | 775/4062 [19:24<1:18:22,  1.43s/it]"
     ]
    },
    {
     "name": "stdout",
     "output_type": "stream",
     "text": [
      "No data found for 8303.T. Skipping...\n"
     ]
    },
    {
     "name": "stderr",
     "output_type": "stream",
     "text": [
      "[*********************100%***********************]  1 of 1 completed/4062 [19:25<1:53:02,  2.06s/it]\n",
      "[*********************100%***********************]  1 of 1 completed/4062 [19:26<1:41:05,  1.85s/it]\n",
      "\n",
      "1 Failed download:\n",
      "['6972.T']: YFPricesMissingError('$%ticker%: possibly delisted; no price data found  (1d 2024-10-13 -> 2024-10-20)')\n",
      " 19%|███████████                                               | 777/4062 [19:26<1:41:05,  1.85s/it]"
     ]
    },
    {
     "name": "stdout",
     "output_type": "stream",
     "text": [
      "No data found for 6972.T. Skipping...\n"
     ]
    },
    {
     "name": "stderr",
     "output_type": "stream",
     "text": [
      "[*********************100%***********************]  1 of 1 completed/4062 [19:27<1:31:37,  1.67s/it]\n",
      "[*********************100%***********************]  1 of 1 completed/4062 [19:29<1:26:19,  1.58s/it]\n",
      "[*********************100%***********************]  1 of 1 completed/4062 [19:30<1:23:59,  1.54s/it]\n",
      "[*********************100%***********************]  1 of 1 completed/4062 [19:32<1:21:09,  1.48s/it]\n",
      "[*********************100%***********************]  1 of 1 completed/4062 [19:33<1:19:04,  1.45s/it]\n",
      "[*********************100%***********************]  1 of 1 completed/4062 [19:34<1:18:33,  1.44s/it]\n",
      "[*********************100%***********************]  1 of 1 completed/4062 [19:36<1:17:16,  1.41s/it]\n",
      "[*********************100%***********************]  1 of 1 completed/4062 [19:37<1:16:11,  1.39s/it]\n",
      "\n",
      "1 Failed download:\n",
      "['6439.T']: YFTzMissingError('$%ticker%: possibly delisted; no timezone found')\n",
      " 19%|███████████▏                                              | 785/4062 [19:39<1:16:11,  1.39s/it]"
     ]
    },
    {
     "name": "stdout",
     "output_type": "stream",
     "text": [
      "No data found for 6439.T. Skipping...\n"
     ]
    },
    {
     "name": "stderr",
     "output_type": "stream",
     "text": [
      "[*********************100%***********************]  1 of 1 completed/4062 [19:40<1:50:24,  2.02s/it]\n",
      "\n",
      "1 Failed download:\n",
      "['1846.T']: YFPricesMissingError('$%ticker%: possibly delisted; no price data found  (1d 2024-10-13 -> 2024-10-20)')\n",
      " 19%|███████████▏                                              | 786/4062 [19:41<1:50:24,  2.02s/it]"
     ]
    },
    {
     "name": "stdout",
     "output_type": "stream",
     "text": [
      "No data found for 1846.T. Skipping...\n"
     ]
    },
    {
     "name": "stderr",
     "output_type": "stream",
     "text": [
      "[*********************100%***********************]  1 of 1 completed/4062 [19:42<1:39:47,  1.83s/it]\n",
      "[*********************100%***********************]  1 of 1 completed/4062 [19:43<1:31:18,  1.67s/it]\n",
      "\n",
      "1 Failed download:\n",
      "['8044.T']: YFTzMissingError('$%ticker%: possibly delisted; no timezone found')\n",
      " 19%|███████████▎                                              | 788/4062 [19:45<1:31:18,  1.67s/it]"
     ]
    },
    {
     "name": "stdout",
     "output_type": "stream",
     "text": [
      "No data found for 8044.T. Skipping...\n"
     ]
    },
    {
     "name": "stderr",
     "output_type": "stream",
     "text": [
      "[*********************100%***********************]  1 of 1 completed/4062 [19:46<1:47:15,  1.97s/it]\n",
      "[*********************100%***********************]  1 of 1 completed/4062 [19:47<1:36:05,  1.76s/it]\n",
      "\n",
      "1 Failed download:\n",
      "['9943.T']: YFTzMissingError('$%ticker%: possibly delisted; no timezone found')\n",
      " 19%|███████████▎                                              | 790/4062 [19:49<1:36:05,  1.76s/it]"
     ]
    },
    {
     "name": "stdout",
     "output_type": "stream",
     "text": [
      "No data found for 9943.T. Skipping...\n"
     ]
    },
    {
     "name": "stderr",
     "output_type": "stream",
     "text": [
      "[*********************100%***********************]  1 of 1 completed/4062 [19:50<1:56:23,  2.13s/it]\n",
      "[*********************100%***********************]  1 of 1 completed/4062 [19:51<1:42:48,  1.89s/it]\n",
      "[*********************100%***********************]  1 of 1 completed/4062 [19:53<1:34:09,  1.73s/it]\n",
      "[*********************100%***********************]  1 of 1 completed/4062 [19:54<1:27:19,  1.60s/it]\n",
      "\n",
      "1 Failed download:\n",
      "['4999.T']: YFTzMissingError('$%ticker%: possibly delisted; no timezone found')\n",
      " 20%|███████████▎                                              | 794/4062 [19:56<1:27:19,  1.60s/it]"
     ]
    },
    {
     "name": "stdout",
     "output_type": "stream",
     "text": [
      "No data found for 4999.T. Skipping...\n"
     ]
    },
    {
     "name": "stderr",
     "output_type": "stream",
     "text": [
      "[*********************100%***********************]  1 of 1 completed/4062 [19:57<1:47:55,  1.98s/it]\n",
      "[*********************100%***********************]  1 of 1 completed/4062 [19:59<1:42:11,  1.88s/it]\n",
      "[*********************100%***********************]  1 of 1 completed/4062 [20:00<1:33:50,  1.72s/it]\n",
      "\n",
      "1 Failed download:\n",
      "['8870.T']: YFPricesMissingError('$%ticker%: possibly delisted; no price data found  (1d 2024-10-13 -> 2024-10-20)')\n",
      " 20%|███████████▍                                              | 797/4062 [20:00<1:33:50,  1.72s/it]"
     ]
    },
    {
     "name": "stdout",
     "output_type": "stream",
     "text": [
      "No data found for 8870.T. Skipping...\n"
     ]
    },
    {
     "name": "stderr",
     "output_type": "stream",
     "text": [
      "[*********************100%***********************]  1 of 1 completed/4062 [20:01<1:26:39,  1.59s/it]\n",
      "[*********************100%***********************]  1 of 1 completed/4062 [20:03<1:23:16,  1.53s/it]\n",
      "[*********************100%***********************]  1 of 1 completed/4062 [20:04<1:20:16,  1.48s/it]\n",
      "\n",
      "1 Failed download:\n",
      "['8397.T']: YFTzMissingError('$%ticker%: possibly delisted; no timezone found')\n",
      " 20%|███████████▍                                              | 800/4062 [20:07<1:20:16,  1.48s/it]"
     ]
    },
    {
     "name": "stdout",
     "output_type": "stream",
     "text": [
      "No data found for 8397.T. Skipping...\n"
     ]
    },
    {
     "name": "stderr",
     "output_type": "stream",
     "text": [
      "[*********************100%***********************]  1 of 1 completed/4062 [20:08<1:59:40,  2.20s/it]\n",
      "[*********************100%***********************]  1 of 1 completed/4062 [20:09<1:47:49,  1.98s/it]\n",
      "[*********************100%***********************]  1 of 1 completed/4062 [20:11<1:36:32,  1.78s/it]\n",
      "[*********************100%***********************]  1 of 1 completed/4062 [20:12<1:33:11,  1.72s/it]\n",
      "[*********************100%***********************]  1 of 1 completed/4062 [20:14<1:26:48,  1.60s/it]\n",
      "[*********************100%***********************]  1 of 1 completed/4062 [20:15<1:23:02,  1.53s/it]\n",
      "[*********************100%***********************]  1 of 1 completed/4062 [20:16<1:19:06,  1.46s/it]\n",
      "[*********************100%***********************]  1 of 1 completed/4062 [20:18<1:16:24,  1.41s/it]\n",
      "[*********************100%***********************]  1 of 1 completed/4062 [20:19<1:14:45,  1.38s/it]\n",
      "[*********************100%***********************]  1 of 1 completed/4062 [20:20<1:14:15,  1.37s/it]\n",
      "\n",
      "1 Failed download:\n",
      "['5999.T']: YFTzMissingError('$%ticker%: possibly delisted; no timezone found')\n",
      " 20%|███████████▌                                              | 810/4062 [20:21<1:14:15,  1.37s/it]"
     ]
    },
    {
     "name": "stdout",
     "output_type": "stream",
     "text": [
      "No data found for 5999.T. Skipping...\n"
     ]
    },
    {
     "name": "stderr",
     "output_type": "stream",
     "text": [
      "[*********************100%***********************]  1 of 1 completed/4062 [20:22<1:28:38,  1.64s/it]\n",
      "[*********************100%***********************]  1 of 1 completed/4062 [20:24<1:23:28,  1.54s/it]\n",
      "\n",
      "1 Failed download:\n",
      "['5614.T']: YFTzMissingError('$%ticker%: possibly delisted; no timezone found')\n",
      " 20%|███████████▌                                              | 812/4062 [20:25<1:23:28,  1.54s/it]"
     ]
    },
    {
     "name": "stdout",
     "output_type": "stream",
     "text": [
      "No data found for 5614.T. Skipping...\n"
     ]
    },
    {
     "name": "stderr",
     "output_type": "stream",
     "text": [
      "[*********************100%***********************]  1 of 1 completed/4062 [20:26<1:37:49,  1.81s/it]\n",
      "\n",
      "1 Failed download:\n",
      "['5912.T']: YFTzMissingError('$%ticker%: possibly delisted; no timezone found')\n",
      " 20%|███████████▌                                              | 813/4062 [20:27<1:37:49,  1.81s/it]"
     ]
    },
    {
     "name": "stdout",
     "output_type": "stream",
     "text": [
      "No data found for 5912.T. Skipping...\n"
     ]
    },
    {
     "name": "stderr",
     "output_type": "stream",
     "text": [
      "[*********************100%***********************]  1 of 1 completed/4062 [20:28<1:42:03,  1.89s/it]\n",
      "[*********************100%***********************]  1 of 1 completed/4062 [20:30<1:32:58,  1.72s/it]\n",
      "[*********************100%***********************]  1 of 1 completed/4062 [20:31<1:26:10,  1.59s/it]\n",
      "\n",
      "1 Failed download:\n",
      "['5335.T']: YFTzMissingError('$%ticker%: possibly delisted; no timezone found')\n",
      " 20%|███████████▋                                              | 816/4062 [20:32<1:26:10,  1.59s/it]"
     ]
    },
    {
     "name": "stdout",
     "output_type": "stream",
     "text": [
      "No data found for 5335.T. Skipping...\n"
     ]
    },
    {
     "name": "stderr",
     "output_type": "stream",
     "text": [
      "[*********************100%***********************]  1 of 1 completed/4062 [20:33<1:36:18,  1.78s/it]\n",
      "[*********************100%***********************]  1 of 1 completed/4062 [20:34<1:29:02,  1.65s/it]\n",
      "[*********************100%***********************]  1 of 1 completed/4062 [20:36<1:24:14,  1.56s/it]\n",
      "\n",
      "1 Failed download:\n",
      "['4770.T']: YFPricesMissingError('$%ticker%: possibly delisted; no price data found  (1d 2024-10-13 -> 2024-10-20)')\n",
      " 20%|███████████▋                                              | 819/4062 [20:36<1:24:14,  1.56s/it]"
     ]
    },
    {
     "name": "stdout",
     "output_type": "stream",
     "text": [
      "No data found for 4770.T. Skipping...\n"
     ]
    },
    {
     "name": "stderr",
     "output_type": "stream",
     "text": [
      "[*********************100%***********************]  1 of 1 completed/4062 [20:37<1:19:42,  1.48s/it]\n",
      "[*********************100%***********************]  1 of 1 completed/4062 [20:38<1:17:32,  1.44s/it]\n",
      "[*********************100%***********************]  1 of 1 completed/4062 [20:40<1:15:10,  1.39s/it]\n",
      "[*********************100%***********************]  1 of 1 completed/4062 [20:41<1:14:12,  1.37s/it]\n",
      "[*********************100%***********************]  1 of 1 completed/4062 [20:42<1:13:46,  1.37s/it]\n",
      "\n",
      "1 Failed download:\n",
      "['2230.T']: YFTzMissingError('$%ticker%: possibly delisted; no timezone found')\n",
      " 20%|███████████▊                                              | 824/4062 [20:44<1:13:46,  1.37s/it]"
     ]
    },
    {
     "name": "stdout",
     "output_type": "stream",
     "text": [
      "No data found for 2230.T. Skipping...\n"
     ]
    },
    {
     "name": "stderr",
     "output_type": "stream",
     "text": [
      "[*********************100%***********************]  1 of 1 completed/4062 [20:45<1:38:27,  1.83s/it]\n",
      "[*********************100%***********************]  1 of 1 completed/4062 [20:47<1:29:49,  1.67s/it]\n",
      "[*********************100%***********************]  1 of 1 completed/4062 [20:48<1:23:42,  1.55s/it]\n",
      "[*********************100%***********************]  1 of 1 completed/4062 [20:49<1:20:14,  1.49s/it]\n",
      "[*********************100%***********************]  1 of 1 completed/4062 [20:51<1:18:43,  1.46s/it]\n",
      "\n",
      "1 Failed download:\n",
      "['1642.T']: YFPricesMissingError('$%ticker%: possibly delisted; no price data found  (1d 2024-10-13 -> 2024-10-20)')\n",
      " 20%|███████████▊                                              | 829/4062 [20:51<1:18:43,  1.46s/it]"
     ]
    },
    {
     "name": "stdout",
     "output_type": "stream",
     "text": [
      "No data found for 1642.T. Skipping...\n"
     ]
    },
    {
     "name": "stderr",
     "output_type": "stream",
     "text": [
      "[*********************100%***********************]  1 of 1 completed/4062 [20:52<1:15:30,  1.40s/it]\n",
      "[*********************100%***********************]  1 of 1 completed/4062 [20:53<1:14:25,  1.38s/it]\n",
      "\n",
      "1 Failed download:\n",
      "['1933.T']: YFPricesMissingError('$%ticker%: possibly delisted; no price data found  (1d 2024-10-13 -> 2024-10-20)')\n",
      " 20%|███████████▊                                              | 831/4062 [20:53<1:14:25,  1.38s/it]"
     ]
    },
    {
     "name": "stdout",
     "output_type": "stream",
     "text": [
      "No data found for 1933.T. Skipping...\n"
     ]
    },
    {
     "name": "stderr",
     "output_type": "stream",
     "text": [
      "[*********************100%***********************]  1 of 1 completed/4062 [20:54<1:13:07,  1.36s/it]\n",
      "[*********************100%***********************]  1 of 1 completed/4062 [20:56<1:12:36,  1.35s/it]\n",
      "[*********************100%***********************]  1 of 1 completed/4062 [20:57<1:12:23,  1.35s/it]\n",
      "[*********************100%***********************]  1 of 1 completed/4062 [20:58<1:11:21,  1.33s/it]\n",
      "[*********************100%***********************]  1 of 1 completed/4062 [21:00<1:10:33,  1.31s/it]\n",
      "[*********************100%***********************]  1 of 1 completed/4062 [21:01<1:10:57,  1.32s/it]\n",
      "[*********************100%***********************]  1 of 1 completed/4062 [21:02<1:10:42,  1.32s/it]\n",
      "[*********************100%***********************]  1 of 1 completed/4062 [21:04<1:10:44,  1.32s/it]\n",
      "[*********************100%***********************]  1 of 1 completed/4062 [21:05<1:11:09,  1.33s/it]\n",
      "\n",
      "1 Failed download:\n",
      "['9810.T']: YFTzMissingError('$%ticker%: possibly delisted; no timezone found')\n",
      " 21%|███████████▉                                              | 840/4062 [21:06<1:11:09,  1.33s/it]"
     ]
    },
    {
     "name": "stdout",
     "output_type": "stream",
     "text": [
      "No data found for 9810.T. Skipping...\n"
     ]
    },
    {
     "name": "stderr",
     "output_type": "stream",
     "text": [
      "[*********************100%***********************]  1 of 1 completed/4062 [21:07<1:24:26,  1.57s/it]\n",
      "[*********************100%***********************]  1 of 1 completed/4062 [21:08<1:20:04,  1.49s/it]\n",
      "[*********************100%***********************]  1 of 1 completed/4062 [21:10<1:17:47,  1.45s/it]\n",
      "[*********************100%***********************]  1 of 1 completed/4062 [21:11<1:15:50,  1.41s/it]\n",
      "[*********************100%***********************]  1 of 1 completed/4062 [21:12<1:14:20,  1.39s/it]\n",
      "[*********************100%***********************]  1 of 1 completed/4062 [21:14<1:13:34,  1.37s/it]\n",
      "\n",
      "1 Failed download:\n",
      "['1737.T']: YFTzMissingError('$%ticker%: possibly delisted; no timezone found')\n",
      " 21%|████████████                                              | 846/4062 [21:15<1:13:34,  1.37s/it]"
     ]
    },
    {
     "name": "stdout",
     "output_type": "stream",
     "text": [
      "No data found for 1737.T. Skipping...\n"
     ]
    },
    {
     "name": "stderr",
     "output_type": "stream",
     "text": [
      "[*********************100%***********************]  1 of 1 completed/4062 [21:16<1:25:40,  1.60s/it]\n",
      "\n",
      "1 Failed download:\n",
      "['1935.T']: YFPricesMissingError('$%ticker%: possibly delisted; no price data found  (1d 2024-10-13 -> 2024-10-20)')\n",
      " 21%|████████████                                              | 847/4062 [21:16<1:25:40,  1.60s/it]"
     ]
    },
    {
     "name": "stdout",
     "output_type": "stream",
     "text": [
      "No data found for 1935.T. Skipping...\n"
     ]
    },
    {
     "name": "stderr",
     "output_type": "stream",
     "text": [
      "[*********************100%***********************]  1 of 1 completed/4062 [21:17<1:21:07,  1.51s/it]\n",
      "\n",
      "1 Failed download:\n",
      "['4696.T']: YFTzMissingError('$%ticker%: possibly delisted; no timezone found')\n",
      " 21%|████████████                                              | 848/4062 [21:18<1:21:07,  1.51s/it]"
     ]
    },
    {
     "name": "stdout",
     "output_type": "stream",
     "text": [
      "No data found for 4696.T. Skipping...\n"
     ]
    },
    {
     "name": "stderr",
     "output_type": "stream",
     "text": [
      "[*********************100%***********************]  1 of 1 completed/4062 [21:19<1:31:55,  1.72s/it]\n",
      "[*********************100%***********************]  1 of 1 completed/4062 [21:21<1:25:50,  1.60s/it]\n",
      "[*********************100%***********************]  1 of 1 completed/4062 [21:22<1:21:30,  1.52s/it]\n",
      "[*********************100%***********************]  1 of 1 completed/4062 [21:23<1:18:41,  1.47s/it]\n",
      "[*********************100%***********************]  1 of 1 completed/4062 [21:25<1:16:25,  1.43s/it]\n",
      "[*********************100%***********************]  1 of 1 completed/4062 [21:26<1:15:30,  1.41s/it]\n",
      "[*********************100%***********************]  1 of 1 completed/4062 [21:28<1:14:16,  1.39s/it]\n",
      "[*********************100%***********************]  1 of 1 completed/4062 [21:29<1:13:32,  1.38s/it]\n",
      "[*********************100%***********************]  1 of 1 completed/4062 [21:30<1:12:09,  1.35s/it]\n",
      "[*********************100%***********************]  1 of 1 completed/4062 [21:31<1:11:08,  1.33s/it]\n",
      "[*********************100%***********************]  1 of 1 completed/4062 [21:33<1:12:47,  1.36s/it]\n",
      "[*********************100%***********************]  1 of 1 completed/4062 [21:34<1:12:29,  1.36s/it]\n",
      "\n",
      "1 Failed download:\n",
      "['8922.T']: YFTzMissingError('$%ticker%: possibly delisted; no timezone found')\n",
      " 21%|████████████▎                                             | 860/4062 [21:36<1:12:29,  1.36s/it]"
     ]
    },
    {
     "name": "stdout",
     "output_type": "stream",
     "text": [
      "No data found for 8922.T. Skipping...\n"
     ]
    },
    {
     "name": "stderr",
     "output_type": "stream",
     "text": [
      "[*********************100%***********************]  1 of 1 completed/4062 [21:37<1:32:15,  1.73s/it]\n",
      "[*********************100%***********************]  1 of 1 completed/4062 [21:38<1:26:22,  1.62s/it]\n",
      "\n",
      "1 Failed download:\n",
      "['8396.T']: YFTzMissingError('$%ticker%: possibly delisted; no timezone found')\n",
      " 21%|████████████▎                                             | 862/4062 [21:40<1:26:22,  1.62s/it]"
     ]
    },
    {
     "name": "stdout",
     "output_type": "stream",
     "text": [
      "No data found for 8396.T. Skipping...\n"
     ]
    },
    {
     "name": "stderr",
     "output_type": "stream",
     "text": [
      "[*********************100%***********************]  1 of 1 completed/4062 [21:41<1:45:12,  1.97s/it]\n",
      "[*********************100%***********************]  1 of 1 completed/4062 [21:42<1:34:59,  1.78s/it]\n",
      "[*********************100%***********************]  1 of 1 completed/4062 [21:44<1:27:55,  1.65s/it]\n",
      "[*********************100%***********************]  1 of 1 completed/4062 [21:45<1:22:55,  1.56s/it]\n",
      "[*********************100%***********************]  1 of 1 completed/4062 [21:46<1:19:40,  1.50s/it]\n",
      "[*********************100%***********************]  1 of 1 completed/4062 [21:48<1:16:57,  1.45s/it]\n",
      "[*********************100%***********************]  1 of 1 completed/4062 [21:49<1:14:54,  1.41s/it]\n",
      "[*********************100%***********************]  1 of 1 completed/4062 [21:50<1:14:13,  1.40s/it]\n",
      "[*********************100%***********************]  1 of 1 completed/4062 [21:52<1:13:19,  1.38s/it]\n",
      "[*********************100%***********************]  1 of 1 completed/4062 [21:53<1:12:47,  1.37s/it]\n",
      "\n",
      "1 Failed download:\n",
      "['6300.T']: YFTzMissingError('$%ticker%: possibly delisted; no timezone found')\n",
      " 21%|████████████▍                                             | 872/4062 [21:54<1:12:47,  1.37s/it]"
     ]
    },
    {
     "name": "stdout",
     "output_type": "stream",
     "text": [
      "No data found for 6300.T. Skipping...\n"
     ]
    },
    {
     "name": "stderr",
     "output_type": "stream",
     "text": [
      "[*********************100%***********************]  1 of 1 completed/4062 [21:55<1:28:15,  1.66s/it]\n",
      "[*********************100%***********************]  1 of 1 completed/4062 [21:57<1:23:02,  1.56s/it]\n",
      "[*********************100%***********************]  1 of 1 completed/4062 [21:58<1:19:39,  1.50s/it]\n",
      "[*********************100%***********************]  1 of 1 completed/4062 [21:59<1:16:59,  1.45s/it]\n",
      "[*********************100%***********************]  1 of 1 completed/4062 [22:01<1:15:31,  1.42s/it]\n",
      "[*********************100%***********************]  1 of 1 completed/4062 [22:02<1:14:18,  1.40s/it]\n",
      "\n",
      "1 Failed download:\n",
      "['4708.T']: YFTzMissingError('$%ticker%: possibly delisted; no timezone found')\n",
      " 22%|████████████▌                                             | 878/4062 [22:04<1:14:18,  1.40s/it]"
     ]
    },
    {
     "name": "stdout",
     "output_type": "stream",
     "text": [
      "No data found for 4708.T. Skipping...\n"
     ]
    },
    {
     "name": "stderr",
     "output_type": "stream",
     "text": [
      "[*********************100%***********************]  1 of 1 completed/4062 [22:05<1:32:16,  1.74s/it]\n",
      "[*********************100%***********************]  1 of 1 completed/4062 [22:06<1:25:52,  1.62s/it]\n",
      "\n",
      "1 Failed download:\n",
      "['4007.T']: YFPricesMissingError('$%ticker%: possibly delisted; no price data found  (1d 2024-10-13 -> 2024-10-20)')\n",
      " 22%|████████████▌                                             | 880/4062 [22:06<1:25:52,  1.62s/it]"
     ]
    },
    {
     "name": "stdout",
     "output_type": "stream",
     "text": [
      "No data found for 4007.T. Skipping...\n"
     ]
    },
    {
     "name": "stderr",
     "output_type": "stream",
     "text": [
      "[*********************100%***********************]  1 of 1 completed/4062 [22:07<1:20:23,  1.52s/it]\n",
      "\n",
      "1 Failed download:\n",
      "['2899.T']: YFPricesMissingError('$%ticker%: possibly delisted; no price data found  (1d 2024-10-13 -> 2024-10-20)')\n",
      " 22%|████████████▌                                             | 881/4062 [22:08<1:20:23,  1.52s/it]"
     ]
    },
    {
     "name": "stdout",
     "output_type": "stream",
     "text": [
      "No data found for 2899.T. Skipping...\n"
     ]
    },
    {
     "name": "stderr",
     "output_type": "stream",
     "text": [
      "[*********************100%***********************]  1 of 1 completed/4062 [22:09<1:18:44,  1.49s/it]\n",
      "\n",
      "1 Failed download:\n",
      "['4779.T']: YFTzMissingError('$%ticker%: possibly delisted; no timezone found')\n",
      " 22%|████████████▌                                             | 882/4062 [22:10<1:18:44,  1.49s/it]"
     ]
    },
    {
     "name": "stdout",
     "output_type": "stream",
     "text": [
      "No data found for 4779.T. Skipping...\n"
     ]
    },
    {
     "name": "stderr",
     "output_type": "stream",
     "text": [
      "[*********************100%***********************]  1 of 1 completed/4062 [22:11<1:35:16,  1.80s/it]\n",
      "[*********************100%***********************]  1 of 1 completed/4062 [22:13<1:28:47,  1.68s/it]\n",
      "[*********************100%***********************]  1 of 1 completed/4062 [22:14<1:23:38,  1.58s/it]\n",
      "[*********************100%***********************]  1 of 1 completed/4062 [22:15<1:19:39,  1.50s/it]\n",
      "[*********************100%***********************]  1 of 1 completed/4062 [22:17<1:17:08,  1.46s/it]\n",
      "\n",
      "1 Failed download:\n",
      "['7249.T']: YFTzMissingError('$%ticker%: possibly delisted; no timezone found')\n",
      " 22%|████████████▋                                             | 887/4062 [22:18<1:17:08,  1.46s/it]"
     ]
    },
    {
     "name": "stdout",
     "output_type": "stream",
     "text": [
      "No data found for 7249.T. Skipping...\n"
     ]
    },
    {
     "name": "stderr",
     "output_type": "stream",
     "text": [
      "[*********************100%***********************]  1 of 1 completed/4062 [22:19<1:33:36,  1.77s/it]\n",
      "[*********************100%***********************]  1 of 1 completed/4062 [22:20<1:26:40,  1.64s/it]\n",
      "[*********************100%***********************]  1 of 1 completed/4062 [22:22<1:21:54,  1.55s/it]\n",
      "[*********************100%***********************]  1 of 1 completed/4062 [22:23<1:18:38,  1.49s/it]\n",
      "\n",
      "1 Failed download:\n",
      "['1565.T']: YFTzMissingError('$%ticker%: possibly delisted; no timezone found')\n",
      " 22%|████████████▋                                             | 891/4062 [22:25<1:18:38,  1.49s/it]"
     ]
    },
    {
     "name": "stdout",
     "output_type": "stream",
     "text": [
      "No data found for 1565.T. Skipping...\n"
     ]
    },
    {
     "name": "stderr",
     "output_type": "stream",
     "text": [
      "[*********************100%***********************]  1 of 1 completed/4062 [22:26<1:40:55,  1.91s/it]\n",
      "\n",
      "1 Failed download:\n",
      "['1936.T']: YFTzMissingError('$%ticker%: possibly delisted; no timezone found')\n",
      " 22%|████████████▋                                             | 892/4062 [22:27<1:40:55,  1.91s/it]"
     ]
    },
    {
     "name": "stdout",
     "output_type": "stream",
     "text": [
      "No data found for 1936.T. Skipping...\n"
     ]
    },
    {
     "name": "stderr",
     "output_type": "stream",
     "text": [
      "[*********************100%***********************]  1 of 1 completed/4062 [22:28<1:44:36,  1.98s/it]\n",
      "[*********************100%***********************]  1 of 1 completed/4062 [22:29<1:33:48,  1.78s/it]\n",
      "[*********************100%***********************]  1 of 1 completed/4062 [22:31<1:26:04,  1.63s/it]\n",
      "\n",
      "1 Failed download:\n",
      "['6896.T']: YFTzMissingError('$%ticker%: possibly delisted; no timezone found')\n",
      " 22%|████████████▊                                             | 895/4062 [22:32<1:26:04,  1.63s/it]"
     ]
    },
    {
     "name": "stdout",
     "output_type": "stream",
     "text": [
      "No data found for 6896.T. Skipping...\n"
     ]
    },
    {
     "name": "stderr",
     "output_type": "stream",
     "text": [
      "[*********************100%***********************]  1 of 1 completed/4062 [22:33<1:42:41,  1.95s/it]\n",
      "\n",
      "1 Failed download:\n",
      "['7448.T']: YFTzMissingError('$%ticker%: possibly delisted; no timezone found')\n",
      " 22%|████████████▊                                             | 896/4062 [22:35<1:42:41,  1.95s/it]"
     ]
    },
    {
     "name": "stdout",
     "output_type": "stream",
     "text": [
      "No data found for 7448.T. Skipping...\n"
     ]
    },
    {
     "name": "stderr",
     "output_type": "stream",
     "text": [
      "[*********************100%***********************]  1 of 1 completed/4062 [22:36<1:51:21,  2.11s/it]\n",
      " 22%|████████████▊                                             | 898/4062 [22:37<1:39:00,  1.88s/it]Could not get exchangeTimezoneName for ticker '3918.T' reason: 'chart'\n",
      "[*********************100%***********************]  1 of 1 completed\n",
      "\n",
      "1 Failed download:\n",
      "['3918.T']: YFTzMissingError('$%ticker%: possibly delisted; no timezone found')\n",
      " 22%|████████████▊                                             | 898/4062 [22:39<1:39:00,  1.88s/it]"
     ]
    },
    {
     "name": "stdout",
     "output_type": "stream",
     "text": [
      "No data found for 3918.T. Skipping...\n"
     ]
    },
    {
     "name": "stderr",
     "output_type": "stream",
     "text": [
      "[*********************100%***********************]  1 of 1 completed/4062 [22:40<1:45:22,  2.00s/it]\n",
      "[*********************100%***********************]  1 of 1 completed/4062 [22:41<1:34:58,  1.80s/it]\n",
      "[*********************100%***********************]  1 of 1 completed/4062 [22:42<1:27:47,  1.67s/it]\n",
      "\n",
      "1 Failed download:\n",
      "['9783.T']: YFTzMissingError('$%ticker%: possibly delisted; no timezone found')\n",
      " 22%|████████████▊                                             | 901/4062 [22:44<1:27:47,  1.67s/it]"
     ]
    },
    {
     "name": "stdout",
     "output_type": "stream",
     "text": [
      "No data found for 9783.T. Skipping...\n"
     ]
    },
    {
     "name": "stderr",
     "output_type": "stream",
     "text": [
      "[*********************100%***********************]  1 of 1 completed/4062 [22:45<1:50:07,  2.09s/it]\n",
      "[*********************100%***********************]  1 of 1 completed/4062 [22:47<1:38:13,  1.87s/it]\n",
      "[*********************100%***********************]  1 of 1 completed/4062 [22:48<1:30:09,  1.71s/it]\n",
      "[*********************100%***********************]  1 of 1 completed/4062 [22:49<1:23:54,  1.59s/it]\n",
      "[*********************100%***********************]  1 of 1 completed/4062 [22:51<1:19:48,  1.52s/it]\n",
      "[*********************100%***********************]  1 of 1 completed/4062 [22:52<1:17:17,  1.47s/it]\n",
      "[*********************100%***********************]  1 of 1 completed/4062 [22:53<1:15:10,  1.43s/it]\n",
      "[*********************100%***********************]  1 of 1 completed/4062 [22:55<1:14:52,  1.42s/it]\n",
      "[*********************100%***********************]  1 of 1 completed/4062 [22:56<1:17:09,  1.47s/it]\n",
      "[*********************100%***********************]  1 of 1 completed/4062 [22:58<1:15:58,  1.45s/it]\n",
      "[*********************100%***********************]  1 of 1 completed/4062 [22:59<1:14:44,  1.42s/it]\n",
      "\n",
      "1 Failed download:\n",
      "['6938.T']: YFTzMissingError('$%ticker%: possibly delisted; no timezone found')\n",
      " 22%|█████████████                                             | 912/4062 [23:01<1:14:44,  1.42s/it]"
     ]
    },
    {
     "name": "stdout",
     "output_type": "stream",
     "text": [
      "No data found for 6938.T. Skipping...\n"
     ]
    },
    {
     "name": "stderr",
     "output_type": "stream",
     "text": [
      "[*********************100%***********************]  1 of 1 completed/4062 [23:02<1:31:54,  1.75s/it]\n",
      "[*********************100%***********************]  1 of 1 completed/4062 [23:03<1:27:11,  1.66s/it]\n",
      "[*********************100%***********************]  1 of 1 completed/4062 [23:04<1:22:37,  1.58s/it]\n",
      "[*********************100%***********************]  1 of 1 completed/4062 [23:06<1:19:56,  1.52s/it]\n",
      "\n",
      "1 Failed download:\n",
      "['8385.T']: YFTzMissingError('$%ticker%: possibly delisted; no timezone found')\n",
      " 23%|█████████████                                             | 916/4062 [23:08<1:19:56,  1.52s/it]"
     ]
    },
    {
     "name": "stdout",
     "output_type": "stream",
     "text": [
      "No data found for 8385.T. Skipping...\n"
     ]
    },
    {
     "name": "stderr",
     "output_type": "stream",
     "text": [
      "[*********************100%***********************]  1 of 1 completed/4062 [23:09<1:40:51,  1.92s/it]\n",
      "\n",
      "1 Failed download:\n",
      "['1394.T']: YFPricesMissingError('$%ticker%: possibly delisted; no price data found  (1d 2024-10-13 -> 2024-10-20)')\n",
      " 23%|█████████████                                             | 917/4062 [23:09<1:40:51,  1.92s/it]"
     ]
    },
    {
     "name": "stdout",
     "output_type": "stream",
     "text": [
      "No data found for 1394.T. Skipping...\n"
     ]
    },
    {
     "name": "stderr",
     "output_type": "stream",
     "text": [
      "[*********************100%***********************]  1 of 1 completed/4062 [23:10<1:30:43,  1.73s/it]\n",
      "[*********************100%***********************]  1 of 1 completed/4062 [23:11<1:24:51,  1.62s/it]\n",
      "[*********************100%***********************]  1 of 1 completed/4062 [23:13<1:20:15,  1.53s/it]\n",
      "[*********************100%***********************]  1 of 1 completed/4062 [23:14<1:17:13,  1.48s/it]\n",
      "[*********************100%***********************]  1 of 1 completed/4062 [23:15<1:15:17,  1.44s/it]\n",
      "[*********************100%***********************]  1 of 1 completed/4062 [23:17<1:13:47,  1.41s/it]\n",
      "[*********************100%***********************]  1 of 1 completed/4062 [23:18<1:12:39,  1.39s/it]\n",
      "[*********************100%***********************]  1 of 1 completed/4062 [23:19<1:12:15,  1.38s/it]\n",
      "[*********************100%***********************]  1 of 1 completed/4062 [23:21<1:11:31,  1.37s/it]\n",
      "[*********************100%***********************]  1 of 1 completed/4062 [23:22<1:12:40,  1.39s/it]\n",
      "[*********************100%***********************]  1 of 1 completed/4062 [23:24<1:11:27,  1.37s/it]\n",
      "[*********************100%***********************]  1 of 1 completed/4062 [23:25<1:10:57,  1.36s/it]\n",
      "[*********************100%***********************]  1 of 1 completed/4062 [23:26<1:10:07,  1.34s/it]\n",
      "[*********************100%***********************]  1 of 1 completed/4062 [23:28<1:10:07,  1.34s/it]\n",
      "\n",
      "1 Failed download:\n",
      "['7905.T']: YFTzMissingError('$%ticker%: possibly delisted; no timezone found')\n",
      " 23%|█████████████▎                                            | 931/4062 [23:29<1:10:07,  1.34s/it]"
     ]
    },
    {
     "name": "stdout",
     "output_type": "stream",
     "text": [
      "No data found for 7905.T. Skipping...\n"
     ]
    },
    {
     "name": "stderr",
     "output_type": "stream",
     "text": [
      "[*********************100%***********************]  1 of 1 completed/4062 [23:30<1:24:51,  1.63s/it]\n",
      "[*********************100%***********************]  1 of 1 completed/4062 [23:31<1:19:38,  1.53s/it]\n",
      "[*********************100%***********************]  1 of 1 completed/4062 [23:32<1:16:39,  1.47s/it]\n",
      "[*********************100%***********************]  1 of 1 completed/4062 [23:34<1:14:35,  1.43s/it]\n",
      "[*********************100%***********************]  1 of 1 completed/4062 [23:35<1:13:29,  1.41s/it]\n",
      "[*********************100%***********************]  1 of 1 completed/4062 [23:37<1:12:39,  1.40s/it]\n",
      "[*********************100%***********************]  1 of 1 completed/4062 [23:38<1:11:13,  1.37s/it]\n",
      "\n",
      "1 Failed download:\n",
      "['7315.T']: YFTzMissingError('$%ticker%: possibly delisted; no timezone found')\n",
      " 23%|█████████████▍                                            | 938/4062 [23:40<1:11:13,  1.37s/it]"
     ]
    },
    {
     "name": "stdout",
     "output_type": "stream",
     "text": [
      "No data found for 7315.T. Skipping...\n"
     ]
    },
    {
     "name": "stderr",
     "output_type": "stream",
     "text": [
      "[*********************100%***********************]  1 of 1 completed/4062 [23:41<1:33:41,  1.80s/it]\n",
      "\n",
      "1 Failed download:\n",
      "['3739.T']: YFTzMissingError('$%ticker%: possibly delisted; no timezone found')\n",
      " 23%|█████████████▍                                            | 939/4062 [23:42<1:33:41,  1.80s/it]"
     ]
    },
    {
     "name": "stdout",
     "output_type": "stream",
     "text": [
      "No data found for 3739.T. Skipping...\n"
     ]
    },
    {
     "name": "stderr",
     "output_type": "stream",
     "text": [
      "[*********************100%***********************]  1 of 1 completed/4062 [23:43<1:46:16,  2.04s/it]\n",
      "[*********************100%***********************]  1 of 1 completed/4062 [23:45<1:34:35,  1.82s/it]\n",
      "[*********************100%***********************]  1 of 1 completed/4062 [23:46<1:26:57,  1.67s/it]\n",
      "[*********************100%***********************]  1 of 1 completed/4062 [23:47<1:21:36,  1.57s/it]\n",
      "[*********************100%***********************]  1 of 1 completed/4062 [23:49<1:18:06,  1.50s/it]\n",
      "[*********************100%***********************]  1 of 1 completed/4062 [23:50<1:16:13,  1.47s/it]\n",
      "[*********************100%***********************]  1 of 1 completed/4062 [23:51<1:15:23,  1.45s/it]\n",
      "[*********************100%***********************]  1 of 1 completed/4062 [23:53<1:13:05,  1.41s/it]\n",
      "\n",
      "1 Failed download:\n",
      "['9402.T']: YFTzMissingError('$%ticker%: possibly delisted; no timezone found')\n",
      " 23%|█████████████▌                                            | 947/4062 [23:54<1:13:05,  1.41s/it]"
     ]
    },
    {
     "name": "stdout",
     "output_type": "stream",
     "text": [
      "No data found for 9402.T. Skipping...\n"
     ]
    },
    {
     "name": "stderr",
     "output_type": "stream",
     "text": [
      "[*********************100%***********************]  1 of 1 completed/4062 [23:55<1:26:23,  1.66s/it]\n",
      "[*********************100%***********************]  1 of 1 completed/4062 [23:56<1:21:22,  1.57s/it]\n",
      "[*********************100%***********************]  1 of 1 completed/4062 [23:58<1:18:14,  1.51s/it]\n",
      "[*********************100%***********************]  1 of 1 completed/4062 [23:59<1:15:23,  1.45s/it]\n",
      "\n",
      "1 Failed download:\n",
      "['2401.T']: YFTzMissingError('$%ticker%: possibly delisted; no timezone found')\n",
      " 23%|█████████████▌                                            | 951/4062 [24:01<1:15:23,  1.45s/it]"
     ]
    },
    {
     "name": "stdout",
     "output_type": "stream",
     "text": [
      "No data found for 2401.T. Skipping...\n"
     ]
    },
    {
     "name": "stderr",
     "output_type": "stream",
     "text": [
      "[*********************100%***********************]  1 of 1 completed/4062 [24:02<1:33:44,  1.81s/it]\n",
      "[*********************100%***********************]  1 of 1 completed/4062 [24:03<1:26:46,  1.67s/it]\n",
      "[*********************100%***********************]  1 of 1 completed/4062 [24:04<1:21:59,  1.58s/it]\n",
      "[*********************100%***********************]  1 of 1 completed/4062 [24:06<1:21:31,  1.57s/it]\n",
      "[*********************100%***********************]  1 of 1 completed/4062 [24:07<1:17:35,  1.50s/it]\n",
      "[*********************100%***********************]  1 of 1 completed/4062 [24:09<1:15:09,  1.45s/it]\n",
      "[*********************100%***********************]  1 of 1 completed/4062 [24:10<1:13:09,  1.41s/it]\n",
      "[*********************100%***********************]  1 of 1 completed/4062 [24:11<1:12:14,  1.40s/it]\n",
      "[*********************100%***********************]  1 of 1 completed/4062 [24:13<1:11:39,  1.39s/it]\n",
      "[*********************100%***********************]  1 of 1 completed/4062 [24:14<1:10:27,  1.36s/it]\n",
      "[*********************100%***********************]  1 of 1 completed/4062 [24:15<1:09:52,  1.35s/it]\n",
      "[*********************100%***********************]  1 of 1 completed/4062 [24:17<1:10:36,  1.37s/it]\n",
      "[*********************100%***********************]  1 of 1 completed/4062 [24:18<1:14:44,  1.45s/it]\n",
      "[*********************100%***********************]  1 of 1 completed/4062 [24:20<1:13:01,  1.41s/it]\n",
      "[*********************100%***********************]  1 of 1 completed/4062 [24:21<1:12:58,  1.41s/it]\n",
      "[*********************100%***********************]  1 of 1 completed/4062 [24:22<1:12:28,  1.41s/it]\n",
      "\n",
      "1 Failed download:\n",
      "['8787.T']: YFPricesMissingError('$%ticker%: possibly delisted; no price data found  (1d 2024-10-13 -> 2024-10-20)')\n",
      " 24%|█████████████▊                                            | 967/4062 [24:23<1:12:28,  1.41s/it]"
     ]
    },
    {
     "name": "stdout",
     "output_type": "stream",
     "text": [
      "No data found for 8787.T. Skipping...\n"
     ]
    },
    {
     "name": "stderr",
     "output_type": "stream",
     "text": [
      "[*********************100%***********************]  1 of 1 completed/4062 [24:24<1:10:41,  1.37s/it]\n",
      "\n",
      "1 Failed download:\n",
      "['4223.T']: YFTzMissingError('$%ticker%: possibly delisted; no timezone found')\n",
      " 24%|█████████████▊                                            | 968/4062 [24:26<1:10:41,  1.37s/it]"
     ]
    },
    {
     "name": "stdout",
     "output_type": "stream",
     "text": [
      "No data found for 4223.T. Skipping...\n"
     ]
    },
    {
     "name": "stderr",
     "output_type": "stream",
     "text": [
      "[*********************100%***********************]  1 of 1 completed/4062 [24:27<1:33:09,  1.81s/it]\n",
      "[*********************100%***********************]  1 of 1 completed/4062 [24:28<1:25:39,  1.66s/it]\n",
      "[*********************100%***********************]  1 of 1 completed/4062 [24:29<1:20:14,  1.56s/it]\n",
      "[*********************100%***********************]  1 of 1 completed/4062 [24:30<1:16:15,  1.48s/it]\n",
      "[*********************100%***********************]  1 of 1 completed/4062 [24:32<1:14:01,  1.44s/it]\n",
      "[*********************100%***********************]  1 of 1 completed/4062 [24:33<1:12:05,  1.40s/it]\n",
      "[*********************100%***********************]  1 of 1 completed/4062 [24:34<1:10:34,  1.37s/it]\n",
      "[*********************100%***********************]  1 of 1 completed/4062 [24:36<1:09:49,  1.36s/it]\n",
      "[*********************100%***********************]  1 of 1 completed/4062 [24:37<1:09:48,  1.36s/it]\n",
      "\n",
      "1 Failed download:\n",
      "['2919.T']: YFTzMissingError('$%ticker%: possibly delisted; no timezone found')\n",
      " 24%|█████████████▉                                            | 977/4062 [24:38<1:09:48,  1.36s/it]"
     ]
    },
    {
     "name": "stdout",
     "output_type": "stream",
     "text": [
      "No data found for 2919.T. Skipping...\n"
     ]
    },
    {
     "name": "stderr",
     "output_type": "stream",
     "text": [
      "[*********************100%***********************]  1 of 1 completed/4062 [24:39<1:21:32,  1.59s/it]\n",
      "[*********************100%***********************]  1 of 1 completed/4062 [24:41<1:16:57,  1.50s/it]\n",
      "[*********************100%***********************]  1 of 1 completed/4062 [24:42<1:14:36,  1.45s/it]\n",
      "\n",
      "1 Failed download:\n",
      "['2675.T']: YFTzMissingError('$%ticker%: possibly delisted; no timezone found')\n",
      " 24%|█████████████▉                                            | 980/4062 [24:43<1:14:36,  1.45s/it]"
     ]
    },
    {
     "name": "stdout",
     "output_type": "stream",
     "text": [
      "No data found for 2675.T. Skipping...\n"
     ]
    },
    {
     "name": "stderr",
     "output_type": "stream",
     "text": [
      "[*********************100%***********************]  1 of 1 completed/4062 [24:44<1:26:49,  1.69s/it]\n",
      "\n",
      "1 Failed download:\n",
      "['2450.T']: YFTzMissingError('$%ticker%: possibly delisted; no timezone found')\n",
      " 24%|██████████████                                            | 981/4062 [24:46<1:26:49,  1.69s/it]"
     ]
    },
    {
     "name": "stdout",
     "output_type": "stream",
     "text": [
      "No data found for 2450.T. Skipping...\n"
     ]
    },
    {
     "name": "stderr",
     "output_type": "stream",
     "text": [
      "[*********************100%***********************]  1 of 1 completed/4062 [24:47<1:42:45,  2.00s/it]\n",
      "[*********************100%***********************]  1 of 1 completed/4062 [24:48<1:32:37,  1.81s/it]\n",
      "[*********************100%***********************]  1 of 1 completed/4062 [24:50<1:26:19,  1.68s/it]\n",
      "[*********************100%***********************]  1 of 1 completed/4062 [24:51<1:22:03,  1.60s/it]\n",
      "\n",
      "1 Failed download:\n",
      "['3828.T']: YFTzMissingError('$%ticker%: possibly delisted; no timezone found')\n",
      " 24%|██████████████                                            | 985/4062 [24:53<1:22:03,  1.60s/it]"
     ]
    },
    {
     "name": "stdout",
     "output_type": "stream",
     "text": [
      "No data found for 3828.T. Skipping...\n"
     ]
    },
    {
     "name": "stderr",
     "output_type": "stream",
     "text": [
      "[*********************100%***********************]  1 of 1 completed/4062 [24:54<1:40:34,  1.96s/it]\n",
      "[*********************100%***********************]  1 of 1 completed/4062 [24:55<1:30:54,  1.77s/it]\n",
      "[*********************100%***********************]  1 of 1 completed/4062 [24:56<1:24:32,  1.65s/it]\n",
      "[*********************100%***********************]  1 of 1 completed/4062 [24:58<1:28:47,  1.73s/it]\n",
      "[*********************100%***********************]  1 of 1 completed/4062 [25:00<1:23:17,  1.63s/it]\n",
      "\n",
      "1 Failed download:\n",
      "['4636.T']: YFTzMissingError('$%ticker%: possibly delisted; no timezone found')\n",
      " 24%|██████████████▏                                           | 990/4062 [25:02<1:23:17,  1.63s/it]"
     ]
    },
    {
     "name": "stdout",
     "output_type": "stream",
     "text": [
      "No data found for 4636.T. Skipping...\n"
     ]
    },
    {
     "name": "stderr",
     "output_type": "stream",
     "text": [
      "[*********************100%***********************]  1 of 1 completed/4062 [25:03<1:41:33,  1.98s/it]\n",
      "\n",
      "1 Failed download:\n",
      "['4349.T']: YFTzMissingError('$%ticker%: possibly delisted; no timezone found')\n",
      " 24%|██████████████▏                                           | 991/4062 [25:04<1:41:33,  1.98s/it]"
     ]
    },
    {
     "name": "stdout",
     "output_type": "stream",
     "text": [
      "No data found for 4349.T. Skipping...\n"
     ]
    },
    {
     "name": "stderr",
     "output_type": "stream",
     "text": [
      "[*********************100%***********************]  1 of 1 completed/4062 [25:05<1:54:33,  2.24s/it]\n",
      "[*********************100%***********************]  1 of 1 completed/4062 [25:07<1:40:55,  1.97s/it]\n",
      "[*********************100%***********************]  1 of 1 completed/4062 [25:08<1:31:23,  1.79s/it]\n",
      "[*********************100%***********************]  1 of 1 completed/4062 [25:10<1:26:00,  1.68s/it]\n",
      "[*********************100%***********************]  1 of 1 completed/4062 [25:11<1:20:52,  1.58s/it]\n",
      "[*********************100%***********************]  1 of 1 completed/4062 [25:12<1:17:12,  1.51s/it]\n",
      "[*********************100%***********************]  1 of 1 completed/4062 [25:14<1:14:39,  1.46s/it]\n",
      "[*********************100%***********************]  1 of 1 completed/4062 [25:15<1:12:45,  1.43s/it]\n",
      "[*********************100%***********************]  1 of 1 completed/4062 [25:16<1:11:52,  1.41s/it]\n",
      "[*********************100%***********************]  1 of 1 completed/4062 [25:18<1:10:54,  1.39s/it]\n",
      "[*********************100%***********************]  1 of 1 completed/4062 [25:19<1:09:59,  1.37s/it]\n",
      "[*********************100%***********************]  1 of 1 completed/4062 [25:20<1:09:02,  1.35s/it]\n",
      "\n",
      "1 Failed download:\n",
      "['2812.T']: YFTzMissingError('$%ticker%: possibly delisted; no timezone found')\n",
      " 25%|██████████████                                           | 1003/4062 [25:23<1:09:02,  1.35s/it]"
     ]
    },
    {
     "name": "stdout",
     "output_type": "stream",
     "text": [
      "No data found for 2812.T. Skipping...\n"
     ]
    },
    {
     "name": "stderr",
     "output_type": "stream",
     "text": [
      "[*********************100%***********************]  1 of 1 completed/4062 [25:24<1:40:45,  1.98s/it]\n",
      "[*********************100%***********************]  1 of 1 completed/4062 [25:25<1:30:56,  1.79s/it]\n",
      "[*********************100%***********************]  1 of 1 completed/4062 [25:26<1:23:42,  1.64s/it]\n",
      "[*********************100%***********************]  1 of 1 completed/4062 [25:28<1:19:07,  1.55s/it]\n",
      "[*********************100%***********************]  1 of 1 completed/4062 [25:29<1:15:53,  1.49s/it]\n",
      "[*********************100%***********************]  1 of 1 completed/4062 [25:30<1:13:23,  1.44s/it]\n",
      "[*********************100%***********************]  1 of 1 completed/4062 [25:32<1:11:53,  1.41s/it]\n",
      "[*********************100%***********************]  1 of 1 completed/4062 [25:33<1:10:31,  1.39s/it]\n",
      "[*********************100%***********************]  1 of 1 completed/4062 [25:34<1:09:29,  1.37s/it]\n",
      "[*********************100%***********************]  1 of 1 completed/4062 [25:36<1:08:56,  1.36s/it]\n",
      "[*********************100%***********************]  1 of 1 completed/4062 [25:37<1:08:55,  1.36s/it]\n",
      "\n",
      "1 Failed download:\n",
      "['3085.T']: YFTzMissingError('$%ticker%: possibly delisted; no timezone found')\n",
      " 25%|██████████████▏                                          | 1014/4062 [25:39<1:08:55,  1.36s/it]"
     ]
    },
    {
     "name": "stdout",
     "output_type": "stream",
     "text": [
      "No data found for 3085.T. Skipping...\n"
     ]
    },
    {
     "name": "stderr",
     "output_type": "stream",
     "text": [
      "[*********************100%***********************]  1 of 1 completed/4062 [25:40<1:33:36,  1.84s/it]\n",
      "[*********************100%***********************]  1 of 1 completed/4062 [25:42<1:30:13,  1.78s/it]\n",
      "[*********************100%***********************]  1 of 1 completed/4062 [25:43<1:24:08,  1.66s/it]\n",
      "[*********************100%***********************]  1 of 1 completed/4062 [25:44<1:18:58,  1.56s/it]\n",
      "\n",
      "1 Failed download:\n",
      "['5387.T']: YFTzMissingError('$%ticker%: possibly delisted; no timezone found')\n",
      " 25%|██████████████▎                                          | 1018/4062 [25:47<1:18:58,  1.56s/it]"
     ]
    },
    {
     "name": "stdout",
     "output_type": "stream",
     "text": [
      "No data found for 5387.T. Skipping...\n"
     ]
    },
    {
     "name": "stderr",
     "output_type": "stream",
     "text": [
      "[*********************100%***********************]  1 of 1 completed/4062 [25:48<1:46:16,  2.10s/it]\n",
      "[*********************100%***********************]  1 of 1 completed/4062 [25:49<1:34:44,  1.87s/it]\n",
      "[*********************100%***********************]  1 of 1 completed/4062 [25:50<1:26:01,  1.70s/it]\n",
      "[*********************100%***********************]  1 of 1 completed/4062 [25:52<1:20:03,  1.58s/it]\n",
      "[*********************100%***********************]  1 of 1 completed/4062 [25:53<1:16:45,  1.52s/it]\n",
      "[*********************100%***********************]  1 of 1 completed/4062 [25:54<1:15:22,  1.49s/it]\n",
      "[*********************100%***********************]  1 of 1 completed/4062 [25:56<1:13:34,  1.45s/it]\n",
      "[*********************100%***********************]  1 of 1 completed/4062 [25:57<1:12:03,  1.42s/it]\n",
      "[*********************100%***********************]  1 of 1 completed/4062 [25:59<1:11:32,  1.41s/it]\n",
      "[*********************100%***********************]  1 of 1 completed/4062 [26:00<1:09:34,  1.38s/it]\n",
      "[*********************100%***********************]  1 of 1 completed/4062 [26:01<1:09:08,  1.37s/it]\n",
      "[*********************100%***********************]  1 of 1 completed/4062 [26:03<1:08:20,  1.35s/it]\n",
      "\n",
      "1 Failed download:\n",
      "['8228.T']: YFTzMissingError('$%ticker%: possibly delisted; no timezone found')\n",
      " 25%|██████████████▍                                          | 1030/4062 [26:04<1:08:20,  1.35s/it]"
     ]
    },
    {
     "name": "stdout",
     "output_type": "stream",
     "text": [
      "No data found for 8228.T. Skipping...\n"
     ]
    },
    {
     "name": "stderr",
     "output_type": "stream",
     "text": [
      "[*********************100%***********************]  1 of 1 completed/4062 [26:05<1:23:16,  1.65s/it]\n",
      "[*********************100%***********************]  1 of 1 completed/4062 [26:07<1:22:36,  1.64s/it]\n",
      "[*********************100%***********************]  1 of 1 completed/4062 [26:08<1:18:25,  1.55s/it]\n",
      "\n",
      "1 Failed download:\n",
      "['2773.T']: YFTzMissingError('$%ticker%: possibly delisted; no timezone found')\n",
      " 25%|██████████████▍                                          | 1033/4062 [26:10<1:18:25,  1.55s/it]"
     ]
    },
    {
     "name": "stdout",
     "output_type": "stream",
     "text": [
      "No data found for 2773.T. Skipping...\n"
     ]
    },
    {
     "name": "stderr",
     "output_type": "stream",
     "text": [
      "[*********************100%***********************]  1 of 1 completed/4062 [26:11<1:41:41,  2.02s/it]\n",
      "[*********************100%***********************]  1 of 1 completed/4062 [26:12<1:32:13,  1.83s/it]\n",
      "\n",
      "1 Failed download:\n",
      "['2458.T']: YFPricesMissingError('$%ticker%: possibly delisted; no price data found  (1d 2024-10-13 -> 2024-10-20)')\n",
      " 25%|██████████████▌                                          | 1035/4062 [26:13<1:32:13,  1.83s/it]"
     ]
    },
    {
     "name": "stdout",
     "output_type": "stream",
     "text": [
      "No data found for 2458.T. Skipping...\n"
     ]
    },
    {
     "name": "stderr",
     "output_type": "stream",
     "text": [
      "[*********************100%***********************]  1 of 1 completed/4062 [26:14<1:24:13,  1.67s/it]\n",
      "[*********************100%***********************]  1 of 1 completed/4062 [26:15<1:18:26,  1.56s/it]\n",
      "[*********************100%***********************]  1 of 1 completed/4062 [26:16<1:15:46,  1.50s/it]\n",
      "[*********************100%***********************]  1 of 1 completed/4062 [26:18<1:12:40,  1.44s/it]\n",
      "[*********************100%***********************]  1 of 1 completed/4062 [26:19<1:10:19,  1.40s/it]\n",
      "[*********************100%***********************]  1 of 1 completed/4062 [26:20<1:09:36,  1.38s/it]\n",
      "[*********************100%***********************]  1 of 1 completed/4062 [26:22<1:09:27,  1.38s/it]\n",
      "[*********************100%***********************]  1 of 1 completed/4062 [26:23<1:08:48,  1.37s/it]\n",
      "[*********************100%***********************]  1 of 1 completed/4062 [26:24<1:08:29,  1.36s/it]\n",
      "[*********************100%***********************]  1 of 1 completed/4062 [26:26<1:08:24,  1.36s/it]\n",
      "\n",
      "1 Failed download:\n",
      "['7895.T']: YFTzMissingError('$%ticker%: possibly delisted; no timezone found')\n",
      " 26%|██████████████▋                                          | 1045/4062 [26:28<1:08:24,  1.36s/it]"
     ]
    },
    {
     "name": "stdout",
     "output_type": "stream",
     "text": [
      "No data found for 7895.T. Skipping...\n"
     ]
    },
    {
     "name": "stderr",
     "output_type": "stream",
     "text": [
      "[*********************100%***********************]  1 of 1 completed/4062 [26:29<1:33:04,  1.85s/it]\n",
      "[*********************100%***********************]  1 of 1 completed/4062 [26:30<1:25:50,  1.71s/it]\n",
      "[*********************100%***********************]  1 of 1 completed/4062 [26:31<1:19:48,  1.59s/it]\n",
      "[*********************100%***********************]  1 of 1 completed/4062 [26:33<1:16:28,  1.52s/it]\n",
      "[*********************100%***********************]  1 of 1 completed/4062 [26:34<1:13:22,  1.46s/it]\n",
      "[*********************100%***********************]  1 of 1 completed/4062 [26:35<1:11:25,  1.42s/it]\n",
      "[*********************100%***********************]  1 of 1 completed/4062 [26:37<1:10:06,  1.40s/it]\n",
      "[*********************100%***********************]  1 of 1 completed/4062 [26:38<1:08:40,  1.37s/it]\n",
      "\n",
      "1 Failed download:\n",
      "['6889.T']: YFTzMissingError('$%ticker%: possibly delisted; no timezone found')\n",
      " 26%|██████████████▊                                          | 1053/4062 [26:40<1:08:40,  1.37s/it]"
     ]
    },
    {
     "name": "stdout",
     "output_type": "stream",
     "text": [
      "No data found for 6889.T. Skipping...\n"
     ]
    },
    {
     "name": "stderr",
     "output_type": "stream",
     "text": [
      "[*********************100%***********************]  1 of 1 completed/4062 [26:41<1:26:55,  1.73s/it]\n",
      "[*********************100%***********************]  1 of 1 completed/4062 [26:42<1:21:11,  1.62s/it]\n",
      "\n",
      "1 Failed download:\n",
      "['4963.T']: YFTzMissingError('$%ticker%: possibly delisted; no timezone found')\n",
      " 26%|██████████████▊                                          | 1055/4062 [26:44<1:21:11,  1.62s/it]"
     ]
    },
    {
     "name": "stdout",
     "output_type": "stream",
     "text": [
      "No data found for 4963.T. Skipping...\n"
     ]
    },
    {
     "name": "stderr",
     "output_type": "stream",
     "text": [
      "[*********************100%***********************]  1 of 1 completed/4062 [26:45<1:35:44,  1.91s/it]\n",
      "[*********************100%***********************]  1 of 1 completed/4062 [26:46<1:26:19,  1.72s/it]\n",
      "[*********************100%***********************]  1 of 1 completed/4062 [26:47<1:20:31,  1.61s/it]\n",
      "[*********************100%***********************]  1 of 1 completed/4062 [26:49<1:17:09,  1.54s/it]\n",
      "[*********************100%***********************]  1 of 1 completed/4062 [26:50<1:13:42,  1.47s/it]\n",
      "[*********************100%***********************]  1 of 1 completed/4062 [26:51<1:11:54,  1.44s/it]\n",
      "[*********************100%***********************]  1 of 1 completed/4062 [26:53<1:10:37,  1.41s/it]\n",
      "[*********************100%***********************]  1 of 1 completed/4062 [26:54<1:09:43,  1.39s/it]\n",
      "[*********************100%***********************]  1 of 1 completed/4062 [26:55<1:09:02,  1.38s/it]\n",
      "[*********************100%***********************]  1 of 1 completed/4062 [26:57<1:08:25,  1.37s/it]\n",
      "[*********************100%***********************]  1 of 1 completed/4062 [26:58<1:08:11,  1.37s/it]\n",
      "[*********************100%***********************]  1 of 1 completed/4062 [26:59<1:07:43,  1.36s/it]\n",
      "[*********************100%***********************]  1 of 1 completed/4062 [27:01<1:07:32,  1.35s/it]\n",
      "\n",
      "1 Failed download:\n",
      "['5002.T']: YFTzMissingError('$%ticker%: possibly delisted; no timezone found')\n",
      " 26%|██████████████▉                                          | 1068/4062 [27:02<1:07:32,  1.35s/it]"
     ]
    },
    {
     "name": "stdout",
     "output_type": "stream",
     "text": [
      "No data found for 5002.T. Skipping...\n"
     ]
    },
    {
     "name": "stderr",
     "output_type": "stream",
     "text": [
      "[*********************100%***********************]  1 of 1 completed/4062 [27:03<1:24:22,  1.69s/it]\n",
      "[*********************100%***********************]  1 of 1 completed/4062 [27:05<1:19:16,  1.59s/it]\n",
      "\n",
      "1 Failed download:\n",
      "['4364.T']: YFTzMissingError('$%ticker%: possibly delisted; no timezone found')\n",
      " 26%|███████████████                                          | 1070/4062 [27:07<1:19:16,  1.59s/it]"
     ]
    },
    {
     "name": "stdout",
     "output_type": "stream",
     "text": [
      "No data found for 4364.T. Skipping...\n"
     ]
    },
    {
     "name": "stderr",
     "output_type": "stream",
     "text": [
      "[*********************100%***********************]  1 of 1 completed/4062 [27:08<1:43:18,  2.07s/it]\n",
      "[*********************100%***********************]  1 of 1 completed/4062 [27:09<1:32:00,  1.85s/it]\n",
      "[*********************100%***********************]  1 of 1 completed/4062 [27:10<1:24:23,  1.69s/it]\n",
      "[*********************100%***********************]  1 of 1 completed/4062 [27:12<1:18:52,  1.58s/it]\n",
      "[*********************100%***********************]  1 of 1 completed/4062 [27:13<1:15:14,  1.51s/it]\n",
      "\n",
      "1 Failed download:\n",
      "['9643.T']: YFTzMissingError('$%ticker%: possibly delisted; no timezone found')\n",
      " 26%|███████████████                                          | 1075/4062 [27:15<1:15:14,  1.51s/it]"
     ]
    },
    {
     "name": "stdout",
     "output_type": "stream",
     "text": [
      "No data found for 9643.T. Skipping...\n"
     ]
    },
    {
     "name": "stderr",
     "output_type": "stream",
     "text": [
      "[*********************100%***********************]  1 of 1 completed/4062 [27:16<1:35:02,  1.91s/it]\n",
      "[*********************100%***********************]  1 of 1 completed/4062 [27:17<1:26:50,  1.75s/it]\n",
      "[*********************100%***********************]  1 of 1 completed/4062 [27:19<1:20:26,  1.62s/it]\n",
      "[*********************100%***********************]  1 of 1 completed/4062 [27:20<1:16:18,  1.53s/it]\n",
      "[*********************100%***********************]  1 of 1 completed/4062 [27:21<1:13:28,  1.48s/it]\n",
      "[*********************100%***********************]  1 of 1 completed/4062 [27:23<1:14:21,  1.50s/it]\n",
      "[*********************100%***********************]  1 of 1 completed/4062 [27:24<1:11:35,  1.44s/it]\n",
      "[*********************100%***********************]  1 of 1 completed/4062 [27:26<1:11:14,  1.43s/it]\n",
      "[*********************100%***********************]  1 of 1 completed/4062 [27:27<1:09:17,  1.40s/it]\n",
      "\n",
      "1 Failed download:\n",
      "['3685.T']: YFPricesMissingError('$%ticker%: possibly delisted; no price data found  (1d 2024-10-13 -> 2024-10-20)')\n",
      " 27%|███████████████▏                                         | 1084/4062 [27:27<1:09:17,  1.40s/it]"
     ]
    },
    {
     "name": "stdout",
     "output_type": "stream",
     "text": [
      "No data found for 3685.T. Skipping...\n"
     ]
    },
    {
     "name": "stderr",
     "output_type": "stream",
     "text": [
      "[*********************100%***********************]  1 of 1 completed/4062 [27:28<1:07:35,  1.36s/it]\n",
      "[*********************100%***********************]  1 of 1 completed/4062 [27:29<1:07:34,  1.36s/it]\n",
      "[*********************100%***********************]  1 of 1 completed/4062 [27:31<1:08:07,  1.37s/it]\n",
      "\n",
      "1 Failed download:\n",
      "['7597.T']: YFTzMissingError('$%ticker%: possibly delisted; no timezone found')\n",
      " 27%|███████████████▎                                         | 1087/4062 [27:32<1:08:07,  1.37s/it]"
     ]
    },
    {
     "name": "stdout",
     "output_type": "stream",
     "text": [
      "No data found for 7597.T. Skipping...\n"
     ]
    },
    {
     "name": "stderr",
     "output_type": "stream",
     "text": [
      "[*********************100%***********************]  1 of 1 completed/4062 [27:33<1:26:16,  1.74s/it]\n",
      "[*********************100%***********************]  1 of 1 completed/4062 [27:35<1:19:37,  1.61s/it]\n",
      "[*********************100%***********************]  1 of 1 completed/4062 [27:36<1:16:22,  1.54s/it]\n",
      "[*********************100%***********************]  1 of 1 completed/4062 [27:38<1:13:55,  1.49s/it]\n",
      "[*********************100%***********************]  1 of 1 completed/4062 [27:39<1:11:58,  1.45s/it]\n",
      "[*********************100%***********************]  1 of 1 completed/4062 [27:40<1:10:09,  1.42s/it]\n",
      "\n",
      "1 Failed download:\n",
      "['3754.T']: YFPricesMissingError('$%ticker%: possibly delisted; no price data found  (1d 2024-10-13 -> 2024-10-20)')\n",
      " 27%|███████████████▎                                         | 1093/4062 [27:41<1:10:09,  1.42s/it]"
     ]
    },
    {
     "name": "stdout",
     "output_type": "stream",
     "text": [
      "No data found for 3754.T. Skipping...\n"
     ]
    },
    {
     "name": "stderr",
     "output_type": "stream",
     "text": [
      "[*********************100%***********************]  1 of 1 completed/4062 [27:42<1:08:50,  1.39s/it]\n",
      "[*********************100%***********************]  1 of 1 completed/4062 [27:43<1:08:06,  1.38s/it]\n",
      "[*********************100%***********************]  1 of 1 completed/4062 [27:44<1:07:52,  1.37s/it]\n",
      "[*********************100%***********************]  1 of 1 completed/4062 [27:46<1:12:39,  1.47s/it]\n",
      "[*********************100%***********************]  1 of 1 completed/4062 [27:47<1:11:42,  1.45s/it]\n",
      "[*********************100%***********************]  1 of 1 completed/4062 [27:49<1:09:51,  1.41s/it]\n",
      "[*********************100%***********************]  1 of 1 completed/4062 [27:50<1:08:25,  1.39s/it]\n",
      "[*********************100%***********************]  1 of 1 completed/4062 [27:51<1:07:47,  1.37s/it]\n",
      "[*********************100%***********************]  1 of 1 completed/4062 [27:53<1:06:53,  1.36s/it]\n",
      "[*********************100%***********************]  1 of 1 completed/4062 [27:54<1:06:18,  1.34s/it]\n",
      "[*********************100%***********************]  1 of 1 completed/4062 [27:55<1:06:11,  1.34s/it]\n",
      "[*********************100%***********************]  1 of 1 completed/4062 [27:57<1:06:11,  1.34s/it]\n",
      "[*********************100%***********************]  1 of 1 completed/4062 [27:58<1:05:53,  1.34s/it]\n",
      "[*********************100%***********************]  1 of 1 completed/4062 [27:59<1:05:46,  1.34s/it]\n",
      "[*********************100%***********************]  1 of 1 completed/4062 [28:01<1:05:25,  1.33s/it]\n",
      "[*********************100%***********************]  1 of 1 completed/4062 [28:02<1:05:10,  1.32s/it]\n",
      "[*********************100%***********************]  1 of 1 completed/4062 [28:03<1:05:49,  1.34s/it]\n",
      "[*********************100%***********************]  1 of 1 completed/4062 [28:05<1:06:07,  1.34s/it]\n",
      "[*********************100%***********************]  1 of 1 completed/4062 [28:06<1:05:31,  1.33s/it]\n",
      "[*********************100%***********************]  1 of 1 completed/4062 [28:07<1:06:28,  1.35s/it]\n",
      "[*********************100%***********************]  1 of 1 completed/4062 [28:09<1:06:37,  1.36s/it]\n",
      "\n",
      "1 Failed download:\n",
      "['8854.T']: YFTzMissingError('$%ticker%: possibly delisted; no timezone found')\n",
      " 27%|███████████████▋                                         | 1114/4062 [28:11<1:06:37,  1.36s/it]"
     ]
    },
    {
     "name": "stdout",
     "output_type": "stream",
     "text": [
      "No data found for 8854.T. Skipping...\n"
     ]
    },
    {
     "name": "stderr",
     "output_type": "stream",
     "text": [
      "[*********************100%***********************]  1 of 1 completed/4062 [28:12<1:27:50,  1.79s/it]\n",
      "\n",
      "1 Failed download:\n",
      "['6716.T']: YFPricesMissingError('$%ticker%: possibly delisted; no price data found  (1d 2024-10-13 -> 2024-10-20)')\n",
      " 27%|███████████████▋                                         | 1115/4062 [28:12<1:27:50,  1.79s/it]"
     ]
    },
    {
     "name": "stdout",
     "output_type": "stream",
     "text": [
      "No data found for 6716.T. Skipping...\n"
     ]
    },
    {
     "name": "stderr",
     "output_type": "stream",
     "text": [
      "[*********************100%***********************]  1 of 1 completed/4062 [28:13<1:20:52,  1.65s/it]\n",
      "\n",
      "1 Failed download:\n",
      "['3147.T']: YFTzMissingError('$%ticker%: possibly delisted; no timezone found')\n",
      " 27%|███████████████▋                                         | 1116/4062 [28:14<1:20:52,  1.65s/it]"
     ]
    },
    {
     "name": "stdout",
     "output_type": "stream",
     "text": [
      "No data found for 3147.T. Skipping...\n"
     ]
    },
    {
     "name": "stderr",
     "output_type": "stream",
     "text": [
      "[*********************100%***********************]  1 of 1 completed/4062 [28:15<1:34:43,  1.93s/it]\n",
      "[*********************100%***********************]  1 of 1 completed/4062 [28:17<1:25:51,  1.75s/it]\n",
      "[*********************100%***********************]  1 of 1 completed/4062 [28:18<1:19:58,  1.63s/it]\n",
      "[*********************100%***********************]  1 of 1 completed/4062 [28:20<1:16:26,  1.56s/it]\n",
      "\n",
      "1 Failed download:\n",
      "['4541.T']: YFTzMissingError('$%ticker%: possibly delisted; no timezone found')\n",
      " 28%|███████████████▋                                         | 1120/4062 [28:21<1:16:26,  1.56s/it]"
     ]
    },
    {
     "name": "stdout",
     "output_type": "stream",
     "text": [
      "No data found for 4541.T. Skipping...\n"
     ]
    },
    {
     "name": "stderr",
     "output_type": "stream",
     "text": [
      "[*********************100%***********************]  1 of 1 completed/4062 [28:22<1:34:16,  1.92s/it]\n",
      "[*********************100%***********************]  1 of 1 completed/4062 [28:24<1:27:08,  1.78s/it]\n",
      "[*********************100%***********************]  1 of 1 completed/4062 [28:25<1:20:50,  1.65s/it]\n",
      "[*********************100%***********************]  1 of 1 completed/4062 [28:26<1:16:34,  1.56s/it]\n",
      "[*********************100%***********************]  1 of 1 completed/4062 [28:28<1:13:21,  1.50s/it]\n",
      "[*********************100%***********************]  1 of 1 completed/4062 [28:29<1:11:14,  1.46s/it]\n",
      "[*********************100%***********************]  1 of 1 completed/4062 [28:30<1:09:22,  1.42s/it]\n",
      "[*********************100%***********************]  1 of 1 completed/4062 [28:32<1:07:44,  1.39s/it]\n",
      "[*********************100%***********************]  1 of 1 completed/4062 [28:33<1:07:52,  1.39s/it]\n",
      "[*********************100%***********************]  1 of 1 completed/4062 [28:35<1:07:23,  1.38s/it]\n",
      "[*********************100%***********************]  1 of 1 completed/4062 [28:36<1:06:25,  1.36s/it]\n",
      "[*********************100%***********************]  1 of 1 completed/4062 [28:37<1:07:03,  1.37s/it]\n",
      "[*********************100%***********************]  1 of 1 completed/4062 [28:39<1:07:44,  1.39s/it]\n",
      "[*********************100%***********************]  1 of 1 completed/4062 [28:40<1:07:12,  1.38s/it]\n",
      "[*********************100%***********************]  1 of 1 completed/4062 [28:41<1:06:16,  1.36s/it]\n",
      "[*********************100%***********************]  1 of 1 completed/4062 [28:43<1:05:38,  1.35s/it]\n",
      "[*********************100%***********************]  1 of 1 completed/4062 [28:44<1:05:29,  1.34s/it]\n",
      "[*********************100%***********************]  1 of 1 completed/4062 [28:45<1:05:37,  1.35s/it]\n",
      "[*********************100%***********************]  1 of 1 completed/4062 [28:47<1:05:35,  1.35s/it]\n",
      "[*********************100%***********************]  1 of 1 completed/4062 [28:48<1:05:14,  1.34s/it]\n",
      "[*********************100%***********************]  1 of 1 completed/4062 [28:49<1:05:04,  1.34s/it]\n",
      "\n",
      "1 Failed download:\n",
      "['5343.T']: YFTzMissingError('$%ticker%: possibly delisted; no timezone found')\n",
      " 28%|████████████████                                         | 1141/4062 [28:51<1:05:04,  1.34s/it]"
     ]
    },
    {
     "name": "stdout",
     "output_type": "stream",
     "text": [
      "No data found for 5343.T. Skipping...\n"
     ]
    },
    {
     "name": "stderr",
     "output_type": "stream",
     "text": [
      "[*********************100%***********************]  1 of 1 completed/4062 [28:52<1:18:57,  1.62s/it]\n",
      "\n",
      "1 Failed download:\n",
      "['8703.T']: YFTzMissingError('$%ticker%: possibly delisted; no timezone found')\n",
      " 28%|████████████████                                         | 1142/4062 [28:54<1:18:57,  1.62s/it]"
     ]
    },
    {
     "name": "stdout",
     "output_type": "stream",
     "text": [
      "No data found for 8703.T. Skipping...\n"
     ]
    },
    {
     "name": "stderr",
     "output_type": "stream",
     "text": [
      "[*********************100%***********************]  1 of 1 completed/4062 [28:55<1:44:56,  2.16s/it]\n",
      "[*********************100%***********************]  1 of 1 completed/4062 [28:56<1:32:52,  1.91s/it]\n",
      "[*********************100%***********************]  1 of 1 completed/4062 [28:58<1:28:22,  1.82s/it]\n",
      "[*********************100%***********************]  1 of 1 completed/4062 [28:59<1:21:18,  1.67s/it]\n",
      "\n",
      "1 Failed download:\n",
      "['4281.T']: YFTzMissingError('$%ticker%: possibly delisted; no timezone found')\n",
      " 28%|████████████████                                         | 1146/4062 [29:02<1:21:18,  1.67s/it]"
     ]
    },
    {
     "name": "stdout",
     "output_type": "stream",
     "text": [
      "No data found for 4281.T. Skipping...\n"
     ]
    },
    {
     "name": "stderr",
     "output_type": "stream",
     "text": [
      "[*********************100%***********************]  1 of 1 completed/4062 [29:03<1:44:56,  2.16s/it]\n",
      "[*********************100%***********************]  1 of 1 completed/4062 [29:04<1:32:27,  1.90s/it]\n",
      "\n",
      "1 Failed download:\n",
      "['4312.T']: YFTzMissingError('$%ticker%: possibly delisted; no timezone found')\n",
      " 28%|████████████████                                         | 1148/4062 [29:06<1:32:27,  1.90s/it]"
     ]
    },
    {
     "name": "stdout",
     "output_type": "stream",
     "text": [
      "No data found for 4312.T. Skipping...\n"
     ]
    },
    {
     "name": "stderr",
     "output_type": "stream",
     "text": [
      "[*********************100%***********************]  1 of 1 completed/4062 [29:07<1:48:15,  2.23s/it]\n",
      "[*********************100%***********************]  1 of 1 completed/4062 [29:08<1:36:02,  1.98s/it]\n",
      "[*********************100%***********************]  1 of 1 completed/4062 [29:10<1:26:52,  1.79s/it]\n",
      "[*********************100%***********************]  1 of 1 completed/4062 [29:11<1:20:16,  1.66s/it]\n",
      "\n",
      "1 Failed download:\n",
      "['9728.T']: YFTzMissingError('$%ticker%: possibly delisted; no timezone found')\n",
      " 28%|████████████████▏                                        | 1152/4062 [29:13<1:20:16,  1.66s/it]"
     ]
    },
    {
     "name": "stdout",
     "output_type": "stream",
     "text": [
      "No data found for 9728.T. Skipping...\n"
     ]
    },
    {
     "name": "stderr",
     "output_type": "stream",
     "text": [
      "[*********************100%***********************]  1 of 1 completed/4062 [29:14<1:43:24,  2.13s/it]\n",
      "\n",
      "1 Failed download:\n",
      "['8728.T']: YFTzMissingError('$%ticker%: possibly delisted; no timezone found')\n",
      " 28%|████████████████▏                                        | 1153/4062 [29:16<1:43:24,  2.13s/it]"
     ]
    },
    {
     "name": "stdout",
     "output_type": "stream",
     "text": [
      "No data found for 8728.T. Skipping...\n"
     ]
    },
    {
     "name": "stderr",
     "output_type": "stream",
     "text": [
      "[*********************100%***********************]  1 of 1 completed/4062 [29:17<1:49:47,  2.27s/it]\n",
      "[*********************100%***********************]  1 of 1 completed/4062 [29:18<1:36:15,  1.99s/it]\n",
      "[*********************100%***********************]  1 of 1 completed/4062 [29:20<1:27:06,  1.80s/it]\n",
      "[*********************100%***********************]  1 of 1 completed/4062 [29:21<1:20:31,  1.66s/it]\n",
      "[*********************100%***********************]  1 of 1 completed/4062 [29:22<1:15:47,  1.57s/it]\n",
      "[*********************100%***********************]  1 of 1 completed/4062 [29:24<1:12:43,  1.50s/it]\n",
      "[*********************100%***********************]  1 of 1 completed/4062 [29:25<1:10:21,  1.45s/it]\n",
      "\n",
      "1 Failed download:\n",
      "['8333.T']: YFPricesMissingError('$%ticker%: possibly delisted; no price data found  (1d 2024-10-13 -> 2024-10-20)')\n",
      " 29%|████████████████▎                                        | 1160/4062 [29:25<1:10:21,  1.45s/it]"
     ]
    },
    {
     "name": "stdout",
     "output_type": "stream",
     "text": [
      "No data found for 8333.T. Skipping...\n"
     ]
    },
    {
     "name": "stderr",
     "output_type": "stream",
     "text": [
      "[*********************100%***********************]  1 of 1 completed/4062 [29:26<1:07:46,  1.40s/it]\n",
      "[*********************100%***********************]  1 of 1 completed/4062 [29:28<1:07:05,  1.39s/it]\n",
      "[*********************100%***********************]  1 of 1 completed/4062 [29:29<1:06:34,  1.38s/it]\n",
      "[*********************100%***********************]  1 of 1 completed/4062 [29:30<1:05:42,  1.36s/it]\n",
      "[*********************100%***********************]  1 of 1 completed/4062 [29:32<1:04:46,  1.34s/it]\n",
      "[*********************100%***********************]  1 of 1 completed/4062 [29:33<1:04:58,  1.35s/it]\n",
      "\n",
      "1 Failed download:\n",
      "['6076.T']: YFTzMissingError('$%ticker%: possibly delisted; no timezone found')\n",
      " 29%|████████████████▎                                        | 1166/4062 [29:34<1:04:58,  1.35s/it]"
     ]
    },
    {
     "name": "stdout",
     "output_type": "stream",
     "text": [
      "No data found for 6076.T. Skipping...\n"
     ]
    },
    {
     "name": "stderr",
     "output_type": "stream",
     "text": [
      "[*********************100%***********************]  1 of 1 completed/4062 [29:35<1:15:25,  1.56s/it]\n",
      "[*********************100%***********************]  1 of 1 completed/4062 [29:36<1:11:53,  1.49s/it]\n",
      "[*********************100%***********************]  1 of 1 completed/4062 [29:38<1:09:58,  1.45s/it]\n",
      "\n",
      "1 Failed download:\n",
      "['5289.T']: YFPricesMissingError('$%ticker%: possibly delisted; no price data found  (1d 2024-10-13 -> 2024-10-20)')\n",
      " 29%|████████████████▍                                        | 1169/4062 [29:38<1:09:58,  1.45s/it]"
     ]
    },
    {
     "name": "stdout",
     "output_type": "stream",
     "text": [
      "No data found for 5289.T. Skipping...\n"
     ]
    },
    {
     "name": "stderr",
     "output_type": "stream",
     "text": [
      "[*********************100%***********************]  1 of 1 completed/4062 [29:39<1:07:38,  1.40s/it]\n",
      "[*********************100%***********************]  1 of 1 completed/4062 [29:40<1:06:58,  1.39s/it]\n",
      "[*********************100%***********************]  1 of 1 completed/4062 [29:42<1:09:09,  1.44s/it]\n",
      "\n",
      "1 Failed download:\n",
      "['9967.T']: YFTzMissingError('$%ticker%: possibly delisted; no timezone found')\n",
      " 29%|████████████████▍                                        | 1172/4062 [29:43<1:09:09,  1.44s/it]"
     ]
    },
    {
     "name": "stdout",
     "output_type": "stream",
     "text": [
      "No data found for 9967.T. Skipping...\n"
     ]
    },
    {
     "name": "stderr",
     "output_type": "stream",
     "text": [
      "[*********************100%***********************]  1 of 1 completed/4062 [29:44<1:24:39,  1.76s/it]\n",
      "[*********************100%***********************]  1 of 1 completed/4062 [29:46<1:19:00,  1.64s/it]\n",
      "[*********************100%***********************]  1 of 1 completed/4062 [29:47<1:15:38,  1.57s/it]\n",
      "[*********************100%***********************]  1 of 1 completed/4062 [29:48<1:12:45,  1.51s/it]\n",
      "[*********************100%***********************]  1 of 1 completed/4062 [29:50<1:09:35,  1.45s/it]\n",
      "[*********************100%***********************]  1 of 1 completed/4062 [29:51<1:08:12,  1.42s/it]\n",
      "[*********************100%***********************]  1 of 1 completed/4062 [29:52<1:07:18,  1.40s/it]\n",
      "[*********************100%***********************]  1 of 1 completed/4062 [29:54<1:06:24,  1.38s/it]\n",
      "[*********************100%***********************]  1 of 1 completed/4062 [29:55<1:05:46,  1.37s/it]\n",
      "[*********************100%***********************]  1 of 1 completed/4062 [29:56<1:05:08,  1.36s/it]\n",
      "[*********************100%***********************]  1 of 1 completed/4062 [29:58<1:04:36,  1.35s/it]\n",
      "[*********************100%***********************]  1 of 1 completed/4062 [29:59<1:04:13,  1.34s/it]\n",
      "[*********************100%***********************]  1 of 1 completed/4062 [30:01<1:04:45,  1.35s/it]\n",
      "[*********************100%***********************]  1 of 1 completed/4062 [30:02<1:05:32,  1.37s/it]\n",
      "\n",
      "1 Failed download:\n",
      "['5286.T']: YFTzMissingError('$%ticker%: possibly delisted; no timezone found')\n",
      " 29%|████████████████▋                                        | 1186/4062 [30:03<1:05:32,  1.37s/it]"
     ]
    },
    {
     "name": "stdout",
     "output_type": "stream",
     "text": [
      "No data found for 5286.T. Skipping...\n"
     ]
    },
    {
     "name": "stderr",
     "output_type": "stream",
     "text": [
      "[*********************100%***********************]  1 of 1 completed/4062 [30:04<1:15:36,  1.58s/it]\n",
      "\n",
      "1 Failed download:\n",
      "['9819.T']: YFTzMissingError('$%ticker%: possibly delisted; no timezone found')\n",
      " 29%|████████████████▋                                        | 1187/4062 [30:05<1:15:36,  1.58s/it]"
     ]
    },
    {
     "name": "stdout",
     "output_type": "stream",
     "text": [
      "No data found for 9819.T. Skipping...\n"
     ]
    },
    {
     "name": "stderr",
     "output_type": "stream",
     "text": [
      "[*********************100%***********************]  1 of 1 completed/4062 [30:06<1:24:44,  1.77s/it]\n",
      "[*********************100%***********************]  1 of 1 completed/4062 [30:08<1:20:21,  1.68s/it]\n",
      "\n",
      "1 Failed download:\n",
      "['4649.T']: YFTzMissingError('$%ticker%: possibly delisted; no timezone found')\n",
      " 29%|████████████████▋                                        | 1189/4062 [30:09<1:20:21,  1.68s/it]"
     ]
    },
    {
     "name": "stdout",
     "output_type": "stream",
     "text": [
      "No data found for 4649.T. Skipping...\n"
     ]
    },
    {
     "name": "stderr",
     "output_type": "stream",
     "text": [
      "[*********************100%***********************]  1 of 1 completed/4062 [30:10<1:33:15,  1.95s/it]\n",
      "[*********************100%***********************]  1 of 1 completed/4062 [30:12<1:24:42,  1.77s/it]\n",
      "[*********************100%***********************]  1 of 1 completed/4062 [30:13<1:18:21,  1.64s/it]\n",
      "\n",
      "1 Failed download:\n",
      "['4952.T']: YFTzMissingError('$%ticker%: possibly delisted; no timezone found')\n",
      " 29%|████████████████▋                                        | 1192/4062 [30:15<1:18:21,  1.64s/it]"
     ]
    },
    {
     "name": "stdout",
     "output_type": "stream",
     "text": [
      "No data found for 4952.T. Skipping...\n"
     ]
    },
    {
     "name": "stderr",
     "output_type": "stream",
     "text": [
      "[*********************100%***********************]  1 of 1 completed/4062 [30:16<1:34:52,  1.98s/it]\n",
      "\n",
      "1 Failed download:\n",
      "['7251.T']: YFTzMissingError('$%ticker%: possibly delisted; no timezone found')\n",
      " 29%|████████████████▋                                        | 1193/4062 [30:18<1:34:52,  1.98s/it]"
     ]
    },
    {
     "name": "stdout",
     "output_type": "stream",
     "text": [
      "No data found for 7251.T. Skipping...\n"
     ]
    },
    {
     "name": "stderr",
     "output_type": "stream",
     "text": [
      "[*********************100%***********************]  1 of 1 completed/4062 [30:19<1:49:15,  2.29s/it]\n",
      "[*********************100%***********************]  1 of 1 completed/4062 [30:20<1:35:39,  2.00s/it]\n",
      "\n",
      "1 Failed download:\n",
      "['6767.T']: YFPricesMissingError('$%ticker%: possibly delisted; no price data found  (1d 2024-10-13 -> 2024-10-20)')\n",
      " 29%|████████████████▊                                        | 1195/4062 [30:20<1:35:39,  2.00s/it]"
     ]
    },
    {
     "name": "stdout",
     "output_type": "stream",
     "text": [
      "No data found for 6767.T. Skipping...\n"
     ]
    },
    {
     "name": "stderr",
     "output_type": "stream",
     "text": [
      "[*********************100%***********************]  1 of 1 completed/4062 [30:21<1:25:18,  1.79s/it]\n",
      "[*********************100%***********************]  1 of 1 completed/4062 [30:23<1:20:13,  1.68s/it]\n",
      "[*********************100%***********************]  1 of 1 completed/4062 [30:24<1:15:34,  1.58s/it]\n",
      "[*********************100%***********************]  1 of 1 completed/4062 [30:25<1:11:37,  1.50s/it]\n",
      "[*********************100%***********************]  1 of 1 completed/4062 [30:27<1:09:13,  1.45s/it]\n",
      "[*********************100%***********************]  1 of 1 completed/4062 [30:28<1:07:31,  1.42s/it]\n",
      "[*********************100%***********************]  1 of 1 completed/4062 [30:29<1:06:13,  1.39s/it]\n",
      "[*********************100%***********************]  1 of 1 completed/4062 [30:31<1:05:43,  1.38s/it]\n",
      "\n",
      "1 Failed download:\n",
      "['9681.T']: YFTzMissingError('$%ticker%: possibly delisted; no timezone found')\n",
      " 30%|████████████████▉                                        | 1203/4062 [30:33<1:05:43,  1.38s/it]"
     ]
    },
    {
     "name": "stdout",
     "output_type": "stream",
     "text": [
      "No data found for 9681.T. Skipping...\n"
     ]
    },
    {
     "name": "stderr",
     "output_type": "stream",
     "text": [
      "[*********************100%***********************]  1 of 1 completed/4062 [30:34<1:25:33,  1.80s/it]\n",
      "[*********************100%***********************]  1 of 1 completed/4062 [30:35<1:19:06,  1.66s/it]\n",
      "[*********************100%***********************]  1 of 1 completed/4062 [30:37<1:21:42,  1.72s/it]\n",
      "[*********************100%***********************]  1 of 1 completed/4062 [30:38<1:17:01,  1.62s/it]\n",
      "\n",
      "1 Failed download:\n",
      "['6618.T']: YFTzMissingError('$%ticker%: possibly delisted; no timezone found')\n",
      " 30%|████████████████▉                                        | 1207/4062 [30:39<1:17:01,  1.62s/it]"
     ]
    },
    {
     "name": "stdout",
     "output_type": "stream",
     "text": [
      "No data found for 6618.T. Skipping...\n"
     ]
    },
    {
     "name": "stderr",
     "output_type": "stream",
     "text": [
      "[*********************100%***********************]  1 of 1 completed/4062 [30:40<1:26:24,  1.82s/it]\n",
      "[*********************100%***********************]  1 of 1 completed/4062 [30:42<1:19:34,  1.67s/it]\n",
      "[*********************100%***********************]  1 of 1 completed/4062 [30:43<1:14:50,  1.57s/it]\n",
      "[*********************100%***********************]  1 of 1 completed/4062 [30:44<1:11:13,  1.50s/it]\n",
      "[*********************100%***********************]  1 of 1 completed/4062 [30:46<1:09:03,  1.45s/it]\n",
      "[*********************100%***********************]  1 of 1 completed/4062 [30:47<1:07:25,  1.42s/it]\n",
      "[*********************100%***********************]  1 of 1 completed/4062 [30:48<1:06:12,  1.39s/it]\n",
      "[*********************100%***********************]  1 of 1 completed/4062 [30:50<1:05:09,  1.37s/it]\n",
      "[*********************100%***********************]  1 of 1 completed/4062 [30:51<1:04:45,  1.37s/it]\n",
      "[*********************100%***********************]  1 of 1 completed/4062 [30:52<1:04:13,  1.35s/it]\n",
      "\n",
      "1 Failed download:\n",
      "['3209.T']: YFTzMissingError('$%ticker%: possibly delisted; no timezone found')\n",
      " 30%|█████████████████                                        | 1217/4062 [30:55<1:04:13,  1.35s/it]"
     ]
    },
    {
     "name": "stdout",
     "output_type": "stream",
     "text": [
      "No data found for 3209.T. Skipping...\n"
     ]
    },
    {
     "name": "stderr",
     "output_type": "stream",
     "text": [
      "[*********************100%***********************]  1 of 1 completed/4062 [30:56<1:28:59,  1.88s/it]\n",
      "[*********************100%***********************]  1 of 1 completed/4062 [30:57<1:21:13,  1.71s/it]\n",
      "[*********************100%***********************]  1 of 1 completed/4062 [30:58<1:15:12,  1.59s/it]\n",
      "[*********************100%***********************]  1 of 1 completed/4062 [30:59<1:11:24,  1.51s/it]\n",
      "[*********************100%***********************]  1 of 1 completed/4062 [31:01<1:08:47,  1.45s/it]\n",
      "[*********************100%***********************]  1 of 1 completed/4062 [31:02<1:07:03,  1.42s/it]\n",
      "[*********************100%***********************]  1 of 1 completed/4062 [31:04<1:06:47,  1.41s/it]\n",
      "[*********************100%***********************]  1 of 1 completed/4062 [31:05<1:05:59,  1.40s/it]\n",
      "\n",
      "1 Failed download:\n",
      "['2022.T']: YFTzMissingError('$%ticker%: possibly delisted; no timezone found')\n",
      " 30%|█████████████████▏                                       | 1225/4062 [31:07<1:05:59,  1.40s/it]"
     ]
    },
    {
     "name": "stdout",
     "output_type": "stream",
     "text": [
      "No data found for 2022.T. Skipping...\n"
     ]
    },
    {
     "name": "stderr",
     "output_type": "stream",
     "text": [
      "[*********************100%***********************]  1 of 1 completed/4062 [31:08<1:25:44,  1.81s/it]\n",
      "[*********************100%***********************]  1 of 1 completed/4062 [31:09<1:18:48,  1.67s/it]\n",
      "\n",
      "1 Failed download:\n",
      "['4734.T']: YFTzMissingError('$%ticker%: possibly delisted; no timezone found')\n",
      " 30%|█████████████████▏                                       | 1227/4062 [31:11<1:18:48,  1.67s/it]"
     ]
    },
    {
     "name": "stdout",
     "output_type": "stream",
     "text": [
      "No data found for 4734.T. Skipping...\n"
     ]
    },
    {
     "name": "stderr",
     "output_type": "stream",
     "text": [
      "[*********************100%***********************]  1 of 1 completed/4062 [31:12<1:36:42,  2.05s/it]\n",
      "[*********************100%***********************]  1 of 1 completed/4062 [31:13<1:26:04,  1.82s/it]\n",
      "\n",
      "1 Failed download:\n",
      "['4508.T']: YFTzMissingError('$%ticker%: possibly delisted; no timezone found')\n",
      " 30%|█████████████████▏                                       | 1229/4062 [31:14<1:26:04,  1.82s/it]"
     ]
    },
    {
     "name": "stdout",
     "output_type": "stream",
     "text": [
      "No data found for 4508.T. Skipping...\n"
     ]
    },
    {
     "name": "stderr",
     "output_type": "stream",
     "text": [
      "[*********************100%***********************]  1 of 1 completed/4062 [31:15<1:31:18,  1.93s/it]\n",
      "\n",
      "1 Failed download:\n",
      "['1865.T']: YFTzMissingError('$%ticker%: possibly delisted; no timezone found')\n",
      " 30%|█████████████████▎                                       | 1230/4062 [31:17<1:31:18,  1.93s/it]"
     ]
    },
    {
     "name": "stdout",
     "output_type": "stream",
     "text": [
      "No data found for 1865.T. Skipping...\n"
     ]
    },
    {
     "name": "stderr",
     "output_type": "stream",
     "text": [
      "[*********************100%***********************]  1 of 1 completed/4062 [31:18<1:46:14,  2.25s/it]\n",
      "[*********************100%***********************]  1 of 1 completed/4062 [31:20<1:34:21,  2.00s/it]\n",
      "[*********************100%***********************]  1 of 1 completed/4062 [31:21<1:24:41,  1.80s/it]\n",
      "[*********************100%***********************]  1 of 1 completed/4062 [31:23<1:18:14,  1.66s/it]\n",
      "\n",
      "1 Failed download:\n",
      "['1606.T']: YFPricesMissingError('$%ticker%: possibly delisted; no price data found  (1d 2024-10-13 -> 2024-10-20)')\n",
      " 30%|█████████████████▎                                       | 1234/4062 [31:23<1:18:14,  1.66s/it]"
     ]
    },
    {
     "name": "stdout",
     "output_type": "stream",
     "text": [
      "No data found for 1606.T. Skipping...\n"
     ]
    },
    {
     "name": "stderr",
     "output_type": "stream",
     "text": [
      "[*********************100%***********************]  1 of 1 completed/4062 [31:24<1:13:08,  1.55s/it]\n",
      "[*********************100%***********************]  1 of 1 completed/4062 [31:25<1:09:12,  1.47s/it]\n",
      "[*********************100%***********************]  1 of 1 completed/4062 [31:26<1:07:46,  1.44s/it]\n",
      "[*********************100%***********************]  1 of 1 completed/4062 [31:28<1:06:28,  1.41s/it]\n",
      "[*********************100%***********************]  1 of 1 completed/4062 [31:29<1:05:30,  1.39s/it]\n",
      "\n",
      "1 Failed download:\n",
      "['4517.T']: YFTzMissingError('$%ticker%: possibly delisted; no timezone found')\n",
      " 31%|█████████████████▍                                       | 1239/4062 [31:31<1:05:30,  1.39s/it]"
     ]
    },
    {
     "name": "stdout",
     "output_type": "stream",
     "text": [
      "No data found for 4517.T. Skipping...\n"
     ]
    },
    {
     "name": "stderr",
     "output_type": "stream",
     "text": [
      "[*********************100%***********************]  1 of 1 completed/4062 [31:32<1:25:12,  1.81s/it]\n",
      "[*********************100%***********************]  1 of 1 completed/4062 [31:33<1:18:18,  1.67s/it]\n",
      "[*********************100%***********************]  1 of 1 completed/4062 [31:35<1:13:37,  1.57s/it]\n",
      "[*********************100%***********************]  1 of 1 completed/4062 [31:36<1:10:23,  1.50s/it]\n",
      "[*********************100%***********************]  1 of 1 completed/4062 [31:37<1:08:00,  1.45s/it]\n",
      "\n",
      "1 Failed download:\n",
      "['2145.T']: YFTzMissingError('$%ticker%: possibly delisted; no timezone found')\n",
      " 31%|█████████████████▍                                       | 1244/4062 [31:38<1:08:00,  1.45s/it]"
     ]
    },
    {
     "name": "stdout",
     "output_type": "stream",
     "text": [
      "No data found for 2145.T. Skipping...\n"
     ]
    },
    {
     "name": "stderr",
     "output_type": "stream",
     "text": [
      "[*********************100%***********************]  1 of 1 completed/4062 [31:39<1:17:51,  1.66s/it]\n",
      "[*********************100%***********************]  1 of 1 completed/4062 [31:41<1:13:28,  1.57s/it]\n",
      "\n",
      "1 Failed download:\n",
      "['8994.T']: YFTzMissingError('$%ticker%: possibly delisted; no timezone found')\n",
      " 31%|█████████████████▍                                       | 1246/4062 [31:42<1:13:28,  1.57s/it]"
     ]
    },
    {
     "name": "stdout",
     "output_type": "stream",
     "text": [
      "No data found for 8994.T. Skipping...\n"
     ]
    },
    {
     "name": "stderr",
     "output_type": "stream",
     "text": [
      "[*********************100%***********************]  1 of 1 completed/4062 [31:43<1:23:09,  1.77s/it]\n",
      "[*********************100%***********************]  1 of 1 completed/4062 [31:44<1:17:11,  1.65s/it]\n",
      "[*********************100%***********************]  1 of 1 completed/4062 [31:46<1:12:19,  1.54s/it]\n",
      "[*********************100%***********************]  1 of 1 completed/4062 [31:47<1:09:28,  1.48s/it]\n",
      "[*********************100%***********************]  1 of 1 completed/4062 [31:48<1:06:40,  1.42s/it]\n",
      "[*********************100%***********************]  1 of 1 completed/4062 [31:50<1:05:29,  1.40s/it]\n",
      "[*********************100%***********************]  1 of 1 completed/4062 [31:51<1:04:24,  1.38s/it]\n",
      "[*********************100%***********************]  1 of 1 completed/4062 [31:52<1:03:40,  1.36s/it]\n",
      "[*********************100%***********************]  1 of 1 completed/4062 [31:54<1:03:32,  1.36s/it]\n",
      "\n",
      "1 Failed download:\n",
      "['7838.T']: YFTzMissingError('$%ticker%: possibly delisted; no timezone found')\n",
      " 31%|█████████████████▌                                       | 1255/4062 [31:55<1:03:32,  1.36s/it]"
     ]
    },
    {
     "name": "stdout",
     "output_type": "stream",
     "text": [
      "No data found for 7838.T. Skipping...\n"
     ]
    },
    {
     "name": "stderr",
     "output_type": "stream",
     "text": [
      "[*********************100%***********************]  1 of 1 completed/4062 [31:56<1:13:34,  1.57s/it]\n",
      "[*********************100%***********************]  1 of 1 completed/4062 [31:57<1:09:52,  1.49s/it]\n",
      "[*********************100%***********************]  1 of 1 completed/4062 [31:58<1:06:56,  1.43s/it]\n",
      "[*********************100%***********************]  1 of 1 completed/4062 [32:00<1:05:52,  1.41s/it]\n",
      "[*********************100%***********************]  1 of 1 completed/4062 [32:01<1:04:42,  1.39s/it]\n",
      "[*********************100%***********************]  1 of 1 completed/4062 [32:02<1:03:56,  1.37s/it]\n",
      "[*********************100%***********************]  1 of 1 completed/4062 [32:04<1:02:49,  1.35s/it]\n",
      "[*********************100%***********************]  1 of 1 completed/4062 [32:05<1:02:05,  1.33s/it]\n",
      "[*********************100%***********************]  1 of 1 completed/4062 [32:06<1:01:45,  1.32s/it]\n",
      "[*********************100%***********************]  1 of 1 completed/4062 [32:08<1:01:54,  1.33s/it]\n",
      "\n",
      "1 Failed download:\n",
      "['9671.T']: YFTzMissingError('$%ticker%: possibly delisted; no timezone found')\n",
      " 31%|█████████████████▊                                       | 1265/4062 [32:09<1:01:54,  1.33s/it]"
     ]
    },
    {
     "name": "stdout",
     "output_type": "stream",
     "text": [
      "No data found for 9671.T. Skipping...\n"
     ]
    },
    {
     "name": "stderr",
     "output_type": "stream",
     "text": [
      "[*********************100%***********************]  1 of 1 completed/4062 [32:10<1:20:13,  1.72s/it]\n",
      "[*********************100%***********************]  1 of 1 completed/4062 [32:12<1:14:49,  1.61s/it]\n",
      "[*********************100%***********************]  1 of 1 completed/4062 [32:13<1:11:07,  1.53s/it]\n",
      "[*********************100%***********************]  1 of 1 completed/4062 [32:14<1:08:45,  1.48s/it]\n",
      "\n",
      "1 Failed download:\n",
      "['7913.T']: YFTzMissingError('$%ticker%: possibly delisted; no timezone found')\n",
      " 31%|█████████████████▊                                       | 1269/4062 [32:15<1:08:45,  1.48s/it]"
     ]
    },
    {
     "name": "stdout",
     "output_type": "stream",
     "text": [
      "No data found for 7913.T. Skipping...\n"
     ]
    },
    {
     "name": "stderr",
     "output_type": "stream",
     "text": [
      "[*********************100%***********************]  1 of 1 completed/4062 [32:16<1:18:24,  1.69s/it]\n",
      "[*********************100%***********************]  1 of 1 completed/4062 [32:18<1:13:08,  1.57s/it]\n",
      "\n",
      "1 Failed download:\n",
      "['7703.T']: YFTzMissingError('$%ticker%: possibly delisted; no timezone found')\n",
      " 31%|█████████████████▊                                       | 1271/4062 [32:19<1:13:08,  1.57s/it]"
     ]
    },
    {
     "name": "stdout",
     "output_type": "stream",
     "text": [
      "No data found for 7703.T. Skipping...\n"
     ]
    },
    {
     "name": "stderr",
     "output_type": "stream",
     "text": [
      "[*********************100%***********************]  1 of 1 completed/4062 [32:20<1:26:18,  1.86s/it]\n",
      "[*********************100%***********************]  1 of 1 completed/4062 [32:22<1:19:17,  1.71s/it]\n",
      "[*********************100%***********************]  1 of 1 completed/4062 [32:23<1:14:03,  1.59s/it]\n",
      "[*********************100%***********************]  1 of 1 completed/4062 [32:24<1:12:42,  1.57s/it]\n",
      "[*********************100%***********************]  1 of 1 completed/4062 [32:26<1:09:24,  1.49s/it]\n",
      "[*********************100%***********************]  1 of 1 completed/4062 [32:27<1:07:03,  1.44s/it]\n",
      "\n",
      "1 Failed download:\n",
      "['7834.T']: YFTzMissingError('$%ticker%: possibly delisted; no timezone found')\n",
      " 31%|█████████████████▉                                       | 1277/4062 [32:28<1:07:03,  1.44s/it]"
     ]
    },
    {
     "name": "stdout",
     "output_type": "stream",
     "text": [
      "No data found for 7834.T. Skipping...\n"
     ]
    },
    {
     "name": "stderr",
     "output_type": "stream",
     "text": [
      "[*********************100%***********************]  1 of 1 completed/4062 [32:29<1:18:01,  1.68s/it]\n",
      "[*********************100%***********************]  1 of 1 completed/4062 [32:31<1:13:29,  1.58s/it]\n",
      "\n",
      "1 Failed download:\n",
      "['3055.T']: YFTzMissingError('$%ticker%: possibly delisted; no timezone found')\n",
      " 31%|█████████████████▉                                       | 1279/4062 [32:32<1:13:29,  1.58s/it]"
     ]
    },
    {
     "name": "stdout",
     "output_type": "stream",
     "text": [
      "No data found for 3055.T. Skipping...\n"
     ]
    },
    {
     "name": "stderr",
     "output_type": "stream",
     "text": [
      "[*********************100%***********************]  1 of 1 completed/4062 [32:33<1:22:36,  1.78s/it]\n",
      "[*********************100%***********************]  1 of 1 completed/4062 [32:34<1:16:48,  1.66s/it]\n",
      "\n",
      "1 Failed download:\n",
      "['5358.T']: YFTzMissingError('$%ticker%: possibly delisted; no timezone found')\n",
      " 32%|█████████████████▉                                       | 1281/4062 [32:36<1:16:48,  1.66s/it]"
     ]
    },
    {
     "name": "stdout",
     "output_type": "stream",
     "text": [
      "No data found for 5358.T. Skipping...\n"
     ]
    },
    {
     "name": "stderr",
     "output_type": "stream",
     "text": [
      "[*********************100%***********************]  1 of 1 completed/4062 [32:37<1:31:49,  1.98s/it]\n",
      "[*********************100%***********************]  1 of 1 completed/4062 [32:38<1:22:50,  1.79s/it]\n",
      "\n",
      "1 Failed download:\n",
      "['2402.T']: YFTzMissingError('$%ticker%: possibly delisted; no timezone found')\n",
      " 32%|██████████████████                                       | 1283/4062 [32:39<1:22:50,  1.79s/it]"
     ]
    },
    {
     "name": "stdout",
     "output_type": "stream",
     "text": [
      "No data found for 2402.T. Skipping...\n"
     ]
    },
    {
     "name": "stderr",
     "output_type": "stream",
     "text": [
      "[*********************100%***********************]  1 of 1 completed/4062 [32:40<1:26:54,  1.88s/it]\n",
      "[*********************100%***********************]  1 of 1 completed/4062 [32:42<1:19:15,  1.71s/it]\n",
      "[*********************100%***********************]  1 of 1 completed/4062 [32:43<1:14:02,  1.60s/it]\n",
      "\n",
      "1 Failed download:\n",
      "['8536.T']: YFPricesMissingError('$%ticker%: possibly delisted; no price data found  (1d 2024-10-13 -> 2024-10-20)')\n",
      " 32%|██████████████████                                       | 1286/4062 [32:43<1:14:02,  1.60s/it]"
     ]
    },
    {
     "name": "stdout",
     "output_type": "stream",
     "text": [
      "No data found for 8536.T. Skipping...\n"
     ]
    },
    {
     "name": "stderr",
     "output_type": "stream",
     "text": [
      "[*********************100%***********************]  1 of 1 completed/4062 [32:44<1:09:11,  1.50s/it]\n",
      "\n",
      "1 Failed download:\n",
      "['4201.T']: YFPricesMissingError('$%ticker%: possibly delisted; no price data found  (1d 2024-10-13 -> 2024-10-20)')\n",
      " 32%|██████████████████                                       | 1287/4062 [32:45<1:09:11,  1.50s/it]"
     ]
    },
    {
     "name": "stdout",
     "output_type": "stream",
     "text": [
      "No data found for 4201.T. Skipping...\n"
     ]
    },
    {
     "name": "stderr",
     "output_type": "stream",
     "text": [
      "[*********************100%***********************]  1 of 1 completed/4062 [32:46<1:06:12,  1.43s/it]\n",
      "[*********************100%***********************]  1 of 1 completed/4062 [32:47<1:09:25,  1.50s/it]\n",
      "[*********************100%***********************]  1 of 1 completed/4062 [32:49<1:07:26,  1.46s/it]\n",
      "[*********************100%***********************]  1 of 1 completed/4062 [32:50<1:05:17,  1.41s/it]\n",
      "[*********************100%***********************]  1 of 1 completed/4062 [32:51<1:04:26,  1.40s/it]\n",
      "[*********************100%***********************]  1 of 1 completed/4062 [32:53<1:03:45,  1.38s/it]\n",
      "[*********************100%***********************]  1 of 1 completed/4062 [32:54<1:02:54,  1.36s/it]\n",
      "[*********************100%***********************]  1 of 1 completed/4062 [32:55<1:01:47,  1.34s/it]\n",
      "\n",
      "1 Failed download:\n",
      "['2611.T']: YFTzMissingError('$%ticker%: possibly delisted; no timezone found')\n",
      " 32%|██████████████████▏                                      | 1295/4062 [32:57<1:01:47,  1.34s/it]"
     ]
    },
    {
     "name": "stdout",
     "output_type": "stream",
     "text": [
      "No data found for 2611.T. Skipping...\n"
     ]
    },
    {
     "name": "stderr",
     "output_type": "stream",
     "text": [
      "[*********************100%***********************]  1 of 1 completed/4062 [32:58<1:18:04,  1.69s/it]\n",
      "[*********************100%***********************]  1 of 1 completed/4062 [32:59<1:12:44,  1.58s/it]\n",
      "[*********************100%***********************]  1 of 1 completed/4062 [33:00<1:09:15,  1.50s/it]\n",
      "[*********************100%***********************]  1 of 1 completed/4062 [33:02<1:06:10,  1.44s/it]\n",
      "\n",
      "1 Failed download:\n",
      "['1733.T']: YFTzMissingError('$%ticker%: possibly delisted; no timezone found')\n",
      " 32%|██████████████████▏                                      | 1299/4062 [33:04<1:06:10,  1.44s/it]"
     ]
    },
    {
     "name": "stdout",
     "output_type": "stream",
     "text": [
      "No data found for 1733.T. Skipping...\n"
     ]
    },
    {
     "name": "stderr",
     "output_type": "stream",
     "text": [
      "[*********************100%***********************]  1 of 1 completed/4062 [33:05<1:24:52,  1.84s/it]\n",
      "[*********************100%***********************]  1 of 1 completed/4062 [33:06<1:17:52,  1.69s/it]\n",
      "[*********************100%***********************]  1 of 1 completed/4062 [33:07<1:12:33,  1.58s/it]\n",
      "[*********************100%***********************]  1 of 1 completed/4062 [33:09<1:09:03,  1.50s/it]\n",
      "\n",
      "1 Failed download:\n",
      "['7243.T']: YFPricesMissingError('$%ticker%: possibly delisted; no price data found  (1d 2024-10-13 -> 2024-10-20)')\n",
      " 32%|██████████████████▎                                      | 1303/4062 [33:09<1:09:03,  1.50s/it]"
     ]
    },
    {
     "name": "stdout",
     "output_type": "stream",
     "text": [
      "No data found for 7243.T. Skipping...\n"
     ]
    },
    {
     "name": "stderr",
     "output_type": "stream",
     "text": [
      "[*********************100%***********************]  1 of 1 completed/4062 [33:10<1:05:52,  1.43s/it]\n",
      "[*********************100%***********************]  1 of 1 completed/4062 [33:11<1:05:42,  1.43s/it]\n",
      "[*********************100%***********************]  1 of 1 completed/4062 [33:13<1:04:06,  1.40s/it]\n",
      "[*********************100%***********************]  1 of 1 completed/4062 [33:14<1:02:50,  1.37s/it]\n",
      "[*********************100%***********************]  1 of 1 completed/4062 [33:15<1:02:38,  1.36s/it]\n",
      "[*********************100%***********************]  1 of 1 completed/4062 [33:17<1:01:59,  1.35s/it]\n",
      "[*********************100%***********************]  1 of 1 completed/4062 [33:18<1:03:31,  1.38s/it]\n",
      "[*********************100%***********************]  1 of 1 completed/4062 [33:19<1:03:04,  1.38s/it]\n",
      "\n",
      "1 Failed download:\n",
      "['2049.T']: YFTzMissingError('$%ticker%: possibly delisted; no timezone found')\n",
      " 32%|██████████████████▍                                      | 1311/4062 [33:21<1:03:04,  1.38s/it]"
     ]
    },
    {
     "name": "stdout",
     "output_type": "stream",
     "text": [
      "No data found for 2049.T. Skipping...\n"
     ]
    },
    {
     "name": "stderr",
     "output_type": "stream",
     "text": [
      "[*********************100%***********************]  1 of 1 completed/4062 [33:22<1:16:51,  1.68s/it]\n",
      "[*********************100%***********************]  1 of 1 completed/4062 [33:23<1:11:39,  1.56s/it]\n",
      "[*********************100%***********************]  1 of 1 completed/4062 [33:25<1:13:00,  1.59s/it]\n",
      "[*********************100%***********************]  1 of 1 completed/4062 [33:26<1:10:03,  1.53s/it]\n",
      "\n",
      "1 Failed download:\n",
      "['8423.T']: YFPricesMissingError('$%ticker%: possibly delisted; no price data found  (1d 2024-10-13 -> 2024-10-20)')\n",
      " 32%|██████████████████▍                                      | 1315/4062 [33:26<1:10:03,  1.53s/it]"
     ]
    },
    {
     "name": "stdout",
     "output_type": "stream",
     "text": [
      "No data found for 8423.T. Skipping...\n"
     ]
    },
    {
     "name": "stderr",
     "output_type": "stream",
     "text": [
      "[*********************100%***********************]  1 of 1 completed/4062 [33:27<1:06:48,  1.46s/it]\n",
      "[*********************100%***********************]  1 of 1 completed/4062 [33:29<1:04:30,  1.41s/it]\n",
      "[*********************100%***********************]  1 of 1 completed/4062 [33:30<1:03:25,  1.39s/it]\n",
      "[*********************100%***********************]  1 of 1 completed/4062 [33:31<1:01:50,  1.35s/it]\n",
      "[*********************100%***********************]  1 of 1 completed/4062 [33:33<1:02:05,  1.36s/it]\n",
      "[*********************100%***********************]  1 of 1 completed/4062 [33:34<1:01:16,  1.34s/it]\n",
      "[*********************100%***********************]  1 of 1 completed/4062 [33:35<1:01:06,  1.34s/it]\n",
      "[*********************100%***********************]  1 of 1 completed/4062 [33:37<1:00:56,  1.33s/it]\n",
      "[*********************100%***********************]  1 of 1 completed/4062 [33:38<1:00:18,  1.32s/it]\n",
      "\n",
      "1 Failed download:\n",
      "['6032.T']: YFTzMissingError('$%ticker%: possibly delisted; no timezone found')\n",
      " 33%|██████████████████▌                                      | 1324/4062 [33:39<1:00:18,  1.32s/it]"
     ]
    },
    {
     "name": "stdout",
     "output_type": "stream",
     "text": [
      "No data found for 6032.T. Skipping...\n"
     ]
    },
    {
     "name": "stderr",
     "output_type": "stream",
     "text": [
      " 33%|██████████████████▌                                      | 1325/4062 [33:40<1:10:53,  1.55s/it]Failed to get ticker '3852.T' reason: Response ended prematurely\n",
      "[*********************100%***********************]  1 of 1 completed\n",
      "\n",
      "1 Failed download:\n",
      "['3852.T']: YFTzMissingError('$%ticker%: possibly delisted; no timezone found')\n",
      " 33%|██████████████████▌                                      | 1325/4062 [33:43<1:10:53,  1.55s/it]"
     ]
    },
    {
     "name": "stdout",
     "output_type": "stream",
     "text": [
      "No data found for 3852.T. Skipping...\n"
     ]
    },
    {
     "name": "stderr",
     "output_type": "stream",
     "text": [
      "[*********************100%***********************]  1 of 1 completed/4062 [33:44<1:40:17,  2.20s/it]\n",
      "[*********************100%***********************]  1 of 1 completed/4062 [33:46<1:39:25,  2.18s/it]\n",
      "[*********************100%***********************]  1 of 1 completed/4062 [33:47<1:28:08,  1.93s/it]\n",
      "\n",
      "1 Failed download:\n",
      "['6709.T']: YFTzMissingError('$%ticker%: possibly delisted; no timezone found')\n",
      " 33%|██████████████████▋                                      | 1328/4062 [33:49<1:28:08,  1.93s/it]"
     ]
    },
    {
     "name": "stdout",
     "output_type": "stream",
     "text": [
      "No data found for 6709.T. Skipping...\n"
     ]
    },
    {
     "name": "stderr",
     "output_type": "stream",
     "text": [
      "[*********************100%***********************]  1 of 1 completed/4062 [33:50<1:45:08,  2.31s/it]\n",
      "[*********************100%***********************]  1 of 1 completed/4062 [33:52<1:31:57,  2.02s/it]\n",
      "[*********************100%***********************]  1 of 1 completed/4062 [33:53<1:22:38,  1.82s/it]\n",
      "[*********************100%***********************]  1 of 1 completed/4062 [33:54<1:15:50,  1.67s/it]\n",
      "\n",
      "1 Failed download:\n",
      "['2905.T']: YFTzMissingError('$%ticker%: possibly delisted; no timezone found')\n",
      " 33%|██████████████████▋                                      | 1332/4062 [33:56<1:15:50,  1.67s/it]"
     ]
    },
    {
     "name": "stdout",
     "output_type": "stream",
     "text": [
      "No data found for 2905.T. Skipping...\n"
     ]
    },
    {
     "name": "stderr",
     "output_type": "stream",
     "text": [
      "[*********************100%***********************]  1 of 1 completed/4062 [33:57<1:28:37,  1.95s/it]\n",
      "[*********************100%***********************]  1 of 1 completed/4062 [33:58<1:19:57,  1.76s/it]\n",
      "[*********************100%***********************]  1 of 1 completed/4062 [34:00<1:14:10,  1.63s/it]\n",
      "[*********************100%***********************]  1 of 1 completed/4062 [34:01<1:09:24,  1.53s/it]\n",
      "[*********************100%***********************]  1 of 1 completed/4062 [34:02<1:06:55,  1.47s/it]\n",
      "[*********************100%***********************]  1 of 1 completed/4062 [34:04<1:04:28,  1.42s/it]\n",
      "[*********************100%***********************]  1 of 1 completed/4062 [34:05<1:02:35,  1.38s/it]\n",
      "[*********************100%***********************]  1 of 1 completed/4062 [34:06<1:02:03,  1.37s/it]\n",
      "\n",
      "1 Failed download:\n",
      "['3336.T']: YFTzMissingError('$%ticker%: possibly delisted; no timezone found')\n",
      " 33%|██████████████████▊                                      | 1340/4062 [34:08<1:02:03,  1.37s/it]"
     ]
    },
    {
     "name": "stdout",
     "output_type": "stream",
     "text": [
      "No data found for 3336.T. Skipping...\n"
     ]
    },
    {
     "name": "stderr",
     "output_type": "stream",
     "text": [
      "[*********************100%***********************]  1 of 1 completed/4062 [34:09<1:21:52,  1.81s/it]\n",
      "\n",
      "1 Failed download:\n",
      "['6121.T']: YFTzMissingError('$%ticker%: possibly delisted; no timezone found')\n",
      " 33%|██████████████████▊                                      | 1341/4062 [34:10<1:21:52,  1.81s/it]"
     ]
    },
    {
     "name": "stdout",
     "output_type": "stream",
     "text": [
      "No data found for 6121.T. Skipping...\n"
     ]
    },
    {
     "name": "stderr",
     "output_type": "stream",
     "text": [
      "[*********************100%***********************]  1 of 1 completed/4062 [34:11<1:30:48,  2.00s/it]\n",
      "[*********************100%***********************]  1 of 1 completed/4062 [34:13<1:21:48,  1.81s/it]\n",
      "[*********************100%***********************]  1 of 1 completed/4062 [34:14<1:15:12,  1.66s/it]\n",
      "[*********************100%***********************]  1 of 1 completed/4062 [34:15<1:10:57,  1.57s/it]\n",
      "[*********************100%***********************]  1 of 1 completed/4062 [34:17<1:07:30,  1.49s/it]\n",
      "[*********************100%***********************]  1 of 1 completed/4062 [34:18<1:05:31,  1.45s/it]\n",
      "[*********************100%***********************]  1 of 1 completed/4062 [34:19<1:03:59,  1.41s/it]\n",
      "[*********************100%***********************]  1 of 1 completed/4062 [34:21<1:02:49,  1.39s/it]\n",
      "[*********************100%***********************]  1 of 1 completed/4062 [34:22<1:02:09,  1.38s/it]\n",
      "[*********************100%***********************]  1 of 1 completed/4062 [34:23<1:00:58,  1.35s/it]\n",
      "\n",
      "1 Failed download:\n",
      "['8530.T']: YFTzMissingError('$%ticker%: possibly delisted; no timezone found')\n",
      " 33%|██████████████████▉                                      | 1351/4062 [34:25<1:00:58,  1.35s/it]"
     ]
    },
    {
     "name": "stdout",
     "output_type": "stream",
     "text": [
      "No data found for 8530.T. Skipping...\n"
     ]
    },
    {
     "name": "stderr",
     "output_type": "stream",
     "text": [
      "[*********************100%***********************]  1 of 1 completed/4062 [34:26<1:20:26,  1.78s/it]\n",
      "[*********************100%***********************]  1 of 1 completed/4062 [34:28<1:13:53,  1.64s/it]\n",
      "\n",
      "1 Failed download:\n",
      "['8256.T']: YFTzMissingError('$%ticker%: possibly delisted; no timezone found')\n",
      " 33%|██████████████████▉                                      | 1353/4062 [34:29<1:13:53,  1.64s/it]"
     ]
    },
    {
     "name": "stdout",
     "output_type": "stream",
     "text": [
      "No data found for 8256.T. Skipping...\n"
     ]
    },
    {
     "name": "stderr",
     "output_type": "stream",
     "text": [
      "[*********************100%***********************]  1 of 1 completed/4062 [34:30<1:23:33,  1.85s/it]\n",
      "[*********************100%***********************]  1 of 1 completed/4062 [34:31<1:17:37,  1.72s/it]\n",
      "\n",
      "1 Failed download:\n",
      "['4726.T']: YFPricesMissingError('$%ticker%: possibly delisted; no price data found  (1d 2024-10-13 -> 2024-10-20)')\n",
      " 33%|███████████████████                                      | 1355/4062 [34:32<1:17:37,  1.72s/it]"
     ]
    },
    {
     "name": "stdout",
     "output_type": "stream",
     "text": [
      "No data found for 4726.T. Skipping...\n"
     ]
    },
    {
     "name": "stderr",
     "output_type": "stream",
     "text": [
      "[*********************100%***********************]  1 of 1 completed/4062 [34:33<1:13:43,  1.63s/it]\n",
      "[*********************100%***********************]  1 of 1 completed/4062 [34:34<1:09:49,  1.55s/it]\n",
      "[*********************100%***********************]  1 of 1 completed/4062 [34:36<1:10:17,  1.56s/it]\n",
      "\n",
      "1 Failed download:\n",
      "['1643.T']: YFPricesMissingError('$%ticker%: possibly delisted; no price data found  (1d 2024-10-13 -> 2024-10-20)')\n",
      " 33%|███████████████████                                      | 1358/4062 [34:36<1:10:17,  1.56s/it]"
     ]
    },
    {
     "name": "stdout",
     "output_type": "stream",
     "text": [
      "No data found for 1643.T. Skipping...\n"
     ]
    },
    {
     "name": "stderr",
     "output_type": "stream",
     "text": [
      "[*********************100%***********************]  1 of 1 completed/4062 [34:37<1:06:31,  1.48s/it]\n",
      "[*********************100%***********************]  1 of 1 completed/4062 [34:38<1:04:38,  1.44s/it]\n",
      "[*********************100%***********************]  1 of 1 completed/4062 [34:40<1:02:47,  1.40s/it]\n",
      "\n",
      "1 Failed download:\n",
      "['7274.T']: YFTzMissingError('$%ticker%: possibly delisted; no timezone found')\n",
      " 34%|███████████████████                                      | 1361/4062 [34:41<1:02:47,  1.40s/it]"
     ]
    },
    {
     "name": "stdout",
     "output_type": "stream",
     "text": [
      "No data found for 7274.T. Skipping...\n"
     ]
    },
    {
     "name": "stderr",
     "output_type": "stream",
     "text": [
      "[*********************100%***********************]  1 of 1 completed/4062 [34:42<1:12:55,  1.62s/it]\n",
      "[*********************100%***********************]  1 of 1 completed/4062 [34:43<1:08:48,  1.53s/it]\n",
      "[*********************100%***********************]  1 of 1 completed/4062 [34:44<1:06:01,  1.47s/it]\n",
      "\n",
      "1 Failed download:\n",
      "['6796.T']: YFTzMissingError('$%ticker%: possibly delisted; no timezone found')\n",
      " 34%|███████████████████▏                                     | 1364/4062 [34:46<1:06:01,  1.47s/it]"
     ]
    },
    {
     "name": "stdout",
     "output_type": "stream",
     "text": [
      "No data found for 6796.T. Skipping...\n"
     ]
    },
    {
     "name": "stderr",
     "output_type": "stream",
     "text": [
      "[*********************100%***********************]  1 of 1 completed/4062 [34:47<1:19:44,  1.77s/it]\n",
      "[*********************100%***********************]  1 of 1 completed/4062 [34:48<1:14:17,  1.65s/it]\n",
      "\n",
      "1 Failed download:\n",
      "['6409.T']: YFTzMissingError('$%ticker%: possibly delisted; no timezone found')\n",
      " 34%|███████████████████▏                                     | 1366/4062 [34:50<1:14:17,  1.65s/it]"
     ]
    },
    {
     "name": "stdout",
     "output_type": "stream",
     "text": [
      "No data found for 6409.T. Skipping...\n"
     ]
    },
    {
     "name": "stderr",
     "output_type": "stream",
     "text": [
      "[*********************100%***********************]  1 of 1 completed/4062 [34:51<1:23:25,  1.86s/it]\n",
      "[*********************100%***********************]  1 of 1 completed/4062 [34:52<1:16:11,  1.70s/it]\n",
      "[*********************100%***********************]  1 of 1 completed/4062 [34:53<1:11:20,  1.59s/it]\n",
      "\n",
      "1 Failed download:\n",
      "['6205.T']: YFTzMissingError('$%ticker%: possibly delisted; no timezone found')\n",
      " 34%|███████████████████▏                                     | 1369/4062 [34:55<1:11:20,  1.59s/it]"
     ]
    },
    {
     "name": "stdout",
     "output_type": "stream",
     "text": [
      "No data found for 6205.T. Skipping...\n"
     ]
    },
    {
     "name": "stderr",
     "output_type": "stream",
     "text": [
      "[*********************100%***********************]  1 of 1 completed/4062 [34:56<1:23:00,  1.85s/it]\n",
      "[*********************100%***********************]  1 of 1 completed/4062 [34:57<1:16:58,  1.72s/it]\n",
      "[*********************100%***********************]  1 of 1 completed/4062 [34:58<1:11:48,  1.60s/it]\n",
      "[*********************100%***********************]  1 of 1 completed/4062 [35:00<1:07:28,  1.51s/it]\n",
      "[*********************100%***********************]  1 of 1 completed/4062 [35:01<1:06:22,  1.48s/it]\n",
      "[*********************100%***********************]  1 of 1 completed/4062 [35:02<1:04:44,  1.45s/it]\n",
      "[*********************100%***********************]  1 of 1 completed/4062 [35:04<1:03:37,  1.42s/it]\n",
      "[*********************100%***********************]  1 of 1 completed/4062 [35:05<1:02:33,  1.40s/it]\n",
      "[*********************100%***********************]  1 of 1 completed/4062 [35:07<1:01:38,  1.38s/it]\n",
      "\n",
      "1 Failed download:\n",
      "['6259.T']: YFPricesMissingError('$%ticker%: possibly delisted; no price data found  (1d 2024-10-13 -> 2024-10-20)')\n",
      " 34%|███████████████████▎                                     | 1378/4062 [35:07<1:01:38,  1.38s/it]"
     ]
    },
    {
     "name": "stdout",
     "output_type": "stream",
     "text": [
      "No data found for 6259.T. Skipping...\n"
     ]
    },
    {
     "name": "stderr",
     "output_type": "stream",
     "text": [
      "[*********************100%***********************]  1 of 1 completed79/4062 [35:08<59:55,  1.34s/it]\n",
      "[*********************100%***********************]  1 of 1 completed/4062 [35:09<1:00:34,  1.36s/it]\n",
      "[*********************100%***********************]  1 of 1 completed81/4062 [35:10<59:36,  1.33s/it]\n",
      "[*********************100%***********************]  1 of 1 completed82/4062 [35:12<59:29,  1.33s/it]\n",
      "[*********************100%***********************]  1 of 1 completed83/4062 [35:13<59:41,  1.34s/it]\n",
      "[*********************100%***********************]  1 of 1 completed/4062 [35:15<1:01:25,  1.38s/it]\n",
      "[*********************100%***********************]  1 of 1 completed/4062 [35:16<1:01:28,  1.38s/it]\n",
      "[*********************100%***********************]  1 of 1 completed/4062 [35:17<1:01:07,  1.37s/it]\n",
      "\n",
      "1 Failed download:\n",
      "['6591.T']: YFTzMissingError('$%ticker%: possibly delisted; no timezone found')\n",
      " 34%|███████████████████▍                                     | 1386/4062 [35:19<1:01:07,  1.37s/it]"
     ]
    },
    {
     "name": "stdout",
     "output_type": "stream",
     "text": [
      "No data found for 6591.T. Skipping...\n"
     ]
    },
    {
     "name": "stderr",
     "output_type": "stream",
     "text": [
      "[*********************100%***********************]  1 of 1 completed/4062 [35:20<1:17:18,  1.73s/it]\n",
      "[*********************100%***********************]  1 of 1 completed/4062 [35:21<1:12:13,  1.62s/it]\n",
      "\n",
      "1 Failed download:\n",
      "['8382.T']: YFTzMissingError('$%ticker%: possibly delisted; no timezone found')\n",
      " 34%|███████████████████▍                                     | 1388/4062 [35:23<1:12:13,  1.62s/it]"
     ]
    },
    {
     "name": "stdout",
     "output_type": "stream",
     "text": [
      "No data found for 8382.T. Skipping...\n"
     ]
    },
    {
     "name": "stderr",
     "output_type": "stream",
     "text": [
      "[*********************100%***********************]  1 of 1 completed/4062 [35:24<1:23:11,  1.87s/it]\n",
      "[*********************100%***********************]  1 of 1 completed/4062 [35:25<1:16:14,  1.71s/it]\n",
      "[*********************100%***********************]  1 of 1 completed/4062 [35:26<1:10:46,  1.59s/it]\n",
      "[*********************100%***********************]  1 of 1 completed/4062 [35:28<1:07:42,  1.52s/it]\n",
      "[*********************100%***********************]  1 of 1 completed/4062 [35:29<1:05:08,  1.46s/it]\n",
      "[*********************100%***********************]  1 of 1 completed/4062 [35:30<1:03:39,  1.43s/it]\n",
      "[*********************100%***********************]  1 of 1 completed/4062 [35:32<1:02:36,  1.41s/it]\n",
      "[*********************100%***********************]  1 of 1 completed/4062 [35:33<1:01:42,  1.39s/it]\n",
      "\n",
      "1 Failed download:\n",
      "['9758.T']: YFTzMissingError('$%ticker%: possibly delisted; no timezone found')\n",
      " 34%|███████████████████▌                                     | 1396/4062 [35:34<1:01:42,  1.39s/it]"
     ]
    },
    {
     "name": "stdout",
     "output_type": "stream",
     "text": [
      "No data found for 9758.T. Skipping...\n"
     ]
    },
    {
     "name": "stderr",
     "output_type": "stream",
     "text": [
      "[*********************100%***********************]  1 of 1 completed/4062 [35:35<1:13:22,  1.65s/it]\n",
      "[*********************100%***********************]  1 of 1 completed/4062 [35:37<1:08:46,  1.55s/it]\n",
      "[*********************100%***********************]  1 of 1 completed/4062 [35:38<1:05:39,  1.48s/it]\n",
      "[*********************100%***********************]  1 of 1 completed/4062 [35:39<1:03:47,  1.44s/it]\n",
      "\n",
      "1 Failed download:\n",
      "['8205.T']: YFTzMissingError('$%ticker%: possibly delisted; no timezone found')\n",
      " 34%|███████████████████▋                                     | 1400/4062 [35:41<1:03:47,  1.44s/it]"
     ]
    },
    {
     "name": "stdout",
     "output_type": "stream",
     "text": [
      "No data found for 8205.T. Skipping...\n"
     ]
    },
    {
     "name": "stderr",
     "output_type": "stream",
     "text": [
      "[*********************100%***********************]  1 of 1 completed/4062 [35:42<1:13:43,  1.66s/it]\n",
      "[*********************100%***********************]  1 of 1 completed/4062 [35:43<1:09:29,  1.57s/it]\n",
      "[*********************100%***********************]  1 of 1 completed/4062 [35:44<1:06:33,  1.50s/it]\n",
      "[*********************100%***********************]  1 of 1 completed/4062 [35:46<1:04:16,  1.45s/it]\n",
      "[*********************100%***********************]  1 of 1 completed/4062 [35:47<1:02:23,  1.41s/it]\n",
      "[*********************100%***********************]  1 of 1 completed/4062 [35:48<1:01:02,  1.38s/it]\n",
      "[*********************100%***********************]  1 of 1 completed/4062 [35:49<1:00:10,  1.36s/it]\n",
      "[*********************100%***********************]  1 of 1 completed08/4062 [35:51<59:53,  1.35s/it]\n",
      "[*********************100%***********************]  1 of 1 completed09/4062 [35:52<59:29,  1.35s/it]\n",
      "[*********************100%***********************]  1 of 1 completed10/4062 [35:53<58:59,  1.33s/it]\n",
      "[*********************100%***********************]  1 of 1 completed/4062 [35:55<1:03:41,  1.44s/it]\n",
      "[*********************100%***********************]  1 of 1 completed/4062 [35:57<1:02:26,  1.41s/it]\n",
      "[*********************100%***********************]  1 of 1 completed/4062 [35:58<1:00:54,  1.38s/it]\n",
      "[*********************100%***********************]  1 of 1 completed/4062 [35:59<1:00:13,  1.36s/it]\n",
      "[*********************100%***********************]  1 of 1 completed15/4062 [36:00<59:41,  1.35s/it]\n",
      "[*********************100%***********************]  1 of 1 completed16/4062 [36:02<59:29,  1.35s/it]\n",
      "[*********************100%***********************]  1 of 1 completed17/4062 [36:03<58:43,  1.33s/it]\n",
      "\n",
      "1 Failed download:\n",
      "['8087.T']: YFTzMissingError('$%ticker%: possibly delisted; no timezone found')\n",
      " 35%|████████████████████▌                                      | 1417/4062 [36:05<58:43,  1.33s/it]"
     ]
    },
    {
     "name": "stdout",
     "output_type": "stream",
     "text": [
      "No data found for 8087.T. Skipping...\n"
     ]
    },
    {
     "name": "stderr",
     "output_type": "stream",
     "text": [
      "[*********************100%***********************]  1 of 1 completed/4062 [36:06<1:13:26,  1.67s/it]\n",
      "[*********************100%***********************]  1 of 1 completed/4062 [36:07<1:08:59,  1.57s/it]\n",
      "[*********************100%***********************]  1 of 1 completed/4062 [36:08<1:05:46,  1.49s/it]\n",
      "[*********************100%***********************]  1 of 1 completed/4062 [36:10<1:03:37,  1.45s/it]\n",
      "[*********************100%***********************]  1 of 1 completed/4062 [36:11<1:02:20,  1.42s/it]\n",
      "[*********************100%***********************]  1 of 1 completed/4062 [36:12<1:01:50,  1.41s/it]\n",
      "[*********************100%***********************]  1 of 1 completed/4062 [36:14<1:00:28,  1.38s/it]\n",
      "\n",
      "1 Failed download:\n",
      "['1722.T']: YFTzMissingError('$%ticker%: possibly delisted; no timezone found')\n",
      " 35%|███████████████████▉                                     | 1424/4062 [36:15<1:00:28,  1.38s/it]"
     ]
    },
    {
     "name": "stdout",
     "output_type": "stream",
     "text": [
      "No data found for 1722.T. Skipping...\n"
     ]
    },
    {
     "name": "stderr",
     "output_type": "stream",
     "text": [
      "[*********************100%***********************]  1 of 1 completed/4062 [36:16<1:15:15,  1.71s/it]\n",
      "\n",
      "1 Failed download:\n",
      "['9899.T']: YFTzMissingError('$%ticker%: possibly delisted; no timezone found')\n",
      " 35%|███████████████████▉                                     | 1425/4062 [36:17<1:15:15,  1.71s/it]"
     ]
    },
    {
     "name": "stdout",
     "output_type": "stream",
     "text": [
      "No data found for 9899.T. Skipping...\n"
     ]
    },
    {
     "name": "stderr",
     "output_type": "stream",
     "text": [
      "[*********************100%***********************]  1 of 1 completed/4062 [36:18<1:20:15,  1.83s/it]\n",
      "[*********************100%***********************]  1 of 1 completed/4062 [36:20<1:13:59,  1.68s/it]\n",
      "[*********************100%***********************]  1 of 1 completed/4062 [36:21<1:11:13,  1.62s/it]\n",
      "[*********************100%***********************]  1 of 1 completed/4062 [36:22<1:06:42,  1.52s/it]\n",
      "[*********************100%***********************]  1 of 1 completed/4062 [36:24<1:04:19,  1.47s/it]\n",
      "[*********************100%***********************]  1 of 1 completed/4062 [36:25<1:02:27,  1.42s/it]\n",
      "[*********************100%***********************]  1 of 1 completed/4062 [36:26<1:01:13,  1.40s/it]\n",
      "[*********************100%***********************]  1 of 1 completed/4062 [36:28<1:01:05,  1.39s/it]\n",
      "[*********************100%***********************]  1 of 1 completed/4062 [36:29<1:04:54,  1.48s/it]\n",
      "[*********************100%***********************]  1 of 1 completed/4062 [36:31<1:02:41,  1.43s/it]\n",
      "[*********************100%***********************]  1 of 1 completed/4062 [36:32<1:01:05,  1.40s/it]\n",
      "\n",
      "1 Failed download:\n",
      "['6801.T']: YFPricesMissingError('$%ticker%: possibly delisted; no price data found  (1d 2024-10-13 -> 2024-10-20)')\n",
      " 35%|████████████████████▏                                    | 1436/4062 [36:32<1:01:05,  1.40s/it]"
     ]
    },
    {
     "name": "stdout",
     "output_type": "stream",
     "text": [
      "No data found for 6801.T. Skipping...\n"
     ]
    },
    {
     "name": "stderr",
     "output_type": "stream",
     "text": [
      "[*********************100%***********************]  1 of 1 completed37/4062 [36:33<59:36,  1.36s/it]\n",
      "[*********************100%***********************]  1 of 1 completed38/4062 [36:35<59:15,  1.36s/it]\n",
      "[*********************100%***********************]  1 of 1 completed39/4062 [36:36<59:00,  1.35s/it]\n",
      "[*********************100%***********************]  1 of 1 completed/4062 [36:37<1:00:17,  1.38s/it]\n",
      "[*********************100%***********************]  1 of 1 completed41/4062 [36:39<59:01,  1.35s/it]\n",
      "[*********************100%***********************]  1 of 1 completed42/4062 [36:40<58:48,  1.35s/it]\n",
      "[*********************100%***********************]  1 of 1 completed43/4062 [36:41<58:22,  1.34s/it]\n",
      "[*********************100%***********************]  1 of 1 completed44/4062 [36:43<58:20,  1.34s/it]\n",
      "[*********************100%***********************]  1 of 1 completed45/4062 [36:44<58:49,  1.35s/it]\n",
      "[*********************100%***********************]  1 of 1 completed46/4062 [36:45<58:45,  1.35s/it]\n",
      "[*********************100%***********************]  1 of 1 completed47/4062 [36:47<58:55,  1.35s/it]\n",
      "[*********************100%***********************]  1 of 1 completed48/4062 [36:48<58:31,  1.34s/it]\n",
      "\n",
      "1 Failed download:\n",
      "['6163.T']: YFTzMissingError('$%ticker%: possibly delisted; no timezone found')\n",
      " 36%|█████████████████████                                      | 1448/4062 [36:50<58:31,  1.34s/it]"
     ]
    },
    {
     "name": "stdout",
     "output_type": "stream",
     "text": [
      "No data found for 6163.T. Skipping...\n"
     ]
    },
    {
     "name": "stderr",
     "output_type": "stream",
     "text": [
      "[*********************100%***********************]  1 of 1 completed/4062 [36:51<1:13:28,  1.69s/it]\n",
      "[*********************100%***********************]  1 of 1 completed/4062 [36:52<1:08:55,  1.58s/it]\n",
      "[*********************100%***********************]  1 of 1 completed/4062 [36:53<1:06:40,  1.53s/it]\n",
      "\n",
      "1 Failed download:\n",
      "['3545.T']: YFTzMissingError('$%ticker%: possibly delisted; no timezone found')\n",
      " 36%|████████████████████▎                                    | 1451/4062 [36:55<1:06:40,  1.53s/it]"
     ]
    },
    {
     "name": "stdout",
     "output_type": "stream",
     "text": [
      "No data found for 3545.T. Skipping...\n"
     ]
    },
    {
     "name": "stderr",
     "output_type": "stream",
     "text": [
      "[*********************100%***********************]  1 of 1 completed/4062 [36:56<1:16:12,  1.75s/it]\n",
      "[*********************100%***********************]  1 of 1 completed/4062 [36:57<1:10:25,  1.62s/it]\n",
      "[*********************100%***********************]  1 of 1 completed/4062 [36:58<1:06:19,  1.53s/it]\n",
      "[*********************100%***********************]  1 of 1 completed/4062 [37:00<1:03:47,  1.47s/it]\n",
      "[*********************100%***********************]  1 of 1 completed/4062 [37:01<1:01:52,  1.42s/it]\n",
      "[*********************100%***********************]  1 of 1 completed/4062 [37:02<1:00:54,  1.40s/it]\n",
      "[*********************100%***********************]  1 of 1 completed/4062 [37:04<1:00:11,  1.39s/it]\n",
      "[*********************100%***********************]  1 of 1 completed/4062 [37:05<1:02:29,  1.44s/it]\n",
      "\n",
      "1 Failed download:\n",
      "['4924.T']: YFTzMissingError('$%ticker%: possibly delisted; no timezone found')\n",
      " 36%|████████████████████▍                                    | 1459/4062 [37:07<1:02:29,  1.44s/it]"
     ]
    },
    {
     "name": "stdout",
     "output_type": "stream",
     "text": [
      "No data found for 4924.T. Skipping...\n"
     ]
    },
    {
     "name": "stderr",
     "output_type": "stream",
     "text": [
      "[*********************100%***********************]  1 of 1 completed/4062 [37:08<1:15:21,  1.74s/it]\n",
      "[*********************100%***********************]  1 of 1 completed/4062 [37:09<1:10:09,  1.62s/it]\n",
      "[*********************100%***********************]  1 of 1 completed/4062 [37:10<1:06:05,  1.53s/it]\n",
      "[*********************100%***********************]  1 of 1 completed/4062 [37:12<1:03:39,  1.47s/it]\n",
      "\n",
      "1 Failed download:\n",
      "['7862.T']: YFTzMissingError('$%ticker%: possibly delisted; no timezone found')\n",
      " 36%|████████████████████▌                                    | 1463/4062 [37:13<1:03:39,  1.47s/it]"
     ]
    },
    {
     "name": "stdout",
     "output_type": "stream",
     "text": [
      "No data found for 7862.T. Skipping...\n"
     ]
    },
    {
     "name": "stderr",
     "output_type": "stream",
     "text": [
      "[*********************100%***********************]  1 of 1 completed/4062 [37:14<1:11:21,  1.65s/it]\n",
      "[*********************100%***********************]  1 of 1 completed/4062 [37:15<1:07:36,  1.56s/it]\n",
      "\n",
      "1 Failed download:\n",
      "['1971.T']: YFTzMissingError('$%ticker%: possibly delisted; no timezone found')\n",
      " 36%|████████████████████▌                                    | 1465/4062 [37:16<1:07:36,  1.56s/it]"
     ]
    },
    {
     "name": "stdout",
     "output_type": "stream",
     "text": [
      "No data found for 1971.T. Skipping...\n"
     ]
    },
    {
     "name": "stderr",
     "output_type": "stream",
     "text": [
      "[*********************100%***********************]  1 of 1 completed/4062 [37:17<1:17:16,  1.79s/it]\n",
      "[*********************100%***********************]  1 of 1 completed/4062 [37:19<1:11:40,  1.66s/it]\n",
      "[*********************100%***********************]  1 of 1 completed/4062 [37:20<1:07:09,  1.55s/it]\n",
      "[*********************100%***********************]  1 of 1 completed/4062 [37:21<1:04:14,  1.49s/it]\n",
      "[*********************100%***********************]  1 of 1 completed/4062 [37:23<1:02:25,  1.45s/it]\n",
      "[*********************100%***********************]  1 of 1 completed/4062 [37:24<1:04:42,  1.50s/it]\n",
      "\n",
      "1 Failed download:\n",
      "['9370.T']: YFPricesMissingError('$%ticker%: possibly delisted; no price data found  (1d 2024-10-13 -> 2024-10-20)')\n",
      " 36%|████████████████████▋                                    | 1471/4062 [37:25<1:04:42,  1.50s/it]"
     ]
    },
    {
     "name": "stdout",
     "output_type": "stream",
     "text": [
      "No data found for 9370.T. Skipping...\n"
     ]
    },
    {
     "name": "stderr",
     "output_type": "stream",
     "text": [
      "[*********************100%***********************]  1 of 1 completed/4062 [37:26<1:02:02,  1.44s/it]\n",
      "[*********************100%***********************]  1 of 1 completed/4062 [37:27<1:04:28,  1.49s/it]\n",
      "[*********************100%***********************]  1 of 1 completed/4062 [37:28<1:02:14,  1.44s/it]\n",
      "[*********************100%***********************]  1 of 1 completed/4062 [37:30<1:01:05,  1.42s/it]\n",
      "\n",
      "1 Failed download:\n",
      "['8274.T']: YFPricesMissingError('$%ticker%: possibly delisted; no price data found  (1d 2024-10-13 -> 2024-10-20)')\n",
      " 36%|████████████████████▋                                    | 1475/4062 [37:30<1:01:05,  1.42s/it]"
     ]
    },
    {
     "name": "stdout",
     "output_type": "stream",
     "text": [
      "No data found for 8274.T. Skipping...\n"
     ]
    },
    {
     "name": "stderr",
     "output_type": "stream",
     "text": [
      "[*********************100%***********************]  1 of 1 completed/4062 [37:31<1:00:04,  1.39s/it]\n",
      "[*********************100%***********************]  1 of 1 completed77/4062 [37:33<59:24,  1.38s/it]\n",
      "[*********************100%***********************]  1 of 1 completed78/4062 [37:34<58:48,  1.37s/it]\n",
      "[*********************100%***********************]  1 of 1 completed79/4062 [37:35<58:17,  1.35s/it]\n",
      "[*********************100%***********************]  1 of 1 completed80/4062 [37:37<59:00,  1.37s/it]\n",
      "[*********************100%***********************]  1 of 1 completed81/4062 [37:38<58:29,  1.36s/it]\n",
      "[*********************100%***********************]  1 of 1 completed82/4062 [37:39<58:12,  1.35s/it]\n",
      "[*********************100%***********************]  1 of 1 completed83/4062 [37:41<58:21,  1.36s/it]\n",
      "[*********************100%***********************]  1 of 1 completed84/4062 [37:42<58:19,  1.36s/it]\n",
      "[*********************100%***********************]  1 of 1 completed85/4062 [37:43<59:13,  1.38s/it]\n",
      "[*********************100%***********************]  1 of 1 completed86/4062 [37:45<58:35,  1.36s/it]\n",
      "[*********************100%***********************]  1 of 1 completed87/4062 [37:46<58:27,  1.36s/it]\n",
      "[*********************100%***********************]  1 of 1 completed88/4062 [37:47<57:29,  1.34s/it]\n",
      "[*********************100%***********************]  1 of 1 completed89/4062 [37:49<57:22,  1.34s/it]\n",
      "\n",
      "1 Failed download:\n",
      "['9133.T']: YFPricesMissingError('$%ticker%: possibly delisted; no price data found  (1d 2024-10-13 -> 2024-10-20)')\n",
      " 37%|█████████████████████▋                                     | 1489/4062 [37:49<57:22,  1.34s/it]"
     ]
    },
    {
     "name": "stdout",
     "output_type": "stream",
     "text": [
      "No data found for 9133.T. Skipping...\n"
     ]
    },
    {
     "name": "stderr",
     "output_type": "stream",
     "text": [
      "[*********************100%***********************]  1 of 1 completed90/4062 [37:50<57:07,  1.33s/it]\n",
      "[*********************100%***********************]  1 of 1 completed91/4062 [37:51<57:04,  1.33s/it]\n",
      "[*********************100%***********************]  1 of 1 completed92/4062 [37:53<57:07,  1.33s/it]\n",
      "[*********************100%***********************]  1 of 1 completed93/4062 [37:54<57:08,  1.33s/it]\n",
      "[*********************100%***********************]  1 of 1 completed94/4062 [37:55<57:18,  1.34s/it]\n",
      "[*********************100%***********************]  1 of 1 completed95/4062 [37:57<57:01,  1.33s/it]\n",
      "[*********************100%***********************]  1 of 1 completed96/4062 [37:58<56:25,  1.32s/it]\n",
      "[*********************100%***********************]  1 of 1 completed97/4062 [37:59<56:53,  1.33s/it]\n",
      "[*********************100%***********************]  1 of 1 completed98/4062 [38:01<57:45,  1.35s/it]\n",
      "[*********************100%***********************]  1 of 1 completed99/4062 [38:02<57:04,  1.34s/it]\n",
      "[*********************100%***********************]  1 of 1 completed00/4062 [38:03<57:09,  1.34s/it]\n",
      "\n",
      "1 Failed download:\n",
      "['7517.T']: YFPricesMissingError('$%ticker%: possibly delisted; no price data found  (1d 2024-10-13 -> 2024-10-20)')\n",
      " 37%|█████████████████████▊                                     | 1500/4062 [38:04<57:09,  1.34s/it]"
     ]
    },
    {
     "name": "stdout",
     "output_type": "stream",
     "text": [
      "No data found for 7517.T. Skipping...\n"
     ]
    },
    {
     "name": "stderr",
     "output_type": "stream",
     "text": [
      "[*********************100%***********************]  1 of 1 completed01/4062 [38:05<57:02,  1.34s/it]\n",
      "[*********************100%***********************]  1 of 1 completed02/4062 [38:06<57:03,  1.34s/it]\n",
      "[*********************100%***********************]  1 of 1 completed03/4062 [38:07<57:18,  1.34s/it]\n",
      "[*********************100%***********************]  1 of 1 completed04/4062 [38:09<58:13,  1.37s/it]\n",
      "[*********************100%***********************]  1 of 1 completed05/4062 [38:10<57:42,  1.35s/it]\n",
      "[*********************100%***********************]  1 of 1 completed06/4062 [38:12<57:52,  1.36s/it]\n",
      "[*********************100%***********************]  1 of 1 completed07/4062 [38:13<58:32,  1.37s/it]\n",
      "[*********************100%***********************]  1 of 1 completed08/4062 [38:14<58:07,  1.37s/it]\n",
      "[*********************100%***********************]  1 of 1 completed09/4062 [38:16<57:57,  1.36s/it]\n",
      "[*********************100%***********************]  1 of 1 completed10/4062 [38:17<57:56,  1.36s/it]\n",
      "\n",
      "1 Failed download:\n",
      "['9748.T']: YFPricesMissingError('$%ticker%: possibly delisted; no price data found  (1d 2024-10-13 -> 2024-10-20)')\n",
      " 37%|█████████████████████▉                                     | 1510/4062 [38:17<57:56,  1.36s/it]"
     ]
    },
    {
     "name": "stdout",
     "output_type": "stream",
     "text": [
      "No data found for 9748.T. Skipping...\n"
     ]
    },
    {
     "name": "stderr",
     "output_type": "stream",
     "text": [
      "[*********************100%***********************]  1 of 1 completed11/4062 [38:18<56:55,  1.34s/it]\n",
      "\n",
      "1 Failed download:\n",
      "['1310.T']: YFPricesMissingError('$%ticker%: possibly delisted; no price data found  (1d 2024-10-13 -> 2024-10-20)')\n",
      " 37%|█████████████████████▉                                     | 1511/4062 [38:19<56:55,  1.34s/it]"
     ]
    },
    {
     "name": "stdout",
     "output_type": "stream",
     "text": [
      "No data found for 1310.T. Skipping...\n"
     ]
    },
    {
     "name": "stderr",
     "output_type": "stream",
     "text": [
      "[*********************100%***********************]  1 of 1 completed12/4062 [38:20<57:04,  1.34s/it]\n",
      "[*********************100%***********************]  1 of 1 completed13/4062 [38:21<56:41,  1.33s/it]\n",
      "\n",
      "1 Failed download:\n",
      "['8369.T']: YFTzMissingError('$%ticker%: possibly delisted; no timezone found')\n",
      " 37%|█████████████████████▉                                     | 1513/4062 [38:23<56:41,  1.33s/it]"
     ]
    },
    {
     "name": "stdout",
     "output_type": "stream",
     "text": [
      "No data found for 8369.T. Skipping...\n"
     ]
    },
    {
     "name": "stderr",
     "output_type": "stream",
     "text": [
      "[*********************100%***********************]  1 of 1 completed/4062 [38:24<1:18:56,  1.86s/it]\n",
      "\n",
      "1 Failed download:\n",
      "['8096.T']: YFTzMissingError('$%ticker%: possibly delisted; no timezone found')\n",
      " 37%|█████████████████████▏                                   | 1514/4062 [38:26<1:18:56,  1.86s/it]"
     ]
    },
    {
     "name": "stdout",
     "output_type": "stream",
     "text": [
      "No data found for 8096.T. Skipping...\n"
     ]
    },
    {
     "name": "stderr",
     "output_type": "stream",
     "text": [
      "[*********************100%***********************]  1 of 1 completed/4062 [38:27<1:28:14,  2.08s/it]\n",
      "[*********************100%***********************]  1 of 1 completed/4062 [38:28<1:18:25,  1.85s/it]\n",
      "[*********************100%***********************]  1 of 1 completed/4062 [38:29<1:11:09,  1.68s/it]\n",
      "[*********************100%***********************]  1 of 1 completed/4062 [38:31<1:07:02,  1.58s/it]\n",
      "[*********************100%***********************]  1 of 1 completed/4062 [38:32<1:03:12,  1.49s/it]\n",
      "[*********************100%***********************]  1 of 1 completed/4062 [38:33<1:01:06,  1.44s/it]\n",
      "[*********************100%***********************]  1 of 1 completed21/4062 [38:35<59:38,  1.41s/it]\n",
      "[*********************100%***********************]  1 of 1 completed22/4062 [38:36<58:32,  1.38s/it]\n",
      "[*********************100%***********************]  1 of 1 completed23/4062 [38:37<57:57,  1.37s/it]\n",
      "[*********************100%***********************]  1 of 1 completed24/4062 [38:39<57:36,  1.36s/it]\n",
      "[*********************100%***********************]  1 of 1 completed25/4062 [38:40<57:57,  1.37s/it]\n",
      "[*********************100%***********************]  1 of 1 completed26/4062 [38:41<57:28,  1.36s/it]\n",
      "[*********************100%***********************]  1 of 1 completed27/4062 [38:43<57:24,  1.36s/it]\n",
      "[*********************100%***********************]  1 of 1 completed28/4062 [38:44<57:26,  1.36s/it]\n",
      "[*********************100%***********************]  1 of 1 completed29/4062 [38:45<57:50,  1.37s/it]\n",
      "[*********************100%***********************]  1 of 1 completed30/4062 [38:47<56:53,  1.35s/it]\n",
      "[*********************100%***********************]  1 of 1 completed31/4062 [38:48<57:04,  1.35s/it]\n",
      "[*********************100%***********************]  1 of 1 completed32/4062 [38:49<57:10,  1.36s/it]\n",
      "\n",
      "1 Failed download:\n",
      "['6924.T']: YFTzMissingError('$%ticker%: possibly delisted; no timezone found')\n",
      " 38%|██████████████████████▎                                    | 1532/4062 [38:51<57:10,  1.36s/it]"
     ]
    },
    {
     "name": "stdout",
     "output_type": "stream",
     "text": [
      "No data found for 6924.T. Skipping...\n"
     ]
    },
    {
     "name": "stderr",
     "output_type": "stream",
     "text": [
      "[*********************100%***********************]  1 of 1 completed/4062 [38:52<1:13:15,  1.74s/it]\n",
      "[*********************100%***********************]  1 of 1 completed/4062 [38:53<1:09:28,  1.65s/it]\n",
      "[*********************100%***********************]  1 of 1 completed/4062 [38:55<1:05:40,  1.56s/it]\n",
      "[*********************100%***********************]  1 of 1 completed/4062 [38:56<1:02:48,  1.49s/it]\n",
      "[*********************100%***********************]  1 of 1 completed/4062 [38:57<1:00:36,  1.44s/it]\n",
      "[*********************100%***********************]  1 of 1 completed38/4062 [38:59<58:57,  1.40s/it]\n",
      "[*********************100%***********************]  1 of 1 completed39/4062 [39:00<58:10,  1.38s/it]\n",
      "\n",
      "1 Failed download:\n",
      "['9919.T']: YFTzMissingError('$%ticker%: possibly delisted; no timezone found')\n",
      " 38%|██████████████████████▎                                    | 1539/4062 [39:01<58:10,  1.38s/it]"
     ]
    },
    {
     "name": "stdout",
     "output_type": "stream",
     "text": [
      "No data found for 9919.T. Skipping...\n"
     ]
    },
    {
     "name": "stderr",
     "output_type": "stream",
     "text": [
      "[*********************100%***********************]  1 of 1 completed/4062 [39:02<1:10:26,  1.68s/it]\n",
      "[*********************100%***********************]  1 of 1 completed/4062 [39:04<1:05:59,  1.57s/it]\n",
      "\n",
      "1 Failed download:\n",
      "['3952.T']: YFTzMissingError('$%ticker%: possibly delisted; no timezone found')\n",
      " 38%|█████████████████████▌                                   | 1541/4062 [39:05<1:05:59,  1.57s/it]"
     ]
    },
    {
     "name": "stdout",
     "output_type": "stream",
     "text": [
      "No data found for 3952.T. Skipping...\n"
     ]
    },
    {
     "name": "stderr",
     "output_type": "stream",
     "text": [
      "[*********************100%***********************]  1 of 1 completed/4062 [39:06<1:12:49,  1.73s/it]\n",
      "[*********************100%***********************]  1 of 1 completed/4062 [39:07<1:07:37,  1.61s/it]\n",
      "[*********************100%***********************]  1 of 1 completed/4062 [39:09<1:04:22,  1.53s/it]\n",
      "\n",
      "1 Failed download:\n",
      "['9866.T']: YFTzMissingError('$%ticker%: possibly delisted; no timezone found')\n",
      " 38%|█████████████████████▋                                   | 1544/4062 [39:10<1:04:22,  1.53s/it]"
     ]
    },
    {
     "name": "stdout",
     "output_type": "stream",
     "text": [
      "No data found for 9866.T. Skipping...\n"
     ]
    },
    {
     "name": "stderr",
     "output_type": "stream",
     "text": [
      "[*********************100%***********************]  1 of 1 completed/4062 [39:11<1:17:53,  1.86s/it]\n",
      "[*********************100%***********************]  1 of 1 completed/4062 [39:13<1:11:24,  1.70s/it]\n",
      "[*********************100%***********************]  1 of 1 completed/4062 [39:14<1:06:17,  1.58s/it]\n",
      "[*********************100%***********************]  1 of 1 completed/4062 [39:15<1:02:31,  1.49s/it]\n",
      "[*********************100%***********************]  1 of 1 completed/4062 [39:16<1:00:32,  1.45s/it]\n",
      "[*********************100%***********************]  1 of 1 completed50/4062 [39:18<59:01,  1.41s/it]\n",
      "\n",
      "1 Failed download:\n",
      "['4006.T']: YFTzMissingError('$%ticker%: possibly delisted; no timezone found')\n",
      " 38%|██████████████████████▌                                    | 1550/4062 [39:19<59:01,  1.41s/it]"
     ]
    },
    {
     "name": "stdout",
     "output_type": "stream",
     "text": [
      "No data found for 4006.T. Skipping...\n"
     ]
    },
    {
     "name": "stderr",
     "output_type": "stream",
     "text": [
      "[*********************100%***********************]  1 of 1 completed/4062 [39:20<1:08:21,  1.63s/it]\n",
      "\n",
      "1 Failed download:\n",
      "['9608.T']: YFTzMissingError('$%ticker%: possibly delisted; no timezone found')\n",
      " 38%|█████████████████████▊                                   | 1551/4062 [39:22<1:08:21,  1.63s/it]"
     ]
    },
    {
     "name": "stdout",
     "output_type": "stream",
     "text": [
      "No data found for 9608.T. Skipping...\n"
     ]
    },
    {
     "name": "stderr",
     "output_type": "stream",
     "text": [
      "[*********************100%***********************]  1 of 1 completed/4062 [39:23<1:22:59,  1.98s/it]\n",
      "[*********************100%***********************]  1 of 1 completed/4062 [39:24<1:15:06,  1.80s/it]\n",
      "[*********************100%***********************]  1 of 1 completed/4062 [39:25<1:09:11,  1.66s/it]\n",
      "[*********************100%***********************]  1 of 1 completed/4062 [39:27<1:05:29,  1.57s/it]\n",
      "[*********************100%***********************]  1 of 1 completed/4062 [39:28<1:02:31,  1.50s/it]\n",
      "\n",
      "1 Failed download:\n",
      "['9422.T']: YFTzMissingError('$%ticker%: possibly delisted; no timezone found')\n",
      " 38%|█████████████████████▊                                   | 1556/4062 [39:29<1:02:31,  1.50s/it]"
     ]
    },
    {
     "name": "stdout",
     "output_type": "stream",
     "text": [
      "No data found for 9422.T. Skipping...\n"
     ]
    },
    {
     "name": "stderr",
     "output_type": "stream",
     "text": [
      "[*********************100%***********************]  1 of 1 completed/4062 [39:30<1:10:16,  1.68s/it]\n",
      "[*********************100%***********************]  1 of 1 completed/4062 [39:32<1:05:28,  1.57s/it]\n",
      "[*********************100%***********************]  1 of 1 completed/4062 [39:33<1:03:52,  1.53s/it]\n",
      "\n",
      "1 Failed download:\n",
      "['1393.T']: YFPricesMissingError('$%ticker%: possibly delisted; no price data found  (1d 2024-10-13 -> 2024-10-20)')\n",
      " 38%|█████████████████████▉                                   | 1559/4062 [39:33<1:03:52,  1.53s/it]"
     ]
    },
    {
     "name": "stdout",
     "output_type": "stream",
     "text": [
      "No data found for 1393.T. Skipping...\n"
     ]
    },
    {
     "name": "stderr",
     "output_type": "stream",
     "text": [
      "[*********************100%***********************]  1 of 1 completed/4062 [39:34<1:02:19,  1.49s/it]\n",
      "\n",
      "1 Failed download:\n",
      "['8554.T']: YFTzMissingError('$%ticker%: possibly delisted; no timezone found')\n",
      " 38%|█████████████████████▉                                   | 1560/4062 [39:36<1:02:19,  1.49s/it]"
     ]
    },
    {
     "name": "stdout",
     "output_type": "stream",
     "text": [
      "No data found for 8554.T. Skipping...\n"
     ]
    },
    {
     "name": "stderr",
     "output_type": "stream",
     "text": [
      "[*********************100%***********************]  1 of 1 completed/4062 [39:37<1:19:40,  1.91s/it]\n",
      "[*********************100%***********************]  1 of 1 completed/4062 [39:39<1:12:39,  1.74s/it]\n",
      "\n",
      "1 Failed download:\n",
      "['8729.T']: YFTzMissingError('$%ticker%: possibly delisted; no timezone found')\n",
      " 38%|█████████████████████▉                                   | 1562/4062 [39:41<1:12:39,  1.74s/it]"
     ]
    },
    {
     "name": "stdout",
     "output_type": "stream",
     "text": [
      "No data found for 8729.T. Skipping...\n"
     ]
    },
    {
     "name": "stderr",
     "output_type": "stream",
     "text": [
      "[*********************100%***********************]  1 of 1 completed/4062 [39:42<1:28:54,  2.13s/it]\n",
      "\n",
      "1 Failed download:\n",
      "['8325.T']: YFPricesMissingError('$%ticker%: possibly delisted; no price data found  (1d 2024-10-13 -> 2024-10-20)')\n",
      " 38%|█████████████████████▉                                   | 1563/4062 [39:42<1:28:54,  2.13s/it]"
     ]
    },
    {
     "name": "stdout",
     "output_type": "stream",
     "text": [
      "No data found for 8325.T. Skipping...\n"
     ]
    },
    {
     "name": "stderr",
     "output_type": "stream",
     "text": [
      "[*********************100%***********************]  1 of 1 completed/4062 [39:43<1:18:44,  1.89s/it]\n",
      "[*********************100%***********************]  1 of 1 completed/4062 [39:44<1:11:27,  1.72s/it]\n",
      "[*********************100%***********************]  1 of 1 completed/4062 [39:46<1:06:47,  1.61s/it]\n",
      "[*********************100%***********************]  1 of 1 completed/4062 [39:47<1:03:05,  1.52s/it]\n",
      "[*********************100%***********************]  1 of 1 completed/4062 [39:48<1:00:21,  1.45s/it]\n",
      "[*********************100%***********************]  1 of 1 completed69/4062 [39:50<59:15,  1.43s/it]\n",
      "[*********************100%***********************]  1 of 1 completed70/4062 [39:51<58:05,  1.40s/it]\n",
      "[*********************100%***********************]  1 of 1 completed71/4062 [39:52<57:31,  1.39s/it]\n",
      "[*********************100%***********************]  1 of 1 completed72/4062 [39:54<57:36,  1.39s/it]\n",
      "[*********************100%***********************]  1 of 1 completed73/4062 [39:55<56:51,  1.37s/it]\n",
      "\n",
      "1 Failed download:\n",
      "['7920.T']: YFPricesMissingError('$%ticker%: possibly delisted; no price data found  (1d 2024-10-13 -> 2024-10-20)')\n",
      " 39%|██████████████████████▊                                    | 1573/4062 [39:55<56:51,  1.37s/it]"
     ]
    },
    {
     "name": "stdout",
     "output_type": "stream",
     "text": [
      "No data found for 7920.T. Skipping...\n"
     ]
    },
    {
     "name": "stderr",
     "output_type": "stream",
     "text": [
      "[*********************100%***********************]  1 of 1 completed74/4062 [39:56<55:42,  1.34s/it]\n",
      "[*********************100%***********************]  1 of 1 completed75/4062 [39:58<55:02,  1.33s/it]\n",
      "[*********************100%***********************]  1 of 1 completed76/4062 [39:59<54:50,  1.32s/it]\n",
      "[*********************100%***********************]  1 of 1 completed77/4062 [40:00<55:00,  1.33s/it]\n",
      "[*********************100%***********************]  1 of 1 completed78/4062 [40:02<55:15,  1.33s/it]\n",
      "[*********************100%***********************]  1 of 1 completed79/4062 [40:03<54:45,  1.32s/it]\n",
      "[*********************100%***********************]  1 of 1 completed80/4062 [40:04<54:57,  1.33s/it]\n",
      "[*********************100%***********************]  1 of 1 completed81/4062 [40:06<54:24,  1.32s/it]\n",
      "[*********************100%***********************]  1 of 1 completed82/4062 [40:07<54:55,  1.33s/it]\n",
      "[*********************100%***********************]  1 of 1 completed83/4062 [40:08<55:07,  1.33s/it]\n",
      "[*********************100%***********************]  1 of 1 completed84/4062 [40:10<54:57,  1.33s/it]\n",
      "\n",
      "1 Failed download:\n",
      "['1645.T']: YFPricesMissingError('$%ticker%: possibly delisted; no price data found  (1d 2024-10-13 -> 2024-10-20)')\n",
      " 39%|███████████████████████                                    | 1584/4062 [40:10<54:57,  1.33s/it]"
     ]
    },
    {
     "name": "stdout",
     "output_type": "stream",
     "text": [
      "No data found for 1645.T. Skipping...\n"
     ]
    },
    {
     "name": "stderr",
     "output_type": "stream",
     "text": [
      "[*********************100%***********************]  1 of 1 completed85/4062 [40:11<54:14,  1.31s/it]\n",
      "[*********************100%***********************]  1 of 1 completed86/4062 [40:12<54:36,  1.32s/it]\n",
      "[*********************100%***********************]  1 of 1 completed87/4062 [40:14<54:37,  1.32s/it]\n",
      "[*********************100%***********************]  1 of 1 completed88/4062 [40:15<55:06,  1.34s/it]\n",
      "[*********************100%***********************]  1 of 1 completed89/4062 [40:17<58:33,  1.42s/it]\n",
      "[*********************100%***********************]  1 of 1 completed90/4062 [40:18<58:16,  1.41s/it]\n",
      "[*********************100%***********************]  1 of 1 completed91/4062 [40:19<57:28,  1.40s/it]\n",
      "\n",
      "1 Failed download:\n",
      "['4739.T']: YFTzMissingError('$%ticker%: possibly delisted; no timezone found')\n",
      " 39%|███████████████████████                                    | 1591/4062 [40:22<57:28,  1.40s/it]"
     ]
    },
    {
     "name": "stdout",
     "output_type": "stream",
     "text": [
      "No data found for 4739.T. Skipping...\n"
     ]
    },
    {
     "name": "stderr",
     "output_type": "stream",
     "text": [
      "[*********************100%***********************]  1 of 1 completed/4062 [40:23<1:20:14,  1.95s/it]\n",
      "[*********************100%***********************]  1 of 1 completed/4062 [40:24<1:12:22,  1.76s/it]\n",
      "[*********************100%***********************]  1 of 1 completed/4062 [40:25<1:07:27,  1.64s/it]\n",
      "[*********************100%***********************]  1 of 1 completed/4062 [40:27<1:06:26,  1.62s/it]\n",
      "[*********************100%***********************]  1 of 1 completed/4062 [40:28<1:03:08,  1.54s/it]\n",
      "[*********************100%***********************]  1 of 1 completed/4062 [40:29<1:00:30,  1.47s/it]\n",
      "[*********************100%***********************]  1 of 1 completed98/4062 [40:31<59:46,  1.46s/it]\n",
      "[*********************100%***********************]  1 of 1 completed99/4062 [40:32<58:30,  1.43s/it]\n",
      "[*********************100%***********************]  1 of 1 completed00/4062 [40:34<57:36,  1.40s/it]\n",
      "[*********************100%***********************]  1 of 1 completed01/4062 [40:35<56:49,  1.39s/it]\n",
      "[*********************100%***********************]  1 of 1 completed02/4062 [40:36<56:23,  1.38s/it]\n",
      "[*********************100%***********************]  1 of 1 completed03/4062 [40:38<56:02,  1.37s/it]\n",
      "\n",
      "1 Failed download:\n",
      "['6826.T']: YFTzMissingError('$%ticker%: possibly delisted; no timezone found')\n",
      " 39%|███████████████████████▎                                   | 1603/4062 [40:41<56:02,  1.37s/it]"
     ]
    },
    {
     "name": "stdout",
     "output_type": "stream",
     "text": [
      "No data found for 6826.T. Skipping...\n"
     ]
    },
    {
     "name": "stderr",
     "output_type": "stream",
     "text": [
      "[*********************100%***********************]  1 of 1 completed/4062 [40:42<1:34:07,  2.30s/it]\n",
      "[*********************100%***********************]  1 of 1 completed/4062 [40:43<1:21:38,  1.99s/it]\n",
      "[*********************100%***********************]  1 of 1 completed/4062 [40:45<1:13:43,  1.80s/it]\n",
      "[*********************100%***********************]  1 of 1 completed/4062 [40:46<1:08:14,  1.67s/it]\n",
      "\n",
      "1 Failed download:\n",
      "['6624.T']: YFTzMissingError('$%ticker%: possibly delisted; no timezone found')\n",
      " 40%|██████████████████████▌                                  | 1607/4062 [40:48<1:08:14,  1.67s/it]"
     ]
    },
    {
     "name": "stdout",
     "output_type": "stream",
     "text": [
      "No data found for 6624.T. Skipping...\n"
     ]
    },
    {
     "name": "stderr",
     "output_type": "stream",
     "text": [
      "[*********************100%***********************]  1 of 1 completed/4062 [40:49<1:20:45,  1.97s/it]\n",
      "[*********************100%***********************]  1 of 1 completed/4062 [40:50<1:13:53,  1.81s/it]\n",
      "[*********************100%***********************]  1 of 1 completed/4062 [40:52<1:08:10,  1.67s/it]\n",
      "[*********************100%***********************]  1 of 1 completed/4062 [40:53<1:04:15,  1.57s/it]\n",
      "[*********************100%***********************]  1 of 1 completed/4062 [40:54<1:01:23,  1.50s/it]\n",
      "\n",
      "1 Failed download:\n",
      "['2417.T']: YFTzMissingError('$%ticker%: possibly delisted; no timezone found')\n",
      " 40%|██████████████████████▌                                  | 1612/4062 [40:57<1:01:23,  1.50s/it]"
     ]
    },
    {
     "name": "stdout",
     "output_type": "stream",
     "text": [
      "No data found for 2417.T. Skipping...\n"
     ]
    },
    {
     "name": "stderr",
     "output_type": "stream",
     "text": [
      "[*********************100%***********************]  1 of 1 completed/4062 [40:58<1:25:07,  2.09s/it]\n",
      "[*********************100%***********************]  1 of 1 completed/4062 [40:59<1:16:22,  1.87s/it]\n",
      "[*********************100%***********************]  1 of 1 completed/4062 [41:00<1:09:18,  1.70s/it]\n",
      "[*********************100%***********************]  1 of 1 completed/4062 [41:02<1:04:50,  1.59s/it]\n",
      "[*********************100%***********************]  1 of 1 completed/4062 [41:03<1:01:37,  1.51s/it]\n",
      "[*********************100%***********************]  1 of 1 completed18/4062 [41:04<59:43,  1.47s/it]\n",
      "[*********************100%***********************]  1 of 1 completed19/4062 [41:06<58:20,  1.43s/it]\n",
      "[*********************100%***********************]  1 of 1 completed20/4062 [41:07<56:36,  1.39s/it]\n",
      "[*********************100%***********************]  1 of 1 completed21/4062 [41:09<58:47,  1.45s/it]\n",
      "[*********************100%***********************]  1 of 1 completed22/4062 [41:10<57:01,  1.40s/it]\n",
      "\n",
      "1 Failed download:\n",
      "['2902.T']: YFTzMissingError('$%ticker%: possibly delisted; no timezone found')\n",
      " 40%|███████████████████████▌                                   | 1622/4062 [41:13<57:01,  1.40s/it]"
     ]
    },
    {
     "name": "stdout",
     "output_type": "stream",
     "text": [
      "No data found for 2902.T. Skipping...\n"
     ]
    },
    {
     "name": "stderr",
     "output_type": "stream",
     "text": [
      "[*********************100%***********************]  1 of 1 completed/4062 [41:14<1:24:48,  2.09s/it]\n",
      "[*********************100%***********************]  1 of 1 completed/4062 [41:15<1:15:57,  1.87s/it]\n",
      "[*********************100%***********************]  1 of 1 completed/4062 [41:16<1:09:46,  1.72s/it]\n",
      "[*********************100%***********************]  1 of 1 completed/4062 [41:18<1:05:17,  1.61s/it]\n",
      "\n",
      "1 Failed download:\n",
      "['2412.T']: YFTzMissingError('$%ticker%: possibly delisted; no timezone found')\n",
      " 40%|██████████████████████▊                                  | 1626/4062 [41:19<1:05:17,  1.61s/it]"
     ]
    },
    {
     "name": "stdout",
     "output_type": "stream",
     "text": [
      "No data found for 2412.T. Skipping...\n"
     ]
    },
    {
     "name": "stderr",
     "output_type": "stream",
     "text": [
      "[*********************100%***********************]  1 of 1 completed/4062 [41:20<1:16:10,  1.88s/it]\n",
      "[*********************100%***********************]  1 of 1 completed/4062 [41:21<1:09:48,  1.72s/it]\n",
      "[*********************100%***********************]  1 of 1 completed/4062 [41:23<1:05:02,  1.60s/it]\n",
      "[*********************100%***********************]  1 of 1 completed/4062 [41:24<1:01:36,  1.52s/it]\n",
      "[*********************100%***********************]  1 of 1 completed31/4062 [41:26<59:42,  1.47s/it]\n",
      "[*********************100%***********************]  1 of 1 completed32/4062 [41:27<58:08,  1.44s/it]\n",
      "[*********************100%***********************]  1 of 1 completed33/4062 [41:28<57:11,  1.41s/it]\n",
      "[*********************100%***********************]  1 of 1 completed34/4062 [41:30<56:34,  1.40s/it]\n",
      "[*********************100%***********************]  1 of 1 completed35/4062 [41:31<55:49,  1.38s/it]\n",
      "[*********************100%***********************]  1 of 1 completed36/4062 [41:32<55:09,  1.36s/it]\n",
      "[*********************100%***********************]  1 of 1 completed37/4062 [41:34<55:39,  1.38s/it]\n",
      "[*********************100%***********************]  1 of 1 completed38/4062 [41:35<55:05,  1.36s/it]\n",
      "[*********************100%***********************]  1 of 1 completed39/4062 [41:36<54:37,  1.35s/it]\n",
      "\n",
      "1 Failed download:\n",
      "['5012.T']: YFPricesMissingError('$%ticker%: possibly delisted; no price data found  (1d 2024-10-13 -> 2024-10-20)')\n",
      " 40%|███████████████████████▊                                   | 1639/4062 [41:37<54:37,  1.35s/it]"
     ]
    },
    {
     "name": "stdout",
     "output_type": "stream",
     "text": [
      "No data found for 5012.T. Skipping...\n"
     ]
    },
    {
     "name": "stderr",
     "output_type": "stream",
     "text": [
      "[*********************100%***********************]  1 of 1 completed40/4062 [41:38<54:08,  1.34s/it]\n",
      "[*********************100%***********************]  1 of 1 completed41/4062 [41:39<53:30,  1.33s/it]\n",
      "[*********************100%***********************]  1 of 1 completed42/4062 [41:40<53:37,  1.33s/it]\n",
      "[*********************100%***********************]  1 of 1 completed43/4062 [41:42<54:01,  1.34s/it]\n",
      "[*********************100%***********************]  1 of 1 completed44/4062 [41:43<53:43,  1.33s/it]\n",
      "[*********************100%***********************]  1 of 1 completed45/4062 [41:44<53:14,  1.32s/it]\n",
      "[*********************100%***********************]  1 of 1 completed46/4062 [41:46<53:14,  1.32s/it]\n",
      "[*********************100%***********************]  1 of 1 completed47/4062 [41:47<53:37,  1.33s/it]\n",
      "[*********************100%***********************]  1 of 1 completed48/4062 [41:48<53:13,  1.32s/it]\n",
      "\n",
      "1 Failed download:\n",
      "['4695.T']: YFTzMissingError('$%ticker%: possibly delisted; no timezone found')\n",
      " 41%|███████████████████████▉                                   | 1648/4062 [41:50<53:13,  1.32s/it]"
     ]
    },
    {
     "name": "stdout",
     "output_type": "stream",
     "text": [
      "No data found for 4695.T. Skipping...\n"
     ]
    },
    {
     "name": "stderr",
     "output_type": "stream",
     "text": [
      "[*********************100%***********************]  1 of 1 completed/4062 [41:51<1:16:19,  1.90s/it]\n",
      "[*********************100%***********************]  1 of 1 completed/4062 [41:53<1:09:37,  1.73s/it]\n",
      "[*********************100%***********************]  1 of 1 completed/4062 [41:54<1:05:10,  1.62s/it]\n",
      "[*********************100%***********************]  1 of 1 completed/4062 [41:56<1:01:54,  1.54s/it]\n",
      "[*********************100%***********************]  1 of 1 completed53/4062 [41:57<59:38,  1.49s/it]\n",
      "[*********************100%***********************]  1 of 1 completed54/4062 [41:58<57:41,  1.44s/it]\n",
      "[*********************100%***********************]  1 of 1 completed55/4062 [42:00<56:49,  1.42s/it]\n",
      "[*********************100%***********************]  1 of 1 completed56/4062 [42:01<55:38,  1.39s/it]\n",
      "[*********************100%***********************]  1 of 1 completed57/4062 [42:02<54:42,  1.36s/it]\n",
      "[*********************100%***********************]  1 of 1 completed58/4062 [42:04<54:53,  1.37s/it]\n",
      "[*********************100%***********************]  1 of 1 completed59/4062 [42:05<54:19,  1.36s/it]\n",
      "\n",
      "1 Failed download:\n",
      "['3849.T']: YFTzMissingError('$%ticker%: possibly delisted; no timezone found')\n",
      " 41%|████████████████████████                                   | 1659/4062 [42:07<54:19,  1.36s/it]"
     ]
    },
    {
     "name": "stdout",
     "output_type": "stream",
     "text": [
      "No data found for 3849.T. Skipping...\n"
     ]
    },
    {
     "name": "stderr",
     "output_type": "stream",
     "text": [
      "[*********************100%***********************]  1 of 1 completed/4062 [42:08<1:09:19,  1.73s/it]\n",
      "[*********************100%***********************]  1 of 1 completed/4062 [42:09<1:04:33,  1.61s/it]\n",
      "[*********************100%***********************]  1 of 1 completed/4062 [42:10<1:00:24,  1.51s/it]\n",
      "[*********************100%***********************]  1 of 1 completed63/4062 [42:11<57:42,  1.44s/it]\n",
      "[*********************100%***********************]  1 of 1 completed64/4062 [42:13<57:55,  1.45s/it]\n",
      "[*********************100%***********************]  1 of 1 completed65/4062 [42:14<56:30,  1.41s/it]\n",
      "[*********************100%***********************]  1 of 1 completed66/4062 [42:15<55:02,  1.38s/it]\n",
      "[*********************100%***********************]  1 of 1 completed67/4062 [42:17<54:44,  1.37s/it]\n",
      "[*********************100%***********************]  1 of 1 completed68/4062 [42:18<56:28,  1.42s/it]\n",
      "\n",
      "1 Failed download:\n",
      "['3460.T']: YFPricesMissingError('$%ticker%: possibly delisted; no price data found  (1d 2024-10-13 -> 2024-10-20)')\n",
      " 41%|████████████████████████▏                                  | 1668/4062 [42:19<56:28,  1.42s/it]"
     ]
    },
    {
     "name": "stdout",
     "output_type": "stream",
     "text": [
      "No data found for 3460.T. Skipping...\n"
     ]
    },
    {
     "name": "stderr",
     "output_type": "stream",
     "text": [
      "[*********************100%***********************]  1 of 1 completed69/4062 [42:20<54:51,  1.38s/it]\n",
      "[*********************100%***********************]  1 of 1 completed70/4062 [42:21<54:25,  1.37s/it]\n",
      "[*********************100%***********************]  1 of 1 completed71/4062 [42:22<53:47,  1.35s/it]\n",
      "[*********************100%***********************]  1 of 1 completed72/4062 [42:24<53:15,  1.34s/it]\n",
      "[*********************100%***********************]  1 of 1 completed73/4062 [42:25<53:19,  1.34s/it]\n",
      "[*********************100%***********************]  1 of 1 completed74/4062 [42:26<52:33,  1.32s/it]\n",
      "[*********************100%***********************]  1 of 1 completed75/4062 [42:28<52:32,  1.32s/it]\n",
      "[*********************100%***********************]  1 of 1 completed76/4062 [42:29<55:32,  1.40s/it]\n",
      "[*********************100%***********************]  1 of 1 completed77/4062 [42:30<54:50,  1.38s/it]\n",
      "[*********************100%***********************]  1 of 1 completed78/4062 [42:32<53:50,  1.35s/it]\n",
      "\n",
      "1 Failed download:\n",
      "['4640.T']: YFTzMissingError('$%ticker%: possibly delisted; no timezone found')\n",
      " 41%|████████████████████████▎                                  | 1678/4062 [42:33<53:50,  1.35s/it]"
     ]
    },
    {
     "name": "stdout",
     "output_type": "stream",
     "text": [
      "No data found for 4640.T. Skipping...\n"
     ]
    },
    {
     "name": "stderr",
     "output_type": "stream",
     "text": [
      "[*********************100%***********************]  1 of 1 completed/4062 [42:34<1:06:29,  1.67s/it]\n",
      "[*********************100%***********************]  1 of 1 completed/4062 [42:36<1:02:13,  1.57s/it]\n",
      "[*********************100%***********************]  1 of 1 completed81/4062 [42:37<59:52,  1.51s/it]\n",
      "[*********************100%***********************]  1 of 1 completed82/4062 [42:38<58:14,  1.47s/it]\n",
      "[*********************100%***********************]  1 of 1 completed83/4062 [42:40<58:04,  1.46s/it]\n",
      "[*********************100%***********************]  1 of 1 completed84/4062 [42:41<56:33,  1.43s/it]\n",
      "\n",
      "1 Failed download:\n",
      "['8073.T']: YFTzMissingError('$%ticker%: possibly delisted; no timezone found')\n",
      " 41%|████████████████████████▍                                  | 1684/4062 [42:43<56:33,  1.43s/it]"
     ]
    },
    {
     "name": "stdout",
     "output_type": "stream",
     "text": [
      "No data found for 8073.T. Skipping...\n"
     ]
    },
    {
     "name": "stderr",
     "output_type": "stream",
     "text": [
      "[*********************100%***********************]  1 of 1 completed/4062 [42:44<1:11:46,  1.81s/it]\n",
      "[*********************100%***********************]  1 of 1 completed/4062 [42:45<1:06:05,  1.67s/it]\n",
      "\n",
      "1 Failed download:\n",
      "['4342.T']: YFTzMissingError('$%ticker%: possibly delisted; no timezone found')\n",
      " 42%|███████████████████████▋                                 | 1686/4062 [42:47<1:06:05,  1.67s/it]"
     ]
    },
    {
     "name": "stdout",
     "output_type": "stream",
     "text": [
      "No data found for 4342.T. Skipping...\n"
     ]
    },
    {
     "name": "stderr",
     "output_type": "stream",
     "text": [
      "[*********************100%***********************]  1 of 1 completed/4062 [42:48<1:18:41,  1.99s/it]\n",
      "[*********************100%***********************]  1 of 1 completed/4062 [42:49<1:11:57,  1.82s/it]\n",
      "[*********************100%***********************]  1 of 1 completed/4062 [42:51<1:06:31,  1.68s/it]\n",
      "[*********************100%***********************]  1 of 1 completed/4062 [42:52<1:03:03,  1.59s/it]\n",
      "[*********************100%***********************]  1 of 1 completed91/4062 [42:53<59:43,  1.51s/it]\n",
      "[*********************100%***********************]  1 of 1 completed92/4062 [42:55<57:25,  1.45s/it]\n",
      "[*********************100%***********************]  1 of 1 completed93/4062 [42:56<55:36,  1.41s/it]\n",
      "[*********************100%***********************]  1 of 1 completed94/4062 [42:57<54:35,  1.38s/it]\n",
      "\n",
      "1 Failed download:\n",
      "['3230.T']: YFTzMissingError('$%ticker%: possibly delisted; no timezone found')\n",
      " 42%|████████████████████████▌                                  | 1694/4062 [42:59<54:35,  1.38s/it]"
     ]
    },
    {
     "name": "stdout",
     "output_type": "stream",
     "text": [
      "No data found for 3230.T. Skipping...\n"
     ]
    },
    {
     "name": "stderr",
     "output_type": "stream",
     "text": [
      "[*********************100%***********************]  1 of 1 completed/4062 [43:00<1:08:55,  1.75s/it]\n",
      "[*********************100%***********************]  1 of 1 completed/4062 [43:01<1:03:43,  1.62s/it]\n",
      "\n",
      "1 Failed download:\n",
      "['8355.T']: YFTzMissingError('$%ticker%: possibly delisted; no timezone found')\n",
      " 42%|███████████████████████▊                                 | 1696/4062 [43:03<1:03:43,  1.62s/it]"
     ]
    },
    {
     "name": "stdout",
     "output_type": "stream",
     "text": [
      "No data found for 8355.T. Skipping...\n"
     ]
    },
    {
     "name": "stderr",
     "output_type": "stream",
     "text": [
      "[*********************100%***********************]  1 of 1 completed/4062 [43:04<1:13:50,  1.87s/it]\n",
      "[*********************100%***********************]  1 of 1 completed/4062 [43:05<1:07:16,  1.71s/it]\n",
      "[*********************100%***********************]  1 of 1 completed/4062 [43:06<1:03:04,  1.60s/it]\n",
      "\n",
      "1 Failed download:\n",
      "['1906.T']: YFTzMissingError('$%ticker%: possibly delisted; no timezone found')\n",
      " 42%|███████████████████████▊                                 | 1699/4062 [43:08<1:03:04,  1.60s/it]"
     ]
    },
    {
     "name": "stdout",
     "output_type": "stream",
     "text": [
      "No data found for 1906.T. Skipping...\n"
     ]
    },
    {
     "name": "stderr",
     "output_type": "stream",
     "text": [
      "[*********************100%***********************]  1 of 1 completed/4062 [43:09<1:16:05,  1.93s/it]\n",
      "[*********************100%***********************]  1 of 1 completed/4062 [43:10<1:08:52,  1.75s/it]\n",
      "[*********************100%***********************]  1 of 1 completed/4062 [43:12<1:03:31,  1.62s/it]\n",
      "\n",
      "1 Failed download:\n",
      "['3098.T']: YFTzMissingError('$%ticker%: possibly delisted; no timezone found')\n",
      " 42%|███████████████████████▉                                 | 1702/4062 [43:13<1:03:31,  1.62s/it]"
     ]
    },
    {
     "name": "stdout",
     "output_type": "stream",
     "text": [
      "No data found for 3098.T. Skipping...\n"
     ]
    },
    {
     "name": "stderr",
     "output_type": "stream",
     "text": [
      "[*********************100%***********************]  1 of 1 completed/4062 [43:14<1:09:36,  1.77s/it]\n",
      "[*********************100%***********************]  1 of 1 completed/4062 [43:15<1:05:08,  1.66s/it]\n",
      "[*********************100%***********************]  1 of 1 completed/4062 [43:17<1:01:21,  1.56s/it]\n",
      "[*********************100%***********************]  1 of 1 completed06/4062 [43:18<59:03,  1.50s/it]\n",
      "[*********************100%***********************]  1 of 1 completed07/4062 [43:19<57:28,  1.46s/it]\n",
      "[*********************100%***********************]  1 of 1 completed08/4062 [43:21<55:56,  1.43s/it]\n",
      "[*********************100%***********************]  1 of 1 completed09/4062 [43:22<54:39,  1.39s/it]\n",
      "[*********************100%***********************]  1 of 1 completed10/4062 [43:23<53:54,  1.38s/it]\n",
      "[*********************100%***********************]  1 of 1 completed11/4062 [43:25<54:23,  1.39s/it]\n",
      "[*********************100%***********************]  1 of 1 completed12/4062 [43:26<54:34,  1.39s/it]\n",
      "[*********************100%***********************]  1 of 1 completed13/4062 [43:27<53:54,  1.38s/it]\n",
      "[*********************100%***********************]  1 of 1 completed14/4062 [43:29<54:16,  1.39s/it]\n",
      "[*********************100%***********************]  1 of 1 completed15/4062 [43:30<53:17,  1.36s/it]\n",
      "[*********************100%***********************]  1 of 1 completed16/4062 [43:31<53:00,  1.36s/it]\n",
      "\n",
      "1 Failed download:\n",
      "['7816.T']: YFTzMissingError('$%ticker%: possibly delisted; no timezone found')\n",
      " 42%|████████████████████████▉                                  | 1716/4062 [43:34<53:00,  1.36s/it]"
     ]
    },
    {
     "name": "stdout",
     "output_type": "stream",
     "text": [
      "No data found for 7816.T. Skipping...\n"
     ]
    },
    {
     "name": "stderr",
     "output_type": "stream",
     "text": [
      "[*********************100%***********************]  1 of 1 completed/4062 [43:35<1:17:29,  1.98s/it]\n",
      "[*********************100%***********************]  1 of 1 completed/4062 [43:36<1:09:43,  1.78s/it]\n",
      "[*********************100%***********************]  1 of 1 completed/4062 [43:38<1:05:09,  1.67s/it]\n",
      "[*********************100%***********************]  1 of 1 completed/4062 [43:39<1:00:59,  1.56s/it]\n",
      "[*********************100%***********************]  1 of 1 completed21/4062 [43:40<57:57,  1.49s/it]\n",
      "[*********************100%***********************]  1 of 1 completed22/4062 [43:42<56:13,  1.44s/it]\n",
      "[*********************100%***********************]  1 of 1 completed23/4062 [43:43<54:34,  1.40s/it]\n",
      "\n",
      "1 Failed download:\n",
      "['8543.T']: YFPricesMissingError('$%ticker%: possibly delisted; no price data found  (1d 2024-10-13 -> 2024-10-20)')\n",
      " 42%|█████████████████████████                                  | 1723/4062 [43:43<54:34,  1.40s/it]"
     ]
    },
    {
     "name": "stdout",
     "output_type": "stream",
     "text": [
      "No data found for 8543.T. Skipping...\n"
     ]
    },
    {
     "name": "stderr",
     "output_type": "stream",
     "text": [
      "[*********************100%***********************]  1 of 1 completed24/4062 [43:44<56:20,  1.45s/it]\n",
      "[*********************100%***********************]  1 of 1 completed25/4062 [43:46<55:53,  1.43s/it]\n",
      "\n",
      "1 Failed download:\n",
      "['3125.T']: YFTzMissingError('$%ticker%: possibly delisted; no timezone found')\n",
      " 42%|█████████████████████████                                  | 1725/4062 [43:47<55:53,  1.43s/it]"
     ]
    },
    {
     "name": "stdout",
     "output_type": "stream",
     "text": [
      "No data found for 3125.T. Skipping...\n"
     ]
    },
    {
     "name": "stderr",
     "output_type": "stream",
     "text": [
      "[*********************100%***********************]  1 of 1 completed/4062 [43:48<1:08:04,  1.75s/it]\n",
      "\n",
      "1 Failed download:\n",
      "['7961.T']: YFTzMissingError('$%ticker%: possibly delisted; no timezone found')\n",
      " 42%|████████████████████████▏                                | 1726/4062 [43:50<1:08:04,  1.75s/it]"
     ]
    },
    {
     "name": "stdout",
     "output_type": "stream",
     "text": [
      "No data found for 7961.T. Skipping...\n"
     ]
    },
    {
     "name": "stderr",
     "output_type": "stream",
     "text": [
      "[*********************100%***********************]  1 of 1 completed/4062 [43:51<1:21:05,  2.08s/it]\n",
      "[*********************100%***********************]  1 of 1 completed/4062 [43:53<1:12:23,  1.86s/it]\n",
      "[*********************100%***********************]  1 of 1 completed/4062 [43:54<1:06:01,  1.70s/it]\n",
      "[*********************100%***********************]  1 of 1 completed/4062 [43:55<1:01:45,  1.59s/it]\n",
      "\n",
      "1 Failed download:\n",
      "['6502.T']: YFTzMissingError('$%ticker%: possibly delisted; no timezone found')\n",
      " 43%|████████████████████████▎                                | 1730/4062 [43:57<1:01:45,  1.59s/it]"
     ]
    },
    {
     "name": "stdout",
     "output_type": "stream",
     "text": [
      "No data found for 6502.T. Skipping...\n"
     ]
    },
    {
     "name": "stderr",
     "output_type": "stream",
     "text": [
      "[*********************100%***********************]  1 of 1 completed/4062 [43:58<1:12:18,  1.86s/it]\n",
      "[*********************100%***********************]  1 of 1 completed/4062 [43:59<1:05:35,  1.69s/it]\n",
      "[*********************100%***********************]  1 of 1 completed/4062 [44:00<1:01:45,  1.59s/it]\n",
      "[*********************100%***********************]  1 of 1 completed34/4062 [44:02<58:56,  1.52s/it]\n",
      "[*********************100%***********************]  1 of 1 completed35/4062 [44:03<56:34,  1.46s/it]\n",
      "[*********************100%***********************]  1 of 1 completed36/4062 [44:04<56:49,  1.47s/it]\n",
      "[*********************100%***********************]  1 of 1 completed37/4062 [44:06<55:45,  1.44s/it]\n",
      "[*********************100%***********************]  1 of 1 completed38/4062 [44:07<54:50,  1.42s/it]\n",
      "[*********************100%***********************]  1 of 1 completed39/4062 [44:09<54:02,  1.40s/it]\n",
      "[*********************100%***********************]  1 of 1 completed40/4062 [44:10<53:07,  1.37s/it]\n",
      "[*********************100%***********************]  1 of 1 completed41/4062 [44:11<53:11,  1.38s/it]\n",
      "[*********************100%***********************]  1 of 1 completed42/4062 [44:13<52:52,  1.37s/it]\n",
      "[*********************100%***********************]  1 of 1 completed43/4062 [44:14<52:16,  1.35s/it]\n",
      "[*********************100%***********************]  1 of 1 completed44/4062 [44:15<52:04,  1.35s/it]\n",
      "[*********************100%***********************]  1 of 1 completed45/4062 [44:17<52:13,  1.35s/it]\n",
      "[*********************100%***********************]  1 of 1 completed46/4062 [44:18<51:48,  1.34s/it]\n",
      "[*********************100%***********************]  1 of 1 completed47/4062 [44:19<52:31,  1.36s/it]\n",
      "\n",
      "1 Failed download:\n",
      "['1467.T']: YFPricesMissingError('$%ticker%: possibly delisted; no price data found  (1d 2024-10-13 -> 2024-10-20)')\n",
      " 43%|█████████████████████████▎                                 | 1747/4062 [44:20<52:31,  1.36s/it]"
     ]
    },
    {
     "name": "stdout",
     "output_type": "stream",
     "text": [
      "No data found for 1467.T. Skipping...\n"
     ]
    },
    {
     "name": "stderr",
     "output_type": "stream",
     "text": [
      "[*********************100%***********************]  1 of 1 completed48/4062 [44:21<51:25,  1.33s/it]\n",
      "[*********************100%***********************]  1 of 1 completed49/4062 [44:22<51:31,  1.34s/it]\n",
      "[*********************100%***********************]  1 of 1 completed50/4062 [44:23<51:39,  1.34s/it]\n",
      "[*********************100%***********************]  1 of 1 completed51/4062 [44:25<51:31,  1.34s/it]\n",
      "\n",
      "1 Failed download:\n",
      "['2008.T']: YFPricesMissingError('$%ticker%: possibly delisted; no price data found  (1d 2024-10-13 -> 2024-10-20)')\n",
      " 43%|█████████████████████████▍                                 | 1751/4062 [44:25<51:31,  1.34s/it]"
     ]
    },
    {
     "name": "stdout",
     "output_type": "stream",
     "text": [
      "No data found for 2008.T. Skipping...\n"
     ]
    },
    {
     "name": "stderr",
     "output_type": "stream",
     "text": [
      "[*********************100%***********************]  1 of 1 completed52/4062 [44:26<50:45,  1.32s/it]\n",
      "[*********************100%***********************]  1 of 1 completed53/4062 [44:27<50:56,  1.32s/it]\n",
      "\n",
      "1 Failed download:\n",
      "['4239.T']: YFTzMissingError('$%ticker%: possibly delisted; no timezone found')\n",
      " 43%|█████████████████████████▍                                 | 1753/4062 [44:29<50:56,  1.32s/it]"
     ]
    },
    {
     "name": "stdout",
     "output_type": "stream",
     "text": [
      "No data found for 4239.T. Skipping...\n"
     ]
    },
    {
     "name": "stderr",
     "output_type": "stream",
     "text": [
      "[*********************100%***********************]  1 of 1 completed/4062 [44:30<1:06:03,  1.72s/it]\n",
      "[*********************100%***********************]  1 of 1 completed/4062 [44:31<1:01:30,  1.60s/it]\n",
      "[*********************100%***********************]  1 of 1 completed56/4062 [44:33<58:53,  1.53s/it]\n",
      "[*********************100%***********************]  1 of 1 completed57/4062 [44:34<56:30,  1.47s/it]\n",
      "[*********************100%***********************]  1 of 1 completed58/4062 [44:35<54:51,  1.43s/it]\n",
      "[*********************100%***********************]  1 of 1 completed59/4062 [44:37<54:11,  1.41s/it]\n",
      "[*********************100%***********************]  1 of 1 completed60/4062 [44:38<52:46,  1.38s/it]\n",
      "[*********************100%***********************]  1 of 1 completed61/4062 [44:39<52:04,  1.36s/it]\n",
      "[*********************100%***********************]  1 of 1 completed62/4062 [44:41<51:34,  1.35s/it]\n",
      "[*********************100%***********************]  1 of 1 completed63/4062 [44:42<51:55,  1.36s/it]\n",
      "[*********************100%***********************]  1 of 1 completed64/4062 [44:43<51:41,  1.35s/it]\n",
      "[*********************100%***********************]  1 of 1 completed65/4062 [44:45<51:25,  1.34s/it]\n",
      "[*********************100%***********************]  1 of 1 completed66/4062 [44:46<51:25,  1.34s/it]\n",
      "[*********************100%***********************]  1 of 1 completed67/4062 [44:47<50:56,  1.33s/it]\n",
      "[*********************100%***********************]  1 of 1 completed68/4062 [44:49<51:10,  1.34s/it]\n",
      "[*********************100%***********************]  1 of 1 completed69/4062 [44:50<51:17,  1.34s/it]\n",
      "[*********************100%***********************]  1 of 1 completed70/4062 [44:51<50:53,  1.33s/it]\n",
      "\n",
      "1 Failed download:\n",
      "['2352.T']: YFTzMissingError('$%ticker%: possibly delisted; no timezone found')\n",
      " 44%|█████████████████████████▋                                 | 1770/4062 [44:53<50:53,  1.33s/it]"
     ]
    },
    {
     "name": "stdout",
     "output_type": "stream",
     "text": [
      "No data found for 2352.T. Skipping...\n"
     ]
    },
    {
     "name": "stderr",
     "output_type": "stream",
     "text": [
      "[*********************100%***********************]  1 of 1 completed/4062 [44:54<1:10:30,  1.85s/it]\n",
      "\n",
      "1 Failed download:\n",
      "['1987.T']: YFPricesMissingError('$%ticker%: possibly delisted; no price data found  (1d 2024-10-13 -> 2024-10-20)')\n",
      " 44%|████████████████████████▊                                | 1771/4062 [44:55<1:10:30,  1.85s/it]"
     ]
    },
    {
     "name": "stdout",
     "output_type": "stream",
     "text": [
      "No data found for 1987.T. Skipping...\n"
     ]
    },
    {
     "name": "stderr",
     "output_type": "stream",
     "text": [
      "[*********************100%***********************]  1 of 1 completed/4062 [44:56<1:03:57,  1.68s/it]\n",
      "[*********************100%***********************]  1 of 1 completed/4062 [44:57<1:00:06,  1.58s/it]\n",
      "[*********************100%***********************]  1 of 1 completed74/4062 [44:58<57:16,  1.50s/it]\n",
      "\n",
      "1 Failed download:\n",
      "['6375.T']: YFPricesMissingError('$%ticker%: possibly delisted; no price data found  (1d 2024-10-13 -> 2024-10-20)')\n",
      " 44%|█████████████████████████▊                                 | 1774/4062 [44:59<57:16,  1.50s/it]"
     ]
    },
    {
     "name": "stdout",
     "output_type": "stream",
     "text": [
      "No data found for 6375.T. Skipping...\n"
     ]
    },
    {
     "name": "stderr",
     "output_type": "stream",
     "text": [
      "[*********************100%***********************]  1 of 1 completed75/4062 [45:00<54:35,  1.43s/it]\n",
      "[*********************100%***********************]  1 of 1 completed76/4062 [45:01<53:08,  1.39s/it]\n",
      "[*********************100%***********************]  1 of 1 completed77/4062 [45:02<53:01,  1.39s/it]\n",
      "[*********************100%***********************]  1 of 1 completed78/4062 [45:04<52:11,  1.37s/it]\n",
      "[*********************100%***********************]  1 of 1 completed79/4062 [45:05<52:40,  1.38s/it]\n",
      "[*********************100%***********************]  1 of 1 completed80/4062 [45:06<52:18,  1.38s/it]\n",
      "[*********************100%***********************]  1 of 1 completed81/4062 [45:08<54:32,  1.43s/it]\n",
      "[*********************100%***********************]  1 of 1 completed82/4062 [45:09<53:33,  1.41s/it]\n",
      "[*********************100%***********************]  1 of 1 completed83/4062 [45:11<52:59,  1.39s/it]\n",
      "[*********************100%***********************]  1 of 1 completed84/4062 [45:12<53:07,  1.40s/it]\n",
      "[*********************100%***********************]  1 of 1 completed85/4062 [45:13<51:54,  1.37s/it]\n",
      "[*********************100%***********************]  1 of 1 completed86/4062 [45:15<51:28,  1.36s/it]\n",
      "[*********************100%***********************]  1 of 1 completed87/4062 [45:16<51:29,  1.36s/it]\n",
      "[*********************100%***********************]  1 of 1 completed88/4062 [45:17<51:27,  1.36s/it]\n",
      "[*********************100%***********************]  1 of 1 completed89/4062 [45:19<51:55,  1.37s/it]\n",
      "[*********************100%***********************]  1 of 1 completed90/4062 [45:20<53:10,  1.40s/it]\n",
      "\n",
      "1 Failed download:\n",
      "['8851.T']: YFPricesMissingError('$%ticker%: possibly delisted; no price data found  (1d 2024-10-13 -> 2024-10-20)')\n",
      " 44%|█████████████████████████▉                                 | 1790/4062 [45:21<53:10,  1.40s/it]"
     ]
    },
    {
     "name": "stdout",
     "output_type": "stream",
     "text": [
      "No data found for 8851.T. Skipping...\n"
     ]
    },
    {
     "name": "stderr",
     "output_type": "stream",
     "text": [
      "[*********************100%***********************]  1 of 1 completed91/4062 [45:22<51:43,  1.37s/it]\n",
      "[*********************100%***********************]  1 of 1 completed92/4062 [45:23<54:48,  1.45s/it]\n",
      "[*********************100%***********************]  1 of 1 completed93/4062 [45:24<53:17,  1.41s/it]\n",
      "[*********************100%***********************]  1 of 1 completed94/4062 [45:26<53:22,  1.41s/it]\n",
      "[*********************100%***********************]  1 of 1 completed95/4062 [45:27<53:57,  1.43s/it]\n",
      "[*********************100%***********************]  1 of 1 completed96/4062 [45:29<52:52,  1.40s/it]\n",
      "[*********************100%***********************]  1 of 1 completed97/4062 [45:30<52:12,  1.38s/it]\n",
      "[*********************100%***********************]  1 of 1 completed98/4062 [45:31<51:19,  1.36s/it]\n",
      "\n",
      "1 Failed download:\n",
      "['2772.T']: YFPricesMissingError('$%ticker%: possibly delisted; no price data found  (1d 2024-10-13 -> 2024-10-20)')\n",
      " 44%|██████████████████████████                                 | 1798/4062 [45:32<51:19,  1.36s/it]"
     ]
    },
    {
     "name": "stdout",
     "output_type": "stream",
     "text": [
      "No data found for 2772.T. Skipping...\n"
     ]
    },
    {
     "name": "stderr",
     "output_type": "stream",
     "text": [
      "[*********************100%***********************]  1 of 1 completed99/4062 [45:33<50:19,  1.33s/it]\n",
      "[*********************100%***********************]  1 of 1 completed00/4062 [45:34<50:09,  1.33s/it]\n",
      "[*********************100%***********************]  1 of 1 completed01/4062 [45:35<50:23,  1.34s/it]\n",
      "[*********************100%***********************]  1 of 1 completed02/4062 [45:37<50:31,  1.34s/it]\n",
      "[*********************100%***********************]  1 of 1 completed03/4062 [45:38<50:14,  1.33s/it]\n",
      "[*********************100%***********************]  1 of 1 completed04/4062 [45:39<49:45,  1.32s/it]\n",
      "[*********************100%***********************]  1 of 1 completed05/4062 [45:41<49:25,  1.31s/it]\n",
      "[*********************100%***********************]  1 of 1 completed06/4062 [45:42<49:47,  1.32s/it]\n",
      "[*********************100%***********************]  1 of 1 completed07/4062 [45:43<49:48,  1.33s/it]\n",
      "[*********************100%***********************]  1 of 1 completed08/4062 [45:45<50:14,  1.34s/it]\n",
      "[*********************100%***********************]  1 of 1 completed09/4062 [45:46<49:58,  1.33s/it]\n",
      "[*********************100%***********************]  1 of 1 completed10/4062 [45:47<50:43,  1.35s/it]\n",
      "[*********************100%***********************]  1 of 1 completed11/4062 [45:49<50:24,  1.34s/it]\n",
      "[*********************100%***********************]  1 of 1 completed12/4062 [45:50<50:22,  1.34s/it]\n",
      "[*********************100%***********************]  1 of 1 completed13/4062 [45:51<50:29,  1.35s/it]\n",
      "[*********************100%***********************]  1 of 1 completed14/4062 [45:53<50:27,  1.35s/it]\n",
      "[*********************100%***********************]  1 of 1 completed15/4062 [45:54<50:06,  1.34s/it]\n",
      "[*********************100%***********************]  1 of 1 completed16/4062 [45:55<49:36,  1.33s/it]\n",
      "[*********************100%***********************]  1 of 1 completed17/4062 [45:57<49:42,  1.33s/it]\n",
      "[*********************100%***********************]  1 of 1 completed18/4062 [45:58<50:29,  1.35s/it]\n",
      "[*********************100%***********************]  1 of 1 completed19/4062 [45:59<50:19,  1.35s/it]\n",
      "[*********************100%***********************]  1 of 1 completed20/4062 [46:01<50:17,  1.35s/it]\n",
      "[*********************100%***********************]  1 of 1 completed21/4062 [46:02<49:35,  1.33s/it]\n",
      "[*********************100%***********************]  1 of 1 completed22/4062 [46:03<49:35,  1.33s/it]\n",
      "[*********************100%***********************]  1 of 1 completed23/4062 [46:05<49:36,  1.33s/it]\n",
      "[*********************100%***********************]  1 of 1 completed24/4062 [46:06<50:10,  1.35s/it]\n",
      "[*********************100%***********************]  1 of 1 completed25/4062 [46:07<49:32,  1.33s/it]\n",
      "\n",
      "1 Failed download:\n",
      "['4827.T']: YFTzMissingError('$%ticker%: possibly delisted; no timezone found')\n",
      " 45%|██████████████████████████▌                                | 1825/4062 [46:10<49:32,  1.33s/it]"
     ]
    },
    {
     "name": "stdout",
     "output_type": "stream",
     "text": [
      "No data found for 4827.T. Skipping...\n"
     ]
    },
    {
     "name": "stderr",
     "output_type": "stream",
     "text": [
      "[*********************100%***********************]  1 of 1 completed/4062 [46:11<1:11:11,  1.91s/it]\n",
      "[*********************100%***********************]  1 of 1 completed/4062 [46:12<1:04:46,  1.74s/it]\n",
      "\n",
      "1 Failed download:\n",
      "['3960.T']: YFTzMissingError('$%ticker%: possibly delisted; no timezone found')\n",
      " 45%|█████████████████████████▋                               | 1827/4062 [46:13<1:04:46,  1.74s/it]"
     ]
    },
    {
     "name": "stdout",
     "output_type": "stream",
     "text": [
      "No data found for 3960.T. Skipping...\n"
     ]
    },
    {
     "name": "stderr",
     "output_type": "stream",
     "text": [
      "[*********************100%***********************]  1 of 1 completed/4062 [46:14<1:12:45,  1.95s/it]\n",
      "[*********************100%***********************]  1 of 1 completed/4062 [46:16<1:05:48,  1.77s/it]\n",
      "[*********************100%***********************]  1 of 1 completed/4062 [46:17<1:04:42,  1.74s/it]\n",
      "[*********************100%***********************]  1 of 1 completed/4062 [46:19<1:00:17,  1.62s/it]\n",
      "[*********************100%***********************]  1 of 1 completed32/4062 [46:20<56:59,  1.53s/it]\n",
      "[*********************100%***********************]  1 of 1 completed33/4062 [46:22<58:11,  1.57s/it]\n",
      "[*********************100%***********************]  1 of 1 completed34/4062 [46:23<59:21,  1.60s/it]\n",
      " 45%|██████████████████████████▋                                | 1835/4062 [46:25<56:15,  1.52s/it]Could not get exchangeTimezoneName for ticker '6875.T' reason: 'chart'\n",
      "[*********************100%***********************]  1 of 1 completed\n",
      "\n",
      "1 Failed download:\n",
      "['6875.T']: YFTzMissingError('$%ticker%: possibly delisted; no timezone found')\n",
      " 45%|██████████████████████████▋                                | 1835/4062 [46:27<56:15,  1.52s/it]"
     ]
    },
    {
     "name": "stdout",
     "output_type": "stream",
     "text": [
      "No data found for 6875.T. Skipping...\n"
     ]
    },
    {
     "name": "stderr",
     "output_type": "stream",
     "text": [
      "[*********************100%***********************]  1 of 1 completed/4062 [46:28<1:11:37,  1.93s/it]\n",
      "[*********************100%***********************]  1 of 1 completed/4062 [46:29<1:04:43,  1.75s/it]\n",
      "[*********************100%***********************]  1 of 1 completed/4062 [46:30<1:00:35,  1.63s/it]\n",
      "\n",
      "1 Failed download:\n",
      "['6751.T']: YFPricesMissingError('$%ticker%: possibly delisted; no price data found  (1d 2024-10-13 -> 2024-10-20)')\n",
      " 45%|█████████████████████████▊                               | 1838/4062 [46:31<1:00:35,  1.63s/it]"
     ]
    },
    {
     "name": "stdout",
     "output_type": "stream",
     "text": [
      "No data found for 6751.T. Skipping...\n"
     ]
    },
    {
     "name": "stderr",
     "output_type": "stream",
     "text": [
      "[*********************100%***********************]  1 of 1 completed39/4062 [46:32<56:29,  1.52s/it]\n",
      "[*********************100%***********************]  1 of 1 completed40/4062 [46:33<54:01,  1.46s/it]\n",
      "[*********************100%***********************]  1 of 1 completed41/4062 [46:34<52:35,  1.42s/it]\n",
      "[*********************100%***********************]  1 of 1 completed42/4062 [46:36<51:27,  1.39s/it]\n",
      "[*********************100%***********************]  1 of 1 completed43/4062 [46:37<50:10,  1.36s/it]\n",
      "\n",
      "1 Failed download:\n",
      "['3318.T']: YFTzMissingError('$%ticker%: possibly delisted; no timezone found')\n",
      " 45%|██████████████████████████▊                                | 1843/4062 [46:38<50:10,  1.36s/it]"
     ]
    },
    {
     "name": "stdout",
     "output_type": "stream",
     "text": [
      "No data found for 3318.T. Skipping...\n"
     ]
    },
    {
     "name": "stderr",
     "output_type": "stream",
     "text": [
      "[*********************100%***********************]  1 of 1 completed/4062 [46:39<1:03:39,  1.72s/it]\n",
      "[*********************100%***********************]  1 of 1 completed45/4062 [46:41<59:23,  1.61s/it]\n",
      "\n",
      "1 Failed download:\n",
      "['9624.T']: YFTzMissingError('$%ticker%: possibly delisted; no timezone found')\n",
      " 45%|██████████████████████████▊                                | 1845/4062 [46:43<59:23,  1.61s/it]"
     ]
    },
    {
     "name": "stdout",
     "output_type": "stream",
     "text": [
      "No data found for 9624.T. Skipping...\n"
     ]
    },
    {
     "name": "stderr",
     "output_type": "stream",
     "text": [
      "[*********************100%***********************]  1 of 1 completed/4062 [46:44<1:13:14,  1.98s/it]\n",
      "[*********************100%***********************]  1 of 1 completed/4062 [46:45<1:06:06,  1.79s/it]\n",
      "[*********************100%***********************]  1 of 1 completed/4062 [46:46<1:01:04,  1.65s/it]\n",
      "[*********************100%***********************]  1 of 1 completed49/4062 [46:48<57:21,  1.55s/it]\n",
      "\n",
      "1 Failed download:\n",
      "['8062.T']: YFTzMissingError('$%ticker%: possibly delisted; no timezone found')\n",
      " 46%|██████████████████████████▊                                | 1849/4062 [46:50<57:21,  1.55s/it]"
     ]
    },
    {
     "name": "stdout",
     "output_type": "stream",
     "text": [
      "No data found for 8062.T. Skipping...\n"
     ]
    },
    {
     "name": "stderr",
     "output_type": "stream",
     "text": [
      "[*********************100%***********************]  1 of 1 completed/4062 [46:51<1:15:30,  2.05s/it]\n",
      "[*********************100%***********************]  1 of 1 completed/4062 [46:52<1:07:26,  1.83s/it]\n",
      "[*********************100%***********************]  1 of 1 completed/4062 [46:54<1:03:11,  1.72s/it]\n",
      "[*********************100%***********************]  1 of 1 completed53/4062 [46:55<58:49,  1.60s/it]\n",
      "[*********************100%***********************]  1 of 1 completed54/4062 [46:56<55:39,  1.51s/it]\n",
      "[*********************100%***********************]  1 of 1 completed55/4062 [46:57<53:19,  1.45s/it]\n",
      "[*********************100%***********************]  1 of 1 completed56/4062 [46:59<51:59,  1.41s/it]\n",
      "[*********************100%***********************]  1 of 1 completed57/4062 [47:00<52:07,  1.42s/it]\n",
      "[*********************100%***********************]  1 of 1 completed58/4062 [47:02<51:13,  1.39s/it]\n",
      "[*********************100%***********************]  1 of 1 completed59/4062 [47:03<50:35,  1.38s/it]\n",
      "[*********************100%***********************]  1 of 1 completed60/4062 [47:04<50:04,  1.36s/it]\n",
      "\n",
      "1 Failed download:\n",
      "['9829.T']: YFTzMissingError('$%ticker%: possibly delisted; no timezone found')\n",
      " 46%|███████████████████████████                                | 1860/4062 [47:05<50:04,  1.36s/it]"
     ]
    },
    {
     "name": "stdout",
     "output_type": "stream",
     "text": [
      "No data found for 9829.T. Skipping...\n"
     ]
    },
    {
     "name": "stderr",
     "output_type": "stream",
     "text": [
      "[*********************100%***********************]  1 of 1 completed61/4062 [47:06<58:37,  1.60s/it]\n",
      "[*********************100%***********************]  1 of 1 completed62/4062 [47:08<58:24,  1.59s/it]\n",
      "[*********************100%***********************]  1 of 1 completed63/4062 [47:09<55:26,  1.51s/it]\n",
      "[*********************100%***********************]  1 of 1 completed/4062 [47:11<1:02:24,  1.70s/it]\n",
      "\n",
      "1 Failed download:\n",
      "['2151.T']: YFTzMissingError('$%ticker%: possibly delisted; no timezone found')\n",
      " 46%|██████████████████████████▏                              | 1864/4062 [47:13<1:02:24,  1.70s/it]"
     ]
    },
    {
     "name": "stdout",
     "output_type": "stream",
     "text": [
      "No data found for 2151.T. Skipping...\n"
     ]
    },
    {
     "name": "stderr",
     "output_type": "stream",
     "text": [
      "[*********************100%***********************]  1 of 1 completed/4062 [47:14<1:17:03,  2.10s/it]\n",
      "[*********************100%***********************]  1 of 1 completed/4062 [47:16<1:08:33,  1.87s/it]\n",
      "[*********************100%***********************]  1 of 1 completed/4062 [47:17<1:02:47,  1.72s/it]\n",
      "[*********************100%***********************]  1 of 1 completed68/4062 [47:19<58:27,  1.60s/it]\n",
      "[*********************100%***********************]  1 of 1 completed69/4062 [47:20<55:34,  1.52s/it]\n",
      "[*********************100%***********************]  1 of 1 completed70/4062 [47:21<53:17,  1.46s/it]\n",
      "\n",
      "1 Failed download:\n",
      "['8270.T']: YFPricesMissingError('$%ticker%: possibly delisted; no price data found  (1d 2024-10-13 -> 2024-10-20)')\n",
      " 46%|███████████████████████████▏                               | 1870/4062 [47:21<53:17,  1.46s/it]"
     ]
    },
    {
     "name": "stdout",
     "output_type": "stream",
     "text": [
      "No data found for 8270.T. Skipping...\n"
     ]
    },
    {
     "name": "stderr",
     "output_type": "stream",
     "text": [
      "[*********************100%***********************]  1 of 1 completed71/4062 [47:22<51:12,  1.40s/it]\n",
      "[*********************100%***********************]  1 of 1 completed72/4062 [47:24<50:27,  1.38s/it]\n",
      "[*********************100%***********************]  1 of 1 completed73/4062 [47:25<49:56,  1.37s/it]\n",
      "[*********************100%***********************]  1 of 1 completed74/4062 [47:26<49:38,  1.36s/it]\n",
      "[*********************100%***********************]  1 of 1 completed75/4062 [47:28<49:00,  1.34s/it]\n",
      "[*********************100%***********************]  1 of 1 completed76/4062 [47:29<50:02,  1.37s/it]\n",
      "[*********************100%***********************]  1 of 1 completed77/4062 [47:30<49:05,  1.35s/it]\n",
      "[*********************100%***********************]  1 of 1 completed78/4062 [47:32<49:02,  1.35s/it]\n",
      "[*********************100%***********************]  1 of 1 completed79/4062 [47:33<48:51,  1.34s/it]\n",
      "[*********************100%***********************]  1 of 1 completed80/4062 [47:34<48:45,  1.34s/it]\n",
      "[*********************100%***********************]  1 of 1 completed81/4062 [47:36<49:21,  1.36s/it]\n",
      "[*********************100%***********************]  1 of 1 completed82/4062 [47:37<49:09,  1.35s/it]\n",
      "[*********************100%***********************]  1 of 1 completed83/4062 [47:39<48:57,  1.35s/it]\n",
      "\n",
      "1 Failed download:\n",
      "['3313.T']: YFPricesMissingError('$%ticker%: possibly delisted; no price data found  (1d 2024-10-13 -> 2024-10-20)')\n",
      " 46%|███████████████████████████▎                               | 1883/4062 [47:39<48:57,  1.35s/it]"
     ]
    },
    {
     "name": "stdout",
     "output_type": "stream",
     "text": [
      "No data found for 3313.T. Skipping...\n"
     ]
    },
    {
     "name": "stderr",
     "output_type": "stream",
     "text": [
      "[*********************100%***********************]  1 of 1 completed84/4062 [47:40<48:30,  1.34s/it]\n",
      "[*********************100%***********************]  1 of 1 completed85/4062 [47:41<48:39,  1.34s/it]\n",
      "\n",
      "1 Failed download:\n",
      "['3194.T']: YFTzMissingError('$%ticker%: possibly delisted; no timezone found')\n",
      " 46%|███████████████████████████▍                               | 1885/4062 [47:43<48:39,  1.34s/it]"
     ]
    },
    {
     "name": "stdout",
     "output_type": "stream",
     "text": [
      "No data found for 3194.T. Skipping...\n"
     ]
    },
    {
     "name": "stderr",
     "output_type": "stream",
     "text": [
      "[*********************100%***********************]  1 of 1 completed/4062 [47:44<1:02:41,  1.73s/it]\n",
      "[*********************100%***********************]  1 of 1 completed87/4062 [47:45<58:32,  1.61s/it]\n",
      "\n",
      "1 Failed download:\n",
      "['5807.T']: YFTzMissingError('$%ticker%: possibly delisted; no timezone found')\n",
      " 46%|███████████████████████████▍                               | 1887/4062 [47:47<58:32,  1.61s/it]"
     ]
    },
    {
     "name": "stdout",
     "output_type": "stream",
     "text": [
      "No data found for 5807.T. Skipping...\n"
     ]
    },
    {
     "name": "stderr",
     "output_type": "stream",
     "text": [
      "[*********************100%***********************]  1 of 1 completed/4062 [47:48<1:07:57,  1.88s/it]\n",
      "[*********************100%***********************]  1 of 1 completed/4062 [47:49<1:01:45,  1.71s/it]\n",
      "[*********************100%***********************]  1 of 1 completed90/4062 [47:50<57:24,  1.59s/it]\n",
      "[*********************100%***********************]  1 of 1 completed91/4062 [47:52<54:48,  1.51s/it]\n",
      "[*********************100%***********************]  1 of 1 completed92/4062 [47:53<52:33,  1.45s/it]\n",
      "[*********************100%***********************]  1 of 1 completed93/4062 [47:54<51:27,  1.42s/it]\n",
      "[*********************100%***********************]  1 of 1 completed94/4062 [47:56<50:19,  1.39s/it]\n",
      "[*********************100%***********************]  1 of 1 completed95/4062 [47:57<49:19,  1.37s/it]\n",
      "[*********************100%***********************]  1 of 1 completed96/4062 [47:58<48:53,  1.35s/it]\n",
      "[*********************100%***********************]  1 of 1 completed97/4062 [48:00<48:30,  1.34s/it]\n",
      "\n",
      "1 Failed download:\n",
      "['9437.T']: YFTzMissingError('$%ticker%: possibly delisted; no timezone found')\n",
      " 47%|███████████████████████████▌                               | 1897/4062 [48:01<48:30,  1.34s/it]"
     ]
    },
    {
     "name": "stdout",
     "output_type": "stream",
     "text": [
      "No data found for 9437.T. Skipping...\n"
     ]
    },
    {
     "name": "stderr",
     "output_type": "stream",
     "text": [
      "[*********************100%***********************]  1 of 1 completed/4062 [48:02<1:01:47,  1.71s/it]\n",
      "\n",
      "1 Failed download:\n",
      "['8342.T']: YFTzMissingError('$%ticker%: possibly delisted; no timezone found')\n",
      " 47%|██████████████████████████▋                              | 1898/4062 [48:04<1:01:47,  1.71s/it]"
     ]
    },
    {
     "name": "stdout",
     "output_type": "stream",
     "text": [
      "No data found for 8342.T. Skipping...\n"
     ]
    },
    {
     "name": "stderr",
     "output_type": "stream",
     "text": [
      "[*********************100%***********************]  1 of 1 completed/4062 [48:05<1:08:38,  1.90s/it]\n",
      "[*********************100%***********************]  1 of 1 completed/4062 [48:06<1:02:23,  1.73s/it]\n",
      "\n",
      "1 Failed download:\n",
      "['1352.T']: YFTzMissingError('$%ticker%: possibly delisted; no timezone found')\n",
      " 47%|██████████████████████████▋                              | 1900/4062 [48:07<1:02:23,  1.73s/it]"
     ]
    },
    {
     "name": "stdout",
     "output_type": "stream",
     "text": [
      "No data found for 1352.T. Skipping...\n"
     ]
    },
    {
     "name": "stderr",
     "output_type": "stream",
     "text": [
      "[*********************100%***********************]  1 of 1 completed/4062 [48:08<1:07:34,  1.88s/it]\n",
      "[*********************100%***********************]  1 of 1 completed/4062 [48:09<1:01:53,  1.72s/it]\n",
      "\n",
      "1 Failed download:\n",
      "['5196.T']: YFPricesMissingError('$%ticker%: possibly delisted; no price data found  (1d 2024-10-13 -> 2024-10-20)')\n",
      " 47%|██████████████████████████▋                              | 1902/4062 [48:10<1:01:53,  1.72s/it]"
     ]
    },
    {
     "name": "stdout",
     "output_type": "stream",
     "text": [
      "No data found for 5196.T. Skipping...\n"
     ]
    },
    {
     "name": "stderr",
     "output_type": "stream",
     "text": [
      "[*********************100%***********************]  1 of 1 completed03/4062 [48:11<57:08,  1.59s/it]\n",
      "[*********************100%***********************]  1 of 1 completed04/4062 [48:12<54:24,  1.51s/it]\n",
      "[*********************100%***********************]  1 of 1 completed05/4062 [48:14<56:14,  1.56s/it]\n",
      "\n",
      "1 Failed download:\n",
      "['4962.T']: YFTzMissingError('$%ticker%: possibly delisted; no timezone found')\n",
      " 47%|███████████████████████████▋                               | 1905/4062 [48:16<56:14,  1.56s/it]"
     ]
    },
    {
     "name": "stdout",
     "output_type": "stream",
     "text": [
      "No data found for 4962.T. Skipping...\n"
     ]
    },
    {
     "name": "stderr",
     "output_type": "stream",
     "text": [
      "[*********************100%***********************]  1 of 1 completed/4062 [48:17<1:11:27,  1.99s/it]\n",
      "[*********************100%***********************]  1 of 1 completed/4062 [48:18<1:04:10,  1.79s/it]\n",
      "[*********************100%***********************]  1 of 1 completed/4062 [48:20<1:01:08,  1.70s/it]\n",
      "[*********************100%***********************]  1 of 1 completed09/4062 [48:21<57:39,  1.61s/it]\n",
      "[*********************100%***********************]  1 of 1 completed10/4062 [48:22<54:24,  1.52s/it]\n",
      "[*********************100%***********************]  1 of 1 completed11/4062 [48:24<52:37,  1.47s/it]\n",
      "\n",
      "1 Failed download:\n",
      "['4995.T']: YFTzMissingError('$%ticker%: possibly delisted; no timezone found')\n",
      " 47%|███████████████████████████▊                               | 1911/4062 [48:25<52:37,  1.47s/it]"
     ]
    },
    {
     "name": "stdout",
     "output_type": "stream",
     "text": [
      "No data found for 4995.T. Skipping...\n"
     ]
    },
    {
     "name": "stderr",
     "output_type": "stream",
     "text": [
      "[*********************100%***********************]  1 of 1 completed/4062 [48:26<1:00:34,  1.69s/it]\n",
      "[*********************100%***********************]  1 of 1 completed13/4062 [48:27<56:49,  1.59s/it]\n",
      "[*********************100%***********************]  1 of 1 completed14/4062 [48:28<54:16,  1.52s/it]\n",
      "[*********************100%***********************]  1 of 1 completed15/4062 [48:30<53:17,  1.49s/it]\n",
      "[*********************100%***********************]  1 of 1 completed16/4062 [48:31<51:20,  1.44s/it]\n",
      "[*********************100%***********************]  1 of 1 completed17/4062 [48:33<50:49,  1.42s/it]\n",
      "\n",
      "1 Failed download:\n",
      "['1983.T']: YFTzMissingError('$%ticker%: possibly delisted; no timezone found')\n",
      " 47%|███████████████████████████▊                               | 1917/4062 [48:34<50:49,  1.42s/it]"
     ]
    },
    {
     "name": "stdout",
     "output_type": "stream",
     "text": [
      "No data found for 1983.T. Skipping...\n"
     ]
    },
    {
     "name": "stderr",
     "output_type": "stream",
     "text": [
      "[*********************100%***********************]  1 of 1 completed18/4062 [48:35<59:31,  1.67s/it]\n",
      "[*********************100%***********************]  1 of 1 completed19/4062 [48:36<55:47,  1.56s/it]\n",
      "[*********************100%***********************]  1 of 1 completed20/4062 [48:37<53:27,  1.50s/it]\n",
      "[*********************100%***********************]  1 of 1 completed21/4062 [48:39<51:17,  1.44s/it]\n",
      "[*********************100%***********************]  1 of 1 completed22/4062 [48:40<50:03,  1.40s/it]\n",
      "[*********************100%***********************]  1 of 1 completed23/4062 [48:41<49:23,  1.39s/it]\n",
      "[*********************100%***********************]  1 of 1 completed24/4062 [48:43<48:32,  1.36s/it]\n",
      "[*********************100%***********************]  1 of 1 completed25/4062 [48:44<48:27,  1.36s/it]\n",
      "\n",
      "1 Failed download:\n",
      "['6945.T']: YFTzMissingError('$%ticker%: possibly delisted; no timezone found')\n",
      " 47%|███████████████████████████▉                               | 1925/4062 [48:46<48:27,  1.36s/it]"
     ]
    },
    {
     "name": "stdout",
     "output_type": "stream",
     "text": [
      "No data found for 6945.T. Skipping...\n"
     ]
    },
    {
     "name": "stderr",
     "output_type": "stream",
     "text": [
      "[*********************100%***********************]  1 of 1 completed/4062 [48:47<1:01:48,  1.74s/it]\n",
      "[*********************100%***********************]  1 of 1 completed27/4062 [48:48<57:39,  1.62s/it]\n",
      "[*********************100%***********************]  1 of 1 completed28/4062 [48:49<54:06,  1.52s/it]\n",
      "[*********************100%***********************]  1 of 1 completed29/4062 [48:51<53:28,  1.50s/it]\n",
      "\n",
      "1 Failed download:\n",
      "['5104.T']: YFTzMissingError('$%ticker%: possibly delisted; no timezone found')\n",
      " 47%|████████████████████████████                               | 1929/4062 [48:52<53:28,  1.50s/it]"
     ]
    },
    {
     "name": "stdout",
     "output_type": "stream",
     "text": [
      "No data found for 5104.T. Skipping...\n"
     ]
    },
    {
     "name": "stderr",
     "output_type": "stream",
     "text": [
      "[*********************100%***********************]  1 of 1 completed/4062 [48:53<1:01:10,  1.72s/it]\n",
      "\n",
      "1 Failed download:\n",
      "['4550.T']: YFTzMissingError('$%ticker%: possibly delisted; no timezone found')\n",
      " 48%|███████████████████████████                              | 1930/4062 [48:54<1:01:10,  1.72s/it]"
     ]
    },
    {
     "name": "stdout",
     "output_type": "stream",
     "text": [
      "No data found for 4550.T. Skipping...\n"
     ]
    },
    {
     "name": "stderr",
     "output_type": "stream",
     "text": [
      "[*********************100%***********************]  1 of 1 completed/4062 [48:55<1:07:16,  1.89s/it]\n",
      "[*********************100%***********************]  1 of 1 completed/4062 [48:57<1:04:11,  1.81s/it]\n",
      "[*********************100%***********************]  1 of 1 completed33/4062 [48:58<58:50,  1.66s/it]\n",
      "[*********************100%***********************]  1 of 1 completed34/4062 [49:00<55:40,  1.57s/it]\n",
      "[*********************100%***********************]  1 of 1 completed35/4062 [49:01<53:03,  1.50s/it]\n",
      "[*********************100%***********************]  1 of 1 completed36/4062 [49:02<51:14,  1.45s/it]\n",
      "[*********************100%***********************]  1 of 1 completed37/4062 [49:04<49:49,  1.41s/it]\n",
      "\n",
      "1 Failed download:\n",
      "['1777.T']: YFTzMissingError('$%ticker%: possibly delisted; no timezone found')\n",
      " 48%|████████████████████████████▏                              | 1937/4062 [49:06<49:49,  1.41s/it]"
     ]
    },
    {
     "name": "stdout",
     "output_type": "stream",
     "text": [
      "No data found for 1777.T. Skipping...\n"
     ]
    },
    {
     "name": "stderr",
     "output_type": "stream",
     "text": [
      "[*********************100%***********************]  1 of 1 completed/4062 [49:07<1:07:39,  1.91s/it]\n",
      "[*********************100%***********************]  1 of 1 completed/4062 [49:08<1:01:34,  1.74s/it]\n",
      "[*********************100%***********************]  1 of 1 completed40/4062 [49:09<57:14,  1.62s/it]\n",
      "[*********************100%***********************]  1 of 1 completed41/4062 [49:11<56:43,  1.60s/it]\n",
      "[*********************100%***********************]  1 of 1 completed42/4062 [49:13<56:10,  1.59s/it]\n",
      "[*********************100%***********************]  1 of 1 completed43/4062 [49:14<53:32,  1.52s/it]\n",
      "\n",
      "1 Failed download:\n",
      "['6773.T']: YFTzMissingError('$%ticker%: possibly delisted; no timezone found')\n",
      " 48%|████████████████████████████▏                              | 1943/4062 [49:16<53:32,  1.52s/it]"
     ]
    },
    {
     "name": "stdout",
     "output_type": "stream",
     "text": [
      "No data found for 6773.T. Skipping...\n"
     ]
    },
    {
     "name": "stderr",
     "output_type": "stream",
     "text": [
      "[*********************100%***********************]  1 of 1 completed/4062 [49:17<1:05:34,  1.86s/it]\n",
      "[*********************100%***********************]  1 of 1 completed/4062 [49:18<1:00:04,  1.70s/it]\n",
      "[*********************100%***********************]  1 of 1 completed46/4062 [49:19<59:10,  1.68s/it]\n",
      "[*********************100%***********************]  1 of 1 completed47/4062 [49:21<55:31,  1.58s/it]\n",
      "[*********************100%***********************]  1 of 1 completed48/4062 [49:22<52:49,  1.50s/it]\n",
      "[*********************100%***********************]  1 of 1 completed49/4062 [49:23<51:01,  1.45s/it]\n",
      "[*********************100%***********************]  1 of 1 completed50/4062 [49:25<49:26,  1.40s/it]\n",
      "[*********************100%***********************]  1 of 1 completed51/4062 [49:26<51:42,  1.47s/it]\n",
      "[*********************100%***********************]  1 of 1 completed52/4062 [49:28<50:05,  1.42s/it]\n",
      "[*********************100%***********************]  1 of 1 completed53/4062 [49:29<49:23,  1.41s/it]\n",
      "[*********************100%***********************]  1 of 1 completed54/4062 [49:30<49:28,  1.41s/it]\n",
      "[*********************100%***********************]  1 of 1 completed55/4062 [49:32<48:54,  1.39s/it]\n",
      "[*********************100%***********************]  1 of 1 completed56/4062 [49:33<48:31,  1.38s/it]\n",
      "\n",
      "1 Failed download:\n",
      "['4355.T']: YFTzMissingError('$%ticker%: possibly delisted; no timezone found')\n",
      " 48%|████████████████████████████▍                              | 1956/4062 [49:35<48:31,  1.38s/it]"
     ]
    },
    {
     "name": "stdout",
     "output_type": "stream",
     "text": [
      "No data found for 4355.T. Skipping...\n"
     ]
    },
    {
     "name": "stderr",
     "output_type": "stream",
     "text": [
      "[*********************100%***********************]  1 of 1 completed57/4062 [49:36<59:29,  1.70s/it]\n",
      "[*********************100%***********************]  1 of 1 completed58/4062 [49:37<57:01,  1.63s/it]\n",
      "[*********************100%***********************]  1 of 1 completed59/4062 [49:38<53:30,  1.53s/it]\n",
      "[*********************100%***********************]  1 of 1 completed60/4062 [49:40<53:37,  1.53s/it]\n",
      "[*********************100%***********************]  1 of 1 completed61/4062 [49:41<51:24,  1.47s/it]\n",
      "[*********************100%***********************]  1 of 1 completed62/4062 [49:43<50:43,  1.45s/it]\n",
      "[*********************100%***********************]  1 of 1 completed63/4062 [49:45<56:34,  1.62s/it]\n",
      "[*********************100%***********************]  1 of 1 completed64/4062 [49:46<53:32,  1.53s/it]\n",
      "[*********************100%***********************]  1 of 1 completed65/4062 [49:47<52:53,  1.51s/it]\n",
      "[*********************100%***********************]  1 of 1 completed66/4062 [49:49<56:06,  1.61s/it]\n",
      "[*********************100%***********************]  1 of 1 completed67/4062 [49:51<53:28,  1.53s/it]\n",
      "[*********************100%***********************]  1 of 1 completed68/4062 [49:52<52:49,  1.51s/it]\n",
      "\n",
      "1 Failed download:\n",
      "['1682.T']: YFPricesMissingError('$%ticker%: possibly delisted; no price data found  (1d 2024-10-13 -> 2024-10-20)')\n",
      " 48%|████████████████████████████▌                              | 1968/4062 [49:53<52:49,  1.51s/it]"
     ]
    },
    {
     "name": "stdout",
     "output_type": "stream",
     "text": [
      "No data found for 1682.T. Skipping...\n"
     ]
    },
    {
     "name": "stderr",
     "output_type": "stream",
     "text": [
      "[*********************100%***********************]  1 of 1 completed69/4062 [49:54<53:21,  1.53s/it]\n",
      "[*********************100%***********************]  1 of 1 completed70/4062 [49:55<54:54,  1.57s/it]\n",
      "[*********************100%***********************]  1 of 1 completed71/4062 [49:57<52:47,  1.51s/it]\n",
      "\n",
      "1 Failed download:\n",
      "['1984.T']: YFPricesMissingError('$%ticker%: possibly delisted; no price data found  (1d 2024-10-13 -> 2024-10-20)')\n",
      " 49%|████████████████████████████▋                              | 1971/4062 [49:57<52:47,  1.51s/it]"
     ]
    },
    {
     "name": "stdout",
     "output_type": "stream",
     "text": [
      "No data found for 1984.T. Skipping...\n"
     ]
    },
    {
     "name": "stderr",
     "output_type": "stream",
     "text": [
      "[*********************100%***********************]  1 of 1 completed72/4062 [49:58<51:58,  1.49s/it]\n",
      "[*********************100%***********************]  1 of 1 completed73/4062 [50:00<50:37,  1.45s/it]\n",
      "[*********************100%***********************]  1 of 1 completed74/4062 [50:01<49:16,  1.42s/it]\n",
      "[*********************100%***********************]  1 of 1 completed75/4062 [50:02<48:30,  1.39s/it]\n",
      "[*********************100%***********************]  1 of 1 completed76/4062 [50:04<48:15,  1.39s/it]\n",
      "[*********************100%***********************]  1 of 1 completed77/4062 [50:05<47:51,  1.38s/it]\n",
      "[*********************100%***********************]  1 of 1 completed78/4062 [50:06<47:36,  1.37s/it]\n",
      "\n",
      "1 Failed download:\n",
      "['5781.T']: YFTzMissingError('$%ticker%: possibly delisted; no timezone found')\n",
      " 49%|████████████████████████████▋                              | 1978/4062 [50:08<47:36,  1.37s/it]"
     ]
    },
    {
     "name": "stdout",
     "output_type": "stream",
     "text": [
      "No data found for 5781.T. Skipping...\n"
     ]
    },
    {
     "name": "stderr",
     "output_type": "stream",
     "text": [
      "[*********************100%***********************]  1 of 1 completed/4062 [50:09<1:03:39,  1.83s/it]\n",
      "[*********************100%***********************]  1 of 1 completed/4062 [50:11<1:01:01,  1.76s/it]\n",
      "[*********************100%***********************]  1 of 1 completed81/4062 [50:12<56:43,  1.64s/it]\n",
      "[*********************100%***********************]  1 of 1 completed82/4062 [50:14<54:30,  1.57s/it]\n",
      "[*********************100%***********************]  1 of 1 completed83/4062 [50:15<52:14,  1.51s/it]\n",
      "[*********************100%***********************]  1 of 1 completed84/4062 [50:16<50:12,  1.45s/it]\n",
      "\n",
      "1 Failed download:\n",
      "['9078.T']: YFPricesMissingError('$%ticker%: possibly delisted; no price data found  (1d 2024-10-13 -> 2024-10-20)')\n",
      " 49%|████████████████████████████▊                              | 1984/4062 [50:17<50:12,  1.45s/it]"
     ]
    },
    {
     "name": "stdout",
     "output_type": "stream",
     "text": [
      "No data found for 9078.T. Skipping...\n"
     ]
    },
    {
     "name": "stderr",
     "output_type": "stream",
     "text": [
      "[*********************100%***********************]  1 of 1 completed85/4062 [50:18<48:39,  1.41s/it]\n",
      "[*********************100%***********************]  1 of 1 completed86/4062 [50:19<48:12,  1.39s/it]\n",
      "\n",
      "1 Failed download:\n",
      "['4987.T']: YFTzMissingError('$%ticker%: possibly delisted; no timezone found')\n",
      " 49%|████████████████████████████▊                              | 1986/4062 [50:22<48:12,  1.39s/it]"
     ]
    },
    {
     "name": "stdout",
     "output_type": "stream",
     "text": [
      "No data found for 4987.T. Skipping...\n"
     ]
    },
    {
     "name": "stderr",
     "output_type": "stream",
     "text": [
      "[*********************100%***********************]  1 of 1 completed/4062 [50:23<1:11:20,  2.06s/it]\n",
      "[*********************100%***********************]  1 of 1 completed/4062 [50:24<1:03:56,  1.85s/it]\n",
      "[*********************100%***********************]  1 of 1 completed89/4062 [50:25<58:40,  1.70s/it]\n",
      "[*********************100%***********************]  1 of 1 completed90/4062 [50:27<55:26,  1.61s/it]\n",
      "[*********************100%***********************]  1 of 1 completed91/4062 [50:29<58:37,  1.70s/it]\n",
      "[*********************100%***********************]  1 of 1 completed/4062 [50:30<1:01:17,  1.78s/it]\n",
      "[*********************100%***********************]  1 of 1 completed93/4062 [50:32<56:45,  1.65s/it]\n",
      "\n",
      "1 Failed download:\n",
      "['1575.T']: YFPricesMissingError('$%ticker%: possibly delisted; no price data found  (1d 2024-10-13 -> 2024-10-20)')\n",
      " 49%|████████████████████████████▉                              | 1993/4062 [50:32<56:45,  1.65s/it]"
     ]
    },
    {
     "name": "stdout",
     "output_type": "stream",
     "text": [
      "No data found for 1575.T. Skipping...\n"
     ]
    },
    {
     "name": "stderr",
     "output_type": "stream",
     "text": [
      "[*********************100%***********************]  1 of 1 completed94/4062 [50:33<53:01,  1.54s/it]\n",
      "[*********************100%***********************]  1 of 1 completed95/4062 [50:34<51:05,  1.48s/it]\n",
      "\n",
      "1 Failed download:\n",
      "['5413.T']: YFPricesMissingError('$%ticker%: possibly delisted; no price data found  (1d 2024-10-13 -> 2024-10-20)')\n",
      " 49%|████████████████████████████▉                              | 1995/4062 [50:35<51:05,  1.48s/it]"
     ]
    },
    {
     "name": "stdout",
     "output_type": "stream",
     "text": [
      "No data found for 5413.T. Skipping...\n"
     ]
    },
    {
     "name": "stderr",
     "output_type": "stream",
     "text": [
      "[*********************100%***********************]  1 of 1 completed96/4062 [50:36<49:21,  1.43s/it]\n",
      "[*********************100%***********************]  1 of 1 completed97/4062 [50:37<48:39,  1.41s/it]\n",
      "[*********************100%***********************]  1 of 1 completed98/4062 [50:39<56:51,  1.65s/it]\n",
      "[*********************100%***********************]  1 of 1 completed99/4062 [50:41<53:58,  1.57s/it]\n",
      "[*********************100%***********************]  1 of 1 completed00/4062 [50:42<54:14,  1.58s/it]\n",
      "\n",
      "1 Failed download:\n",
      "['4781.T']: YFPricesMissingError('$%ticker%: possibly delisted; no price data found  (1d 2024-10-13 -> 2024-10-20)')\n",
      " 49%|█████████████████████████████                              | 2000/4062 [50:43<54:14,  1.58s/it]"
     ]
    },
    {
     "name": "stdout",
     "output_type": "stream",
     "text": [
      "No data found for 4781.T. Skipping...\n"
     ]
    },
    {
     "name": "stderr",
     "output_type": "stream",
     "text": [
      "[*********************100%***********************]  1 of 1 completed01/4062 [50:44<52:16,  1.52s/it]\n",
      "\n",
      "1 Failed download:\n",
      "['6303.T']: YFTzMissingError('$%ticker%: possibly delisted; no timezone found')\n",
      " 49%|█████████████████████████████                              | 2001/4062 [50:47<52:16,  1.52s/it]"
     ]
    },
    {
     "name": "stdout",
     "output_type": "stream",
     "text": [
      "No data found for 6303.T. Skipping...\n"
     ]
    },
    {
     "name": "stderr",
     "output_type": "stream",
     "text": [
      "[*********************100%***********************]  1 of 1 completed/4062 [50:48<1:22:55,  2.42s/it]\n",
      "[*********************100%***********************]  1 of 1 completed/4062 [50:50<1:13:11,  2.13s/it]\n",
      "\n",
      "1 Failed download:\n",
      "['3677.T']: YFTzMissingError('$%ticker%: possibly delisted; no timezone found')\n",
      " 49%|████████████████████████████                             | 2003/4062 [50:52<1:13:11,  2.13s/it]"
     ]
    },
    {
     "name": "stdout",
     "output_type": "stream",
     "text": [
      "No data found for 3677.T. Skipping...\n"
     ]
    },
    {
     "name": "stderr",
     "output_type": "stream",
     "text": [
      "[*********************100%***********************]  1 of 1 completed/4062 [50:53<1:26:56,  2.53s/it]\n",
      "\n",
      "1 Failed download:\n",
      "['2128.T']: YFTzMissingError('$%ticker%: possibly delisted; no timezone found')\n",
      " 49%|████████████████████████████                             | 2004/4062 [50:55<1:26:56,  2.53s/it]"
     ]
    },
    {
     "name": "stdout",
     "output_type": "stream",
     "text": [
      "No data found for 2128.T. Skipping...\n"
     ]
    },
    {
     "name": "stderr",
     "output_type": "stream",
     "text": [
      "[*********************100%***********************]  1 of 1 completed/4062 [50:56<1:33:11,  2.72s/it]\n",
      "\n",
      "1 Failed download:\n",
      "['3308.T']: YFTzMissingError('$%ticker%: possibly delisted; no timezone found')\n",
      " 49%|████████████████████████████▏                            | 2005/4062 [50:59<1:33:11,  2.72s/it]"
     ]
    },
    {
     "name": "stdout",
     "output_type": "stream",
     "text": [
      "No data found for 3308.T. Skipping...\n"
     ]
    },
    {
     "name": "stderr",
     "output_type": "stream",
     "text": [
      "[*********************100%***********************]  1 of 1 completed/4062 [51:00<1:42:56,  3.00s/it]\n",
      "\n",
      "1 Failed download:\n",
      "['8248.T']: YFPricesMissingError('$%ticker%: possibly delisted; no price data found  (1d 2024-10-13 -> 2024-10-20)')\n",
      " 49%|████████████████████████████▏                            | 2006/4062 [51:01<1:42:56,  3.00s/it]"
     ]
    },
    {
     "name": "stdout",
     "output_type": "stream",
     "text": [
      "No data found for 8248.T. Skipping...\n"
     ]
    },
    {
     "name": "stderr",
     "output_type": "stream",
     "text": [
      "[*********************100%***********************]  1 of 1 completed/4062 [51:02<1:28:06,  2.57s/it]\n",
      "[*********************100%***********************]  1 of 1 completed/4062 [51:03<1:16:06,  2.22s/it]\n",
      "[*********************100%***********************]  1 of 1 completed/4062 [51:04<1:07:28,  1.97s/it]\n",
      "[*********************100%***********************]  1 of 1 completed/4062 [51:06<1:03:23,  1.85s/it]\n",
      "\n",
      "1 Failed download:\n",
      "['1868.T']: YFPricesMissingError('$%ticker%: possibly delisted; no price data found  (1d 2024-10-13 -> 2024-10-20)')\n",
      " 49%|████████████████████████████▏                            | 2010/4062 [51:06<1:03:23,  1.85s/it]"
     ]
    },
    {
     "name": "stdout",
     "output_type": "stream",
     "text": [
      "No data found for 1868.T. Skipping...\n"
     ]
    },
    {
     "name": "stderr",
     "output_type": "stream",
     "text": [
      "[*********************100%***********************]  1 of 1 completed11/4062 [51:07<58:52,  1.72s/it]\n",
      "[*********************100%***********************]  1 of 1 completed12/4062 [51:09<55:48,  1.63s/it]\n",
      "[*********************100%***********************]  1 of 1 completed13/4062 [51:10<52:35,  1.54s/it]\n",
      "[*********************100%***********************]  1 of 1 completed14/4062 [51:12<51:24,  1.51s/it]\n",
      "[*********************100%***********************]  1 of 1 completed15/4062 [51:13<48:57,  1.43s/it]\n",
      "[*********************100%***********************]  1 of 1 completed16/4062 [51:14<49:58,  1.47s/it]\n",
      "[*********************100%***********************]  1 of 1 completed17/4062 [51:16<51:04,  1.50s/it]\n",
      "[*********************100%***********************]  1 of 1 completed18/4062 [51:17<49:57,  1.47s/it]\n",
      "[*********************100%***********************]  1 of 1 completed19/4062 [51:19<48:01,  1.41s/it]\n",
      "[*********************100%***********************]  1 of 1 completed20/4062 [51:20<48:51,  1.44s/it]\n",
      "[*********************100%***********************]  1 of 1 completed21/4062 [51:22<49:56,  1.47s/it]\n",
      "\n",
      "1 Failed download:\n",
      "['6623.T']: YFTzMissingError('$%ticker%: possibly delisted; no timezone found')\n",
      " 50%|█████████████████████████████▎                             | 2021/4062 [51:24<49:56,  1.47s/it]"
     ]
    },
    {
     "name": "stdout",
     "output_type": "stream",
     "text": [
      "No data found for 6623.T. Skipping...\n"
     ]
    },
    {
     "name": "stderr",
     "output_type": "stream",
     "text": [
      "[*********************100%***********************]  1 of 1 completed/4062 [51:25<1:05:40,  1.93s/it]\n",
      "[*********************100%***********************]  1 of 1 completed/4062 [51:26<1:02:32,  1.84s/it]\n",
      "[*********************100%***********************]  1 of 1 completed/4062 [51:28<1:00:59,  1.80s/it]\n",
      "[*********************100%***********************]  1 of 1 completed25/4062 [51:29<57:07,  1.68s/it]\n",
      "\n",
      "1 Failed download:\n",
      "['8071.T']: YFTzMissingError('$%ticker%: possibly delisted; no timezone found')\n",
      " 50%|█████████████████████████████▍                             | 2025/4062 [51:31<57:07,  1.68s/it]"
     ]
    },
    {
     "name": "stdout",
     "output_type": "stream",
     "text": [
      "No data found for 8071.T. Skipping...\n"
     ]
    },
    {
     "name": "stderr",
     "output_type": "stream",
     "text": [
      "[*********************100%***********************]  1 of 1 completed/4062 [51:32<1:07:43,  2.00s/it]\n",
      "\n",
      "1 Failed download:\n",
      "['8293.T']: YFTzMissingError('$%ticker%: possibly delisted; no timezone found')\n",
      " 50%|████████████████████████████▍                            | 2026/4062 [51:34<1:07:43,  2.00s/it]"
     ]
    },
    {
     "name": "stdout",
     "output_type": "stream",
     "text": [
      "No data found for 8293.T. Skipping...\n"
     ]
    },
    {
     "name": "stderr",
     "output_type": "stream",
     "text": [
      "[*********************100%***********************]  1 of 1 completed/4062 [51:35<1:13:55,  2.18s/it]\n",
      "[*********************100%***********************]  1 of 1 completed/4062 [51:36<1:06:44,  1.97s/it]\n",
      "[*********************100%***********************]  1 of 1 completed/4062 [51:38<1:00:26,  1.78s/it]\n",
      "\n",
      "1 Failed download:\n",
      "['3782.T']: YFTzMissingError('$%ticker%: possibly delisted; no timezone found')\n",
      " 50%|████████████████████████████▍                            | 2029/4062 [51:39<1:00:26,  1.78s/it]"
     ]
    },
    {
     "name": "stdout",
     "output_type": "stream",
     "text": [
      "No data found for 3782.T. Skipping...\n"
     ]
    },
    {
     "name": "stderr",
     "output_type": "stream",
     "text": [
      "[*********************100%***********************]  1 of 1 completed/4062 [51:40<1:10:56,  2.09s/it]\n",
      "[*********************100%***********************]  1 of 1 completed/4062 [51:42<1:07:07,  1.98s/it]\n",
      "[*********************100%***********************]  1 of 1 completed/4062 [51:44<1:03:19,  1.87s/it]\n",
      "[*********************100%***********************]  1 of 1 completed33/4062 [51:45<58:28,  1.73s/it]\n",
      "[*********************100%***********************]  1 of 1 completed34/4062 [51:46<54:01,  1.60s/it]\n",
      "[*********************100%***********************]  1 of 1 completed35/4062 [51:48<51:24,  1.52s/it]\n",
      "[*********************100%***********************]  1 of 1 completed36/4062 [51:49<49:13,  1.46s/it]\n",
      "\n",
      "1 Failed download:\n",
      "['5953.T']: YFTzMissingError('$%ticker%: possibly delisted; no timezone found')\n",
      " 50%|█████████████████████████████▌                             | 2036/4062 [51:50<49:13,  1.46s/it]"
     ]
    },
    {
     "name": "stdout",
     "output_type": "stream",
     "text": [
      "No data found for 5953.T. Skipping...\n"
     ]
    },
    {
     "name": "stderr",
     "output_type": "stream",
     "text": [
      "[*********************100%***********************]  1 of 1 completed37/4062 [51:51<59:26,  1.76s/it]\n",
      "[*********************100%***********************]  1 of 1 completed38/4062 [51:53<54:59,  1.63s/it]\n",
      "[*********************100%***********************]  1 of 1 completed39/4062 [51:54<52:02,  1.54s/it]\n",
      "[*********************100%***********************]  1 of 1 completed40/4062 [51:56<50:11,  1.49s/it]\n",
      "[*********************100%***********************]  1 of 1 completed41/4062 [51:57<49:35,  1.47s/it]\n",
      "[*********************100%***********************]  1 of 1 completed42/4062 [51:58<48:09,  1.43s/it]\n",
      "[*********************100%***********************]  1 of 1 completed43/4062 [52:00<46:57,  1.40s/it]\n",
      "[*********************100%***********************]  1 of 1 completed44/4062 [52:01<45:59,  1.37s/it]\n",
      "[*********************100%***********************]  1 of 1 completed45/4062 [52:02<45:31,  1.35s/it]\n",
      "[*********************100%***********************]  1 of 1 completed46/4062 [52:04<45:21,  1.35s/it]\n",
      "\n",
      "1 Failed download:\n",
      "['8625.T']: YFPricesMissingError('$%ticker%: possibly delisted; no price data found  (1d 2024-10-13 -> 2024-10-20)')\n",
      " 50%|█████████████████████████████▋                             | 2046/4062 [52:04<45:21,  1.35s/it]"
     ]
    },
    {
     "name": "stdout",
     "output_type": "stream",
     "text": [
      "No data found for 8625.T. Skipping...\n"
     ]
    },
    {
     "name": "stderr",
     "output_type": "stream",
     "text": [
      "[*********************100%***********************]  1 of 1 completed47/4062 [52:05<44:39,  1.33s/it]\n",
      "[*********************100%***********************]  1 of 1 completed48/4062 [52:06<44:53,  1.34s/it]\n",
      "[*********************100%***********************]  1 of 1 completed49/4062 [52:08<52:06,  1.55s/it]\n",
      "[*********************100%***********************]  1 of 1 completed50/4062 [52:10<52:28,  1.56s/it]\n",
      "[*********************100%***********************]  1 of 1 completed51/4062 [52:11<50:23,  1.50s/it]\n",
      "[*********************100%***********************]  1 of 1 completed52/4062 [52:13<48:50,  1.46s/it]\n",
      "[*********************100%***********************]  1 of 1 completed53/4062 [52:14<47:35,  1.42s/it]\n",
      "[*********************100%***********************]  1 of 1 completed54/4062 [52:15<46:40,  1.39s/it]\n",
      "[*********************100%***********************]  1 of 1 completed55/4062 [52:17<45:52,  1.37s/it]\n",
      "[*********************100%***********************]  1 of 1 completed56/4062 [52:18<45:32,  1.36s/it]\n",
      "[*********************100%***********************]  1 of 1 completed57/4062 [52:19<45:10,  1.35s/it]\n",
      "[*********************100%***********************]  1 of 1 completed58/4062 [52:21<45:48,  1.37s/it]\n",
      "[*********************100%***********************]  1 of 1 completed59/4062 [52:22<45:36,  1.37s/it]\n",
      "[*********************100%***********************]  1 of 1 completed60/4062 [52:23<45:10,  1.35s/it]\n",
      "\n",
      "1 Failed download:\n",
      "['6077.T']: YFTzMissingError('$%ticker%: possibly delisted; no timezone found')\n",
      " 51%|█████████████████████████████▉                             | 2060/4062 [52:25<45:10,  1.35s/it]"
     ]
    },
    {
     "name": "stdout",
     "output_type": "stream",
     "text": [
      "No data found for 6077.T. Skipping...\n"
     ]
    },
    {
     "name": "stderr",
     "output_type": "stream",
     "text": [
      "[*********************100%***********************]  1 of 1 completed61/4062 [52:26<53:36,  1.61s/it]\n",
      "\n",
      "1 Failed download:\n",
      "['1648.T']: YFPricesMissingError('$%ticker%: possibly delisted; no price data found  (1d 2024-10-13 -> 2024-10-20)')\n",
      " 51%|█████████████████████████████▉                             | 2061/4062 [52:26<53:36,  1.61s/it]"
     ]
    },
    {
     "name": "stdout",
     "output_type": "stream",
     "text": [
      "No data found for 1648.T. Skipping...\n"
     ]
    },
    {
     "name": "stderr",
     "output_type": "stream",
     "text": [
      "[*********************100%***********************]  1 of 1 completed62/4062 [52:27<50:14,  1.51s/it]\n",
      "[*********************100%***********************]  1 of 1 completed63/4062 [52:28<48:48,  1.46s/it]\n",
      "\n",
      "1 Failed download:\n",
      "['3258.T']: YFTzMissingError('$%ticker%: possibly delisted; no timezone found')\n",
      " 51%|█████████████████████████████▉                             | 2063/4062 [52:30<48:48,  1.46s/it]"
     ]
    },
    {
     "name": "stdout",
     "output_type": "stream",
     "text": [
      "No data found for 3258.T. Skipping...\n"
     ]
    },
    {
     "name": "stderr",
     "output_type": "stream",
     "text": [
      "[*********************100%***********************]  1 of 1 completed64/4062 [52:31<59:03,  1.77s/it]\n",
      "\n",
      "1 Failed download:\n",
      "['1916.T']: YFPricesMissingError('$%ticker%: possibly delisted; no price data found  (1d 2024-10-13 -> 2024-10-20)')\n",
      " 51%|█████████████████████████████▉                             | 2064/4062 [52:31<59:03,  1.77s/it]"
     ]
    },
    {
     "name": "stdout",
     "output_type": "stream",
     "text": [
      "No data found for 1916.T. Skipping...\n"
     ]
    },
    {
     "name": "stderr",
     "output_type": "stream",
     "text": [
      "[*********************100%***********************]  1 of 1 completed65/4062 [52:32<55:17,  1.66s/it]\n",
      "[*********************100%***********************]  1 of 1 completed66/4062 [52:33<52:15,  1.57s/it]\n",
      "[*********************100%***********************]  1 of 1 completed67/4062 [52:35<49:45,  1.50s/it]\n",
      "[*********************100%***********************]  1 of 1 completed68/4062 [52:36<48:05,  1.45s/it]\n",
      "[*********************100%***********************]  1 of 1 completed69/4062 [52:37<47:27,  1.43s/it]\n",
      "[*********************100%***********************]  1 of 1 completed70/4062 [52:39<47:09,  1.42s/it]\n",
      "[*********************100%***********************]  1 of 1 completed71/4062 [52:40<46:11,  1.39s/it]\n",
      "[*********************100%***********************]  1 of 1 completed72/4062 [52:41<45:30,  1.37s/it]\n",
      "[*********************100%***********************]  1 of 1 completed73/4062 [52:43<45:21,  1.37s/it]\n",
      "[*********************100%***********************]  1 of 1 completed74/4062 [52:44<45:19,  1.37s/it]\n",
      "[*********************100%***********************]  1 of 1 completed75/4062 [52:46<44:32,  1.35s/it]\n",
      "\n",
      "1 Failed download:\n",
      "['3356.T']: YFTzMissingError('$%ticker%: possibly delisted; no timezone found')\n",
      " 51%|██████████████████████████████▏                            | 2075/4062 [52:47<44:32,  1.35s/it]"
     ]
    },
    {
     "name": "stdout",
     "output_type": "stream",
     "text": [
      "No data found for 3356.T. Skipping...\n"
     ]
    },
    {
     "name": "stderr",
     "output_type": "stream",
     "text": [
      "[*********************100%***********************]  1 of 1 completed76/4062 [52:48<54:34,  1.65s/it]\n",
      "\n",
      "1 Failed download:\n",
      "['6274.T']: YFTzMissingError('$%ticker%: possibly delisted; no timezone found')\n",
      " 51%|██████████████████████████████▏                            | 2076/4062 [52:49<54:34,  1.65s/it]"
     ]
    },
    {
     "name": "stdout",
     "output_type": "stream",
     "text": [
      "No data found for 6274.T. Skipping...\n"
     ]
    },
    {
     "name": "stderr",
     "output_type": "stream",
     "text": [
      "[*********************100%***********************]  1 of 1 completed/4062 [52:50<1:02:52,  1.90s/it]\n",
      "[*********************100%***********************]  1 of 1 completed78/4062 [52:52<57:19,  1.73s/it]\n",
      "[*********************100%***********************]  1 of 1 completed79/4062 [52:53<52:46,  1.60s/it]\n",
      "[*********************100%***********************]  1 of 1 completed80/4062 [52:54<49:59,  1.51s/it]\n",
      "[*********************100%***********************]  1 of 1 completed81/4062 [52:56<48:08,  1.46s/it]\n",
      "[*********************100%***********************]  1 of 1 completed82/4062 [52:57<46:29,  1.41s/it]\n",
      "[*********************100%***********************]  1 of 1 completed83/4062 [52:58<45:56,  1.39s/it]\n",
      "[*********************100%***********************]  1 of 1 completed84/4062 [53:00<45:03,  1.37s/it]\n",
      "[*********************100%***********************]  1 of 1 completed85/4062 [53:01<44:18,  1.34s/it]\n",
      "[*********************100%***********************]  1 of 1 completed86/4062 [53:02<44:22,  1.35s/it]\n",
      "[*********************100%***********************]  1 of 1 completed87/4062 [53:04<43:48,  1.33s/it]\n",
      "\n",
      "1 Failed download:\n",
      "['6581.T']: YFPricesMissingError('$%ticker%: possibly delisted; no price data found  (1d 2024-10-13 -> 2024-10-20)')\n",
      " 51%|██████████████████████████████▎                            | 2087/4062 [53:04<43:48,  1.33s/it]"
     ]
    },
    {
     "name": "stdout",
     "output_type": "stream",
     "text": [
      "No data found for 6581.T. Skipping...\n"
     ]
    },
    {
     "name": "stderr",
     "output_type": "stream",
     "text": [
      "[*********************100%***********************]  1 of 1 completed88/4062 [53:05<43:16,  1.32s/it]\n",
      "[*********************100%***********************]  1 of 1 completed89/4062 [53:06<43:31,  1.32s/it]\n",
      "[*********************100%***********************]  1 of 1 completed90/4062 [53:07<43:49,  1.33s/it]\n",
      "[*********************100%***********************]  1 of 1 completed91/4062 [53:09<43:44,  1.33s/it]\n",
      "[*********************100%***********************]  1 of 1 completed92/4062 [53:10<44:37,  1.36s/it]\n",
      "[*********************100%***********************]  1 of 1 completed93/4062 [53:12<44:34,  1.36s/it]\n",
      "[*********************100%***********************]  1 of 1 completed94/4062 [53:13<44:29,  1.36s/it]\n",
      "[*********************100%***********************]  1 of 1 completed95/4062 [53:14<44:11,  1.35s/it]\n",
      "[*********************100%***********************]  1 of 1 completed96/4062 [53:16<43:48,  1.34s/it]\n",
      "[*********************100%***********************]  1 of 1 completed97/4062 [53:17<44:21,  1.35s/it]\n",
      "[*********************100%***********************]  1 of 1 completed98/4062 [53:18<44:31,  1.36s/it]\n",
      "\n",
      "1 Failed download:\n",
      "['2925.T']: YFTzMissingError('$%ticker%: possibly delisted; no timezone found')\n",
      " 52%|██████████████████████████████▍                            | 2098/4062 [53:20<44:31,  1.36s/it]"
     ]
    },
    {
     "name": "stdout",
     "output_type": "stream",
     "text": [
      "No data found for 2925.T. Skipping...\n"
     ]
    },
    {
     "name": "stderr",
     "output_type": "stream",
     "text": [
      "[*********************100%***********************]  1 of 1 completed99/4062 [53:21<53:15,  1.63s/it]\n",
      "[*********************100%***********************]  1 of 1 completed00/4062 [53:22<50:25,  1.54s/it]\n",
      "[*********************100%***********************]  1 of 1 completed01/4062 [53:23<48:18,  1.48s/it]\n",
      "[*********************100%***********************]  1 of 1 completed02/4062 [53:25<47:10,  1.44s/it]\n",
      "[*********************100%***********************]  1 of 1 completed03/4062 [53:26<46:13,  1.42s/it]\n",
      "[*********************100%***********************]  1 of 1 completed04/4062 [53:27<45:04,  1.38s/it]\n",
      "\n",
      "1 Failed download:\n",
      "['1832.T']: YFTzMissingError('$%ticker%: possibly delisted; no timezone found')\n",
      " 52%|██████████████████████████████▌                            | 2104/4062 [53:29<45:04,  1.38s/it]"
     ]
    },
    {
     "name": "stdout",
     "output_type": "stream",
     "text": [
      "No data found for 1832.T. Skipping...\n"
     ]
    },
    {
     "name": "stderr",
     "output_type": "stream",
     "text": [
      "[*********************100%***********************]  1 of 1 completed05/4062 [53:30<56:08,  1.72s/it]\n",
      "[*********************100%***********************]  1 of 1 completed06/4062 [53:31<52:05,  1.60s/it]\n",
      "\n",
      "1 Failed download:\n",
      "['3145.T']: YFTzMissingError('$%ticker%: possibly delisted; no timezone found')\n",
      " 52%|██████████████████████████████▌                            | 2106/4062 [53:34<52:05,  1.60s/it]"
     ]
    },
    {
     "name": "stdout",
     "output_type": "stream",
     "text": [
      "No data found for 3145.T. Skipping...\n"
     ]
    },
    {
     "name": "stderr",
     "output_type": "stream",
     "text": [
      "[*********************100%***********************]  1 of 1 completed/4062 [53:35<1:11:49,  2.20s/it]\n",
      "[*********************100%***********************]  1 of 1 completed/4062 [53:36<1:05:08,  2.00s/it]\n",
      "[*********************100%***********************]  1 of 1 completed09/4062 [53:38<58:13,  1.79s/it]\n",
      "\n",
      "1 Failed download:\n",
      "['6281.T']: YFTzMissingError('$%ticker%: possibly delisted; no timezone found')\n",
      " 52%|██████████████████████████████▋                            | 2109/4062 [53:40<58:13,  1.79s/it]"
     ]
    },
    {
     "name": "stdout",
     "output_type": "stream",
     "text": [
      "No data found for 6281.T. Skipping...\n"
     ]
    },
    {
     "name": "stderr",
     "output_type": "stream",
     "text": [
      "[*********************100%***********************]  1 of 1 completed/4062 [53:41<1:11:52,  2.21s/it]\n",
      "[*********************100%***********************]  1 of 1 completed/4062 [53:42<1:03:36,  1.96s/it]\n",
      "\n",
      "1 Failed download:\n",
      "['1553.T']: YFTzMissingError('$%ticker%: possibly delisted; no timezone found')\n",
      " 52%|█████████████████████████████▌                           | 2111/4062 [53:44<1:03:36,  1.96s/it]"
     ]
    },
    {
     "name": "stdout",
     "output_type": "stream",
     "text": [
      "No data found for 1553.T. Skipping...\n"
     ]
    },
    {
     "name": "stderr",
     "output_type": "stream",
     "text": [
      "[*********************100%***********************]  1 of 1 completed/4062 [53:45<1:11:12,  2.19s/it]\n",
      "[*********************100%***********************]  1 of 1 completed/4062 [53:46<1:02:34,  1.93s/it]\n",
      "[*********************100%***********************]  1 of 1 completed14/4062 [53:47<56:38,  1.74s/it]\n",
      "[*********************100%***********************]  1 of 1 completed15/4062 [53:49<52:46,  1.63s/it]\n",
      "[*********************100%***********************]  1 of 1 completed16/4062 [53:50<50:35,  1.56s/it]\n",
      "[*********************100%***********************]  1 of 1 completed17/4062 [53:52<48:17,  1.49s/it]\n",
      "\n",
      "1 Failed download:\n",
      "['2218.T']: YFTzMissingError('$%ticker%: possibly delisted; no timezone found')\n",
      " 52%|██████████████████████████████▋                            | 2117/4062 [53:53<48:17,  1.49s/it]"
     ]
    },
    {
     "name": "stdout",
     "output_type": "stream",
     "text": [
      "No data found for 2218.T. Skipping...\n"
     ]
    },
    {
     "name": "stderr",
     "output_type": "stream",
     "text": [
      "[*********************100%***********************]  1 of 1 completed/4062 [53:54<1:00:09,  1.86s/it]\n",
      "[*********************100%***********************]  1 of 1 completed19/4062 [53:56<55:10,  1.70s/it]\n",
      "[*********************100%***********************]  1 of 1 completed20/4062 [53:58<56:47,  1.75s/it]\n",
      "[*********************100%***********************]  1 of 1 completed21/4062 [53:59<52:34,  1.63s/it]\n",
      "\n",
      "1 Failed download:\n",
      "['9764.T']: YFPricesMissingError('$%ticker%: possibly delisted; no price data found  (1d 2024-10-13 -> 2024-10-20)')\n",
      " 52%|██████████████████████████████▊                            | 2121/4062 [53:59<52:34,  1.63s/it]"
     ]
    },
    {
     "name": "stdout",
     "output_type": "stream",
     "text": [
      "No data found for 9764.T. Skipping...\n"
     ]
    },
    {
     "name": "stderr",
     "output_type": "stream",
     "text": [
      "[*********************100%***********************]  1 of 1 completed22/4062 [54:00<50:07,  1.55s/it]\n",
      "[*********************100%***********************]  1 of 1 completed23/4062 [54:02<48:11,  1.49s/it]\n",
      "[*********************100%***********************]  1 of 1 completed24/4062 [54:03<49:42,  1.54s/it]\n",
      "[*********************100%***********************]  1 of 1 completed25/4062 [54:05<48:17,  1.50s/it]\n",
      "[*********************100%***********************]  1 of 1 completed26/4062 [54:06<47:13,  1.46s/it]\n",
      "\n",
      "1 Failed download:\n",
      "['9375.T']: YFTzMissingError('$%ticker%: possibly delisted; no timezone found')\n",
      " 52%|██████████████████████████████▉                            | 2126/4062 [54:07<47:13,  1.46s/it]"
     ]
    },
    {
     "name": "stdout",
     "output_type": "stream",
     "text": [
      "No data found for 9375.T. Skipping...\n"
     ]
    },
    {
     "name": "stderr",
     "output_type": "stream",
     "text": [
      "[*********************100%***********************]  1 of 1 completed27/4062 [54:08<54:32,  1.69s/it]\n",
      "[*********************100%***********************]  1 of 1 completed28/4062 [54:10<51:07,  1.59s/it]\n",
      "\n",
      "1 Failed download:\n",
      "['3785.T']: YFTzMissingError('$%ticker%: possibly delisted; no timezone found')\n",
      " 52%|██████████████████████████████▉                            | 2128/4062 [54:11<51:07,  1.59s/it]"
     ]
    },
    {
     "name": "stdout",
     "output_type": "stream",
     "text": [
      "No data found for 3785.T. Skipping...\n"
     ]
    },
    {
     "name": "stderr",
     "output_type": "stream",
     "text": [
      "[*********************100%***********************]  1 of 1 completed29/4062 [54:12<57:03,  1.77s/it]\n",
      "[*********************100%***********************]  1 of 1 completed30/4062 [54:13<54:31,  1.69s/it]\n",
      "[*********************100%***********************]  1 of 1 completed31/4062 [54:15<51:08,  1.59s/it]\n",
      "[*********************100%***********************]  1 of 1 completed32/4062 [54:16<48:37,  1.51s/it]\n",
      "[*********************100%***********************]  1 of 1 completed33/4062 [54:17<47:14,  1.47s/it]\n",
      "[*********************100%***********************]  1 of 1 completed34/4062 [54:19<46:49,  1.46s/it]\n",
      "[*********************100%***********************]  1 of 1 completed35/4062 [54:20<45:16,  1.41s/it]\n",
      "[*********************100%***********************]  1 of 1 completed36/4062 [54:21<44:43,  1.39s/it]\n",
      "[*********************100%***********************]  1 of 1 completed37/4062 [54:23<44:06,  1.37s/it]\n",
      "[*********************100%***********************]  1 of 1 completed38/4062 [54:24<43:45,  1.36s/it]\n",
      "\n",
      "1 Failed download:\n",
      "['6280.T']: YFTzMissingError('$%ticker%: possibly delisted; no timezone found')\n",
      " 53%|███████████████████████████████                            | 2138/4062 [54:25<43:45,  1.36s/it]"
     ]
    },
    {
     "name": "stdout",
     "output_type": "stream",
     "text": [
      "No data found for 6280.T. Skipping...\n"
     ]
    },
    {
     "name": "stderr",
     "output_type": "stream",
     "text": [
      "[*********************100%***********************]  1 of 1 completed39/4062 [54:26<52:05,  1.63s/it]\n",
      "[*********************100%***********************]  1 of 1 completed40/4062 [54:28<49:06,  1.53s/it]\n",
      "[*********************100%***********************]  1 of 1 completed41/4062 [54:29<46:40,  1.46s/it]\n",
      "[*********************100%***********************]  1 of 1 completed42/4062 [54:30<46:16,  1.45s/it]\n",
      "[*********************100%***********************]  1 of 1 completed43/4062 [54:32<45:16,  1.42s/it]\n",
      "[*********************100%***********************]  1 of 1 completed44/4062 [54:33<44:26,  1.39s/it]\n",
      "[*********************100%***********************]  1 of 1 completed45/4062 [54:34<43:50,  1.37s/it]\n",
      "[*********************100%***********************]  1 of 1 completed46/4062 [54:36<43:17,  1.36s/it]\n",
      "[*********************100%***********************]  1 of 1 completed47/4062 [54:37<43:27,  1.36s/it]\n",
      "[*********************100%***********************]  1 of 1 completed48/4062 [54:38<43:19,  1.36s/it]\n",
      "[*********************100%***********************]  1 of 1 completed49/4062 [54:40<43:40,  1.37s/it]\n",
      "[*********************100%***********************]  1 of 1 completed50/4062 [54:41<43:14,  1.36s/it]\n",
      "\n",
      "1 Failed download:\n",
      "['9318.T']: YFTzMissingError('$%ticker%: possibly delisted; no timezone found')\n",
      " 53%|███████████████████████████████▏                           | 2150/4062 [54:43<43:14,  1.36s/it]"
     ]
    },
    {
     "name": "stdout",
     "output_type": "stream",
     "text": [
      "No data found for 9318.T. Skipping...\n"
     ]
    },
    {
     "name": "stderr",
     "output_type": "stream",
     "text": [
      "[*********************100%***********************]  1 of 1 completed51/4062 [54:44<54:37,  1.72s/it]\n",
      "\n",
      "1 Failed download:\n",
      "['9870.T']: YFTzMissingError('$%ticker%: possibly delisted; no timezone found')\n",
      " 53%|███████████████████████████████▏                           | 2151/4062 [54:45<54:37,  1.72s/it]"
     ]
    },
    {
     "name": "stdout",
     "output_type": "stream",
     "text": [
      "No data found for 9870.T. Skipping...\n"
     ]
    },
    {
     "name": "stderr",
     "output_type": "stream",
     "text": [
      "[*********************100%***********************]  1 of 1 completed/4062 [54:46<1:02:48,  1.97s/it]\n",
      "\n",
      "1 Failed download:\n",
      "['6816.T']: YFPricesMissingError('$%ticker%: possibly delisted; no price data found  (1d 2024-10-13 -> 2024-10-20)')\n",
      " 53%|██████████████████████████████▏                          | 2152/4062 [54:47<1:02:48,  1.97s/it]"
     ]
    },
    {
     "name": "stdout",
     "output_type": "stream",
     "text": [
      "No data found for 6816.T. Skipping...\n"
     ]
    },
    {
     "name": "stderr",
     "output_type": "stream",
     "text": [
      "[*********************100%***********************]  1 of 1 completed53/4062 [54:48<56:28,  1.77s/it]\n",
      "[*********************100%***********************]  1 of 1 completed54/4062 [54:49<52:07,  1.64s/it]\n",
      "[*********************100%***********************]  1 of 1 completed55/4062 [54:50<49:34,  1.56s/it]\n",
      "[*********************100%***********************]  1 of 1 completed56/4062 [54:52<47:21,  1.49s/it]\n",
      "[*********************100%***********************]  1 of 1 completed57/4062 [54:53<45:37,  1.44s/it]\n",
      "[*********************100%***********************]  1 of 1 completed58/4062 [54:54<44:32,  1.40s/it]\n",
      "[*********************100%***********************]  1 of 1 completed59/4062 [54:56<44:14,  1.39s/it]\n",
      "[*********************100%***********************]  1 of 1 completed60/4062 [54:57<45:38,  1.44s/it]\n",
      "[*********************100%***********************]  1 of 1 completed61/4062 [54:58<44:47,  1.41s/it]\n",
      "[*********************100%***********************]  1 of 1 completed62/4062 [55:00<44:07,  1.39s/it]\n",
      "\n",
      "1 Failed download:\n",
      "['4217.T']: YFTzMissingError('$%ticker%: possibly delisted; no timezone found')\n",
      " 53%|███████████████████████████████▍                           | 2162/4062 [55:01<44:07,  1.39s/it]"
     ]
    },
    {
     "name": "stdout",
     "output_type": "stream",
     "text": [
      "No data found for 4217.T. Skipping...\n"
     ]
    },
    {
     "name": "stderr",
     "output_type": "stream",
     "text": [
      "[*********************100%***********************]  1 of 1 completed63/4062 [55:02<54:27,  1.72s/it]\n",
      "\n",
      "1 Failed download:\n",
      "['1314.T']: YFTzMissingError('$%ticker%: possibly delisted; no timezone found')\n",
      " 53%|███████████████████████████████▍                           | 2163/4062 [55:04<54:27,  1.72s/it]"
     ]
    },
    {
     "name": "stdout",
     "output_type": "stream",
     "text": [
      "No data found for 1314.T. Skipping...\n"
     ]
    },
    {
     "name": "stderr",
     "output_type": "stream",
     "text": [
      "[*********************100%***********************]  1 of 1 completed/4062 [55:05<1:04:28,  2.04s/it]\n",
      "[*********************100%***********************]  1 of 1 completed65/4062 [55:06<57:08,  1.81s/it]\n",
      "\n",
      "1 Failed download:\n",
      "['3724.T']: YFTzMissingError('$%ticker%: possibly delisted; no timezone found')\n",
      " 53%|███████████████████████████████▍                           | 2165/4062 [55:08<57:08,  1.81s/it]"
     ]
    },
    {
     "name": "stdout",
     "output_type": "stream",
     "text": [
      "No data found for 3724.T. Skipping...\n"
     ]
    },
    {
     "name": "stderr",
     "output_type": "stream",
     "text": [
      "[*********************100%***********************]  1 of 1 completed/4062 [55:09<1:01:31,  1.95s/it]\n",
      "[*********************100%***********************]  1 of 1 completed67/4062 [55:10<55:47,  1.77s/it]\n",
      "[*********************100%***********************]  1 of 1 completed68/4062 [55:11<51:36,  1.63s/it]\n",
      "[*********************100%***********************]  1 of 1 completed69/4062 [55:13<48:39,  1.54s/it]\n",
      "[*********************100%***********************]  1 of 1 completed70/4062 [55:14<47:19,  1.50s/it]\n",
      "[*********************100%***********************]  1 of 1 completed71/4062 [55:15<45:34,  1.45s/it]\n",
      "[*********************100%***********************]  1 of 1 completed72/4062 [55:17<46:26,  1.47s/it]\n",
      "[*********************100%***********************]  1 of 1 completed73/4062 [55:18<45:16,  1.44s/it]\n",
      "[*********************100%***********************]  1 of 1 completed74/4062 [55:20<44:14,  1.41s/it]\n",
      "[*********************100%***********************]  1 of 1 completed75/4062 [55:21<43:47,  1.39s/it]\n",
      "[*********************100%***********************]  1 of 1 completed76/4062 [55:22<42:47,  1.36s/it]\n",
      "[*********************100%***********************]  1 of 1 completed77/4062 [55:24<42:37,  1.36s/it]\n",
      "[*********************100%***********************]  1 of 1 completed78/4062 [55:25<42:34,  1.36s/it]\n",
      "[*********************100%***********************]  1 of 1 completed79/4062 [55:26<42:45,  1.36s/it]\n",
      "[*********************100%***********************]  1 of 1 completed80/4062 [55:28<42:45,  1.36s/it]\n",
      "[*********************100%***********************]  1 of 1 completed81/4062 [55:29<42:32,  1.36s/it]\n",
      "\n",
      "1 Failed download:\n",
      "['8840.T']: YFPricesMissingError('$%ticker%: possibly delisted; no price data found  (1d 2024-10-13 -> 2024-10-20)')\n",
      " 54%|███████████████████████████████▋                           | 2181/4062 [55:29<42:32,  1.36s/it]"
     ]
    },
    {
     "name": "stdout",
     "output_type": "stream",
     "text": [
      "No data found for 8840.T. Skipping...\n"
     ]
    },
    {
     "name": "stderr",
     "output_type": "stream",
     "text": [
      "[*********************100%***********************]  1 of 1 completed82/4062 [55:30<42:09,  1.35s/it]\n",
      "\n",
      "1 Failed download:\n",
      "['9040.T']: YFTzMissingError('$%ticker%: possibly delisted; no timezone found')\n",
      " 54%|███████████████████████████████▋                           | 2182/4062 [55:33<42:09,  1.35s/it]"
     ]
    },
    {
     "name": "stdout",
     "output_type": "stream",
     "text": [
      "No data found for 9040.T. Skipping...\n"
     ]
    },
    {
     "name": "stderr",
     "output_type": "stream",
     "text": [
      "[*********************100%***********************]  1 of 1 completed/4062 [55:34<1:00:32,  1.93s/it]\n",
      "[*********************100%***********************]  1 of 1 completed84/4062 [55:35<54:30,  1.74s/it]\n",
      "[*********************100%***********************]  1 of 1 completed85/4062 [55:36<50:51,  1.63s/it]\n",
      "[*********************100%***********************]  1 of 1 completed86/4062 [55:38<50:36,  1.62s/it]\n",
      "[*********************100%***********************]  1 of 1 completed87/4062 [55:39<47:53,  1.53s/it]\n",
      "\n",
      "1 Failed download:\n",
      "['5758.T']: YFTzMissingError('$%ticker%: possibly delisted; no timezone found')\n",
      " 54%|███████████████████████████████▊                           | 2187/4062 [55:41<47:53,  1.53s/it]"
     ]
    },
    {
     "name": "stdout",
     "output_type": "stream",
     "text": [
      "No data found for 5758.T. Skipping...\n"
     ]
    },
    {
     "name": "stderr",
     "output_type": "stream",
     "text": [
      "[*********************100%***********************]  1 of 1 completed/4062 [55:42<1:00:39,  1.94s/it]\n",
      "[*********************100%***********************]  1 of 1 completed89/4062 [55:44<55:47,  1.79s/it]\n",
      "\n",
      "1 Failed download:\n",
      "['2137.T']: YFTzMissingError('$%ticker%: possibly delisted; no timezone found')\n",
      " 54%|███████████████████████████████▊                           | 2189/4062 [55:48<55:47,  1.79s/it]"
     ]
    },
    {
     "name": "stdout",
     "output_type": "stream",
     "text": [
      "No data found for 2137.T. Skipping...\n"
     ]
    },
    {
     "name": "stderr",
     "output_type": "stream",
     "text": [
      "[*********************100%***********************]  1 of 1 completed/4062 [55:49<1:32:54,  2.98s/it]\n",
      "[*********************100%***********************]  1 of 1 completed/4062 [55:51<1:17:30,  2.49s/it]\n",
      "[*********************100%***********************]  1 of 1 completed/4062 [55:52<1:06:58,  2.15s/it]\n",
      "[*********************100%***********************]  1 of 1 completed93/4062 [55:53<59:17,  1.90s/it]\n",
      "\n",
      "1 Failed download:\n",
      "['3808.T']: YFTzMissingError('$%ticker%: possibly delisted; no timezone found')\n",
      " 54%|███████████████████████████████▊                           | 2193/4062 [55:55<59:17,  1.90s/it]"
     ]
    },
    {
     "name": "stdout",
     "output_type": "stream",
     "text": [
      "No data found for 3808.T. Skipping...\n"
     ]
    },
    {
     "name": "stderr",
     "output_type": "stream",
     "text": [
      "[*********************100%***********************]  1 of 1 completed/4062 [55:56<1:06:10,  2.13s/it]\n",
      "[*********************100%***********************]  1 of 1 completed95/4062 [55:57<58:45,  1.89s/it]\n",
      "\n",
      "1 Failed download:\n",
      "['8175.T']: YFPricesMissingError('$%ticker%: possibly delisted; no price data found  (1d 2024-10-13 -> 2024-10-20)')\n",
      " 54%|███████████████████████████████▉                           | 2195/4062 [55:58<58:45,  1.89s/it]"
     ]
    },
    {
     "name": "stdout",
     "output_type": "stream",
     "text": [
      "No data found for 8175.T. Skipping...\n"
     ]
    },
    {
     "name": "stderr",
     "output_type": "stream",
     "text": [
      "[*********************100%***********************]  1 of 1 completed96/4062 [55:59<53:35,  1.72s/it]\n",
      "\n",
      "1 Failed download:\n",
      "['6944.T']: YFTzMissingError('$%ticker%: possibly delisted; no timezone found')\n",
      " 54%|███████████████████████████████▉                           | 2196/4062 [56:00<53:35,  1.72s/it]"
     ]
    },
    {
     "name": "stdout",
     "output_type": "stream",
     "text": [
      "No data found for 6944.T. Skipping...\n"
     ]
    },
    {
     "name": "stderr",
     "output_type": "stream",
     "text": [
      "[*********************100%***********************]  1 of 1 completed97/4062 [56:01<59:36,  1.92s/it]\n",
      "\n",
      "1 Failed download:\n",
      "['6719.T']: YFPricesMissingError('$%ticker%: possibly delisted; no price data found  (1d 2024-10-13 -> 2024-10-20)')\n",
      " 54%|███████████████████████████████▉                           | 2197/4062 [56:01<59:36,  1.92s/it]"
     ]
    },
    {
     "name": "stdout",
     "output_type": "stream",
     "text": [
      "No data found for 6719.T. Skipping...\n"
     ]
    },
    {
     "name": "stderr",
     "output_type": "stream",
     "text": [
      "[*********************100%***********************]  1 of 1 completed98/4062 [56:02<53:42,  1.73s/it]\n",
      "\n",
      "1 Failed download:\n",
      "['3830.T']: YFTzMissingError('$%ticker%: possibly delisted; no timezone found')\n",
      " 54%|███████████████████████████████▉                           | 2198/4062 [56:04<53:42,  1.73s/it]"
     ]
    },
    {
     "name": "stdout",
     "output_type": "stream",
     "text": [
      "No data found for 3830.T. Skipping...\n"
     ]
    },
    {
     "name": "stderr",
     "output_type": "stream",
     "text": [
      "[*********************100%***********************]  1 of 1 completed/4062 [56:05<1:03:07,  2.03s/it]\n",
      "[*********************100%***********************]  1 of 1 completed00/4062 [56:06<56:25,  1.82s/it]\n",
      "\n",
      "1 Failed download:\n",
      "['7591.T']: YFTzMissingError('$%ticker%: possibly delisted; no timezone found')\n",
      " 54%|███████████████████████████████▉                           | 2200/4062 [56:10<56:25,  1.82s/it]"
     ]
    },
    {
     "name": "stdout",
     "output_type": "stream",
     "text": [
      "No data found for 7591.T. Skipping...\n"
     ]
    },
    {
     "name": "stderr",
     "output_type": "stream",
     "text": [
      "[*********************100%***********************]  1 of 1 completed/4062 [56:11<1:19:32,  2.56s/it]\n",
      "[*********************100%***********************]  1 of 1 completed/4062 [56:12<1:08:26,  2.21s/it]\n",
      "[*********************100%***********************]  1 of 1 completed/4062 [56:13<1:00:00,  1.94s/it]\n",
      "[*********************100%***********************]  1 of 1 completed04/4062 [56:15<53:55,  1.74s/it]\n",
      "[*********************100%***********************]  1 of 1 completed05/4062 [56:16<50:22,  1.63s/it]\n",
      "\n",
      "1 Failed download:\n",
      "['9176.T']: YFTzMissingError('$%ticker%: possibly delisted; no timezone found')\n",
      " 54%|████████████████████████████████                           | 2205/4062 [56:18<50:22,  1.63s/it]"
     ]
    },
    {
     "name": "stdout",
     "output_type": "stream",
     "text": [
      "No data found for 9176.T. Skipping...\n"
     ]
    },
    {
     "name": "stderr",
     "output_type": "stream",
     "text": [
      "[*********************100%***********************]  1 of 1 completed/4062 [56:19<1:02:39,  2.03s/it]\n",
      "[*********************100%***********************]  1 of 1 completed07/4062 [56:20<56:18,  1.82s/it]\n",
      "[*********************100%***********************]  1 of 1 completed08/4062 [56:22<52:24,  1.70s/it]\n",
      "\n",
      "1 Failed download:\n",
      "['9945.T']: YFTzMissingError('$%ticker%: possibly delisted; no timezone found')\n",
      " 54%|████████████████████████████████                           | 2208/4062 [56:24<52:24,  1.70s/it]"
     ]
    },
    {
     "name": "stdout",
     "output_type": "stream",
     "text": [
      "No data found for 9945.T. Skipping...\n"
     ]
    },
    {
     "name": "stderr",
     "output_type": "stream",
     "text": [
      "[*********************100%***********************]  1 of 1 completed/4062 [56:25<1:06:02,  2.14s/it]\n",
      "\n",
      "1 Failed download:\n",
      "['8327.T']: YFPricesMissingError('$%ticker%: possibly delisted; no price data found  (1d 2024-10-13 -> 2024-10-20)')\n",
      " 54%|██████████████████████████████▉                          | 2209/4062 [56:25<1:06:02,  2.14s/it]"
     ]
    },
    {
     "name": "stdout",
     "output_type": "stream",
     "text": [
      "No data found for 8327.T. Skipping...\n"
     ]
    },
    {
     "name": "stderr",
     "output_type": "stream",
     "text": [
      "[*********************100%***********************]  1 of 1 completed10/4062 [56:26<57:58,  1.88s/it]\n",
      "\n",
      "1 Failed download:\n",
      "['1636.T']: YFPricesMissingError('$%ticker%: possibly delisted; no price data found  (1d 2024-10-13 -> 2024-10-20)')\n",
      " 54%|████████████████████████████████                           | 2210/4062 [56:26<57:58,  1.88s/it]"
     ]
    },
    {
     "name": "stdout",
     "output_type": "stream",
     "text": [
      "No data found for 1636.T. Skipping...\n"
     ]
    },
    {
     "name": "stderr",
     "output_type": "stream",
     "text": [
      "[*********************100%***********************]  1 of 1 completed11/4062 [56:27<52:23,  1.70s/it]\n",
      "[*********************100%***********************]  1 of 1 completed12/4062 [56:29<49:06,  1.59s/it]\n",
      "[*********************100%***********************]  1 of 1 completed13/4062 [56:30<46:48,  1.52s/it]\n",
      "[*********************100%***********************]  1 of 1 completed14/4062 [56:31<45:12,  1.47s/it]\n",
      "[*********************100%***********************]  1 of 1 completed15/4062 [56:33<44:06,  1.43s/it]\n",
      "[*********************100%***********************]  1 of 1 completed16/4062 [56:34<43:12,  1.40s/it]\n",
      "[*********************100%***********************]  1 of 1 completed17/4062 [56:35<42:39,  1.39s/it]\n",
      "[*********************100%***********************]  1 of 1 completed18/4062 [56:37<43:49,  1.43s/it]\n",
      "\n",
      "1 Failed download:\n",
      "['4557.T']: YFTzMissingError('$%ticker%: possibly delisted; no timezone found')\n",
      " 55%|████████████████████████████████▏                          | 2218/4062 [56:39<43:49,  1.43s/it]"
     ]
    },
    {
     "name": "stdout",
     "output_type": "stream",
     "text": [
      "No data found for 4557.T. Skipping...\n"
     ]
    },
    {
     "name": "stderr",
     "output_type": "stream",
     "text": [
      "[*********************100%***********************]  1 of 1 completed19/4062 [56:40<57:43,  1.88s/it]\n",
      "[*********************100%***********************]  1 of 1 completed20/4062 [56:41<52:20,  1.70s/it]\n",
      "\n",
      "1 Failed download:\n",
      "['7873.T']: YFTzMissingError('$%ticker%: possibly delisted; no timezone found')\n",
      " 55%|████████████████████████████████▏                          | 2220/4062 [56:43<52:20,  1.70s/it]"
     ]
    },
    {
     "name": "stdout",
     "output_type": "stream",
     "text": [
      "No data found for 7873.T. Skipping...\n"
     ]
    },
    {
     "name": "stderr",
     "output_type": "stream",
     "text": [
      "[*********************100%***********************]  1 of 1 completed/4062 [56:44<1:03:20,  2.06s/it]\n",
      "[*********************100%***********************]  1 of 1 completed22/4062 [56:45<56:18,  1.84s/it]\n",
      "[*********************100%***********************]  1 of 1 completed23/4062 [56:47<51:34,  1.68s/it]\n",
      "[*********************100%***********************]  1 of 1 completed24/4062 [56:48<48:16,  1.58s/it]\n",
      "[*********************100%***********************]  1 of 1 completed25/4062 [56:50<46:42,  1.53s/it]\n",
      "[*********************100%***********************]  1 of 1 completed26/4062 [56:51<44:54,  1.47s/it]\n",
      "[*********************100%***********************]  1 of 1 completed27/4062 [56:52<43:42,  1.43s/it]\n",
      "[*********************100%***********************]  1 of 1 completed28/4062 [56:54<42:41,  1.40s/it]\n",
      "[*********************100%***********************]  1 of 1 completed29/4062 [56:55<41:55,  1.37s/it]\n",
      "[*********************100%***********************]  1 of 1 completed30/4062 [56:56<41:21,  1.35s/it]\n",
      "[*********************100%***********************]  1 of 1 completed31/4062 [56:57<41:07,  1.35s/it]\n",
      "[*********************100%***********************]  1 of 1 completed32/4062 [56:59<40:37,  1.33s/it]\n",
      "\n",
      "1 Failed download:\n",
      "['1405.T']: YFTzMissingError('$%ticker%: possibly delisted; no timezone found')\n",
      " 55%|████████████████████████████████▍                          | 2232/4062 [57:01<40:37,  1.33s/it]"
     ]
    },
    {
     "name": "stdout",
     "output_type": "stream",
     "text": [
      "No data found for 1405.T. Skipping...\n"
     ]
    },
    {
     "name": "stderr",
     "output_type": "stream",
     "text": [
      "[*********************100%***********************]  1 of 1 completed33/4062 [57:02<55:29,  1.82s/it]\n",
      "[*********************100%***********************]  1 of 1 completed34/4062 [57:03<51:14,  1.68s/it]\n",
      "[*********************100%***********************]  1 of 1 completed35/4062 [57:04<48:27,  1.59s/it]\n",
      "[*********************100%***********************]  1 of 1 completed36/4062 [57:06<45:36,  1.50s/it]\n",
      "[*********************100%***********************]  1 of 1 completed37/4062 [57:07<43:37,  1.43s/it]\n",
      "[*********************100%***********************]  1 of 1 completed38/4062 [57:09<45:52,  1.51s/it]\n",
      "[*********************100%***********************]  1 of 1 completed39/4062 [57:10<44:15,  1.46s/it]\n",
      "[*********************100%***********************]  1 of 1 completed40/4062 [57:11<43:11,  1.42s/it]\n",
      "[*********************100%***********************]  1 of 1 completed41/4062 [57:13<42:22,  1.40s/it]\n",
      "[*********************100%***********************]  1 of 1 completed42/4062 [57:14<42:07,  1.39s/it]\n",
      "\n",
      "1 Failed download:\n",
      "['4336.T']: YFTzMissingError('$%ticker%: possibly delisted; no timezone found')\n",
      " 55%|████████████████████████████████▌                          | 2242/4062 [57:16<42:07,  1.39s/it]"
     ]
    },
    {
     "name": "stdout",
     "output_type": "stream",
     "text": [
      "No data found for 4336.T. Skipping...\n"
     ]
    },
    {
     "name": "stderr",
     "output_type": "stream",
     "text": [
      "[*********************100%***********************]  1 of 1 completed43/4062 [57:17<58:44,  1.94s/it]\n",
      "[*********************100%***********************]  1 of 1 completed44/4062 [57:19<53:29,  1.77s/it]\n",
      "[*********************100%***********************]  1 of 1 completed45/4062 [57:20<49:58,  1.65s/it]\n",
      "[*********************100%***********************]  1 of 1 completed46/4062 [57:21<47:00,  1.55s/it]\n",
      "\n",
      "1 Failed download:\n",
      "['1734.T']: YFTzMissingError('$%ticker%: possibly delisted; no timezone found')\n",
      " 55%|████████████████████████████████▌                          | 2246/4062 [57:23<47:00,  1.55s/it]"
     ]
    },
    {
     "name": "stdout",
     "output_type": "stream",
     "text": [
      "No data found for 1734.T. Skipping...\n"
     ]
    },
    {
     "name": "stderr",
     "output_type": "stream",
     "text": [
      "[*********************100%***********************]  1 of 1 completed47/4062 [57:24<59:27,  1.97s/it]\n",
      "\n",
      "1 Failed download:\n",
      "['8973.T']: YFPricesMissingError('$%ticker%: possibly delisted; no price data found  (1d 2024-10-13 -> 2024-10-20)')\n",
      " 55%|████████████████████████████████▋                          | 2247/4062 [57:25<59:27,  1.97s/it]"
     ]
    },
    {
     "name": "stdout",
     "output_type": "stream",
     "text": [
      "No data found for 8973.T. Skipping...\n"
     ]
    },
    {
     "name": "stderr",
     "output_type": "stream",
     "text": [
      "[*********************100%***********************]  1 of 1 completed48/4062 [57:26<53:32,  1.77s/it]\n",
      "[*********************100%***********************]  1 of 1 completed49/4062 [57:27<49:46,  1.65s/it]\n",
      "\n",
      "1 Failed download:\n",
      "['4989.T']: YFPricesMissingError('$%ticker%: possibly delisted; no price data found  (1d 2024-10-13 -> 2024-10-20)')\n",
      " 55%|████████████████████████████████▋                          | 2249/4062 [57:27<49:46,  1.65s/it]"
     ]
    },
    {
     "name": "stdout",
     "output_type": "stream",
     "text": [
      "No data found for 4989.T. Skipping...\n"
     ]
    },
    {
     "name": "stderr",
     "output_type": "stream",
     "text": [
      "[*********************100%***********************]  1 of 1 completed50/4062 [57:28<46:50,  1.55s/it]\n",
      "\n",
      "1 Failed download:\n",
      "['4850.T']: YFTzMissingError('$%ticker%: possibly delisted; no timezone found')\n",
      " 55%|████████████████████████████████▋                          | 2250/4062 [57:30<46:50,  1.55s/it]"
     ]
    },
    {
     "name": "stdout",
     "output_type": "stream",
     "text": [
      "No data found for 4850.T. Skipping...\n"
     ]
    },
    {
     "name": "stderr",
     "output_type": "stream",
     "text": [
      "[*********************100%***********************]  1 of 1 completed51/4062 [57:31<58:59,  1.95s/it]\n",
      "\n",
      "1 Failed download:\n",
      "['7855.T']: YFTzMissingError('$%ticker%: possibly delisted; no timezone found')\n",
      " 55%|████████████████████████████████▋                          | 2251/4062 [57:33<58:59,  1.95s/it]"
     ]
    },
    {
     "name": "stdout",
     "output_type": "stream",
     "text": [
      "No data found for 7855.T. Skipping...\n"
     ]
    },
    {
     "name": "stderr",
     "output_type": "stream",
     "text": [
      "[*********************100%***********************]  1 of 1 completed/4062 [57:34<1:09:22,  2.30s/it]\n",
      "[*********************100%***********************]  1 of 1 completed/4062 [57:36<1:00:44,  2.01s/it]\n",
      "[*********************100%***********************]  1 of 1 completed54/4062 [57:37<54:50,  1.82s/it]\n",
      "[*********************100%***********************]  1 of 1 completed55/4062 [57:38<50:36,  1.68s/it]\n",
      "[*********************100%***********************]  1 of 1 completed56/4062 [57:40<48:26,  1.61s/it]\n",
      "[*********************100%***********************]  1 of 1 completed57/4062 [57:41<46:48,  1.56s/it]\n",
      "[*********************100%***********************]  1 of 1 completed58/4062 [57:43<45:20,  1.51s/it]\n",
      "[*********************100%***********************]  1 of 1 completed59/4062 [57:44<44:53,  1.49s/it]\n",
      "[*********************100%***********************]  1 of 1 completed60/4062 [57:46<44:11,  1.47s/it]\n",
      "[*********************100%***********************]  1 of 1 completed61/4062 [57:47<43:02,  1.43s/it]\n",
      "[*********************100%***********************]  1 of 1 completed62/4062 [57:48<42:14,  1.41s/it]\n",
      "[*********************100%***********************]  1 of 1 completed63/4062 [57:50<44:00,  1.47s/it]\n",
      "[*********************100%***********************]  1 of 1 completed64/4062 [57:51<42:49,  1.43s/it]\n",
      "[*********************100%***********************]  1 of 1 completed65/4062 [57:53<41:55,  1.40s/it]\n",
      "[*********************100%***********************]  1 of 1 completed66/4062 [57:54<41:05,  1.37s/it]\n",
      "[*********************100%***********************]  1 of 1 completed67/4062 [57:55<40:35,  1.36s/it]\n",
      "[*********************100%***********************]  1 of 1 completed68/4062 [57:56<40:12,  1.34s/it]\n",
      "\n",
      "1 Failed download:\n",
      "['1956.T']: YFPricesMissingError('$%ticker%: possibly delisted; no price data found  (1d 2024-10-13 -> 2024-10-20)')\n",
      " 56%|████████████████████████████████▉                          | 2268/4062 [57:57<40:12,  1.34s/it]"
     ]
    },
    {
     "name": "stdout",
     "output_type": "stream",
     "text": [
      "No data found for 1956.T. Skipping...\n"
     ]
    },
    {
     "name": "stderr",
     "output_type": "stream",
     "text": [
      "[*********************100%***********************]  1 of 1 completed69/4062 [57:58<39:57,  1.34s/it]\n",
      "[*********************100%***********************]  1 of 1 completed70/4062 [57:59<39:56,  1.34s/it]\n",
      "[*********************100%***********************]  1 of 1 completed71/4062 [58:00<39:31,  1.32s/it]\n",
      "[*********************100%***********************]  1 of 1 completed72/4062 [58:02<39:55,  1.34s/it]\n",
      "[*********************100%***********************]  1 of 1 completed73/4062 [58:03<40:27,  1.36s/it]\n",
      "[*********************100%***********************]  1 of 1 completed74/4062 [58:05<41:26,  1.39s/it]\n",
      "\n",
      "1 Failed download:\n",
      "['1635.T']: YFPricesMissingError('$%ticker%: possibly delisted; no price data found  (1d 2024-10-13 -> 2024-10-20)')\n",
      " 56%|█████████████████████████████████                          | 2274/4062 [58:05<41:26,  1.39s/it]"
     ]
    },
    {
     "name": "stdout",
     "output_type": "stream",
     "text": [
      "No data found for 1635.T. Skipping...\n"
     ]
    },
    {
     "name": "stderr",
     "output_type": "stream",
     "text": [
      "[*********************100%***********************]  1 of 1 completed75/4062 [58:06<43:35,  1.46s/it]\n",
      "\n",
      "1 Failed download:\n",
      "['8190.T']: YFTzMissingError('$%ticker%: possibly delisted; no timezone found')\n",
      " 56%|█████████████████████████████████                          | 2275/4062 [58:12<43:35,  1.46s/it]"
     ]
    },
    {
     "name": "stdout",
     "output_type": "stream",
     "text": [
      "No data found for 8190.T. Skipping...\n"
     ]
    },
    {
     "name": "stderr",
     "output_type": "stream",
     "text": [
      "[*********************100%***********************]  1 of 1 completed/4062 [58:13<1:33:32,  3.14s/it]\n",
      "[*********************100%***********************]  1 of 1 completed/4062 [58:15<1:17:16,  2.60s/it]\n",
      "[*********************100%***********************]  1 of 1 completed/4062 [58:16<1:09:04,  2.32s/it]\n",
      "[*********************100%***********************]  1 of 1 completed/4062 [58:18<1:01:22,  2.07s/it]\n",
      "[*********************100%***********************]  1 of 1 completed80/4062 [58:20<58:09,  1.96s/it]\n",
      "\n",
      "1 Failed download:\n",
      "['9607.T']: YFPricesMissingError('$%ticker%: possibly delisted; no price data found  (1d 2024-10-13 -> 2024-10-20)')\n",
      " 56%|█████████████████████████████████                          | 2280/4062 [58:20<58:09,  1.96s/it]"
     ]
    },
    {
     "name": "stdout",
     "output_type": "stream",
     "text": [
      "No data found for 9607.T. Skipping...\n"
     ]
    },
    {
     "name": "stderr",
     "output_type": "stream",
     "text": [
      "[*********************100%***********************]  1 of 1 completed81/4062 [58:21<52:12,  1.76s/it]\n",
      "[*********************100%***********************]  1 of 1 completed82/4062 [58:22<48:04,  1.62s/it]\n",
      "[*********************100%***********************]  1 of 1 completed83/4062 [58:23<45:42,  1.54s/it]\n",
      "[*********************100%***********************]  1 of 1 completed84/4062 [58:25<43:38,  1.47s/it]\n",
      "[*********************100%***********************]  1 of 1 completed85/4062 [58:26<42:37,  1.44s/it]\n",
      "[*********************100%***********************]  1 of 1 completed86/4062 [58:28<42:35,  1.44s/it]\n",
      "[*********************100%***********************]  1 of 1 completed87/4062 [58:29<42:27,  1.44s/it]\n",
      "[*********************100%***********************]  1 of 1 completed88/4062 [58:30<41:35,  1.41s/it]\n",
      "[*********************100%***********************]  1 of 1 completed89/4062 [58:32<41:18,  1.40s/it]\n",
      "[*********************100%***********************]  1 of 1 completed90/4062 [58:33<41:36,  1.41s/it]\n",
      "[*********************100%***********************]  1 of 1 completed91/4062 [58:35<41:17,  1.40s/it]\n",
      "\n",
      "1 Failed download:\n",
      "['8559.T']: YFTzMissingError('$%ticker%: possibly delisted; no timezone found')\n",
      " 56%|█████████████████████████████████▎                         | 2291/4062 [58:37<41:17,  1.40s/it]"
     ]
    },
    {
     "name": "stdout",
     "output_type": "stream",
     "text": [
      "No data found for 8559.T. Skipping...\n"
     ]
    },
    {
     "name": "stderr",
     "output_type": "stream",
     "text": [
      "[*********************100%***********************]  1 of 1 completed/4062 [58:38<1:03:10,  2.14s/it]\n",
      "\n",
      "1 Failed download:\n",
      "['3408.T']: YFTzMissingError('$%ticker%: possibly delisted; no timezone found')\n",
      " 56%|████████████████████████████████▏                        | 2292/4062 [58:41<1:03:10,  2.14s/it]"
     ]
    },
    {
     "name": "stdout",
     "output_type": "stream",
     "text": [
      "No data found for 3408.T. Skipping...\n"
     ]
    },
    {
     "name": "stderr",
     "output_type": "stream",
     "text": [
      "[*********************100%***********************]  1 of 1 completed/4062 [58:42<1:11:42,  2.43s/it]\n",
      "[*********************100%***********************]  1 of 1 completed/4062 [58:43<1:02:09,  2.11s/it]\n",
      "[*********************100%***********************]  1 of 1 completed95/4062 [58:44<55:25,  1.88s/it]\n",
      "[*********************100%***********************]  1 of 1 completed96/4062 [58:46<52:53,  1.80s/it]\n",
      "[*********************100%***********************]  1 of 1 completed97/4062 [58:47<49:00,  1.67s/it]\n",
      "[*********************100%***********************]  1 of 1 completed98/4062 [58:49<46:08,  1.57s/it]\n",
      "[*********************100%***********************]  1 of 1 completed99/4062 [58:50<45:09,  1.54s/it]\n",
      "[*********************100%***********************]  1 of 1 completed00/4062 [58:51<43:19,  1.48s/it]\n",
      "[*********************100%***********************]  1 of 1 completed01/4062 [58:53<42:08,  1.44s/it]\n",
      "[*********************100%***********************]  1 of 1 completed02/4062 [58:54<41:18,  1.41s/it]\n",
      "[*********************100%***********************]  1 of 1 completed03/4062 [58:55<40:53,  1.40s/it]\n",
      "[*********************100%***********************]  1 of 1 completed04/4062 [58:57<41:12,  1.41s/it]\n",
      "[*********************100%***********************]  1 of 1 completed05/4062 [58:58<40:47,  1.39s/it]\n",
      "[*********************100%***********************]  1 of 1 completed06/4062 [59:00<40:57,  1.40s/it]\n",
      "[*********************100%***********************]  1 of 1 completed07/4062 [59:01<40:38,  1.39s/it]\n",
      "[*********************100%***********************]  1 of 1 completed08/4062 [59:02<40:26,  1.38s/it]\n",
      "[*********************100%***********************]  1 of 1 completed09/4062 [59:04<42:11,  1.44s/it]\n",
      "[*********************100%***********************]  1 of 1 completed10/4062 [59:05<41:39,  1.43s/it]\n",
      "[*********************100%***********************]  1 of 1 completed11/4062 [59:07<40:36,  1.39s/it]\n",
      "[*********************100%***********************]  1 of 1 completed12/4062 [59:08<40:08,  1.38s/it]\n",
      "[*********************100%***********************]  1 of 1 completed13/4062 [59:09<39:47,  1.36s/it]\n",
      "[*********************100%***********************]  1 of 1 completed14/4062 [59:11<39:37,  1.36s/it]\n",
      "[*********************100%***********************]  1 of 1 completed15/4062 [59:12<39:34,  1.36s/it]\n",
      "[*********************100%***********************]  1 of 1 completed16/4062 [59:13<39:24,  1.35s/it]\n",
      "[*********************100%***********************]  1 of 1 completed17/4062 [59:15<39:13,  1.35s/it]\n",
      "[*********************100%***********************]  1 of 1 completed18/4062 [59:16<39:01,  1.34s/it]\n",
      "[*********************100%***********************]  1 of 1 completed19/4062 [59:17<38:46,  1.34s/it]\n",
      "[*********************100%***********************]  1 of 1 completed20/4062 [59:19<39:38,  1.37s/it]\n",
      "[*********************100%***********************]  1 of 1 completed21/4062 [59:20<39:38,  1.37s/it]\n",
      "[*********************100%***********************]  1 of 1 completed22/4062 [59:22<41:36,  1.43s/it]\n",
      "[*********************100%***********************]  1 of 1 completed23/4062 [59:23<40:51,  1.41s/it]\n",
      "[*********************100%***********************]  1 of 1 completed24/4062 [59:24<40:11,  1.39s/it]\n",
      "[*********************100%***********************]  1 of 1 completed25/4062 [59:26<39:48,  1.38s/it]\n",
      "\n",
      "1 Failed download:\n",
      "['3316.T']: YFTzMissingError('$%ticker%: possibly delisted; no timezone found')\n",
      " 57%|█████████████████████████████████▊                         | 2325/4062 [59:28<39:48,  1.38s/it]"
     ]
    },
    {
     "name": "stdout",
     "output_type": "stream",
     "text": [
      "No data found for 3316.T. Skipping...\n"
     ]
    },
    {
     "name": "stderr",
     "output_type": "stream",
     "text": [
      "[*********************100%***********************]  1 of 1 completed26/4062 [59:29<55:35,  1.92s/it]\n",
      "[*********************100%***********************]  1 of 1 completed27/4062 [59:30<50:18,  1.74s/it]\n",
      "[*********************100%***********************]  1 of 1 completed28/4062 [59:32<46:36,  1.61s/it]\n",
      "[*********************100%***********************]  1 of 1 completed29/4062 [59:33<44:15,  1.53s/it]\n",
      "\n",
      "1 Failed download:\n",
      "['6916.T']: YFTzMissingError('$%ticker%: possibly delisted; no timezone found')\n",
      " 57%|█████████████████████████████████▊                         | 2329/4062 [59:34<44:15,  1.53s/it]"
     ]
    },
    {
     "name": "stdout",
     "output_type": "stream",
     "text": [
      "No data found for 6916.T. Skipping...\n"
     ]
    },
    {
     "name": "stderr",
     "output_type": "stream",
     "text": [
      "[*********************100%***********************]  1 of 1 completed30/4062 [59:36<53:25,  1.85s/it]\n",
      "[*********************100%***********************]  1 of 1 completed31/4062 [59:37<48:48,  1.69s/it]\n",
      "\n",
      "1 Failed download:\n",
      "['1869.T']: YFTzMissingError('$%ticker%: possibly delisted; no timezone found')\n",
      " 57%|█████████████████████████████████▊                         | 2331/4062 [59:39<48:48,  1.69s/it]"
     ]
    },
    {
     "name": "stdout",
     "output_type": "stream",
     "text": [
      "No data found for 1869.T. Skipping...\n"
     ]
    },
    {
     "name": "stderr",
     "output_type": "stream",
     "text": [
      "[*********************100%***********************]  1 of 1 completed/4062 [59:40<1:00:40,  2.10s/it]\n",
      "[*********************100%***********************]  1 of 1 completed33/4062 [59:41<54:26,  1.89s/it]\n",
      "[*********************100%***********************]  1 of 1 completed34/4062 [59:43<49:21,  1.71s/it]\n",
      "[*********************100%***********************]  1 of 1 completed35/4062 [59:44<45:54,  1.60s/it]\n",
      "\n",
      "1 Failed download:\n",
      "['4033.T']: YFTzMissingError('$%ticker%: possibly delisted; no timezone found')\n",
      " 57%|█████████████████████████████████▉                         | 2335/4062 [59:45<45:54,  1.60s/it]"
     ]
    },
    {
     "name": "stdout",
     "output_type": "stream",
     "text": [
      "No data found for 4033.T. Skipping...\n"
     ]
    },
    {
     "name": "stderr",
     "output_type": "stream",
     "text": [
      "[*********************100%***********************]  1 of 1 completed36/4062 [59:46<52:34,  1.83s/it]\n",
      "[*********************100%***********************]  1 of 1 completed37/4062 [59:48<48:17,  1.68s/it]\n",
      "\n",
      "1 Failed download:\n",
      "['6852.T']: YFTzMissingError('$%ticker%: possibly delisted; no timezone found')\n",
      " 58%|█████████████████████████████████▉                         | 2337/4062 [59:49<48:17,  1.68s/it]"
     ]
    },
    {
     "name": "stdout",
     "output_type": "stream",
     "text": [
      "No data found for 6852.T. Skipping...\n"
     ]
    },
    {
     "name": "stderr",
     "output_type": "stream",
     "text": [
      "[*********************100%***********************]  1 of 1 completed38/4062 [59:50<52:16,  1.82s/it]\n",
      "[*********************100%***********************]  1 of 1 completed39/4062 [59:51<48:28,  1.69s/it]\n",
      "[*********************100%***********************]  1 of 1 completed40/4062 [59:52<45:18,  1.58s/it]\n",
      "[*********************100%***********************]  1 of 1 completed41/4062 [59:54<43:05,  1.50s/it]\n",
      "\n",
      "1 Failed download:\n",
      "['9957.T']: YFTzMissingError('$%ticker%: possibly delisted; no timezone found')\n",
      " 58%|██████████████████████████████████                         | 2341/4062 [59:55<43:05,  1.50s/it]"
     ]
    },
    {
     "name": "stdout",
     "output_type": "stream",
     "text": [
      "No data found for 9957.T. Skipping...\n"
     ]
    },
    {
     "name": "stderr",
     "output_type": "stream",
     "text": [
      "[*********************100%***********************]  1 of 1 completed42/4062 [59:56<49:47,  1.74s/it]\n",
      "[*********************100%***********************]  1 of 1 completed43/4062 [59:57<46:11,  1.61s/it]\n",
      "[*********************100%***********************]  1 of 1 completed44/4062 [59:59<43:55,  1.53s/it]\n",
      "[*********************100%***********************]  1 of 1 completed/4062 [1:00:00<42:55,  1.50s/it]\n",
      "[*********************100%***********************]  1 of 1 completed/4062 [1:00:02<41:48,  1.46s/it]\n",
      "\n",
      "1 Failed download:\n",
      "['9966.T']: YFTzMissingError('$%ticker%: possibly delisted; no timezone found')\n",
      " 58%|████████████████████████████████▉                        | 2346/4062 [1:00:03<41:48,  1.46s/it]"
     ]
    },
    {
     "name": "stdout",
     "output_type": "stream",
     "text": [
      "No data found for 9966.T. Skipping...\n"
     ]
    },
    {
     "name": "stderr",
     "output_type": "stream",
     "text": [
      "[*********************100%***********************]  1 of 1 completed/4062 [1:00:04<47:56,  1.68s/it]\n",
      "[*********************100%***********************]  1 of 1 completed/4062 [1:00:05<45:07,  1.58s/it]\n",
      "[*********************100%***********************]  1 of 1 completed/4062 [1:00:06<43:29,  1.52s/it]\n",
      "[*********************100%***********************]  1 of 1 completed/4062 [1:00:08<41:36,  1.46s/it]\n",
      "\n",
      "1 Failed download:\n",
      "['2468.T']: YFPricesMissingError('$%ticker%: possibly delisted; no price data found  (1d 2024-10-13 -> 2024-10-20)')\n",
      " 58%|████████████████████████████████▉                        | 2350/4062 [1:00:08<41:36,  1.46s/it]"
     ]
    },
    {
     "name": "stdout",
     "output_type": "stream",
     "text": [
      "No data found for 2468.T. Skipping...\n"
     ]
    },
    {
     "name": "stderr",
     "output_type": "stream",
     "text": [
      "[*********************100%***********************]  1 of 1 completed/4062 [1:00:09<40:18,  1.41s/it]\n",
      "[*********************100%***********************]  1 of 1 completed/4062 [1:00:10<39:48,  1.40s/it]\n",
      "[*********************100%***********************]  1 of 1 completed/4062 [1:00:12<38:59,  1.37s/it]\n",
      "[*********************100%***********************]  1 of 1 completed/4062 [1:00:13<38:43,  1.36s/it]\n",
      "[*********************100%***********************]  1 of 1 completed/4062 [1:00:14<38:39,  1.36s/it]\n",
      "[*********************100%***********************]  1 of 1 completed/4062 [1:00:16<38:30,  1.35s/it]\n",
      "[*********************100%***********************]  1 of 1 completed/4062 [1:00:17<38:24,  1.35s/it]\n",
      "\n",
      "1 Failed download:\n",
      "['3938.T']: YFTzMissingError('$%ticker%: possibly delisted; no timezone found')\n",
      " 58%|█████████████████████████████████                        | 2357/4062 [1:00:18<38:24,  1.35s/it]"
     ]
    },
    {
     "name": "stdout",
     "output_type": "stream",
     "text": [
      "No data found for 3938.T. Skipping...\n"
     ]
    },
    {
     "name": "stderr",
     "output_type": "stream",
     "text": [
      "[*********************100%***********************]  1 of 1 completed/4062 [1:00:19<45:38,  1.61s/it]\n",
      "[*********************100%***********************]  1 of 1 completed/4062 [1:00:21<43:16,  1.52s/it]\n",
      "\n",
      "1 Failed download:\n",
      "['2467.T']: YFTzMissingError('$%ticker%: possibly delisted; no timezone found')\n",
      " 58%|█████████████████████████████████                        | 2359/4062 [1:00:23<43:16,  1.52s/it]"
     ]
    },
    {
     "name": "stdout",
     "output_type": "stream",
     "text": [
      "No data found for 2467.T. Skipping...\n"
     ]
    },
    {
     "name": "stderr",
     "output_type": "stream",
     "text": [
      "[*********************100%***********************]  1 of 1 completed062 [1:00:24<1:02:12,  2.19s/it]\n",
      "\n",
      "1 Failed download:\n",
      "['1937.T']: YFPricesMissingError('$%ticker%: possibly delisted; no price data found  (1d 2024-10-13 -> 2024-10-20)')\n",
      " 58%|███████████████████████████████▉                       | 2360/4062 [1:00:25<1:02:12,  2.19s/it]"
     ]
    },
    {
     "name": "stdout",
     "output_type": "stream",
     "text": [
      "No data found for 1937.T. Skipping...\n"
     ]
    },
    {
     "name": "stderr",
     "output_type": "stream",
     "text": [
      "[*********************100%***********************]  1 of 1 completed/4062 [1:00:26<54:45,  1.93s/it]\n",
      "[*********************100%***********************]  1 of 1 completed/4062 [1:00:27<49:31,  1.75s/it]\n",
      "[*********************100%***********************]  1 of 1 completed/4062 [1:00:28<46:03,  1.63s/it]\n",
      "[*********************100%***********************]  1 of 1 completed/4062 [1:00:30<43:39,  1.54s/it]\n",
      "[*********************100%***********************]  1 of 1 completed/4062 [1:00:31<41:36,  1.47s/it]\n",
      "[*********************100%***********************]  1 of 1 completed/4062 [1:00:32<40:17,  1.43s/it]\n",
      "[*********************100%***********************]  1 of 1 completed/4062 [1:00:34<39:14,  1.39s/it]\n",
      "[*********************100%***********************]  1 of 1 completed/4062 [1:00:35<39:20,  1.39s/it]\n",
      "[*********************100%***********************]  1 of 1 completed/4062 [1:00:36<38:35,  1.37s/it]\n",
      "\n",
      "1 Failed download:\n",
      "['2714.T']: YFTzMissingError('$%ticker%: possibly delisted; no timezone found')\n",
      " 58%|█████████████████████████████████▏                       | 2369/4062 [1:00:38<38:35,  1.37s/it]"
     ]
    },
    {
     "name": "stdout",
     "output_type": "stream",
     "text": [
      "No data found for 2714.T. Skipping...\n"
     ]
    },
    {
     "name": "stderr",
     "output_type": "stream",
     "text": [
      "[*********************100%***********************]  1 of 1 completed/4062 [1:00:39<47:10,  1.67s/it]\n",
      "\n",
      "1 Failed download:\n",
      "['3775.T']: YFTzMissingError('$%ticker%: possibly delisted; no timezone found')\n",
      " 58%|█████████████████████████████████▎                       | 2370/4062 [1:00:40<47:10,  1.67s/it]"
     ]
    },
    {
     "name": "stdout",
     "output_type": "stream",
     "text": [
      "No data found for 3775.T. Skipping...\n"
     ]
    },
    {
     "name": "stderr",
     "output_type": "stream",
     "text": [
      "[*********************100%***********************]  1 of 1 completed/4062 [1:00:41<51:30,  1.83s/it]\n",
      "[*********************100%***********************]  1 of 1 completed/4062 [1:00:42<47:15,  1.68s/it]\n",
      "\n",
      "1 Failed download:\n",
      "['1589.T']: YFTzMissingError('$%ticker%: possibly delisted; no timezone found')\n",
      " 58%|█████████████████████████████████▎                       | 2372/4062 [1:00:44<47:15,  1.68s/it]"
     ]
    },
    {
     "name": "stdout",
     "output_type": "stream",
     "text": [
      "No data found for 1589.T. Skipping...\n"
     ]
    },
    {
     "name": "stderr",
     "output_type": "stream",
     "text": [
      "[*********************100%***********************]  1 of 1 completed/4062 [1:00:45<54:37,  1.94s/it]\n",
      "[*********************100%***********************]  1 of 1 completed/4062 [1:00:46<49:38,  1.76s/it]\n",
      "\n",
      "1 Failed download:\n",
      "['8298.T']: YFTzMissingError('$%ticker%: possibly delisted; no timezone found')\n",
      " 58%|█████████████████████████████████▎                       | 2374/4062 [1:00:48<49:38,  1.76s/it]"
     ]
    },
    {
     "name": "stdout",
     "output_type": "stream",
     "text": [
      "No data found for 8298.T. Skipping...\n"
     ]
    },
    {
     "name": "stderr",
     "output_type": "stream",
     "text": [
      "[*********************100%***********************]  1 of 1 completed/4062 [1:00:49<57:46,  2.05s/it]\n",
      "[*********************100%***********************]  1 of 1 completed/4062 [1:00:50<51:44,  1.84s/it]\n",
      "[*********************100%***********************]  1 of 1 completed/4062 [1:00:52<47:24,  1.69s/it]\n",
      "[*********************100%***********************]  1 of 1 completed/4062 [1:00:53<44:03,  1.57s/it]\n",
      "[*********************100%***********************]  1 of 1 completed/4062 [1:00:54<42:17,  1.51s/it]\n",
      "[*********************100%***********************]  1 of 1 completed/4062 [1:00:56<40:47,  1.45s/it]\n",
      "[*********************100%***********************]  1 of 1 completed/4062 [1:00:57<39:43,  1.42s/it]\n",
      "[*********************100%***********************]  1 of 1 completed/4062 [1:00:58<39:22,  1.41s/it]\n",
      "[*********************100%***********************]  1 of 1 completed/4062 [1:01:00<39:18,  1.40s/it]\n",
      "[*********************100%***********************]  1 of 1 completed/4062 [1:01:01<38:40,  1.38s/it]\n",
      "[*********************100%***********************]  1 of 1 completed/4062 [1:01:02<39:14,  1.40s/it]\n",
      "\n",
      "1 Failed download:\n",
      "['1590.T']: YFTzMissingError('$%ticker%: possibly delisted; no timezone found')\n",
      " 59%|█████████████████████████████████▍                       | 2385/4062 [1:01:04<39:14,  1.40s/it]"
     ]
    },
    {
     "name": "stdout",
     "output_type": "stream",
     "text": [
      "No data found for 1590.T. Skipping...\n"
     ]
    },
    {
     "name": "stderr",
     "output_type": "stream",
     "text": [
      "[*********************100%***********************]  1 of 1 completed/4062 [1:01:05<45:47,  1.64s/it]\n",
      "[*********************100%***********************]  1 of 1 completed/4062 [1:01:06<43:22,  1.55s/it]\n",
      "[*********************100%***********************]  1 of 1 completed/4062 [1:01:07<41:28,  1.49s/it]\n",
      "[*********************100%***********************]  1 of 1 completed/4062 [1:01:09<39:50,  1.43s/it]\n",
      "\n",
      "1 Failed download:\n",
      "['1427.T']: YFTzMissingError('$%ticker%: possibly delisted; no timezone found')\n",
      " 59%|█████████████████████████████████▌                       | 2389/4062 [1:01:10<39:50,  1.43s/it]"
     ]
    },
    {
     "name": "stdout",
     "output_type": "stream",
     "text": [
      "No data found for 1427.T. Skipping...\n"
     ]
    },
    {
     "name": "stderr",
     "output_type": "stream",
     "text": [
      "[*********************100%***********************]  1 of 1 completed/4062 [1:01:11<49:22,  1.77s/it]\n",
      "\n",
      "1 Failed download:\n",
      "['9836.T']: YFTzMissingError('$%ticker%: possibly delisted; no timezone found')\n",
      " 59%|█████████████████████████████████▌                       | 2390/4062 [1:01:12<49:22,  1.77s/it]"
     ]
    },
    {
     "name": "stdout",
     "output_type": "stream",
     "text": [
      "No data found for 9836.T. Skipping...\n"
     ]
    },
    {
     "name": "stderr",
     "output_type": "stream",
     "text": [
      "[*********************100%***********************]  1 of 1 completed/4062 [1:01:13<52:08,  1.87s/it]\n",
      "\n",
      "1 Failed download:\n",
      "['4291.T']: YFTzMissingError('$%ticker%: possibly delisted; no timezone found')\n",
      " 59%|█████████████████████████████████▌                       | 2391/4062 [1:01:15<52:08,  1.87s/it]"
     ]
    },
    {
     "name": "stdout",
     "output_type": "stream",
     "text": [
      "No data found for 4291.T. Skipping...\n"
     ]
    },
    {
     "name": "stderr",
     "output_type": "stream",
     "text": [
      "[*********************100%***********************]  1 of 1 completed/4062 [1:01:16<54:57,  1.97s/it]\n",
      "[*********************100%***********************]  1 of 1 completed/4062 [1:01:17<49:36,  1.78s/it]\n",
      "[*********************100%***********************]  1 of 1 completed/4062 [1:01:18<45:58,  1.65s/it]\n",
      "[*********************100%***********************]  1 of 1 completed/4062 [1:01:20<43:06,  1.55s/it]\n",
      "\n",
      "1 Failed download:\n",
      "['6478.T']: YFPricesMissingError('$%ticker%: possibly delisted; no price data found  (1d 2024-10-13 -> 2024-10-20)')\n",
      " 59%|█████████████████████████████████▌                       | 2395/4062 [1:01:20<43:06,  1.55s/it]"
     ]
    },
    {
     "name": "stdout",
     "output_type": "stream",
     "text": [
      "No data found for 6478.T. Skipping...\n"
     ]
    },
    {
     "name": "stderr",
     "output_type": "stream",
     "text": [
      "[*********************100%***********************]  1 of 1 completed/4062 [1:01:21<41:15,  1.49s/it]\n",
      "\n",
      "1 Failed download:\n",
      "['2658.T']: YFTzMissingError('$%ticker%: possibly delisted; no timezone found')\n",
      " 59%|█████████████████████████████████▌                       | 2396/4062 [1:01:22<41:15,  1.49s/it]"
     ]
    },
    {
     "name": "stdout",
     "output_type": "stream",
     "text": [
      "No data found for 2658.T. Skipping...\n"
     ]
    },
    {
     "name": "stderr",
     "output_type": "stream",
     "text": [
      "[*********************100%***********************]  1 of 1 completed/4062 [1:01:23<48:09,  1.74s/it]\n",
      "[*********************100%***********************]  1 of 1 completed/4062 [1:01:25<44:39,  1.61s/it]\n",
      "[*********************100%***********************]  1 of 1 completed/4062 [1:01:26<42:25,  1.53s/it]\n",
      "[*********************100%***********************]  1 of 1 completed/4062 [1:01:27<41:06,  1.48s/it]\n",
      "[*********************100%***********************]  1 of 1 completed/4062 [1:01:29<39:20,  1.42s/it]\n",
      "\n",
      "1 Failed download:\n",
      "['6878.T']: YFPricesMissingError('$%ticker%: possibly delisted; no price data found  (1d 2024-10-13 -> 2024-10-20)')\n",
      " 59%|█████████████████████████████████▋                       | 2401/4062 [1:01:29<39:20,  1.42s/it]"
     ]
    },
    {
     "name": "stdout",
     "output_type": "stream",
     "text": [
      "No data found for 6878.T. Skipping...\n"
     ]
    },
    {
     "name": "stderr",
     "output_type": "stream",
     "text": [
      "[*********************100%***********************]  1 of 1 completed/4062 [1:01:30<38:01,  1.37s/it]\n",
      "[*********************100%***********************]  1 of 1 completed/4062 [1:01:31<37:44,  1.36s/it]\n",
      "[*********************100%***********************]  1 of 1 completed/4062 [1:01:32<37:24,  1.35s/it]\n",
      "\n",
      "1 Failed download:\n",
      "['3419.T']: YFTzMissingError('$%ticker%: possibly delisted; no timezone found')\n",
      " 59%|█████████████████████████████████▋                       | 2404/4062 [1:01:34<37:24,  1.35s/it]"
     ]
    },
    {
     "name": "stdout",
     "output_type": "stream",
     "text": [
      "No data found for 3419.T. Skipping...\n"
     ]
    },
    {
     "name": "stderr",
     "output_type": "stream",
     "text": [
      "[*********************100%***********************]  1 of 1 completed/4062 [1:01:35<45:09,  1.64s/it]\n",
      "[*********************100%***********************]  1 of 1 completed/4062 [1:01:36<42:36,  1.54s/it]\n",
      "[*********************100%***********************]  1 of 1 completed/4062 [1:01:37<40:57,  1.48s/it]\n",
      "[*********************100%***********************]  1 of 1 completed/4062 [1:01:39<39:36,  1.44s/it]\n",
      "[*********************100%***********************]  1 of 1 completed/4062 [1:01:40<38:32,  1.40s/it]\n",
      "\n",
      "1 Failed download:\n",
      "['3171.T']: YFTzMissingError('$%ticker%: possibly delisted; no timezone found')\n",
      " 59%|█████████████████████████████████▊                       | 2409/4062 [1:01:42<38:32,  1.40s/it]"
     ]
    },
    {
     "name": "stdout",
     "output_type": "stream",
     "text": [
      "No data found for 3171.T. Skipping...\n"
     ]
    },
    {
     "name": "stderr",
     "output_type": "stream",
     "text": [
      "[*********************100%***********************]  1 of 1 completed/4062 [1:01:43<47:51,  1.74s/it]\n",
      "[*********************100%***********************]  1 of 1 completed/4062 [1:01:44<44:32,  1.62s/it]\n",
      "[*********************100%***********************]  1 of 1 completed/4062 [1:01:45<42:19,  1.54s/it]\n",
      "[*********************100%***********************]  1 of 1 completed/4062 [1:01:47<40:40,  1.48s/it]\n",
      "[*********************100%***********************]  1 of 1 completed/4062 [1:01:48<39:30,  1.44s/it]\n",
      "\n",
      "1 Failed download:\n",
      "['2786.T']: YFTzMissingError('$%ticker%: possibly delisted; no timezone found')\n",
      " 59%|█████████████████████████████████▊                       | 2414/4062 [1:01:49<39:30,  1.44s/it]"
     ]
    },
    {
     "name": "stdout",
     "output_type": "stream",
     "text": [
      "No data found for 2786.T. Skipping...\n"
     ]
    },
    {
     "name": "stderr",
     "output_type": "stream",
     "text": [
      "[*********************100%***********************]  1 of 1 completed/4062 [1:01:50<48:18,  1.76s/it]\n",
      "[*********************100%***********************]  1 of 1 completed/4062 [1:01:52<44:47,  1.63s/it]\n",
      "[*********************100%***********************]  1 of 1 completed/4062 [1:01:53<42:09,  1.54s/it]\n",
      "\n",
      "1 Failed download:\n",
      "['5398.T']: YFTzMissingError('$%ticker%: possibly delisted; no timezone found')\n",
      " 60%|█████████████████████████████████▉                       | 2417/4062 [1:01:55<42:09,  1.54s/it]"
     ]
    },
    {
     "name": "stdout",
     "output_type": "stream",
     "text": [
      "No data found for 5398.T. Skipping...\n"
     ]
    },
    {
     "name": "stderr",
     "output_type": "stream",
     "text": [
      "[*********************100%***********************]  1 of 1 completed/4062 [1:01:56<50:06,  1.83s/it]\n",
      "[*********************100%***********************]  1 of 1 completed/4062 [1:01:57<45:55,  1.68s/it]\n",
      "[*********************100%***********************]  1 of 1 completed/4062 [1:01:58<42:48,  1.56s/it]\n",
      "[*********************100%***********************]  1 of 1 completed/4062 [1:02:00<41:08,  1.50s/it]\n",
      "\n",
      "1 Failed download:\n",
      "['4807.T']: YFTzMissingError('$%ticker%: possibly delisted; no timezone found')\n",
      " 60%|█████████████████████████████████▉                       | 2421/4062 [1:02:01<41:08,  1.50s/it]"
     ]
    },
    {
     "name": "stdout",
     "output_type": "stream",
     "text": [
      "No data found for 4807.T. Skipping...\n"
     ]
    },
    {
     "name": "stderr",
     "output_type": "stream",
     "text": [
      "[*********************100%***********************]  1 of 1 completed/4062 [1:02:02<49:59,  1.83s/it]\n",
      "[*********************100%***********************]  1 of 1 completed/4062 [1:02:04<45:59,  1.68s/it]\n",
      "[*********************100%***********************]  1 of 1 completed/4062 [1:02:05<43:19,  1.59s/it]\n",
      "[*********************100%***********************]  1 of 1 completed/4062 [1:02:06<41:07,  1.51s/it]\n",
      "[*********************100%***********************]  1 of 1 completed/4062 [1:02:08<39:44,  1.46s/it]\n",
      "[*********************100%***********************]  1 of 1 completed/4062 [1:02:09<38:40,  1.42s/it]\n",
      "[*********************100%***********************]  1 of 1 completed/4062 [1:02:10<38:26,  1.41s/it]\n",
      "[*********************100%***********************]  1 of 1 completed/4062 [1:02:12<38:01,  1.40s/it]\n",
      "[*********************100%***********************]  1 of 1 completed/4062 [1:02:13<37:24,  1.38s/it]\n",
      "[*********************100%***********************]  1 of 1 completed/4062 [1:02:14<36:54,  1.36s/it]\n",
      "[*********************100%***********************]  1 of 1 completed/4062 [1:02:16<36:21,  1.34s/it]\n",
      "[*********************100%***********************]  1 of 1 completed/4062 [1:02:17<36:58,  1.36s/it]\n",
      "[*********************100%***********************]  1 of 1 completed/4062 [1:02:18<36:23,  1.34s/it]\n",
      "[*********************100%***********************]  1 of 1 completed/4062 [1:02:20<35:56,  1.33s/it]\n",
      "[*********************100%***********************]  1 of 1 completed/4062 [1:02:21<35:40,  1.32s/it]\n",
      "[*********************100%***********************]  1 of 1 completed/4062 [1:02:22<35:36,  1.31s/it]\n",
      "[*********************100%***********************]  1 of 1 completed/4062 [1:02:24<35:48,  1.32s/it]\n",
      "[*********************100%***********************]  1 of 1 completed/4062 [1:02:25<35:54,  1.33s/it]\n",
      "\n",
      "1 Failed download:\n",
      "['4514.T']: YFTzMissingError('$%ticker%: possibly delisted; no timezone found')\n",
      " 60%|██████████████████████████████████▏                      | 2439/4062 [1:02:26<35:54,  1.33s/it]"
     ]
    },
    {
     "name": "stdout",
     "output_type": "stream",
     "text": [
      "No data found for 4514.T. Skipping...\n"
     ]
    },
    {
     "name": "stderr",
     "output_type": "stream",
     "text": [
      "[*********************100%***********************]  1 of 1 completed/4062 [1:02:27<42:58,  1.59s/it]\n",
      "[*********************100%***********************]  1 of 1 completed/4062 [1:02:28<40:55,  1.51s/it]\n",
      "[*********************100%***********************]  1 of 1 completed/4062 [1:02:30<39:28,  1.46s/it]\n",
      "\n",
      "1 Failed download:\n",
      "['2551.T']: YFTzMissingError('$%ticker%: possibly delisted; no timezone found')\n",
      " 60%|██████████████████████████████████▎                      | 2442/4062 [1:02:31<39:28,  1.46s/it]"
     ]
    },
    {
     "name": "stdout",
     "output_type": "stream",
     "text": [
      "No data found for 2551.T. Skipping...\n"
     ]
    },
    {
     "name": "stderr",
     "output_type": "stream",
     "text": [
      "[*********************100%***********************]  1 of 1 completed/4062 [1:02:32<49:32,  1.84s/it]\n",
      "[*********************100%***********************]  1 of 1 completed/4062 [1:02:34<45:23,  1.68s/it]\n",
      "[*********************100%***********************]  1 of 1 completed/4062 [1:02:35<42:22,  1.57s/it]\n",
      "[*********************100%***********************]  1 of 1 completed/4062 [1:02:37<43:23,  1.61s/it]\n",
      "[*********************100%***********************]  1 of 1 completed/4062 [1:02:38<41:01,  1.52s/it]\n",
      "\n",
      "1 Failed download:\n",
      "['1919.T']: YFPricesMissingError('$%ticker%: possibly delisted; no price data found  (1d 2024-10-13 -> 2024-10-20)')\n",
      " 60%|██████████████████████████████████▎                      | 2447/4062 [1:02:38<41:01,  1.52s/it]"
     ]
    },
    {
     "name": "stdout",
     "output_type": "stream",
     "text": [
      "No data found for 1919.T. Skipping...\n"
     ]
    },
    {
     "name": "stderr",
     "output_type": "stream",
     "text": [
      "[*********************100%***********************]  1 of 1 completed/4062 [1:02:39<39:01,  1.45s/it]\n",
      "[*********************100%***********************]  1 of 1 completed/4062 [1:02:41<37:55,  1.41s/it]\n",
      "\n",
      "1 Failed download:\n",
      "['3756.T']: YFTzMissingError('$%ticker%: possibly delisted; no timezone found')\n",
      " 60%|██████████████████████████████████▎                      | 2449/4062 [1:02:43<37:55,  1.41s/it]"
     ]
    },
    {
     "name": "stdout",
     "output_type": "stream",
     "text": [
      "No data found for 3756.T. Skipping...\n"
     ]
    },
    {
     "name": "stderr",
     "output_type": "stream",
     "text": [
      "[*********************100%***********************]  1 of 1 completed/4062 [1:02:44<51:17,  1.91s/it]\n",
      "[*********************100%***********************]  1 of 1 completed/4062 [1:02:45<46:35,  1.74s/it]\n",
      "[*********************100%***********************]  1 of 1 completed/4062 [1:02:46<43:21,  1.62s/it]\n",
      "\n",
      "1 Failed download:\n",
      "['4581.T']: YFTzMissingError('$%ticker%: possibly delisted; no timezone found')\n",
      " 60%|██████████████████████████████████▍                      | 2452/4062 [1:02:48<43:21,  1.62s/it]"
     ]
    },
    {
     "name": "stdout",
     "output_type": "stream",
     "text": [
      "No data found for 4581.T. Skipping...\n"
     ]
    },
    {
     "name": "stderr",
     "output_type": "stream",
     "text": [
      "[*********************100%***********************]  1 of 1 completed/4062 [1:02:49<51:04,  1.90s/it]\n",
      "[*********************100%***********************]  1 of 1 completed/4062 [1:02:50<46:15,  1.73s/it]\n",
      "[*********************100%***********************]  1 of 1 completed/4062 [1:02:52<43:01,  1.61s/it]\n",
      "[*********************100%***********************]  1 of 1 completed/4062 [1:02:53<41:28,  1.55s/it]\n",
      " 60%|██████████████████████████████████▍                      | 2457/4062 [1:02:54<39:45,  1.49s/it]"
     ]
    }
   ],
   "source": [
    "import os\n",
    "import pandas as pd\n",
    "import yfinance as yf\n",
    "from google.cloud import bigquery\n",
    "from google.cloud import storage\n",
    "import datetime as dt\n",
    "import time\n",
    "from tqdm import tqdm\n",
    "from google.oauth2 import service_account\n",
    "\n",
    "class GCSBigQueryFacade:\n",
    "    def __init__(self, project_id, dataset_name, table_name, bucket_name):\n",
    "        self.project_id = project_id\n",
    "        self.dataset_name = dataset_name\n",
    "        self.table_name = table_name\n",
    "        self.bucket_name = bucket_name\n",
    "\n",
    "        # 環境変数からサービスアカウント情報を取得\n",
    "        service_account_info = {\n",
    "            \"type\": \"service_account\",\n",
    "            \"project_id\": os.environ.get(\"GCP_PROJECT_ID\"),\n",
    "            \"private_key_id\": os.environ.get(\"GCP_PRIVATE_KEY_ID\"),\n",
    "            \"private_key\": os.environ.get(\"GCP_PRIVATE_KEY\").replace('\\\\n', '\\n'),\n",
    "            \"client_email\": os.environ.get(\"GCP_CLIENT_EMAIL\"),\n",
    "            \"client_id\": os.environ.get(\"GCP_CLIENT_ID\"),\n",
    "            \"auth_uri\": os.environ.get(\"GCP_AUTH_URI\"),\n",
    "            \"token_uri\": os.environ.get(\"GCP_TOKEN_URI\"),\n",
    "            \"auth_provider_x509_cert_url\": os.environ.get(\"GCP_AUTH_PROVIDER_X509_CERT_URL\"),\n",
    "            \"client_x509_cert_url\": os.environ.get(\"GCP_CLIENT_X509_CERT_URL\")\n",
    "        }\n",
    "        credentials = service_account.Credentials.from_service_account_info(service_account_info)\n",
    "\n",
    "        # BigQueryクライアントとStorageクライアントの初期化\n",
    "        self.bq_client = bigquery.Client(credentials=credentials, project=service_account_info[\"project_id\"])\n",
    "        self.storage_client = storage.Client(credentials=credentials, project=service_account_info[\"project_id\"])\n",
    "\n",
    "    def get_max_date_from_bq(self):\n",
    "        query = f\"\"\"\n",
    "            SELECT MAX(Date) as max_date \n",
    "            FROM `{self.project_id}.{self.dataset_name}.{self.table_name}`\n",
    "        \"\"\"\n",
    "        query_job = self.bq_client.query(query)\n",
    "        results = query_job.result()\n",
    "        for row in results:\n",
    "            return row['max_date']\n",
    "\n",
    "    def upload_to_gcs(self, local_file_path, destination_blob_name):\n",
    "        bucket = self.storage_client.bucket(self.bucket_name)\n",
    "        blob = bucket.blob(destination_blob_name)\n",
    "        blob.upload_from_filename(local_file_path)\n",
    "        tqdm.write(f\"File {local_file_path} uploaded to {destination_blob_name}.\")\n",
    "\n",
    "    def delete_from_gcs(self, file_name):\n",
    "        bucket = self.storage_client.bucket(self.bucket_name)\n",
    "        blob = bucket.blob(file_name)\n",
    "        if blob.exists():\n",
    "            blob.delete()\n",
    "            tqdm.write(f\"Deleted {file_name} from GCS.\")\n",
    "\n",
    "def suppress_yfinance_warnings():\n",
    "    import logging\n",
    "    yf_logger = logging.getLogger(\"yfinance\")\n",
    "    yf_logger.setLevel(logging.ERROR)\n",
    "\n",
    "def main():\n",
    "    suppress_yfinance_warnings()\n",
    "\n",
    "    # BigQueryとGCSの設定\n",
    "    PROJECT_ID = os.environ.get(\"GCP_PROJECT_ID\")\n",
    "    DATASET_NAME = 'stock_dataset'\n",
    "    BUCKET_NAME = 'stock-data-bucket_hopop'\n",
    "    TABLE_NAME = 'stock_data'\n",
    "\n",
    "    # GCS & BigQuery操作のためのファサードを初期化\n",
    "    gcs_bq = GCSBigQueryFacade(PROJECT_ID, DATASET_NAME, TABLE_NAME, BUCKET_NAME)\n",
    "\n",
    "    # BigQueryから最大の日付を取得\n",
    "    max_date = gcs_bq.get_max_date_from_bq()\n",
    "    \n",
    "    if max_date:\n",
    "        # max_dateを文字列からdatetime型に変換\n",
    "        max_date = pd.to_datetime(max_date).date()\n",
    "        START_DATE = max_date + dt.timedelta(days=2)\n",
    "    else:\n",
    "        # データがない場合、デフォルトの開始日\n",
    "        START_DATE = dt.date(2024, 1, 1)\n",
    "\n",
    "    END_DATE = dt.date.today()\n",
    "\n",
    "    # START_DATE == END_DATEの場合、処理をスキップ\n",
    "    if START_DATE >= END_DATE:\n",
    "        tqdm.write(\"最新データが既に存在します。新しいデータはありません。\")\n",
    "        return\n",
    "\n",
    "    # GCS上のファイルが存在するかを確認し、削除\n",
    "    combined_file_name = \"combined_stock_data.parquet\"\n",
    "    gcs_bq.delete_from_gcs(combined_file_name)\n",
    "\n",
    "    # CSVファイルのパス\n",
    "    STOCK_MAPPING_CSV = '../stock_code_name_mapping.csv'\n",
    "\n",
    "    # CSVファイルの読み込み\n",
    "    stock_names_df = pd.read_csv(STOCK_MAPPING_CSV, usecols=['code', 'name'])\n",
    "\n",
    "    # すべての銘柄のデータを結合するためのデータフレームを準備\n",
    "    combined_df = pd.DataFrame()\n",
    "\n",
    "    # tqdmを使用して進捗を可視化（バーを最上部に固定）\n",
    "    progress_bar = tqdm(stock_names_df.iterrows(), total=len(stock_names_df), ncols=100, leave=True, position=0)\n",
    "\n",
    "    for index, row in progress_bar:\n",
    "        stock_code = str(row['code']).strip()\n",
    "        ticker = f\"{stock_code}.T\"  # 東証の場合、ティッカーは通常「.T」が付加されます\n",
    "        \n",
    "        # 株価データの取得\n",
    "        df = yf.download(ticker, start=START_DATE, end=END_DATE)\n",
    "\n",
    "        if df.empty:\n",
    "            tqdm.write(f\"No data found for {ticker}. Skipping...\")\n",
    "        else:\n",
    "            # データフレームの前処理\n",
    "            df.reset_index(inplace=True)\n",
    "            df = df.rename(columns={\n",
    "                'Date': 'Date',\n",
    "                'Open': 'Open',\n",
    "                'High': 'High',\n",
    "                'Low': 'Low',\n",
    "                'Close': 'Close',\n",
    "                'Adj Close': 'Adj_Close',\n",
    "                'Volume': 'Volume'\n",
    "            })\n",
    "            df['Stock_Code'] = stock_code\n",
    "    \n",
    "            # 必要なカラムのみを選択\n",
    "            df = df[['Date', 'Stock_Code', 'Open', 'High', 'Low', 'Close', 'Adj_Close', 'Volume']]\n",
    "            df['Date'] = pd.to_datetime(df['Date']).dt.strftime('%Y-%m-%d')\n",
    "            \n",
    "            # データを結合\n",
    "            combined_df = pd.concat([combined_df, df], ignore_index=True)\n",
    "        \n",
    "        # Yahoo Finance APIの制限を避けるために1秒スリープ\n",
    "        time.sleep(1)\n",
    "    \n",
    "    progress_bar.close()\n",
    "\n",
    "    if not combined_df.empty:\n",
    "        # すべての銘柄データを一度にまとめてParquetファイルとして保存\n",
    "        local_file_name = f\"combined_stock_data.parquet\"\n",
    "        local_file_path = f\"./output/{local_file_name}\"\n",
    "        os.makedirs(os.path.dirname(local_file_path), exist_ok=True)\n",
    "        \n",
    "        # Parquet形式で保存\n",
    "        combined_df.to_parquet(local_file_path, engine='pyarrow', index=False)\n",
    "        \n",
    "        # GCSへのアップロード\n",
    "        gcs_bq.upload_to_gcs(local_file_path, combined_file_name)\n",
    "        \n",
    "        # BigQueryへのデータロード\n",
    "        source_uri = f\"gs://{BUCKET_NAME}/{combined_file_name}\"\n",
    "        gcs_bq.load_data_to_bigquery(source_uri)\n",
    "    else:\n",
    "        tqdm.write(\"combined_dfが空です。処理をスキップします。\")\n",
    "\n",
    "if __name__ == \"__main__\":\n",
    "    main()\n"
   ]
  },
  {
   "cell_type": "code",
   "execution_count": null,
   "id": "eaa13f4a-6823-4ed2-aaa2-6f20dd110e59",
   "metadata": {},
   "outputs": [],
   "source": []
  }
 ],
 "metadata": {
  "kernelspec": {
   "display_name": "Python 3 (ipykernel)",
   "language": "python",
   "name": "python3"
  },
  "language_info": {
   "codemirror_mode": {
    "name": "ipython",
    "version": 3
   },
   "file_extension": ".py",
   "mimetype": "text/x-python",
   "name": "python",
   "nbconvert_exporter": "python",
   "pygments_lexer": "ipython3",
   "version": "3.9.20"
  }
 },
 "nbformat": 4,
 "nbformat_minor": 5
}
